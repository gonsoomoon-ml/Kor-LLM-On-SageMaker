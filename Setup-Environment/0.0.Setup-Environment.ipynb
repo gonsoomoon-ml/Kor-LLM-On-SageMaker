{
 "cells": [
  {
   "cell_type": "markdown",
   "id": "c1af41d6",
   "metadata": {},
   "source": [
    "# [Module 0.0] 환경 셋업\n",
    "\n",
    "## 본 워크샵의 모든 노트북은 `conda_python3` 를  선택해야 합니다."
   ]
  },
  {
   "cell_type": "markdown",
   "id": "19c7dbbd-3153-46d8-8d56-470d55c926a8",
   "metadata": {},
   "source": [
    "## 필요 패키지 설치"
   ]
  },
  {
   "cell_type": "code",
   "execution_count": 1,
   "id": "98eeee44-2d32-45be-9e9e-b755219741d0",
   "metadata": {
    "tags": []
   },
   "outputs": [
    {
     "name": "stderr",
     "output_type": "stream",
     "text": [
      "ERROR: pip's dependency resolver does not currently take into account all the packages that are installed. This behaviour is the source of the following dependency conflicts.\n",
      "awscli 1.27.114 requires botocore==1.29.114, but you have botocore 1.29.142 which is incompatible.\n",
      "awscli 1.27.114 requires PyYAML<5.5,>=3.10, but you have pyyaml 6.0 which is incompatible.\n",
      "docker-compose 1.29.2 requires PyYAML<6,>=3.10, but you have pyyaml 6.0 which is incompatible.\n",
      "jupyterlab-server 2.18.0 requires jsonschema>=4.17.3, but you have jsonschema 3.2.0 which is incompatible.\n",
      "sparkmagic 0.20.3 requires nest-asyncio==1.5.5, but you have nest-asyncio 1.5.6 which is incompatible.\n"
     ]
    }
   ],
   "source": [
    "%%bash\n",
    "pip install -U pip --quiet\n",
    "pip install -U sagemaker==2.159.0 --quiet\n",
    "pip install -U boto3==1.26.142 --quiet\n",
    "pip install -U transformers==4.30.0.dev0 --quiet"
   ]
  },
  {
   "cell_type": "code",
   "execution_count": 9,
   "id": "c5e8db8f-b3e5-439f-b52f-ed72eb056f6b",
   "metadata": {
    "tags": []
   },
   "outputs": [
    {
     "name": "stdout",
     "output_type": "stream",
     "text": [
      "torch                         2.0.1\n",
      "transformers                  4.30.0.dev0\n",
      "sagemaker                     2.159.0\n",
      "sagemaker-pyspark             1.4.5\n",
      "boto3                         1.26.142\n"
     ]
    }
   ],
   "source": [
    "%%sh\n",
    "pip list | grep torch\n",
    "pip list | grep transformers\n",
    "pip list | grep sagemaker\n",
    "pip list | grep boto3\n"
   ]
  },
  {
   "cell_type": "code",
   "execution_count": 10,
   "id": "7d91c115-18b9-4c1d-aa37-6bde72a5ab13",
   "metadata": {
    "tags": []
   },
   "outputs": [
    {
     "name": "stdout",
     "output_type": "stream",
     "text": [
      "\u001b[31mERROR: pip's dependency resolver does not currently take into account all the packages that are installed. This behaviour is the source of the following dependency conflicts.\n",
      "sparkmagic 0.20.3 requires nest-asyncio==1.5.5, but you have nest-asyncio 1.5.6 which is incompatible.\u001b[0m\u001b[31m\n",
      "\u001b[0m"
     ]
    }
   ],
   "source": [
    "!pip install ipywidgets==7.0.0 --quiet\n",
    "!pip install langchain==0.0.148 --quiet\n",
    "!pip install faiss-cpu --quiet"
   ]
  },
  {
   "cell_type": "code",
   "execution_count": 11,
   "id": "688cebc1-9c63-45cd-bc89-869c1f3a7fb8",
   "metadata": {
    "tags": []
   },
   "outputs": [
    {
     "name": "stdout",
     "output_type": "stream",
     "text": [
      "ipywidgets                    7.0.0\n",
      "langchain                     0.0.148\n",
      "faiss-cpu                     1.7.4\n"
     ]
    }
   ],
   "source": [
    "%%sh\n",
    "pip list | grep ipywidgets\n",
    "pip list | grep langchain\n",
    "pip list | grep faiss-cpu\n"
   ]
  },
  {
   "cell_type": "markdown",
   "id": "9448f5b8",
   "metadata": {},
   "source": [
    "## 로컬 모드 셋업\n",
    "- 기본 다커 폴더 위치 변경 등을 함."
   ]
  },
  {
   "cell_type": "code",
   "execution_count": 1,
   "id": "bf4cf856",
   "metadata": {},
   "outputs": [
    {
     "name": "stdout",
     "output_type": "stream",
     "text": [
      "nvidia-docker2 already installed. We are good to go!\n",
      "Redirecting to /bin/systemctl stop docker.service\n",
      "Warning: Stopping docker.service, but it can still be activated by:\n",
      "  docker.socket\n",
      "Redirecting to /bin/systemctl start docker.service\n",
      "SageMaker instance route table setup is ok. We are good to go.\n",
      "SageMaker instance routing for Docker is ok. We are good to go!\n"
     ]
    }
   ],
   "source": [
    "! bash local_mode_setup.sh"
   ]
  },
  {
   "cell_type": "code",
   "execution_count": null,
   "id": "ead84e85",
   "metadata": {},
   "outputs": [],
   "source": []
  },
  {
   "cell_type": "code",
   "execution_count": null,
   "id": "15550287-34ff-4e16-bd28-5d002212dab8",
   "metadata": {},
   "outputs": [],
   "source": []
  },
  {
   "cell_type": "code",
   "execution_count": null,
   "id": "43012b86-0d83-477a-8e0a-31021cb1bfd2",
   "metadata": {},
   "outputs": [],
   "source": []
  }
 ],
 "metadata": {
  "kernelspec": {
   "display_name": "conda_python3",
   "language": "python",
   "name": "conda_python3"
  },
  "language_info": {
   "codemirror_mode": {
    "name": "ipython",
    "version": 3
   },
   "file_extension": ".py",
   "mimetype": "text/x-python",
   "name": "python",
   "nbconvert_exporter": "python",
   "pygments_lexer": "ipython3",
   "version": "3.10.8"
  }
 },
 "nbformat": 4,
 "nbformat_minor": 5
}
