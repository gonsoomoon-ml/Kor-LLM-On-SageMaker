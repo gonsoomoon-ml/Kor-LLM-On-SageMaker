{
 "cells": [
  {
   "cell_type": "markdown",
   "id": "fe4872e4-c90b-434b-bfe5-f88292fba385",
   "metadata": {},
   "source": [
    "# 로컬에서 훈련 하기\n",
    "- https://www.kaggle.com/code/mitanshuchakrawarty/fine-tune-llm-for-text-summary"
   ]
  },
  {
   "cell_type": "markdown",
   "id": "e5da7aa7-1a2d-4db1-b011-59217c32a83a",
   "metadata": {},
   "source": [
    "## 1. 환경 셋업"
   ]
  },
  {
   "cell_type": "code",
   "execution_count": 1,
   "id": "06b5f4c4",
   "metadata": {},
   "outputs": [],
   "source": [
    "# !huggingface-cli login --token \"\""
   ]
  },
  {
   "cell_type": "code",
   "execution_count": 15,
   "id": "bdcebd19",
   "metadata": {},
   "outputs": [],
   "source": [
    "import os \n",
    "os.environ['TRANSFORMERS_CACHE'] = \"/home/ec2-user/SageMaker/.cache\" \n",
    "os.environ['HF_DATASETS_CACHE'] = \"/home/ec2-user/SageMaker/.cache\" \n",
    "os.environ['HF_HOME'] = \"/home/ec2-user/SageMaker/.cache\""
   ]
  },
  {
   "cell_type": "code",
   "execution_count": 16,
   "id": "24bce431",
   "metadata": {},
   "outputs": [
    {
     "name": "stdout",
     "output_type": "stream",
     "text": [
      "data_folder:  ../data/naver-news-summarization-ko\n",
      "train_data_json:  ../data/naver-news-summarization-ko/train_dataset.json\n",
      "validation_data_json:  ../data/naver-news-summarization-ko/validation_dataset.json\n",
      "test_data_json:  ../data/naver-news-summarization-ko/test_dataset.json\n"
     ]
    }
   ],
   "source": [
    "%store -r data_folder\n",
    "%store -r train_data_json \n",
    "%store -r validation_data_json \n",
    "%store -r test_data_json \n",
    "\n",
    "print(\"data_folder: \", data_folder)\n",
    "print(\"train_data_json: \", train_data_json)\n",
    "print(\"validation_data_json: \", validation_data_json)\n",
    "print(\"test_data_json: \", test_data_json)"
   ]
  },
  {
   "cell_type": "code",
   "execution_count": 17,
   "id": "a396bc4f-0b0a-4ffb-8c59-18ed6d0a968d",
   "metadata": {
    "tags": []
   },
   "outputs": [],
   "source": [
    "import torch\n",
    "import time\n",
    "import pandas as pd\n",
    "import numpy as np\n",
    "import random\n",
    "import matplotlib.pyplot as plt\n",
    "\n",
    "from datasets import Dataset, load_dataset\n",
    "from datasets import load_dataset, load_metric\n",
    "from transformers import pipeline, set_seed\n",
    "from transformers import AutoModelForSeq2SeqLM, AutoTokenizer\n",
    "\n",
    "import warnings\n",
    "warnings.filterwarnings(\"ignore\")"
   ]
  },
  {
   "cell_type": "markdown",
   "id": "8a78f53c-d21d-4fca-b69d-6a85d966353c",
   "metadata": {},
   "source": [
    "## 2. 베이스 모델 준비"
   ]
  },
  {
   "cell_type": "code",
   "execution_count": 18,
   "id": "d514e3df",
   "metadata": {},
   "outputs": [],
   "source": [
    "model_id = \"meta-llama/Meta-Llama-3-8B\"\n",
    "output_dir = \"/home/ec2-user/SageMaker/models/llama-3-8b-naver-news\""
   ]
  },
  {
   "cell_type": "markdown",
   "id": "2403f6b8",
   "metadata": {},
   "source": [
    "### Config YAML 파일 생성"
   ]
  },
  {
   "cell_type": "code",
   "execution_count": 19,
   "id": "72d30120",
   "metadata": {},
   "outputs": [
    {
     "name": "stdout",
     "output_type": "stream",
     "text": [
      "Overwriting llama_3_8b_fsdp_qlora.yaml\n"
     ]
    }
   ],
   "source": [
    "%%writefile llama_3_8b_fsdp_qlora.yaml\n",
    "# script parameters\n",
    "model_id:  \"meta-llama/Meta-Llama-3-8B\" # Hugging Face model id\n",
    "dataset_path: \"../data/naver-news-summarization-ko\"                      # path to dataset\n",
    "max_seq_len:  2048              # max sequence length for model and packing of the dataset\n",
    "# training parameters\n",
    "output_dir: \"/home/ec2-user/SageMaker/models/llama-3-8b-naver-news\" # Temporary output directory for model checkpoints\n",
    "report_to: \"tensorboard\"               # report metrics to tensorboard\n",
    "learning_rate: 0.0002                  # learning rate 2e-4\n",
    "lr_scheduler_type: \"constant\"          # learning rate scheduler\n",
    "num_train_epochs: 1                    # number of training epochs\n",
    "per_device_train_batch_size: 1         # batch size per device during training\n",
    "per_device_eval_batch_size: 1          # batch size for evaluation\n",
    "gradient_accumulation_steps: 2         # number of steps before performing a backward/update pass\n",
    "optim: adamw_torch                     # use torch adamw optimizer\n",
    "logging_steps: 10                      # log every 10 steps\n",
    "save_strategy: epoch                   # save checkpoint every epoch\n",
    "evaluation_strategy: epoch             # evaluate every epoch\n",
    "max_grad_norm: 0.3                     # max gradient norm\n",
    "warmup_ratio: 0.03                     # warmup ratio\n",
    "bf16: true                             # use bfloat16 precision\n",
    "tf32: true                             # use tf32 precision\n",
    "gradient_checkpointing: true           # use gradient checkpointing to save memory\n",
    "# FSDP parameters: https://huggingface.co/docs/transformers/main/en/fsdp\n",
    "fsdp: \"full_shard auto_wrap offload\" # remove offload if enough GPU memory\n",
    "fsdp_config:\n",
    "  backward_prefetch: \"backward_pre\"\n",
    "  forward_prefetch: \"false\"\n",
    "  use_orig_params: \"false\""
   ]
  },
  {
   "cell_type": "markdown",
   "id": "c851f75d",
   "metadata": {},
   "source": [
    "## 3. 훈련 Script 실행"
   ]
  },
  {
   "cell_type": "code",
   "execution_count": 20,
   "metadata": {},
   "outputs": [
    {
     "name": "stderr",
     "output_type": "stream",
     "text": [
      "huggingface/tokenizers: The current process just got forked, after parallelism has already been used. Disabling parallelism to avoid deadlocks...\n",
      "To disable this warning, you can either:\n",
      "\t- Avoid using `tokenizers` before the fork if possible\n",
      "\t- Explicitly set the environment variable TOKENIZERS_PARALLELISM=(true | false)\n"
     ]
    },
    {
     "name": "stdout",
     "output_type": "stream",
     "text": [
      "[2024-06-27 14:04:27,796] torch.distributed.run: [WARNING] \n",
      "[2024-06-27 14:04:27,796] torch.distributed.run: [WARNING] *****************************************\n",
      "[2024-06-27 14:04:27,796] torch.distributed.run: [WARNING] Setting OMP_NUM_THREADS environment variable for each process to be 1 in default, to avoid your system being overloaded, please further tune the variable for optimal performance in your application as needed. \n",
      "[2024-06-27 14:04:27,796] torch.distributed.run: [WARNING] *****************************************\n",
      "/home/ec2-user/anaconda3/envs/pytorch_p310/lib/python3.10/site-packages/transformers/utils/hub.py:124: FutureWarning: Using `TRANSFORMERS_CACHE` is deprecated and will be removed in v5 of Transformers. Use `HF_HOME` instead.\n",
      "  warnings.warn(\n",
      "/home/ec2-user/anaconda3/envs/pytorch_p310/lib/python3.10/site-packages/transformers/utils/hub.py:124: FutureWarning: Using `TRANSFORMERS_CACHE` is deprecated and will be removed in v5 of Transformers. Use `HF_HOME` instead.\n",
      "  warnings.warn(\n",
      "/home/ec2-user/anaconda3/envs/pytorch_p310/lib/python3.10/site-packages/transformers/utils/hub.py:124: FutureWarning: Using `TRANSFORMERS_CACHE` is deprecated and will be removed in v5 of Transformers. Use `HF_HOME` instead.\n",
      "  warnings.warn(\n",
      "/home/ec2-user/anaconda3/envs/pytorch_p310/lib/python3.10/site-packages/transformers/utils/hub.py:124: FutureWarning: Using `TRANSFORMERS_CACHE` is deprecated and will be removed in v5 of Transformers. Use `HF_HOME` instead.\n",
      "  warnings.warn(\n",
      "[W Utils.hpp:133] Warning: Environment variable NCCL_ASYNC_ERROR_HANDLING is deprecated; use TORCH_NCCL_ASYNC_ERROR_HANDLING instead (function getCvarInt)\n",
      "[W Utils.hpp:133] Warning: Environment variable NCCL_ASYNC_ERROR_HANDLING is deprecated; use TORCH_NCCL_ASYNC_ERROR_HANDLING instead (function getCvarInt)\n",
      "[W Utils.hpp:133] Warning: Environment variable NCCL_ASYNC_ERROR_HANDLING is deprecated; use TORCH_NCCL_ASYNC_ERROR_HANDLING instead (function getCvarInt)\n",
      "[W Utils.hpp:133] Warning: Environment variable NCCL_ASYNC_ERROR_HANDLING is deprecated; use TORCH_NCCL_ASYNC_ERROR_HANDLING instead (function getCvarInt)\n",
      "Generating train split: 10 examples [00:00, 4323.58 examples/s]\n",
      "Generating train split: 10 examples [00:00, 7222.84 examples/s]\n",
      "Special tokens have been added in the vocabulary, make sure the associated word embeddings are fine-tuned or trained.\n",
      "Special tokens have been added in the vocabulary, make sure the associated word embeddings are fine-tuned or trained.\n",
      "Special tokens have been added in the vocabulary, make sure the associated word embeddings are fine-tuned or trained.\n",
      "Special tokens have been added in the vocabulary, make sure the associated word embeddings are fine-tuned or trained.\n",
      "Map: 100%|██████████████████████████████| 10/10 [00:00<00:00, 401.12 examples/s]\n",
      "Map: 100%|█████████████████████████████| 10/10 [00:00<00:00, 2757.96 examples/s]\n",
      "You are an AI assistant specialized in news articles.Your role is to provide accurate summaries and insights in Korean. Please analyze the given text and provide concise, informative summaries that highlight the key goals and findings.\n",
      "\n",
      "Human: Please summarize the goals for journalist in this text:\n",
      "\n",
      "SK바이오사이언스가 글로벌 사업의 고도화를 위해 조직 개편을 단행했다. SK바이오사이언스는 기존 해외사업개발실을 BD Business Development 1 3실로 확대 재편하고 글로벌 규제 및 허가 전담 조직인 Global RA Regulatory Affairs 실을 신설한다고 1일 밝혔다. SK바이오사이언스는 지난해 코로나19 COVID 19 백신 위탁 생산 등으로 주목받는 백신 기업으로 부상하며 글로벌 사업의 영역과 규모가 급속도로 성장 중이다. 이러한 성장 속도에 맞춰 기존 전담 조직인 해외사업개발실을 보다 세분화 및 전문화하고자 BD 1 3실로 확대 재편했다. BD 1 3실은 앞으로 기존에 영위 중인 백신 사업뿐만 아니라 세포·유전자치료제 CGT 등 신규 사업에 대한 △글로벌 네트워크들과의 공동 개발 △신규 C D MO 수주 △개발 제품 상업화 등 다양한 영역의 사업을 고도화하고 실행력을 높이는 업무를 담당한다. 또한 Global RA실을 신설해 미국 유럽 등 해외 선진국의 GMP Good Manufacturing Practice 를 확보하는 등 국제적인 수준의 관련 인증 및 허가 획득에도 더욱 박차를 가할 방침이다. CMC팀도 신설됐다. CMC는 화학 Chemistry 제조 Manufacturing 품질 Control 의 약자다. CMC팀은 완제 의약품을 만드는 공정 개발 process development 과 품질 관리 quality control 부문에서 핵심적인 역할을 수행한다. 연구부터 임상 허가 생산 품질에 이르는 GMP 관련 제반 업무를 관리한다. SK바이오사이언스는 이번 조직 개편이 글로벌 탑티어 바이오 기업으로의 성장을 더욱 앞당기고 초격차 경쟁력 확보의 계기가 될 것으로 기대하고 있다. SK바이오사이언스는 지난달 29일 국내 최초 코로나19 백신인 스카이코비원 SKYCovione 멀티주 의 품목허가를 획득했다. 이어 국가출하승인 및 WHO 등 해외 승인을 통해 국내외 백신 시장에 본격 진출할 예정이다.<|end_of_text|>\n",
      "\n",
      "Assistant: SK바이오사이언스가 글로벌 사업의 고도화를 위해 기존 해외사업개발실을 백신사업뿐만 아니라 다양한 영역의 사업을 고도화하고 실행력을 높이는 업무를 담당하는 1 3실로 확대 재편하고 글로벌 규제 및 허가 전담 조직을 신설한다고 1일 밝혔다.<|end_of_text|>\n",
      "You are an AI assistant specialized in news articles.Your role is to provide accurate summaries and insights in Korean. Please analyze the given text and provide concise, informative summaries that highlight the key goals and findings.\n",
      "\n",
      "Human: Please summarize the goals for journalist in this text:\n",
      "\n",
      "한탄바이러스 발견 노벨상 유력 후보로 자주 거론 한국을 대표하는 의학자이자 미생물학자 이호왕 고려대 명예교수. 고려대의대 제공 한탄바이러스를 발견한 우리나라 대표 의과학자 이호왕 고려대 명예교수가 5일 숙환으로 별세했다. 향년 94세. 고인은 바이러스의 병원체와 진단법 백신까지 모두 개발한 한국을 대표하는 의학자이자 미생물학자다. 신증후군출혈열 병원체인 한탄바이러스와 서울바이러스를 세계 최초로 발견하고 예방백신 및 진단법을 개발해 세계 의학발전에 기여한 것으로 평가된다. 1928년 함경남도 신흥에서 출생한 고인은 1973년 고대의대에 부임해 의과대학장을 지냈으며 1982년 세계보건기구 신증후출혈열연구협력센터 소장 2000년 대한민국학술원 회장 등을 역임했다. 1979년 미국 최고민간인공로훈장 1987년 인촌상 1992년 호암상 1995년 태국 프린스 마히돌상 2001년 일본 니케이 아시아상 2002년 과학기술훈장 창조장 2009년 서재필의학상 2018년 대한민국 과학기술유공자로 추대됐으며 2002년 미국 학술원 NAS 외국회원 2009년 일본 학사원 명예회원에 선정되며 국내외 학계에서 활발한 활동을 이어왔다. 고인의 빈소는 고려대 안암병원 장례식장 303호에 마련됐다. 발인은 7일 오전 11시 50분이고 장지는 서울추모공원이다. 고인은 1976년 3월 경기도 동두천 한탄강 유역에서 채집한 등줄쥐의 폐 조직에서 세계 최초로 유행성출혈열 병원체와 면역체를 발견한 것으로 널리 알려졌다. 고인은 이 병원체 바이러스를 발견장소의 이름을 따 명명했다. 그 유명한 한탄 바이러스 의 발견이었다. 고인이 병원체를 발견하기 전까지 이 유행성출혈열은 당시 정체불명의 괴질로 유명했다. 1916년 러시아 블라디보스토크에서 첫 환자가 보고된 뒤 2차 세계대전과 6·25전쟁을 거치며 수천 명의 희생자를 냈다. 당시 소련과 중국은 대대적인 인체실험까지 벌였고 미국은 노벨상 수상자 2명이 포함된 연구진 200여명과 막대한 예산을 투입해 정체를 밝히려고 애썼지만 감염 경로와 원인 병원체를 찾지 못했다. 한탄바이러스가 발견된 이후 국내에선 백신제조까지 일사천리로 이뤄졌다. 1991년 녹십자는 고인과 공동연구를 유행성출혈열 예방 백신 ‘한타 박스’를 내놨다. 바이러스 발견자가 진단법과 예방 백신까지 개발한 최초 사례다. 지금도 휴전선 일대에 근무하는 군인과 주민은 이 주사를 맞는다. 고인은 한탄바이러스 분리와 백신 개발로 유력한 노벨상 수상자로 거론되기도 했다. 2019년 9월 연구데이터 분석기업 클래리베이터 애널리틱스가 선정한 ‘2021년 피인용 우수 연구자’ 16명 중 한 명으로 꼽혔기 때문이다. 당시 국내 기관 소속 연구자로는 다섯 번째 한국인으로는 네 번째였다. 클래리베이트의 피인용 우수 연구자는 1970년 이후 등록된 과학기술인용색인 SCI 논문 5200만여 건 중 최상위 0.01%에 속하는 2000회 이상 인용된 논문을 보유하면서 동시에 연구가 독창적이고 인류에 높은 공헌을 한 경우 선정된다. 노벨상 수상의 예측 지표 중 하나로 여겨진다. 고인은 또한 한국인이 사랑하는 근대 과학자였다. 지난 2016년 과학기술정보통신부 전신인 미래창조과학부와 한국과학창의재단 한국경제신문이 진행한 우리 생활을 변화시킨 근현대 대표 과학기술인’ 조사에서 한국이 낳은 세계적 물리학자인 고 故 이휘소 박사가 대한민국 최고 과학자에 이어 고인을 두 번째로 많이 꼽았다.<|end_of_text|>\n",
      "\n",
      "Assistant: 이 이호왕 고려대 명예교수는 바이러스의 병원체와 진단법 백신까지 모두 개발한 한국을 대표하는 의학자이자 미생물학자이며, 신증후군출혈열 병원체인 한탄바이러스와 서울바이러스를 세계 최초로 발견하고 예방백신 및 진단법을 개발해 세계 의학발전에 기여한 것으로 평가된다.<|end_of_text|>\n",
      "You are an AI assistant specialized in news articles.Your role is to provide accurate summaries and insights in Korean. Please analyze the given text and provide concise, informative summaries that highlight the key goals and findings.\n",
      "\n",
      "Human: Please summarize the goals for journalist in this text:\n",
      "\n",
      "SK바이오사이언스가 글로벌 사업의 고도화를 위해 조직 개편을 단행했다. SK바이오사이언스는 기존 해외사업개발실을 BD Business Development 1 3실로 확대 재편하고 글로벌 규제 및 허가 전담 조직인 Global RA Regulatory Affairs 실을 신설한다고 1일 밝혔다. SK바이오사이언스는 지난해 코로나19 COVID 19 백신 위탁 생산 등으로 주목받는 백신 기업으로 부상하며 글로벌 사업의 영역과 규모가 급속도로 성장 중이다. 이러한 성장 속도에 맞춰 기존 전담 조직인 해외사업개발실을 보다 세분화 및 전문화하고자 BD 1 3실로 확대 재편했다. BD 1 3실은 앞으로 기존에 영위 중인 백신 사업뿐만 아니라 세포·유전자치료제 CGT 등 신규 사업에 대한 △글로벌 네트워크들과의 공동 개발 △신규 C D MO 수주 △개발 제품 상업화 등 다양한 영역의 사업을 고도화하고 실행력을 높이는 업무를 담당한다. 또한 Global RA실을 신설해 미국 유럽 등 해외 선진국의 GMP Good Manufacturing Practice 를 확보하는 등 국제적인 수준의 관련 인증 및 허가 획득에도 더욱 박차를 가할 방침이다. CMC팀도 신설됐다. CMC는 화학 Chemistry 제조 Manufacturing 품질 Control 의 약자다. CMC팀은 완제 의약품을 만드는 공정 개발 process development 과 품질 관리 quality control 부문에서 핵심적인 역할을 수행한다. 연구부터 임상 허가 생산 품질에 이르는 GMP 관련 제반 업무를 관리한다. SK바이오사이언스는 이번 조직 개편이 글로벌 탑티어 바이오 기업으로의 성장을 더욱 앞당기고 초격차 경쟁력 확보의 계기가 될 것으로 기대하고 있다. SK바이오사이언스는 지난달 29일 국내 최초 코로나19 백신인 스카이코비원 SKYCovione 멀티주 의 품목허가를 획득했다. 이어 국가출하승인 및 WHO 등 해외 승인을 통해 국내외 백신 시장에 본격 진출할 예정이다.<|end_of_text|>\n",
      "\n",
      "Assistant: SK바이오사이언스가 글로벌 사업의 고도화를 위해 기존 해외사업개발실을 백신사업뿐만 아니라 다양한 영역의 사업을 고도화하고 실행력을 높이는 업무를 담당하는 1 3실로 확대 재편하고 글로벌 규제 및 허가 전담 조직을 신설한다고 1일 밝혔다.<|end_of_text|>You are an AI assistant specialized in news articles.Your role is to provide accurate summaries and insights in Korean. Please analyze the given text and provide concise, informative summaries that highlight the key goals and findings.\n",
      "\n",
      "Human: Please summarize the goals for journalist in this text:\n",
      "\n",
      "SK바이오사이언스가 글로벌 사업의 고도화를 위해 조직 개편을 단행했다. SK바이오사이언스는 기존 해외사업개발실을 BD Business Development 1 3실로 확대 재편하고 글로벌 규제 및 허가 전담 조직인 Global RA Regulatory Affairs 실을 신설한다고 1일 밝혔다. SK바이오사이언스는 지난해 코로나19 COVID 19 백신 위탁 생산 등으로 주목받는 백신 기업으로 부상하며 글로벌 사업의 영역과 규모가 급속도로 성장 중이다. 이러한 성장 속도에 맞춰 기존 전담 조직인 해외사업개발실을 보다 세분화 및 전문화하고자 BD 1 3실로 확대 재편했다. BD 1 3실은 앞으로 기존에 영위 중인 백신 사업뿐만 아니라 세포·유전자치료제 CGT 등 신규 사업에 대한 △글로벌 네트워크들과의 공동 개발 △신규 C D MO 수주 △개발 제품 상업화 등 다양한 영역의 사업을 고도화하고 실행력을 높이는 업무를 담당한다. 또한 Global RA실을 신설해 미국 유럽 등 해외 선진국의 GMP Good Manufacturing Practice 를 확보하는 등 국제적인 수준의 관련 인증 및 허가 획득에도 더욱 박차를 가할 방침이다. CMC팀도 신설됐다. CMC는 화학 Chemistry 제조 Manufacturing 품질 Control 의 약자다. CMC팀은 완제 의약품을 만드는 공정 개발 process development 과 품질 관리 quality control 부문에서 핵심적인 역할을 수행한다. 연구부터 임상 허가 생산 품질에 이르는 GMP 관련 제반 업무를 관리한다. SK바이오사이언스는 이번 조직 개편이 글로벌 탑티어 바이오 기업으로의 성장을 더욱 앞당기고 초격차 경쟁력 확보의 계기가 될 것으로 기대하고 있다. SK바이오사이언스는 지난달 29일 국내 최초 코로나19 백신인 스카이코비원 SKYCovione 멀티주 의 품목허가를 획득했다. 이어 국가출하승인 및 WHO 등 해외 승인을 통해 국내외 백신 시장에 본격 진출할 예정이다.<|end_of_text|>\n",
      "\n",
      "Assistant: SK바이오사이언스가 글로벌 사업의 고도화를 위해 기존 해외사업개발실을 백신사업뿐만 아니라 다양한 영역의 사업을 고도화하고 실행력을 높이는 업무를 담당하는 1 3실로 확대 재편하고 글로벌 규제 및 허가 전담 조직을 신설한다고 1일 밝혔다.<|end_of_text|>You are an AI assistant specialized in news articles.Your role is to provide accurate summaries and insights in Korean. Please analyze the given text and provide concise, informative summaries that highlight the key goals and findings.\n",
      "\n",
      "Human: Please summarize the goals for journalist in this text:\n",
      "\n",
      "SK바이오사이언스가 글로벌 사업의 고도화를 위해 조직 개편을 단행했다. SK바이오사이언스는 기존 해외사업개발실을 BD Business Development 1 3실로 확대 재편하고 글로벌 규제 및 허가 전담 조직인 Global RA Regulatory Affairs 실을 신설한다고 1일 밝혔다. SK바이오사이언스는 지난해 코로나19 COVID 19 백신 위탁 생산 등으로 주목받는 백신 기업으로 부상하며 글로벌 사업의 영역과 규모가 급속도로 성장 중이다. 이러한 성장 속도에 맞춰 기존 전담 조직인 해외사업개발실을 보다 세분화 및 전문화하고자 BD 1 3실로 확대 재편했다. BD 1 3실은 앞으로 기존에 영위 중인 백신 사업뿐만 아니라 세포·유전자치료제 CGT 등 신규 사업에 대한 △글로벌 네트워크들과의 공동 개발 △신규 C D MO 수주 △개발 제품 상업화 등 다양한 영역의 사업을 고도화하고 실행력을 높이는 업무를 담당한다. 또한 Global RA실을 신설해 미국 유럽 등 해외 선진국의 GMP Good Manufacturing Practice 를 확보하는 등 국제적인 수준의 관련 인증 및 허가 획득에도 더욱 박차를 가할 방침이다. CMC팀도 신설됐다. CMC는 화학 Chemistry 제조 Manufacturing 품질 Control 의 약자다. CMC팀은 완제 의약품을 만드는 공정 개발 process development 과 품질 관리 quality control 부문에서 핵심적인 역할을 수행한다. 연구부터 임상 허가 생산 품질에 이르는 GMP 관련 제반 업무를 관리한다. SK바이오사이언스는 이번 조직 개편이 글로벌 탑티어 바이오 기업으로의 성장을 더욱 앞당기고 초격차 경쟁력 확보의 계기가 될 것으로 기대하고 있다. SK바이오사이언스는 지난달 29일 국내 최초 코로나19 백신인 스카이코비원 SKYCovione 멀티주 의 품목허가를 획득했다. 이어 국가출하승인 및 WHO 등 해외 승인을 통해 국내외 백신 시장에 본격 진출할 예정이다.<|end_of_text|>\n",
      "\n",
      "Assistant: SK바이오사이언스가 글로벌 사업의 고도화를 위해 기존 해외사업개발실을 백신사업뿐만 아니라 다양한 영역의 사업을 고도화하고 실행력을 높이는 업무를 담당하는 1 3실로 확대 재편하고 글로벌 규제 및 허가 전담 조직을 신설한다고 1일 밝혔다.<|end_of_text|>\n",
      "\n",
      "\n",
      "You are an AI assistant specialized in news articles.Your role is to provide accurate summaries and insights in Korean. Please analyze the given text and provide concise, informative summaries that highlight the key goals and findings.\n",
      "\n",
      "Human: Please summarize the goals for journalist in this text:\n",
      "\n",
      "한탄바이러스 발견 노벨상 유력 후보로 자주 거론 한국을 대표하는 의학자이자 미생물학자 이호왕 고려대 명예교수. 고려대의대 제공 한탄바이러스를 발견한 우리나라 대표 의과학자 이호왕 고려대 명예교수가 5일 숙환으로 별세했다. 향년 94세. 고인은 바이러스의 병원체와 진단법 백신까지 모두 개발한 한국을 대표하는 의학자이자 미생물학자다. 신증후군출혈열 병원체인 한탄바이러스와 서울바이러스를 세계 최초로 발견하고 예방백신 및 진단법을 개발해 세계 의학발전에 기여한 것으로 평가된다. 1928년 함경남도 신흥에서 출생한 고인은 1973년 고대의대에 부임해 의과대학장을 지냈으며 1982년 세계보건기구 신증후출혈열연구협력센터 소장 2000년 대한민국학술원 회장 등을 역임했다. 1979년 미국 최고민간인공로훈장 1987년 인촌상 1992년 호암상 1995년 태국 프린스 마히돌상 2001년 일본 니케이 아시아상 2002년 과학기술훈장 창조장 2009년 서재필의학상 2018년 대한민국 과학기술유공자로 추대됐으며 2002년 미국 학술원 NAS 외국회원 2009년 일본 학사원 명예회원에 선정되며 국내외 학계에서 활발한 활동을 이어왔다. 고인의 빈소는 고려대 안암병원 장례식장 303호에 마련됐다. 발인은 7일 오전 11시 50분이고 장지는 서울추모공원이다. 고인은 1976년 3월 경기도 동두천 한탄강 유역에서 채집한 등줄쥐의 폐 조직에서 세계 최초로 유행성출혈열 병원체와 면역체를 발견한 것으로 널리 알려졌다. 고인은 이 병원체 바이러스를 발견장소의 이름을 따 명명했다. 그 유명한 한탄 바이러스 의 발견이었다. 고인이 병원체를 발견하기 전까지 이 유행성출혈열은 당시 정체불명의 괴질로 유명했다. 1916년 러시아 블라디보스토크에서 첫 환자가 보고된 뒤 2차 세계대전과 6·25전쟁을 거치며 수천 명의 희생자를 냈다. 당시 소련과 중국은 대대적인 인체실험까지 벌였고 미국은 노벨상 수상자 2명이 포함된 연구진 200여명과 막대한 예산을 투입해 정체를 밝히려고 애썼지만 감염 경로와 원인 병원체를 찾지 못했다. 한탄바이러스가 발견된 이후 국내에선 백신제조까지 일사천리로 이뤄졌다. 1991년 녹십자는 고인과 공동연구를 유행성출혈열 예방 백신 ‘한타 박스’를 내놨다. 바이러스 발견자가 진단법과 예방 백신까지 개발한 최초 사례다. 지금도 휴전선 일대에 근무하는 군인과 주민은 이 주사를 맞는다. 고인은 한탄바이러스 분리와 백신 개발로 유력한 노벨상 수상자로 거론되기도 했다. 2019년 9월 연구데이터 분석기업 클래리베이터 애널리틱스가 선정한 ‘2021년 피인용 우수 연구자’ 16명 중 한 명으로 꼽혔기 때문이다. 당시 국내 기관 소속 연구자로는 다섯 번째 한국인으로는 네 번째였다. 클래리베이트의 피인용 우수 연구자는 1970년 이후 등록된 과학기술인용색인 SCI 논문 5200만여 건 중 최상위 0.01%에 속하는 2000회 이상 인용된 논문을 보유하면서 동시에 연구가 독창적이고 인류에 높은 공헌을 한 경우 선정된다. 노벨상 수상의 예측 지표 중 하나로 여겨진다. 고인은 또한 한국인이 사랑하는 근대 과학자였다. 지난 2016년 과학기술정보통신부 전신인 미래창조과학부와 한국과학창의재단 한국경제신문이 진행한 우리 생활을 변화시킨 근현대 대표 과학기술인’ 조사에서 한국이 낳은 세계적 물리학자인 고 故 이휘소 박사가 대한민국 최고 과학자에 이어 고인을 두 번째로 많이 꼽았다.<|end_of_text|>\n",
      "\n",
      "Assistant: 이 이호왕 고려대 명예교수는 바이러스의 병원체와 진단법 백신까지 모두 개발한 한국을 대표하는 의학자이자 미생물학자이며, 신증후군출혈열 병원체인 한탄바이러스와 서울바이러스를 세계 최초로 발견하고 예방백신 및 진단법을 개발해 세계 의학발전에 기여한 것으로 평가된다.<|end_of_text|>You are an AI assistant specialized in news articles.Your role is to provide accurate summaries and insights in Korean. Please analyze the given text and provide concise, informative summaries that highlight the key goals and findings.\n",
      "\n",
      "Human: Please summarize the goals for journalist in this text:\n",
      "\n",
      "한탄바이러스 발견 노벨상 유력 후보로 자주 거론 한국을 대표하는 의학자이자 미생물학자 이호왕 고려대 명예교수. 고려대의대 제공 한탄바이러스를 발견한 우리나라 대표 의과학자 이호왕 고려대 명예교수가 5일 숙환으로 별세했다. 향년 94세. 고인은 바이러스의 병원체와 진단법 백신까지 모두 개발한 한국을 대표하는 의학자이자 미생물학자다. 신증후군출혈열 병원체인 한탄바이러스와 서울바이러스를 세계 최초로 발견하고 예방백신 및 진단법을 개발해 세계 의학발전에 기여한 것으로 평가된다. 1928년 함경남도 신흥에서 출생한 고인은 1973년 고대의대에 부임해 의과대학장을 지냈으며 1982년 세계보건기구 신증후출혈열연구협력센터 소장 2000년 대한민국학술원 회장 등을 역임했다. 1979년 미국 최고민간인공로훈장 1987년 인촌상 1992년 호암상 1995년 태국 프린스 마히돌상 2001년 일본 니케이 아시아상 2002년 과학기술훈장 창조장 2009년 서재필의학상 2018년 대한민국 과학기술유공자로 추대됐으며 2002년 미국 학술원 NAS 외국회원 2009년 일본 학사원 명예회원에 선정되며 국내외 학계에서 활발한 활동을 이어왔다. 고인의 빈소는 고려대 안암병원 장례식장 303호에 마련됐다. 발인은 7일 오전 11시 50분이고 장지는 서울추모공원이다. 고인은 1976년 3월 경기도 동두천 한탄강 유역에서 채집한 등줄쥐의 폐 조직에서 세계 최초로 유행성출혈열 병원체와 면역체를 발견한 것으로 널리 알려졌다. 고인은 이 병원체 바이러스를 발견장소의 이름을 따 명명했다. 그 유명한 한탄 바이러스 의 발견이었다. 고인이 병원체를 발견하기 전까지 이 유행성출혈열은 당시 정체불명의 괴질로 유명했다. 1916년 러시아 블라디보스토크에서 첫 환자가 보고된 뒤 2차 세계대전과 6·25전쟁을 거치며 수천 명의 희생자를 냈다. 당시 소련과 중국은 대대적인 인체실험까지 벌였고 미국은 노벨상 수상자 2명이 포함된 연구진 200여명과 막대한 예산을 투입해 정체를 밝히려고 애썼지만 감염 경로와 원인 병원체를 찾지 못했다. 한탄바이러스가 발견된 이후 국내에선 백신제조까지 일사천리로 이뤄졌다. 1991년 녹십자는 고인과 공동연구를 유행성출혈열 예방 백신 ‘한타 박스’를 내놨다. 바이러스 발견자가 진단법과 예방 백신까지 개발한 최초 사례다. 지금도 휴전선 일대에 근무하는 군인과 주민은 이 주사를 맞는다. 고인은 한탄바이러스 분리와 백신 개발로 유력한 노벨상 수상자로 거론되기도 했다. 2019년 9월 연구데이터 분석기업 클래리베이터 애널리틱스가 선정한 ‘2021년 피인용 우수 연구자’ 16명 중 한 명으로 꼽혔기 때문이다. 당시 국내 기관 소속 연구자로는 다섯 번째 한국인으로는 네 번째였다. 클래리베이트의 피인용 우수 연구자는 1970년 이후 등록된 과학기술인용색인 SCI 논문 5200만여 건 중 최상위 0.01%에 속하는 2000회 이상 인용된 논문을 보유하면서 동시에 연구가 독창적이고 인류에 높은 공헌을 한 경우 선정된다. 노벨상 수상의 예측 지표 중 하나로 여겨진다. 고인은 또한 한국인이 사랑하는 근대 과학자였다. 지난 2016년 과학기술정보통신부 전신인 미래창조과학부와 한국과학창의재단 한국경제신문이 진행한 우리 생활을 변화시킨 근현대 대표 과학기술인’ 조사에서 한국이 낳은 세계적 물리학자인 고 故 이휘소 박사가 대한민국 최고 과학자에 이어 고인을 두 번째로 많이 꼽았다.<|end_of_text|>\n",
      "\n",
      "Assistant: 이 이호왕 고려대 명예교수는 바이러스의 병원체와 진단법 백신까지 모두 개발한 한국을 대표하는 의학자이자 미생물학자이며, 신증후군출혈열 병원체인 한탄바이러스와 서울바이러스를 세계 최초로 발견하고 예방백신 및 진단법을 개발해 세계 의학발전에 기여한 것으로 평가된다.<|end_of_text|>You are an AI assistant specialized in news articles.Your role is to provide accurate summaries and insights in Korean. Please analyze the given text and provide concise, informative summaries that highlight the key goals and findings.\n",
      "\n",
      "Human: Please summarize the goals for journalist in this text:\n",
      "\n",
      "한탄바이러스 발견 노벨상 유력 후보로 자주 거론 한국을 대표하는 의학자이자 미생물학자 이호왕 고려대 명예교수. 고려대의대 제공 한탄바이러스를 발견한 우리나라 대표 의과학자 이호왕 고려대 명예교수가 5일 숙환으로 별세했다. 향년 94세. 고인은 바이러스의 병원체와 진단법 백신까지 모두 개발한 한국을 대표하는 의학자이자 미생물학자다. 신증후군출혈열 병원체인 한탄바이러스와 서울바이러스를 세계 최초로 발견하고 예방백신 및 진단법을 개발해 세계 의학발전에 기여한 것으로 평가된다. 1928년 함경남도 신흥에서 출생한 고인은 1973년 고대의대에 부임해 의과대학장을 지냈으며 1982년 세계보건기구 신증후출혈열연구협력센터 소장 2000년 대한민국학술원 회장 등을 역임했다. 1979년 미국 최고민간인공로훈장 1987년 인촌상 1992년 호암상 1995년 태국 프린스 마히돌상 2001년 일본 니케이 아시아상 2002년 과학기술훈장 창조장 2009년 서재필의학상 2018년 대한민국 과학기술유공자로 추대됐으며 2002년 미국 학술원 NAS 외국회원 2009년 일본 학사원 명예회원에 선정되며 국내외 학계에서 활발한 활동을 이어왔다. 고인의 빈소는 고려대 안암병원 장례식장 303호에 마련됐다. 발인은 7일 오전 11시 50분이고 장지는 서울추모공원이다. 고인은 1976년 3월 경기도 동두천 한탄강 유역에서 채집한 등줄쥐의 폐 조직에서 세계 최초로 유행성출혈열 병원체와 면역체를 발견한 것으로 널리 알려졌다. 고인은 이 병원체 바이러스를 발견장소의 이름을 따 명명했다. 그 유명한 한탄 바이러스 의 발견이었다. 고인이 병원체를 발견하기 전까지 이 유행성출혈열은 당시 정체불명의 괴질로 유명했다. 1916년 러시아 블라디보스토크에서 첫 환자가 보고된 뒤 2차 세계대전과 6·25전쟁을 거치며 수천 명의 희생자를 냈다. 당시 소련과 중국은 대대적인 인체실험까지 벌였고 미국은 노벨상 수상자 2명이 포함된 연구진 200여명과 막대한 예산을 투입해 정체를 밝히려고 애썼지만 감염 경로와 원인 병원체를 찾지 못했다. 한탄바이러스가 발견된 이후 국내에선 백신제조까지 일사천리로 이뤄졌다. 1991년 녹십자는 고인과 공동연구를 유행성출혈열 예방 백신 ‘한타 박스’를 내놨다. 바이러스 발견자가 진단법과 예방 백신까지 개발한 최초 사례다. 지금도 휴전선 일대에 근무하는 군인과 주민은 이 주사를 맞는다. 고인은 한탄바이러스 분리와 백신 개발로 유력한 노벨상 수상자로 거론되기도 했다. 2019년 9월 연구데이터 분석기업 클래리베이터 애널리틱스가 선정한 ‘2021년 피인용 우수 연구자’ 16명 중 한 명으로 꼽혔기 때문이다. 당시 국내 기관 소속 연구자로는 다섯 번째 한국인으로는 네 번째였다. 클래리베이트의 피인용 우수 연구자는 1970년 이후 등록된 과학기술인용색인 SCI 논문 5200만여 건 중 최상위 0.01%에 속하는 2000회 이상 인용된 논문을 보유하면서 동시에 연구가 독창적이고 인류에 높은 공헌을 한 경우 선정된다. 노벨상 수상의 예측 지표 중 하나로 여겨진다. 고인은 또한 한국인이 사랑하는 근대 과학자였다. 지난 2016년 과학기술정보통신부 전신인 미래창조과학부와 한국과학창의재단 한국경제신문이 진행한 우리 생활을 변화시킨 근현대 대표 과학기술인’ 조사에서 한국이 낳은 세계적 물리학자인 고 故 이휘소 박사가 대한민국 최고 과학자에 이어 고인을 두 번째로 많이 꼽았다.<|end_of_text|>\n",
      "\n",
      "Assistant: 이 이호왕 고려대 명예교수는 바이러스의 병원체와 진단법 백신까지 모두 개발한 한국을 대표하는 의학자이자 미생물학자이며, 신증후군출혈열 병원체인 한탄바이러스와 서울바이러스를 세계 최초로 발견하고 예방백신 및 진단법을 개발해 세계 의학발전에 기여한 것으로 평가된다.<|end_of_text|>\n",
      "\n",
      "\n",
      "Downloading shards: 100%|██████████████████████| 4/4 [00:00<00:00, 17349.76it/s]\n",
      "Downloading shards: 100%|██████████████████████| 4/4 [00:00<00:00, 17848.10it/s]\n",
      "Downloading shards: 100%|██████████████████████| 4/4 [00:00<00:00, 17367.72it/s]\n",
      "Downloading shards: 100%|██████████████████████| 4/4 [00:00<00:00, 17067.36it/s]\n",
      "Loading checkpoint shards: 100%|██████████████████| 4/4 [00:05<00:00,  1.25s/it]\n",
      "Loading checkpoint shards: 100%|██████████████████| 4/4 [00:05<00:00,  1.25s/it]\n",
      "Loading checkpoint shards: 100%|██████████████████| 4/4 [00:05<00:00,  1.26s/it]\n",
      "Loading checkpoint shards: 100%|██████████████████| 4/4 [00:05<00:00,  1.29s/it]\n",
      "Generating train split: 14 examples [00:00, 800.07 examples/s]\n",
      "Generating train split: 14 examples [00:00, 829.57 examples/s]\n",
      "trainable params: 41,943,040 || all params: 8,072,204,288 || trainable%: 0.5195983464188562\n",
      "100%|█████████████████████████████████████████████| 2/2 [00:18<00:00,  8.78s/it]\n",
      "  0%|                                                     | 0/4 [00:00<?, ?it/s]\u001b[A\n",
      " 50%|██████████████████████▌                      | 2/4 [00:01<00:01,  1.77it/s]\u001b[A\n",
      " 75%|█████████████████████████████████▊           | 3/4 [00:02<00:00,  1.25it/s]\u001b[A\n",
      "                                                                                \u001b[A\n",
      "\u001b[A{'eval_loss': 2.346055269241333, 'eval_runtime': 4.8412, 'eval_samples_per_second': 2.892, 'eval_steps_per_second': 0.826, 'epoch': 1.0}\n",
      "100%|█████████████████████████████████████████████| 2/2 [00:23<00:00,  8.78s/it]\n",
      "100%|█████████████████████████████████████████████| 4/4 [00:03<00:00,  1.09it/s]\u001b[A\n",
      "                                                                                \u001b[A/home/ec2-user/anaconda3/envs/pytorch_p310/lib/python3.10/site-packages/peft/utils/other.py:581: UserWarning: Unable to fetch remote file due to the following error 401 Client Error. (Request ID: Root=1-667d7197-1506be956c6d543634d086e4;8b73ea29-c1fb-46f8-95a8-4d211edf6483)\n",
      "\n",
      "Cannot access gated repo for url https://huggingface.co/meta-llama/Meta-Llama-3-8B/resolve/main/config.json.\n",
      "Access to model meta-llama/Meta-Llama-3-8B is restricted. You must be authenticated to access it. - silently ignoring the lookup for the file config.json in meta-llama/Meta-Llama-3-8B.\n",
      "  warnings.warn(\n",
      "/home/ec2-user/anaconda3/envs/pytorch_p310/lib/python3.10/site-packages/peft/utils/save_and_load.py:154: UserWarning: Could not find a config file in meta-llama/Meta-Llama-3-8B - will assume that the vocabulary was not modified.\n",
      "  warnings.warn(\n",
      "/home/ec2-user/anaconda3/envs/pytorch_p310/lib/python3.10/site-packages/peft/utils/other.py:581: UserWarning: Unable to fetch remote file due to the following error 401 Client Error. (Request ID: Root=1-667d719e-768d982d1793f5d279eb3c50;e0bf4615-2658-47cb-9518-5097e5085884)\n",
      "\n",
      "Cannot access gated repo for url https://huggingface.co/meta-llama/Meta-Llama-3-8B/resolve/main/config.json.\n",
      "Access to model meta-llama/Meta-Llama-3-8B is restricted. You must be authenticated to access it. - silently ignoring the lookup for the file config.json in meta-llama/Meta-Llama-3-8B.\n",
      "  warnings.warn(\n",
      "/home/ec2-user/anaconda3/envs/pytorch_p310/lib/python3.10/site-packages/peft/utils/save_and_load.py:154: UserWarning: Could not find a config file in meta-llama/Meta-Llama-3-8B - will assume that the vocabulary was not modified.\n",
      "  warnings.warn(\n",
      "/home/ec2-user/anaconda3/envs/pytorch_p310/lib/python3.10/site-packages/peft/utils/other.py:581: UserWarning: Unable to fetch remote file due to the following error 401 Client Error. (Request ID: Root=1-667d719e-526787717b42afcb68a084df;c4512f79-eacd-4ec9-b837-11c82340bc0b)\n",
      "\n",
      "Cannot access gated repo for url https://huggingface.co/meta-llama/Meta-Llama-3-8B/resolve/main/config.json.\n",
      "Access to model meta-llama/Meta-Llama-3-8B is restricted. You must be authenticated to access it. - silently ignoring the lookup for the file config.json in meta-llama/Meta-Llama-3-8B.\n",
      "  warnings.warn(\n",
      "/home/ec2-user/anaconda3/envs/pytorch_p310/lib/python3.10/site-packages/peft/utils/save_and_load.py:154: UserWarning: Could not find a config file in meta-llama/Meta-Llama-3-8B - will assume that the vocabulary was not modified.\n",
      "  warnings.warn(\n",
      "/home/ec2-user/anaconda3/envs/pytorch_p310/lib/python3.10/site-packages/peft/utils/other.py:581: UserWarning: Unable to fetch remote file due to the following error 401 Client Error. (Request ID: Root=1-667d719e-2ab1bbe85c279dd811a24a8e;76c20fb3-0a02-4e59-b675-b7e5e1f41e1b)\n",
      "\n",
      "Cannot access gated repo for url https://huggingface.co/meta-llama/Meta-Llama-3-8B/resolve/main/config.json.\n",
      "Access to model meta-llama/Meta-Llama-3-8B is restricted. You must be authenticated to access it. - silently ignoring the lookup for the file config.json in meta-llama/Meta-Llama-3-8B.\n",
      "  warnings.warn(\n",
      "/home/ec2-user/anaconda3/envs/pytorch_p310/lib/python3.10/site-packages/peft/utils/save_and_load.py:154: UserWarning: Could not find a config file in meta-llama/Meta-Llama-3-8B - will assume that the vocabulary was not modified.\n",
      "  warnings.warn(\n",
      "/home/ec2-user/anaconda3/envs/pytorch_p310/lib/python3.10/site-packages/peft/utils/other.py:581: UserWarning: Unable to fetch remote file due to the following error 401 Client Error. (Request ID: Root=1-667d719f-31c769995a2a7f1569b61dc5;a88aaf18-4b8b-4077-a31f-3c4d9239a2df)\n",
      "\n",
      "Cannot access gated repo for url https://huggingface.co/meta-llama/Meta-Llama-3-8B/resolve/main/config.json.\n",
      "Access to model meta-llama/Meta-Llama-3-8B is restricted. You must be authenticated to access it. - silently ignoring the lookup for the file config.json in meta-llama/Meta-Llama-3-8B.\n",
      "  warnings.warn(\n",
      "[rank0]:[2024-06-27 14:05:20,123] torch.distributed.fsdp._debug_utils: [WARNING] FSDP _optim_state_dict() profiling:  defaultdict(<class 'float'>, {'preprocessing': 0.2366860889887903, 'preprocessing_with_comm': 0.0029830690182279795, 'state_converting': 0.21151837898651138, <Type.ALL: 'all'>: 0.4623776790103875})\n",
      "{'train_runtime': 37.819, 'train_samples_per_second': 0.37, 'train_steps_per_second': 0.053, 'train_loss': 2.4110445976257324, 'epoch': 1.0}\n",
      "100%|█████████████████████████████████████████████| 2/2 [00:37<00:00, 18.91s/it]\n",
      "/home/ec2-user/anaconda3/envs/pytorch_p310/lib/python3.10/site-packages/peft/utils/other.py:581: UserWarning: Unable to fetch remote file due to the following error 401 Client Error. (Request ID: Root=1-667d71a6-11a8319a440f63da078639cd;937e9484-a563-4ac1-b719-5383c18ef30e)\n",
      "\n",
      "Cannot access gated repo for url https://huggingface.co/meta-llama/Meta-Llama-3-8B/resolve/main/config.json.\n",
      "Access to model meta-llama/Meta-Llama-3-8B is restricted. You must be authenticated to access it. - silently ignoring the lookup for the file config.json in meta-llama/Meta-Llama-3-8B.\n",
      "  warnings.warn(\n",
      "/home/ec2-user/anaconda3/envs/pytorch_p310/lib/python3.10/site-packages/peft/utils/save_and_load.py:154: UserWarning: Could not find a config file in meta-llama/Meta-Llama-3-8B - will assume that the vocabulary was not modified.\n",
      "  warnings.warn(\n"
     ]
    }
   ],
   "source": [
    "!ACCELERATE_USE_FSDP=1 FSDP_CPU_RAM_EFFICIENT_LOADING=1 torchrun --nproc_per_node=4 \\\n",
    "../scripts/run_fsdp_qlora.py \\\n",
    "--config llama_3_8b_fsdp_qlora.yaml"
   ]
  },
  {
   "cell_type": "markdown",
   "id": "441607e4-f93f-438e-8985-99a76233fe47",
   "metadata": {},
   "source": [
    "## 4. 베이스 모델과 훈련된 모델 머지"
   ]
  },
  {
   "cell_type": "code",
   "execution_count": 21,
   "id": "cebdb212",
   "metadata": {},
   "outputs": [
    {
     "data": {
      "text/plain": [
       "('meta-llama/Meta-Llama-3-8B',\n",
       " '/home/ec2-user/SageMaker/models/llama-3-8b-naver-news')"
      ]
     },
     "execution_count": 21,
     "metadata": {},
     "output_type": "execute_result"
    }
   ],
   "source": [
    "model_id, output_dir"
   ]
  },
  {
   "cell_type": "markdown",
   "id": "a3a8acc4",
   "metadata": {},
   "source": [
    "### 모델 머지 및 로컬에 저장"
   ]
  },
  {
   "cell_type": "code",
   "execution_count": 22,
   "metadata": {},
   "outputs": [
    {
     "data": {
      "application/vnd.jupyter.widget-view+json": {
       "model_id": "be9de52037f74ccab9ad865afea44a44",
       "version_major": 2,
       "version_minor": 0
      },
      "text/plain": [
       "Downloading shards:   0%|          | 0/4 [00:00<?, ?it/s]"
      ]
     },
     "metadata": {},
     "output_type": "display_data"
    },
    {
     "data": {
      "application/vnd.jupyter.widget-view+json": {
       "model_id": "9fe0ef78bfba4b97b02dde7a3324d760",
       "version_major": 2,
       "version_minor": 0
      },
      "text/plain": [
       "Loading checkpoint shards:   0%|          | 0/4 [00:00<?, ?it/s]"
      ]
     },
     "metadata": {},
     "output_type": "display_data"
    },
    {
     "name": "stderr",
     "output_type": "stream",
     "text": [
      "Special tokens have been added in the vocabulary, make sure the associated word embeddings are fine-tuned or trained.\n"
     ]
    }
   ],
   "source": [
    "from peft import AutoPeftModelForCausalLM\n",
    "import torch\n",
    "\n",
    "# Load PEFT model on CPU\n",
    "\n",
    "model = AutoPeftModelForCausalLM.from_pretrained(\n",
    "    output_dir,\n",
    "    torch_dtype=torch.float16,\n",
    "    low_cpu_mem_usage=True,\n",
    ")  \n",
    "# Merge LoRA and base model and save\n",
    "merged_model = model.merge_and_unload()\n",
    "merged_model.save_pretrained(output_dir,safe_serialization=True, max_shard_size=\"2GB\")"
   ]
  },
  {
   "cell_type": "markdown",
   "id": "aff0ea42",
   "metadata": {},
   "source": [
    "### 머지된 모델 로딩"
   ]
  },
  {
   "cell_type": "code",
   "execution_count": 23,
   "id": "a1a6607d",
   "metadata": {},
   "outputs": [
    {
     "data": {
      "application/vnd.jupyter.widget-view+json": {
       "model_id": "f5587115935a4890a18a69140dc893e0",
       "version_major": 2,
       "version_minor": 0
      },
      "text/plain": [
       "Downloading shards:   0%|          | 0/4 [00:00<?, ?it/s]"
      ]
     },
     "metadata": {},
     "output_type": "display_data"
    },
    {
     "data": {
      "application/vnd.jupyter.widget-view+json": {
       "model_id": "e7a41f2fa2b84f04a5a7afe9f3641dda",
       "version_major": 2,
       "version_minor": 0
      },
      "text/plain": [
       "Loading checkpoint shards:   0%|          | 0/4 [00:00<?, ?it/s]"
      ]
     },
     "metadata": {},
     "output_type": "display_data"
    },
    {
     "name": "stderr",
     "output_type": "stream",
     "text": [
      "Special tokens have been added in the vocabulary, make sure the associated word embeddings are fine-tuned or trained.\n",
      "Special tokens have been added in the vocabulary, make sure the associated word embeddings are fine-tuned or trained.\n"
     ]
    }
   ],
   "source": [
    "import torch\n",
    "from peft import AutoPeftModelForCausalLM\n",
    "from transformers import AutoTokenizer \n",
    "\n",
    "\n",
    "# Load Model with PEFT adapter\n",
    "model = AutoPeftModelForCausalLM.from_pretrained(\n",
    "  pretrained_model_name_or_path = output_dir,\n",
    "  torch_dtype=torch.float16,\n",
    "  quantization_config= {\"load_in_4bit\": True},\n",
    "  device_map=\"auto\"\n",
    ")\n",
    "tokenizer = AutoTokenizer.from_pretrained(output_dir)"
   ]
  },
  {
   "cell_type": "markdown",
   "id": "6908046b",
   "metadata": {},
   "source": [
    "## 5. 추론"
   ]
  },
  {
   "cell_type": "markdown",
   "id": "a5388b34",
   "metadata": {},
   "source": [
    "### 테스트 데이터 셋 로딩"
   ]
  },
  {
   "cell_type": "code",
   "execution_count": 24,
   "id": "a1b1780c",
   "metadata": {},
   "outputs": [
    {
     "data": {
      "text/plain": [
       "'../data/naver-news-summarization-ko/test_dataset.json'"
      ]
     },
     "execution_count": 24,
     "metadata": {},
     "output_type": "execute_result"
    }
   ],
   "source": [
    "test_data_json"
   ]
  },
  {
   "cell_type": "code",
   "execution_count": 25,
   "id": "72ce7d07",
   "metadata": {},
   "outputs": [
    {
     "data": {
      "text/plain": [
       "(1,\n",
       " [{'content': 'You are an AI assistant specialized in news articles.Your role is to provide accurate summaries and insights in Korean. Please analyze the given text and provide concise, informative summaries that highlight the key goals and findings.',\n",
       "   'role': 'system'},\n",
       "  {'content': 'Please summarize the goals for journalist in this text:\\n\\nLG생활건강 글로벌에코리더 YOUTH가 3일 강원 동해시 망상해변에서 비치코밍 캠페인을 진행했다. LG생활건강 제공 LG생활건강이 ESG 환경·사회·지배구조 경영 일환으로 청년 환경 활동가들과 바다 쓰레기 청소 활동을 벌였다. LG생활건강은 MZ세대 밀레니얼 Z세대 기후환경 활동가 집단 ‘글로벌에코리더 YOUTH’ 100여 명과 지난 3일 강원 동해 망상해변에서 비치코밍 캠페인을 펼쳤다고 4일 발표했다. 비치코밍이란 해안가에 버려지거나 떠밀려온 플라스틱 유리 조각 등을 빗질하듯이 주워 모으는 것을 의미한다. LG생활건강은 환경단체 에코맘코리아와 함께 올초부터 환경에 관심이 많은 20세 이상 청년 100여 명을 선발해 MZ세대 기후환경 활동가로 육성하는 글로벌에코리더 YOUTH 사업을 이어오고 있다. 이들은 4 7명이 한조가 돼 대학 축제에서 홍보 부스를 운영하고 길거리 쓰레기를 줍는 등 대학가와 지역사회를 중심으로 가시적인 변화를 끌어내기 위해 노력하고 있다. 이번 행사는 유엔환경계획 UNEP 이 일회용 플라스틱으로 인한 해양오염을 줄이기 위해 세계 청년들과 함께하는 ‘플라스틱 타이드 터너스 챌린지’ 캠페인의 일환으로 진행됐다. 시민 스쿠버다이버 원주환경청 동해시 관계자 등도 참여해 해양 정화 활동을 펼쳤다. 회사 측은 전문가들이 해양쓰레기의 심각성과 문제 해결에 관해 토론하는 시간도 마련했다고 설명했다. LG생활건강 관계자는 “캠페인에 참여한 MZ세대가 기후 위기와 해양쓰레기 문제에 더 많은 관심을 갖고 환경 활동가로 성장하도록 지원할 것”이라며 “청년들의 목소리를 경청하는 ESG 경영을 해나가겠다”고 밝혔다.',\n",
       "   'role': 'user'}])"
      ]
     },
     "execution_count": 25,
     "metadata": {},
     "output_type": "execute_result"
    }
   ],
   "source": [
    "from datasets import load_dataset \n",
    "from random import randint\n",
    "\n",
    "# Load our test dataset\n",
    "eval_dataset = load_dataset(\"json\", data_files=test_data_json, split=\"train\")\n",
    "rand_idx = randint(0, len(eval_dataset))\n",
    "messages = eval_dataset[rand_idx][\"messages\"][:2]\n",
    "rand_idx, messages"
   ]
  },
  {
   "cell_type": "markdown",
   "id": "ba15b47b",
   "metadata": {},
   "source": [
    "### 추론"
   ]
  },
  {
   "cell_type": "code",
   "execution_count": 26,
   "id": "ddaf71a0",
   "metadata": {},
   "outputs": [
    {
     "name": "stderr",
     "output_type": "stream",
     "text": [
      "The attention mask and the pad token id were not set. As a consequence, you may observe unexpected behavior. Please pass your input's `attention_mask` to obtain reliable results.\n",
      "Setting `pad_token_id` to `eos_token_id`:128001 for open-end generation.\n"
     ]
    },
    {
     "name": "stdout",
     "output_type": "stream",
     "text": [
      "**Query:**\n",
      "Please summarize the goals for journalist in this text:\n",
      "\n",
      "LG생활건강 글로벌에코리더 YOUTH가 3일 강원 동해시 망상해변에서 비치코밍 캠페인을 진행했다. LG생활건강 제공 LG생활건강이 ESG 환경·사회·지배구조 경영 일환으로 청년 환경 활동가들과 바다 쓰레기 청소 활동을 벌였다. LG생활건강은 MZ세대 밀레니얼 Z세대 기후환경 활동가 집단 ‘글로벌에코리더 YOUTH’ 100여 명과 지난 3일 강원 동해 망상해변에서 비치코밍 캠페인을 펼쳤다고 4일 발표했다. 비치코밍이란 해안가에 버려지거나 떠밀려온 플라스틱 유리 조각 등을 빗질하듯이 주워 모으는 것을 의미한다. LG생활건강은 환경단체 에코맘코리아와 함께 올초부터 환경에 관심이 많은 20세 이상 청년 100여 명을 선발해 MZ세대 기후환경 활동가로 육성하는 글로벌에코리더 YOUTH 사업을 이어오고 있다. 이들은 4 7명이 한조가 돼 대학 축제에서 홍보 부스를 운영하고 길거리 쓰레기를 줍는 등 대학가와 지역사회를 중심으로 가시적인 변화를 끌어내기 위해 노력하고 있다. 이번 행사는 유엔환경계획 UNEP 이 일회용 플라스틱으로 인한 해양오염을 줄이기 위해 세계 청년들과 함께하는 ‘플라스틱 타이드 터너스 챌린지’ 캠페인의 일환으로 진행됐다. 시민 스쿠버다이버 원주환경청 동해시 관계자 등도 참여해 해양 정화 활동을 펼쳤다. 회사 측은 전문가들이 해양쓰레기의 심각성과 문제 해결에 관해 토론하는 시간도 마련했다고 설명했다. LG생활건강 관계자는 “캠페인에 참여한 MZ세대가 기후 위기와 해양쓰레기 문제에 더 많은 관심을 갖고 환경 활동가로 성장하도록 지원할 것”이라며 “청년들의 목소리를 경청하는 ESG 경영을 해나가겠다”고 밝혔다.\n",
      "\n",
      "**Original Answer:**\n",
      "LG생활건강은 환경단체 에코맘코리아와 함께 올초부터 환경에 관심이 많은 20세 이상 청년 100여 명을 선발해 MZ세대 기후환경 활동가로 육성하는 ‘플라스틱 타이드 터너스 챌린지’ 캠페인의 일환으로  MZ세대 밀레니얼 Z세대 기후환경 활동가 집단 ‘글로벌에코리더 YOUTH’ 100여 명과 지난 3일 강원 동해 망상해변에서 비치코밍 캠페인을 펼쳤다고 4일 밝혔다.\n",
      "\n",
      "**Generated Answer:**\n",
      "1. LG 생활건강 글로벌 에코 리더 YOUTH가 3일 강원 동해 시 망상 해변에서 비치 코밍 캠페인을 진행했다.\n",
      "\n",
      "2. LG 생활건강이 ESG 환경 사회 지배 구조 경영 일환으로 청년 환경 활동가들과 바다 쓰레기 청소 활동을 벌였다.\n",
      "\n",
      "3. LG 생활건강은 MZ 세대 밀레니얼 Z 세대 기후 환경 활동가 집단'글로벌 에코 리더 YOUTH'100 여 명과 지난 3 일 강원 동해 망상 해변에서 비치 코밍 캠페인을 펼쳤다고 4 일 발표했다.\n",
      "\n",
      "4. 비치 코밍이란 해안 가에 버려지거나 떠밀려온 플라스틱 유리 조각 등을 빗질하듯이 주워 모으는 것을 의미한다.\n",
      "\n",
      "5. LG 생활건강은 환경 단체 에코 맘 코리아와 함께 올 초부터 환경에 관심이 많은 20 세 이상 청년 100 여 명을 선발해 MZ 세대 기후 환경 활동가로 육성하는 글로벌 에코 리더 YOUTH 사업을 이어오고 있다.\n",
      "\n",
      "6. 이들은 4 7 명이 한 조가 돼 대학 축제에서 홍보 부스를 운영하고 길거리 쓰레기를 줍는 등 대학 가와 지역 사회를 중심으로 가시적인 변화를 끌어내기 위해 노력하고 있다.\n",
      "\n",
      "7. 이번 행사는 유엔 환경 계획 UNEP 이 일회용 플라스틱으로 인한 해양 오염을 줄이기 위해 세계 청년들과 함께 하는'플라스틱 타이드 터너스 챌린지'캠페인의 일환으로 진행됐다.\n",
      "\n",
      "8. 시민 스쿠버 다이버 원주 환경 청 동해 시 관계자 등도 참여해 해양 정화 활동을 펼쳤다.\n",
      "\n",
      "9. 회사 측은 전문가들이 해양 쓰레기의 심각성과 문제 해결에 관해 토론하는 시간도 마련했다고 설명했다.\n",
      "\n",
      "10. LG 생활건강 관계자는 \" 캠페인에 참여한 MZ 세대가 기후 위기와 해양 쓰레기 문제에 더 많은 관심을 갖고 환경 활동가로 성장하도록 지원할 것 \" 이며 \" 청년들의 목소\n"
     ]
    }
   ],
   "source": [
    "# Test on sample \n",
    "input_ids = tokenizer.apply_chat_template(messages,add_generation_prompt=True,return_tensors=\"pt\").to(model.device)\n",
    "outputs = model.generate(\n",
    "    input_ids,\n",
    "    max_new_tokens=512,\n",
    "    eos_token_id= tokenizer.eos_token_id,\n",
    "    do_sample=True,\n",
    "    temperature=0.6,\n",
    "    top_p=0.9,\n",
    ")\n",
    "response = outputs[0][input_ids.shape[-1]:]\n",
    "\n",
    "print(f\"**Query:**\\n{eval_dataset[rand_idx]['messages'][1]['content']}\\n\")\n",
    "print(f\"**Original Answer:**\\n{eval_dataset[rand_idx]['messages'][2]['content']}\\n\")\n",
    "print(f\"**Generated Answer:**\\n{tokenizer.decode(response,skip_special_tokens=True)}\")\n",
    "\n"
   ]
  },
  {
   "cell_type": "code",
   "execution_count": null,
   "id": "8d60aaa4-b654-49b3-bb87-34ad6a9f375c",
   "metadata": {},
   "outputs": [],
   "source": []
  }
 ],
 "metadata": {
  "kernelspec": {
   "display_name": "Python 3.10.14 ('pytorch_p310')",
   "language": "python",
   "name": "python3"
  },
  "language_info": {
   "codemirror_mode": {
    "name": "ipython",
    "version": 3
   },
   "file_extension": ".py",
   "mimetype": "text/x-python",
   "name": "python",
   "nbconvert_exporter": "python",
   "pygments_lexer": "ipython3",
   "version": "3.10.14"
  },
  "vscode": {
   "interpreter": {
    "hash": "e2257b1c3513dc4782645ad49f694a4b0012bebbbbc3534a56d350db8e4f89a2"
   }
  }
 },
 "nbformat": 4,
 "nbformat_minor": 5
}
