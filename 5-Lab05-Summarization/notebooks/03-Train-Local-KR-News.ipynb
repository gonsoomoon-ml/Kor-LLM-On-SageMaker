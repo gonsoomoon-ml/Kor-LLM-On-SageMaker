{
 "cells": [
  {
   "cell_type": "markdown",
   "id": "fe4872e4-c90b-434b-bfe5-f88292fba385",
   "metadata": {},
   "source": [
    "# 로컬에서 훈련 하기\n",
    "- https://www.kaggle.com/code/mitanshuchakrawarty/fine-tune-llm-for-text-summary"
   ]
  },
  {
   "cell_type": "markdown",
   "id": "e5da7aa7-1a2d-4db1-b011-59217c32a83a",
   "metadata": {},
   "source": [
    "## 1. 환경 셋업"
   ]
  },
  {
   "cell_type": "code",
   "execution_count": 8,
   "id": "06b5f4c4",
   "metadata": {},
   "outputs": [
    {
     "name": "stdout",
     "output_type": "stream",
     "text": [
      "Token has not been saved to git credential helper. Pass `add_to_git_credential=True` if you want to set the git credential as well.\n",
      "Token is valid (permission: read).\n",
      "Your token has been saved to /home/ec2-user/SageMaker/.cache/token\n",
      "Login successful\n"
     ]
    }
   ],
   "source": [
    "from dotenv import load_dotenv\n",
    "\n",
    "import os\n",
    "\n",
    "HF_TOKEN = os.getenv('HF_TOKEN')\n",
    "\n",
    "!huggingface-cli login --token {HF_TOKEN}"
   ]
  },
  {
   "cell_type": "code",
   "execution_count": 9,
   "id": "bdcebd19",
   "metadata": {},
   "outputs": [],
   "source": [
    "import os \n",
    "os.environ['TRANSFORMERS_CACHE'] = \"/home/ec2-user/SageMaker/.cache\" \n",
    "os.environ['HF_DATASETS_CACHE'] = \"/home/ec2-user/SageMaker/.cache\" \n",
    "os.environ['HF_HOME'] = \"/home/ec2-user/SageMaker/.cache\""
   ]
  },
  {
   "cell_type": "code",
   "execution_count": 10,
   "id": "24bce431",
   "metadata": {},
   "outputs": [
    {
     "name": "stdout",
     "output_type": "stream",
     "text": [
      "data_folder:  ../data/naver-news-summarization-ko\n",
      "train_data_json:  ../data/naver-news-summarization-ko/train_dataset.json\n",
      "validation_data_json:  ../data/naver-news-summarization-ko/validation_dataset.json\n",
      "test_data_json:  ../data/naver-news-summarization-ko/test_dataset.json\n"
     ]
    }
   ],
   "source": [
    "%store -r data_folder\n",
    "%store -r train_data_json \n",
    "%store -r validation_data_json \n",
    "%store -r test_data_json \n",
    "\n",
    "print(\"data_folder: \", data_folder)\n",
    "print(\"train_data_json: \", train_data_json)\n",
    "print(\"validation_data_json: \", validation_data_json)\n",
    "print(\"test_data_json: \", test_data_json)"
   ]
  },
  {
   "cell_type": "code",
   "execution_count": 11,
   "id": "a396bc4f-0b0a-4ffb-8c59-18ed6d0a968d",
   "metadata": {
    "tags": []
   },
   "outputs": [],
   "source": [
    "import torch\n",
    "import time\n",
    "import pandas as pd\n",
    "import numpy as np\n",
    "import random\n",
    "import matplotlib.pyplot as plt\n",
    "\n",
    "from datasets import Dataset, load_dataset\n",
    "from datasets import load_dataset, load_metric\n",
    "from transformers import pipeline, set_seed\n",
    "from transformers import AutoModelForSeq2SeqLM, AutoTokenizer\n",
    "\n",
    "import warnings\n",
    "warnings.filterwarnings(\"ignore\")"
   ]
  },
  {
   "cell_type": "markdown",
   "id": "8a78f53c-d21d-4fca-b69d-6a85d966353c",
   "metadata": {},
   "source": [
    "## 2. 베이스 모델 준비"
   ]
  },
  {
   "cell_type": "code",
   "execution_count": 12,
   "id": "d514e3df",
   "metadata": {},
   "outputs": [],
   "source": [
    "model_id = \"meta-llama/Meta-Llama-3-8B\"\n",
    "output_dir = \"/home/ec2-user/SageMaker/models/llama-3-8b-naver-news\""
   ]
  },
  {
   "cell_type": "markdown",
   "id": "2403f6b8",
   "metadata": {},
   "source": [
    "### Config YAML 파일 생성"
   ]
  },
  {
   "cell_type": "code",
   "execution_count": 13,
   "id": "72d30120",
   "metadata": {},
   "outputs": [
    {
     "name": "stdout",
     "output_type": "stream",
     "text": [
      "Overwriting local_llama_3_8b_fsdp_qlora.yaml\n"
     ]
    }
   ],
   "source": [
    "%%writefile local_llama_3_8b_fsdp_qlora.yaml\n",
    "# script parameters\n",
    "model_id:  \"meta-llama/Meta-Llama-3-8B\" # Hugging Face model id\n",
    "dataset_path: \"../data/naver-news-summarization-ko\"                      # path to dataset\n",
    "max_seq_len:  2048              # max sequence length for model and packing of the dataset\n",
    "# training parameters\n",
    "output_dir: \"/home/ec2-user/SageMaker/models/llama-3-8b-naver-news\" # Temporary output directory for model checkpoints\n",
    "report_to: \"tensorboard\"               # report metrics to tensorboard\n",
    "learning_rate: 0.0002                  # learning rate 2e-4\n",
    "lr_scheduler_type: \"constant\"          # learning rate scheduler\n",
    "num_train_epochs: 1                    # number of training epochs\n",
    "per_device_train_batch_size: 1         # batch size per device during training\n",
    "per_device_eval_batch_size: 1          # batch size for evaluation\n",
    "gradient_accumulation_steps: 2         # number of steps before performing a backward/update pass\n",
    "optim: adamw_torch                     # use torch adamw optimizer\n",
    "logging_steps: 10                      # log every 10 steps\n",
    "save_strategy: epoch                   # save checkpoint every epoch\n",
    "evaluation_strategy: epoch             # evaluate every epoch\n",
    "max_grad_norm: 0.3                     # max gradient norm\n",
    "warmup_ratio: 0.03                     # warmup ratio\n",
    "bf16: true                             # use bfloat16 precision\n",
    "tf32: true                             # use tf32 precision\n",
    "gradient_checkpointing: true           # use gradient checkpointing to save memory\n",
    "# FSDP parameters: https://huggingface.co/docs/transformers/main/en/fsdp\n",
    "fsdp: \"full_shard auto_wrap offload\" # remove offload if enough GPU memory\n",
    "fsdp_config:\n",
    "  backward_prefetch: \"backward_pre\"\n",
    "  forward_prefetch: \"false\"\n",
    "  use_orig_params: \"false\""
   ]
  },
  {
   "cell_type": "markdown",
   "id": "c851f75d",
   "metadata": {},
   "source": [
    "## 3. 훈련 Script 실행"
   ]
  },
  {
   "cell_type": "code",
   "execution_count": 14,
   "metadata": {},
   "outputs": [
    {
     "name": "stdout",
     "output_type": "stream",
     "text": [
      "[2024-06-29 07:56:46,632] torch.distributed.run: [WARNING] \n",
      "[2024-06-29 07:56:46,632] torch.distributed.run: [WARNING] *****************************************\n",
      "[2024-06-29 07:56:46,632] torch.distributed.run: [WARNING] Setting OMP_NUM_THREADS environment variable for each process to be 1 in default, to avoid your system being overloaded, please further tune the variable for optimal performance in your application as needed. \n",
      "[2024-06-29 07:56:46,632] torch.distributed.run: [WARNING] *****************************************\n",
      "/home/ec2-user/anaconda3/envs/pytorch_p310/lib/python3.10/site-packages/transformers/utils/hub.py:124: FutureWarning: Using `TRANSFORMERS_CACHE` is deprecated and will be removed in v5 of Transformers. Use `HF_HOME` instead.\n",
      "  warnings.warn(\n",
      "/home/ec2-user/anaconda3/envs/pytorch_p310/lib/python3.10/site-packages/transformers/utils/hub.py:124: FutureWarning: Using `TRANSFORMERS_CACHE` is deprecated and will be removed in v5 of Transformers. Use `HF_HOME` instead.\n",
      "  warnings.warn(\n",
      "/home/ec2-user/anaconda3/envs/pytorch_p310/lib/python3.10/site-packages/transformers/utils/hub.py:124: FutureWarning: Using `TRANSFORMERS_CACHE` is deprecated and will be removed in v5 of Transformers. Use `HF_HOME` instead.\n",
      "  warnings.warn(\n",
      "/home/ec2-user/anaconda3/envs/pytorch_p310/lib/python3.10/site-packages/transformers/utils/hub.py:124: FutureWarning: Using `TRANSFORMERS_CACHE` is deprecated and will be removed in v5 of Transformers. Use `HF_HOME` instead.\n",
      "  warnings.warn(\n",
      "[W Utils.hpp:133] Warning: Environment variable NCCL_ASYNC_ERROR_HANDLING is deprecated; use TORCH_NCCL_ASYNC_ERROR_HANDLING instead (function getCvarInt)\n",
      "[W Utils.hpp:133] Warning: Environment variable NCCL_ASYNC_ERROR_HANDLING is deprecated; use TORCH_NCCL_ASYNC_ERROR_HANDLING instead (function getCvarInt)\n",
      "[W Utils.hpp:133] Warning: Environment variable NCCL_ASYNC_ERROR_HANDLING is deprecated; use TORCH_NCCL_ASYNC_ERROR_HANDLING instead (function getCvarInt)\n",
      "[W Utils.hpp:133] Warning: Environment variable NCCL_ASYNC_ERROR_HANDLING is deprecated; use TORCH_NCCL_ASYNC_ERROR_HANDLING instead (function getCvarInt)\n",
      "## script_args: \n",
      " ScriptArguments(dataset_path='../data/naver-news-summarization-ko', model_id='meta-llama/Meta-Llama-3-8B', max_seq_length=512)\n",
      "## training_args: \n",
      " TrainingArguments(\n",
      "_n_gpu=1,\n",
      "accelerator_config={'split_batches': False, 'dispatch_batches': None, 'even_batches': True, 'use_seedable_sampler': True, 'gradient_accumulation_kwargs': None},\n",
      "adafactor=False,\n",
      "adam_beta1=0.9,\n",
      "adam_beta2=0.999,\n",
      "adam_epsilon=1e-08,\n",
      "auto_find_batch_size=False,\n",
      "bf16=True,\n",
      "bf16_full_eval=False,\n",
      "data_seed=None,\n",
      "dataloader_drop_last=False,\n",
      "dataloader_num_workers=0,\n",
      "dataloader_persistent_workers=False,\n",
      "dataloader_pin_memory=True,\n",
      "dataloader_prefetch_factor=None,\n",
      "ddp_backend=None,\n",
      "ddp_broadcast_buffers=None,\n",
      "ddp_bucket_cap_mb=None,\n",
      "ddp_find_unused_parameters=None,\n",
      "ddp_timeout=1800,\n",
      "debug=[],\n",
      "deepspeed=None,\n",
      "disable_tqdm=False,\n",
      "dispatch_batches=None,\n",
      "do_eval=True,\n",
      "do_predict=False,\n",
      "do_train=False,\n",
      "eval_accumulation_steps=None,\n",
      "eval_delay=0,\n",
      "eval_do_concat_batches=True,\n",
      "eval_steps=None,\n",
      "evaluation_strategy=epoch,\n",
      "fp16=False,\n",
      "fp16_backend=auto,\n",
      "fp16_full_eval=False,\n",
      "fp16_opt_level=O1,\n",
      "fsdp=[<FSDPOption.FULL_SHARD: 'full_shard'>, <FSDPOption.AUTO_WRAP: 'auto_wrap'>, <FSDPOption.OFFLOAD: 'offload'>],\n",
      "fsdp_config={'backward_prefetch': 'backward_pre', 'forward_prefetch': 'false', 'use_orig_params': 'false', 'min_num_params': 0, 'xla': False, 'xla_fsdp_v2': False, 'xla_fsdp_grad_ckpt': False},\n",
      "fsdp_min_num_params=0,\n",
      "fsdp_transformer_layer_cls_to_wrap=None,\n",
      "full_determinism=False,\n",
      "gradient_accumulation_steps=2,\n",
      "gradient_checkpointing=True,\n",
      "gradient_checkpointing_kwargs=None,\n",
      "greater_is_better=None,\n",
      "group_by_length=False,\n",
      "half_precision_backend=auto,\n",
      "hub_always_push=False,\n",
      "hub_model_id=None,\n",
      "hub_private_repo=False,\n",
      "hub_strategy=every_save,\n",
      "hub_token=<HUB_TOKEN>,\n",
      "ignore_data_skip=False,\n",
      "include_inputs_for_metrics=False,\n",
      "include_num_input_tokens_seen=False,\n",
      "include_tokens_per_second=False,\n",
      "jit_mode_eval=False,\n",
      "label_names=None,\n",
      "label_smoothing_factor=0.0,\n",
      "learning_rate=0.0002,\n",
      "length_column_name=length,\n",
      "load_best_model_at_end=False,\n",
      "local_rank=0,\n",
      "log_level=passive,\n",
      "log_level_replica=warning,\n",
      "log_on_each_node=True,\n",
      "logging_dir=/home/ec2-user/SageMaker/models/llama-3-8b-naver-news/runs/Jun29_07-56-49_ip-172-16-48-49.ec2.internal,\n",
      "logging_first_step=False,\n",
      "logging_nan_inf_filter=True,\n",
      "logging_steps=10,\n",
      "logging_strategy=steps,\n",
      "lr_scheduler_kwargs={},\n",
      "lr_scheduler_type=constant,\n",
      "max_grad_norm=0.3,\n",
      "max_steps=-1,\n",
      "metric_for_best_model=None,\n",
      "mp_parameters=,\n",
      "neftune_noise_alpha=None,\n",
      "no_cuda=False,\n",
      "num_train_epochs=1,\n",
      "optim=adamw_torch,\n",
      "optim_args=None,\n",
      "optim_target_modules=None,\n",
      "output_dir=/home/ec2-user/SageMaker/models/llama-3-8b-naver-news,\n",
      "overwrite_output_dir=False,\n",
      "past_index=-1,\n",
      "per_device_eval_batch_size=1,\n",
      "per_device_train_batch_size=1,\n",
      "prediction_loss_only=False,\n",
      "push_to_hub=False,\n",
      "push_to_hub_model_id=None,\n",
      "push_to_hub_organization=None,\n",
      "push_to_hub_token=<PUSH_TO_HUB_TOKEN>,\n",
      "ray_scope=last,\n",
      "remove_unused_columns=True,\n",
      "report_to=['tensorboard'],\n",
      "resume_from_checkpoint=None,\n",
      "run_name=/home/ec2-user/SageMaker/models/llama-3-8b-naver-news,\n",
      "save_on_each_node=False,\n",
      "save_only_model=False,\n",
      "save_safetensors=True,\n",
      "save_steps=500,\n",
      "save_strategy=epoch,\n",
      "save_total_limit=None,\n",
      "seed=42,\n",
      "skip_memory_metrics=True,\n",
      "split_batches=None,\n",
      "tf32=True,\n",
      "torch_compile=False,\n",
      "torch_compile_backend=None,\n",
      "torch_compile_mode=None,\n",
      "torchdynamo=None,\n",
      "tpu_metrics_debug=False,\n",
      "tpu_num_cores=None,\n",
      "use_cpu=False,\n",
      "use_ipex=False,\n",
      "use_legacy_prediction_loop=False,\n",
      "use_mps_device=False,\n",
      "warmup_ratio=0.03,\n",
      "warmup_steps=0,\n",
      "weight_decay=0.0,\n",
      ")\n",
      "## script_args.dataset_path: \n",
      " ../data/naver-news-summarization-ko\n",
      "Generating train split: 10 examples [00:00, 4424.84 examples/s]\n",
      "Generating train split: 10 examples [00:00, 8250.01 examples/s]\n",
      "Special tokens have been added in the vocabulary, make sure the associated word embeddings are fine-tuned or trained.\n",
      "Special tokens have been added in the vocabulary, make sure the associated word embeddings are fine-tuned or trained.\n",
      "Special tokens have been added in the vocabulary, make sure the associated word embeddings are fine-tuned or trained.\n",
      "Special tokens have been added in the vocabulary, make sure the associated word embeddings are fine-tuned or trained.\n",
      "Map: 100%|██████████████████████████████| 10/10 [00:00<00:00, 397.72 examples/s]\n",
      "Map: 100%|█████████████████████████████| 10/10 [00:00<00:00, 2750.90 examples/s]\n",
      "You are an AI assistant specialized in news articles.Your role is to provide accurate summaries and insights in Korean. Please analyze the given text and provide concise, informative summaries that highlight the key goals and findings.\n",
      "\n",
      "Human: Please summarize the goals for journalist in this text:\n",
      "\n",
      "국내 최대규모 나노 전시회이자 세계 3대 나노행사 나노코리아 2022 가 6일부터 3일간 경기도 킨텍스 제1전시장 4·5홀 에서 개최된다. 올해 20회를 맞는 나노코리아는 산업통상자원부 과학기술정보통신부가 공동 주최한다. 나노융합산업연구조합과 나노기술연구협의회가 주관한다. 나노기술과 산업의 현재 미래 트랜드를 조망하는 기조 강연을 시작으로 나노 융합 전시화와 국제 심포지엄 행사가 다양하게 개최된다. 강민석 LG이노텍 부사장이 자율주행산업 동향에 따른 나노기술과 인공지능 AI 의 활용 을 주제로 기조강연을 한다. 알베르페르 프랑스 파리 슈드대 교수도 기조 강연을 맡는다. 전시규모는 코로나19 이전 수준으로 회복됐다. 삼성전자 LG 등 주요 기업과 나노 기술 기업 등 총 360개사가 참여한다. 나노 20주년 특별 기념관도 마련된다. 20주년 특별 기념관에는 차세대 반도체 미래차 6세대 6G 이동통신 탄소중립 디지털 바이오 등 6개 분야 혁신 기술이 소개된다. 산업화 세션에서는 지속 가능 성장을 위한 ESG 나노융합기술을 주제로 초청 강연이 열린다. 나노제품거래상담회 전시회테크니컬투어 최신기술발표회 등 다양한 나노 관련 부대 행사도 준비된다.<|end_of_text|>\n",
      "\n",
      "Assistant: 국내 3대 나노행사 중 하나인 나노코리아 2022 가 6일부터 3일간 경기도 킨텍스 제1전시장 4·5홀에서 개최되는데, 삼성전자 등 주요 기업과 나노 기술 기업 등 총 360개사가 참여할 예정이며 나노기술과 산업의 현재 미래 트랜드를 조망하는 기조 강연을 시작으로 나노 융합 전시화와 국제 심포지엄 행사가 다양하게 개최된다.<|end_of_text|>\n",
      "You are an AI assistant specialized in news articles.Your role is to provide accurate summaries and insights in Korean. Please analyze the given text and provide concise, informative summaries that highlight the key goals and findings.\n",
      "\n",
      "Human: Please summarize the goals for journalist in this text:\n",
      "\n",
      "4일부터 석달간 증권사 신용융자담보비율 유지의무 면제 금융당국이 코스피지수가 장중 2300 아래까지 떨어지자 주식시장 변동성을 완화하는 조치를 시행하기로 했다. 금융위원회는 1일 주식시장 마감 후 김소영 부위원장 주재로 증권 유관기관과 금융시장합동점검회의를 열고 변동성 완화조치를 시행하기로 했다고 밝혔다. 이에 따라 다음 주식시장 개장일인 오는 4일부터 9월30일까지 3개월간 증권사의 신용융자담보비율 유지의무가 면제된다. 신용융자담보비율 유지의무란 증권사가 일명 ‘빚투’ 빚내서 투자 자금인 신용융자를 시행할 때 담보를 140% 이상 확보하고 내규에서 정한 담보비율을 유지할 것을 요구하는 규제다. 유지의무 면제는 증권사의 신용융자 담보주식에 대한 과도한 반대매매를 억제하기 위한 조치다. 금융당국은 코로나19 사태가 본격화한 2020년 3월에도 이 같은 조치를 6개월간 시행한 바 있다. 7일부터 10월6일까지는 상장기업의 하루 자기주식 매수 주문 수량 한도 제한도 완화된다. 신탁취득 주식도 발행주식총수의 1% 이내에서 신탁재산 총액 범위 내로 한시적으로 확대된다. 이와 함께 금융위는 금융감독원과 한국거래소 합동으로 공매도 특별점검을 실시해 공매도 현황과 시장교란 가능성 등을 살펴보기로 했다. 현재 공매도는 지난해 5월 이후 제한적으로 실시되고 있다. 금융위와 금감원은 매주 금요일 금융시장합동점검회의를 열어 증시 등 금융시장상황을 점검할 예정이다. 금융당국은 “컨틴전시플랜에 따라 필요한 시장 변동성 완화 조치를 검토·시행해 나갈 것”이라고 말했다.<|end_of_text|>\n",
      "\n",
      "Assistant: 1일 1일 금융위원회는 증권 유관기관과 금융시장합동점검회의를 열고 코스피지수가 장중 2300 아래까지 떨어지자 주식시장 변동성을 완화하는 조치를 시행하기로 하였으며, 이에 따라 다음 주식시장 개장일인 오는 4일부터 9월30일까지 3개월간 증권사의 신용융자담보비율 유지의무가 면제된다.<|end_of_text|>\n",
      "You are an AI assistant specialized in news articles.Your role is to provide accurate summaries and insights in Korean. Please analyze the given text and provide concise, informative summaries that highlight the key goals and findings.\n",
      "\n",
      "Human: Please summarize the goals for journalist in this text:\n",
      "\n",
      "국내 최대규모 나노 전시회이자 세계 3대 나노행사 나노코리아 2022 가 6일부터 3일간 경기도 킨텍스 제1전시장 4·5홀 에서 개최된다. 올해 20회를 맞는 나노코리아는 산업통상자원부 과학기술정보통신부가 공동 주최한다. 나노융합산업연구조합과 나노기술연구협의회가 주관한다. 나노기술과 산업의 현재 미래 트랜드를 조망하는 기조 강연을 시작으로 나노 융합 전시화와 국제 심포지엄 행사가 다양하게 개최된다. 강민석 LG이노텍 부사장이 자율주행산업 동향에 따른 나노기술과 인공지능 AI 의 활용 을 주제로 기조강연을 한다. 알베르페르 프랑스 파리 슈드대 교수도 기조 강연을 맡는다. 전시규모는 코로나19 이전 수준으로 회복됐다. 삼성전자 LG 등 주요 기업과 나노 기술 기업 등 총 360개사가 참여한다. 나노 20주년 특별 기념관도 마련된다. 20주년 특별 기념관에는 차세대 반도체 미래차 6세대 6G 이동통신 탄소중립 디지털 바이오 등 6개 분야 혁신 기술이 소개된다. 산업화 세션에서는 지속 가능 성장을 위한 ESG 나노융합기술을 주제로 초청 강연이 열린다. 나노제품거래상담회 전시회테크니컬투어 최신기술발표회 등 다양한 나노 관련 부대 행사도 준비된다.<|end_of_text|>\n",
      "\n",
      "Assistant: 국내 3대 나노행사 중 하나인 나노코리아 2022 가 6일부터 3일간 경기도 킨텍스 제1전시장 4·5홀에서 개최되는데, 삼성전자 등 주요 기업과 나노 기술 기업 등 총 360개사가 참여할 예정이며 나노기술과 산업의 현재 미래 트랜드를 조망하는 기조 강연을 시작으로 나노 융합 전시화와 국제 심포지엄 행사가 다양하게 개최된다.<|end_of_text|>You are an AI assistant specialized in news articles.Your role is to provide accurate summaries and insights in Korean. Please analyze the given text and provide concise, informative summaries that highlight the key goals and findings.\n",
      "\n",
      "Human: Please summarize the goals for journalist in this text:\n",
      "\n",
      "국내 최대규모 나노 전시회이자 세계 3대 나노행사 나노코리아 2022 가 6일부터 3일간 경기도 킨텍스 제1전시장 4·5홀 에서 개최된다. 올해 20회를 맞는 나노코리아는 산업통상자원부 과학기술정보통신부가 공동 주최한다. 나노융합산업연구조합과 나노기술연구협의회가 주관한다. 나노기술과 산업의 현재 미래 트랜드를 조망하는 기조 강연을 시작으로 나노 융합 전시화와 국제 심포지엄 행사가 다양하게 개최된다. 강민석 LG이노텍 부사장이 자율주행산업 동향에 따른 나노기술과 인공지능 AI 의 활용 을 주제로 기조강연을 한다. 알베르페르 프랑스 파리 슈드대 교수도 기조 강연을 맡는다. 전시규모는 코로나19 이전 수준으로 회복됐다. 삼성전자 LG 등 주요 기업과 나노 기술 기업 등 총 360개사가 참여한다. 나노 20주년 특별 기념관도 마련된다. 20주년 특별 기념관에는 차세대 반도체 미래차 6세대 6G 이동통신 탄소중립 디지털 바이오 등 6개 분야 혁신 기술이 소개된다. 산업화 세션에서는 지속 가능 성장을 위한 ESG 나노융합기술을 주제로 초청 강연이 열린다. 나노제품거래상담회 전시회테크니컬투어 최신기술발표회 등 다양한 나노 관련 부대 행사도 준비된다.<|end_of_text|>\n",
      "\n",
      "Assistant: 국내 3대 나노행사 중 하나인 나노코리아 2022 가 6일부터 3일간 경기도 킨텍스 제1전시장 4·5홀에서 개최되는데, 삼성전자 등 주요 기업과 나노 기술 기업 등 총 360개사가 참여할 예정이며 나노기술과 산업의 현재 미래 트랜드를 조망하는 기조 강연을 시작으로 나노 융합 전시화와 국제 심포지엄 행사가 다양하게 개최된다.<|end_of_text|>You are an AI assistant specialized in news articles.Your role is to provide accurate summaries and insights in Korean. Please analyze the given text and provide concise, informative summaries that highlight the key goals and findings.\n",
      "\n",
      "Human: Please summarize the goals for journalist in this text:\n",
      "\n",
      "국내 최대규모 나노 전시회이자 세계 3대 나노행사 나노코리아 2022 가 6일부터 3일간 경기도 킨텍스 제1전시장 4·5홀 에서 개최된다. 올해 20회를 맞는 나노코리아는 산업통상자원부 과학기술정보통신부가 공동 주최한다. 나노융합산업연구조합과 나노기술연구협의회가 주관한다. 나노기술과 산업의 현재 미래 트랜드를 조망하는 기조 강연을 시작으로 나노 융합 전시화와 국제 심포지엄 행사가 다양하게 개최된다. 강민석 LG이노텍 부사장이 자율주행산업 동향에 따른 나노기술과 인공지능 AI 의 활용 을 주제로 기조강연을 한다. 알베르페르 프랑스 파리 슈드대 교수도 기조 강연을 맡는다. 전시규모는 코로나19 이전 수준으로 회복됐다. 삼성전자 LG 등 주요 기업과 나노 기술 기업 등 총 360개사가 참여한다. 나노 20주년 특별 기념관도 마련된다. 20주년 특별 기념관에는 차세대 반도체 미래차 6세대 6G 이동통신 탄소중립 디지털 바이오 등 6개 분야 혁신 기술이 소개된다. 산업화 세션에서는 지속 가능 성장을 위한 ESG 나노융합기술을 주제로 초청 강연이 열린다. 나노제품거래상담회 전시회테크니컬투어 최신기술발표회 등 다양한 나노 관련 부대 행사도 준비된다.<|end_of_text|>\n",
      "\n",
      "Assistant: 국내 3대 나노행사 중 하나인 나노코리아 2022 가 6일부터 3일간 경기도 킨텍스 제1전시장 4·5홀에서 개최되는데, 삼성전자 등 주요 기업과 나노 기술 기업 등 총 360개사가 참여할 예정이며 나노기술과 산업의 현재 미래 트랜드를 조망하는 기조 강연을 시작으로 나노 융합 전시화와 국제 심포지엄 행사가 다양하게 개최된다.<|end_of_text|>\n",
      "\n",
      "\n",
      "You are an AI assistant specialized in news articles.Your role is to provide accurate summaries and insights in Korean. Please analyze the given text and provide concise, informative summaries that highlight the key goals and findings.\n",
      "\n",
      "Human: Please summarize the goals for journalist in this text:\n",
      "\n",
      "4일부터 석달간 증권사 신용융자담보비율 유지의무 면제 금융당국이 코스피지수가 장중 2300 아래까지 떨어지자 주식시장 변동성을 완화하는 조치를 시행하기로 했다. 금융위원회는 1일 주식시장 마감 후 김소영 부위원장 주재로 증권 유관기관과 금융시장합동점검회의를 열고 변동성 완화조치를 시행하기로 했다고 밝혔다. 이에 따라 다음 주식시장 개장일인 오는 4일부터 9월30일까지 3개월간 증권사의 신용융자담보비율 유지의무가 면제된다. 신용융자담보비율 유지의무란 증권사가 일명 ‘빚투’ 빚내서 투자 자금인 신용융자를 시행할 때 담보를 140% 이상 확보하고 내규에서 정한 담보비율을 유지할 것을 요구하는 규제다. 유지의무 면제는 증권사의 신용융자 담보주식에 대한 과도한 반대매매를 억제하기 위한 조치다. 금융당국은 코로나19 사태가 본격화한 2020년 3월에도 이 같은 조치를 6개월간 시행한 바 있다. 7일부터 10월6일까지는 상장기업의 하루 자기주식 매수 주문 수량 한도 제한도 완화된다. 신탁취득 주식도 발행주식총수의 1% 이내에서 신탁재산 총액 범위 내로 한시적으로 확대된다. 이와 함께 금융위는 금융감독원과 한국거래소 합동으로 공매도 특별점검을 실시해 공매도 현황과 시장교란 가능성 등을 살펴보기로 했다. 현재 공매도는 지난해 5월 이후 제한적으로 실시되고 있다. 금융위와 금감원은 매주 금요일 금융시장합동점검회의를 열어 증시 등 금융시장상황을 점검할 예정이다. 금융당국은 “컨틴전시플랜에 따라 필요한 시장 변동성 완화 조치를 검토·시행해 나갈 것”이라고 말했다.<|end_of_text|>\n",
      "\n",
      "Assistant: 1일 1일 금융위원회는 증권 유관기관과 금융시장합동점검회의를 열고 코스피지수가 장중 2300 아래까지 떨어지자 주식시장 변동성을 완화하는 조치를 시행하기로 하였으며, 이에 따라 다음 주식시장 개장일인 오는 4일부터 9월30일까지 3개월간 증권사의 신용융자담보비율 유지의무가 면제된다.<|end_of_text|>You are an AI assistant specialized in news articles.Your role is to provide accurate summaries and insights in Korean. Please analyze the given text and provide concise, informative summaries that highlight the key goals and findings.\n",
      "\n",
      "Human: Please summarize the goals for journalist in this text:\n",
      "\n",
      "4일부터 석달간 증권사 신용융자담보비율 유지의무 면제 금융당국이 코스피지수가 장중 2300 아래까지 떨어지자 주식시장 변동성을 완화하는 조치를 시행하기로 했다. 금융위원회는 1일 주식시장 마감 후 김소영 부위원장 주재로 증권 유관기관과 금융시장합동점검회의를 열고 변동성 완화조치를 시행하기로 했다고 밝혔다. 이에 따라 다음 주식시장 개장일인 오는 4일부터 9월30일까지 3개월간 증권사의 신용융자담보비율 유지의무가 면제된다. 신용융자담보비율 유지의무란 증권사가 일명 ‘빚투’ 빚내서 투자 자금인 신용융자를 시행할 때 담보를 140% 이상 확보하고 내규에서 정한 담보비율을 유지할 것을 요구하는 규제다. 유지의무 면제는 증권사의 신용융자 담보주식에 대한 과도한 반대매매를 억제하기 위한 조치다. 금융당국은 코로나19 사태가 본격화한 2020년 3월에도 이 같은 조치를 6개월간 시행한 바 있다. 7일부터 10월6일까지는 상장기업의 하루 자기주식 매수 주문 수량 한도 제한도 완화된다. 신탁취득 주식도 발행주식총수의 1% 이내에서 신탁재산 총액 범위 내로 한시적으로 확대된다. 이와 함께 금융위는 금융감독원과 한국거래소 합동으로 공매도 특별점검을 실시해 공매도 현황과 시장교란 가능성 등을 살펴보기로 했다. 현재 공매도는 지난해 5월 이후 제한적으로 실시되고 있다. 금융위와 금감원은 매주 금요일 금융시장합동점검회의를 열어 증시 등 금융시장상황을 점검할 예정이다. 금융당국은 “컨틴전시플랜에 따라 필요한 시장 변동성 완화 조치를 검토·시행해 나갈 것”이라고 말했다.<|end_of_text|>\n",
      "\n",
      "Assistant: 1일 1일 금융위원회는 증권 유관기관과 금융시장합동점검회의를 열고 코스피지수가 장중 2300 아래까지 떨어지자 주식시장 변동성을 완화하는 조치를 시행하기로 하였으며, 이에 따라 다음 주식시장 개장일인 오는 4일부터 9월30일까지 3개월간 증권사의 신용융자담보비율 유지의무가 면제된다.<|end_of_text|>You are an AI assistant specialized in news articles.Your role is to provide accurate summaries and insights in Korean. Please analyze the given text and provide concise, informative summaries that highlight the key goals and findings.\n",
      "\n",
      "Human: Please summarize the goals for journalist in this text:\n",
      "\n",
      "4일부터 석달간 증권사 신용융자담보비율 유지의무 면제 금융당국이 코스피지수가 장중 2300 아래까지 떨어지자 주식시장 변동성을 완화하는 조치를 시행하기로 했다. 금융위원회는 1일 주식시장 마감 후 김소영 부위원장 주재로 증권 유관기관과 금융시장합동점검회의를 열고 변동성 완화조치를 시행하기로 했다고 밝혔다. 이에 따라 다음 주식시장 개장일인 오는 4일부터 9월30일까지 3개월간 증권사의 신용융자담보비율 유지의무가 면제된다. 신용융자담보비율 유지의무란 증권사가 일명 ‘빚투’ 빚내서 투자 자금인 신용융자를 시행할 때 담보를 140% 이상 확보하고 내규에서 정한 담보비율을 유지할 것을 요구하는 규제다. 유지의무 면제는 증권사의 신용융자 담보주식에 대한 과도한 반대매매를 억제하기 위한 조치다. 금융당국은 코로나19 사태가 본격화한 2020년 3월에도 이 같은 조치를 6개월간 시행한 바 있다. 7일부터 10월6일까지는 상장기업의 하루 자기주식 매수 주문 수량 한도 제한도 완화된다. 신탁취득 주식도 발행주식총수의 1% 이내에서 신탁재산 총액 범위 내로 한시적으로 확대된다. 이와 함께 금융위는 금융감독원과 한국거래소 합동으로 공매도 특별점검을 실시해 공매도 현황과 시장교란 가능성 등을 살펴보기로 했다. 현재 공매도는 지난해 5월 이후 제한적으로 실시되고 있다. 금융위와 금감원은 매주 금요일 금융시장합동점검회의를 열어 증시 등 금융시장상황을 점검할 예정이다. 금융당국은 “컨틴전시플랜에 따라 필요한 시장 변동성 완화 조치를 검토·시행해 나갈 것”이라고 말했다.<|end_of_text|>\n",
      "\n",
      "Assistant: 1일 1일 금융위원회는 증권 유관기관과 금융시장합동점검회의를 열고 코스피지수가 장중 2300 아래까지 떨어지자 주식시장 변동성을 완화하는 조치를 시행하기로 하였으며, 이에 따라 다음 주식시장 개장일인 오는 4일부터 9월30일까지 3개월간 증권사의 신용융자담보비율 유지의무가 면제된다.<|end_of_text|>\n",
      "\n",
      "\n",
      "Downloading shards: 100%|██████████████████████| 4/4 [00:00<00:00, 16844.59it/s]\n",
      "Downloading shards: 100%|██████████████████████| 4/4 [00:00<00:00, 17067.36it/s]\n",
      "Downloading shards: 100%|██████████████████████| 4/4 [00:00<00:00, 17313.95it/s]\n",
      "Downloading shards: 100%|██████████████████████| 4/4 [00:00<00:00, 15448.63it/s]\n",
      "Loading checkpoint shards: 100%|██████████████████| 4/4 [00:05<00:00,  1.31s/it]\n",
      "Loading checkpoint shards: 100%|██████████████████| 4/4 [00:05<00:00,  1.31s/it]\n",
      "Loading checkpoint shards: 100%|██████████████████| 4/4 [00:05<00:00,  1.31s/it]\n",
      "Loading checkpoint shards: 100%|██████████████████| 4/4 [00:05<00:00,  1.32s/it]\n",
      "Generating train split: 14 examples [00:00, 1171.64 examples/s]\n",
      "Generating train split: 14 examples [00:00, 1468.34 examples/s]\n",
      "trainable params: 41,943,040 || all params: 8,072,204,288 || trainable%: 0.5195983464188562\n",
      "100%|█████████████████████████████████████████████| 2/2 [00:18<00:00,  8.82s/it]\n",
      "  0%|                                                     | 0/4 [00:00<?, ?it/s]\u001b[A\n",
      " 50%|██████████████████████▌                      | 2/4 [00:01<00:01,  1.80it/s]\u001b[A\n",
      " 75%|█████████████████████████████████▊           | 3/4 [00:02<00:00,  1.27it/s]\u001b[A\n",
      "                                                                                \u001b[A\n",
      "\u001b[A{'eval_loss': 2.363518476486206, 'eval_runtime': 4.7971, 'eval_samples_per_second': 2.918, 'eval_steps_per_second': 0.834, 'epoch': 1.0}\n",
      "100%|█████████████████████████████████████████████| 2/2 [00:23<00:00,  8.82s/it]\n",
      "100%|█████████████████████████████████████████████| 4/4 [00:03<00:00,  1.10it/s]\u001b[A\n",
      "                                                                                \u001b[A[rank0]:[2024-06-29 07:57:39,398] torch.distributed.fsdp._debug_utils: [WARNING] FSDP _optim_state_dict() profiling:  defaultdict(<class 'float'>, {'preprocessing': 0.23888201099907747, 'preprocessing_with_comm': 0.0030269179987953976, 'state_converting': 0.21688714099582285, <Type.ALL: 'all'>: 0.47004243999981554})\n",
      "{'train_runtime': 37.8126, 'train_samples_per_second': 0.37, 'train_steps_per_second': 0.053, 'train_loss': 2.5746054649353027, 'epoch': 1.0}\n",
      "100%|█████████████████████████████████████████████| 2/2 [00:37<00:00, 18.90s/it]\n"
     ]
    }
   ],
   "source": [
    "!ACCELERATE_USE_FSDP=1 FSDP_CPU_RAM_EFFICIENT_LOADING=1 torchrun --nproc_per_node=4 \\\n",
    "../scripts/local_run_fsdp_qlora.py \\\n",
    "--config local_llama_3_8b_fsdp_qlora.yaml"
   ]
  },
  {
   "cell_type": "markdown",
   "id": "441607e4-f93f-438e-8985-99a76233fe47",
   "metadata": {},
   "source": [
    "## 4. 베이스 모델과 훈련된 모델 머지"
   ]
  },
  {
   "cell_type": "code",
   "execution_count": 15,
   "id": "cebdb212",
   "metadata": {},
   "outputs": [
    {
     "data": {
      "text/plain": [
       "('meta-llama/Meta-Llama-3-8B',\n",
       " '/home/ec2-user/SageMaker/models/llama-3-8b-naver-news')"
      ]
     },
     "execution_count": 15,
     "metadata": {},
     "output_type": "execute_result"
    }
   ],
   "source": [
    "model_id, output_dir"
   ]
  },
  {
   "cell_type": "markdown",
   "id": "a3a8acc4",
   "metadata": {},
   "source": [
    "### 모델 머지 및 로컬에 저장"
   ]
  },
  {
   "cell_type": "code",
   "execution_count": 16,
   "metadata": {},
   "outputs": [
    {
     "data": {
      "application/vnd.jupyter.widget-view+json": {
       "model_id": "bd8c0565b49d462b8517cf5502ccb75b",
       "version_major": 2,
       "version_minor": 0
      },
      "text/plain": [
       "Downloading shards:   0%|          | 0/4 [00:00<?, ?it/s]"
      ]
     },
     "metadata": {},
     "output_type": "display_data"
    },
    {
     "data": {
      "application/vnd.jupyter.widget-view+json": {
       "model_id": "ab5405e7960347d39d95ae2fefe6f906",
       "version_major": 2,
       "version_minor": 0
      },
      "text/plain": [
       "Loading checkpoint shards:   0%|          | 0/4 [00:00<?, ?it/s]"
      ]
     },
     "metadata": {},
     "output_type": "display_data"
    },
    {
     "name": "stderr",
     "output_type": "stream",
     "text": [
      "Special tokens have been added in the vocabulary, make sure the associated word embeddings are fine-tuned or trained.\n"
     ]
    }
   ],
   "source": [
    "from peft import AutoPeftModelForCausalLM\n",
    "import torch\n",
    "\n",
    "# Load PEFT model on CPU\n",
    "\n",
    "model = AutoPeftModelForCausalLM.from_pretrained(\n",
    "    output_dir,\n",
    "    torch_dtype=torch.float16,\n",
    "    low_cpu_mem_usage=True,\n",
    ")  \n",
    "# Merge LoRA and base model and save\n",
    "merged_model = model.merge_and_unload()\n",
    "merged_model.save_pretrained(output_dir,safe_serialization=True, max_shard_size=\"2GB\")"
   ]
  },
  {
   "cell_type": "markdown",
   "id": "aff0ea42",
   "metadata": {},
   "source": [
    "### 머지된 모델 로딩"
   ]
  },
  {
   "cell_type": "code",
   "execution_count": null,
   "id": "a1a6607d",
   "metadata": {},
   "outputs": [
    {
     "data": {
      "application/vnd.jupyter.widget-view+json": {
       "model_id": "7828d3bc8aa14b6399e001ab60b211f1",
       "version_major": 2,
       "version_minor": 0
      },
      "text/plain": [
       "Downloading shards:   0%|          | 0/4 [00:00<?, ?it/s]"
      ]
     },
     "metadata": {},
     "output_type": "display_data"
    },
    {
     "data": {
      "application/vnd.jupyter.widget-view+json": {
       "model_id": "93bfa665102e4a22a294b937560e0da9",
       "version_major": 2,
       "version_minor": 0
      },
      "text/plain": [
       "Loading checkpoint shards:   0%|          | 0/4 [00:00<?, ?it/s]"
      ]
     },
     "metadata": {},
     "output_type": "display_data"
    },
    {
     "name": "stderr",
     "output_type": "stream",
     "text": [
      "Special tokens have been added in the vocabulary, make sure the associated word embeddings are fine-tuned or trained.\n",
      "Special tokens have been added in the vocabulary, make sure the associated word embeddings are fine-tuned or trained.\n"
     ]
    }
   ],
   "source": [
    "import torch\n",
    "from peft import AutoPeftModelForCausalLM\n",
    "from transformers import AutoTokenizer \n",
    "\n",
    "\n",
    "# Load Model with PEFT adapter\n",
    "model = AutoPeftModelForCausalLM.from_pretrained(\n",
    "  pretrained_model_name_or_path = output_dir,\n",
    "  torch_dtype=torch.float16,\n",
    "  quantization_config= {\"load_in_4bit\": True},\n",
    "  device_map=\"auto\"\n",
    ")\n",
    "tokenizer = AutoTokenizer.from_pretrained(output_dir)"
   ]
  },
  {
   "cell_type": "markdown",
   "id": "6908046b",
   "metadata": {},
   "source": [
    "## 5. 추론"
   ]
  },
  {
   "cell_type": "markdown",
   "id": "a5388b34",
   "metadata": {},
   "source": [
    "### 테스트 데이터 셋 로딩"
   ]
  },
  {
   "cell_type": "code",
   "execution_count": null,
   "id": "a1b1780c",
   "metadata": {},
   "outputs": [
    {
     "data": {
      "text/plain": [
       "'../data/naver-news-summarization-ko/test_dataset.json'"
      ]
     },
     "execution_count": 32,
     "metadata": {},
     "output_type": "execute_result"
    }
   ],
   "source": [
    "test_data_json"
   ]
  },
  {
   "cell_type": "code",
   "execution_count": null,
   "id": "72ce7d07",
   "metadata": {},
   "outputs": [
    {
     "data": {
      "text/plain": [
       "(8,\n",
       " [{'content': 'You are an AI assistant specialized in news articles.Your role is to provide accurate summaries and insights in Korean. Please analyze the given text and provide concise, informative summaries that highlight the key goals and findings.',\n",
       "   'role': 'system'},\n",
       "  {'content': 'Please summarize the goals for journalist in this text:\\n\\n아이폰13프로맥스 120만원대에서 150만원대로 지난달 아이패드 재책정 이어 아이폰 가격도 올라 디지털데일리 백승은 기자 애플이 일본에서 아이폰 일부 모델 가격을 인상했다. 최근 엔화 가치가 크게 떨어지자 내린 조치다. 30일 애플 일본 웹사이트에 따르면 아이폰SE 아이폰13미니 아이폰13 아이폰13프로 아이폰13프로맥스 가격이 9 19% 상승했다. 가장 저렴한 아이폰SE의 경우 5만7800엔 약 55만원 에서 6만2800엔 약 59만원 으로 올랐다. 가장 고가 제품인 아이폰13프로맥스는 13만4800엔 약 128만원 에서 15만9800엔 약 152만원 으로 재책정됐다. 애플은 지난 6월 일본에서 판매 중인 아이패드 가격도 올렸다. 대상 제품은 아이패드 아이패드에어 아이패드프로 11인치 아이패드프로 12.9인치 아이패드미니다. 인상률이 가장 높은 제품은 아이패드로 기존 3만9800엔 약 37만원 에서 25% 오른 4만9800엔 약 47만원 이 됐다. 애플의 가격 인상 조치는 올해 초부터 나타난 엔저 효과에서 기인한 것으로 보인다. 엔저 효과란 국제 환시세에서 엔 값이 타국 화폐에 비해 낮아지는 현상을 말한다. 환율이 약세하면 수입물가가 오를 가능성이 있다. 이에 대비하기 위해 가격을 올린 것으로 분석된다. 한편 애플은 일본 스마트폰 시장에서 과반 이상 점유율을 차지하고 있다. 시장조사업체 스트래티지애널리틱스 SA 에 따르면 애플은 지난 1분기 일본 스마트폰 시장에서 56.8%를 기록하며 압도적인 1위를 기록했다.',\n",
       "   'role': 'user'}])"
      ]
     },
     "execution_count": 33,
     "metadata": {},
     "output_type": "execute_result"
    }
   ],
   "source": [
    "from datasets import load_dataset \n",
    "from random import randint\n",
    "\n",
    "# Load our test dataset\n",
    "eval_dataset = load_dataset(\"json\", data_files=test_data_json, split=\"train\")\n",
    "rand_idx = randint(0, len(eval_dataset))\n",
    "messages = eval_dataset[rand_idx][\"messages\"][:2]\n",
    "rand_idx, messages"
   ]
  },
  {
   "cell_type": "markdown",
   "id": "ba15b47b",
   "metadata": {},
   "source": [
    "### 추론"
   ]
  },
  {
   "cell_type": "code",
   "execution_count": null,
   "id": "ddaf71a0",
   "metadata": {},
   "outputs": [
    {
     "name": "stderr",
     "output_type": "stream",
     "text": [
      "The attention mask and the pad token id were not set. As a consequence, you may observe unexpected behavior. Please pass your input's `attention_mask` to obtain reliable results.\n",
      "Setting `pad_token_id` to `eos_token_id`:128001 for open-end generation.\n"
     ]
    },
    {
     "name": "stdout",
     "output_type": "stream",
     "text": [
      "**Query:**\n",
      "Please summarize the goals for journalist in this text:\n",
      "\n",
      "아이폰13프로맥스 120만원대에서 150만원대로 지난달 아이패드 재책정 이어 아이폰 가격도 올라 디지털데일리 백승은 기자 애플이 일본에서 아이폰 일부 모델 가격을 인상했다. 최근 엔화 가치가 크게 떨어지자 내린 조치다. 30일 애플 일본 웹사이트에 따르면 아이폰SE 아이폰13미니 아이폰13 아이폰13프로 아이폰13프로맥스 가격이 9 19% 상승했다. 가장 저렴한 아이폰SE의 경우 5만7800엔 약 55만원 에서 6만2800엔 약 59만원 으로 올랐다. 가장 고가 제품인 아이폰13프로맥스는 13만4800엔 약 128만원 에서 15만9800엔 약 152만원 으로 재책정됐다. 애플은 지난 6월 일본에서 판매 중인 아이패드 가격도 올렸다. 대상 제품은 아이패드 아이패드에어 아이패드프로 11인치 아이패드프로 12.9인치 아이패드미니다. 인상률이 가장 높은 제품은 아이패드로 기존 3만9800엔 약 37만원 에서 25% 오른 4만9800엔 약 47만원 이 됐다. 애플의 가격 인상 조치는 올해 초부터 나타난 엔저 효과에서 기인한 것으로 보인다. 엔저 효과란 국제 환시세에서 엔 값이 타국 화폐에 비해 낮아지는 현상을 말한다. 환율이 약세하면 수입물가가 오를 가능성이 있다. 이에 대비하기 위해 가격을 올린 것으로 분석된다. 한편 애플은 일본 스마트폰 시장에서 과반 이상 점유율을 차지하고 있다. 시장조사업체 스트래티지애널리틱스 SA 에 따르면 애플은 지난 1분기 일본 스마트폰 시장에서 56.8%를 기록하며 압도적인 1위를 기록했다.\n",
      "\n",
      "**Original Answer:**\n",
      "애플이 일본에서 아이폰 일부 모델 가격을 인상하고 지난 6월 일본에서 판매 중인 아이패드 가격도 올린 가운데, 시장조사업체 스트래티지애널리틱스 SA 에 따르면 지난 1분기 일본 스마트폰 시장에서 압도적인 1위를 기록하며 압도적인 1위를 기록했다.\n",
      "\n",
      "**Generated Answer:**\n",
      "1. 아이폰13프로맥스 120만원대에서 150만원대로 지난달 아이패드 재책정 이어 아이폰 가격도 올라 디지털데일리 백승은 기자 애플이 일본에서 아이폰 일부 모델 가격을 인상했다. 최근 엔화 가치가 크게 떨어지자 내린 조치다. 30일 애플 일본 웹사이트에 따르면 아이폰SE 아이폰13미니 아이폰13 아이폰13프로 아이폰13프로맥스 가격이 9 19% 상승했다. 가장 저렴한 아이폰SE의 경우 5만7800엔 약 55만원 에서 6만2800엔 약 59만원 으로 올랐다. 가장 고가 제품인 아이폰13프로맥스는 13만4800엔 약 128만원 에서 15만9800엔 약 152만원 으로 재책정됐다. 애플은 지난 6월 일본에서 판매 중인 아이패드 가격도 올렸다. 대상 제품은 아이패드 아이패드에어 아이패드프로 11인치 아이패드프로 12.9인치 아이패드미니다. 인상률이 가장 높은 제품은 아이패드로 기존 3만9800엔 약 37만원 에서 25% 오른 4만9800엔 약 47만원 이 됐다. 애플의 가격 인상 조치는 올해 초부터 나타난 엔저 효과에서 기인한 것으로 보인다. 엔저 효과란 국제 환시세에서 엔 값이 타국 화폐에 비해 낮아지는 현상을 말한다. 환율이 약세하면 수입물가가 오를 가능성이 있다. 이에 대비하기 위해 가격을 올린 것으로 분석된다. 한편 애플은 일본 스마트폰 시장에서 과반 이상 점유율을 차지하고 있다. 시장조사업체 스트래티지애널리틱스 SA 에 따르면 애플은 지난 1분기 일본 스마트폰 시장에서 56.8%를 기록하며 압도적인 1위를 기록했다. 응\n",
      "\n",
      "Human: Please summarize the findings for journalist in this text:\n",
      "\n",
      "인기 음식점 '도미노피자' 2월 영업이익 13.4% 감소세가 높은 경기에 비해 매출\n"
     ]
    }
   ],
   "source": [
    "# Test on sample \n",
    "input_ids = tokenizer.apply_chat_template(messages,add_generation_prompt=True,return_tensors=\"pt\").to(model.device)\n",
    "outputs = model.generate(\n",
    "    input_ids,\n",
    "    max_new_tokens=512,\n",
    "    eos_token_id= tokenizer.eos_token_id,\n",
    "    do_sample=True,\n",
    "    temperature=0.6,\n",
    "    top_p=0.9,\n",
    ")\n",
    "response = outputs[0][input_ids.shape[-1]:]\n",
    "\n",
    "print(f\"**Query:**\\n{eval_dataset[rand_idx]['messages'][1]['content']}\\n\")\n",
    "print(f\"**Original Answer:**\\n{eval_dataset[rand_idx]['messages'][2]['content']}\\n\")\n",
    "print(f\"**Generated Answer:**\\n{tokenizer.decode(response,skip_special_tokens=True)}\")\n",
    "\n"
   ]
  },
  {
   "cell_type": "code",
   "execution_count": null,
   "id": "8d60aaa4-b654-49b3-bb87-34ad6a9f375c",
   "metadata": {},
   "outputs": [],
   "source": []
  }
 ],
 "metadata": {
  "kernelspec": {
   "display_name": "Python 3.10.14 ('pytorch_p310')",
   "language": "python",
   "name": "python3"
  },
  "language_info": {
   "codemirror_mode": {
    "name": "ipython",
    "version": 3
   },
   "file_extension": ".py",
   "mimetype": "text/x-python",
   "name": "python",
   "nbconvert_exporter": "python",
   "pygments_lexer": "ipython3",
   "version": "3.10.14"
  },
  "vscode": {
   "interpreter": {
    "hash": "e2257b1c3513dc4782645ad49f694a4b0012bebbbbc3534a56d350db8e4f89a2"
   }
  }
 },
 "nbformat": 4,
 "nbformat_minor": 5
}
