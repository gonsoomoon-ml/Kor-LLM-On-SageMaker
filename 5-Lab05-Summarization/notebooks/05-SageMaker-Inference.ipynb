{
 "cells": [
  {
   "cell_type": "markdown",
   "metadata": {},
   "source": [
    "# 모델 배포 및 추론\n",
    "\n"
   ]
  },
  {
   "cell_type": "markdown",
   "metadata": {},
   "source": [
    "## 1. 환경 구성"
   ]
  },
  {
   "cell_type": "code",
   "execution_count": 1,
   "metadata": {},
   "outputs": [
    {
     "name": "stdout",
     "output_type": "stream",
     "text": [
      "python path: /home/ec2-user/SageMaker/Kor-LLM-On-SageMaker/5-Lab05-Summarization is added\n",
      "sys.path:  ['/home/ec2-user/SageMaker/Kor-LLM-On-SageMaker/5-Lab05-Summarization/notebooks', '/home/ec2-user/SageMaker/.cs/conda/envs/llama3_puy310/lib/python310.zip', '/home/ec2-user/SageMaker/.cs/conda/envs/llama3_puy310/lib/python3.10', '/home/ec2-user/SageMaker/.cs/conda/envs/llama3_puy310/lib/python3.10/lib-dynload', '', '/home/ec2-user/SageMaker/.cs/conda/envs/llama3_puy310/lib/python3.10/site-packages', '/home/ec2-user/SageMaker/Kor-LLM-On-SageMaker/5-Lab05-Summarization']\n"
     ]
    }
   ],
   "source": [
    "%load_ext autoreload\n",
    "%autoreload 2\n",
    "\n",
    "import sys, os\n",
    "\n",
    "def add_python_path(module_path):\n",
    "    if os.path.abspath(module_path) not in sys.path:\n",
    "        sys.path.append(os.path.abspath(module_path))\n",
    "        print(f\"python path: {os.path.abspath(module_path)} is added\")\n",
    "    else:\n",
    "        print(f\"python path: {os.path.abspath(module_path)} already exists\")\n",
    "    print(\"sys.path: \", sys.path)\n",
    "\n",
    "module_path = \"..\"\n",
    "add_python_path(module_path)"
   ]
  },
  {
   "cell_type": "code",
   "execution_count": 2,
   "metadata": {},
   "outputs": [
    {
     "name": "stdout",
     "output_type": "stream",
     "text": [
      "model_s3_path:  {'S3DataSource': {'S3Uri': 's3://sagemaker-us-east-1-057716757052/llama3-8b-naver-news-2024-06-30-05-52-1-2024-06-30-05-52-18-207/output/model/', 'S3DataType': 'S3Prefix', 'CompressionType': 'None'}}\n"
     ]
    }
   ],
   "source": [
    "%store -r model_s3_path\n",
    "print(\"model_s3_path: \", model_s3_path)\n"
   ]
  },
  {
   "cell_type": "markdown",
   "metadata": {},
   "source": [
    "## 2. 추론 이미지 가져오기\n",
    "\n"
   ]
  },
  {
   "cell_type": "code",
   "execution_count": 3,
   "metadata": {},
   "outputs": [
    {
     "name": "stdout",
     "output_type": "stream",
     "text": [
      "sagemaker.config INFO - Not applying SDK defaults from location: /etc/xdg/sagemaker/config.yaml\n",
      "sagemaker.config INFO - Not applying SDK defaults from location: /home/ec2-user/SageMaker/.xdg/config/sagemaker/config.yaml\n",
      "sagemaker role arn: arn:aws:iam::057716757052:role/gen_ai_gsmoon\n",
      "sagemaker bucket: sagemaker-us-east-1-057716757052\n",
      "sagemaker session region: us-east-1\n"
     ]
    }
   ],
   "source": [
    "import sagemaker\n",
    "import boto3\n",
    "sess = sagemaker.Session()\n",
    "# sagemaker session bucket -> used for uploading data, models and logs\n",
    "# sagemaker will automatically create this bucket if it not exists\n",
    "sagemaker_session_bucket=None\n",
    "if sagemaker_session_bucket is None and sess is not None:\n",
    "    # set to default bucket if a bucket name is not given\n",
    "    sagemaker_session_bucket = sess.default_bucket()\n",
    "\n",
    "try:\n",
    "    role = sagemaker.get_execution_role()\n",
    "except ValueError:\n",
    "    iam = boto3.client('iam')\n",
    "    role = iam.get_role(RoleName='sagemaker_execution_role')['Role']['Arn']\n",
    "\n",
    "sess = sagemaker.Session(default_bucket=sagemaker_session_bucket)\n",
    "\n",
    "print(f\"sagemaker role arn: {role}\")\n",
    "print(f\"sagemaker bucket: {sess.default_bucket()}\")\n",
    "print(f\"sagemaker session region: {sess.boto_region_name}\")\n"
   ]
  },
  {
   "cell_type": "code",
   "execution_count": 4,
   "metadata": {},
   "outputs": [
    {
     "data": {
      "text/plain": [
       "'2.224.2'"
      ]
     },
     "execution_count": 4,
     "metadata": {},
     "output_type": "execute_result"
    }
   ],
   "source": [
    "import sagemaker\n",
    "sagemaker.__version__"
   ]
  },
  {
   "cell_type": "code",
   "execution_count": 5,
   "metadata": {
    "tags": []
   },
   "outputs": [
    {
     "name": "stdout",
     "output_type": "stream",
     "text": [
      "llm image uri: 763104351884.dkr.ecr.us-east-1.amazonaws.com/huggingface-pytorch-tgi-inference:2.3.0-tgi2.0.2-gpu-py310-cu121-ubuntu22.04\n"
     ]
    }
   ],
   "source": [
    "from sagemaker.huggingface import get_huggingface_llm_image_uri\n",
    "\n",
    "# retrieve the llm image uri\n",
    "llm_image = get_huggingface_llm_image_uri(\n",
    "  \"huggingface\",\n",
    "  session=sess,\n",
    "  version=\"2.0.2\",\n",
    ")\n",
    "\n",
    "# print ecr image uri\n",
    "print(f\"llm image uri: {llm_image}\")"
   ]
  },
  {
   "cell_type": "markdown",
   "metadata": {},
   "source": [
    "## 3. SageMaker Model 생성"
   ]
  },
  {
   "cell_type": "code",
   "execution_count": 6,
   "metadata": {},
   "outputs": [],
   "source": [
    "instance_type = \"ml.p4d.24xlarge\"\n",
    "num_GPUSs = 8"
   ]
  },
  {
   "cell_type": "code",
   "execution_count": null,
   "metadata": {},
   "outputs": [],
   "source": []
  },
  {
   "cell_type": "code",
   "execution_count": 7,
   "metadata": {
    "tags": []
   },
   "outputs": [
    {
     "name": "stdout",
     "output_type": "stream",
     "text": [
      "sm_endpoint_name: \n",
      " llama3-endpoint-1719727500\n"
     ]
    },
    {
     "name": "stderr",
     "output_type": "stream",
     "text": [
      "/home/ec2-user/SageMaker/.cs/conda/envs/llama3_puy310/lib/python3.10/site-packages/tqdm/auto.py:21: TqdmWarning: IProgress not found. Please update jupyter and ipywidgets. See https://ipywidgets.readthedocs.io/en/stable/user_install.html\n",
      "  from .autonotebook import tqdm as notebook_tqdm\n"
     ]
    }
   ],
   "source": [
    "from huggingface_hub import HfFolder\n",
    "from sagemaker.huggingface import HuggingFaceModel\n",
    "\n",
    "# sagemaker config\n",
    "\n",
    "health_check_timeout = 1200 # 20 minutes\n",
    "\n",
    "import time\n",
    "sm_endpoint_name = \"llama3-endpoint-{}\".format(int(time.time()))\n",
    "print(\"sm_endpoint_name: \\n\", sm_endpoint_name)\n",
    "\n",
    "# Define Model and Endpoint configuration parameter\n",
    "config = {\n",
    "  'HF_MODEL_ID': \"/opt/ml/model\",       # Path to the model in the container\n",
    "  'SM_NUM_GPUS': f\"{num_GPUSs}\",        # Number of GPU used per replica\n",
    "  'MAX_INPUT_LENGTH': \"8000\",           # Max length of input text\n",
    "  'MAX_TOTAL_TOKENS': \"8096\",           # Max length of the generation (including input text)\n",
    "  'MAX_BATCH_PREFILL_TOKENS': \"16182\",  # Limits the number of tokens that can be processed in parallel during the generation\n",
    "  'MESSAGES_API_ENABLED': \"true\",       # Enable the OpenAI Messages API\n",
    "}\n",
    "\n",
    "# create HuggingFaceModel with the image uri\n",
    "llm_model = HuggingFaceModel(\n",
    "  role=role,\n",
    "  # path to s3 bucket with model, we are not using a compressed model\n",
    "  # {'S3DataSource':{'S3Uri': \"s3://...\",'S3DataType': 'S3Prefix','CompressionType': 'None'}},\n",
    "  model_data=model_s3_path,\n",
    "  image_uri=llm_image,\n",
    "  env=config\n",
    ")"
   ]
  },
  {
   "cell_type": "markdown",
   "metadata": {},
   "source": [
    "## 4. 모델 배포"
   ]
  },
  {
   "cell_type": "code",
   "execution_count": 8,
   "metadata": {
    "tags": []
   },
   "outputs": [
    {
     "name": "stdout",
     "output_type": "stream",
     "text": [
      "------------!"
     ]
    }
   ],
   "source": [
    "# Deploy model to an endpoint\n",
    "llm = llm_model.deploy(\n",
    "  initial_instance_count=1,\n",
    "  instance_type=instance_type,\n",
    "  endpoint_name=sm_endpoint_name,\n",
    "  container_startup_health_check_timeout=health_check_timeout, # 20 minutes to give SageMaker the time to download and merge model\n",
    ")"
   ]
  },
  {
   "cell_type": "markdown",
   "metadata": {},
   "source": [
    "## 5. 모델 추론"
   ]
  },
  {
   "cell_type": "markdown",
   "metadata": {},
   "source": [
    "### Helper 함수"
   ]
  },
  {
   "cell_type": "code",
   "execution_count": 9,
   "metadata": {
    "tags": []
   },
   "outputs": [],
   "source": [
    "from scripts.inference_util import (\n",
    "    print_json,\n",
    "    create_messages_parameters,\n",
    ")\n",
    "\n",
    "\n",
    "  \n"
   ]
  },
  {
   "cell_type": "markdown",
   "metadata": {},
   "source": [
    "### SageMaker Predictor 로 추론"
   ]
  },
  {
   "cell_type": "code",
   "execution_count": 31,
   "metadata": {},
   "outputs": [],
   "source": [
    "\n",
    "# system_prompt = \"You are a helpful assistant.\"\n",
    "# user_prompt = \"Tell me something about Amazon SageMaker?\"\n",
    "# messages, parameters = create_messages_parameters(system_prompt = system_prompt, user_prompt = user_prompt)   "
   ]
  },
  {
   "cell_type": "code",
   "execution_count": 32,
   "metadata": {},
   "outputs": [],
   "source": [
    "# chat = llm.predict({\"messages\" :messages, **parameters})\n",
    "# print_json(chat)\n",
    "# print(chat[\"choices\"][0][\"message\"][\"content\"].strip())\n",
    "# print_json(chat[\"choices\"][0][\"message\"][\"content\"].strip())\n",
    "\n"
   ]
  },
  {
   "cell_type": "markdown",
   "metadata": {
    "tags": []
   },
   "source": [
    "### Boto3 InvokeEndpoint() 호출"
   ]
  },
  {
   "cell_type": "code",
   "execution_count": 12,
   "metadata": {},
   "outputs": [],
   "source": [
    "import json\n",
    "\n",
    "from scripts.inference_util import (\n",
    "    create_boto3_request_body,\n",
    "    invoke_endpoint_sagemaker,\n",
    "    print_ww\n",
    ")"
   ]
  },
  {
   "cell_type": "code",
   "execution_count": 33,
   "metadata": {},
   "outputs": [],
   "source": [
    "# system_prompt = \"You are a helpful assistant and write only in English\"\n",
    "# user_prompt = \"How to make cake?\"\n",
    "# request_body = create_boto3_request_body(system_prompt=system_prompt, user_prompt=user_prompt)\n",
    "# request_body"
   ]
  },
  {
   "cell_type": "code",
   "execution_count": 35,
   "metadata": {},
   "outputs": [],
   "source": [
    "# import time\n",
    "# s = time.perf_counter()\n",
    "\n",
    "# # sm_endpoint_name = \"llama3-endpoint-mnist-1719625657\"\n",
    "# response = invoke_endpoint_sagemaker(endpoint_name = sm_endpoint_name, \n",
    "#                          pay_load = request_body)    \n",
    "\n",
    "# elapsed_async = time.perf_counter() - s\n",
    "\n",
    "# print(f\"elapsed time: {round(elapsed_async,3)} second\")\n",
    "# parsed_data = json.loads(response)\n",
    "# print(json.dumps(parsed_data, indent=4, ensure_ascii=False))\n",
    "# answer = parsed_data[\"choices\"][0][\"message\"][\"content\"].strip()\n",
    "# print_json(answer)\n",
    "# print_ww(answer)\n"
   ]
  },
  {
   "cell_type": "markdown",
   "metadata": {},
   "source": [
    "## 요약 추론"
   ]
  },
  {
   "cell_type": "code",
   "execution_count": 36,
   "metadata": {},
   "outputs": [],
   "source": [
    "%store -r full_test_data_json"
   ]
  },
  {
   "cell_type": "code",
   "execution_count": 64,
   "metadata": {},
   "outputs": [],
   "source": [
    "\n",
    "from scripts.inference_util import (\n",
    "    get_message_from_dataset,\n",
    "    extract_system_user_prompt,\n",
    "    run_inference,\n",
    "    generate_response\n",
    ")"
   ]
  },
  {
   "cell_type": "code",
   "execution_count": 66,
   "metadata": {},
   "outputs": [
    {
     "name": "stdout",
     "output_type": "stream",
     "text": [
      "elapsed time: 1.029 second\n",
      "**Query:**\n",
      "{'messages': [{'role': 'system', 'content': 'You are an AI assistant specialized in news articles.Your role is to provide accurate summaries and insights in Korean. Please analyze the given text and provide concise, informative summaries that highlight the key goals and findings.'}, {'role': 'user', 'content': 'Please summarize the goals for journalist in this text:\\n\\n한국 건설사 수주 기대감 높아 성공시 제2 중동 붐 전망까지 삼성물산·현대건설 컨소시엄 10억달러 규모 터널공사 수주 이미지출처 연합뉴스 사우디아라비아의 실세 무함마드 빈살만 제1왕위 계승자 왕세자 가 사우디를 개방적이고 온건한 이슬람 국가로 바꾸겠다고 선언했다. 국제유가 상승으로 사우디 아라비아의 국부가 늘면서 대규모 인프라 투자로 이어지자 한국 건설사들의 수주 기대감이 높아지고 있다. 대표적인 것이 네옴시티 로 사우디 실권자인 무함마드 빈 살만 왕세자가 주도하는 이 프로젝트는 총 사업비만 무려 5000억달러 약 640조원 에 달하는 세계 최대 규모 인프라 사업이다. 이미 물밑에서 수주 경쟁이 치열한 이 사업은 한국 건설사들이 대규모 수주에 성공할 경우 제 2의 중동 붐 을 일으킬 것이란 전망까지 나온다. 1일 증권업계 및 건설업계에 의하면 사우디발 인프라 건설 훈풍으로 국내 건설사들의 수주 기대감이 커지고 있다. 사우디는 2016년 발표한 비전 2030 에 의해 국가전략을 수행하고 있는데 이는 석유에 의존해온 경제를 첨단 제조업 중심으로 전환하기 위한 프로젝트로 네옴시티도 이 중 하나다. 이미 사우디는 비공개로 입찰을 진행 국내에선 삼성물산과 현대건설이 컨소시엄을 구성해 네옴시티 더 라인 의 터널 공사를 수주한 것으로 알려졌다. 수주액은 약 10억달러 약 1조3000억원 규모다. 미래 먹거리로 로봇 및 자율주행과 같은 스마트 시티 를 추진하고 있는 현대차도 수주 가능성이 높은 것으로 알려졌다. 이에삼성엔지니어링 현대건설 대우건설 GS건설 DL이앤씨 등 해외 인프라 건설 사업 대형 5개사는 주택을 제외한 신규 수주 달성치를 높여잡았다. 현재 발주시장 확대에 근거해 이들 5개사는 2023년에는 신규 수주 금액이 합산 32조원으로 20%이상 성장 가능할 것으로 전망된다. 최대규모 인프라 사업인 네옴시티를 제외하고서라도 향후 해외건설시장 규모는 점점 더 커질 전망이다. 네옴시티 수주전을 차치하고서라도 건설사들의 수주 기대감을 높이는 부분이다. 글로벌시장조사업체 IHS 마킷에 따르면 지난해 해외건설시장 규모는 10조9000억달러 약 1경4002조8500억원 으로 전년대비 10.7% 증가했다. 올해는 전년대비 5.5% 증가한 11조5000억달러로 예상된다. 해외 건설시장은 원자재 가격 상승과 러시아 우크라이나 사태에도 불구하고 견고한 성장세를 이어나가고 있는 셈이다. 내년 해외 건설 시장 규모는 12조1000억달러 2025년엔 13조8000억달러로 연 평균 4.8%씩 증가할 것으로 예상된다. 박세라 신영증권 연구원은 중동 산유국을 중심으로 한 제 3차 발주웨이브는 이제 시작됐다 며 이에 올해 대형 5개사의 주택을 제외한 신규 수주 목표금액은 27조원으로 전년 23조원 대비 16% 상향제시한 바 있다 고 밝혔다.'}], 'model': 'meta-llama-3-fine-tuned', 'parameters': {'max_tokens': 512, 'top_p': 0.9, 'temperature': 0.6, 'stop': ['<|eot_id|>']}}\n",
      "**Original Answer:**\n",
      "국제우디아라비아의 실세 무함마드 빈살만 제1왕위 계승자 왕세자가 사우디를 개방적이고 온건한 이슬람 국가로 바꾸겠다고 선언하고, 총 사업비만 무려 5000억달러 약 640조원 에 달하는 세계 최대 인프라 사업 네옴시티를 사우디 실권자인 무함마드 빈 살만 왕세자가 주도하는 것으로 이미 물밑에서 수주 경쟁이 치열한 이 사업은 한국 건설사들이 대규모 수주에 성공할 경우 제 2의 중동 붐을 일으킬 것이란 전망까지 나온다.\n",
      "\n",
      "**Generated Answer:**\n",
      "1. Understanding the Context: 수주 Artificial Intelligence Text 혹은 초고 getFile 아티스트 연합뉴스 Journalist 한국 건설사 Contract Wagon 오마이뉴스コリア 인포 munhwa Year 2019 Genre ★ 경제타격大類② *** 해외 국내 두 번째 판 quarreler Foreign domain 정치시장 경제 기사 및 회사를 중심으로 선별 동작 ** foreign affairs project *** ** the 일 Irrigation 사우디 Event 추진 Project 제2 일\n"
     ]
    }
   ],
   "source": [
    "messages, full_test_dataset, rand_idx = get_message_from_dataset(\n",
    "                                        sample_dataset_json_file = full_test_data_json, verbose=False)    \n",
    "generate_response(messages, sm_endpoint_name, full_test_dataset, rand_idx)    "
   ]
  },
  {
   "cell_type": "markdown",
   "metadata": {},
   "source": [
    "# 엔드포인트 삭제"
   ]
  },
  {
   "cell_type": "code",
   "execution_count": 67,
   "metadata": {
    "tags": []
   },
   "outputs": [],
   "source": [
    "# llm.delete_model()\n",
    "# llm.delete_endpoint()"
   ]
  },
  {
   "cell_type": "code",
   "execution_count": null,
   "metadata": {},
   "outputs": [],
   "source": []
  }
 ],
 "metadata": {
  "kernelspec": {
   "display_name": "Python 3.10.14 ('llama3_puy310')",
   "language": "python",
   "name": "python3"
  },
  "language_info": {
   "codemirror_mode": {
    "name": "ipython",
    "version": 3
   },
   "file_extension": ".py",
   "mimetype": "text/x-python",
   "name": "python",
   "nbconvert_exporter": "python",
   "pygments_lexer": "ipython3",
   "version": "3.10.14"
  },
  "vscode": {
   "interpreter": {
    "hash": "6daafc7ae2313787fa97137de7504cfa7c5a594d29476828201b4f7d7fb5c4e1"
   }
  }
 },
 "nbformat": 4,
 "nbformat_minor": 4
}
