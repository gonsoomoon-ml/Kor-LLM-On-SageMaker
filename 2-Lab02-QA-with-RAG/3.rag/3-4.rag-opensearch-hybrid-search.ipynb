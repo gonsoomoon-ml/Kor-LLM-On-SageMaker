{
 "cells": [
  {
   "cell_type": "markdown",
   "id": "7ed68d00-7a6e-4e82-b5e8-2e7cf442d1d4",
   "metadata": {},
   "source": [
    "# RAG\n",
    "* Container: `Data Science 3.0` (studio, python 3.10), `conda_python3` (notebook)"
   ]
  },
  {
   "cell_type": "markdown",
   "id": "e28b250f-7129-41e9-82ae-0385686aacb6",
   "metadata": {
    "tags": []
   },
   "source": [
    "## 0. Install packages and Setup env"
   ]
  },
  {
   "cell_type": "code",
   "execution_count": 1,
   "id": "d28c1e24-ea50-4947-8337-c03d338f0823",
   "metadata": {
    "tags": []
   },
   "outputs": [],
   "source": [
    "import sys"
   ]
  },
  {
   "cell_type": "code",
   "execution_count": 2,
   "id": "2aa33eb8-3cae-462b-b2ce-1890090db841",
   "metadata": {
    "tags": []
   },
   "outputs": [],
   "source": [
    "%load_ext autoreload\n",
    "%autoreload 2\n",
    "sys.path.append('../utils') # src 폴더 경로 설정"
   ]
  },
  {
   "cell_type": "code",
   "execution_count": 4,
   "id": "9b33c231-28ca-4834-b82a-a2a2d423323b",
   "metadata": {
    "tags": []
   },
   "outputs": [],
   "source": [
    "install_needed = True  # should only be True once"
   ]
  },
  {
   "cell_type": "code",
   "execution_count": 5,
   "id": "1183a551-a694-46e3-a304-f1bf58808390",
   "metadata": {
    "collapsed": true,
    "jupyter": {
     "outputs_hidden": true
    },
    "tags": []
   },
   "outputs": [
    {
     "name": "stdout",
     "output_type": "stream",
     "text": [
      "installing deps and restarting kernel\n",
      "Looking in indexes: https://pypi.org/simple, https://pip.repos.neuron.amazonaws.com\n",
      "Requirement already satisfied: pip in /home/ec2-user/anaconda3/envs/python3/lib/python3.10/site-packages (23.1.2)\n",
      "Collecting pip\n",
      "  Downloading pip-23.2-py3-none-any.whl (2.1 MB)\n",
      "\u001b[2K     \u001b[90m━━━━━━━━━━━━━━━━━━━━━━━━━━━━━━━━━━━━━━━━\u001b[0m \u001b[32m2.1/2.1 MB\u001b[0m \u001b[31m77.1 MB/s\u001b[0m eta \u001b[36m0:00:00\u001b[0m\n",
      "\u001b[?25hInstalling collected packages: pip\n",
      "  Attempting uninstall: pip\n",
      "    Found existing installation: pip 23.1.2\n",
      "    Uninstalling pip-23.1.2:\n",
      "      Successfully uninstalled pip-23.1.2\n",
      "Successfully installed pip-23.2\n",
      "Looking in indexes: https://pypi.org/simple, https://pip.repos.neuron.amazonaws.com\n",
      "Requirement already satisfied: sagemaker in /home/ec2-user/anaconda3/envs/python3/lib/python3.10/site-packages (2.171.0)\n",
      "Collecting sagemaker\n",
      "  Downloading sagemaker-2.173.0.tar.gz (854 kB)\n",
      "\u001b[2K     \u001b[90m━━━━━━━━━━━━━━━━━━━━━━━━━━━━━━━━━━━━━━\u001b[0m \u001b[32m854.4/854.4 kB\u001b[0m \u001b[31m31.5 MB/s\u001b[0m eta \u001b[36m0:00:00\u001b[0m\n",
      "\u001b[?25h  Preparing metadata (setup.py) ... \u001b[?25ldone\n",
      "\u001b[?25hRequirement already satisfied: attrs<24,>=23.1.0 in /home/ec2-user/anaconda3/envs/python3/lib/python3.10/site-packages (from sagemaker) (23.1.0)\n",
      "Requirement already satisfied: boto3<2.0,>=1.26.131 in /home/ec2-user/anaconda3/envs/python3/lib/python3.10/site-packages (from sagemaker) (1.26.162)\n",
      "Requirement already satisfied: cloudpickle==2.2.1 in /home/ec2-user/anaconda3/envs/python3/lib/python3.10/site-packages (from sagemaker) (2.2.1)\n",
      "Requirement already satisfied: google-pasta in /home/ec2-user/anaconda3/envs/python3/lib/python3.10/site-packages (from sagemaker) (0.2.0)\n",
      "Requirement already satisfied: numpy<2.0,>=1.9.0 in /home/ec2-user/anaconda3/envs/python3/lib/python3.10/site-packages (from sagemaker) (1.22.3)\n",
      "Requirement already satisfied: protobuf<5.0,>=3.12 in /home/ec2-user/anaconda3/envs/python3/lib/python3.10/site-packages (from sagemaker) (3.20.3)\n",
      "Requirement already satisfied: smdebug_rulesconfig==1.0.1 in /home/ec2-user/anaconda3/envs/python3/lib/python3.10/site-packages (from sagemaker) (1.0.1)\n",
      "Requirement already satisfied: importlib-metadata<7.0,>=1.4.0 in /home/ec2-user/anaconda3/envs/python3/lib/python3.10/site-packages (from sagemaker) (4.13.0)\n",
      "Requirement already satisfied: packaging>=20.0 in /home/ec2-user/anaconda3/envs/python3/lib/python3.10/site-packages (from sagemaker) (21.3)\n",
      "Requirement already satisfied: pandas in /home/ec2-user/anaconda3/envs/python3/lib/python3.10/site-packages (from sagemaker) (2.0.1)\n",
      "Requirement already satisfied: pathos in /home/ec2-user/anaconda3/envs/python3/lib/python3.10/site-packages (from sagemaker) (0.3.0)\n",
      "Requirement already satisfied: schema in /home/ec2-user/anaconda3/envs/python3/lib/python3.10/site-packages (from sagemaker) (0.7.5)\n",
      "Requirement already satisfied: PyYAML~=6.0 in /home/ec2-user/anaconda3/envs/python3/lib/python3.10/site-packages (from sagemaker) (6.0)\n",
      "Requirement already satisfied: jsonschema in /home/ec2-user/anaconda3/envs/python3/lib/python3.10/site-packages (from sagemaker) (3.2.0)\n",
      "Requirement already satisfied: platformdirs in /home/ec2-user/anaconda3/envs/python3/lib/python3.10/site-packages (from sagemaker) (3.5.0)\n",
      "Requirement already satisfied: tblib==1.7.0 in /home/ec2-user/anaconda3/envs/python3/lib/python3.10/site-packages (from sagemaker) (1.7.0)\n",
      "Requirement already satisfied: botocore<1.30.0,>=1.29.162 in /home/ec2-user/anaconda3/envs/python3/lib/python3.10/site-packages (from boto3<2.0,>=1.26.131->sagemaker) (1.29.162)\n",
      "Requirement already satisfied: jmespath<2.0.0,>=0.7.1 in /home/ec2-user/anaconda3/envs/python3/lib/python3.10/site-packages (from boto3<2.0,>=1.26.131->sagemaker) (1.0.1)\n",
      "Requirement already satisfied: s3transfer<0.7.0,>=0.6.0 in /home/ec2-user/anaconda3/envs/python3/lib/python3.10/site-packages (from boto3<2.0,>=1.26.131->sagemaker) (0.6.1)\n",
      "Requirement already satisfied: zipp>=0.5 in /home/ec2-user/anaconda3/envs/python3/lib/python3.10/site-packages (from importlib-metadata<7.0,>=1.4.0->sagemaker) (3.15.0)\n",
      "Requirement already satisfied: pyparsing!=3.0.5,>=2.0.2 in /home/ec2-user/anaconda3/envs/python3/lib/python3.10/site-packages (from packaging>=20.0->sagemaker) (3.0.9)\n",
      "Requirement already satisfied: six in /home/ec2-user/anaconda3/envs/python3/lib/python3.10/site-packages (from google-pasta->sagemaker) (1.16.0)\n",
      "Requirement already satisfied: pyrsistent>=0.14.0 in /home/ec2-user/anaconda3/envs/python3/lib/python3.10/site-packages (from jsonschema->sagemaker) (0.19.3)\n",
      "Requirement already satisfied: setuptools in /home/ec2-user/anaconda3/envs/python3/lib/python3.10/site-packages (from jsonschema->sagemaker) (67.7.2)\n",
      "Requirement already satisfied: python-dateutil>=2.8.2 in /home/ec2-user/anaconda3/envs/python3/lib/python3.10/site-packages (from pandas->sagemaker) (2.8.2)\n",
      "Requirement already satisfied: pytz>=2020.1 in /home/ec2-user/anaconda3/envs/python3/lib/python3.10/site-packages (from pandas->sagemaker) (2023.3)\n",
      "Requirement already satisfied: tzdata>=2022.1 in /home/ec2-user/anaconda3/envs/python3/lib/python3.10/site-packages (from pandas->sagemaker) (2023.3)\n",
      "Requirement already satisfied: ppft>=1.7.6.6 in /home/ec2-user/anaconda3/envs/python3/lib/python3.10/site-packages (from pathos->sagemaker) (1.7.6.6)\n",
      "Requirement already satisfied: dill>=0.3.6 in /home/ec2-user/anaconda3/envs/python3/lib/python3.10/site-packages (from pathos->sagemaker) (0.3.6)\n",
      "Requirement already satisfied: pox>=0.3.2 in /home/ec2-user/anaconda3/envs/python3/lib/python3.10/site-packages (from pathos->sagemaker) (0.3.2)\n",
      "Requirement already satisfied: multiprocess>=0.70.14 in /home/ec2-user/anaconda3/envs/python3/lib/python3.10/site-packages (from pathos->sagemaker) (0.70.14)\n",
      "Requirement already satisfied: contextlib2>=0.5.5 in /home/ec2-user/anaconda3/envs/python3/lib/python3.10/site-packages (from schema->sagemaker) (21.6.0)\n",
      "Requirement already satisfied: urllib3<1.27,>=1.25.4 in /home/ec2-user/anaconda3/envs/python3/lib/python3.10/site-packages (from botocore<1.30.0,>=1.29.162->boto3<2.0,>=1.26.131->sagemaker) (1.26.14)\n",
      "Building wheels for collected packages: sagemaker\n",
      "  Building wheel for sagemaker (setup.py) ... \u001b[?25ldone\n",
      "\u001b[?25h  Created wheel for sagemaker: filename=sagemaker-2.173.0-py2.py3-none-any.whl size=1163282 sha256=b88e7e6edbf749d099b37d812be403e049b70aef00886d36015a63bb4b7d38ae\n",
      "  Stored in directory: /home/ec2-user/.cache/pip/wheels/cc/23/21/6857de3905209ac2dbbe974e18a5654d28cd247f4223ff6bff\n",
      "Successfully built sagemaker\n",
      "Installing collected packages: sagemaker\n",
      "  Attempting uninstall: sagemaker\n",
      "    Found existing installation: sagemaker 2.171.0\n",
      "    Uninstalling sagemaker-2.171.0:\n",
      "      Successfully uninstalled sagemaker-2.171.0\n",
      "Successfully installed sagemaker-2.173.0\n",
      "Looking in indexes: https://pypi.org/simple, https://pip.repos.neuron.amazonaws.com\n",
      "Requirement already satisfied: langchain in /home/ec2-user/anaconda3/envs/python3/lib/python3.10/site-packages (0.0.228)\n",
      "Collecting langchain\n",
      "  Obtaining dependency information for langchain from https://files.pythonhosted.org/packages/d0/bc/1f7c5d68628100b44ee1493d4393af542407124370706882dd531b5dfde1/langchain-0.0.235-py3-none-any.whl.metadata\n",
      "  Downloading langchain-0.0.235-py3-none-any.whl.metadata (14 kB)\n",
      "Requirement already satisfied: PyYAML>=5.4.1 in /home/ec2-user/anaconda3/envs/python3/lib/python3.10/site-packages (from langchain) (6.0)\n",
      "Requirement already satisfied: SQLAlchemy<3,>=1.4 in /home/ec2-user/anaconda3/envs/python3/lib/python3.10/site-packages (from langchain) (2.0.12)\n",
      "Requirement already satisfied: aiohttp<4.0.0,>=3.8.3 in /home/ec2-user/anaconda3/envs/python3/lib/python3.10/site-packages (from langchain) (3.8.4)\n",
      "Requirement already satisfied: async-timeout<5.0.0,>=4.0.0 in /home/ec2-user/anaconda3/envs/python3/lib/python3.10/site-packages (from langchain) (4.0.2)\n",
      "Requirement already satisfied: dataclasses-json<0.6.0,>=0.5.7 in /home/ec2-user/anaconda3/envs/python3/lib/python3.10/site-packages (from langchain) (0.5.9)\n",
      "Collecting langsmith<0.0.8,>=0.0.7 (from langchain)\n",
      "  Obtaining dependency information for langsmith<0.0.8,>=0.0.7 from https://files.pythonhosted.org/packages/2d/77/d2fbb2155b2683ec3a35ab96e2c32a355615748e31cf9a256341b445900b/langsmith-0.0.7-py3-none-any.whl.metadata\n",
      "  Downloading langsmith-0.0.7-py3-none-any.whl.metadata (8.6 kB)\n",
      "Requirement already satisfied: numexpr<3.0.0,>=2.8.4 in /home/ec2-user/anaconda3/envs/python3/lib/python3.10/site-packages (from langchain) (2.8.4)\n",
      "Requirement already satisfied: numpy<2,>=1 in /home/ec2-user/anaconda3/envs/python3/lib/python3.10/site-packages (from langchain) (1.22.3)\n",
      "Requirement already satisfied: openapi-schema-pydantic<2.0,>=1.2 in /home/ec2-user/anaconda3/envs/python3/lib/python3.10/site-packages (from langchain) (1.2.4)\n",
      "Requirement already satisfied: pydantic<2,>=1 in /home/ec2-user/anaconda3/envs/python3/lib/python3.10/site-packages (from langchain) (1.10.11)\n",
      "Requirement already satisfied: requests<3,>=2 in /home/ec2-user/anaconda3/envs/python3/lib/python3.10/site-packages (from langchain) (2.29.0)\n",
      "Requirement already satisfied: tenacity<9.0.0,>=8.1.0 in /home/ec2-user/anaconda3/envs/python3/lib/python3.10/site-packages (from langchain) (8.2.2)\n",
      "Requirement already satisfied: attrs>=17.3.0 in /home/ec2-user/anaconda3/envs/python3/lib/python3.10/site-packages (from aiohttp<4.0.0,>=3.8.3->langchain) (23.1.0)\n",
      "Requirement already satisfied: charset-normalizer<4.0,>=2.0 in /home/ec2-user/anaconda3/envs/python3/lib/python3.10/site-packages (from aiohttp<4.0.0,>=3.8.3->langchain) (2.1.1)\n",
      "Requirement already satisfied: multidict<7.0,>=4.5 in /home/ec2-user/anaconda3/envs/python3/lib/python3.10/site-packages (from aiohttp<4.0.0,>=3.8.3->langchain) (6.0.4)\n",
      "Requirement already satisfied: yarl<2.0,>=1.0 in /home/ec2-user/anaconda3/envs/python3/lib/python3.10/site-packages (from aiohttp<4.0.0,>=3.8.3->langchain) (1.9.1)\n",
      "Requirement already satisfied: frozenlist>=1.1.1 in /home/ec2-user/anaconda3/envs/python3/lib/python3.10/site-packages (from aiohttp<4.0.0,>=3.8.3->langchain) (1.3.3)\n",
      "Requirement already satisfied: aiosignal>=1.1.2 in /home/ec2-user/anaconda3/envs/python3/lib/python3.10/site-packages (from aiohttp<4.0.0,>=3.8.3->langchain) (1.3.1)\n",
      "Requirement already satisfied: marshmallow<4.0.0,>=3.3.0 in /home/ec2-user/anaconda3/envs/python3/lib/python3.10/site-packages (from dataclasses-json<0.6.0,>=0.5.7->langchain) (3.19.0)\n",
      "Requirement already satisfied: marshmallow-enum<2.0.0,>=1.5.1 in /home/ec2-user/anaconda3/envs/python3/lib/python3.10/site-packages (from dataclasses-json<0.6.0,>=0.5.7->langchain) (1.5.1)\n",
      "Requirement already satisfied: typing-inspect>=0.4.0 in /home/ec2-user/anaconda3/envs/python3/lib/python3.10/site-packages (from dataclasses-json<0.6.0,>=0.5.7->langchain) (0.9.0)\n",
      "Requirement already satisfied: typing-extensions>=4.2.0 in /home/ec2-user/anaconda3/envs/python3/lib/python3.10/site-packages (from pydantic<2,>=1->langchain) (4.5.0)\n",
      "Requirement already satisfied: idna<4,>=2.5 in /home/ec2-user/anaconda3/envs/python3/lib/python3.10/site-packages (from requests<3,>=2->langchain) (3.4)\n",
      "Requirement already satisfied: urllib3<1.27,>=1.21.1 in /home/ec2-user/anaconda3/envs/python3/lib/python3.10/site-packages (from requests<3,>=2->langchain) (1.26.14)\n",
      "Requirement already satisfied: certifi>=2017.4.17 in /home/ec2-user/anaconda3/envs/python3/lib/python3.10/site-packages (from requests<3,>=2->langchain) (2023.5.7)\n",
      "Requirement already satisfied: greenlet!=0.4.17 in /home/ec2-user/anaconda3/envs/python3/lib/python3.10/site-packages (from SQLAlchemy<3,>=1.4->langchain) (2.0.2)\n",
      "Requirement already satisfied: packaging>=17.0 in /home/ec2-user/anaconda3/envs/python3/lib/python3.10/site-packages (from marshmallow<4.0.0,>=3.3.0->dataclasses-json<0.6.0,>=0.5.7->langchain) (21.3)\n",
      "Requirement already satisfied: mypy-extensions>=0.3.0 in /home/ec2-user/anaconda3/envs/python3/lib/python3.10/site-packages (from typing-inspect>=0.4.0->dataclasses-json<0.6.0,>=0.5.7->langchain) (1.0.0)\n",
      "Requirement already satisfied: pyparsing!=3.0.5,>=2.0.2 in /home/ec2-user/anaconda3/envs/python3/lib/python3.10/site-packages (from packaging>=17.0->marshmallow<4.0.0,>=3.3.0->dataclasses-json<0.6.0,>=0.5.7->langchain) (3.0.9)\n",
      "Downloading langchain-0.0.235-py3-none-any.whl (1.3 MB)\n",
      "\u001b[2K   \u001b[90m━━━━━━━━━━━━━━━━━━━━━━━━━━━━━━━━━━━━━━━━\u001b[0m \u001b[32m1.3/1.3 MB\u001b[0m \u001b[31m61.0 MB/s\u001b[0m eta \u001b[36m0:00:00\u001b[0m\n",
      "\u001b[?25hDownloading langsmith-0.0.7-py3-none-any.whl (26 kB)\n",
      "Installing collected packages: langsmith, langchain\n",
      "  Attempting uninstall: langchain\n",
      "    Found existing installation: langchain 0.0.228\n",
      "    Uninstalling langchain-0.0.228:\n",
      "      Successfully uninstalled langchain-0.0.228\n",
      "Successfully installed langchain-0.0.235 langsmith-0.0.7\n",
      "Looking in indexes: https://pypi.org/simple, https://pip.repos.neuron.amazonaws.com\n",
      "Requirement already satisfied: faiss-cpu in /home/ec2-user/anaconda3/envs/python3/lib/python3.10/site-packages (1.7.4)\n",
      "Looking in indexes: https://pypi.org/simple, https://pip.repos.neuron.amazonaws.com\n",
      "Requirement already satisfied: opensearch-py in /home/ec2-user/anaconda3/envs/python3/lib/python3.10/site-packages (2.2.0)\n",
      "Requirement already satisfied: urllib3<2,>=1.21.1 in /home/ec2-user/anaconda3/envs/python3/lib/python3.10/site-packages (from opensearch-py) (1.26.14)\n",
      "Requirement already satisfied: requests<3.0.0,>=2.4.0 in /home/ec2-user/anaconda3/envs/python3/lib/python3.10/site-packages (from opensearch-py) (2.29.0)\n",
      "Requirement already satisfied: six in /home/ec2-user/anaconda3/envs/python3/lib/python3.10/site-packages (from opensearch-py) (1.16.0)\n",
      "Requirement already satisfied: python-dateutil in /home/ec2-user/anaconda3/envs/python3/lib/python3.10/site-packages (from opensearch-py) (2.8.2)\n",
      "Requirement already satisfied: certifi>=2022.12.07 in /home/ec2-user/anaconda3/envs/python3/lib/python3.10/site-packages (from opensearch-py) (2023.5.7)\n",
      "Requirement already satisfied: charset-normalizer<4,>=2 in /home/ec2-user/anaconda3/envs/python3/lib/python3.10/site-packages (from requests<3.0.0,>=2.4.0->opensearch-py) (2.1.1)\n",
      "Requirement already satisfied: idna<4,>=2.5 in /home/ec2-user/anaconda3/envs/python3/lib/python3.10/site-packages (from requests<3.0.0,>=2.4.0->opensearch-py) (3.4)\n"
     ]
    }
   ],
   "source": [
    "import sys\n",
    "import IPython\n",
    "\n",
    "if install_needed:\n",
    "    print(\"installing deps and restarting kernel\")\n",
    "    !{sys.executable} -m pip install -U pip\n",
    "    !{sys.executable} -m pip install -U sagemaker\n",
    "    !{sys.executable} -m pip install -U langchain\n",
    "    !{sys.executable} -m pip install -U faiss-cpu\n",
    "    !{sys.executable} -m pip install -U opensearch-py\n",
    "    \n",
    "    IPython.Application.instance().kernel.do_shutdown(True)"
   ]
  },
  {
   "cell_type": "markdown",
   "id": "629008bb-4b95-4346-9c6c-27c9af0cd386",
   "metadata": {},
   "source": [
    "### 1. SageMaker Endpoint Wrapper"
   ]
  },
  {
   "cell_type": "markdown",
   "id": "244e467e-4814-45c0-9d09-a16aea0428da",
   "metadata": {},
   "source": [
    "### 1.1. SageMaker LLM_TEXT Wrapper"
   ]
  },
  {
   "cell_type": "code",
   "execution_count": 3,
   "id": "00402a44-1260-42c6-ad88-f8497db607de",
   "metadata": {
    "tags": []
   },
   "outputs": [],
   "source": [
    "import json\n",
    "import boto3\n",
    "import numpy as np\n",
    "from inference_utils import Prompter\n",
    "from typing import Any, Dict, List, Optional\n",
    "from langchain.embeddings import SagemakerEndpointEmbeddings\n",
    "from langchain.llms.sagemaker_endpoint import LLMContentHandler, SagemakerEndpoint\n",
    "from langchain.embeddings.sagemaker_endpoint import EmbeddingsContentHandler"
   ]
  },
  {
   "cell_type": "code",
   "execution_count": 4,
   "id": "705b2221-5907-4a71-834f-71d40722d3fe",
   "metadata": {
    "tags": []
   },
   "outputs": [],
   "source": [
    "prompter = Prompter(\"kullm\")\n",
    "params = {\n",
    "      'do_sample': False,\n",
    "      'max_new_tokens': 128,\n",
    "      'temperature': 1.0,\n",
    "      'top_k': 0,\n",
    "      'top_p': 0.9,\n",
    "      'return_full_text': False,\n",
    "      'repetition_penalty': 1.1,\n",
    "      'presence_penalty': None,\n",
    "      'eos_token_id': 2\n",
    "}\n",
    "\n",
    "class KullmContentHandler(LLMContentHandler):\n",
    "    content_type = \"application/json\"\n",
    "    accepts = \"application/json\"\n",
    "\n",
    "    def transform_input(self, prompt: str, model_kwargs={}) -> bytes:\n",
    "        '''\n",
    "        입력 데이터 전처리 후에 리턴\n",
    "        '''\n",
    "        context, question = prompt.split(\"||SPEPERATOR||\") \n",
    "        prompt = prompter.generate_prompt(question, context)\n",
    "\n",
    "        print (\"prompt\", prompt)\n",
    "        payload = {\n",
    "            'prompt': [prompt],\n",
    "            'params': model_kwargs\n",
    "        }\n",
    "                           \n",
    "        input_str = json.dumps(payload)\n",
    "        \n",
    "        return input_str.encode('utf-8')\n",
    "    \n",
    "\n",
    "    def transform_output(self, output: bytes) -> str:\n",
    "        \n",
    "        response_json = json.loads(output.read().decode(\"utf-8\"))              \n",
    "        generated_text = response_json[0][0][\"generated_text\"]\n",
    "        \n",
    "        return generated_text    "
   ]
  },
  {
   "cell_type": "code",
   "execution_count": 5,
   "id": "32a1c17c-a257-42a8-8b65-37e3b1046a0c",
   "metadata": {
    "tags": []
   },
   "outputs": [],
   "source": [
    "aws_region = boto3.Session().region_name\n",
    "LLMTextContentHandler = KullmContentHandler()\n",
    "endpoint_name_text = \"Kullm-polyglot-12-8b-v2-2023-07-10-05-48-59\"\n",
    "seperator = \"||SPEPERATOR||\""
   ]
  },
  {
   "cell_type": "code",
   "execution_count": 6,
   "id": "3216198c-59e9-4903-9bcd-92a73abe7656",
   "metadata": {
    "tags": []
   },
   "outputs": [],
   "source": [
    "llm_text = SagemakerEndpoint(\n",
    "    endpoint_name=endpoint_name_text,\n",
    "    region_name=aws_region,\n",
    "    model_kwargs=params,    \n",
    "    content_handler=LLMTextContentHandler,\n",
    ")"
   ]
  },
  {
   "cell_type": "markdown",
   "id": "dc06c71f-1e29-4d08-89da-2d442261cb56",
   "metadata": {},
   "source": [
    "### 1.2. SageMaker LLM_EMB Wrapper"
   ]
  },
  {
   "cell_type": "code",
   "execution_count": 7,
   "id": "8f4f875b-33b9-41b7-b6c0-b4da7de9745a",
   "metadata": {
    "tags": []
   },
   "outputs": [],
   "source": [
    "class SagemakerEndpointEmbeddingsJumpStart(SagemakerEndpointEmbeddings):\n",
    "    def embed_documents(self, texts: List[str], chunk_size: int=1) -> List[List[float]]:\n",
    "        \"\"\"Compute doc embeddings using a SageMaker Inference Endpoint.\n",
    "\n",
    "        Args:\n",
    "            texts: The list of texts to embed.\n",
    "            chunk_size: The chunk size defines how many input texts will\n",
    "                be grouped together as request. If None, will use the\n",
    "                chunk size specified by the class.\n",
    "\n",
    "        Returns:\n",
    "            List of embeddings, one for each text.\n",
    "        \"\"\"\n",
    "        results = []\n",
    "        _chunk_size = len(texts) if chunk_size > len(texts) else chunk_size\n",
    "        \n",
    "        print(\"text size: \", len(texts))\n",
    "        print(\"_chunk_size: \", _chunk_size)\n",
    "\n",
    "        for i in range(0, len(texts), _chunk_size):\n",
    "            \n",
    "            #print (i, texts[i : i + _chunk_size])\n",
    "            response = self._embedding_func(texts[i : i + _chunk_size])\n",
    "            #print (i, response, len(response[0].shape))\n",
    "            \n",
    "            results.extend(response)\n",
    "        return results"
   ]
  },
  {
   "cell_type": "code",
   "execution_count": 8,
   "id": "4d2f2819-ac24-4cff-9dd1-feae526a794c",
   "metadata": {
    "tags": []
   },
   "outputs": [],
   "source": [
    "class KoSimCSERobertaContentHandler(EmbeddingsContentHandler):\n",
    "    \n",
    "    content_type = \"application/json\"\n",
    "    accepts = \"application/json\"\n",
    "\n",
    "    def transform_input(self, prompt: str, model_kwargs={}) -> bytes:\n",
    "        \n",
    "        input_str = json.dumps({\"inputs\": prompt, **model_kwargs})\n",
    "        \n",
    "        return input_str.encode(\"utf-8\")\n",
    "\n",
    "    def transform_output(self, output: bytes) -> str:\n",
    "        \n",
    "        response_json = json.loads(output.read().decode(\"utf-8\"))\n",
    "        ndim = np.array(response_json).ndim    \n",
    "        \n",
    "        if ndim == 4:\n",
    "            # Original shape (1, 1, n, 768)\n",
    "            emb = response_json[0][0][0]\n",
    "            emb = np.expand_dims(emb, axis=0).tolist()\n",
    "        elif ndim == 2:\n",
    "            # Original shape (n, 1)\n",
    "            emb = []\n",
    "            for ele in response_json:\n",
    "                e = ele[0][0]\n",
    "                emb.append(e)\n",
    "        else:\n",
    "            print(f\"Other # of dimension: {ndim}\")\n",
    "            emb = None\n",
    "        return emb"
   ]
  },
  {
   "cell_type": "code",
   "execution_count": 9,
   "id": "c29fd00e-0980-4e53-b12f-f19c48957bfd",
   "metadata": {
    "tags": []
   },
   "outputs": [],
   "source": [
    "LLMEmbHandler = KoSimCSERobertaContentHandler()\n",
    "endpoint_name_emb = \"KoSimCSE-roberta-2023-07-10-05-26-01\""
   ]
  },
  {
   "cell_type": "code",
   "execution_count": 10,
   "id": "1b8e3ad6-3f8f-4f5e-99b9-c699f735ee74",
   "metadata": {
    "tags": []
   },
   "outputs": [],
   "source": [
    "llm_emb = SagemakerEndpointEmbeddingsJumpStart(\n",
    "    endpoint_name=endpoint_name_emb,\n",
    "    region_name=aws_region,\n",
    "    content_handler=LLMEmbHandler,\n",
    ")"
   ]
  },
  {
   "cell_type": "markdown",
   "id": "240a712b-c5d9-4745-b7cb-b625b026e3ea",
   "metadata": {
    "tags": []
   },
   "source": [
    "**Now, we can build an QA application. <span style=\"color:red\">LangChain makes it extremly simple with following few lines of code</span>.**"
   ]
  },
  {
   "cell_type": "markdown",
   "id": "9b6e70c7-1ac4-45ed-8b0b-2e5357e43759",
   "metadata": {},
   "source": [
    "## 2. Vector Store\n",
    "FAISS Vector Store\n",
    "- https://python.langchain.com/docs/modules/data_connection/vectorstores/integrations/faiss <BR>\n",
    "\n",
    "OpenSearch\n",
    "- https://python.langchain.com/docs/modules/data_connection/vectorstores/integrations/opensearch"
   ]
  },
  {
   "cell_type": "markdown",
   "id": "d3b24e61-722c-4a0b-aa8d-15c80ede6f39",
   "metadata": {},
   "source": [
    "### 2.1. Create OpenSearch domain\n",
    "* Follow below\n",
    "    - https://docs.aws.amazon.com/ko_kr/opensearch-service/latest/developerguide/gsgcreate-domain.html\n",
    "* Add policy (using SDK)\n",
    "    - AmazonOpenSearchServiceFullAccess"
   ]
  },
  {
   "cell_type": "markdown",
   "id": "c65229a9-9952-4b06-83a7-48f2dd7ff9db",
   "metadata": {},
   "source": [
    "**step 1. opensearch console로 이동** <BR>\n",
    "![nn](../../Images/s1.png)"
   ]
  },
  {
   "cell_type": "markdown",
   "id": "4aaecd7f-f6cb-4a91-8908-56826855af1a",
   "metadata": {},
   "source": [
    "**step 2. Navigator에서 Domain 이동 후 Create domain 선택** <BR>\n",
    "![nn](../../Images/s2.png)"
   ]
  },
  {
   "cell_type": "markdown",
   "id": "63fd6780-0329-4d91-912e-d688409b548a",
   "metadata": {},
   "source": [
    "**step 3. domain config 셋팅** <BR>\n",
    " - Domain name\n",
    " - Domain creation Method: Easy create\n",
    " - Engine options: OpenSearch_2.7\n",
    " - Network: Public access\n",
    " - Master user: Create master user\n",
    "    - Master username, Master password and Confirm master password 입력\n",
    " - 오른쪽 아래 주황색 create 선택\n",
    "\n",
    "![nn](../../Images/s3.png)"
   ]
  },
  {
   "cell_type": "markdown",
   "id": "21738072-8321-4383-93ff-b939ef27b36d",
   "metadata": {},
   "source": [
    "**step 4.Domain enapoint 복사** <BR>\n",
    "![nn](../../Images/s4_.png)"
   ]
  },
  {
   "cell_type": "markdown",
   "id": "4f1600a7-deb8-45e4-879c-0c5b30b12514",
   "metadata": {},
   "source": [
    "* create_domain: https://boto3.amazonaws.com/v1/documentation/api/1.18.51/reference/services/opensearch.html#OpenSearchService.Client.create_domain\n",
    "*     \n",
    "**It takes about 15 mins**"
   ]
  },
  {
   "cell_type": "code",
   "execution_count": 36,
   "id": "3d6d4250-2584-4ae0-840d-d2738c069238",
   "metadata": {},
   "outputs": [],
   "source": [
    "opensearch_domain_endpoint = \"https://search-os-rag-7xoyqbyedqulapmnkt6bie43ne.us-east-1.es.amazonaws.com\""
   ]
  },
  {
   "cell_type": "code",
   "execution_count": 37,
   "id": "cd49efdd-daa2-4190-afee-7cca04c53eda",
   "metadata": {
    "tags": []
   },
   "outputs": [],
   "source": [
    "http_auth = (\"os-rag\", \"Q!w2e3r4\") # Master username, Master password"
   ]
  },
  {
   "cell_type": "markdown",
   "id": "1e9672ec-62eb-41fb-a8cd-eba631429798",
   "metadata": {},
   "source": [
    "### 2.2. load context files and build indexer\n",
    "We are now ready to create scripts which will read data from the local directory, use langchain to create embeddings and then upload the embeddings into OpenSearch."
   ]
  },
  {
   "cell_type": "code",
   "execution_count": 13,
   "id": "641287da-35e6-4681-99d4-b26c5bff47dc",
   "metadata": {
    "tags": []
   },
   "outputs": [],
   "source": [
    "import json\n",
    "import boto3\n",
    "from langchain.document_loaders.csv_loader import CSVLoader"
   ]
  },
  {
   "cell_type": "code",
   "execution_count": 14,
   "id": "940201e0-5bab-499e-9028-c71322dff481",
   "metadata": {
    "tags": []
   },
   "outputs": [],
   "source": [
    "loader = CSVLoader(\n",
    "    file_path=\"../dataset/quenstion_answer_ko.csv\",\n",
    "    source_column=\"Source\",\n",
    "    encoding=\"utf-8\"\n",
    ")\n",
    "context_documents = loader.load()"
   ]
  },
  {
   "cell_type": "code",
   "execution_count": 15,
   "id": "19ad0b20-997c-4b70-a4d8-dc94dbbfcb5c",
   "metadata": {
    "tags": []
   },
   "outputs": [
    {
     "data": {
      "text/plain": [
       "(8482,\n",
       " Document(page_content='Information: 이마트 창동점의 주차정보, 주차요금, 무료주차 정보는 다음과 같습니다. \\n※ 임대매장(스타벅스, 식당 등)이용 무료주차    해당매장에서 무료주차 2시간 적용※ 계산대 출력영수증, 모바일영수증에     하단 바코드를 사용하여    신용카드 전용 사전무인정산기 정산후 출차    -케이엠파크:080-330-3600※ 전기차 충전소 위치: 옥외 주차장 8F     차지비,완속 3대,24:00~24:00, 고객센터 1600-4047 매장 전체 주차가능대수: 159대<sep>이마트 창동점\\nSource: 이마트 창동점', metadata={'source': '이마트 창동점', 'row': 5}))"
      ]
     },
     "execution_count": 15,
     "metadata": {},
     "output_type": "execute_result"
    }
   ],
   "source": [
    "len(context_documents), context_documents[5]"
   ]
  },
  {
   "cell_type": "markdown",
   "id": "5724a575-c665-494c-bd31-673209d4b58d",
   "metadata": {
    "tags": []
   },
   "source": [
    "### 2.3. Insert data to OpenSearch\n",
    "\n",
    "This script puts everything together, it divides the documents into chunks, then uses the langchain package to create embeddings (through `SagemakerEndpointEmbeddingsJumpStart`) and then ingests the data into OpenSearch using `OpenSearchVectorSearch`. \n",
    "\n",
    "To keep things simple the chunks size is set to a fixed length of 500 tokens, with an overlap of 30 tokens. The langchain `OpenSearchVectorSearch` provides a wrapper over the `opensearch-py` package. It uses the `/_bulk` API endpoint for ingesting multiple records in a single PUT request."
   ]
  },
  {
   "cell_type": "code",
   "execution_count": 17,
   "id": "dab7d1c6-7b4a-42ef-9c09-581bb63aef07",
   "metadata": {
    "tags": []
   },
   "outputs": [],
   "source": [
    "import time\n",
    "import pprint\n",
    "import logging\n",
    "import sagemaker\n",
    "from langchain.vectorstores import OpenSearchVectorSearch\n",
    "from langchain.text_splitter import CharacterTextSplitter, RecursiveCharacterTextSplitter"
   ]
  },
  {
   "cell_type": "code",
   "execution_count": 18,
   "id": "f611333f-a1d9-43a0-ba5f-08fbf5b1b520",
   "metadata": {
    "tags": []
   },
   "outputs": [],
   "source": [
    "#pp = pprint.PrettyPrinter(indent=4)"
   ]
  },
  {
   "cell_type": "code",
   "execution_count": 19,
   "id": "26f7a09a-0bae-4097-aa63-e845a4a2057d",
   "metadata": {
    "tags": []
   },
   "outputs": [
    {
     "name": "stderr",
     "output_type": "stream",
     "text": [
      "2023-07-18 00:43:32,104,credentials,MainProcess,INFO,Found credentials from IAM Role: BaseNotebookInstanceEc2InstanceRole\n"
     ]
    }
   ],
   "source": [
    "# global constants\n",
    "logger = logging.getLogger()\n",
    "logging.basicConfig(format='%(asctime)s,%(module)s,%(processName)s,%(levelname)s,%(message)s', level=logging.INFO, stream=sys.stderr)\n",
    "\n",
    "role = sagemaker.get_execution_role()"
   ]
  },
  {
   "cell_type": "markdown",
   "id": "5c9813c9-a990-4684-a9fc-9698b809ff3e",
   "metadata": {},
   "source": [
    "* For OpenSearch"
   ]
  },
  {
   "cell_type": "code",
   "execution_count": 21,
   "id": "1a66b1a9-2b6c-45e1-bfbc-4cfaee39813f",
   "metadata": {
    "tags": []
   },
   "outputs": [],
   "source": [
    "index_name = \"genai-rag-index\""
   ]
  },
  {
   "cell_type": "code",
   "execution_count": 22,
   "id": "162f4988-2579-4d49-8eca-e27f05ffeff1",
   "metadata": {
    "collapsed": true,
    "jupyter": {
     "outputs_hidden": true
    },
    "tags": []
   },
   "outputs": [
    {
     "name": "stderr",
     "output_type": "stream",
     "text": [
      "2023-07-18 00:43:51,675,<timed exec>,MainProcess,INFO,Loading documents ...\n"
     ]
    },
    {
     "name": "stdout",
     "output_type": "stream",
     "text": [
      "text size:  8524\n",
      "_chunk_size:  1\n"
     ]
    },
    {
     "name": "stderr",
     "output_type": "stream",
     "text": [
      "\n",
      "KeyboardInterrupt\n",
      "\n"
     ]
    }
   ],
   "source": [
    "%%time\n",
    "logger.info('Loading documents ...')\n",
    "docs = loader.load()\n",
    "\n",
    "# # add a custom metadata field, such as timestamp\n",
    "for doc in docs:\n",
    "    doc.metadata['timestamp'] = time.time()\n",
    "    doc.metadata['embeddings_model'] = endpoint_name_emb\n",
    "\n",
    "text_splitter = RecursiveCharacterTextSplitter(chunk_size=500, chunk_overlap=200)\n",
    "documents = text_splitter.split_documents(docs)\n",
    "\n",
    "# by default langchain would create a k-NN index and the embeddings would be ingested as a k-NN vector type\n",
    "docsearch = OpenSearchVectorSearch.from_documents(\n",
    "    index_name=index_name,\n",
    "    documents=documents,\n",
    "    embedding=llm_emb,\n",
    "    opensearch_url=opensearch_domain_endpoint,\n",
    "    http_auth=http_auth,\n",
    "    bulk_size=10000,\n",
    "    timeout=60\n",
    ")"
   ]
  },
  {
   "cell_type": "markdown",
   "id": "45f87c18-22c9-4ad7-88be-2f97c85fc181",
   "metadata": {},
   "source": [
    "## 5. QnA"
   ]
  },
  {
   "cell_type": "code",
   "execution_count": 30,
   "id": "e8d08bd9-231c-4b1f-b8e9-6fdd1cdbfa44",
   "metadata": {
    "tags": []
   },
   "outputs": [],
   "source": [
    "from functools import lru_cache\n",
    "from langchain import PromptTemplate\n",
    "from langchain.chains.question_answering import load_qa_chain"
   ]
  },
  {
   "cell_type": "markdown",
   "id": "f2b853fb-1da5-40d2-8540-71fe00e4bf2c",
   "metadata": {},
   "source": [
    "### 5.1. Query and Response"
   ]
  },
  {
   "cell_type": "code",
   "execution_count": 38,
   "id": "eac54bb4-2704-40c5-a809-2d34746d6d1b",
   "metadata": {
    "tags": []
   },
   "outputs": [],
   "source": [
    "import copy\n",
    "import functools\n",
    "import concurrent.futures\n",
    "from itertools import chain as ch\n",
    "from operator import itemgetter\n",
    "from langchain.schema import Document\n",
    "from opensearchpy import OpenSearch, RequestsHttpConnection"
   ]
  },
  {
   "cell_type": "code",
   "execution_count": 39,
   "id": "6935448b-3f3c-49a7-8142-8845f6285acd",
   "metadata": {
    "tags": []
   },
   "outputs": [],
   "source": [
    "prompt_template = ''.join([\"{context}\", seperator, \"{question}\"])\n",
    "PROMPT = PromptTemplate(template=prompt_template, input_variables=[\"context\", \"question\"])\n",
    "chain = load_qa_chain(llm=llm_text, chain_type=\"stuff\", prompt=PROMPT, verbose=True)"
   ]
  },
  {
   "cell_type": "code",
   "execution_count": 40,
   "id": "8ea7efae-5339-46d5-bbb2-5402daceb1cd",
   "metadata": {
    "tags": []
   },
   "outputs": [],
   "source": [
    "vectro_db = OpenSearchVectorSearch(\n",
    "    index_name=index_name,\n",
    "    opensearch_url=opensearch_domain_endpoint,\n",
    "    embedding_function=llm_emb,\n",
    "    http_auth=http_auth,\n",
    "    engine=\"faiss\",\n",
    "    space_type=\"l2\"\n",
    ")"
   ]
  },
  {
   "cell_type": "code",
   "execution_count": 51,
   "id": "7a146945-730c-4c1f-8a6b-ab4578a067ac",
   "metadata": {},
   "outputs": [],
   "source": [
    "def get_client(server_url: str) -> OpenSearch:\n",
    "    os_instance = OpenSearch(\n",
    "        server_url,\n",
    "        http_auth=http_auth\n",
    "    )\n",
    "    return os_instance\n",
    "\n",
    "os_client = get_client(opensearch_domain_endpoint)"
   ]
  },
  {
   "cell_type": "code",
   "execution_count": 52,
   "id": "9e0b1e29-92f6-4d51-8250-e21c87441ac8",
   "metadata": {
    "tags": []
   },
   "outputs": [
    {
     "data": {
      "text/plain": [
       "<OpenSearch([{'host': 'search-os-rag-7xoyqbyedqulapmnkt6bie43ne.us-east-1.es.amazonaws.com', 'port': 443, 'use_ssl': True}])>"
      ]
     },
     "execution_count": 52,
     "metadata": {},
     "output_type": "execute_result"
    }
   ],
   "source": [
    "os_client"
   ]
  },
  {
   "cell_type": "code",
   "execution_count": 53,
   "id": "02bf59e1-efb2-4fca-a3dc-47322d31387a",
   "metadata": {
    "tags": []
   },
   "outputs": [],
   "source": [
    "def get_similiar_docs(query, k=10, fetch_k=300, score=False, store=\"\", search_type=\"approximate_search\"):\n",
    "\n",
    "    query = f'{store}, {query}'\n",
    "    store = \"*\" + store.replace(\"이마트\", \"\").strip() + \"*\"\n",
    "    print (query, search_type, store)\n",
    "\n",
    "    if score:\n",
    "        similar_docs = vectro_db.similarity_search_with_score(\n",
    "            query,\n",
    "            k=k,\n",
    "            search_type=search_type, # approximate_search, script_scoring, painless_scripting\n",
    "            space_type=\"cosinesimil\",     #\"l2\", \"l1\", \"linf\", \"cosinesimil\", \"innerproduct\", \"hammingbit\";\n",
    "            pre_filter={\"bool\": {\"filter\": {\"wildcard\": {\"text\": store}}}}, #  only for script_scoring\n",
    "            boolean_filter={\"bool\": {\"filter\": {\"wildcard\": {\"text\": store}}}} # term, wildcard, Exists, only for approximate_search\n",
    "        )\n",
    "    else:\n",
    "        similar_docs = vectro_db.similarity_search(\n",
    "            query,\n",
    "            k=k,\n",
    "            search_type=search_type, # approximate_search, script_scoring, painless_scripting\n",
    "            space_type=\"cosinesimil\",     #\"l2\", \"l1\", \"linf\", \"cosinesimil\", \"innerproduct\", \"hammingbit\";\n",
    "            pre_filter={\"bool\": {\"filter\": {\"wildcard\": {\"text\": store}}}}, #  only for script_scoring\n",
    "            boolean_filter={\"bool\": {\"filter\": {\"wildcard\": {\"text\": store}}}} # term, wildcard, Exists, only for approximate_search\n",
    "            \n",
    "        )\n",
    "    similar_docs_copy = copy.deepcopy(similar_docs)\n",
    "    \n",
    "    if len(similar_docs_copy) != 0:\n",
    "        max_score = max(similar_docs_copy, key=itemgetter(1))[1]\n",
    "        similar_docs_copy = [(doc[0], doc[1]/max_score) for doc in similar_docs_copy]\n",
    "    \n",
    "    return similar_docs_copy\n",
    "\n",
    "\n",
    "def get_similiar_docs_with_keywords(query, index_name, k=10):\n",
    "    \n",
    "    def normalize_search_formula(score, max_score):\n",
    "        return score / max_score\n",
    "\n",
    "    def normalize_search_results(search_results):\n",
    "        hits = (search_results[\"hits\"][\"hits\"])\n",
    "        max_score = search_results[\"hits\"][\"max_score\"]\n",
    "        for hit in hits:\n",
    "            hit[\"_score\"] = normalize_search_formula(hit[\"_score\"], max_score)\n",
    "        search_results[\"hits\"][\"max_score\"] = hits[0][\"_score\"]\n",
    "        search_results[\"hits\"][\"hits\"] = hits\n",
    "        return search_results\n",
    "    \n",
    "    search_query = {\n",
    "        \"size\": k,\n",
    "        \"query\": {\n",
    "            \"match\": {\n",
    "                \"text\": query\n",
    "            }\n",
    "        },\n",
    "        \"_source\": [\"text\"],\n",
    "    }    \n",
    "    search_results = os_client.search(body=search_query, index=index_name)\n",
    "    \n",
    "    results = []\n",
    "    if search_results[\"hits\"][\"hits\"]:\n",
    "        search_results = normalize_search_results(search_results)\n",
    "        for res in search_results[\"hits\"][\"hits\"]:\n",
    "            source = res[\"_source\"][\"text\"].rsplit(\"\\n\", 2)[-1].split(\"Source: \")[-1]\n",
    "            doc = Document(\n",
    "                page_content=res[\"_source\"][\"text\"],\n",
    "                metadata={'source': source}\n",
    "            )\n",
    "            results.append((doc, res[\"_score\"]))\n",
    "\n",
    "    return results\n",
    "\n",
    "def interpolate_results(semantic, keyword, k):\n",
    "\n",
    "    semantic_set = set([doc.page_content for doc, score in semantic])\n",
    "    keyword_set = set([doc.page_content for doc, score in keyword])\n",
    "    common = semantic_set.intersection(keyword_set)\n",
    "\n",
    "    results = []\n",
    "    for doc, score in list(ch(semantic, keyword)):\n",
    "        if doc.page_content in common: results.append((doc, 2))\n",
    "        else: results.append((doc, score))\n",
    "        \n",
    "    results = [doc for doc, score in results[:k]]\n",
    "    \n",
    "    return results\n",
    "        \n",
    "def get_answer(query, store=\"\", k=10):\n",
    "    \n",
    "    similar_docs_semantic = get_similiar_docs(query, k=k, score=True, store=store, search_type=\"approximate_search\")\n",
    "    similar_docs_keyword = get_similiar_docs_with_keywords(query, k=k, index_name=index_name)    \n",
    "    similar_docs = interpolate_results(similar_docs_semantic, similar_docs_keyword, k=k)\n",
    "    \n",
    "    answer = chain.run(input_documents=similar_docs, question=query)\n",
    "    \n",
    "    return answer"
   ]
  },
  {
   "cell_type": "code",
   "execution_count": 54,
   "id": "8c193c6a-822f-4861-badd-697915f0be12",
   "metadata": {
    "tags": []
   },
   "outputs": [
    {
     "name": "stderr",
     "output_type": "stream",
     "text": [
      "2023-07-18 00:48:42,500,base,MainProcess,INFO,POST https://search-os-rag-7xoyqbyedqulapmnkt6bie43ne.us-east-1.es.amazonaws.com:443/genai-rag-index/_search [status:200 request:0.051s]\n"
     ]
    },
    {
     "name": "stdout",
     "output_type": "stream",
     "text": [
      "이마트 동탄점, 이마트 동탄점 무료주차 하려면 얼마나 사야해? approximate_search *동탄점*\n",
      "이마트 동탄점 무료주차 하려면 얼마나 사야해?\n"
     ]
    },
    {
     "name": "stderr",
     "output_type": "stream",
     "text": [
      "2023-07-18 00:48:42,587,base,MainProcess,INFO,POST https://search-os-rag-7xoyqbyedqulapmnkt6bie43ne.us-east-1.es.amazonaws.com:443/genai-rag-index/_search [status:200 request:0.084s]\n"
     ]
    },
    {
     "name": "stdout",
     "output_type": "stream",
     "text": [
      "\n",
      "\n",
      "\u001b[1m> Entering new StuffDocumentsChain chain...\u001b[0m\n",
      "\n",
      "\n",
      "\u001b[1m> Entering new LLMChain chain...\u001b[0m\n",
      "Prompt after formatting:\n",
      "\u001b[32;1m\u001b[1;3mInformation: 이마트 동탄점의 주차정보, 주차요금, 무료주차 정보는 다음과 같습니다. 유료주차 이용안내(사전/무인정산기)시행일자 : 2019년 7월 1일(월요일)[일반요금]1. 30분 회차 - 무료 ※30분 초과 시 회차시간 포함 요금징수2. 기본 10분 - 1,000원3. 운영시간 - 10:00 ~ 23:00[고객할인]1. 1만원이상 - 2시간2. 3만원 이상 - 3시간3. 5만원 이상 - 4시간※최대 4시간을 초과 할 수 없습니다.(영수증 중복적용 가능)<sep>이마트 동탄점\n",
      "Source: 이마트 동탄점\n",
      "\n",
      "Information: 이마트 동탄점의 주차정보, 주차요금, 무료주차 정보는 다음과 같습니다. \n",
      "[유의사항]1. 이마트 계산대에서 발행된 당일 영수증만 사용가능 합니다.2. 그 외 영수증은 구매하신 매장에서 주차할인을 적용 받으시길 바랍니다.*사전 정산 시 구매하신 영수증을 모두 적용해 주세요!*사전 정산 후 30분 이내 출차하셔야 됩니다.[사전무인 정산기 위치안내]2층 - EV 앞 1대 / 문화센터 앞 1대4층 - 수선실 앞 2대 / EV 앞 1대5층 - EV 앞 1대6층 - 무빙워크 상행 1대 / EV 앞 1대7층 - EV 앞 1대정기권 문의 1588-5783 매장 전체 주차가능대수: 828대<sep>이마트 동탄점\n",
      "Source: 이마트 동탄점\n",
      "\n",
      "Information: 네, 이마트 동탄점에는 더페이스샵가 있고, 전화번호는 031-613-3672, 운영시간은 10:00~22:00 입니다.<sep>이마트 동탄점\n",
      "Source: 이마트 동탄점\n",
      "\n",
      "Information: 네, 이마트 동탄점에는 전기차 충전소(차지비/완속/2대)가 있고, 전화번호는 1600-4047-, 운영시간은 10:00~21:00 입니다.<sep>이마트 동탄점\n",
      "Source: 이마트 동탄점\n",
      "\n",
      "Information: 네, 이마트 동탄점에는 상품권샵가 있고, 전화번호는 031-647-1065, 운영시간은 10:00~22:00 입니다.<sep>이마트 동탄점\n",
      "Source: 이마트 동탄점||SPEPERATOR||이마트 동탄점 무료주차 하려면 얼마나 사야해?\u001b[0m\n",
      "prompt 아래는 작업을 설명하는 명령어와 추가 컨텍스트를 제공하는 입력이 짝을 이루는 예제입니다. 요청을 적절히 완료하는 응답을 작성하세요.\n",
      "\n",
      "### 명령어:\n",
      "이마트 동탄점 무료주차 하려면 얼마나 사야해?\n",
      "\n",
      "### 입력:\n",
      "Information: 이마트 동탄점의 주차정보, 주차요금, 무료주차 정보는 다음과 같습니다. 유료주차 이용안내(사전/무인정산기)시행일자 : 2019년 7월 1일(월요일)[일반요금]1. 30분 회차 - 무료 ※30분 초과 시 회차시간 포함 요금징수2. 기본 10분 - 1,000원3. 운영시간 - 10:00 ~ 23:00[고객할인]1. 1만원이상 - 2시간2. 3만원 이상 - 3시간3. 5만원 이상 - 4시간※최대 4시간을 초과 할 수 없습니다.(영수증 중복적용 가능)<sep>이마트 동탄점\n",
      "Source: 이마트 동탄점\n",
      "\n",
      "Information: 이마트 동탄점의 주차정보, 주차요금, 무료주차 정보는 다음과 같습니다. \n",
      "[유의사항]1. 이마트 계산대에서 발행된 당일 영수증만 사용가능 합니다.2. 그 외 영수증은 구매하신 매장에서 주차할인을 적용 받으시길 바랍니다.*사전 정산 시 구매하신 영수증을 모두 적용해 주세요!*사전 정산 후 30분 이내 출차하셔야 됩니다.[사전무인 정산기 위치안내]2층 - EV 앞 1대 / 문화센터 앞 1대4층 - 수선실 앞 2대 / EV 앞 1대5층 - EV 앞 1대6층 - 무빙워크 상행 1대 / EV 앞 1대7층 - EV 앞 1대정기권 문의 1588-5783 매장 전체 주차가능대수: 828대<sep>이마트 동탄점\n",
      "Source: 이마트 동탄점\n",
      "\n",
      "Information: 네, 이마트 동탄점에는 더페이스샵가 있고, 전화번호는 031-613-3672, 운영시간은 10:00~22:00 입니다.<sep>이마트 동탄점\n",
      "Source: 이마트 동탄점\n",
      "\n",
      "Information: 네, 이마트 동탄점에는 전기차 충전소(차지비/완속/2대)가 있고, 전화번호는 1600-4047-, 운영시간은 10:00~21:00 입니다.<sep>이마트 동탄점\n",
      "Source: 이마트 동탄점\n",
      "\n",
      "Information: 네, 이마트 동탄점에는 상품권샵가 있고, 전화번호는 031-647-1065, 운영시간은 10:00~22:00 입니다.<sep>이마트 동탄점\n",
      "Source: 이마트 동탄점\n",
      "\n",
      "### 응답:\n",
      "\n",
      "\n",
      "\u001b[1m> Finished chain.\u001b[0m\n",
      "\n",
      "\u001b[1m> Finished chain.\u001b[0m\n",
      "CPU times: user 59.1 ms, sys: 4.77 ms, total: 63.8 ms\n",
      "Wall time: 4.26 s\n"
     ]
    }
   ],
   "source": [
    "%%time\n",
    "question = \"이마트 동탄점 무료주차 하려면 얼마나 사야해?\"\n",
    "response = get_answer(question, store=\"이마트 동탄점\", k=5)"
   ]
  },
  {
   "cell_type": "code",
   "execution_count": 55,
   "id": "92313609-5682-45ca-8eeb-8cf87bfb4270",
   "metadata": {
    "tags": []
   },
   "outputs": [
    {
     "name": "stdout",
     "output_type": "stream",
     "text": [
      "question: 이마트 동탄점 무료주차 하려면 얼마나 사야해?\n",
      "response: 이마트 동탄점 무료주차를 위해서는 최소 30분 회차 또는 10분 회차를 구매해야 합니다. 고객 할인 혜택으로 최대 4시간까지 무료주차가 가능합니다. 사전 무인 정산기는 2층, 4층, 5층, 6층, 7층에 위치하고 있으며, 정기권 문의는 1588-5782로 가능합니다.\n"
     ]
    }
   ],
   "source": [
    "print (f'question: {question}')\n",
    "print (f'response: {response}')"
   ]
  },
  {
   "cell_type": "markdown",
   "id": "fce04ab1-4d10-44be-90d4-dfc823c2637c",
   "metadata": {
    "tags": []
   },
   "source": [
    "## 6. Cleanup"
   ]
  },
  {
   "cell_type": "markdown",
   "id": "5e6226cc-cd67-4bf6-937e-a4b34e0ac3dc",
   "metadata": {},
   "source": [
    "### 6.1. delete opensearch domain"
   ]
  },
  {
   "cell_type": "code",
   "execution_count": 41,
   "id": "244bb1c5-9bb0-4d9a-a9ab-eb111d6d13cf",
   "metadata": {
    "tags": []
   },
   "outputs": [],
   "source": [
    "client = boto3.client('opensearch')"
   ]
  },
  {
   "cell_type": "code",
   "execution_count": 42,
   "id": "d00f0667-fe91-4cac-8a52-4d8166b8520d",
   "metadata": {
    "tags": []
   },
   "outputs": [],
   "source": [
    "response = client.delete_domain(\n",
    "    DomainName=opnsearch_config[\"domain\"]\n",
    ")"
   ]
  }
 ],
 "metadata": {
  "availableInstances": [
   {
    "_defaultOrder": 0,
    "_isFastLaunch": true,
    "category": "General purpose",
    "gpuNum": 0,
    "hideHardwareSpecs": false,
    "memoryGiB": 4,
    "name": "ml.t3.medium",
    "vcpuNum": 2
   },
   {
    "_defaultOrder": 1,
    "_isFastLaunch": false,
    "category": "General purpose",
    "gpuNum": 0,
    "hideHardwareSpecs": false,
    "memoryGiB": 8,
    "name": "ml.t3.large",
    "vcpuNum": 2
   },
   {
    "_defaultOrder": 2,
    "_isFastLaunch": false,
    "category": "General purpose",
    "gpuNum": 0,
    "hideHardwareSpecs": false,
    "memoryGiB": 16,
    "name": "ml.t3.xlarge",
    "vcpuNum": 4
   },
   {
    "_defaultOrder": 3,
    "_isFastLaunch": false,
    "category": "General purpose",
    "gpuNum": 0,
    "hideHardwareSpecs": false,
    "memoryGiB": 32,
    "name": "ml.t3.2xlarge",
    "vcpuNum": 8
   },
   {
    "_defaultOrder": 4,
    "_isFastLaunch": true,
    "category": "General purpose",
    "gpuNum": 0,
    "hideHardwareSpecs": false,
    "memoryGiB": 8,
    "name": "ml.m5.large",
    "vcpuNum": 2
   },
   {
    "_defaultOrder": 5,
    "_isFastLaunch": false,
    "category": "General purpose",
    "gpuNum": 0,
    "hideHardwareSpecs": false,
    "memoryGiB": 16,
    "name": "ml.m5.xlarge",
    "vcpuNum": 4
   },
   {
    "_defaultOrder": 6,
    "_isFastLaunch": false,
    "category": "General purpose",
    "gpuNum": 0,
    "hideHardwareSpecs": false,
    "memoryGiB": 32,
    "name": "ml.m5.2xlarge",
    "vcpuNum": 8
   },
   {
    "_defaultOrder": 7,
    "_isFastLaunch": false,
    "category": "General purpose",
    "gpuNum": 0,
    "hideHardwareSpecs": false,
    "memoryGiB": 64,
    "name": "ml.m5.4xlarge",
    "vcpuNum": 16
   },
   {
    "_defaultOrder": 8,
    "_isFastLaunch": false,
    "category": "General purpose",
    "gpuNum": 0,
    "hideHardwareSpecs": false,
    "memoryGiB": 128,
    "name": "ml.m5.8xlarge",
    "vcpuNum": 32
   },
   {
    "_defaultOrder": 9,
    "_isFastLaunch": false,
    "category": "General purpose",
    "gpuNum": 0,
    "hideHardwareSpecs": false,
    "memoryGiB": 192,
    "name": "ml.m5.12xlarge",
    "vcpuNum": 48
   },
   {
    "_defaultOrder": 10,
    "_isFastLaunch": false,
    "category": "General purpose",
    "gpuNum": 0,
    "hideHardwareSpecs": false,
    "memoryGiB": 256,
    "name": "ml.m5.16xlarge",
    "vcpuNum": 64
   },
   {
    "_defaultOrder": 11,
    "_isFastLaunch": false,
    "category": "General purpose",
    "gpuNum": 0,
    "hideHardwareSpecs": false,
    "memoryGiB": 384,
    "name": "ml.m5.24xlarge",
    "vcpuNum": 96
   },
   {
    "_defaultOrder": 12,
    "_isFastLaunch": false,
    "category": "General purpose",
    "gpuNum": 0,
    "hideHardwareSpecs": false,
    "memoryGiB": 8,
    "name": "ml.m5d.large",
    "vcpuNum": 2
   },
   {
    "_defaultOrder": 13,
    "_isFastLaunch": false,
    "category": "General purpose",
    "gpuNum": 0,
    "hideHardwareSpecs": false,
    "memoryGiB": 16,
    "name": "ml.m5d.xlarge",
    "vcpuNum": 4
   },
   {
    "_defaultOrder": 14,
    "_isFastLaunch": false,
    "category": "General purpose",
    "gpuNum": 0,
    "hideHardwareSpecs": false,
    "memoryGiB": 32,
    "name": "ml.m5d.2xlarge",
    "vcpuNum": 8
   },
   {
    "_defaultOrder": 15,
    "_isFastLaunch": false,
    "category": "General purpose",
    "gpuNum": 0,
    "hideHardwareSpecs": false,
    "memoryGiB": 64,
    "name": "ml.m5d.4xlarge",
    "vcpuNum": 16
   },
   {
    "_defaultOrder": 16,
    "_isFastLaunch": false,
    "category": "General purpose",
    "gpuNum": 0,
    "hideHardwareSpecs": false,
    "memoryGiB": 128,
    "name": "ml.m5d.8xlarge",
    "vcpuNum": 32
   },
   {
    "_defaultOrder": 17,
    "_isFastLaunch": false,
    "category": "General purpose",
    "gpuNum": 0,
    "hideHardwareSpecs": false,
    "memoryGiB": 192,
    "name": "ml.m5d.12xlarge",
    "vcpuNum": 48
   },
   {
    "_defaultOrder": 18,
    "_isFastLaunch": false,
    "category": "General purpose",
    "gpuNum": 0,
    "hideHardwareSpecs": false,
    "memoryGiB": 256,
    "name": "ml.m5d.16xlarge",
    "vcpuNum": 64
   },
   {
    "_defaultOrder": 19,
    "_isFastLaunch": false,
    "category": "General purpose",
    "gpuNum": 0,
    "hideHardwareSpecs": false,
    "memoryGiB": 384,
    "name": "ml.m5d.24xlarge",
    "vcpuNum": 96
   },
   {
    "_defaultOrder": 20,
    "_isFastLaunch": false,
    "category": "General purpose",
    "gpuNum": 0,
    "hideHardwareSpecs": true,
    "memoryGiB": 0,
    "name": "ml.geospatial.interactive",
    "supportedImageNames": [
     "sagemaker-geospatial-v1-0"
    ],
    "vcpuNum": 0
   },
   {
    "_defaultOrder": 21,
    "_isFastLaunch": true,
    "category": "Compute optimized",
    "gpuNum": 0,
    "hideHardwareSpecs": false,
    "memoryGiB": 4,
    "name": "ml.c5.large",
    "vcpuNum": 2
   },
   {
    "_defaultOrder": 22,
    "_isFastLaunch": false,
    "category": "Compute optimized",
    "gpuNum": 0,
    "hideHardwareSpecs": false,
    "memoryGiB": 8,
    "name": "ml.c5.xlarge",
    "vcpuNum": 4
   },
   {
    "_defaultOrder": 23,
    "_isFastLaunch": false,
    "category": "Compute optimized",
    "gpuNum": 0,
    "hideHardwareSpecs": false,
    "memoryGiB": 16,
    "name": "ml.c5.2xlarge",
    "vcpuNum": 8
   },
   {
    "_defaultOrder": 24,
    "_isFastLaunch": false,
    "category": "Compute optimized",
    "gpuNum": 0,
    "hideHardwareSpecs": false,
    "memoryGiB": 32,
    "name": "ml.c5.4xlarge",
    "vcpuNum": 16
   },
   {
    "_defaultOrder": 25,
    "_isFastLaunch": false,
    "category": "Compute optimized",
    "gpuNum": 0,
    "hideHardwareSpecs": false,
    "memoryGiB": 72,
    "name": "ml.c5.9xlarge",
    "vcpuNum": 36
   },
   {
    "_defaultOrder": 26,
    "_isFastLaunch": false,
    "category": "Compute optimized",
    "gpuNum": 0,
    "hideHardwareSpecs": false,
    "memoryGiB": 96,
    "name": "ml.c5.12xlarge",
    "vcpuNum": 48
   },
   {
    "_defaultOrder": 27,
    "_isFastLaunch": false,
    "category": "Compute optimized",
    "gpuNum": 0,
    "hideHardwareSpecs": false,
    "memoryGiB": 144,
    "name": "ml.c5.18xlarge",
    "vcpuNum": 72
   },
   {
    "_defaultOrder": 28,
    "_isFastLaunch": false,
    "category": "Compute optimized",
    "gpuNum": 0,
    "hideHardwareSpecs": false,
    "memoryGiB": 192,
    "name": "ml.c5.24xlarge",
    "vcpuNum": 96
   },
   {
    "_defaultOrder": 29,
    "_isFastLaunch": true,
    "category": "Accelerated computing",
    "gpuNum": 1,
    "hideHardwareSpecs": false,
    "memoryGiB": 16,
    "name": "ml.g4dn.xlarge",
    "vcpuNum": 4
   },
   {
    "_defaultOrder": 30,
    "_isFastLaunch": false,
    "category": "Accelerated computing",
    "gpuNum": 1,
    "hideHardwareSpecs": false,
    "memoryGiB": 32,
    "name": "ml.g4dn.2xlarge",
    "vcpuNum": 8
   },
   {
    "_defaultOrder": 31,
    "_isFastLaunch": false,
    "category": "Accelerated computing",
    "gpuNum": 1,
    "hideHardwareSpecs": false,
    "memoryGiB": 64,
    "name": "ml.g4dn.4xlarge",
    "vcpuNum": 16
   },
   {
    "_defaultOrder": 32,
    "_isFastLaunch": false,
    "category": "Accelerated computing",
    "gpuNum": 1,
    "hideHardwareSpecs": false,
    "memoryGiB": 128,
    "name": "ml.g4dn.8xlarge",
    "vcpuNum": 32
   },
   {
    "_defaultOrder": 33,
    "_isFastLaunch": false,
    "category": "Accelerated computing",
    "gpuNum": 4,
    "hideHardwareSpecs": false,
    "memoryGiB": 192,
    "name": "ml.g4dn.12xlarge",
    "vcpuNum": 48
   },
   {
    "_defaultOrder": 34,
    "_isFastLaunch": false,
    "category": "Accelerated computing",
    "gpuNum": 1,
    "hideHardwareSpecs": false,
    "memoryGiB": 256,
    "name": "ml.g4dn.16xlarge",
    "vcpuNum": 64
   },
   {
    "_defaultOrder": 35,
    "_isFastLaunch": false,
    "category": "Accelerated computing",
    "gpuNum": 1,
    "hideHardwareSpecs": false,
    "memoryGiB": 61,
    "name": "ml.p3.2xlarge",
    "vcpuNum": 8
   },
   {
    "_defaultOrder": 36,
    "_isFastLaunch": false,
    "category": "Accelerated computing",
    "gpuNum": 4,
    "hideHardwareSpecs": false,
    "memoryGiB": 244,
    "name": "ml.p3.8xlarge",
    "vcpuNum": 32
   },
   {
    "_defaultOrder": 37,
    "_isFastLaunch": false,
    "category": "Accelerated computing",
    "gpuNum": 8,
    "hideHardwareSpecs": false,
    "memoryGiB": 488,
    "name": "ml.p3.16xlarge",
    "vcpuNum": 64
   },
   {
    "_defaultOrder": 38,
    "_isFastLaunch": false,
    "category": "Accelerated computing",
    "gpuNum": 8,
    "hideHardwareSpecs": false,
    "memoryGiB": 768,
    "name": "ml.p3dn.24xlarge",
    "vcpuNum": 96
   },
   {
    "_defaultOrder": 39,
    "_isFastLaunch": false,
    "category": "Memory Optimized",
    "gpuNum": 0,
    "hideHardwareSpecs": false,
    "memoryGiB": 16,
    "name": "ml.r5.large",
    "vcpuNum": 2
   },
   {
    "_defaultOrder": 40,
    "_isFastLaunch": false,
    "category": "Memory Optimized",
    "gpuNum": 0,
    "hideHardwareSpecs": false,
    "memoryGiB": 32,
    "name": "ml.r5.xlarge",
    "vcpuNum": 4
   },
   {
    "_defaultOrder": 41,
    "_isFastLaunch": false,
    "category": "Memory Optimized",
    "gpuNum": 0,
    "hideHardwareSpecs": false,
    "memoryGiB": 64,
    "name": "ml.r5.2xlarge",
    "vcpuNum": 8
   },
   {
    "_defaultOrder": 42,
    "_isFastLaunch": false,
    "category": "Memory Optimized",
    "gpuNum": 0,
    "hideHardwareSpecs": false,
    "memoryGiB": 128,
    "name": "ml.r5.4xlarge",
    "vcpuNum": 16
   },
   {
    "_defaultOrder": 43,
    "_isFastLaunch": false,
    "category": "Memory Optimized",
    "gpuNum": 0,
    "hideHardwareSpecs": false,
    "memoryGiB": 256,
    "name": "ml.r5.8xlarge",
    "vcpuNum": 32
   },
   {
    "_defaultOrder": 44,
    "_isFastLaunch": false,
    "category": "Memory Optimized",
    "gpuNum": 0,
    "hideHardwareSpecs": false,
    "memoryGiB": 384,
    "name": "ml.r5.12xlarge",
    "vcpuNum": 48
   },
   {
    "_defaultOrder": 45,
    "_isFastLaunch": false,
    "category": "Memory Optimized",
    "gpuNum": 0,
    "hideHardwareSpecs": false,
    "memoryGiB": 512,
    "name": "ml.r5.16xlarge",
    "vcpuNum": 64
   },
   {
    "_defaultOrder": 46,
    "_isFastLaunch": false,
    "category": "Memory Optimized",
    "gpuNum": 0,
    "hideHardwareSpecs": false,
    "memoryGiB": 768,
    "name": "ml.r5.24xlarge",
    "vcpuNum": 96
   },
   {
    "_defaultOrder": 47,
    "_isFastLaunch": false,
    "category": "Accelerated computing",
    "gpuNum": 1,
    "hideHardwareSpecs": false,
    "memoryGiB": 16,
    "name": "ml.g5.xlarge",
    "vcpuNum": 4
   },
   {
    "_defaultOrder": 48,
    "_isFastLaunch": false,
    "category": "Accelerated computing",
    "gpuNum": 1,
    "hideHardwareSpecs": false,
    "memoryGiB": 32,
    "name": "ml.g5.2xlarge",
    "vcpuNum": 8
   },
   {
    "_defaultOrder": 49,
    "_isFastLaunch": false,
    "category": "Accelerated computing",
    "gpuNum": 1,
    "hideHardwareSpecs": false,
    "memoryGiB": 64,
    "name": "ml.g5.4xlarge",
    "vcpuNum": 16
   },
   {
    "_defaultOrder": 50,
    "_isFastLaunch": false,
    "category": "Accelerated computing",
    "gpuNum": 1,
    "hideHardwareSpecs": false,
    "memoryGiB": 128,
    "name": "ml.g5.8xlarge",
    "vcpuNum": 32
   },
   {
    "_defaultOrder": 51,
    "_isFastLaunch": false,
    "category": "Accelerated computing",
    "gpuNum": 1,
    "hideHardwareSpecs": false,
    "memoryGiB": 256,
    "name": "ml.g5.16xlarge",
    "vcpuNum": 64
   },
   {
    "_defaultOrder": 52,
    "_isFastLaunch": false,
    "category": "Accelerated computing",
    "gpuNum": 4,
    "hideHardwareSpecs": false,
    "memoryGiB": 192,
    "name": "ml.g5.12xlarge",
    "vcpuNum": 48
   },
   {
    "_defaultOrder": 53,
    "_isFastLaunch": false,
    "category": "Accelerated computing",
    "gpuNum": 4,
    "hideHardwareSpecs": false,
    "memoryGiB": 384,
    "name": "ml.g5.24xlarge",
    "vcpuNum": 96
   },
   {
    "_defaultOrder": 54,
    "_isFastLaunch": false,
    "category": "Accelerated computing",
    "gpuNum": 8,
    "hideHardwareSpecs": false,
    "memoryGiB": 768,
    "name": "ml.g5.48xlarge",
    "vcpuNum": 192
   },
   {
    "_defaultOrder": 55,
    "_isFastLaunch": false,
    "category": "Accelerated computing",
    "gpuNum": 8,
    "hideHardwareSpecs": false,
    "memoryGiB": 1152,
    "name": "ml.p4d.24xlarge",
    "vcpuNum": 96
   },
   {
    "_defaultOrder": 56,
    "_isFastLaunch": false,
    "category": "Accelerated computing",
    "gpuNum": 8,
    "hideHardwareSpecs": false,
    "memoryGiB": 1152,
    "name": "ml.p4de.24xlarge",
    "vcpuNum": 96
   }
  ],
  "instance_type": "ml.c5.large",
  "kernelspec": {
   "display_name": "conda_python3",
   "language": "python",
   "name": "conda_python3"
  },
  "language_info": {
   "codemirror_mode": {
    "name": "ipython",
    "version": 3
   },
   "file_extension": ".py",
   "mimetype": "text/x-python",
   "name": "python",
   "nbconvert_exporter": "python",
   "pygments_lexer": "ipython3",
   "version": "3.10.10"
  }
 },
 "nbformat": 4,
 "nbformat_minor": 5
}
