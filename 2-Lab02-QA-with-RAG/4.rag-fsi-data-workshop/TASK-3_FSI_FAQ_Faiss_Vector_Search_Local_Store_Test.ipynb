{
 "cells": [
  {
   "cell_type": "markdown",
   "id": "250f980d",
   "metadata": {},
   "source": [
    "# RAG - FSI FAQ with FAISS VectorStore"
   ]
  },
  {
   "cell_type": "markdown",
   "id": "085c99fe",
   "metadata": {},
   "source": [
    "## Install Install packages and Setup env"
   ]
  },
  {
   "cell_type": "code",
   "execution_count": 1,
   "id": "0b7ae5cd",
   "metadata": {},
   "outputs": [],
   "source": [
    "install_needed = True  # should only be True once"
   ]
  },
  {
   "cell_type": "code",
   "execution_count": 2,
   "id": "31d51ce6",
   "metadata": {},
   "outputs": [
    {
     "name": "stdout",
     "output_type": "stream",
     "text": [
      "installing deps and restarting kernel\n",
      "Looking in indexes: https://pypi.org/simple, https://pip.repos.neuron.amazonaws.com\n",
      "Requirement already satisfied: pip in /home/ec2-user/anaconda3/envs/pytorch_p310/lib/python3.10/site-packages (23.2.1)\n",
      "Looking in indexes: https://pypi.org/simple, https://pip.repos.neuron.amazonaws.com\n",
      "Requirement already satisfied: sagemaker in /home/ec2-user/anaconda3/envs/pytorch_p310/lib/python3.10/site-packages (2.173.0)\n",
      "Requirement already satisfied: attrs<24,>=23.1.0 in /home/ec2-user/anaconda3/envs/pytorch_p310/lib/python3.10/site-packages (from sagemaker) (23.1.0)\n",
      "Requirement already satisfied: boto3<2.0,>=1.26.131 in /home/ec2-user/anaconda3/envs/pytorch_p310/lib/python3.10/site-packages (from sagemaker) (1.26.157)\n",
      "Requirement already satisfied: cloudpickle==2.2.1 in /home/ec2-user/anaconda3/envs/pytorch_p310/lib/python3.10/site-packages (from sagemaker) (2.2.1)\n",
      "Requirement already satisfied: google-pasta in /home/ec2-user/anaconda3/envs/pytorch_p310/lib/python3.10/site-packages (from sagemaker) (0.2.0)\n",
      "Requirement already satisfied: numpy<2.0,>=1.9.0 in /home/ec2-user/anaconda3/envs/pytorch_p310/lib/python3.10/site-packages (from sagemaker) (1.24.3)\n",
      "Requirement already satisfied: protobuf<5.0,>=3.12 in /home/ec2-user/anaconda3/envs/pytorch_p310/lib/python3.10/site-packages (from sagemaker) (3.20.3)\n",
      "Requirement already satisfied: smdebug-rulesconfig==1.0.1 in /home/ec2-user/anaconda3/envs/pytorch_p310/lib/python3.10/site-packages (from sagemaker) (1.0.1)\n",
      "Requirement already satisfied: importlib-metadata<7.0,>=1.4.0 in /home/ec2-user/anaconda3/envs/pytorch_p310/lib/python3.10/site-packages (from sagemaker) (4.13.0)\n",
      "Requirement already satisfied: packaging>=20.0 in /home/ec2-user/anaconda3/envs/pytorch_p310/lib/python3.10/site-packages (from sagemaker) (21.3)\n",
      "Requirement already satisfied: pandas in /home/ec2-user/anaconda3/envs/pytorch_p310/lib/python3.10/site-packages (from sagemaker) (1.5.3)\n",
      "Requirement already satisfied: pathos in /home/ec2-user/anaconda3/envs/pytorch_p310/lib/python3.10/site-packages (from sagemaker) (0.3.0)\n",
      "Requirement already satisfied: schema in /home/ec2-user/anaconda3/envs/pytorch_p310/lib/python3.10/site-packages (from sagemaker) (0.7.5)\n",
      "Requirement already satisfied: PyYAML~=6.0 in /home/ec2-user/anaconda3/envs/pytorch_p310/lib/python3.10/site-packages (from sagemaker) (6.0.1)\n",
      "Requirement already satisfied: jsonschema in /home/ec2-user/anaconda3/envs/pytorch_p310/lib/python3.10/site-packages (from sagemaker) (4.17.3)\n",
      "Requirement already satisfied: platformdirs in /home/ec2-user/anaconda3/envs/pytorch_p310/lib/python3.10/site-packages (from sagemaker) (3.5.0)\n",
      "Requirement already satisfied: tblib==1.7.0 in /home/ec2-user/anaconda3/envs/pytorch_p310/lib/python3.10/site-packages (from sagemaker) (1.7.0)\n",
      "Requirement already satisfied: botocore<1.30.0,>=1.29.157 in /home/ec2-user/anaconda3/envs/pytorch_p310/lib/python3.10/site-packages (from boto3<2.0,>=1.26.131->sagemaker) (1.29.157)\n",
      "Requirement already satisfied: jmespath<2.0.0,>=0.7.1 in /home/ec2-user/anaconda3/envs/pytorch_p310/lib/python3.10/site-packages (from boto3<2.0,>=1.26.131->sagemaker) (1.0.1)\n",
      "Requirement already satisfied: s3transfer<0.7.0,>=0.6.0 in /home/ec2-user/anaconda3/envs/pytorch_p310/lib/python3.10/site-packages (from boto3<2.0,>=1.26.131->sagemaker) (0.6.1)\n",
      "Requirement already satisfied: zipp>=0.5 in /home/ec2-user/anaconda3/envs/pytorch_p310/lib/python3.10/site-packages (from importlib-metadata<7.0,>=1.4.0->sagemaker) (3.15.0)\n",
      "Requirement already satisfied: pyparsing!=3.0.5,>=2.0.2 in /home/ec2-user/anaconda3/envs/pytorch_p310/lib/python3.10/site-packages (from packaging>=20.0->sagemaker) (3.0.9)\n",
      "Requirement already satisfied: six in /home/ec2-user/anaconda3/envs/pytorch_p310/lib/python3.10/site-packages (from google-pasta->sagemaker) (1.16.0)\n",
      "Requirement already satisfied: pyrsistent!=0.17.0,!=0.17.1,!=0.17.2,>=0.14.0 in /home/ec2-user/anaconda3/envs/pytorch_p310/lib/python3.10/site-packages (from jsonschema->sagemaker) (0.19.3)\n",
      "Requirement already satisfied: python-dateutil>=2.8.1 in /home/ec2-user/anaconda3/envs/pytorch_p310/lib/python3.10/site-packages (from pandas->sagemaker) (2.8.2)\n",
      "Requirement already satisfied: pytz>=2020.1 in /home/ec2-user/anaconda3/envs/pytorch_p310/lib/python3.10/site-packages (from pandas->sagemaker) (2023.3)\n",
      "Requirement already satisfied: ppft>=1.7.6.6 in /home/ec2-user/anaconda3/envs/pytorch_p310/lib/python3.10/site-packages (from pathos->sagemaker) (1.7.6.6)\n",
      "Requirement already satisfied: dill>=0.3.6 in /home/ec2-user/anaconda3/envs/pytorch_p310/lib/python3.10/site-packages (from pathos->sagemaker) (0.3.6)\n",
      "Requirement already satisfied: pox>=0.3.2 in /home/ec2-user/anaconda3/envs/pytorch_p310/lib/python3.10/site-packages (from pathos->sagemaker) (0.3.2)\n",
      "Requirement already satisfied: multiprocess>=0.70.14 in /home/ec2-user/anaconda3/envs/pytorch_p310/lib/python3.10/site-packages (from pathos->sagemaker) (0.70.14)\n",
      "Requirement already satisfied: contextlib2>=0.5.5 in /home/ec2-user/anaconda3/envs/pytorch_p310/lib/python3.10/site-packages (from schema->sagemaker) (21.6.0)\n",
      "Requirement already satisfied: urllib3<1.27,>=1.25.4 in /home/ec2-user/anaconda3/envs/pytorch_p310/lib/python3.10/site-packages (from botocore<1.30.0,>=1.29.157->boto3<2.0,>=1.26.131->sagemaker) (1.26.14)\n",
      "Looking in indexes: https://pypi.org/simple, https://pip.repos.neuron.amazonaws.com\n",
      "Requirement already satisfied: langchain in /home/ec2-user/anaconda3/envs/pytorch_p310/lib/python3.10/site-packages (0.0.242)\n",
      "Requirement already satisfied: PyYAML>=5.4.1 in /home/ec2-user/anaconda3/envs/pytorch_p310/lib/python3.10/site-packages (from langchain) (6.0.1)\n",
      "Requirement already satisfied: SQLAlchemy<3,>=1.4 in /home/ec2-user/anaconda3/envs/pytorch_p310/lib/python3.10/site-packages (from langchain) (2.0.19)\n",
      "Requirement already satisfied: aiohttp<4.0.0,>=3.8.3 in /home/ec2-user/anaconda3/envs/pytorch_p310/lib/python3.10/site-packages (from langchain) (3.8.5)\n",
      "Requirement already satisfied: async-timeout<5.0.0,>=4.0.0 in /home/ec2-user/anaconda3/envs/pytorch_p310/lib/python3.10/site-packages (from langchain) (4.0.2)\n",
      "Requirement already satisfied: dataclasses-json<0.6.0,>=0.5.7 in /home/ec2-user/anaconda3/envs/pytorch_p310/lib/python3.10/site-packages (from langchain) (0.5.13)\n",
      "Requirement already satisfied: langsmith<0.1.0,>=0.0.11 in /home/ec2-user/anaconda3/envs/pytorch_p310/lib/python3.10/site-packages (from langchain) (0.0.14)\n",
      "Requirement already satisfied: numexpr<3.0.0,>=2.8.4 in /home/ec2-user/anaconda3/envs/pytorch_p310/lib/python3.10/site-packages (from langchain) (2.8.4)\n",
      "Requirement already satisfied: numpy<2,>=1 in /home/ec2-user/anaconda3/envs/pytorch_p310/lib/python3.10/site-packages (from langchain) (1.24.3)\n",
      "Requirement already satisfied: openapi-schema-pydantic<2.0,>=1.2 in /home/ec2-user/anaconda3/envs/pytorch_p310/lib/python3.10/site-packages (from langchain) (1.2.4)\n",
      "Requirement already satisfied: pydantic<2,>=1 in /home/ec2-user/anaconda3/envs/pytorch_p310/lib/python3.10/site-packages (from langchain) (1.10.7)\n",
      "Requirement already satisfied: requests<3,>=2 in /home/ec2-user/anaconda3/envs/pytorch_p310/lib/python3.10/site-packages (from langchain) (2.29.0)\n",
      "Requirement already satisfied: tenacity<9.0.0,>=8.1.0 in /home/ec2-user/anaconda3/envs/pytorch_p310/lib/python3.10/site-packages (from langchain) (8.2.2)\n",
      "Requirement already satisfied: attrs>=17.3.0 in /home/ec2-user/anaconda3/envs/pytorch_p310/lib/python3.10/site-packages (from aiohttp<4.0.0,>=3.8.3->langchain) (23.1.0)\n",
      "Requirement already satisfied: charset-normalizer<4.0,>=2.0 in /home/ec2-user/anaconda3/envs/pytorch_p310/lib/python3.10/site-packages (from aiohttp<4.0.0,>=3.8.3->langchain) (3.1.0)\n",
      "Requirement already satisfied: multidict<7.0,>=4.5 in /home/ec2-user/anaconda3/envs/pytorch_p310/lib/python3.10/site-packages (from aiohttp<4.0.0,>=3.8.3->langchain) (6.0.4)\n",
      "Requirement already satisfied: yarl<2.0,>=1.0 in /home/ec2-user/anaconda3/envs/pytorch_p310/lib/python3.10/site-packages (from aiohttp<4.0.0,>=3.8.3->langchain) (1.9.2)\n",
      "Requirement already satisfied: frozenlist>=1.1.1 in /home/ec2-user/anaconda3/envs/pytorch_p310/lib/python3.10/site-packages (from aiohttp<4.0.0,>=3.8.3->langchain) (1.4.0)\n",
      "Requirement already satisfied: aiosignal>=1.1.2 in /home/ec2-user/anaconda3/envs/pytorch_p310/lib/python3.10/site-packages (from aiohttp<4.0.0,>=3.8.3->langchain) (1.3.1)\n",
      "Requirement already satisfied: marshmallow<4.0.0,>=3.18.0 in /home/ec2-user/anaconda3/envs/pytorch_p310/lib/python3.10/site-packages (from dataclasses-json<0.6.0,>=0.5.7->langchain) (3.20.1)\n",
      "Requirement already satisfied: typing-inspect<1,>=0.4.0 in /home/ec2-user/anaconda3/envs/pytorch_p310/lib/python3.10/site-packages (from dataclasses-json<0.6.0,>=0.5.7->langchain) (0.9.0)\n",
      "Requirement already satisfied: typing-extensions>=4.2.0 in /home/ec2-user/anaconda3/envs/pytorch_p310/lib/python3.10/site-packages (from pydantic<2,>=1->langchain) (4.5.0)\n",
      "Requirement already satisfied: idna<4,>=2.5 in /home/ec2-user/anaconda3/envs/pytorch_p310/lib/python3.10/site-packages (from requests<3,>=2->langchain) (3.4)\n",
      "Requirement already satisfied: urllib3<1.27,>=1.21.1 in /home/ec2-user/anaconda3/envs/pytorch_p310/lib/python3.10/site-packages (from requests<3,>=2->langchain) (1.26.14)\n",
      "Requirement already satisfied: certifi>=2017.4.17 in /home/ec2-user/anaconda3/envs/pytorch_p310/lib/python3.10/site-packages (from requests<3,>=2->langchain) (2023.5.7)\n",
      "Requirement already satisfied: greenlet!=0.4.17 in /home/ec2-user/anaconda3/envs/pytorch_p310/lib/python3.10/site-packages (from SQLAlchemy<3,>=1.4->langchain) (2.0.2)\n",
      "Requirement already satisfied: packaging>=17.0 in /home/ec2-user/anaconda3/envs/pytorch_p310/lib/python3.10/site-packages (from marshmallow<4.0.0,>=3.18.0->dataclasses-json<0.6.0,>=0.5.7->langchain) (21.3)\n",
      "Requirement already satisfied: mypy-extensions>=0.3.0 in /home/ec2-user/anaconda3/envs/pytorch_p310/lib/python3.10/site-packages (from typing-inspect<1,>=0.4.0->dataclasses-json<0.6.0,>=0.5.7->langchain) (1.0.0)\n",
      "Requirement already satisfied: pyparsing!=3.0.5,>=2.0.2 in /home/ec2-user/anaconda3/envs/pytorch_p310/lib/python3.10/site-packages (from packaging>=17.0->marshmallow<4.0.0,>=3.18.0->dataclasses-json<0.6.0,>=0.5.7->langchain) (3.0.9)\n",
      "Looking in indexes: https://pypi.org/simple, https://pip.repos.neuron.amazonaws.com\n",
      "Requirement already satisfied: faiss-cpu in /home/ec2-user/anaconda3/envs/pytorch_p310/lib/python3.10/site-packages (1.7.4)\n"
     ]
    }
   ],
   "source": [
    "import sys\n",
    "import IPython\n",
    "\n",
    "if install_needed:\n",
    "    print(\"installing deps and restarting kernel\")\n",
    "    !{sys.executable} -m pip install -U pip\n",
    "    !{sys.executable} -m pip install -U sagemaker\n",
    "    !{sys.executable} -m pip install -U langchain\n",
    "    !{sys.executable} -m pip install -U faiss-cpu\n",
    "    \n",
    "    IPython.Application.instance().kernel.do_shutdown(True)"
   ]
  },
  {
   "cell_type": "markdown",
   "id": "0409d074",
   "metadata": {},
   "source": [
    "## 1. SageMaker Endpoint Wrapper"
   ]
  },
  {
   "cell_type": "code",
   "execution_count": 1,
   "id": "a9001ba5",
   "metadata": {},
   "outputs": [],
   "source": [
    "import sys\n",
    "%load_ext autoreload\n",
    "%autoreload 2\n",
    "sys.path.append('../utils') # src 폴더 경로 설정\n",
    "\n",
    "import json\n",
    "import boto3\n",
    "import numpy as np\n",
    "from inference_utils import Prompter\n",
    "from typing import Any, Dict, List, Optional\n",
    "from langchain.embeddings import SagemakerEndpointEmbeddings\n",
    "from langchain.llms.sagemaker_endpoint import LLMContentHandler, SagemakerEndpoint\n",
    "from langchain.embeddings.sagemaker_endpoint import EmbeddingsContentHandler"
   ]
  },
  {
   "cell_type": "markdown",
   "id": "3dbbe240",
   "metadata": {},
   "source": [
    "### 1.1 [한국어 Text LLM] SageMaker Kullum endpiont handler\n",
    "- 구름"
   ]
  },
  {
   "cell_type": "code",
   "execution_count": 46,
   "id": "7b65f000",
   "metadata": {},
   "outputs": [],
   "source": [
    "prompter = Prompter(\"kullm\")\n",
    "params = {\n",
    "      'do_sample': False,\n",
    "      'max_new_tokens': 512, #128\n",
    "      'temperature': 1.0,  # 0.5 ~ 1.0 default = 1.0 높으면 랜덤하게 자유도. 다음 생성 문장 토큰의 자유도 \n",
    "      'top_k': 0,\n",
    "      'top_p': 0.9,\n",
    "      'return_full_text': False,\n",
    "      'repetition_penalty': 1.1,\n",
    "      'presence_penalty': None,\n",
    "      'eos_token_id': 2\n",
    "}\n",
    "\n",
    "class KullmContentHandler(LLMContentHandler):\n",
    "    content_type = \"application/json\"\n",
    "    accepts = \"application/json\"\n",
    "\n",
    "    def transform_input(self, prompt: str, model_kwargs={}) -> bytes:\n",
    "        '''\n",
    "        입력 데이터 전처리 후에 리턴\n",
    "        '''\n",
    "        context, question = prompt.split(\"||SPEPERATOR||\") \n",
    "        prompt = prompter.generate_prompt(question, context)\n",
    "\n",
    "        #print (\"prompt\", prompt)\n",
    "        payload = {\n",
    "            'prompt': [prompt],\n",
    "            'params': model_kwargs\n",
    "        }\n",
    "                           \n",
    "        input_str = json.dumps(payload)\n",
    "        \n",
    "        return input_str.encode('utf-8')\n",
    "    \n",
    "\n",
    "    def transform_output(self, output: bytes) -> str:\n",
    "        \n",
    "        response_json = json.loads(output.read().decode(\"utf-8\"))              \n",
    "        generated_text = response_json[0][0][\"generated_text\"]\n",
    "        \n",
    "        return generated_text    "
   ]
  },
  {
   "cell_type": "markdown",
   "id": "63ded92a",
   "metadata": {},
   "source": [
    "#### 1.1.a 기존에 deploying한 한국어생성 LLM endpoint 설정\n",
    "Kullm-polyglot-12-8b-v2-2023-07-25-09-00-53"
   ]
  },
  {
   "cell_type": "code",
   "execution_count": 47,
   "id": "f279489d",
   "metadata": {},
   "outputs": [],
   "source": [
    "aws_region = boto3.Session().region_name\n",
    "LLMTextContentHandler = KullmContentHandler()\n",
    "endpoint_name_text = \"Kullm-polyglot-12-8b-v2-2023-07-25-09-00-53\"\n",
    "seperator = \"||SPEPERATOR||\""
   ]
  },
  {
   "cell_type": "code",
   "execution_count": 48,
   "id": "d6743adf",
   "metadata": {},
   "outputs": [],
   "source": [
    "llm_text = SagemakerEndpoint(\n",
    "    endpoint_name=endpoint_name_text,\n",
    "    region_name=aws_region,\n",
    "    model_kwargs=params,    \n",
    "    content_handler=LLMTextContentHandler,\n",
    ")"
   ]
  },
  {
   "cell_type": "markdown",
   "id": "3ad33552",
   "metadata": {},
   "source": [
    "### 1.2 [한국어 임베딩벡터 모델] SageMaker KoSimCSE-roberta endpiont handler\n",
    "- KoSimCSE-roberta"
   ]
  },
  {
   "cell_type": "code",
   "execution_count": 49,
   "id": "3947c039",
   "metadata": {},
   "outputs": [],
   "source": [
    "class SagemakerEndpointEmbeddingsJumpStart(SagemakerEndpointEmbeddings):\n",
    "    def embed_documents(self, texts: List[str], chunk_size: int=1) -> List[List[float]]:\n",
    "        \"\"\"Compute doc embeddings using a SageMaker Inference Endpoint.\n",
    "\n",
    "        Args:\n",
    "            texts: The list of texts to embed.\n",
    "            chunk_size: The chunk size defines how many input texts will\n",
    "                be grouped together as request. If None, will use the\n",
    "                chunk size specified by the class.\n",
    "\n",
    "        Returns:\n",
    "            List of embeddings, one for each text.\n",
    "        \"\"\"\n",
    "        results = []\n",
    "        _chunk_size = len(texts) if chunk_size > len(texts) else chunk_size\n",
    "        \n",
    "        print(\"text size: \", len(texts))\n",
    "        print(\"_chunk_size: \", _chunk_size)\n",
    "\n",
    "        for i in range(0, len(texts), _chunk_size):\n",
    "            \n",
    "            #print (i, texts[i : i + _chunk_size])\n",
    "            response = self._embedding_func(texts[i : i + _chunk_size])\n",
    "            #print (i, response, len(response[0].shape))\n",
    "            \n",
    "            results.extend(response)\n",
    "        return results"
   ]
  },
  {
   "cell_type": "code",
   "execution_count": 50,
   "id": "b4a6313b",
   "metadata": {},
   "outputs": [],
   "source": [
    "class KoSimCSERobertaContentHandler(EmbeddingsContentHandler):\n",
    "    \n",
    "    content_type = \"application/json\"\n",
    "    accepts = \"application/json\"\n",
    "\n",
    "    def transform_input(self, prompt: str, model_kwargs={}) -> bytes:\n",
    "        \n",
    "        input_str = json.dumps({\"inputs\": prompt, **model_kwargs})\n",
    "        \n",
    "        return input_str.encode(\"utf-8\")\n",
    "\n",
    "    def transform_output(self, output: bytes) -> str:\n",
    "        \n",
    "        response_json = json.loads(output.read().decode(\"utf-8\"))\n",
    "        ndim = np.array(response_json).ndim    \n",
    "        \n",
    "        if ndim == 4:\n",
    "            # Original shape (1, 1, n, 768)\n",
    "            emb = response_json[0][0][0]\n",
    "            emb = np.expand_dims(emb, axis=0).tolist()\n",
    "        elif ndim == 2:\n",
    "            # Original shape (n, 1)\n",
    "            emb = []\n",
    "            for ele in response_json:\n",
    "                e = ele[0][0]\n",
    "                emb.append(e)\n",
    "        else:\n",
    "            print(f\"Other # of dimension: {ndim}\")\n",
    "            emb = None\n",
    "        return emb"
   ]
  },
  {
   "cell_type": "markdown",
   "id": "b51afa05",
   "metadata": {},
   "source": [
    "#### 1.2.a 기존에 deploying한 임베딩 벡터 endpoint 설정\n",
    "Kullm-polyglot-12-8b-v2-2023-07-25-09-00-53\n",
    "- 임베딩 핸들러 변수명 : llm_emb "
   ]
  },
  {
   "cell_type": "code",
   "execution_count": 51,
   "id": "987f9b00",
   "metadata": {},
   "outputs": [],
   "source": [
    "LLMEmbHandler = KoSimCSERobertaContentHandler()\n",
    "endpoint_name_emb = \"KoSimCSE-roberta-2023-07-26-10-42-42\""
   ]
  },
  {
   "cell_type": "code",
   "execution_count": 52,
   "id": "3fc0099c",
   "metadata": {},
   "outputs": [],
   "source": [
    "llm_emb = SagemakerEndpointEmbeddingsJumpStart(\n",
    "    endpoint_name=endpoint_name_emb,\n",
    "    region_name=aws_region,\n",
    "    content_handler=LLMEmbHandler,\n",
    ")"
   ]
  },
  {
   "cell_type": "markdown",
   "id": "f7e2f8d4",
   "metadata": {},
   "source": [
    "**Now, we can build an QA application. <span style=\"color:red\">LangChain makes it extremly simple with following few lines of code</span>.**"
   ]
  },
  {
   "cell_type": "markdown",
   "id": "a01e9762",
   "metadata": {},
   "source": [
    "# 2.Vector Store - FAISS\n",
    "\n",
    "- Vector Store : https://python.langchain.com/docs/modules/data_connection/vectorstores/\n",
    "- FAISS Vector Store : https://python.langchain.com/docs/modules/data_connection/vectorstores/integrations/faiss\n",
    "\n"
   ]
  },
  {
   "cell_type": "code",
   "execution_count": 53,
   "id": "7af1a3f5",
   "metadata": {},
   "outputs": [],
   "source": [
    "from langchain.indexes import VectorstoreIndexCreator\n",
    "from langchain.vectorstores import Chroma, AtlasDB, FAISS\n",
    "from langchain.document_loaders.csv_loader import CSVLoader\n",
    "from langchain.text_splitter import CharacterTextSplitter, RecursiveCharacterTextSplitter"
   ]
  },
  {
   "cell_type": "markdown",
   "id": "ac405abc",
   "metadata": {},
   "source": [
    "### 2.1 Context file load"
   ]
  },
  {
   "cell_type": "markdown",
   "id": "effbbf0b",
   "metadata": {},
   "source": [
    "#### 2.1.a Increase csv field size to 1억"
   ]
  },
  {
   "cell_type": "code",
   "execution_count": 54,
   "id": "dadb2c04",
   "metadata": {},
   "outputs": [
    {
     "data": {
      "text/plain": [
       "100000000"
      ]
     },
     "execution_count": 54,
     "metadata": {},
     "output_type": "execute_result"
    }
   ],
   "source": [
    "import csv\n",
    "csv.field_size_limit(100000000)\n",
    "csv.field_size_limit()"
   ]
  },
  {
   "cell_type": "markdown",
   "id": "588d7839",
   "metadata": {},
   "source": [
    "#### 2.1.b FAQ CSV 파일 Load"
   ]
  },
  {
   "cell_type": "code",
   "execution_count": 55,
   "id": "2ccc8c2a",
   "metadata": {},
   "outputs": [],
   "source": [
    "loader = CSVLoader(\n",
    "    file_path=\"../dataset/fsi_smart_faq_ko.csv\",\n",
    "    source_column=\"Source\",\n",
    "    encoding=\"utf-8\"\n",
    ")\n",
    "context_documents = loader.load()"
   ]
  },
  {
   "cell_type": "markdown",
   "id": "d4a61d33",
   "metadata": {},
   "source": [
    "#### 2.1.c FSI FAQ Context 데이터 확인 \n",
    "- 인터넷뱅킹 FAQ > 스마트뱅킹 No.1 ~ N. 89 로 구성되었습니다. \n",
    "- https://www.shinhan.com/hpe/index.jsp#050101020000"
   ]
  },
  {
   "cell_type": "code",
   "execution_count": 56,
   "id": "a16e5a18",
   "metadata": {},
   "outputs": [
    {
     "name": "stdout",
     "output_type": "stream",
     "text": [
      "89\n"
     ]
    },
    {
     "data": {
      "text/plain": [
       "[Document(page_content='no: 89\\nCategory: 타기관OTP 이용등록방법 알려주세요\\nInformation: 타기관에서 발급받으신 OTP가 통합OTP카드인 경우 당행에 등록하여 이용가능합니다. \\n[경로]\\n- 인터넷뱅킹 로그인→ 사용자관리→인터넷뱅킹관리→OTP이용등록  \\n- 신한 쏠(SOL) 로그인→ 전체메뉴→설정/인증→ 이용중인 보안매체선택→   OTP이용등록\\n \\n ※ OTP이용등록후 재로그인을 하셔야 새로 등록된 보안매체가 적용됩니다.\\n\\n기타 궁금하신 내용은 신한은행 고객센터 1599-8000로 문의하여 주시기 바랍니다.\\ntype: 인터넷뱅킹\\nSource: 신한은행', metadata={'source': '신한은행', 'row': 0}),\n",
       " Document(page_content='no: 88\\nCategory: 공동인증서와 금융인증서 차이점이 무엇인가요?\\nInformation: 공동인증서 (구 공인인증서)는 용도에 따라 은행/신용카드/보험용 무료 인증서와 전자거래범용(수수료 4,400원) 인증서가 있으며 유효기간은 1년입니다. \\n공동인증서는 하드디스크나 이동식디스크, 휴대폰 등 원하시는 기기에 저장해서 이용할 수 있습니다.\\n인증서를 저장한 매체에서는 인증서 비밀번호로 편리하게 이용할 수 있으나 다른 기기에서 이용하려면 기기마다 복사하거나 이동식디스크에 저장해서 휴대해야 하는 불편함이 있을 수 있습니다.\\n\\n금융인증서는 금융인증서는 금융결제원의 클라우드에 저장하여 이용하는 인증서로 발급/이용 시에 클라우드에 접속이 필요합니다.\\n금융결제원 클라우드에 연결만 가능하다면 어디서든 편리하게 이용 가능하지만, PC나 USB, 휴대폰 등 다른 기기로 복사는 불가합니다.(유효기간 3년/발급 수수료 무료)\\n※ 클라우드 계정 연결을 위해 휴대폰을 통한 ARS, SMS, 마이인포앱 인증 절차가 필요합니다.\\ntype: 인증서\\nSource: 신한은행', metadata={'source': '신한은행', 'row': 1}),\n",
       " Document(page_content='no: 87\\nCategory: 금융인증서 해외에서 발급할 수 있나요?\\nInformation: 해외에서도 인증서 발급 업무는 가능합니다. 다만, 금융인증서 저장을 위한 금융결제원 클라우드 계정 생성 및 연결이 필요한 업무로 해외연락처를 통한 ARS인증이 진행됩니다.\\ntype: 금융인증서\\nSource: 신한은행', metadata={'source': '신한은행', 'row': 2}),\n",
       " Document(page_content='no: 86\\nCategory: 클라우드에 보관 중인 인증서는 얼마나 유지 되나요?\\nInformation: 정상적으로 이용하실 경우 금융인증서의 유효기간은 3년이며, 1년 동안 클라우드 이용 이력이 없는 경우는 안전한 이용을 위하여 클라우드 계정 및 저장된 모든 인증서가 삭제됩니다.\\ntype: 금융인증서\\nSource: 신한은행', metadata={'source': '신한은행', 'row': 3}),\n",
       " Document(page_content='no: 85\\nCategory: 금융인증서 발급대상은 누구인가요?\\nInformation: 금융인증서는 은행 등의 금융회사에서 실명 확인된 고객을 대상으로 안전하게 발급되며 신한은행 온라인서비스 가입 고객이면 발급가능합니다. 다만 금융인증서는 PC하드디스크나 휴대폰 등에 파일형태로 저장하는 방식이 아닌 금융결제원의 클라우드에 저장되기 때문에 금융결제원의 클라우드 연결을 위해 문자, ARS, 마이인포 앱을 통한 인증 절차가 진행됩니다.\\ntype: 금융인증서\\nSource: 신한은행', metadata={'source': '신한은행', 'row': 4}),\n",
       " Document(page_content='no: 84\\nCategory: 기존 공동인증서를 보유한 상태에서 금융인증서 발급이 가능한가요?\\nInformation: 공동인증서와 금융인증서는 별개의 인증서로 두 가지 인증서를 모두 사용할 수 있습니다.\\ntype: 금융인증서\\nSource: 신한은행', metadata={'source': '신한은행', 'row': 5}),\n",
       " Document(page_content='no: 83\\nCategory: 뱅크아이디란 무엇인가요?\\nInformation: 뱅크아이디란, 블록체인기반의 은행권 공동인증서비스로 블록체인 원장을 분산하여 저장/관리함으로써 정보의 신뢰성과 안정성을 높이는 인증기술방식입니다. 기존의 뱅크사인(BankSign)이  뱅크아이디(마이인포) 로 전환되었으며 별도의 앱 설치 없이 신한 쏠(SOL)에서 직접 신청 및 관리가 가능합니다.\\ntype: 뱅크아이디\\nSource: 신한은행', metadata={'source': '신한은행', 'row': 6}),\n",
       " Document(page_content='no: 82\\nCategory: 휴대폰에서도 간편조회서비스 이용 가능한가요?\\nInformation: ID/PW 방식의 간편조회서비스 이용은 불가합니다. 다만, 이용하시는 휴대폰의 모바일웹 브라우저를 통해 신한은행에 접속 시 회원가입 없이 휴대폰 본인인증과 본인계좌인증을 통해 계좌조회는 가능합니다. \\n※ 모바일에서 홈페이지와 동일한 간편조회서비스 이용을 원하실 경우 신한은행 모바일웹 페이지에서 PC버전으로 접속하여 이용해 주시면 됩니다.\\ntype: 간편서비스\\nSource: 신한은행', metadata={'source': '신한은행', 'row': 7}),\n",
       " Document(page_content='no: 81\\nCategory: 인터넷뱅킹에서 모바일OTP 인증요청 했는데 푸시메세지가 오지 않아요. 어떻게 해야하나요?\\nInformation: 신한 쏠(SOL) 푸시알림 수신에 동의를 하신경우 푸시를 받을수 있습니다. 경로 : 신한 쏠(SOL) 로그인 > 전체메뉴 > 설정/인증 \\xa0> 일반 > 알림 > 금융정보 알림 항목을\\xa0수신동의로 설정 기타 궁금하신 내용은 신한은행 고객센터 1599-8000로 문의하여 주시기 바랍니다.\\ntype: 인터넷뱅킹\\nSource: 신한은행', metadata={'source': '신한은행', 'row': 8}),\n",
       " Document(page_content='no: 80\\nCategory: 모바일 OTP 사용하고 있는데 인터넷뱅킹에서는 어떻게 이용하는건가요?\\nInformation: 인터넷뱅킹 거래시 보안매체 입력단계에 [인증요청] 버튼 클릭하면 핸드폰으로 푸시메세지가 전달됩니다. \\n푸시메세지 터치하여 모바일 OTP 비밀번호 6자리 입력, 인증처리 완료후 인터넷뱅킹에서 이후의 절차를 진행하시면 됩니다.\\n※ 스마트폰에 모바일 OTP 푸시(PUSH) 메세지가 오지 않는 경우 메뉴 직접 실행 \\n- 신한 쏠(SOL) [로그인 하지 않음]> 전체메뉴> 설정/인증> 보안매체 전체보기> 모바일OTP> 인증\\n기타 궁금하신 내용은 신한은행 고객센터 1599-8000로 문의하여 주시기 바랍니다.\\ntype: 인터넷뱅킹\\nSource: 신한은행', metadata={'source': '신한은행', 'row': 9})]"
      ]
     },
     "execution_count": 56,
     "metadata": {},
     "output_type": "execute_result"
    }
   ],
   "source": [
    "print(len(context_documents))\n",
    "\n",
    "context_documents[0:10]"
   ]
  },
  {
   "cell_type": "markdown",
   "id": "686b6a68",
   "metadata": {},
   "source": [
    "### 2.2 FAISS 벡터 Indexer 생성\n",
    "\n",
    "로드한 FAQ 컨텍스트 데이터를 Indexer를 생성 빌드합니다.\n",
    "- Recursively split by character : https://python.langchain.com/docs/modules/data_connection/document_transformers/text_splitters/recursive_text_splitter\n",
    "\n",
    "It takes about 1 mins\n",
    "vectorstore 생성에 1분정도 소요됩니다."
   ]
  },
  {
   "cell_type": "code",
   "execution_count": 57,
   "id": "ddc4c4ee",
   "metadata": {},
   "outputs": [],
   "source": [
    "index_creator = VectorstoreIndexCreator(\n",
    "    vectorstore_cls=FAISS,\n",
    "    embedding=llm_emb,\n",
    "    #text_splitter=CharacterTextSplitter(chunk_size=700, chunk_overlap=0),\n",
    "    #text_splitter = RecursiveCharacterTextSplitter(chunk_size=500, chunk_overlap=200), 89개짜리가 왜 113개가 되지...\n",
    "    text_splitter = RecursiveCharacterTextSplitter(chunk_size=800, chunk_overlap=200)\n",
    ")\n",
    "# 로버타 모델의 청크 크기에 종속되어있음. 청크 파라미터 확인"
   ]
  },
  {
   "cell_type": "markdown",
   "id": "3a328977",
   "metadata": {},
   "source": [
    "### 2.2.a 생성 시작"
   ]
  },
  {
   "cell_type": "code",
   "execution_count": 59,
   "id": "f51f21d7",
   "metadata": {},
   "outputs": [
    {
     "name": "stdout",
     "output_type": "stream",
     "text": [
      "text size:  90\n",
      "_chunk_size:  1\n",
      "CPU times: user 4.87 s, sys: 109 ms, total: 4.98 s\n",
      "Wall time: 17.2 s\n"
     ]
    }
   ],
   "source": [
    "%%time\n",
    "index = index_creator.from_loaders([loader])"
   ]
  },
  {
   "cell_type": "markdown",
   "id": "3e4aaee8",
   "metadata": {},
   "source": [
    "### 2.2.b index save and read index from local"
   ]
  },
  {
   "cell_type": "code",
   "execution_count": 60,
   "id": "68ce3bb7",
   "metadata": {},
   "outputs": [],
   "source": [
    "# Save\n",
    "index.vectorstore.save_local(\"../indexer/fsi_faq_indexer_ko\")"
   ]
  },
  {
   "cell_type": "code",
   "execution_count": 20,
   "id": "65fd6c94",
   "metadata": {},
   "outputs": [],
   "source": [
    "# Read\n",
    "index_ = FAISS.load_local(\"../indexer/fsi_faq_indexer_ko\", llm_emb)"
   ]
  },
  {
   "cell_type": "markdown",
   "id": "28a1a560",
   "metadata": {},
   "source": [
    "### 2.2.c 생성한 Indexer document 10개 확인"
   ]
  },
  {
   "cell_type": "code",
   "execution_count": 61,
   "id": "6a2c7af3",
   "metadata": {},
   "outputs": [
    {
     "data": {
      "text/plain": [
       "{'8930effd-1aed-4d2a-a1d3-f322e61b3140': Document(page_content='no: 89\\nCategory: 타기관OTP 이용등록방법 알려주세요\\nInformation: 타기관에서 발급받으신 OTP가 통합OTP카드인 경우 당행에 등록하여 이용가능합니다. \\n[경로]\\n- 인터넷뱅킹 로그인→ 사용자관리→인터넷뱅킹관리→OTP이용등록  \\n- 신한 쏠(SOL) 로그인→ 전체메뉴→설정/인증→ 이용중인 보안매체선택→   OTP이용등록\\n \\n ※ OTP이용등록후 재로그인을 하셔야 새로 등록된 보안매체가 적용됩니다.\\n\\n기타 궁금하신 내용은 신한은행 고객센터 1599-8000로 문의하여 주시기 바랍니다.\\ntype: 인터넷뱅킹\\nSource: 신한은행', metadata={'source': '신한은행', 'row': 0}),\n",
       " 'fc75dd31-b98d-4d86-b188-2fc66a066c98': Document(page_content='no: 88\\nCategory: 공동인증서와 금융인증서 차이점이 무엇인가요?\\nInformation: 공동인증서 (구 공인인증서)는 용도에 따라 은행/신용카드/보험용 무료 인증서와 전자거래범용(수수료 4,400원) 인증서가 있으며 유효기간은 1년입니다. \\n공동인증서는 하드디스크나 이동식디스크, 휴대폰 등 원하시는 기기에 저장해서 이용할 수 있습니다.\\n인증서를 저장한 매체에서는 인증서 비밀번호로 편리하게 이용할 수 있으나 다른 기기에서 이용하려면 기기마다 복사하거나 이동식디스크에 저장해서 휴대해야 하는 불편함이 있을 수 있습니다.\\n\\n금융인증서는 금융인증서는 금융결제원의 클라우드에 저장하여 이용하는 인증서로 발급/이용 시에 클라우드에 접속이 필요합니다.\\n금융결제원 클라우드에 연결만 가능하다면 어디서든 편리하게 이용 가능하지만, PC나 USB, 휴대폰 등 다른 기기로 복사는 불가합니다.(유효기간 3년/발급 수수료 무료)\\n※ 클라우드 계정 연결을 위해 휴대폰을 통한 ARS, SMS, 마이인포앱 인증 절차가 필요합니다.\\ntype: 인증서\\nSource: 신한은행', metadata={'source': '신한은행', 'row': 1}),\n",
       " 'd101c60d-51ee-4ebe-8617-fe317f1993f3': Document(page_content='no: 87\\nCategory: 금융인증서 해외에서 발급할 수 있나요?\\nInformation: 해외에서도 인증서 발급 업무는 가능합니다. 다만, 금융인증서 저장을 위한 금융결제원 클라우드 계정 생성 및 연결이 필요한 업무로 해외연락처를 통한 ARS인증이 진행됩니다.\\ntype: 금융인증서\\nSource: 신한은행', metadata={'source': '신한은행', 'row': 2}),\n",
       " '6ff38061-1846-41e3-baec-e338ff102ac3': Document(page_content='no: 86\\nCategory: 클라우드에 보관 중인 인증서는 얼마나 유지 되나요?\\nInformation: 정상적으로 이용하실 경우 금융인증서의 유효기간은 3년이며, 1년 동안 클라우드 이용 이력이 없는 경우는 안전한 이용을 위하여 클라우드 계정 및 저장된 모든 인증서가 삭제됩니다.\\ntype: 금융인증서\\nSource: 신한은행', metadata={'source': '신한은행', 'row': 3}),\n",
       " '99f5b627-bb5d-478a-a8ff-041646be1681': Document(page_content='no: 85\\nCategory: 금융인증서 발급대상은 누구인가요?\\nInformation: 금융인증서는 은행 등의 금융회사에서 실명 확인된 고객을 대상으로 안전하게 발급되며 신한은행 온라인서비스 가입 고객이면 발급가능합니다. 다만 금융인증서는 PC하드디스크나 휴대폰 등에 파일형태로 저장하는 방식이 아닌 금융결제원의 클라우드에 저장되기 때문에 금융결제원의 클라우드 연결을 위해 문자, ARS, 마이인포 앱을 통한 인증 절차가 진행됩니다.\\ntype: 금융인증서\\nSource: 신한은행', metadata={'source': '신한은행', 'row': 4}),\n",
       " '1e3046e8-75ce-4d42-8317-e9bb966bc3aa': Document(page_content='no: 84\\nCategory: 기존 공동인증서를 보유한 상태에서 금융인증서 발급이 가능한가요?\\nInformation: 공동인증서와 금융인증서는 별개의 인증서로 두 가지 인증서를 모두 사용할 수 있습니다.\\ntype: 금융인증서\\nSource: 신한은행', metadata={'source': '신한은행', 'row': 5}),\n",
       " '68541d45-2e5d-4783-826d-ee7c5b60f17f': Document(page_content='no: 83\\nCategory: 뱅크아이디란 무엇인가요?\\nInformation: 뱅크아이디란, 블록체인기반의 은행권 공동인증서비스로 블록체인 원장을 분산하여 저장/관리함으로써 정보의 신뢰성과 안정성을 높이는 인증기술방식입니다. 기존의 뱅크사인(BankSign)이  뱅크아이디(마이인포) 로 전환되었으며 별도의 앱 설치 없이 신한 쏠(SOL)에서 직접 신청 및 관리가 가능합니다.\\ntype: 뱅크아이디\\nSource: 신한은행', metadata={'source': '신한은행', 'row': 6}),\n",
       " '1e5ec789-0458-4261-959c-3e1c3be1d113': Document(page_content='no: 82\\nCategory: 휴대폰에서도 간편조회서비스 이용 가능한가요?\\nInformation: ID/PW 방식의 간편조회서비스 이용은 불가합니다. 다만, 이용하시는 휴대폰의 모바일웹 브라우저를 통해 신한은행에 접속 시 회원가입 없이 휴대폰 본인인증과 본인계좌인증을 통해 계좌조회는 가능합니다. \\n※ 모바일에서 홈페이지와 동일한 간편조회서비스 이용을 원하실 경우 신한은행 모바일웹 페이지에서 PC버전으로 접속하여 이용해 주시면 됩니다.\\ntype: 간편서비스\\nSource: 신한은행', metadata={'source': '신한은행', 'row': 7}),\n",
       " '52f8f428-37d0-46df-b173-922d35c11c17': Document(page_content='no: 81\\nCategory: 인터넷뱅킹에서 모바일OTP 인증요청 했는데 푸시메세지가 오지 않아요. 어떻게 해야하나요?\\nInformation: 신한 쏠(SOL) 푸시알림 수신에 동의를 하신경우 푸시를 받을수 있습니다. 경로 : 신한 쏠(SOL) 로그인 > 전체메뉴 > 설정/인증 \\xa0> 일반 > 알림 > 금융정보 알림 항목을\\xa0수신동의로 설정 기타 궁금하신 내용은 신한은행 고객센터 1599-8000로 문의하여 주시기 바랍니다.\\ntype: 인터넷뱅킹\\nSource: 신한은행', metadata={'source': '신한은행', 'row': 8}),\n",
       " 'd8abd006-f8e3-4c0b-9c6e-a8672ee688f8': Document(page_content='no: 80\\nCategory: 모바일 OTP 사용하고 있는데 인터넷뱅킹에서는 어떻게 이용하는건가요?\\nInformation: 인터넷뱅킹 거래시 보안매체 입력단계에 [인증요청] 버튼 클릭하면 핸드폰으로 푸시메세지가 전달됩니다. \\n푸시메세지 터치하여 모바일 OTP 비밀번호 6자리 입력, 인증처리 완료후 인터넷뱅킹에서 이후의 절차를 진행하시면 됩니다.\\n※ 스마트폰에 모바일 OTP 푸시(PUSH) 메세지가 오지 않는 경우 메뉴 직접 실행 \\n- 신한 쏠(SOL) [로그인 하지 않음]> 전체메뉴> 설정/인증> 보안매체 전체보기> 모바일OTP> 인증\\n기타 궁금하신 내용은 신한은행 고객센터 1599-8000로 문의하여 주시기 바랍니다.\\ntype: 인터넷뱅킹\\nSource: 신한은행', metadata={'source': '신한은행', 'row': 9})}"
      ]
     },
     "execution_count": 61,
     "metadata": {},
     "output_type": "execute_result"
    }
   ],
   "source": [
    "index_.index_to_docstore_id\n",
    "#index_.docstore._dict[:10]\n",
    "dict(list(index_.docstore._dict.items())[:10])"
   ]
  },
  {
   "cell_type": "code",
   "execution_count": 62,
   "id": "f9f7b918",
   "metadata": {},
   "outputs": [
    {
     "data": {
      "text/plain": [
       "90"
      ]
     },
     "execution_count": 62,
     "metadata": {},
     "output_type": "execute_result"
    }
   ],
   "source": [
    "len(list(index_.docstore._dict.items()))"
   ]
  },
  {
   "cell_type": "markdown",
   "id": "829ed479",
   "metadata": {},
   "source": [
    "## 3. Langchain QnA"
   ]
  },
  {
   "cell_type": "code",
   "execution_count": 63,
   "id": "c37288ea",
   "metadata": {},
   "outputs": [],
   "source": [
    "from langchain import PromptTemplate\n",
    "from langchain.chains.question_answering import load_qa_chain\n"
   ]
  },
  {
   "cell_type": "markdown",
   "id": "63d8dabb",
   "metadata": {},
   "source": [
    "### 3.1 Query and Response"
   ]
  },
  {
   "cell_type": "code",
   "execution_count": 64,
   "id": "5390eb8c",
   "metadata": {},
   "outputs": [],
   "source": [
    "prompt_template = ''.join([\"{context}\", seperator, \"{question}\"])\n",
    "PROMPT = PromptTemplate(template=prompt_template, input_variables=[\"context\", \"question\"])\n",
    "chain = load_qa_chain(llm=llm_text, chain_type=\"stuff\", prompt=PROMPT, verbose=True)\n",
    "\n",
    "\n",
    "\n",
    "def filter_and_remove_score(res, cutoff_score = 200, variance=1.3):\n",
    "    # Get the lowest score\n",
    "    lowest_score = min(score for doc, score in res)\n",
    "    print('lowest_score : ', lowest_score)\n",
    "    # If the lowest score is over 200, return an empty list\n",
    "    if lowest_score > cutoff_score:\n",
    "        return []\n",
    "    # Calculate the upper bound for scores\n",
    "    upper_bound = lowest_score * variance\n",
    "\n",
    "    \n",
    "    # Filter the list and remove the score\n",
    "    res = [doc for doc, score in res if score <= upper_bound]\n",
    "\n",
    "    return res\n",
    "\n",
    "\n",
    "def get_similiar_docs(query, k=1, fetch_k=50, score=True, bank=\"\"):\n",
    "\n",
    "    #print (query)\n",
    "    \n",
    "    if score:         \n",
    "        similar_docs = index_.similarity_search_with_score(\n",
    "            query,\n",
    "            k=k,\n",
    "            fetch_k=fetch_k,\n",
    "            filter=dict(source=bank)\n",
    "        )\n",
    "        similar_docs=filter_and_remove_score(similar_docs)\n",
    "    else:        \n",
    "        similar_docs = index_.similarity_search(\n",
    "            query,\n",
    "            k=k,\n",
    "            fetch_k=fetch_k,\n",
    "            filter=dict(source=bank)\n",
    "        )\n",
    "        \n",
    "    return similar_docs\n",
    "\n",
    "def get_answer(query, bank=\"\", k=1):\n",
    "                \n",
    "    search_query = query\n",
    "    \n",
    "    #criteria = '만약,'+query+' 카테고리를 못찾으면 설명 하지마세요.'\n",
    "    #llm_query_with_criteria = llm_query+criteria\n",
    "    similar_docs = get_similiar_docs(search_query, k=k, bank=bank)\n",
    "    \n",
    "    print(\"similar_docs : \", similar_docs)\n",
    "    llm_query = '고객 서비스 센터 직원처럼, '+query+' 카테고리에 대한 Information을 찾아서 설명해주세요.'\n",
    "    \n",
    "    if not similar_docs:\n",
    "        llm_query = query\n",
    "\n",
    "    answer = chain.run(input_documents=similar_docs, question=llm_query)\n",
    "    \n",
    "    return answer\n",
    "\n",
    "\n",
    "\n",
    "def get_admin_answer (query, bank=\"\", k=1):\n",
    "    search_query = query\n",
    "    similar_docs = get_similiar_docs(search_query, k=k, bank=bank)\n",
    "    llm_query = 'Document 입력 문장들을 보고서 형식으로 바꿔줘.'\n",
    "\n",
    "    llm_answer = chain.run(input_documents=similar_docs, question=llm_query)\n",
    "    return llm_answer"
   ]
  },
  {
   "cell_type": "code",
   "execution_count": 65,
   "id": "702ae938",
   "metadata": {},
   "outputs": [
    {
     "name": "stdout",
     "output_type": "stream",
     "text": [
      "lowest_score :  293.9933\n",
      "similar_docs :  []\n",
      "\n",
      "\n",
      "\u001b[1m> Entering new StuffDocumentsChain chain...\u001b[0m\n",
      "\n",
      "\n",
      "\u001b[1m> Entering new LLMChain chain...\u001b[0m\n",
      "Prompt after formatting:\n",
      "\u001b[32;1m\u001b[1;3m||SPEPERATOR||안녕하세요. 날씨가 참 좋네요.\u001b[0m\n",
      "\n",
      "\u001b[1m> Finished chain.\u001b[0m\n",
      "\n",
      "\u001b[1m> Finished chain.\u001b[0m\n",
      "question: 안녕하세요. 날씨가 참 좋네요.\n",
      "==========================\n",
      "\n",
      "\n",
      "response: \n",
      " 안녕하세요! 오늘은 무엇을 도와드릴까요?\n",
      "CPU times: user 48.5 ms, sys: 230 µs, total: 48.7 ms\n",
      "Wall time: 766 ms\n"
     ]
    }
   ],
   "source": [
    "%%time\n",
    "question = \"안녕하세요. 날씨가 참 좋네요.\"\n",
    "response = get_answer(question, bank=\"신한은행\", k=5)\n",
    "\n",
    "print (f'question: {question}')\n",
    "print('==========================')\n",
    "print('\\n')\n",
    "print (f'response: \\n {response}')"
   ]
  },
  {
   "cell_type": "markdown",
   "id": "7a570506",
   "metadata": {},
   "source": [
    "### 3.1.a FAQ 데이터 응답문장 테스트"
   ]
  },
  {
   "cell_type": "code",
   "execution_count": 68,
   "id": "8509dd3e",
   "metadata": {
    "scrolled": true
   },
   "outputs": [
    {
     "name": "stdout",
     "output_type": "stream",
     "text": [
      "lowest_score :  112.327644\n",
      "similar_docs :  [Document(page_content='no: 89\\nCategory: 타기관OTP 이용등록방법 알려주세요\\nInformation: 타기관에서 발급받으신 OTP가 통합OTP카드인 경우 당행에 등록하여 이용가능합니다. \\n[경로]\\n- 인터넷뱅킹 로그인→ 사용자관리→인터넷뱅킹관리→OTP이용등록  \\n- 신한 쏠(SOL) 로그인→ 전체메뉴→설정/인증→ 이용중인 보안매체선택→   OTP이용등록\\n \\n ※ OTP이용등록후 재로그인을 하셔야 새로 등록된 보안매체가 적용됩니다.\\n\\n기타 궁금하신 내용은 신한은행 고객센터 1599-8000로 문의하여 주시기 바랍니다.\\ntype: 인터넷뱅킹\\nSource: 신한은행', metadata={'source': '신한은행', 'row': 0})]\n",
      "\n",
      "\n",
      "\u001b[1m> Entering new StuffDocumentsChain chain...\u001b[0m\n",
      "\n",
      "\n",
      "\u001b[1m> Entering new LLMChain chain...\u001b[0m\n",
      "Prompt after formatting:\n",
      "\u001b[32;1m\u001b[1;3mno: 89\n",
      "Category: 타기관OTP 이용등록방법 알려주세요\n",
      "Information: 타기관에서 발급받으신 OTP가 통합OTP카드인 경우 당행에 등록하여 이용가능합니다. \n",
      "[경로]\n",
      "- 인터넷뱅킹 로그인→ 사용자관리→인터넷뱅킹관리→OTP이용등록  \n",
      "- 신한 쏠(SOL) 로그인→ 전체메뉴→설정/인증→ 이용중인 보안매체선택→   OTP이용등록\n",
      " \n",
      " ※ OTP이용등록후 재로그인을 하셔야 새로 등록된 보안매체가 적용됩니다.\n",
      "\n",
      "기타 궁금하신 내용은 신한은행 고객센터 1599-8000로 문의하여 주시기 바랍니다.\n",
      "type: 인터넷뱅킹\n",
      "Source: 신한은행||SPEPERATOR||고객 서비스 센터 직원처럼, 타기관OTP 등록 방법 알려주세요 카테고리에 대한 Information을 찾아서 설명해주세요.\u001b[0m\n",
      "\n",
      "\u001b[1m> Finished chain.\u001b[0m\n",
      "\n",
      "\u001b[1m> Finished chain.\u001b[0m\n",
      "question: 타기관OTP 등록 방법 알려주세요\n",
      "==========================\n",
      "\n",
      "\n",
      "response: \n",
      " 타기관OTP 등록 방법을 알려드리겠습니다!\n",
      "\n",
      "1. 인터넷뱅킹 로그인 후 '사용자 관리' 메뉴로 이동합니다.\n",
      "2. '인터넷뱅킹관리' 메뉴로 이동한 후, 'OTP이용등록' 버튼을 클릭합니다.\n",
      "3. OTP이용등록 화면으로 이동하면, 신규 OTP 카드를 선택하고 등록할 수 있습니다.\n",
      "4. OTP이용등록을 완료하면, 인터넷뱅킹 로그인 시 새로운 OTP 카드가 적용됩니다.\n",
      "CPU times: user 43.1 ms, sys: 119 µs, total: 43.2 ms\n",
      "Wall time: 4.86 s\n"
     ]
    }
   ],
   "source": [
    "%%time\n",
    "question = \"타기관OTP 등록 방법 알려주세요\"\n",
    "response = get_answer(question, bank=\"신한은행\", k=3)\n",
    "\n",
    "print (f'question: {question}')\n",
    "print('==========================')\n",
    "print('\\n')\n",
    "print (f'response: \\n {response}')"
   ]
  },
  {
   "cell_type": "code",
   "execution_count": 67,
   "id": "19bdac33",
   "metadata": {},
   "outputs": [
    {
     "name": "stdout",
     "output_type": "stream",
     "text": [
      "lowest_score :  153.17928\n",
      "similar_docs :  [Document(page_content='no: 83\\nCategory: 뱅크아이디란 무엇인가요?\\nInformation: 뱅크아이디란, 블록체인기반의 은행권 공동인증서비스로 블록체인 원장을 분산하여 저장/관리함으로써 정보의 신뢰성과 안정성을 높이는 인증기술방식입니다. 기존의 뱅크사인(BankSign)이  뱅크아이디(마이인포) 로 전환되었으며 별도의 앱 설치 없이 신한 쏠(SOL)에서 직접 신청 및 관리가 가능합니다.\\ntype: 뱅크아이디\\nSource: 신한은행', metadata={'source': '신한은행', 'row': 6}), Document(page_content='no: 31\\nCategory: 보안카드 번호 입력은 어떻게 하면 되죠?\\nInformation: 씨크리트(보안)카드는 고객님이 은행에서 신한온라인서비스(인터넷뱅킹)에 가입하신 후 받은 카드입니다.  보안카드번호가 필요한 모든 거래에  기타 궁금하신 내용은 신한은행 고객센터 1599-8000로 문의하여 주시기 바랍니다.\\ntype: 인터넷뱅킹\\nSource: 신한은행', metadata={'source': '신한은행', 'row': 58}), Document(page_content=\"no: 35\\nCategory: 로그인은 어디서 하나요?\\nInformation: 인터넷뱅킹에 로그인하시려면 신한은행 홈페이지에서 개인 → 뱅킹로그인 버튼을 클릭하시면 됩니다. 참고로 인터넷뱅킹에 로그인하시려면 우선 공동인증서 또는 금융인증서를 발급받으셔야 하며, '인증센터'에서 발급받으실 수 있습니다. 기타 궁금하신 내용은 신한은행 고객센터 1599-8000로 문의하여 주시기 바랍니다.\\ntype: 인터넷뱅킹\\nSource: 신한은행\", metadata={'source': '신한은행', 'row': 54})]\n",
      "\n",
      "\n",
      "\u001b[1m> Entering new StuffDocumentsChain chain...\u001b[0m\n",
      "\n",
      "\n",
      "\u001b[1m> Entering new LLMChain chain...\u001b[0m\n",
      "Prompt after formatting:\n",
      "\u001b[32;1m\u001b[1;3mno: 83\n",
      "Category: 뱅크아이디란 무엇인가요?\n",
      "Information: 뱅크아이디란, 블록체인기반의 은행권 공동인증서비스로 블록체인 원장을 분산하여 저장/관리함으로써 정보의 신뢰성과 안정성을 높이는 인증기술방식입니다. 기존의 뱅크사인(BankSign)이  뱅크아이디(마이인포) 로 전환되었으며 별도의 앱 설치 없이 신한 쏠(SOL)에서 직접 신청 및 관리가 가능합니다.\n",
      "type: 뱅크아이디\n",
      "Source: 신한은행\n",
      "\n",
      "no: 31\n",
      "Category: 보안카드 번호 입력은 어떻게 하면 되죠?\n",
      "Information: 씨크리트(보안)카드는 고객님이 은행에서 신한온라인서비스(인터넷뱅킹)에 가입하신 후 받은 카드입니다.  보안카드번호가 필요한 모든 거래에  기타 궁금하신 내용은 신한은행 고객센터 1599-8000로 문의하여 주시기 바랍니다.\n",
      "type: 인터넷뱅킹\n",
      "Source: 신한은행\n",
      "\n",
      "no: 35\n",
      "Category: 로그인은 어디서 하나요?\n",
      "Information: 인터넷뱅킹에 로그인하시려면 신한은행 홈페이지에서 개인 → 뱅킹로그인 버튼을 클릭하시면 됩니다. 참고로 인터넷뱅킹에 로그인하시려면 우선 공동인증서 또는 금융인증서를 발급받으셔야 하며, '인증센터'에서 발급받으실 수 있습니다. 기타 궁금하신 내용은 신한은행 고객센터 1599-8000로 문의하여 주시기 바랍니다.\n",
      "type: 인터넷뱅킹\n",
      "Source: 신한은행||SPEPERATOR||고객 서비스 센터 직원처럼, 뱅크아이디란 무엇인가요? 카테고리에 대한 Information을 찾아서 설명해주세요.\u001b[0m\n",
      "\n",
      "\u001b[1m> Finished chain.\u001b[0m\n",
      "\n",
      "\u001b[1m> Finished chain.\u001b[0m\n",
      "question: 뱅크아이디란 무엇인가요?\n",
      "==========================\n",
      "\n",
      "\n",
      "response: \n",
      " 카테고리: 정보\n",
      "Information:\n",
      "1. 뱅크아이디는 블록체인 기반의 은행권 공동인증서비스로, 정보의 신뢰성과 안정성을 높이기 위해 사용됩니다.\n",
      "2. 기존의 뱅크사인(BankSign)이 마이인포(Myinfo)로 전환되면서 별도의 앱 설치 없이 신한 쏠(SOL)에서 직접 신청 및 관리할 수 있게 되었습니다.\n",
      "3. 보안카드 번호 입력 방법은 다음과 같습니다:\n",
      " a. 씨크리트(보안)카드는 고객님이 은행에서 신한온라인서비스(인터넷뱅킹)에 가입하실 때 받으신 카드입니다.\n",
      " b. 보안카드번호가 필요한 모든 거래에 대해 기타 궁금하신 내용은 신한은행 고객센터 1599-8000로 문의하여 주시기 바랍니다.\n",
      "CPU times: user 9.7 ms, sys: 113 µs, total: 9.82 ms\n",
      "Wall time: 8.01 s\n"
     ]
    }
   ],
   "source": [
    "%%time\n",
    "question = \"뱅크아이디란 무엇인가요?\"\n",
    "response = get_answer(question, bank=\"신한은행\", k=3)\n",
    "\n",
    "print (f'question: {question}')\n",
    "print('==========================')\n",
    "print('\\n')\n",
    "print (f'response: \\n {response}')\n",
    "\n"
   ]
  },
  {
   "cell_type": "code",
   "execution_count": 33,
   "id": "a8bde7ab",
   "metadata": {},
   "outputs": [
    {
     "name": "stdout",
     "output_type": "stream",
     "text": [
      "lowest_score :  180.90964\n",
      "\n",
      "\n",
      "\u001b[1m> Entering new StuffDocumentsChain chain...\u001b[0m\n",
      "\n",
      "\n",
      "\u001b[1m> Entering new LLMChain chain...\u001b[0m\n",
      "Prompt after formatting:\n",
      "\u001b[32;1m\u001b[1;3mno: 78\n",
      "Category: 미래를함께하는따뜻한금융 안전한금융거래를위해준비중입니다.' 화면에서 멈춤 / 로딩중 멈추는데 어떻게 하나요?\n",
      "Information: 오류 사유는 인터넷 익스플로러 설정값의 영향이거나 이용하시는 장소의 네트워크 영향에 의해 로딩이 원활하지 않은 경우입니다. \n",
      "조치방법은 \n",
      "1. 임시 인터넷 파일 및 쿠키 삭제, 신뢰할 수 있는 사이트 추가 \n",
      " 인터넷 익스플로러 상단의 [도구] > [인터넷옵션]에서\n",
      "① [일반Tab] > 검색기록항목의 [삭제] 버튼 클릭 \"임시 인터넷 파일 및 사이트 파일\" , \"쿠키 및 웹사이트 데이터\" 항목만 체크하고 [삭제] \n",
      "② [보안Tab] > 신뢰할 수 있는 사이트 > [사이트] 클릭하여 [ https://*.shinhan.com ] 추가 후 적용 및 확인하십시오. \n",
      " 또는, 당행 보안프로그램 삭제 열려있는 브라우저 종료 후, 시작 > 제어판의 [프로그램 추가/제거] (총 4개이며 보이지 않으면 제거할 필요없음) \n",
      "- AhnLab Safe Transaction, \n",
      " - iniLINE CrossEX Service, \n",
      "- INISAFE CrossWeb EX v3.0, \n",
      "- TouchEn nxKey with E2E for 32bit\n",
      "3. 새 브라우저 열어서 개인인터넷뱅킹 재접속 후 [통합설치] 진행 하세요. \n",
      "기타 궁금하신 내용은 신한은행 고객센터 1599-8000로 문의하여 주시기 바랍니다.\n",
      "type: \n",
      "Source: 신한은행||SPEPERATOR||고객 서비스 센터 직원처럼, 화면에서 미래를함께하는따뜻한금융 안전한금융거래를위해준비중입니다. 라고 나오고 맨날 멈추는데 어떻게 하냐? 아니쓸수가 없자나 카테고리에 대한 Information을 찾아서 설명해주세요.\u001b[0m\n",
      "\n",
      "\u001b[1m> Finished chain.\u001b[0m\n",
      "\n",
      "\u001b[1m> Finished chain.\u001b[0m\n",
      "question: 화면에서 미래를함께하는따뜻한금융 안전한금융거래를위해준비중입니다. 라고 나오고 맨날 멈추는데 어떻게 하냐? 아니쓸수가 없자나\n",
      "==========================\n",
      "\n",
      "\n",
      "response: \n",
      " 화면에서 멈추거나 로딩 중인 문제는 인터넷 익스플로러 설정 값이나 네트워크 환경으로 인해 발생할 수 있습니다. 이 경우 다음과 같은 조치를 취해 볼 수 있습니다:\n",
      "\n",
      "1. 임시 인터넷 파일 및 쿠키 삭제, 신뢰할 수 있는 사이트 추가: 인터넷 익스플로러 상단의 [도구] > [인터넷옵션]에서 '검색 기록' 항목을 선택하고, '임시 인터넷 파일 및 사이트 파일', '쿠키 및 웹사이트 데이터' 항목을 체크하고 '삭제' 버튼을 클릭합니다. 또한, 신뢰할 수 있는 사이트 목록에 'www.shinhan.com'을 추가하고 적용 및 확인합니다.\n",
      "\n",
      "2. 당행 보안 프로그램 삭제: 인터넷 익스플로러 상단의 [도구] > [인터넷 옵션] > [보안] 탭에서 '신뢰할 수 있는 사이트' 목록에 'www.shinhan.com'을 추가하고 적용 및 확인합니다.\n",
      "\n",
      "3. 새 브라우저 열어서 개인인터넷뱅킹 재접속 후 [통합설치] 진행: 새 브라우저를 열어 개인인터넷뱅킹 페이지에 접속해 보세요. 만약 문제가 계속 발생한다면, 인터넷 익스플로러 설정을 변경하거나 네트워크 환경을 점검해야 할 수도 있습니다.\n",
      "CPU times: user 20.3 ms, sys: 0 ns, total: 20.3 ms\n",
      "Wall time: 12.1 s\n"
     ]
    }
   ],
   "source": [
    "\n",
    "%%time\n",
    "question = \"화면에서 미래를함께하는따뜻한금융 안전한금융거래를위해준비중입니다. 라고 나오고 맨날 멈추는데 어떻게 하냐? 아니쓸수가 없자나\"\n",
    "response = get_answer(question, bank=\"신한은행\", k=1)\n",
    "\n",
    "print (f'question: {question}')\n",
    "print('==========================')\n",
    "print('\\n')\n",
    "print (f'response: \\n {response}')\n",
    "\n"
   ]
  },
  {
   "cell_type": "code",
   "execution_count": 37,
   "id": "6446c9ca",
   "metadata": {},
   "outputs": [
    {
     "name": "stdout",
     "output_type": "stream",
     "text": [
      "lowest_score :  121.71279\n",
      "\n",
      "\n",
      "\u001b[1m> Entering new StuffDocumentsChain chain...\u001b[0m\n",
      "\n",
      "\n",
      "\u001b[1m> Entering new LLMChain chain...\u001b[0m\n",
      "Prompt after formatting:\n",
      "\u001b[32;1m\u001b[1;3mno: 79\n",
      "Category: 증권사에서 발급받은 인증서는 은행에서 사용 불가한가요?\n",
      "Information: 인증서 용도로 구분해 주셔야 합니다. \n",
      "증권용(무료) 인증서를 통한 은행 거래는 불가하나, 발급하신 인증서가 전자거래범용(유료) 인증서일 경우 은행에서도 이용 가능합니다.\n",
      "type: 인증서\n",
      "Source: 신한은행||SPEPERATOR||고객 서비스 센터 직원처럼, 증권사 인증서는 사용 못하나요? 카테고리에 대한 Information을 찾아서 설명해주세요.\u001b[0m\n",
      "\n",
      "\u001b[1m> Finished chain.\u001b[0m\n",
      "\n",
      "\u001b[1m> Finished chain.\u001b[0m\n",
      "question: 증권사 인증서는 사용 못하나요?\n",
      "==========================\n",
      "\n",
      "\n",
      "response: \n",
      " 증권사 인증서는 은행에서 사용할 수 없습니다. 그러나 무료 증권용 인증서를 발급 받으신 경우, 은행 거래가 불가능하지만, 전자거래범용 인증서를 발급 받으신 경우 은행에서도 이용 가능합니다.\n",
      "CPU times: user 9.11 ms, sys: 596 µs, total: 9.7 ms\n",
      "Wall time: 2.22 s\n"
     ]
    }
   ],
   "source": [
    "\n",
    "%%time\n",
    "question = \"증권사 인증서는 사용 못하나요?\"\n",
    "response = get_answer(question, bank=\"신한은행\", k=3)\n",
    "\n",
    "print (f'question: {question}')\n",
    "print('==========================')\n",
    "print('\\n')\n",
    "print (f'response: \\n {response}')\n",
    "\n"
   ]
  },
  {
   "cell_type": "code",
   "execution_count": 38,
   "id": "dbf1afaf",
   "metadata": {},
   "outputs": [
    {
     "name": "stdout",
     "output_type": "stream",
     "text": [
      "lowest_score :  85.2139\n",
      "\n",
      "\n",
      "\u001b[1m> Entering new StuffDocumentsChain chain...\u001b[0m\n",
      "\n",
      "\n",
      "\u001b[1m> Entering new LLMChain chain...\u001b[0m\n",
      "Prompt after formatting:\n",
      "\u001b[32;1m\u001b[1;3mno: 84\n",
      "Category: 기존 공동인증서를 보유한 상태에서 금융인증서 발급이 가능한가요?\n",
      "Information: 공동인증서와 금융인증서는 별개의 인증서로 두 가지 인증서를 모두 사용할 수 있습니다.\n",
      "type: 금융인증서\n",
      "Source: 신한은행||SPEPERATOR||고객 서비스 센터 직원처럼, 공동인증서랑 금융인증서 같이 쓸수있나요? 카테고리에 대한 Information을 찾아서 설명해주세요.\u001b[0m\n",
      "\n",
      "\u001b[1m> Finished chain.\u001b[0m\n",
      "\n",
      "\u001b[1m> Finished chain.\u001b[0m\n",
      "question: 공동인증서랑 금융인증서 같이 쓸수있나요?\n",
      "==========================\n",
      "\n",
      "\n",
      "response: \n",
      " 예, 공동인증서와 금융인증서는 별도의 인증서입니다. 공동인증서는 은행 및 금융 기관과 같은 다양한 웹사이트에서 사용자 신원을 확인하고 로그인할 때 사용됩니다. 반면에 금융인증서는 전자상거래, 온라인 뱅킹 등 금융 거래 시 개인정보 보호 및 보안을 강화하기 위해 사용되며, 금융기관에서 발급합니다.\n",
      "CPU times: user 12.5 ms, sys: 0 ns, total: 12.5 ms\n",
      "Wall time: 3.64 s\n"
     ]
    }
   ],
   "source": [
    "\n",
    "%%time\n",
    "question = \"공동인증서랑 금융인증서 같이 쓸수있나요?\"\n",
    "response = get_answer(question, bank=\"신한은행\", k=3)\n",
    "\n",
    "print (f'question: {question}')\n",
    "print('==========================')\n",
    "print('\\n')\n",
    "print (f'response: \\n {response}')\n",
    "\n"
   ]
  },
  {
   "cell_type": "code",
   "execution_count": 34,
   "id": "71dc43c2",
   "metadata": {},
   "outputs": [
    {
     "name": "stdout",
     "output_type": "stream",
     "text": [
      "\n",
      "\n",
      "\u001b[1m> Entering new StuffDocumentsChain chain...\u001b[0m\n",
      "\n",
      "\n",
      "\u001b[1m> Entering new LLMChain chain...\u001b[0m\n",
      "Prompt after formatting:\n",
      "\u001b[32;1m\u001b[1;3mno: 48\n",
      "Category: 홈페이지 탈회하고 싶습니다. 어떻게 하나요?\n",
      "Information: 홈페이지 로그인 후 회원탈퇴를 하실 수 있습니다. 홈페이지 상단에 있는 고객센터 > 회원서비스 > 회원탈퇴 메뉴에서 회원탈퇴 진행할 수 있습니다. 혹시, 비밀번호를 분실하셨다면 ID/PW 로그인 화면 하단 비밀번호 재설정 메뉴를 통해서 비밀번호 재설정하고 로그인 후 회원탈퇴 가능합니다. 기타 문의는 신한은행고객센터 (☎ 1599-8000번)으로 문의 바랍니다.\n",
      "type: 홈페이지\n",
      "Source: 신한은행\n",
      "\n",
      "no: 17\n",
      "Category: 인터넷뱅킹 해지 방법 알려주세요\n",
      "Information: [경로] - 인터넷뱅킹 로그인 → 사용자관리 → 인터넷뱅킹관리 → 인터넷뱅킹해지 ☞ 신한은행에서 발급한 인증서 폐기여부 선택가능합니다. ☞ 쏠(모바일뱅킹) 도 사용할수 없음 - 신한 쏠(SOL) 로그인 → 전체메뉴 → 설정/인증 → 서비스 해지 ☞ 쏠(SOL)만 해지 또는 인터넷뱅킹&쏠(SOL) 모두 해지 중 선택하여 해지가능합니다. 기타 궁금하신 내용은 신한은행 고객센터 1599-8000로 문의하여 주시기 바랍니다.\n",
      "type: 인터넷뱅킹\n",
      "Source: 신한은행\n",
      "\n",
      "no: 24\n",
      "Category: 인터넷뱅킹 자동이체해지 방법안내\n",
      "Information: 인터넷뱅킹에 로그인하신후, 좌측의 메뉴항목에서 이체 > 자동이체 > 자동이체조회 변경/취소 서비스를 통해 해지하실 수 있습니다.\n",
      "type: 인터넷뱅킹\n",
      "Source: 신한은행||SPEPERATOR||고객 서비스 센터 직원처럼, 홈페이지 탈퇴하는방법 알려줘 카테고리에 대한 Information을 찾아서 설명해주세요.\u001b[0m\n",
      "\n",
      "\u001b[1m> Finished chain.\u001b[0m\n",
      "\n",
      "\u001b[1m> Finished chain.\u001b[0m\n",
      "question: 홈페이지 탈퇴하는방법 알려줘\n",
      "==========================\n",
      "\n",
      "\n",
      "response: \n",
      " 홈페이지 탈퇴하기:\n",
      "\n",
      "1. 홈페이지 상단의 고객센터 > 회원서비스 > 회원탈퇴 메뉴를 클릭합니다.\n",
      "2. 회원탈퇴 메뉴에서 회원탈퇴 진행하시면 됩니다.\n",
      "3. 비밀번호를 분실하신 경우, 아이디/패스워드 로그인 화면 하단 비밀번호 재설정 메뉴를 통해 비밀번호 재설정 후 회원탈퇴가 가능합니다.\n",
      "4. 기타 문의 사항은 신한은행 고객센터 1599-8000로 문의하십시오.\n",
      "CPU times: user 38.2 ms, sys: 3.56 ms, total: 41.8 ms\n",
      "Wall time: 4.8 s\n"
     ]
    }
   ],
   "source": [
    "\n",
    "%%time\n",
    "question = \"홈페이지 탈퇴하는방법 알려줘\"\n",
    "response = get_answer(question, bank=\"신한은행\", k=3)\n",
    "\n",
    "print (f'question: {question}')\n",
    "print('==========================')\n",
    "print('\\n')\n",
    "print (f'response: \\n {response}')\n",
    "\n"
   ]
  },
  {
   "cell_type": "code",
   "execution_count": 45,
   "id": "92a88af9",
   "metadata": {},
   "outputs": [
    {
     "name": "stdout",
     "output_type": "stream",
     "text": [
      "lowest_score :  236.9253\n",
      "similar_docs :  []\n",
      "\n",
      "\n",
      "\u001b[1m> Entering new StuffDocumentsChain chain...\u001b[0m\n",
      "\n",
      "\n",
      "\u001b[1m> Entering new LLMChain chain...\u001b[0m\n",
      "Prompt after formatting:\n",
      "\u001b[32;1m\u001b[1;3m||SPEPERATOR||질문 답변 감사합니다. 좋은 하루 되세요.\u001b[0m\n",
      "\n",
      "\u001b[1m> Finished chain.\u001b[0m\n",
      "\n",
      "\u001b[1m> Finished chain.\u001b[0m\n",
      "question: 질문 답변 감사합니다. 좋은 하루 되세요.\n",
      "==========================\n",
      "\n",
      "\n",
      "response: \n",
      " 천만에요! 질문에 도움을 드릴 수 있어서 기쁩니다. 다른 질문이 있으시면 언제든지 문의해 주세요. 제가 도와드리겠습니다!\n",
      "CPU times: user 7.99 ms, sys: 1.16 ms, total: 9.15 ms\n",
      "Wall time: 1.69 s\n"
     ]
    }
   ],
   "source": [
    "\n",
    "%%time\n",
    "question = \"질문 답변 감사합니다. 좋은 하루 되세요.\"\n",
    "response = get_answer(question, bank=\"신한은행\", k=3)\n",
    "\n",
    "print (f'question: {question}')\n",
    "print('==========================')\n",
    "print('\\n')\n",
    "print (f'response: \\n {response}')\n",
    "\n"
   ]
  },
  {
   "cell_type": "code",
   "execution_count": null,
   "id": "a5ea8c50",
   "metadata": {},
   "outputs": [],
   "source": []
  },
  {
   "cell_type": "code",
   "execution_count": null,
   "id": "9e38154c",
   "metadata": {},
   "outputs": [],
   "source": []
  }
 ],
 "metadata": {
  "kernelspec": {
   "display_name": "conda_pytorch_p310",
   "language": "python",
   "name": "conda_pytorch_p310"
  },
  "language_info": {
   "codemirror_mode": {
    "name": "ipython",
    "version": 3
   },
   "file_extension": ".py",
   "mimetype": "text/x-python",
   "name": "python",
   "nbconvert_exporter": "python",
   "pygments_lexer": "ipython3",
   "version": "3.10.10"
  }
 },
 "nbformat": 4,
 "nbformat_minor": 5
}
