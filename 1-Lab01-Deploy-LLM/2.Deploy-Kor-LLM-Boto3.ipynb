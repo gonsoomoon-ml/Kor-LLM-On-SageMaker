{
 "cells": [
  {
   "cell_type": "markdown",
   "id": "bc5ab391",
   "metadata": {
    "tags": []
   },
   "source": [
    "# Kor LLM 모델 서빙"
   ]
  },
  {
   "cell_type": "markdown",
   "id": "694d9185",
   "metadata": {},
   "source": [
    "### 참조: \n",
    "- Model 정보\n",
    "    - beomi/KoAlpaca-Polyglot-12.8B\n",
    "        - This model is a fine-tuned version of EleutherAI/polyglot-ko-12.8b on a KoAlpaca Dataset v1.1b\n",
    "        - https://huggingface.co/beomi/KoAlpaca-Polyglot-12.8B\n",
    "    - EleutherAI/polyglot-ko-12.8b\n",
    "        - Polyglot-Ko-12.8B was trained for 167 billion tokens over 301,000 steps on 256 A100 GPUs with the GPT-NeoX framework. It was trained as an autoregressive language model, using cross-entropy loss to maximize the likelihood of predicting the next token.\n",
    "        - License: Apache 2.0\n",
    "        - https://huggingface.co/EleutherAI/polyglot-ko-12.8b\n",
    "        \n",
    "- 블로그\n",
    "    - https://aws.amazon.com/ko/blogs/machine-learning/deploy-large-models-on-amazon-sagemaker-using-djlserving-and-deepspeed-model-parallel-inference/\n",
    "- 코드\n",
    "    - Boto3\n",
    "        - https://github.com/aws/amazon-sagemaker-examples/blob/main/advanced_functionality/pytorch_deploy_large_GPT_model/GPT-J-6B-model-parallel-inference-DJL.ipynb\n",
    "    - Python SDK\n",
    "    - https://github.com/aws/amazon-sagemaker-examples/blob/main/inference/generativeai/deepspeed/GPT-J-6B_DJLServing_with_PySDK.ipynb"
   ]
  },
  {
   "cell_type": "markdown",
   "id": "7b1ae4f8-2cf7-40eb-adf8-6dca4260c92e",
   "metadata": {
    "tags": []
   },
   "source": [
    "# 1. 기본 환경 설정"
   ]
  },
  {
   "cell_type": "code",
   "execution_count": 22,
   "id": "cee2723b-2c1e-4924-9853-664a26cd7075",
   "metadata": {
    "tags": []
   },
   "outputs": [
    {
     "name": "stdout",
     "output_type": "stream",
     "text": [
      "The autoreload extension is already loaded. To reload it, use:\n",
      "  %reload_ext autoreload\n"
     ]
    }
   ],
   "source": [
    "%load_ext autoreload\n",
    "%autoreload 2\n",
    "\n",
    "# src 폴더 경로 설정\n",
    "import sys\n",
    "sys.path.append('../common_code')"
   ]
  },
  {
   "cell_type": "code",
   "execution_count": 2,
   "id": "559cf237-e938-425e-b6dd-23ee3ba24274",
   "metadata": {
    "collapsed": true,
    "jupyter": {
     "outputs_hidden": true
    },
    "tags": []
   },
   "outputs": [
    {
     "name": "stdout",
     "output_type": "stream",
     "text": [
      "Looking in indexes: https://pypi.org/simple, https://pip.repos.neuron.amazonaws.com\n",
      "Requirement already satisfied: langchain in /home/ec2-user/anaconda3/envs/pytorch_p39/lib/python3.9/site-packages (0.0.197)\n",
      "Requirement already satisfied: pydantic<2,>=1 in /home/ec2-user/anaconda3/envs/pytorch_p39/lib/python3.9/site-packages (from langchain) (1.10.4)\n",
      "Requirement already satisfied: requests<3,>=2 in /home/ec2-user/anaconda3/envs/pytorch_p39/lib/python3.9/site-packages (from langchain) (2.28.1)\n",
      "Requirement already satisfied: tenacity<9.0.0,>=8.1.0 in /home/ec2-user/anaconda3/envs/pytorch_p39/lib/python3.9/site-packages (from langchain) (8.1.0)\n",
      "Requirement already satisfied: numexpr<3.0.0,>=2.8.4 in /home/ec2-user/anaconda3/envs/pytorch_p39/lib/python3.9/site-packages (from langchain) (2.8.4)\n",
      "Requirement already satisfied: openapi-schema-pydantic<2.0,>=1.2 in /home/ec2-user/anaconda3/envs/pytorch_p39/lib/python3.9/site-packages (from langchain) (1.2.4)\n",
      "Requirement already satisfied: SQLAlchemy<3,>=1.4 in /home/ec2-user/anaconda3/envs/pytorch_p39/lib/python3.9/site-packages (from langchain) (1.4.46)\n",
      "Requirement already satisfied: async-timeout<5.0.0,>=4.0.0 in /home/ec2-user/anaconda3/envs/pytorch_p39/lib/python3.9/site-packages (from langchain) (4.0.2)\n",
      "Requirement already satisfied: dataclasses-json<0.6.0,>=0.5.7 in /home/ec2-user/anaconda3/envs/pytorch_p39/lib/python3.9/site-packages (from langchain) (0.5.8)\n",
      "Requirement already satisfied: langchainplus-sdk>=0.0.7 in /home/ec2-user/anaconda3/envs/pytorch_p39/lib/python3.9/site-packages (from langchain) (0.0.8)\n",
      "Requirement already satisfied: PyYAML>=5.4.1 in /home/ec2-user/anaconda3/envs/pytorch_p39/lib/python3.9/site-packages (from langchain) (5.4.1)\n",
      "Requirement already satisfied: numpy<2,>=1 in /home/ec2-user/anaconda3/envs/pytorch_p39/lib/python3.9/site-packages (from langchain) (1.23.5)\n",
      "Requirement already satisfied: aiohttp<4.0.0,>=3.8.3 in /home/ec2-user/anaconda3/envs/pytorch_p39/lib/python3.9/site-packages (from langchain) (3.8.3)\n",
      "Requirement already satisfied: aiosignal>=1.1.2 in /home/ec2-user/anaconda3/envs/pytorch_p39/lib/python3.9/site-packages (from aiohttp<4.0.0,>=3.8.3->langchain) (1.3.1)\n",
      "Requirement already satisfied: charset-normalizer<3.0,>=2.0 in /home/ec2-user/anaconda3/envs/pytorch_p39/lib/python3.9/site-packages (from aiohttp<4.0.0,>=3.8.3->langchain) (2.1.1)\n",
      "Requirement already satisfied: attrs>=17.3.0 in /home/ec2-user/anaconda3/envs/pytorch_p39/lib/python3.9/site-packages (from aiohttp<4.0.0,>=3.8.3->langchain) (22.2.0)\n",
      "Requirement already satisfied: frozenlist>=1.1.1 in /home/ec2-user/anaconda3/envs/pytorch_p39/lib/python3.9/site-packages (from aiohttp<4.0.0,>=3.8.3->langchain) (1.3.3)\n",
      "Requirement already satisfied: multidict<7.0,>=4.5 in /home/ec2-user/anaconda3/envs/pytorch_p39/lib/python3.9/site-packages (from aiohttp<4.0.0,>=3.8.3->langchain) (6.0.4)\n",
      "Requirement already satisfied: yarl<2.0,>=1.0 in /home/ec2-user/anaconda3/envs/pytorch_p39/lib/python3.9/site-packages (from aiohttp<4.0.0,>=3.8.3->langchain) (1.8.2)\n",
      "Requirement already satisfied: marshmallow<4.0.0,>=3.3.0 in /home/ec2-user/anaconda3/envs/pytorch_p39/lib/python3.9/site-packages (from dataclasses-json<0.6.0,>=0.5.7->langchain) (3.19.0)\n",
      "Requirement already satisfied: typing-inspect>=0.4.0 in /home/ec2-user/anaconda3/envs/pytorch_p39/lib/python3.9/site-packages (from dataclasses-json<0.6.0,>=0.5.7->langchain) (0.9.0)\n",
      "Requirement already satisfied: marshmallow-enum<2.0.0,>=1.5.1 in /home/ec2-user/anaconda3/envs/pytorch_p39/lib/python3.9/site-packages (from dataclasses-json<0.6.0,>=0.5.7->langchain) (1.5.1)\n",
      "Requirement already satisfied: typing-extensions>=4.2.0 in /home/ec2-user/anaconda3/envs/pytorch_p39/lib/python3.9/site-packages (from pydantic<2,>=1->langchain) (4.4.0)\n",
      "Requirement already satisfied: urllib3<1.27,>=1.21.1 in /home/ec2-user/anaconda3/envs/pytorch_p39/lib/python3.9/site-packages (from requests<3,>=2->langchain) (1.26.8)\n",
      "Requirement already satisfied: certifi>=2017.4.17 in /home/ec2-user/anaconda3/envs/pytorch_p39/lib/python3.9/site-packages (from requests<3,>=2->langchain) (2022.12.7)\n",
      "Requirement already satisfied: idna<4,>=2.5 in /home/ec2-user/anaconda3/envs/pytorch_p39/lib/python3.9/site-packages (from requests<3,>=2->langchain) (3.4)\n",
      "Requirement already satisfied: greenlet!=0.4.17 in /home/ec2-user/anaconda3/envs/pytorch_p39/lib/python3.9/site-packages (from SQLAlchemy<3,>=1.4->langchain) (2.0.1)\n",
      "Requirement already satisfied: packaging>=17.0 in /home/ec2-user/anaconda3/envs/pytorch_p39/lib/python3.9/site-packages (from marshmallow<4.0.0,>=3.3.0->dataclasses-json<0.6.0,>=0.5.7->langchain) (21.3)\n",
      "Requirement already satisfied: mypy-extensions>=0.3.0 in /home/ec2-user/anaconda3/envs/pytorch_p39/lib/python3.9/site-packages (from typing-inspect>=0.4.0->dataclasses-json<0.6.0,>=0.5.7->langchain) (0.4.3)\n",
      "Requirement already satisfied: pyparsing!=3.0.5,>=2.0.2 in /home/ec2-user/anaconda3/envs/pytorch_p39/lib/python3.9/site-packages (from packaging>=17.0->marshmallow<4.0.0,>=3.3.0->dataclasses-json<0.6.0,>=0.5.7->langchain) (3.0.9)\n"
     ]
    }
   ],
   "source": [
    "!pip install -U langchain"
   ]
  },
  {
   "cell_type": "markdown",
   "id": "81c2bdf4",
   "metadata": {},
   "source": [
    "# 2. SageMaker endpoint 의 추론 도커 이미지 인 DLC image URL 가져오기\n",
    "- We get DLC image URL for djl-deepspeed 0.21.0 and set SageMaker settings"
   ]
  },
  {
   "cell_type": "code",
   "execution_count": 23,
   "id": "2876d11c",
   "metadata": {
    "tags": []
   },
   "outputs": [
    {
     "data": {
      "text/plain": [
       "'763104351884.dkr.ecr.us-east-1.amazonaws.com/djl-inference:0.21.0-deepspeed0.8.0-cu117'"
      ]
     },
     "execution_count": 23,
     "metadata": {},
     "output_type": "execute_result"
    }
   ],
   "source": [
    "import sagemaker, boto3\n",
    "from sagemaker import image_uris\n",
    "\n",
    "\n",
    "role = sagemaker.get_execution_role()  # execution role for the endpoint\n",
    "session = sagemaker.session.Session()  # sagemaker session for interacting with different AWS APIs\n",
    "region = session._region_name\n",
    "bucket = session.default_bucket()  # bucket to house artifacts\n",
    "\n",
    "img_uri = image_uris.retrieve(framework=\"djl-deepspeed\", region=region, version=\"0.21.0\")\n",
    "img_uri"
   ]
  },
  {
   "cell_type": "markdown",
   "id": "bdff2960-a103-4016-be3e-83947b4d36d6",
   "metadata": {},
   "source": [
    "# 3. Set configuration"
   ]
  },
  {
   "cell_type": "markdown",
   "id": "e6bf555e-7128-4378-9f48-103674ebc859",
   "metadata": {},
   "source": [
    "## 테스트 모델 지정"
   ]
  },
  {
   "cell_type": "code",
   "execution_count": 24,
   "id": "a2ca985f-a53f-459e-bd8c-6adfeb2977e4",
   "metadata": {
    "tags": []
   },
   "outputs": [],
   "source": [
    "#serve_model = 'KoAlpaca-12-8B'\n",
    "#serve_model = 'Polyglot-Kor-5-8B'\n",
    "serve_model = 'Kullm-polyglot-12-8b-v2'"
   ]
  },
  {
   "cell_type": "code",
   "execution_count": 25,
   "id": "665498b3-9904-4f92-9d24-9b684132b169",
   "metadata": {
    "tags": []
   },
   "outputs": [
    {
     "name": "stdout",
     "output_type": "stream",
     "text": [
      "instance_type  : ml.g5.12xlarge\n"
     ]
    }
   ],
   "source": [
    "model_artifact_name = f'{serve_model}.tar.gz'\n",
    "\n",
    "instance_type = \"ml.g5.12xlarge\"\n",
    "# instance_type = \"ml.g5.48xlarge\"\n",
    "\n",
    "print(\"instance_type  :\", instance_type)  \n"
   ]
  },
  {
   "cell_type": "code",
   "execution_count": 26,
   "id": "47ab31d1",
   "metadata": {
    "scrolled": true,
    "tags": []
   },
   "outputs": [
    {
     "data": {
      "text/plain": [
       "'s3://sagemaker-us-east-1-419974056037/Kullm-polyglot-12-8b-v2/'"
      ]
     },
     "execution_count": 26,
     "metadata": {},
     "output_type": "execute_result"
    }
   ],
   "source": [
    "s3_location = f\"s3://{bucket}/{serve_model}/\"\n",
    "s3_location"
   ]
  },
  {
   "cell_type": "markdown",
   "id": "1ac32e96",
   "metadata": {},
   "source": [
    "# 4. 모델 추론 코드 및 모델 설정 파일을 패키징\n",
    "- `model.py` and `serving.properties`\n",
    "- The code below creates the SageMaker model file (`model.tar.gz`) and upload it to S3. "
   ]
  },
  {
   "cell_type": "code",
   "execution_count": 27,
   "id": "4a724622-069c-453a-8c2d-3a43adbc0a91",
   "metadata": {
    "tags": []
   },
   "outputs": [
    {
     "name": "stdout",
     "output_type": "stream",
     "text": [
      "Kullm-polyglot-12-8b-v2\n",
      "Kullm-polyglot-12-8b-v2.tar.gz\n",
      "Kullm-polyglot-12-8b-v2/\n",
      "Kullm-polyglot-12-8b-v2/serving.properties\n",
      "Kullm-polyglot-12-8b-v2/model.py\n"
     ]
    }
   ],
   "source": [
    "%%sh -s {serve_model} {model_artifact_name}\n",
    "serve_model=$1\n",
    "model_artifact_name=$2\n",
    "echo $serve_model\n",
    "echo $model_artifact_name\n",
    "\n",
    "rm -rf $serve_model/.ipynb_checkpoints\n",
    "\n",
    "tar -czvf $model_artifact_name $serve_model/\n",
    "\n"
   ]
  },
  {
   "cell_type": "markdown",
   "id": "4b9bbee9-224b-4daf-915e-a1e40d72e47f",
   "metadata": {},
   "source": [
    "## mode.tar.gz 를 S3 업로드"
   ]
  },
  {
   "cell_type": "code",
   "execution_count": 28,
   "id": "db47f969",
   "metadata": {
    "tags": []
   },
   "outputs": [],
   "source": [
    "model_tar_url = sagemaker.s3.S3Uploader.upload(model_artifact_name, s3_location)"
   ]
  },
  {
   "cell_type": "markdown",
   "id": "c507e3ef",
   "metadata": {},
   "source": [
    "# 5. SageMaker endpoint 생성"
   ]
  },
  {
   "cell_type": "markdown",
   "id": "32589338",
   "metadata": {},
   "source": [
    "- Now we create our [SageMaker model](https://boto3.amazonaws.com/v1/documentation/api/latest/reference/services/sagemaker.html#SageMaker.Client.create_model). Make sure your execution role has access to your model artifacts and ECR image. Please check out our SageMaker Roles [documentation](https://docs.aws.amazon.com/sagemaker/latest/dg/sagemaker-roles.html) for more details. "
   ]
  },
  {
   "cell_type": "code",
   "execution_count": 29,
   "id": "026d27d2",
   "metadata": {
    "tags": []
   },
   "outputs": [],
   "source": [
    "from datetime import datetime\n",
    "\n",
    "sm_client = boto3.client(\"sagemaker\")\n",
    "\n",
    "time_stamp = datetime.now().strftime(\"%Y-%m-%d-%H-%M-%S\")\n",
    "model_name = f\"{serve_model}-\" + time_stamp\n",
    "\n",
    "create_model_response = sm_client.create_model(\n",
    "    ModelName=model_name,\n",
    "    ExecutionRoleArn=role,\n",
    "    PrimaryContainer={\"Image\": img_uri, \"ModelDataUrl\": model_tar_url},\n",
    ")"
   ]
  },
  {
   "cell_type": "markdown",
   "id": "22d2fc2b",
   "metadata": {},
   "source": [
    "Now we create an endpoint configuration that SageMaker hosting services uses to deploy models. Note that we configured `ModelDataDownloadTimeoutInSeconds` and `ContainerStartupHealthCheckTimeoutInSeconds` to accommodate the large size of our model. "
   ]
  },
  {
   "cell_type": "code",
   "execution_count": 30,
   "id": "84e25dd4",
   "metadata": {
    "tags": []
   },
   "outputs": [],
   "source": [
    "initial_instance_count = 1\n",
    "variant_name = \"AllTraffic\"\n",
    "endpoint_config_name = f\"{serve_model}-config-\" + time_stamp\n",
    "\n",
    "production_variants = [\n",
    "    {\n",
    "        \"VariantName\": variant_name,\n",
    "        \"ModelName\": model_name,\n",
    "        \"InitialInstanceCount\": initial_instance_count,\n",
    "        \"InstanceType\": instance_type,\n",
    "        \"ModelDataDownloadTimeoutInSeconds\": 300,\n",
    "        \"ContainerStartupHealthCheckTimeoutInSeconds\": 300,\n",
    "    }\n",
    "]\n",
    "\n",
    "endpoint_config = {\n",
    "    \"EndpointConfigName\": endpoint_config_name,\n",
    "    \"ProductionVariants\": production_variants,\n",
    "}\n",
    "\n",
    "ep_conf_res = sm_client.create_endpoint_config(**endpoint_config)"
   ]
  },
  {
   "cell_type": "markdown",
   "id": "e4b3bc26",
   "metadata": {},
   "source": [
    "We are ready to create an endpoint using the model and the endpoint configuration created from above steps. "
   ]
  },
  {
   "cell_type": "code",
   "execution_count": 31,
   "id": "962a1aef",
   "metadata": {
    "tags": []
   },
   "outputs": [],
   "source": [
    "endpoint_name = f\"{serve_model}-\" + time_stamp\n",
    "ep_res = sm_client.create_endpoint(\n",
    "    EndpointName=endpoint_name, EndpointConfigName=endpoint_config_name\n",
    ")"
   ]
  },
  {
   "cell_type": "code",
   "execution_count": 32,
   "id": "d044bed4-9f47-4f15-893b-5af2c087e3a1",
   "metadata": {
    "tags": []
   },
   "outputs": [
    {
     "name": "stdout",
     "output_type": "stream",
     "text": [
      "endpoint_name:  Kullm-polyglot-12-8b-v2-2023-06-12-05-06-52\n"
     ]
    }
   ],
   "source": [
    "print(\"endpoint_name: \", endpoint_name)"
   ]
  },
  {
   "cell_type": "code",
   "execution_count": 33,
   "id": "62d9c280-76b3-4c58-8fb9-2b54e5bc5623",
   "metadata": {
    "tags": []
   },
   "outputs": [
    {
     "name": "stdout",
     "output_type": "stream",
     "text": [
      "Endpoint is  Creating\n",
      "Endpoint is  Creating\n",
      "Endpoint is  Creating\n",
      "Endpoint is  Creating\n",
      "Endpoint is  Creating\n",
      "Endpoint is  Creating\n",
      "Endpoint is  Creating\n",
      "Endpoint is  InService\n",
      "CPU times: user 108 ms, sys: 24.6 ms, total: 132 ms\n",
      "Wall time: 7min 1s\n"
     ]
    }
   ],
   "source": [
    "%%time \n",
    "\n",
    "from inference_lib import descirbe_endpoint\n",
    "descirbe_endpoint(endpoint_name)            "
   ]
  },
  {
   "cell_type": "code",
   "execution_count": 5,
   "id": "7b48e991-432e-4308-9c05-67481a89b34b",
   "metadata": {
    "tags": []
   },
   "outputs": [],
   "source": [
    "endpoint_name = \"Polyglot-Kor-5-8B-2023-06-01-07-00-20\""
   ]
  },
  {
   "cell_type": "markdown",
   "id": "8f1221df-caf9-4050-9541-34bf558538c7",
   "metadata": {},
   "source": [
    "# 6. 엔드포인트 추론 "
   ]
  },
  {
   "cell_type": "code",
   "execution_count": 34,
   "id": "5ed7a325",
   "metadata": {
    "tags": []
   },
   "outputs": [],
   "source": [
    "from inference_lib import invoke_inference_DJ, Prompter"
   ]
  },
  {
   "cell_type": "code",
   "execution_count": 35,
   "id": "e3c56cfe-8f79-4a35-af96-f9ad28ffd185",
   "metadata": {
    "tags": []
   },
   "outputs": [],
   "source": [
    "prompter = Prompter(\"kullm\")"
   ]
  },
  {
   "cell_type": "markdown",
   "id": "63c5791c-5b67-4e3f-98a6-327baa81d7b2",
   "metadata": {
    "tags": []
   },
   "source": [
    "### options for generation\n",
    "* **temperature**: Controls randomness in the model. Lower values will make the model more deterministic and higher values will make the model more random. Default value is 1.0.\n",
    "* **max_new_tokens**: The maximum number of tokens to generate. Default value is 20, max value is 512.\n",
    "* **repetition_penalty**: Controls the likelihood of repetition, defaults to null.\n",
    "* **seed**: The seed to use for random generation, default is null.\n",
    "* **stop**: A list of tokens to stop the generation. The generation will stop when one of the tokens is generated.\n",
    "* **top_k**: The number of highest probability vocabulary tokens to keep for top-k-filtering. Default value is null, which disables top-k-filtering.\n",
    "* **top_p**: The cumulative probability of parameter highest probability vocabulary tokens to keep for nucleus sampling, default to null\n",
    "* **do_sample**: Whether or not to use sampling ; use greedy decoding otherwise. Default value is false.\n",
    "* **best_of**: Generate best_of sequences and return the one if the highest token logprobs, default to null.\n",
    "* **details**: Whether or not to return details about the generation. Default value is false.\n",
    "* **return_full_text**: Whether or not to return the full text or only the generated part. Default value is false.\n",
    "* **truncate**: Whether or not to truncate the input to the maximum length of the model. Default value is true.\n",
    "* **typical_p**: The typical probability of a token. Default value is null.\n",
    "* **watermark**: The watermark to use for the generation. Default value is false."
   ]
  },
  {
   "cell_type": "code",
   "execution_count": 110,
   "id": "3bd74737-4f00-4a18-8c2d-042a8cecf65c",
   "metadata": {
    "tags": []
   },
   "outputs": [],
   "source": [
    "params = {\n",
    "    \"do_sample\":False, \n",
    "    \"max_new_tokens\":256,\n",
    "    \"temperature\":0.5,\n",
    "    \"top_k\":3,\n",
    "    \"top_p\":0.9,\n",
    "    \"return_full_text\":False,\n",
    "    \"repetition_penalty\":1.1,\n",
    "    \"presence_penalty\":None,\n",
    "    \"eos_token_id\":2,\n",
    "}"
   ]
  },
  {
   "cell_type": "markdown",
   "id": "aa002070-b85d-4f3d-a3da-57ed0d63ac16",
   "metadata": {
    "tags": []
   },
   "source": [
    "## (1) 맥락 (Context) 없이 질문"
   ]
  },
  {
   "cell_type": "code",
   "execution_count": 72,
   "id": "74e7eeea-2eef-464a-aca8-7b4d5116ba1e",
   "metadata": {
    "tags": []
   },
   "outputs": [
    {
     "name": "stdout",
     "output_type": "stream",
     "text": [
      "prompt_wo_c: \n",
      " {'prompt': ['### 질문: 홈플러스 중계점은 몇시까지 장사해?\\n\\n### 답변:'], 'params': {'do_sample': False, 'max_new_tokens': 128, 'temperature': 0.5, 'top_k': 3, 'top_p': 0.9, 'return_full_text': False, 'repetition_penalty': 1.1, 'presence_penalty': None, 'eos_token_id': 2}}\n"
     ]
    }
   ],
   "source": [
    "q = \"홈플러스 중계점은 몇시까지 장사해?\"\n",
    "c = \"\"#\"홈플러스 영업시간은 오전 10시 부터 오후 12시까지 입니다.\"\n",
    "prompt_wo_c = f\"### 질문: {q}\\n\\n### 맥락: {c}\\n\\n### 답변:\" if c else f\"### 질문: {q}\\n\\n### 답변:\" \n",
    "data = {\n",
    "    \"prompt\": [prompt_wo_c,],\n",
    "    \"params\": params\n",
    "}\n",
    "print(\"prompt_wo_c: \\n\", data)"
   ]
  },
  {
   "cell_type": "markdown",
   "id": "14bb4e22-9511-4159-a1d1-766fcae501ba",
   "metadata": {},
   "source": [
    "* **for kullm**"
   ]
  },
  {
   "cell_type": "code",
   "execution_count": 73,
   "id": "238aaec3-00c0-4384-a223-2c8fbea0737e",
   "metadata": {
    "tags": []
   },
   "outputs": [
    {
     "name": "stdout",
     "output_type": "stream",
     "text": [
      "prompt_wo_c: \n",
      " {'prompt': ['아래는 작업을 설명하는 명령어입니다. 요청을 적절히 완료하는 응답을 작성하세요.\\n\\n### 명령어:\\n홈플러스 중계점은 몇시까지 장사해?\\n\\n### 응답:\\n'], 'params': {'do_sample': False, 'max_new_tokens': 128, 'temperature': 0.5, 'top_k': 3, 'top_p': 0.9, 'return_full_text': False, 'repetition_penalty': 1.1, 'presence_penalty': None, 'eos_token_id': 2}}\n"
     ]
    }
   ],
   "source": [
    "q = \"홈플러스 중계점은 몇시까지 장사해?\"\n",
    "c = \"\"#\"홈플러스 영업시간은 오전 10시 부터 오후 12시까지 입니다.\"\n",
    "prompt_wo_c = prompter.generate_prompt(q, c)\n",
    "data = {\n",
    "    \"prompt\": [prompt_wo_c,],\n",
    "    \"params\": params\n",
    "}\n",
    "print(\"prompt_wo_c: \\n\", data)"
   ]
  },
  {
   "cell_type": "code",
   "execution_count": 74,
   "id": "7b73fca4-9318-401c-97ba-3005c40adfde",
   "metadata": {
    "tags": []
   },
   "outputs": [
    {
     "name": "stdout",
     "output_type": "stream",
     "text": [
      "[\n",
      "  [\n",
      "    {\n",
      "      \"generated_text\":\"홈플러스 중계점의 영업시간은 매장마다 다를 수 있습니다. 홈플러스 중계점에 문의하여 영업 시간을 확인할 수 있습니다.\"\n",
      "    }\n",
      "  ]\n",
      "]\n",
      "CPU times: user 12 ms, sys: 0 ns, total: 12 ms\n",
      "Wall time: 1.82 s\n"
     ]
    },
    {
     "data": {
      "text/plain": [
       "'[\\n  [\\n    {\\n      \"generated_text\":\"홈플러스 중계점의 영업시간은 매장마다 다를 수 있습니다. 홈플러스 중계점에 문의하여 영업 시간을 확인할 수 있습니다.\"\\n    }\\n  ]\\n]'"
      ]
     },
     "execution_count": 74,
     "metadata": {},
     "output_type": "execute_result"
    }
   ],
   "source": [
    "%%time \n",
    "invoke_inference_DJ(endpoint_name, data)"
   ]
  },
  {
   "cell_type": "markdown",
   "id": "c47feb14-8bc0-42f7-8319-fa37ca1ee340",
   "metadata": {},
   "source": [
    "## (2) 맥락 (Context) 가지고 질문"
   ]
  },
  {
   "cell_type": "code",
   "execution_count": 75,
   "id": "6864581e-186d-412e-bd7f-c5cd049539c8",
   "metadata": {
    "tags": []
   },
   "outputs": [
    {
     "name": "stdout",
     "output_type": "stream",
     "text": [
      "prompt_w_c:\n",
      " ### 질문: 홈플러스 중계점은 몇시까지 장사해?\n",
      "\n",
      "### 맥락: 홈플러스 영업시간은 오전 10시 부터 오후 10시까지 입니다. 홈플러스 매장 찾기(영업시간 확인)는 이 주소를 이용하세요:  http://corporate.homeplus.co.kr/Store.aspx?isA=%C1%F6%BF%B4%C7%B0%BF%AE%C0%C7%C1%F2%B5%B5%B4%F6 \n",
      "\n",
      "### 답변:\n"
     ]
    }
   ],
   "source": [
    "q = \"홈플러스 중계점은 몇시까지 장사해?\"\n",
    "c = \"홈플러스 영업시간은 오전 10시 부터 오후 10시까지 입니다. 홈플러스 매장 찾기(영업시간 확인)는 이 주소를 이용하세요:  http://corporate.homeplus.co.kr/Store.aspx?isA=%C1%F6%BF%B4%C7%B0%BF%AE%C0%C7%C1%F2%B5%B5%B4%F6 \"\n",
    "prompt_w_c = f\"### 질문: {q}\\n\\n### 맥락: {c}\\n\\n### 답변:\" if c else f\"### 질문: {q}\\n\\n### 답변:\" \n",
    "data = {\n",
    "    \"prompt\": [prompt_w_c,],\n",
    "    \"params\": params\n",
    "}\n",
    "print(\"prompt_w_c:\\n\", prompt_w_c)"
   ]
  },
  {
   "cell_type": "markdown",
   "id": "358c2a7c-eca0-43a1-9fbd-1e7e8d37ea35",
   "metadata": {},
   "source": [
    "* **for kullm**"
   ]
  },
  {
   "cell_type": "code",
   "execution_count": 92,
   "id": "632bc838-3f55-4fab-8f8c-1ca8beb24d91",
   "metadata": {
    "tags": []
   },
   "outputs": [
    {
     "name": "stdout",
     "output_type": "stream",
     "text": [
      "prompt_w_c:\n",
      " 아래는 작업을 설명하는 명령어와 추가 컨텍스트를 제공하는 입력이 짝을 이루는 예제입니다. 요청을 적절히 완료하는 응답을 작성하세요.\n",
      "\n",
      "### 명령어:\n",
      "홈플러스 중계점은 몇시까지 장사해?\n",
      "\n",
      "### 입력:\n",
      "홈플러스 영업시간은 오전 10시 부터 오후 10시까지 입니다. 홈플러스 매장 찾기(영업시간 확인)는 이 주소를 이용하세요:  http://corporate.homeplus.co.kr/Store.aspx?isA=%C1%F6%BF%B4%C7%B0%BF%AE%C0%C7%C1%F2%B5%B5%B4%F6 \n",
      "\n",
      "### 응답:\n",
      "\n"
     ]
    }
   ],
   "source": [
    "q = \"홈플러스 중계점은 몇시까지 장사해?\"\n",
    "c = \"홈플러스 영업시간은 오전 10시 부터 오후 10시까지 입니다. 홈플러스 매장 찾기(영업시간 확인)는 이 주소를 이용하세요:  http://corporate.homeplus.co.kr/Store.aspx?isA=%C1%F6%BF%B4%C7%B0%BF%AE%C0%C7%C1%F2%B5%B5%B4%F6 \"\n",
    "#prompt_w_c = f\"### 질문: {q}\\n\\n### 맥락: {c}\\n\\n### 답변:\" if c else f\"### 질문: {q}\\n\\n### 답변:\" \n",
    "prompt_w_c = prompter.generate_prompt(q, c)\n",
    "data = {\n",
    "    \"prompt\": [prompt_w_c,],\n",
    "    \"params\": params\n",
    "}\n",
    "print(\"prompt_w_c:\\n\", prompt_w_c)"
   ]
  },
  {
   "cell_type": "code",
   "execution_count": 93,
   "id": "a7b53302-ec17-4a8d-837e-e93d7c5b90cf",
   "metadata": {
    "tags": []
   },
   "outputs": [
    {
     "name": "stdout",
     "output_type": "stream",
     "text": [
      "[\n",
      "  [\n",
      "    {\n",
      "      \"generated_text\":\"홈플러스 중계점의 영업시간은 오전 10시부터 오후 10시까지입니다.\"\n",
      "    }\n",
      "  ]\n",
      "]\n",
      "CPU times: user 10.2 ms, sys: 2.29 ms, total: 12.5 ms\n",
      "Wall time: 1.17 s\n"
     ]
    },
    {
     "data": {
      "text/plain": [
       "'[\\n  [\\n    {\\n      \"generated_text\":\"홈플러스 중계점의 영업시간은 오전 10시부터 오후 10시까지입니다.\"\\n    }\\n  ]\\n]'"
      ]
     },
     "execution_count": 93,
     "metadata": {},
     "output_type": "execute_result"
    }
   ],
   "source": [
    "%%time \n",
    "invoke_inference_DJ(endpoint_name, data)"
   ]
  },
  {
   "cell_type": "markdown",
   "id": "d920799a-ed96-4430-ae41-063d62ede7c7",
   "metadata": {},
   "source": [
    "## (3) 맥락 (Context) 에 없는 질문"
   ]
  },
  {
   "cell_type": "code",
   "execution_count": 102,
   "id": "aca979fc-cf30-4343-aaa0-b5d988ebf4b7",
   "metadata": {
    "tags": []
   },
   "outputs": [
    {
     "name": "stdout",
     "output_type": "stream",
     "text": [
      "prompt_w_c:\n",
      " 아래는 작업을 설명하는 명령어와 추가 컨텍스트를 제공하는 입력이 짝을 이루는 예제입니다. 요청을 적절히 완료하는 응답을 작성하세요.\n",
      "\n",
      "### 명령어:\n",
      "오미크론 변종이 등장한 후 경제가 위축되었나요?\n",
      "\n",
      "### 입력:\n",
      "2020년과 2021년에는 약 4조 4천억 달러, 즉 2021년 국내 총생산 (GDP) 의 18% 에 달하는 막대한 QE와 2021년 GDP의 약 5조 달러, 즉 21% 에 달하는 막대한 재정 부양책 (지금까지도 인플레이션일 것입니다) 이 시장을 안정시켰고 기업들은 막대한 자본을 조달할 수 있었습니다.또한 이러한 자본 투입을 통해 많은 중소기업을 구했고 소비자에게는 2조 5천억 달러 이상을, 주 및 지방 금고에 거의 1조 달러를 투자했습니다.이러한 조치로 인해 실업률이 20개월 만에 15% 에서 4% 미만으로 급격히 감소했습니다. 그 규모와 속도는 전례 없는 일이었습니다.또한 델타와 오미크론 변종의 출현과 글로벌 공급망 부족에도 불구하고 2021년 경제는 7% 성장했습니다. 이는 주로 소비자 지출의 급격한 증가와 해당 지출의 서비스에서 상품으로의 전환에 힘입은 것입니다.다행히 이 2년 동안 COVID-19 백신도 빠르게 개발되어 배포되었습니다.\n",
      "오늘날 경제에서 소비자들은 (평균적으로) 우수한 재무 상태를 유지하고 있으며, 레버리지는 사상 최저 수준이며, 주택 가격 상승이 있었음에도 불구하고 우수한 모기지 인수, 임금 인상으로 인한 많은 일자리 및 2조 달러 이상의 초과 저축을 이루고 있습니다. 이는 주로 정부 경기 부양책으로 인한 것입니다.대부분의 소비자와 기업 (및 주) 은 2020년과 2021년에 창출된 자금으로 여전히 넘쳐나고 있으며, 지난 몇 개월 동안의 소비자 지출은 COVID-19 이전 수준보다 12% 높습니다.(그러나 우리는 저소득 가구의 계좌 잔고가 처음에는 규모가 작을수록 더 빠르게 감소하고 있으며 해당 가구의 소득이 인플레이션 상승에 보조를 맞추지 못하고 있다는 점을 인식해야 합니다.)\n",
      "오늘날의 경제 상황은 2008년 금융 위기와 완전히 달라졌습니다. 은행과 투자 은행에서부터 섀도우 뱅크, 헤지 펀드, 사모펀드, 패니 매 (Fannie Mae) 및 기타 여러 기업에 이르기까지 금융 시스템 전체가 그랬듯이 소비자가 과도하게 레버리지를 받았을 때였습니다.또한 주택 담보 대출 제도의 부실 인수 및 레버리지로 인한 주택 가격 상승은 과도한 투기로 이어져 거의 모든 사람이 이를 놓쳤고 결국 거의 1조 달러에 가까운 실제 손실을 초래했습니다.\n",
      "\n",
      "### 응답:\n",
      "\n"
     ]
    }
   ],
   "source": [
    "q = \"오미크론 변종이 등장한 후 경제가 위축되었나요?\"\n",
    "c = \"\"\"2020년과 2021년에는 약 4조 4천억 달러, 즉 2021년 국내 총생산 (GDP) 의 18% 에 달하는 막대한 QE와 2021년 GDP의 약 5조 달러, 즉 21% 에 달하는 막대한 재정 부양책 (지금까지도 인플레이션일 것입니다) 이 시장을 안정시켰고 기업들은 막대한 자본을 조달할 수 있었습니다.또한 이러한 자본 투입을 통해 많은 중소기업을 구했고 소비자에게는 2조 5천억 달러 이상을, 주 및 지방 금고에 거의 1조 달러를 투자했습니다.이러한 조치로 인해 실업률이 20개월 만에 15% 에서 4% 미만으로 급격히 감소했습니다. 그 규모와 속도는 전례 없는 일이었습니다.또한 델타와 오미크론 변종의 출현과 글로벌 공급망 부족에도 불구하고 2021년 경제는 7% 성장했습니다. 이는 주로 소비자 지출의 급격한 증가와 해당 지출의 서비스에서 상품으로의 전환에 힘입은 것입니다.다행히 이 2년 동안 COVID-19 백신도 빠르게 개발되어 배포되었습니다.\n",
    "오늘날 경제에서 소비자들은 (평균적으로) 우수한 재무 상태를 유지하고 있으며, 레버리지는 사상 최저 수준이며, 주택 가격 상승이 있었음에도 불구하고 우수한 모기지 인수, 임금 인상으로 인한 많은 일자리 및 2조 달러 이상의 초과 저축을 이루고 있습니다. 이는 주로 정부 경기 부양책으로 인한 것입니다.대부분의 소비자와 기업 (및 주) 은 2020년과 2021년에 창출된 자금으로 여전히 넘쳐나고 있으며, 지난 몇 개월 동안의 소비자 지출은 COVID-19 이전 수준보다 12% 높습니다.(그러나 우리는 저소득 가구의 계좌 잔고가 처음에는 규모가 작을수록 더 빠르게 감소하고 있으며 해당 가구의 소득이 인플레이션 상승에 보조를 맞추지 못하고 있다는 점을 인식해야 합니다.)\n",
    "오늘날의 경제 상황은 2008년 금융 위기와 완전히 달라졌습니다. 은행과 투자 은행에서부터 섀도우 뱅크, 헤지 펀드, 사모펀드, 패니 매 (Fannie Mae) 및 기타 여러 기업에 이르기까지 금융 시스템 전체가 그랬듯이 소비자가 과도하게 레버리지를 받았을 때였습니다.또한 주택 담보 대출 제도의 부실 인수 및 레버리지로 인한 주택 가격 상승은 과도한 투기로 이어져 거의 모든 사람이 이를 놓쳤고 결국 거의 1조 달러에 가까운 실제 손실을 초래했습니다.\"\"\"\n",
    "prompt_w_c = prompter.generate_prompt(q, c)\n",
    "data = {\n",
    "    \"prompt\": [prompt_w_c,],\n",
    "    \"params\": params\n",
    "}\n",
    "print(\"prompt_w_c:\\n\", prompt_w_c)"
   ]
  },
  {
   "cell_type": "code",
   "execution_count": 103,
   "id": "cd217175-52dc-4ab9-bc73-9b5e590fedb9",
   "metadata": {
    "tags": []
   },
   "outputs": [
    {
     "name": "stdout",
     "output_type": "stream",
     "text": [
      "[\n",
      "  [\n",
      "    {\n",
      "      \"generated_text\":\"경제가 위축되지 않았습니다. 코로나19 팬데믹 기간 동안 대부분의 소비자들이 우수한 재무 상태를 유지했으며, 레버리지는 사상 최저치를 기록했습니다. 또한, 소비자들은 코로나19 백신의 빠른 개발 덕분에 2021년 경제가 7% 성장할 수 있었습니다. 그러나 저소득 가구의 계좌 잔고는 처음에는 규모가 작을수록 더 빠르게 감소하고 있으며, 해당 가구의 소득이 인플레이션 상승에 보조를 맞추지 못하고 있습니다.\"\n",
      "    }\n",
      "  ]\n",
      "]\n",
      "CPU times: user 12.1 ms, sys: 667 µs, total: 12.8 ms\n",
      "Wall time: 6.22 s\n"
     ]
    },
    {
     "data": {
      "text/plain": [
       "'[\\n  [\\n    {\\n      \"generated_text\":\"경제가 위축되지 않았습니다. 코로나19 팬데믹 기간 동안 대부분의 소비자들이 우수한 재무 상태를 유지했으며, 레버리지는 사상 최저치를 기록했습니다. 또한, 소비자들은 코로나19 백신의 빠른 개발 덕분에 2021년 경제가 7% 성장할 수 있었습니다. 그러나 저소득 가구의 계좌 잔고는 처음에는 규모가 작을수록 더 빠르게 감소하고 있으며, 해당 가구의 소득이 인플레이션 상승에 보조를 맞추지 못하고 있습니다.\"\\n    }\\n  ]\\n]'"
      ]
     },
     "execution_count": 103,
     "metadata": {},
     "output_type": "execute_result"
    }
   ],
   "source": [
    "%%time \n",
    "invoke_inference_DJ(endpoint_name, data)"
   ]
  },
  {
   "cell_type": "code",
   "execution_count": 106,
   "id": "6d9dedad-f9dd-42cb-8cc8-12f61a3e1a48",
   "metadata": {
    "tags": []
   },
   "outputs": [
    {
     "name": "stdout",
     "output_type": "stream",
     "text": [
      "prompt_w_c:\n",
      " 아래는 작업을 설명하는 명령어와 추가 컨텍스트를 제공하는 입력이 짝을 이루는 예제입니다. 요청을 적절히 완료하는 응답을 작성하세요.\n",
      "\n",
      "### 명령어:\n",
      "COVID-19가 결국 경제에 도움이 되었나요?\n",
      "\n",
      "### 입력:\n",
      "2020년과 2021년에는 약 4조 4천억 달러, 즉 2021년 국내 총생산 (GDP) 의 18% 에 달하는 막대한 QE와 2021년 GDP의 약 5조 달러, 즉 21% 에 달하는 막대한 재정 부양책 (지금까지도 인플레이션일 것입니다) 이 시장을 안정시켰고 기업들은 막대한 자본을 조달할 수 있었습니다.또한 이러한 자본 투입을 통해 많은 중소기업을 구했고 소비자에게는 2조 5천억 달러 이상을, 주 및 지방 금고에 거의 1조 달러를 투자했습니다.이러한 조치로 인해 실업률이 20개월 만에 15% 에서 4% 미만으로 급격히 감소했습니다. 그 규모와 속도는 전례 없는 일이었습니다.또한 델타와 오미크론 변종의 출현과 글로벌 공급망 부족에도 불구하고 2021년 경제는 7% 성장했습니다. 이는 주로 소비자 지출의 급격한 증가와 해당 지출의 서비스에서 상품으로의 전환에 힘입은 것입니다.다행히 이 2년 동안 COVID-19 백신도 빠르게 개발되어 배포되었습니다.\n",
      "오늘날 경제에서 소비자들은 (평균적으로) 우수한 재무 상태를 유지하고 있으며, 레버리지는 사상 최저 수준이며, 주택 가격 상승이 있었음에도 불구하고 우수한 모기지 인수, 임금 인상으로 인한 많은 일자리 및 2조 달러 이상의 초과 저축을 이루고 있습니다. 이는 주로 정부 경기 부양책으로 인한 것입니다.대부분의 소비자와 기업 (및 주) 은 2020년과 2021년에 창출된 자금으로 여전히 넘쳐나고 있으며, 지난 몇 개월 동안의 소비자 지출은 COVID-19 이전 수준보다 12% 높습니다.(그러나 우리는 저소득 가구의 계좌 잔고가 처음에는 규모가 작을수록 더 빠르게 감소하고 있으며 해당 가구의 소득이 인플레이션 상승에 보조를 맞추지 못하고 있다는 점을 인식해야 합니다.)\n",
      "오늘날의 경제 상황은 2008년 금융 위기와 완전히 달라졌습니다. 은행과 투자 은행에서부터 섀도우 뱅크, 헤지 펀드, 사모펀드, 패니 매 (Fannie Mae) 및 기타 여러 기업에 이르기까지 금융 시스템 전체가 그랬듯이 소비자가 과도하게 레버리지를 받았을 때였습니다.또한 주택 담보 대출 제도의 부실 인수 및 레버리지로 인한 주택 가격 상승은 과도한 투기로 이어져 거의 모든 사람이 이를 놓쳤고 결국 거의 1조 달러에 가까운 실제 손실을 초래했습니다.\n",
      "\n",
      "### 응답:\n",
      "\n"
     ]
    }
   ],
   "source": [
    "q = \"COVID-19가 결국 경제에 도움이 되었나요?\"\n",
    "c = \"\"\"2020년과 2021년에는 약 4조 4천억 달러, 즉 2021년 국내 총생산 (GDP) 의 18% 에 달하는 막대한 QE와 2021년 GDP의 약 5조 달러, 즉 21% 에 달하는 막대한 재정 부양책 (지금까지도 인플레이션일 것입니다) 이 시장을 안정시켰고 기업들은 막대한 자본을 조달할 수 있었습니다.또한 이러한 자본 투입을 통해 많은 중소기업을 구했고 소비자에게는 2조 5천억 달러 이상을, 주 및 지방 금고에 거의 1조 달러를 투자했습니다.이러한 조치로 인해 실업률이 20개월 만에 15% 에서 4% 미만으로 급격히 감소했습니다. 그 규모와 속도는 전례 없는 일이었습니다.또한 델타와 오미크론 변종의 출현과 글로벌 공급망 부족에도 불구하고 2021년 경제는 7% 성장했습니다. 이는 주로 소비자 지출의 급격한 증가와 해당 지출의 서비스에서 상품으로의 전환에 힘입은 것입니다.다행히 이 2년 동안 COVID-19 백신도 빠르게 개발되어 배포되었습니다.\n",
    "오늘날 경제에서 소비자들은 (평균적으로) 우수한 재무 상태를 유지하고 있으며, 레버리지는 사상 최저 수준이며, 주택 가격 상승이 있었음에도 불구하고 우수한 모기지 인수, 임금 인상으로 인한 많은 일자리 및 2조 달러 이상의 초과 저축을 이루고 있습니다. 이는 주로 정부 경기 부양책으로 인한 것입니다.대부분의 소비자와 기업 (및 주) 은 2020년과 2021년에 창출된 자금으로 여전히 넘쳐나고 있으며, 지난 몇 개월 동안의 소비자 지출은 COVID-19 이전 수준보다 12% 높습니다.(그러나 우리는 저소득 가구의 계좌 잔고가 처음에는 규모가 작을수록 더 빠르게 감소하고 있으며 해당 가구의 소득이 인플레이션 상승에 보조를 맞추지 못하고 있다는 점을 인식해야 합니다.)\n",
    "오늘날의 경제 상황은 2008년 금융 위기와 완전히 달라졌습니다. 은행과 투자 은행에서부터 섀도우 뱅크, 헤지 펀드, 사모펀드, 패니 매 (Fannie Mae) 및 기타 여러 기업에 이르기까지 금융 시스템 전체가 그랬듯이 소비자가 과도하게 레버리지를 받았을 때였습니다.또한 주택 담보 대출 제도의 부실 인수 및 레버리지로 인한 주택 가격 상승은 과도한 투기로 이어져 거의 모든 사람이 이를 놓쳤고 결국 거의 1조 달러에 가까운 실제 손실을 초래했습니다.\"\"\"\n",
    "prompt_w_c = prompter.generate_prompt(q, c)\n",
    "data = {\n",
    "    \"prompt\": [prompt_w_c,],\n",
    "    \"params\": params\n",
    "}\n",
    "print(\"prompt_w_c:\\n\", prompt_w_c)"
   ]
  },
  {
   "cell_type": "code",
   "execution_count": 107,
   "id": "093de861-537a-4c8d-9ddc-36a9c6c128aa",
   "metadata": {
    "tags": []
   },
   "outputs": [
    {
     "name": "stdout",
     "output_type": "stream",
     "text": [
      "[\n",
      "  [\n",
      "    {\n",
      "      \"generated_text\":\"COVID-19 팬데믹은 경제 회복에 큰 영향을 미쳤습니다. 팬데믹 기간 동안 대부분의 소비자들이 우수한 재무 상태를 유지했으며, 이는 소비자 지출의 급격한 증가로 이어졌습니다. 또한, 기업들은 막대한 자본을 조달하여 고용을 늘리고 소비자에게 막대한 금액을 투자할 수 있었습니다. 그러나 이러한 조치들은 인플레이션을 유발할 수도 있으며, 저소득 가구의 계좌 잔고는 처음에는 규모가 작을수록 더 빠르게 감소한다는 문제점이 있습니다. 또한, 금융 시스템 전반에 걸쳐 소비자들이 과도한 레버리지를 받았던 2008년 금융 위기\"\n",
      "    }\n",
      "  ]\n",
      "]\n",
      "CPU times: user 12.5 ms, sys: 0 ns, total: 12.5 ms\n",
      "Wall time: 7.69 s\n"
     ]
    },
    {
     "data": {
      "text/plain": [
       "'[\\n  [\\n    {\\n      \"generated_text\":\"COVID-19 팬데믹은 경제 회복에 큰 영향을 미쳤습니다. 팬데믹 기간 동안 대부분의 소비자들이 우수한 재무 상태를 유지했으며, 이는 소비자 지출의 급격한 증가로 이어졌습니다. 또한, 기업들은 막대한 자본을 조달하여 고용을 늘리고 소비자에게 막대한 금액을 투자할 수 있었습니다. 그러나 이러한 조치들은 인플레이션을 유발할 수도 있으며, 저소득 가구의 계좌 잔고는 처음에는 규모가 작을수록 더 빠르게 감소한다는 문제점이 있습니다. 또한, 금융 시스템 전반에 걸쳐 소비자들이 과도한 레버리지를 받았던 2008년 금융 위기\"\\n    }\\n  ]\\n]'"
      ]
     },
     "execution_count": 107,
     "metadata": {},
     "output_type": "execute_result"
    }
   ],
   "source": [
    "%%time \n",
    "invoke_inference_DJ(endpoint_name, data)"
   ]
  },
  {
   "cell_type": "code",
   "execution_count": 111,
   "id": "6e4223e2-89cb-4240-ad57-4a183fe1e510",
   "metadata": {
    "tags": []
   },
   "outputs": [
    {
     "name": "stdout",
     "output_type": "stream",
     "text": [
      "prompt_w_c:\n",
      " 아래는 작업을 설명하는 명령어와 추가 컨텍스트를 제공하는 입력이 짝을 이루는 예제입니다. 요청을 적절히 완료하는 응답을 작성하세요.\n",
      "\n",
      "### 명령어:\n",
      "COVID-19가 2008년의 금융 위기에 어떻게 영향을 주었나요?\n",
      "\n",
      "### 입력:\n",
      "2020년과 2021년에는 약 4조 4천억 달러, 즉 2021년 국내 총생산 (GDP) 의 18% 에 달하는 막대한 QE와 2021년 GDP의 약 5조 달러, 즉 21% 에 달하는 막대한 재정 부양책 (지금까지도 인플레이션일 것입니다) 이 시장을 안정시켰고 기업들은 막대한 자본을 조달할 수 있었습니다.또한 이러한 자본 투입을 통해 많은 중소기업을 구했고 소비자에게는 2조 5천억 달러 이상을, 주 및 지방 금고에 거의 1조 달러를 투자했습니다.이러한 조치로 인해 실업률이 20개월 만에 15% 에서 4% 미만으로 급격히 감소했습니다. 그 규모와 속도는 전례 없는 일이었습니다.또한 델타와 오미크론 변종의 출현과 글로벌 공급망 부족에도 불구하고 2021년 경제는 7% 성장했습니다. 이는 주로 소비자 지출의 급격한 증가와 해당 지출의 서비스에서 상품으로의 전환에 힘입은 것입니다.다행히 이 2년 동안 COVID-19 백신도 빠르게 개발되어 배포되었습니다.\n",
      "오늘날 경제에서 소비자들은 (평균적으로) 우수한 재무 상태를 유지하고 있으며, 레버리지는 사상 최저 수준이며, 주택 가격 상승이 있었음에도 불구하고 우수한 모기지 인수, 임금 인상으로 인한 많은 일자리 및 2조 달러 이상의 초과 저축을 이루고 있습니다. 이는 주로 정부 경기 부양책으로 인한 것입니다.대부분의 소비자와 기업 (및 주) 은 2020년과 2021년에 창출된 자금으로 여전히 넘쳐나고 있으며, 지난 몇 개월 동안의 소비자 지출은 COVID-19 이전 수준보다 12% 높습니다.(그러나 우리는 저소득 가구의 계좌 잔고가 처음에는 규모가 작을수록 더 빠르게 감소하고 있으며 해당 가구의 소득이 인플레이션 상승에 보조를 맞추지 못하고 있다는 점을 인식해야 합니다.)\n",
      "오늘날의 경제 상황은 2008년 금융 위기와 완전히 달라졌습니다. 은행과 투자 은행에서부터 섀도우 뱅크, 헤지 펀드, 사모펀드, 패니 매 (Fannie Mae) 및 기타 여러 기업에 이르기까지 금융 시스템 전체가 그랬듯이 소비자가 과도하게 레버리지를 받았을 때였습니다.또한 주택 담보 대출 제도의 부실 인수 및 레버리지로 인한 주택 가격 상승은 과도한 투기로 이어져 거의 모든 사람이 이를 놓쳤고 결국 거의 1조 달러에 가까운 실제 손실을 초래했습니다.\n",
      "\n",
      "### 응답:\n",
      "\n"
     ]
    }
   ],
   "source": [
    "q = \"COVID-19가 2008년의 금융 위기에 어떻게 영향을 주었나요?\"\n",
    "c = \"\"\"2020년과 2021년에는 약 4조 4천억 달러, 즉 2021년 국내 총생산 (GDP) 의 18% 에 달하는 막대한 QE와 2021년 GDP의 약 5조 달러, 즉 21% 에 달하는 막대한 재정 부양책 (지금까지도 인플레이션일 것입니다) 이 시장을 안정시켰고 기업들은 막대한 자본을 조달할 수 있었습니다.또한 이러한 자본 투입을 통해 많은 중소기업을 구했고 소비자에게는 2조 5천억 달러 이상을, 주 및 지방 금고에 거의 1조 달러를 투자했습니다.이러한 조치로 인해 실업률이 20개월 만에 15% 에서 4% 미만으로 급격히 감소했습니다. 그 규모와 속도는 전례 없는 일이었습니다.또한 델타와 오미크론 변종의 출현과 글로벌 공급망 부족에도 불구하고 2021년 경제는 7% 성장했습니다. 이는 주로 소비자 지출의 급격한 증가와 해당 지출의 서비스에서 상품으로의 전환에 힘입은 것입니다.다행히 이 2년 동안 COVID-19 백신도 빠르게 개발되어 배포되었습니다.\n",
    "오늘날 경제에서 소비자들은 (평균적으로) 우수한 재무 상태를 유지하고 있으며, 레버리지는 사상 최저 수준이며, 주택 가격 상승이 있었음에도 불구하고 우수한 모기지 인수, 임금 인상으로 인한 많은 일자리 및 2조 달러 이상의 초과 저축을 이루고 있습니다. 이는 주로 정부 경기 부양책으로 인한 것입니다.대부분의 소비자와 기업 (및 주) 은 2020년과 2021년에 창출된 자금으로 여전히 넘쳐나고 있으며, 지난 몇 개월 동안의 소비자 지출은 COVID-19 이전 수준보다 12% 높습니다.(그러나 우리는 저소득 가구의 계좌 잔고가 처음에는 규모가 작을수록 더 빠르게 감소하고 있으며 해당 가구의 소득이 인플레이션 상승에 보조를 맞추지 못하고 있다는 점을 인식해야 합니다.)\n",
    "오늘날의 경제 상황은 2008년 금융 위기와 완전히 달라졌습니다. 은행과 투자 은행에서부터 섀도우 뱅크, 헤지 펀드, 사모펀드, 패니 매 (Fannie Mae) 및 기타 여러 기업에 이르기까지 금융 시스템 전체가 그랬듯이 소비자가 과도하게 레버리지를 받았을 때였습니다.또한 주택 담보 대출 제도의 부실 인수 및 레버리지로 인한 주택 가격 상승은 과도한 투기로 이어져 거의 모든 사람이 이를 놓쳤고 결국 거의 1조 달러에 가까운 실제 손실을 초래했습니다.\"\"\"\n",
    "prompt_w_c = prompter.generate_prompt(q, c)\n",
    "data = {\n",
    "    \"prompt\": [prompt_w_c,],\n",
    "    \"params\": params\n",
    "}\n",
    "print(\"prompt_w_c:\\n\", prompt_w_c)"
   ]
  },
  {
   "cell_type": "code",
   "execution_count": 112,
   "id": "a0dfe970-201c-40cf-9362-47bb323130c9",
   "metadata": {
    "tags": []
   },
   "outputs": [
    {
     "name": "stdout",
     "output_type": "stream",
     "text": [
      "[\n",
      "  [\n",
      "    {\n",
      "      \"generated_text\":\"2008년의 금융 위기는 소비자들이 과도한 레버리지를 받고, 주택 가격이 급등하여 과도한 투기로 이어진 결과였습니다. 이로 인해 많은 소비자들이 주택을 구입하거나 유지하기에 충분한 돈을 모으지 못한 채 대출을 받아야 했습니다. 또한, 금융 기관들은 주택 담보 대출을 무분별하게 확대하여 주택 가격이 더욱 상승하도록 만들었습니다. 그러나 코로나19 팬데믹 이후, 소비자들은 안정적인 재무 상태를 유지했으며, 레버리지는 사상 최저치를 기록했습니다. 또한, 소비자들은 임금 인상으로 인해 많은 일자리를 얻었고, 저축액도 크게 증가했습니다. 이러한 변화로 인해 경제는 빠르게 회복되었지만, 저소득 가구의 계좌 잔고는 처음에는 규모가 작을수록 더 빠르게 감소하는 경향이 있었습니다.\"\n",
      "    }\n",
      "  ]\n",
      "]\n",
      "CPU times: user 12.9 ms, sys: 127 µs, total: 13 ms\n",
      "Wall time: 10.6 s\n"
     ]
    },
    {
     "data": {
      "text/plain": [
       "'[\\n  [\\n    {\\n      \"generated_text\":\"2008년의 금융 위기는 소비자들이 과도한 레버리지를 받고, 주택 가격이 급등하여 과도한 투기로 이어진 결과였습니다. 이로 인해 많은 소비자들이 주택을 구입하거나 유지하기에 충분한 돈을 모으지 못한 채 대출을 받아야 했습니다. 또한, 금융 기관들은 주택 담보 대출을 무분별하게 확대하여 주택 가격이 더욱 상승하도록 만들었습니다. 그러나 코로나19 팬데믹 이후, 소비자들은 안정적인 재무 상태를 유지했으며, 레버리지는 사상 최저치를 기록했습니다. 또한, 소비자들은 임금 인상으로 인해 많은 일자리를 얻었고, 저축액도 크게 증가했습니다. 이러한 변화로 인해 경제는 빠르게 회복되었지만, 저소득 가구의 계좌 잔고는 처음에는 규모가 작을수록 더 빠르게 감소하는 경향이 있었습니다.\"\\n    }\\n  ]\\n]'"
      ]
     },
     "execution_count": 112,
     "metadata": {},
     "output_type": "execute_result"
    }
   ],
   "source": [
    "%%time \n",
    "invoke_inference_DJ(endpoint_name, data)"
   ]
  },
  {
   "cell_type": "markdown",
   "id": "92e83c91",
   "metadata": {},
   "source": [
    "# 7. [중요] 클린업 엔트포인트 "
   ]
  },
  {
   "cell_type": "code",
   "execution_count": 55,
   "id": "a15980a3",
   "metadata": {
    "tags": []
   },
   "outputs": [],
   "source": [
    "# sm_client.delete_endpoint(EndpointName=endpoint_name)\n",
    "# sm_client.delete_endpoint_config(EndpointConfigName=endpoint_config_name)\n",
    "# sm_client.delete_model(ModelName=model_name)"
   ]
  },
  {
   "cell_type": "code",
   "execution_count": 22,
   "id": "c7ca877d-400d-467f-8501-976b94e015cb",
   "metadata": {},
   "outputs": [],
   "source": [
    "from inference_lib import Prompter\n",
    "prompter = Prompter(\"kullm\")"
   ]
  },
  {
   "cell_type": "code",
   "execution_count": 23,
   "id": "c0d06b7b-8997-4025-bada-793b1e33c7fa",
   "metadata": {},
   "outputs": [],
   "source": [
    "instruction = \"홈플러스 중계점은 몇시까지 장사해?\"\n",
    "input_text = \"홈플러스 영업시간은 오전 10시 부터 오후 10시까지 입니다. 홈플러스 매장 찾기(영업시간 확인)는 이 주소를 이용하세요:  http://corporate.homeplus.co.kr/Store.aspx?isA=%C1%F6%BF%B4%C7%B0%BF%AE%C0%C7%C1%F2%B5%B5%B4%F6 \"\n",
    "\n",
    "prompt = prompter.generate_prompt(instruction, input_text)"
   ]
  },
  {
   "cell_type": "code",
   "execution_count": 24,
   "id": "ea36d228-5cf2-4ed5-95a7-88b65a3553d4",
   "metadata": {
    "tags": []
   },
   "outputs": [
    {
     "data": {
      "text/plain": [
       "'아래는 작업을 설명하는 명령어와 추가 컨텍스트를 제공하는 입력이 짝을 이루는 예제입니다. 요청을 적절히 완료하는 응답을 작성하세요.\\n\\n### 명령어:\\n홈플러스 중계점은 몇시까지 장사해?\\n\\n### 입력:\\n홈플러스 영업시간은 오전 10시 부터 오후 10시까지 입니다. 홈플러스 매장 찾기(영업시간 확인)는 이 주소를 이용하세요:  http://corporate.homeplus.co.kr/Store.aspx?isA=%C1%F6%BF%B4%C7%B0%BF%AE%C0%C7%C1%F2%B5%B5%B4%F6 \\n\\n### 응답:\\n'"
      ]
     },
     "execution_count": 24,
     "metadata": {},
     "output_type": "execute_result"
    }
   ],
   "source": [
    "prompt"
   ]
  },
  {
   "cell_type": "code",
   "execution_count": null,
   "id": "4c4be95e-f51d-424a-b2f6-03f296470990",
   "metadata": {},
   "outputs": [],
   "source": []
  }
 ],
 "metadata": {
  "kernelspec": {
   "display_name": "conda_pytorch_p39",
   "language": "python",
   "name": "conda_pytorch_p39"
  },
  "language_info": {
   "codemirror_mode": {
    "name": "ipython",
    "version": 3
   },
   "file_extension": ".py",
   "mimetype": "text/x-python",
   "name": "python",
   "nbconvert_exporter": "python",
   "pygments_lexer": "ipython3",
   "version": "3.9.15"
  },
  "vscode": {
   "interpreter": {
    "hash": "31f2aee4e71d21fbe5cf8b01ff0e069b9275f58929596ceb00d14d90e3e16cd6"
   }
  }
 },
 "nbformat": 4,
 "nbformat_minor": 5
}
