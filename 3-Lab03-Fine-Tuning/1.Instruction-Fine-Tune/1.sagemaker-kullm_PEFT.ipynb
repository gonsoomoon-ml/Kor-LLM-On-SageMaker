{
 "cells": [
  {
   "cell_type": "markdown",
   "metadata": {
    "tags": []
   },
   "source": [
    "# SageMaker 에서 한국어 모델 LoRA 파인튜닝\n",
    "\n",
    "---\n",
    "\n",
    "## 이 노트북은 SageMaker Studio Notebook PyTorch 1.13 Python 3.9 docker image 와 ml.t3.medium 에서 테스트 되었습니다. :\n",
    "### 참조 자료:\n",
    "- 파인튜닝 fine-tuning 😎 내 데이터로 학습해보자 - 스탠포드 알파카 Stanford Alpaca 코드분석 (feat, LLaMa + GPT3.5 vs ChatGPT)\n",
    "    - https://www.youtube.com/watch?v=u2tQYgrLouo\n",
    "- stanford_alpaca\n",
    "    - https://github.com/tatsu-lab/stanford...\n",
    "- alpaca-lora\n",
    "    - https://github.com/tloen/alpaca-lora"
   ]
  },
  {
   "cell_type": "markdown",
   "metadata": {
    "tags": []
   },
   "source": [
    "- Quick intro: PEFT or Parameter Efficient Fine-tuning\n",
    "    - [PEFT](https://github.com/huggingface/peft), or Parameter Efficient Fine-tuning, is a new open-source library from Hugging Face to enable efficient adaptation of pre-trained language models (PLMs) to various downstream applications without fine-tuning all the model's parameters. PEFT currently includes techniques for:\n",
    "- LoRA: [LORA: LOW-RANK ADAPTATION OF LARGE LANGUAGE MODELS](https://arxiv.org/pdf/2106.09685.pdf)\n",
    "- Prefix Tuning: [P-Tuning v2: Prompt Tuning Can Be Comparable to Fine-tuning Universally Across Scales and Tasks](https://arxiv.org/pdf/2110.07602.pdf)\n",
    "- P-Tuning: [GPT Understands, Too](https://arxiv.org/pdf/2103.10385.pdf)\n",
    "- Prompt Tuning: [The Power of Scale for Parameter-Efficient Prompt Tuning](https://arxiv.org/pdf/2104.08691.pdf)\n"
   ]
  },
  {
   "cell_type": "markdown",
   "metadata": {},
   "source": [
    "# 1. 기본 환경 설정"
   ]
  },
  {
   "cell_type": "code",
   "execution_count": 1,
   "metadata": {
    "tags": []
   },
   "outputs": [],
   "source": [
    "# is_first_time = True\n",
    "is_first_time = False\n",
    "if is_first_time:\n",
    "    !pip install \"transformers==4.26.0\" \"datasets[s3]==2.9.0\" sagemaker py7zr --upgrade --quiet"
   ]
  },
  {
   "cell_type": "code",
   "execution_count": 3,
   "metadata": {
    "tags": []
   },
   "outputs": [],
   "source": [
    "%load_ext autoreload\n",
    "%autoreload 2\n",
    "\n",
    "# src 폴더 경로 설정\n",
    "import sys\n",
    "sys.path.append('../../common_code')"
   ]
  },
  {
   "cell_type": "markdown",
   "metadata": {},
   "source": [
    "If you are going to use Sagemaker in a local environment. You need access to an IAM Role with the required permissions for Sagemaker. You can find [here](https://docs.aws.amazon.com/sagemaker/latest/dg/sagemaker-roles.html) more about it.\n",
    "\n"
   ]
  },
  {
   "cell_type": "code",
   "execution_count": 4,
   "metadata": {
    "tags": []
   },
   "outputs": [
    {
     "name": "stdout",
     "output_type": "stream",
     "text": [
      "sagemaker role arn: arn:aws:iam::057716757052:role/gen_ai_gsmoon\n",
      "sagemaker bucket: sagemaker-us-east-1-057716757052\n",
      "sagemaker session region: us-east-1\n",
      "bucket: sagemaker-us-east-1-057716757052\n"
     ]
    }
   ],
   "source": [
    "import sagemaker\n",
    "import boto3\n",
    "sess = sagemaker.Session()\n",
    "# sagemaker session bucket -> used for uploading data, models and logs\n",
    "# sagemaker will automatically create this bucket if it not exists\n",
    "sagemaker_session_bucket=None\n",
    "if sagemaker_session_bucket is None and sess is not None:\n",
    "    # set to default bucket if a bucket name is not given\n",
    "    sagemaker_session_bucket = sess.default_bucket()\n",
    "\n",
    "try:\n",
    "    role = sagemaker.get_execution_role()\n",
    "except ValueError:\n",
    "    iam = boto3.client('iam')\n",
    "    role = iam.get_role(RoleName='sagemaker_execution_role')['Role']['Arn']\n",
    "\n",
    "sess = sagemaker.Session(default_bucket=sagemaker_session_bucket)\n",
    "\n",
    "\n",
    "print(f\"sagemaker role arn: {role}\")\n",
    "print(f\"sagemaker bucket: {sess.default_bucket()}\")\n",
    "print(f\"sagemaker session region: {sess.boto_region_name}\")\n",
    "print(f\"bucket: {sagemaker_session_bucket}\")\n"
   ]
  },
  {
   "cell_type": "markdown",
   "metadata": {},
   "source": [
    "# 2. LLM 모델 지정"
   ]
  },
  {
   "cell_type": "code",
   "execution_count": 5,
   "metadata": {
    "tags": []
   },
   "outputs": [
    {
     "name": "stdout",
     "output_type": "stream",
     "text": [
      "model_name:  kullm-polyglot-12\n"
     ]
    }
   ],
   "source": [
    "model_id = \"nlpai-lab/kullm-polyglot-12.8b-v2\"\n",
    "model_name = model_id.split('/')[1]\n",
    "model_name = model_name.split('.')[0]\n",
    "print(\"model_name: \", model_name)"
   ]
  },
  {
   "cell_type": "markdown",
   "metadata": {
    "tags": []
   },
   "source": [
    "# 3. 데이터 세트 로딩\n"
   ]
  },
  {
   "cell_type": "code",
   "execution_count": 6,
   "metadata": {
    "tags": []
   },
   "outputs": [
    {
     "name": "stderr",
     "output_type": "stream",
     "text": [
      "/opt/conda/lib/python3.9/site-packages/tqdm/auto.py:22: TqdmWarning: IProgress not found. Please update jupyter and ipywidgets. See https://ipywidgets.readthedocs.io/en/stable/user_install.html\n",
      "  from .autonotebook import tqdm as notebook_tqdm\n"
     ]
    },
    {
     "name": "stdout",
     "output_type": "stream",
     "text": [
      "Existing data is used\n",
      "data_file_path:  ../../Data/ko_alpaca_data.json\n",
      "train_end:  49123\n"
     ]
    }
   ],
   "source": [
    "from scripts.KoAlpacaData import KoAlpacaData\n",
    "\n",
    "dataset_name = 'ko-alpaca-data'\n",
    "download_folder = \"../../Data\"\n",
    "\n",
    "# KoAlpacaDataset = KoAlpacaData(download_folder)\n",
    "KoAlpacaDataset = KoAlpacaData(download_folder, split_rate = 0.99, is_download=False)"
   ]
  },
  {
   "cell_type": "code",
   "execution_count": 7,
   "metadata": {
    "tags": []
   },
   "outputs": [],
   "source": [
    "def sample_dataset(dataset, sample_size, sample_json_file):\n",
    "    sample_json_file = f\"{download_folder}/ko_alpaca_data_train_sample.json\"\n",
    "    dataset = KoAlpacaDataset.sample_dataset(dataset, sample_size, train_sample_json_file)\n",
    "    return dataset\n"
   ]
  },
  {
   "cell_type": "code",
   "execution_count": 8,
   "metadata": {
    "tags": []
   },
   "outputs": [
    {
     "name": "stderr",
     "output_type": "stream",
     "text": [
      "Using custom data configuration default-6dacbb2d1f9be5fe\n"
     ]
    },
    {
     "name": "stdout",
     "output_type": "stream",
     "text": [
      "Size of sample dataset:  49685\n",
      "Downloading and preparing dataset json/default to /root/.cache/huggingface/datasets/json/default-6dacbb2d1f9be5fe/0.0.0/0f7e3662623656454fcd2b650f34e886a7db4b9104504885bd462096cc7a9f51...\n"
     ]
    },
    {
     "name": "stderr",
     "output_type": "stream",
     "text": [
      "Downloading data files: 100%|██████████| 1/1 [00:00<00:00, 255.00it/s]\n",
      "Extracting data files: 100%|██████████| 1/1 [00:00<00:00, 65.52it/s]\n",
      "                                                        \r"
     ]
    },
    {
     "name": "stdout",
     "output_type": "stream",
     "text": [
      "Dataset json downloaded and prepared to /root/.cache/huggingface/datasets/json/default-6dacbb2d1f9be5fe/0.0.0/0f7e3662623656454fcd2b650f34e886a7db4b9104504885bd462096cc7a9f51. Subsequent calls will reuse this data.\n"
     ]
    }
   ],
   "source": [
    "\n",
    "train_dataset = KoAlpacaDataset.train_dataset\n",
    "len(train_dataset)\n",
    "\n",
    "sample_size = 100    \n",
    "train_sample_json_file = f\"{download_folder}/ko_alpaca_data_train_sample.json\"\n",
    "sample_train_dataset = sample_dataset(train_dataset, sample_size, train_sample_json_file)"
   ]
  },
  {
   "cell_type": "markdown",
   "metadata": {
    "tags": []
   },
   "source": [
    "# 4. 훈련 데이터 셋 준비"
   ]
  },
  {
   "cell_type": "code",
   "execution_count": 9,
   "metadata": {
    "tags": []
   },
   "outputs": [],
   "source": [
    "from transformers import AutoTokenizer\n",
    "\n",
    "\n",
    "tokenizer = AutoTokenizer.from_pretrained(model_id)\n",
    "tokenizer.model_max_length = 2048 # overwrite wrong value"
   ]
  },
  {
   "cell_type": "markdown",
   "metadata": {},
   "source": [
    "### 데이터 세트 템플릿 정의"
   ]
  },
  {
   "cell_type": "code",
   "execution_count": 10,
   "metadata": {
    "tags": []
   },
   "outputs": [
    {
     "data": {
      "text/plain": [
       "0"
      ]
     },
     "execution_count": 10,
     "metadata": {},
     "output_type": "execute_result"
    }
   ],
   "source": [
    "import os\n",
    "os.system(\"mkdir -p templates\")"
   ]
  },
  {
   "cell_type": "code",
   "execution_count": 11,
   "metadata": {
    "tags": []
   },
   "outputs": [
    {
     "data": {
      "text/plain": [
       "'다읨의 질문에 답변을 하세요:\\n{question}\\n---\\n답변:\\n{answer}{eos_token}'"
      ]
     },
     "execution_count": 11,
     "metadata": {},
     "output_type": "execute_result"
    }
   ],
   "source": [
    "import json\n",
    "\n",
    "prompt_template = f\"다읨의 질문에 답변을 하세요:\\n{{question}}\\n---\\n답변:\\n{{answer}}{{eos_token}}\"\n",
    "prompt_template"
   ]
  },
  {
   "cell_type": "markdown",
   "metadata": {
    "tags": []
   },
   "source": [
    "### 데이터 세트를 템플릿 형태로 생성"
   ]
  },
  {
   "cell_type": "code",
   "execution_count": 17,
   "metadata": {
    "tags": []
   },
   "outputs": [
    {
     "name": "stderr",
     "output_type": "stream",
     "text": [
      "100%|██████████| 100/100 [00:00<00:00, 4154.59ex/s]\n"
     ]
    }
   ],
   "source": [
    "from random import randint\n",
    "from itertools import chain\n",
    "from functools import partial\n",
    "\n",
    "\n",
    "# custom instruct prompt start\n",
    "# prompt_template = f\"Summarize the chat dialogue:\\n{{dialogue}}\\n---\\nSummary:\\n{{summary}}{{eos_token}}\"\n",
    "\n",
    "# template dataset to add prompt to each sample\n",
    "def template_dataset(sample):\n",
    "    sample[\"text\"] = prompt_template.format(question=sample[\"instruction\"],\n",
    "                                            answer=sample[\"output\"],\n",
    "                                            eos_token=tokenizer.eos_token)\n",
    "    return sample\n",
    "\n",
    "prompt_dataset = sample_train_dataset.map(template_dataset, \n",
    "                                          remove_columns=list(sample_train_dataset.features))\n",
    "# prompt_dataset = prompt_dataset['train']"
   ]
  },
  {
   "cell_type": "code",
   "execution_count": 18,
   "metadata": {
    "tags": []
   },
   "outputs": [
    {
     "name": "stdout",
     "output_type": "stream",
     "text": [
      "다읨의 질문에 답변을 하세요:\n",
      "물의 끓는점을 찾아보세요.\n",
      "---\n",
      "답변:\n",
      "물의 끓는점은 약 100도입니다. 그러나 물의 끓는점은 해발 고도와 같은 외부 요인에 의해 변할 수 있습니다.<|endoftext|>\n"
     ]
    }
   ],
   "source": [
    "print(prompt_dataset[randint(0, len(prompt_dataset))][\"text\"])"
   ]
  },
  {
   "cell_type": "markdown",
   "metadata": {},
   "source": [
    "### 데이터 세트를 Transformer 입력 형태로 인코딩"
   ]
  },
  {
   "cell_type": "code",
   "execution_count": 19,
   "metadata": {
    "tags": []
   },
   "outputs": [],
   "source": [
    "# apply prompt template per sample\n",
    "\n",
    "# empty list to save remainder from batches to use in next batch\n",
    "remainder = {\"input_ids\": [], \"attention_mask\": []}\n",
    "\n",
    "\n",
    "def chunk(sample, chunk_length=2048):\n",
    "    # define global remainder variable to save remainder from batches to use in next batch\n",
    "    global remainder\n",
    "    # Concatenate all texts and add remainder from previous batch\n",
    "    concatenated_examples = {k: list(chain(*sample[k])) for k in sample.keys()}\n",
    "    concatenated_examples = {k: remainder[k] + concatenated_examples[k] for k in concatenated_examples.keys()}\n",
    "    \n",
    "    # get total number of tokens for batch\n",
    "    batch_total_length = len(concatenated_examples[list(sample.keys())[0]])\n",
    "\n",
    "    # get max number of chunks for batch\n",
    "    if batch_total_length >= chunk_length:\n",
    "        batch_chunk_length = (batch_total_length // chunk_length) * chunk_length\n",
    "\n",
    "    # Split by chunks of max_len.\n",
    "    result = {\n",
    "        k: [t[i : i + chunk_length] for i in range(0, batch_chunk_length, chunk_length)]\n",
    "        for k, t in concatenated_examples.items()\n",
    "    }\n",
    "    # add remainder to global variable for next batch\n",
    "    remainder = {k: concatenated_examples[k][batch_chunk_length:] for k in concatenated_examples.keys()}\n",
    "    # prepare labels\n",
    "    result[\"labels\"] = result[\"input_ids\"].copy()\n",
    "    return result\n"
   ]
  },
  {
   "cell_type": "code",
   "execution_count": 20,
   "metadata": {
    "tags": []
   },
   "outputs": [
    {
     "name": "stderr",
     "output_type": "stream",
     "text": [
      "100%|██████████| 1/1 [00:00<00:00, 17.73ba/s]\n",
      "100%|██████████| 1/1 [00:00<00:00, 29.23ba/s]\n"
     ]
    },
    {
     "data": {
      "text/plain": [
       "Dataset({\n",
       "    features: ['input_ids', 'attention_mask', 'labels'],\n",
       "    num_rows: 4\n",
       "})"
      ]
     },
     "execution_count": 20,
     "metadata": {},
     "output_type": "execute_result"
    }
   ],
   "source": [
    "# tokenize and chunk dataset\n",
    "lm_dataset = prompt_dataset.map(\n",
    "    lambda sample: tokenizer(sample[\"text\"], return_token_type_ids=False), batched=True, remove_columns=list(prompt_dataset.features)\n",
    ").map(\n",
    "    partial(chunk, chunk_length=1536),\n",
    "    batched=True,\n",
    ")\n",
    "lm_dataset"
   ]
  },
  {
   "cell_type": "markdown",
   "metadata": {},
   "source": [
    "### 인코딩 데이터 세트를 S3 에 업로딩"
   ]
  },
  {
   "cell_type": "code",
   "execution_count": 21,
   "metadata": {
    "tags": []
   },
   "outputs": [
    {
     "name": "stdout",
     "output_type": "stream",
     "text": [
      "training dataset to: \n",
      " s3://sagemaker-us-east-1-057716757052/LLM/instructon_data/KoAlpaca/train\n"
     ]
    }
   ],
   "source": [
    "bucket_prefix = f'LLM/instructon_data/KoAlpaca/train'\n",
    "training_input_path = f's3://{sagemaker_session_bucket}/{bucket_prefix}'\n",
    "print(f\"training dataset to: \\n {training_input_path}\")"
   ]
  },
  {
   "cell_type": "code",
   "execution_count": 22,
   "metadata": {
    "tags": []
   },
   "outputs": [
    {
     "name": "stderr",
     "output_type": "stream",
     "text": [
      "                                                                                     "
     ]
    },
    {
     "name": "stdout",
     "output_type": "stream",
     "text": [
      "uploaded data to: s3://sagemaker-us-east-1-057716757052/LLM/instructon_data/KoAlpaca/train\n"
     ]
    },
    {
     "name": "stderr",
     "output_type": "stream",
     "text": [
      "\r"
     ]
    }
   ],
   "source": [
    "# save train_dataset to s3\n",
    "\n",
    "lm_dataset.save_to_disk(training_input_path)\n",
    "\n",
    "print(f\"uploaded data to: {training_input_path}\")\n"
   ]
  },
  {
   "cell_type": "markdown",
   "metadata": {
    "tags": []
   },
   "source": [
    "# 5. LoRA and bnb int-8 파인 튜닝\n",
    "\n"
   ]
  },
  {
   "cell_type": "code",
   "execution_count": 23,
   "metadata": {
    "tags": []
   },
   "outputs": [
    {
     "name": "stdout",
     "output_type": "stream",
     "text": [
      "training job_name:  kullm-polyglot-12-ko-alpaca-data-2023-08-04-00-27-13\n"
     ]
    }
   ],
   "source": [
    "import time\n",
    "# define Training Job Name \n",
    "job_name = f'{model_name}-{dataset_name}-{time.strftime(\"%Y-%m-%d-%H-%M-%S\", time.localtime())}'\n",
    "print(\"training job_name: \", job_name)\n",
    "\n",
    "from sagemaker.huggingface import HuggingFace\n",
    "\n",
    "# hyperparameters, which are passed into the training job\n",
    "hyperparameters ={\n",
    "  'model_id': model_id,                                # pre-trained model\n",
    "  'dataset_path': '/opt/ml/input/data/training', # path where sagemaker will save training dataset\n",
    "  'epochs': 1,                                         # number of training epochs\n",
    "  'per_device_train_batch_size': 1,                    # batch size for training\n",
    "  'lr': 2e-4,                                          # learning rate used during training\n",
    "}\n",
    "\n",
    "# create the Estimator\n",
    "huggingface_estimator = HuggingFace(\n",
    "    entry_point          = 'run_clm.py',      # train script\n",
    "    source_dir           = 'scripts',         # directory which includes all the files needed for training\n",
    "    instance_type        = 'ml.g5.2xlarge', # instances type used for the training job\n",
    "#    instance_type        = 'ml.p4d.24xlarge', # instances type used for the training job    \n",
    "    instance_count       = 1,                 # the number of instances used for training\n",
    "    base_job_name        = job_name,          # the name of the training job\n",
    "    role                 = role,              # Iam role used in training job to access AWS ressources, e.g. S3\n",
    "    volume_size          = 300,               # the size of the EBS volume in GB\n",
    "    transformers_version = '4.26',            # the transformers version used in the training job\n",
    "    pytorch_version      = '1.13',            # the pytorch_version version used in the training job\n",
    "    py_version           = 'py39',            # the python version used in the training job\n",
    "    hyperparameters      =  hyperparameters\n",
    ")"
   ]
  },
  {
   "cell_type": "code",
   "execution_count": 24,
   "metadata": {
    "scrolled": true,
    "tags": []
   },
   "outputs": [
    {
     "name": "stderr",
     "output_type": "stream",
     "text": [
      "INFO:sagemaker.image_uris:image_uri is not presented, retrieving image_uri based on instance_type, framework etc.\n",
      "INFO:sagemaker:Creating training-job with name: kullm-polyglot-12-ko-alpaca-data-2023-0-2023-08-04-00-27-15-901\n"
     ]
    },
    {
     "name": "stdout",
     "output_type": "stream",
     "text": [
      "Using provided s3_resource\n"
     ]
    }
   ],
   "source": [
    "# define a data input dictonary with our uploaded s3 uris\n",
    "data = {'training': training_input_path}\n",
    "\n",
    "# starting the train job with our uploaded datasets as input\n",
    "huggingface_estimator.fit(data, wait=False)"
   ]
  },
  {
   "cell_type": "code",
   "execution_count": 25,
   "metadata": {
    "tags": []
   },
   "outputs": [
    {
     "name": "stdout",
     "output_type": "stream",
     "text": [
      "training_job_name: \n",
      " kullm-polyglot-12-ko-alpaca-data-2023-0-2023-08-04-00-27-15-901\n"
     ]
    }
   ],
   "source": [
    "training_job_name = huggingface_estimator.latest_training_job.job_name\n",
    "print(\"training_job_name: \\n\", training_job_name)"
   ]
  },
  {
   "cell_type": "code",
   "execution_count": 26,
   "metadata": {
    "collapsed": true,
    "jupyter": {
     "outputs_hidden": true
    },
    "scrolled": true,
    "tags": []
   },
   "outputs": [
    {
     "name": "stdout",
     "output_type": "stream",
     "text": [
      "2023-08-04 00:27:16 Starting - Starting the training job...\n",
      "2023-08-04 00:27:32 Starting - Preparing the instances for training......\n",
      "2023-08-04 00:28:36 Downloading - Downloading input data...\n",
      "2023-08-04 00:28:56 Training - Downloading the training image..................\n",
      "2023-08-04 00:32:13 Training - Training image download completed. Training in progress....\u001b[34mbash: cannot set terminal process group (-1): Inappropriate ioctl for device\u001b[0m\n",
      "\u001b[34mbash: no job control in this shell\u001b[0m\n",
      "\u001b[34m2023-08-04 00:32:45,196 sagemaker-training-toolkit INFO     Imported framework sagemaker_pytorch_container.training\u001b[0m\n",
      "\u001b[34m2023-08-04 00:32:45,210 sagemaker-training-toolkit INFO     No Neurons detected (normal if no neurons installed)\u001b[0m\n",
      "\u001b[34m2023-08-04 00:32:45,220 sagemaker_pytorch_container.training INFO     Block until all host DNS lookups succeed.\u001b[0m\n",
      "\u001b[34m2023-08-04 00:32:45,222 sagemaker_pytorch_container.training INFO     Invoking user training script.\u001b[0m\n",
      "\u001b[34m2023-08-04 00:32:45,424 sagemaker-training-toolkit INFO     Installing dependencies from requirements.txt:\u001b[0m\n",
      "\u001b[34m/opt/conda/bin/python3.9 -m pip install -r requirements.txt\u001b[0m\n",
      "\u001b[34mCollecting peft==0.3.0\u001b[0m\n",
      "\u001b[34mDownloading peft-0.3.0-py3-none-any.whl (56 kB)\u001b[0m\n",
      "\u001b[34m━━━━━━━━━━━━━━━━━━━━━━━━━━━━━━━━━━━━━━━━ 56.8/56.8 kB 4.6 MB/s eta 0:00:00\u001b[0m\n",
      "\u001b[34mCollecting transformers==4.27.1\u001b[0m\n",
      "\u001b[34mDownloading transformers-4.27.1-py3-none-any.whl (6.7 MB)\u001b[0m\n",
      "\u001b[34m━━━━━━━━━━━━━━━━━━━━━━━━━━━━━━━━━━━━━━━━ 6.7/6.7 MB 71.4 MB/s eta 0:00:00\u001b[0m\n",
      "\u001b[34mCollecting accelerate==0.17.1\u001b[0m\n",
      "\u001b[34mDownloading accelerate-0.17.1-py3-none-any.whl (212 kB)\u001b[0m\n",
      "\u001b[34m━━━━━━━━━━━━━━━━━━━━━━━━━━━━━━━━━━━━━━ 212.8/212.8 kB 35.1 MB/s eta 0:00:00\u001b[0m\n",
      "\u001b[34mCollecting bitsandbytes==0.37.1\u001b[0m\n",
      "\u001b[34mDownloading bitsandbytes-0.37.1-py3-none-any.whl (76.3 MB)\u001b[0m\n",
      "\u001b[34m━━━━━━━━━━━━━━━━━━━━━━━━━━━━━━━━━━━━━━━━ 76.3/76.3 MB 29.2 MB/s eta 0:00:00\u001b[0m\n",
      "\u001b[34mRequirement already satisfied: packaging>=20.0 in /opt/conda/lib/python3.9/site-packages (from peft==0.3.0->-r requirements.txt (line 1)) (23.0)\u001b[0m\n",
      "\u001b[34mRequirement already satisfied: pyyaml in /opt/conda/lib/python3.9/site-packages (from peft==0.3.0->-r requirements.txt (line 1)) (5.4.1)\u001b[0m\n",
      "\u001b[34mRequirement already satisfied: psutil in /opt/conda/lib/python3.9/site-packages (from peft==0.3.0->-r requirements.txt (line 1)) (5.9.4)\u001b[0m\n",
      "\u001b[34mRequirement already satisfied: numpy>=1.17 in /opt/conda/lib/python3.9/site-packages (from peft==0.3.0->-r requirements.txt (line 1)) (1.23.5)\u001b[0m\n",
      "\u001b[34mRequirement already satisfied: torch>=1.13.0 in /opt/conda/lib/python3.9/site-packages (from peft==0.3.0->-r requirements.txt (line 1)) (1.13.1+cu117)\u001b[0m\n",
      "\u001b[34mRequirement already satisfied: huggingface-hub<1.0,>=0.11.0 in /opt/conda/lib/python3.9/site-packages (from transformers==4.27.1->-r requirements.txt (line 2)) (0.12.0)\u001b[0m\n",
      "\u001b[34mRequirement already satisfied: filelock in /opt/conda/lib/python3.9/site-packages (from transformers==4.27.1->-r requirements.txt (line 2)) (3.9.0)\u001b[0m\n",
      "\u001b[34mRequirement already satisfied: requests in /opt/conda/lib/python3.9/site-packages (from transformers==4.27.1->-r requirements.txt (line 2)) (2.28.2)\u001b[0m\n",
      "\u001b[34mRequirement already satisfied: tqdm>=4.27 in /opt/conda/lib/python3.9/site-packages (from transformers==4.27.1->-r requirements.txt (line 2)) (4.64.1)\u001b[0m\n",
      "\u001b[34mRequirement already satisfied: tokenizers!=0.11.3,<0.14,>=0.11.1 in /opt/conda/lib/python3.9/site-packages (from transformers==4.27.1->-r requirements.txt (line 2)) (0.13.2)\u001b[0m\n",
      "\u001b[34mRequirement already satisfied: regex!=2019.12.17 in /opt/conda/lib/python3.9/site-packages (from transformers==4.27.1->-r requirements.txt (line 2)) (2022.10.31)\u001b[0m\n",
      "\u001b[34mRequirement already satisfied: typing-extensions>=3.7.4.3 in /opt/conda/lib/python3.9/site-packages (from huggingface-hub<1.0,>=0.11.0->transformers==4.27.1->-r requirements.txt (line 2)) (4.4.0)\u001b[0m\n",
      "\u001b[34mRequirement already satisfied: certifi>=2017.4.17 in /opt/conda/lib/python3.9/site-packages (from requests->transformers==4.27.1->-r requirements.txt (line 2)) (2022.12.7)\u001b[0m\n",
      "\u001b[34mRequirement already satisfied: charset-normalizer<4,>=2 in /opt/conda/lib/python3.9/site-packages (from requests->transformers==4.27.1->-r requirements.txt (line 2)) (2.1.1)\u001b[0m\n",
      "\u001b[34mRequirement already satisfied: idna<4,>=2.5 in /opt/conda/lib/python3.9/site-packages (from requests->transformers==4.27.1->-r requirements.txt (line 2)) (3.4)\u001b[0m\n",
      "\u001b[34mRequirement already satisfied: urllib3<1.27,>=1.21.1 in /opt/conda/lib/python3.9/site-packages (from requests->transformers==4.27.1->-r requirements.txt (line 2)) (1.26.14)\u001b[0m\n",
      "\u001b[34mInstalling collected packages: bitsandbytes, accelerate, transformers, peft\u001b[0m\n",
      "\u001b[34mAttempting uninstall: accelerate\u001b[0m\n",
      "\u001b[34mFound existing installation: accelerate 0.16.0\u001b[0m\n",
      "\u001b[34mUninstalling accelerate-0.16.0:\u001b[0m\n",
      "\u001b[34mSuccessfully uninstalled accelerate-0.16.0\u001b[0m\n",
      "\u001b[34mAttempting uninstall: transformers\u001b[0m\n",
      "\u001b[34mFound existing installation: transformers 4.26.0\u001b[0m\n",
      "\u001b[34mUninstalling transformers-4.26.0:\u001b[0m\n",
      "\u001b[34mSuccessfully uninstalled transformers-4.26.0\u001b[0m\n",
      "\u001b[34mSuccessfully installed accelerate-0.17.1 bitsandbytes-0.37.1 peft-0.3.0 transformers-4.27.1\u001b[0m\n",
      "\u001b[34mWARNING: Running pip as the 'root' user can result in broken permissions and conflicting behaviour with the system package manager. It is recommended to use a virtual environment instead: https://pip.pypa.io/warnings/venv\u001b[0m\n",
      "\u001b[34m[notice] A new release of pip is available: 23.0 -> 23.2.1\u001b[0m\n",
      "\u001b[34m[notice] To update, run: pip install --upgrade pip\u001b[0m\n",
      "\u001b[34m2023-08-04 00:32:55,101 sagemaker-training-toolkit INFO     Waiting for the process to finish and give a return code.\u001b[0m\n",
      "\u001b[34m2023-08-04 00:32:55,101 sagemaker-training-toolkit INFO     Done waiting for a return code. Received 0 from exiting process.\u001b[0m\n",
      "\u001b[34m2023-08-04 00:32:55,118 sagemaker-training-toolkit INFO     No Neurons detected (normal if no neurons installed)\u001b[0m\n",
      "\u001b[34m2023-08-04 00:32:55,143 sagemaker-training-toolkit INFO     No Neurons detected (normal if no neurons installed)\u001b[0m\n",
      "\u001b[34m2023-08-04 00:32:55,169 sagemaker-training-toolkit INFO     No Neurons detected (normal if no neurons installed)\u001b[0m\n",
      "\u001b[34m2023-08-04 00:32:55,179 sagemaker-training-toolkit INFO     Invoking user script\u001b[0m\n",
      "\u001b[34mTraining Env:\u001b[0m\n",
      "\u001b[34m{\n",
      "    \"additional_framework_parameters\": {},\n",
      "    \"channel_input_dirs\": {\n",
      "        \"training\": \"/opt/ml/input/data/training\"\n",
      "    },\n",
      "    \"current_host\": \"algo-1\",\n",
      "    \"current_instance_group\": \"homogeneousCluster\",\n",
      "    \"current_instance_group_hosts\": [\n",
      "        \"algo-1\"\n",
      "    ],\n",
      "    \"current_instance_type\": \"ml.g5.2xlarge\",\n",
      "    \"distribution_hosts\": [],\n",
      "    \"distribution_instance_groups\": [],\n",
      "    \"framework_module\": \"sagemaker_pytorch_container.training:main\",\n",
      "    \"hosts\": [\n",
      "        \"algo-1\"\n",
      "    ],\n",
      "    \"hyperparameters\": {\n",
      "        \"dataset_path\": \"/opt/ml/input/data/training\",\n",
      "        \"epochs\": 1,\n",
      "        \"lr\": 0.0002,\n",
      "        \"model_id\": \"nlpai-lab/kullm-polyglot-12.8b-v2\",\n",
      "        \"per_device_train_batch_size\": 1\n",
      "    },\n",
      "    \"input_config_dir\": \"/opt/ml/input/config\",\n",
      "    \"input_data_config\": {\n",
      "        \"training\": {\n",
      "            \"TrainingInputMode\": \"File\",\n",
      "            \"S3DistributionType\": \"FullyReplicated\",\n",
      "            \"RecordWrapperType\": \"None\"\n",
      "        }\n",
      "    },\n",
      "    \"input_dir\": \"/opt/ml/input\",\n",
      "    \"instance_groups\": [\n",
      "        \"homogeneousCluster\"\n",
      "    ],\n",
      "    \"instance_groups_dict\": {\n",
      "        \"homogeneousCluster\": {\n",
      "            \"instance_group_name\": \"homogeneousCluster\",\n",
      "            \"instance_type\": \"ml.g5.2xlarge\",\n",
      "            \"hosts\": [\n",
      "                \"algo-1\"\n",
      "            ]\n",
      "        }\n",
      "    },\n",
      "    \"is_hetero\": false,\n",
      "    \"is_master\": true,\n",
      "    \"is_modelparallel_enabled\": null,\n",
      "    \"is_smddpmprun_installed\": true,\n",
      "    \"job_name\": \"kullm-polyglot-12-ko-alpaca-data-2023-0-2023-08-04-00-27-15-901\",\n",
      "    \"log_level\": 20,\n",
      "    \"master_hostname\": \"algo-1\",\n",
      "    \"model_dir\": \"/opt/ml/model\",\n",
      "    \"module_dir\": \"s3://sagemaker-us-east-1-057716757052/kullm-polyglot-12-ko-alpaca-data-2023-0-2023-08-04-00-27-15-901/source/sourcedir.tar.gz\",\n",
      "    \"module_name\": \"run_clm\",\n",
      "    \"network_interface_name\": \"eth0\",\n",
      "    \"num_cpus\": 8,\n",
      "    \"num_gpus\": 1,\n",
      "    \"num_neurons\": 0,\n",
      "    \"output_data_dir\": \"/opt/ml/output/data\",\n",
      "    \"output_dir\": \"/opt/ml/output\",\n",
      "    \"output_intermediate_dir\": \"/opt/ml/output/intermediate\",\n",
      "    \"resource_config\": {\n",
      "        \"current_host\": \"algo-1\",\n",
      "        \"current_instance_type\": \"ml.g5.2xlarge\",\n",
      "        \"current_group_name\": \"homogeneousCluster\",\n",
      "        \"hosts\": [\n",
      "            \"algo-1\"\n",
      "        ],\n",
      "        \"instance_groups\": [\n",
      "            {\n",
      "                \"instance_group_name\": \"homogeneousCluster\",\n",
      "                \"instance_type\": \"ml.g5.2xlarge\",\n",
      "                \"hosts\": [\n",
      "                    \"algo-1\"\n",
      "                ]\n",
      "            }\n",
      "        ],\n",
      "        \"network_interface_name\": \"eth0\"\n",
      "    },\n",
      "    \"user_entry_point\": \"run_clm.py\"\u001b[0m\n",
      "\u001b[34m}\u001b[0m\n",
      "\u001b[34mEnvironment variables:\u001b[0m\n",
      "\u001b[34mSM_HOSTS=[\"algo-1\"]\u001b[0m\n",
      "\u001b[34mSM_NETWORK_INTERFACE_NAME=eth0\u001b[0m\n",
      "\u001b[34mSM_HPS={\"dataset_path\":\"/opt/ml/input/data/training\",\"epochs\":1,\"lr\":0.0002,\"model_id\":\"nlpai-lab/kullm-polyglot-12.8b-v2\",\"per_device_train_batch_size\":1}\u001b[0m\n",
      "\u001b[34mSM_USER_ENTRY_POINT=run_clm.py\u001b[0m\n",
      "\u001b[34mSM_FRAMEWORK_PARAMS={}\u001b[0m\n",
      "\u001b[34mSM_RESOURCE_CONFIG={\"current_group_name\":\"homogeneousCluster\",\"current_host\":\"algo-1\",\"current_instance_type\":\"ml.g5.2xlarge\",\"hosts\":[\"algo-1\"],\"instance_groups\":[{\"hosts\":[\"algo-1\"],\"instance_group_name\":\"homogeneousCluster\",\"instance_type\":\"ml.g5.2xlarge\"}],\"network_interface_name\":\"eth0\"}\u001b[0m\n",
      "\u001b[34mSM_INPUT_DATA_CONFIG={\"training\":{\"RecordWrapperType\":\"None\",\"S3DistributionType\":\"FullyReplicated\",\"TrainingInputMode\":\"File\"}}\u001b[0m\n",
      "\u001b[34mSM_OUTPUT_DATA_DIR=/opt/ml/output/data\u001b[0m\n",
      "\u001b[34mSM_CHANNELS=[\"training\"]\u001b[0m\n",
      "\u001b[34mSM_CURRENT_HOST=algo-1\u001b[0m\n",
      "\u001b[34mSM_CURRENT_INSTANCE_TYPE=ml.g5.2xlarge\u001b[0m\n",
      "\u001b[34mSM_CURRENT_INSTANCE_GROUP=homogeneousCluster\u001b[0m\n",
      "\u001b[34mSM_CURRENT_INSTANCE_GROUP_HOSTS=[\"algo-1\"]\u001b[0m\n",
      "\u001b[34mSM_INSTANCE_GROUPS=[\"homogeneousCluster\"]\u001b[0m\n",
      "\u001b[34mSM_INSTANCE_GROUPS_DICT={\"homogeneousCluster\":{\"hosts\":[\"algo-1\"],\"instance_group_name\":\"homogeneousCluster\",\"instance_type\":\"ml.g5.2xlarge\"}}\u001b[0m\n",
      "\u001b[34mSM_DISTRIBUTION_INSTANCE_GROUPS=[]\u001b[0m\n",
      "\u001b[34mSM_IS_HETERO=false\u001b[0m\n",
      "\u001b[34mSM_MODULE_NAME=run_clm\u001b[0m\n",
      "\u001b[34mSM_LOG_LEVEL=20\u001b[0m\n",
      "\u001b[34mSM_FRAMEWORK_MODULE=sagemaker_pytorch_container.training:main\u001b[0m\n",
      "\u001b[34mSM_INPUT_DIR=/opt/ml/input\u001b[0m\n",
      "\u001b[34mSM_INPUT_CONFIG_DIR=/opt/ml/input/config\u001b[0m\n",
      "\u001b[34mSM_OUTPUT_DIR=/opt/ml/output\u001b[0m\n",
      "\u001b[34mSM_NUM_CPUS=8\u001b[0m\n",
      "\u001b[34mSM_NUM_GPUS=1\u001b[0m\n",
      "\u001b[34mSM_NUM_NEURONS=0\u001b[0m\n",
      "\u001b[34mSM_MODEL_DIR=/opt/ml/model\u001b[0m\n",
      "\u001b[34mSM_MODULE_DIR=s3://sagemaker-us-east-1-057716757052/kullm-polyglot-12-ko-alpaca-data-2023-0-2023-08-04-00-27-15-901/source/sourcedir.tar.gz\u001b[0m\n",
      "\u001b[34mSM_TRAINING_ENV={\"additional_framework_parameters\":{},\"channel_input_dirs\":{\"training\":\"/opt/ml/input/data/training\"},\"current_host\":\"algo-1\",\"current_instance_group\":\"homogeneousCluster\",\"current_instance_group_hosts\":[\"algo-1\"],\"current_instance_type\":\"ml.g5.2xlarge\",\"distribution_hosts\":[],\"distribution_instance_groups\":[],\"framework_module\":\"sagemaker_pytorch_container.training:main\",\"hosts\":[\"algo-1\"],\"hyperparameters\":{\"dataset_path\":\"/opt/ml/input/data/training\",\"epochs\":1,\"lr\":0.0002,\"model_id\":\"nlpai-lab/kullm-polyglot-12.8b-v2\",\"per_device_train_batch_size\":1},\"input_config_dir\":\"/opt/ml/input/config\",\"input_data_config\":{\"training\":{\"RecordWrapperType\":\"None\",\"S3DistributionType\":\"FullyReplicated\",\"TrainingInputMode\":\"File\"}},\"input_dir\":\"/opt/ml/input\",\"instance_groups\":[\"homogeneousCluster\"],\"instance_groups_dict\":{\"homogeneousCluster\":{\"hosts\":[\"algo-1\"],\"instance_group_name\":\"homogeneousCluster\",\"instance_type\":\"ml.g5.2xlarge\"}},\"is_hetero\":false,\"is_master\":true,\"is_modelparallel_enabled\":null,\"is_smddpmprun_installed\":true,\"job_name\":\"kullm-polyglot-12-ko-alpaca-data-2023-0-2023-08-04-00-27-15-901\",\"log_level\":20,\"master_hostname\":\"algo-1\",\"model_dir\":\"/opt/ml/model\",\"module_dir\":\"s3://sagemaker-us-east-1-057716757052/kullm-polyglot-12-ko-alpaca-data-2023-0-2023-08-04-00-27-15-901/source/sourcedir.tar.gz\",\"module_name\":\"run_clm\",\"network_interface_name\":\"eth0\",\"num_cpus\":8,\"num_gpus\":1,\"num_neurons\":0,\"output_data_dir\":\"/opt/ml/output/data\",\"output_dir\":\"/opt/ml/output\",\"output_intermediate_dir\":\"/opt/ml/output/intermediate\",\"resource_config\":{\"current_group_name\":\"homogeneousCluster\",\"current_host\":\"algo-1\",\"current_instance_type\":\"ml.g5.2xlarge\",\"hosts\":[\"algo-1\"],\"instance_groups\":[{\"hosts\":[\"algo-1\"],\"instance_group_name\":\"homogeneousCluster\",\"instance_type\":\"ml.g5.2xlarge\"}],\"network_interface_name\":\"eth0\"},\"user_entry_point\":\"run_clm.py\"}\u001b[0m\n",
      "\u001b[34mSM_USER_ARGS=[\"--dataset_path\",\"/opt/ml/input/data/training\",\"--epochs\",\"1\",\"--lr\",\"0.0002\",\"--model_id\",\"nlpai-lab/kullm-polyglot-12.8b-v2\",\"--per_device_train_batch_size\",\"1\"]\u001b[0m\n",
      "\u001b[34mSM_OUTPUT_INTERMEDIATE_DIR=/opt/ml/output/intermediate\u001b[0m\n",
      "\u001b[34mSM_CHANNEL_TRAINING=/opt/ml/input/data/training\u001b[0m\n",
      "\u001b[34mSM_HP_DATASET_PATH=/opt/ml/input/data/training\u001b[0m\n",
      "\u001b[34mSM_HP_EPOCHS=1\u001b[0m\n",
      "\u001b[34mSM_HP_LR=0.0002\u001b[0m\n",
      "\u001b[34mSM_HP_MODEL_ID=nlpai-lab/kullm-polyglot-12.8b-v2\u001b[0m\n",
      "\u001b[34mSM_HP_PER_DEVICE_TRAIN_BATCH_SIZE=1\u001b[0m\n",
      "\u001b[34mPYTHONPATH=/opt/ml/code:/opt/conda/bin:/opt/conda/lib/python39.zip:/opt/conda/lib/python3.9:/opt/conda/lib/python3.9/lib-dynload:/opt/conda/lib/python3.9/site-packages\u001b[0m\n",
      "\u001b[34mInvoking script with the following command:\u001b[0m\n",
      "\u001b[34m/opt/conda/bin/python3.9 run_clm.py --dataset_path /opt/ml/input/data/training --epochs 1 --lr 0.0002 --model_id nlpai-lab/kullm-polyglot-12.8b-v2 --per_device_train_batch_size 1\u001b[0m\n",
      "\u001b[34m[2023-08-04 00:32:56.754: W smdistributed/modelparallel/torch/nn/predefined_hooks.py:78] Found unsupported HuggingFace version 4.27.1 for automated tensor parallelism. HuggingFace modules will not be automatically distributed. You can use smp.tp_register_with_module API to register desired modules for tensor parallelism, or directly instantiate an smp.nn.DistributedModule. Supported HuggingFace transformers versions for automated tensor parallelism: ['4.17.0', '4.20.1', '4.21.0']\u001b[0m\n",
      "\u001b[34m2023-08-04 00:32:56,759 root         INFO     Using NamedTuple = typing._NamedTuple instead.\u001b[0m\n",
      "\u001b[34m2023-08-04 00:32:56,780 sagemaker-training-toolkit INFO     Exceptions not imported for SageMaker TF as Tensorflow is not installed.\u001b[0m\n",
      "\u001b[34m===================================BUG REPORT===================================\u001b[0m\n",
      "\u001b[34mWelcome to bitsandbytes. For bug reports, please submit your error trace to: https://github.com/TimDettmers/bitsandbytes/issues\u001b[0m\n",
      "\u001b[34m================================================================================\u001b[0m\n",
      "\u001b[34m/opt/conda/lib/python3.9/site-packages/bitsandbytes/cuda_setup/main.py:136: UserWarning: WARNING: The following directories listed in your path were found to be non-existent: {PosixPath('/usr/local/nvidia/lib'), PosixPath('/usr/local/nvidia/lib64')}\n",
      "  warn(msg)\u001b[0m\n",
      "\u001b[34m/opt/conda/lib/python3.9/site-packages/bitsandbytes/cuda_setup/main.py:136: UserWarning: /opt/conda/lib/python3.9/site-packages/smdistributed/dataparallel/lib:/opt/amazon/openmpi/lib/:/opt/amazon/efa/lib/:/opt/conda/lib:/usr/local/lib:/usr/local/nvidia/lib:/usr/local/nvidia/lib64:/usr/local/lib did not contain libcudart.so as expected! Searching further paths...\n",
      "  warn(msg)\u001b[0m\n",
      "\u001b[34m/opt/conda/lib/python3.9/site-packages/bitsandbytes/cuda_setup/main.py:136: UserWarning: WARNING: The following directories listed in your path were found to be non-existent: {PosixPath('training-job/kullm-polyglot-12-ko-alpaca-data-2023-0-2023-08-04-00-27-15-901'), PosixPath('aws'), PosixPath('arn'), PosixPath('057716757052'), PosixPath('sagemaker'), PosixPath('us-east-1')}\n",
      "  warn(msg)\u001b[0m\n",
      "\u001b[34m/opt/conda/lib/python3.9/site-packages/bitsandbytes/cuda_setup/main.py:136: UserWarning: WARNING: The following directories listed in your path were found to be non-existent: {PosixPath('/v2/credentials/proxy-9d31f7b4eaa362e73372be5c5d5677f9812174f3cf3fa873a0058fe48c194078-customer')}\n",
      "  warn(msg)\u001b[0m\n",
      "\u001b[34m/opt/conda/lib/python3.9/site-packages/bitsandbytes/cuda_setup/main.py:136: UserWarning: WARNING: The following directories listed in your path were found to be non-existent: {PosixPath('//sagemaker-us-east-1-057716757052/kullm-polyglot-12-ko-alpaca-data-2023-0-2023-08-04-00-27-15-901/source/sourcedir.tar.gz'), PosixPath('s3')}\n",
      "  warn(msg)\u001b[0m\n",
      "\u001b[34m/opt/conda/lib/python3.9/site-packages/bitsandbytes/cuda_setup/main.py:136: UserWarning: WARNING: The following directories listed in your path were found to be non-existent: {PosixPath('nlpai-lab/kullm-polyglot-12.8b-v2')}\n",
      "  warn(msg)\u001b[0m\n",
      "\u001b[34m/opt/conda/lib/python3.9/site-packages/bitsandbytes/cuda_setup/main.py:136: UserWarning: WARNING: The following directories listed in your path were found to be non-existent: {PosixPath('\"File\"}},\"input_dir\"'), PosixPath('[\"algo-1\"],\"hyperparameters\"'), PosixPath('\"ml.g5.2xlarge\"}},\"is_hetero\"'), PosixPath('\"/opt/ml/input/data/training\"},\"current_host\"'), PosixPath('\"/opt/ml/input/config\",\"input_data_config\"'), PosixPath('\"s3'), PosixPath('{\"dataset_path\"'), PosixPath('\"nlpai-lab/kullm-polyglot-12.8b-v2\",\"per_device_train_batch_size\"'), PosixPath('\"/opt/ml/output/intermediate\",\"resource_config\"'), PosixPath('{\"hosts\"'), PosixPath('\"algo-1\",\"current_instance_group\"'), PosixPath('\"ml.g5.2xlarge\"}],\"network_interface_name\"'), PosixPath('\"/opt/ml/output/data\",\"output_dir\"'), PosixPath('main\",\"hosts\"'), PosixPath('{\"current_group_name\"'), PosixPath('false,\"is_master\"'), PosixPath('\"None\",\"S3DistributionType\"'), PosixPath('\"ml.g5.2xlarge\",\"hosts\"'), PosixPath('0,\"output_data_dir\"'), PosixPath('\"algo-1\",\"current_instance_type\"'), PosixPath('{},\"channel_input_dirs\"'), PosixPath('{\"RecordWrapperType\"'), PosixPath('{\"additional_framework_parameters\"'), PosixPath('\"/opt/ml/input\",\"instance_groups\"'), PosixPath('\"/opt/ml/input/data/training\",\"epochs\"'), PosixPath('1,\"num_neurons\"'), PosixPath('1},\"input_config_dir\"'), PosixPath('true,\"job_name\"'), PosixPath('[{\"hosts\"'), PosixPath('[],\"distribution_instance_groups\"'), PosixPath('{\"training\"'), PosixPath('\"/opt/ml/output\",\"output_intermediate_dir\"'), PosixPath('\"run_clm.py\"}'), PosixPath('\"ml.g5.2xlarge\",\"distribution_hosts\"'), PosixPath('\"kullm-polyglot-12-ko-alpaca-data-2023-0-2023-08-04-00-27-15-901\",\"log_level\"'), PosixPath('[\"algo-1\"],\"instance_groups\"'), PosixPath('[\"algo-1\"],\"instance_group_name\"'), PosixPath('\"FullyReplicated\",\"TrainingInputMode\"'), PosixPath('\"homogeneousCluster\",\"current_instance_group_hosts\"'), PosixPath('1,\"lr\"'), PosixPath('true,\"is_modelparallel_enabled\"'), PosixPath('null,\"is_smddpmprun_installed\"'), PosixPath('8,\"num_gpus\"'), PosixPath('//sagemaker-us-east-1-057716757052/kullm-polyglot-12-ko-alpaca-data-2023-0-2023-08-04-00-27-15-901/source/sourcedir.tar.gz\",\"module_name\"'), PosixPath('[],\"framework_module\"'), PosixPath('\"/opt/ml/model\",\"module_dir\"'), PosixPath('\"homogeneousCluster\",\"instance_type\"'), PosixPath('\"eth0\"},\"user_entry_point\"'), PosixPath('\"algo-1\",\"model_dir\"'), PosixPath('\"eth0\",\"num_cpus\"'), PosixPath('{\"homogeneousCluster\"'), PosixPath('[\"algo-1\"],\"current_instance_type\"'), PosixPath('\"homogeneousCluster\",\"current_host\"'), PosixPath('0.0002,\"model_id\"'), PosixPath('[\"homogeneousCluster\"],\"instance_groups_dict\"'), PosixPath('\"run_clm\",\"network_interface_name\"'), PosixPath('\"sagemaker_pytorch_container.training'), PosixPath('20,\"master_hostname\"')}\n",
      "  warn(msg)\u001b[0m\n",
      "\u001b[34m/opt/conda/lib/python3.9/site-packages/bitsandbytes/cuda_setup/main.py:136: UserWarning: WARNING: The following directories listed in your path were found to be non-existent: {PosixPath('1}'), PosixPath('\"/opt/ml/input/data/training\",\"epochs\"'), PosixPath('0.0002,\"model_id\"'), PosixPath('1,\"lr\"'), PosixPath('{\"dataset_path\"'), PosixPath('\"nlpai-lab/kullm-polyglot-12.8b-v2\",\"per_device_train_batch_size\"')}\n",
      "  warn(msg)\u001b[0m\n",
      "\u001b[34m/opt/conda/lib/python3.9/site-packages/bitsandbytes/cuda_setup/main.py:136: UserWarning: WARNING: The following directories listed in your path were found to be non-existent: {PosixPath('/opt/ml/output/intermediate')}\n",
      "  warn(msg)\u001b[0m\n",
      "\u001b[34m/opt/conda/lib/python3.9/site-packages/bitsandbytes/cuda_setup/main.py:136: UserWarning: WARNING: The following directories listed in your path were found to be non-existent: {PosixPath('/opt/conda/lib/python39.zip')}\n",
      "  warn(msg)\u001b[0m\n",
      "\u001b[34m/opt/conda/lib/python3.9/site-packages/bitsandbytes/cuda_setup/main.py:136: UserWarning: WARNING: The following directories listed in your path were found to be non-existent: {PosixPath('[\"--dataset_path\",\"/opt/ml/input/data/training\",\"--epochs\",\"1\",\"--lr\",\"0.0002\",\"--model_id\",\"nlpai-lab/kullm-polyglot-12.8b-v2\",\"--per_device_train_batch_size\",\"1\"]')}\n",
      "  warn(msg)\u001b[0m\n",
      "\u001b[34m/opt/conda/lib/python3.9/site-packages/bitsandbytes/cuda_setup/main.py:136: UserWarning: WARNING: The following directories listed in your path were found to be non-existent: {PosixPath('$(dirname $(which conda))/..')}\n",
      "  warn(msg)\u001b[0m\n",
      "\u001b[34mCUDA_SETUP: WARNING! libcudart.so not found in any environmental path. Searching /usr/local/cuda/lib64...\u001b[0m\n",
      "\u001b[34mCUDA SETUP: CUDA runtime path found: /usr/local/cuda/lib64/libcudart.so\u001b[0m\n",
      "\u001b[34mCUDA SETUP: Highest compute capability among GPUs detected: 8.6\u001b[0m\n",
      "\u001b[34mCUDA SETUP: Detected CUDA version 117\u001b[0m\n",
      "\u001b[34mCUDA SETUP: Loading binary /opt/conda/lib/python3.9/site-packages/bitsandbytes/libbitsandbytes_cuda117.so...\u001b[0m\n",
      "\u001b[34mDownloading (…)lve/main/config.json:   0%|          | 0.00/714 [00:00<?, ?B/s]\u001b[0m\n",
      "\u001b[34mDownloading (…)lve/main/config.json: 100%|██████████| 714/714 [00:00<00:00, 206kB/s]\u001b[0m\n",
      "\u001b[34mOverriding torch_dtype=None with `torch_dtype=torch.float16` due to requirements of `bitsandbytes` to enable model loading in mixed int8. Either pass torch_dtype=torch.float16 or don't pass this argument at all to remove this warning.\u001b[0m\n",
      "\u001b[34mOverriding torch_dtype=None with `torch_dtype=torch.float16` due to requirements of `bitsandbytes` to enable model loading in mixed int8. Either pass torch_dtype=torch.float16 or don't pass this argument at all to remove this warning.\u001b[0m\n",
      "\u001b[34mDownloading (…)model.bin.index.json:   0%|          | 0.00/52.5k [00:00<?, ?B/s]\u001b[0m\n",
      "\u001b[34mDownloading (…)model.bin.index.json: 100%|██████████| 52.5k/52.5k [00:00<00:00, 16.4MB/s]\u001b[0m\n",
      "\u001b[34mDownloading shards:   0%|          | 0/3 [00:00<?, ?it/s]\u001b[0m\n",
      "\u001b[34mDownloading (…)00001-of-00003.bin\";:   0%|          | 0.00/10.0G [00:00<?, ?B/s]#033[A\u001b[0m\n",
      "\u001b[34mDownloading (…)00001-of-00003.bin\";:   0%|          | 21.0M/10.0G [00:00<01:15, 133MB/s]#033[A\u001b[0m\n",
      "\u001b[34mDownloading (…)00001-of-00003.bin\";:   1%|          | 62.9M/10.0G [00:00<00:40, 248MB/s]#033[A\u001b[0m\n",
      "\u001b[34mDownloading (…)00001-of-00003.bin\";:   1%|          | 115M/10.0G [00:00<00:29, 340MB/s] #033[A\u001b[0m\n",
      "\u001b[34mDownloading (…)00001-of-00003.bin\";:   2%|▏         | 168M/10.0G [00:00<00:26, 369MB/s]#033[A\u001b[0m\n",
      "\u001b[34mDownloading (…)00001-of-00003.bin\";:   2%|▏         | 210M/10.0G [00:00<00:25, 383MB/s]#033[A\u001b[0m\n",
      "\u001b[34mDownloading (…)00001-of-00003.bin\";:   3%|▎         | 252M/10.0G [00:00<00:26, 374MB/s]#033[A\u001b[0m\n",
      "\u001b[34mDownloading (…)00001-of-00003.bin\";:   3%|▎         | 304M/10.0G [00:00<00:24, 400MB/s]#033[A\u001b[0m\n",
      "\u001b[34mDownloading (…)00001-of-00003.bin\";:   4%|▎         | 357M/10.0G [00:00<00:23, 416MB/s]#033[A\u001b[0m\n",
      "\u001b[34mDownloading (…)00001-of-00003.bin\";:   4%|▍         | 409M/10.0G [00:01<00:22, 431MB/s]#033[A\u001b[0m\n",
      "\u001b[34mDownloading (…)00001-of-00003.bin\";:   5%|▍         | 461M/10.0G [00:01<00:21, 444MB/s]#033[A\u001b[0m\n",
      "\u001b[34mDownloading (…)00001-of-00003.bin\";:   5%|▌         | 514M/10.0G [00:01<00:21, 442MB/s]#033[A\u001b[0m\n",
      "\u001b[34mDownloading (…)00001-of-00003.bin\";:   6%|▌         | 577M/10.0G [00:01<00:20, 467MB/s]#033[A\u001b[0m\n",
      "\u001b[34mDownloading (…)00001-of-00003.bin\";:   6%|▋         | 629M/10.0G [00:01<00:20, 452MB/s]#033[A\u001b[0m\n",
      "\u001b[34mDownloading (…)00001-of-00003.bin\";:   7%|▋         | 682M/10.0G [00:01<00:22, 411MB/s]#033[A\u001b[0m\n",
      "\u001b[34mDownloading (…)00001-of-00003.bin\";:   7%|▋         | 724M/10.0G [00:01<00:23, 392MB/s]#033[A\u001b[0m\n",
      "\u001b[34mDownloading (…)00001-of-00003.bin\";:   8%|▊         | 765M/10.0G [00:01<00:23, 393MB/s]#033[A\u001b[0m\n",
      "\u001b[34mDownloading (…)00001-of-00003.bin\";:   8%|▊         | 818M/10.0G [00:02<00:22, 414MB/s]#033[A\u001b[0m\n",
      "\u001b[34mDownloading (…)00001-of-00003.bin\";:   9%|▊         | 870M/10.0G [00:02<00:21, 427MB/s]#033[A\u001b[0m\n",
      "\u001b[34mDownloading (…)00001-of-00003.bin\";:   9%|▉         | 923M/10.0G [00:02<00:22, 404MB/s]#033[A\u001b[0m\n",
      "\u001b[34mDownloading (…)00001-of-00003.bin\";:  10%|▉         | 965M/10.0G [00:02<00:22, 406MB/s]#033[A\u001b[0m\n",
      "\u001b[34mDownloading (…)00001-of-00003.bin\";:  10%|█         | 1.02G/10.0G [00:02<00:21, 424MB/s]#033[A\u001b[0m\n",
      "\u001b[34mDownloading (…)00001-of-00003.bin\";:  11%|█         | 1.07G/10.0G [00:02<00:20, 434MB/s]#033[A\u001b[0m\n",
      "\u001b[34mDownloading (…)00001-of-00003.bin\";:  11%|█         | 1.12G/10.0G [00:02<00:21, 412MB/s]#033[A\u001b[0m\n",
      "\u001b[34mDownloading (…)00001-of-00003.bin\";:  12%|█▏        | 1.17G/10.0G [00:02<00:20, 437MB/s]#033[A\u001b[0m\n",
      "\u001b[34mDownloading (…)00001-of-00003.bin\";:  12%|█▏        | 1.23G/10.0G [00:02<00:19, 449MB/s]#033[A\u001b[0m\n",
      "\u001b[34mDownloading (…)00001-of-00003.bin\";:  13%|█▎        | 1.29G/10.0G [00:03<00:18, 462MB/s]#033[A\u001b[0m\n",
      "\u001b[34mDownloading (…)00001-of-00003.bin\";:  13%|█▎        | 1.34G/10.0G [00:03<00:18, 472MB/s]#033[A\u001b[0m\n",
      "\u001b[34mDownloading (…)00001-of-00003.bin\";:  14%|█▍        | 1.39G/10.0G [00:03<00:17, 484MB/s]#033[A\u001b[0m\n",
      "\u001b[34mDownloading (…)00001-of-00003.bin\";:  14%|█▍        | 1.45G/10.0G [00:03<00:17, 486MB/s]#033[A\u001b[0m\n",
      "\u001b[34mDownloading (…)00001-of-00003.bin\";:  15%|█▌        | 1.51G/10.0G [00:03<00:16, 511MB/s]#033[A\u001b[0m\n",
      "\u001b[34mDownloading (…)00001-of-00003.bin\";:  16%|█▌        | 1.56G/10.0G [00:03<00:17, 480MB/s]#033[A\u001b[0m\n",
      "\u001b[34mDownloading (…)00001-of-00003.bin\";:  16%|█▌        | 1.63G/10.0G [00:03<00:16, 500MB/s]#033[A\u001b[0m\n",
      "\u001b[34mDownloading (…)00001-of-00003.bin\";:  17%|█▋        | 1.69G/10.0G [00:03<00:15, 527MB/s]#033[A\u001b[0m\n",
      "\u001b[34mDownloading (…)00001-of-00003.bin\";:  17%|█▋        | 1.75G/10.0G [00:03<00:15, 547MB/s]#033[A\u001b[0m\n",
      "\u001b[34mDownloading (…)00001-of-00003.bin\";:  18%|█▊        | 1.81G/10.0G [00:04<00:14, 558MB/s]#033[A\u001b[0m\n",
      "\u001b[34mDownloading (…)00001-of-00003.bin\";:  19%|█▊        | 1.88G/10.0G [00:04<00:14, 569MB/s]#033[A\u001b[0m\n",
      "\u001b[34mDownloading (…)00001-of-00003.bin\";:  19%|█▉        | 1.94G/10.0G [00:04<00:14, 540MB/s]#033[A\u001b[0m\n",
      "\u001b[34mDownloading (…)00001-of-00003.bin\";:  20%|█▉        | 2.00G/10.0G [00:04<00:15, 518MB/s]#033[A\u001b[0m\n",
      "\u001b[34mDownloading (…)00001-of-00003.bin\";:  21%|██        | 2.06G/10.0G [00:04<00:15, 512MB/s]#033[A\u001b[0m\n",
      "\u001b[34mDownloading (…)00001-of-00003.bin\";:  21%|██        | 2.11G/10.0G [00:04<00:16, 494MB/s]#033[A\u001b[0m\n",
      "\u001b[34mDownloading (…)00001-of-00003.bin\";:  22%|██▏       | 2.16G/10.0G [00:04<00:16, 487MB/s]#033[A\u001b[0m\n",
      "\u001b[34mDownloading (…)00001-of-00003.bin\";:  22%|██▏       | 2.21G/10.0G [00:04<00:15, 490MB/s]#033[A\u001b[0m\n",
      "\u001b[34mDownloading (…)00001-of-00003.bin\";:  23%|██▎       | 2.26G/10.0G [00:05<00:17, 435MB/s]#033[A\u001b[0m\n",
      "\u001b[34mDownloading (…)00001-of-00003.bin\";:  23%|██▎       | 2.32G/10.0G [00:05<00:17, 448MB/s]#033[A\u001b[0m\n",
      "\u001b[34mDownloading (…)00001-of-00003.bin\";:  24%|██▎       | 2.37G/10.0G [00:05<00:16, 459MB/s]#033[A\u001b[0m\n",
      "\u001b[34mDownloading (…)00001-of-00003.bin\";:  24%|██▍       | 2.42G/10.0G [00:05<00:17, 431MB/s]#033[A\u001b[0m\n",
      "\u001b[34mDownloading (…)00001-of-00003.bin\";:  25%|██▍       | 2.47G/10.0G [00:05<00:16, 448MB/s]#033[A\u001b[0m\n",
      "\u001b[34mDownloading (…)00001-of-00003.bin\";:  25%|██▌       | 2.54G/10.0G [00:05<00:15, 474MB/s]#033[A\u001b[0m\n",
      "\u001b[34mDownloading (…)00001-of-00003.bin\";:  26%|██▌       | 2.59G/10.0G [00:05<00:15, 466MB/s]#033[A\u001b[0m\n",
      "\u001b[34mDownloading (…)00001-of-00003.bin\";:  26%|██▋       | 2.64G/10.0G [00:05<00:16, 461MB/s]#033[A\u001b[0m\n",
      "\u001b[34mDownloading (…)00001-of-00003.bin\";:  27%|██▋       | 2.69G/10.0G [00:05<00:15, 476MB/s]#033[A\u001b[0m\n",
      "\u001b[34mDownloading (…)00001-of-00003.bin\";:  28%|██▊       | 2.76G/10.0G [00:06<00:17, 425MB/s]#033[A\u001b[0m\n",
      "\u001b[34mDownloading (…)00001-of-00003.bin\";:  28%|██▊       | 2.81G/10.0G [00:06<00:17, 424MB/s]#033[A\u001b[0m\n",
      "\u001b[34mDownloading (…)00001-of-00003.bin\";:  29%|██▊       | 2.87G/10.0G [00:06<00:15, 453MB/s]#033[A\u001b[0m\n",
      "\u001b[34mDownloading (…)00001-of-00003.bin\";:  29%|██▉       | 2.94G/10.0G [00:06<00:14, 487MB/s]#033[A\u001b[0m\n",
      "\u001b[34mDownloading (…)00001-of-00003.bin\";:  30%|██▉       | 2.99G/10.0G [00:06<00:14, 490MB/s]#033[A\u001b[0m\n",
      "\u001b[34mDownloading (…)00001-of-00003.bin\";:  30%|███       | 3.05G/10.0G [00:06<00:13, 513MB/s]#033[A\u001b[0m\n",
      "\u001b[34mDownloading (…)00001-of-00003.bin\";:  31%|███       | 3.11G/10.0G [00:06<00:12, 537MB/s]#033[A\u001b[0m\n",
      "\u001b[34mDownloading (…)00001-of-00003.bin\";:  32%|███▏      | 3.18G/10.0G [00:06<00:12, 541MB/s]#033[A\u001b[0m\n",
      "\u001b[34mDownloading (…)00001-of-00003.bin\";:  32%|███▏      | 3.24G/10.0G [00:07<00:12, 550MB/s]#033[A\u001b[0m\n",
      "\u001b[34mDownloading (…)00001-of-00003.bin\";:  33%|███▎      | 3.30G/10.0G [00:07<00:12, 550MB/s]#033[A\u001b[0m\n",
      "\u001b[34mDownloading (…)00001-of-00003.bin\";:  34%|███▎      | 3.37G/10.0G [00:07<00:12, 544MB/s]#033[A\u001b[0m\n",
      "\u001b[34mDownloading (…)00001-of-00003.bin\";:  34%|███▍      | 3.43G/10.0G [00:07<00:12, 527MB/s]#033[A\u001b[0m\n",
      "\u001b[34mDownloading (…)00001-of-00003.bin\";:  35%|███▍      | 3.49G/10.0G [00:07<00:12, 521MB/s]#033[A\u001b[0m\n",
      "\u001b[34mDownloading (…)00001-of-00003.bin\";:  35%|███▌      | 3.55G/10.0G [00:07<00:12, 538MB/s]#033[A\u001b[0m\n",
      "\u001b[34mDownloading (…)00001-of-00003.bin\";:  36%|███▌      | 3.62G/10.0G [00:07<00:13, 473MB/s]#033[A\u001b[0m\n",
      "\u001b[34mDownloading (…)00001-of-00003.bin\";:  37%|███▋      | 3.67G/10.0G [00:07<00:13, 473MB/s]#033[A\u001b[0m\n",
      "\u001b[34mDownloading (…)00001-of-00003.bin\";:  37%|███▋      | 3.72G/10.0G [00:08<00:14, 422MB/s]#033[A\u001b[0m\n",
      "\u001b[34mDownloading (…)00001-of-00003.bin\";:  38%|███▊      | 3.77G/10.0G [00:08<00:16, 389MB/s]#033[A\u001b[0m\n",
      "\u001b[34mDownloading (…)00001-of-00003.bin\";:  38%|███▊      | 3.83G/10.0G [00:08<00:15, 400MB/s]#033[A\u001b[0m\n",
      "\u001b[34mDownloading (…)00001-of-00003.bin\";:  39%|███▉      | 3.89G/10.0G [00:08<00:13, 443MB/s]#033[A\u001b[0m\n",
      "\u001b[34mDownloading (…)00001-of-00003.bin\";:  39%|███▉      | 3.95G/10.0G [00:08<00:12, 482MB/s]#033[A\u001b[0m\n",
      "\u001b[34mDownloading (…)00001-of-00003.bin\";:  40%|███▉      | 4.01G/10.0G [00:08<00:12, 486MB/s]#033[A\u001b[0m\n",
      "\u001b[34mDownloading (…)00001-of-00003.bin\";:  40%|████      | 4.06G/10.0G [00:08<00:12, 494MB/s]#033[A\u001b[0m\n",
      "\u001b[34mDownloading (…)00001-of-00003.bin\";:  41%|████      | 4.11G/10.0G [00:08<00:11, 499MB/s]#033[A\u001b[0m\n",
      "\u001b[34mDownloading (…)00001-of-00003.bin\";:  42%|████▏     | 4.16G/10.0G [00:09<00:12, 465MB/s]#033[A\u001b[0m\n",
      "\u001b[34mDownloading (…)00001-of-00003.bin\";:  42%|████▏     | 4.22G/10.0G [00:09<00:12, 463MB/s]#033[A\u001b[0m\n",
      "\u001b[34mDownloading (…)00001-of-00003.bin\";:  43%|████▎     | 4.27G/10.0G [00:09<00:12, 468MB/s]#033[A\u001b[0m\n",
      "\u001b[34mDownloading (…)00001-of-00003.bin\";:  43%|████▎     | 4.32G/10.0G [00:09<00:11, 482MB/s]#033[A\u001b[0m\n",
      "\u001b[34mDownloading (…)00001-of-00003.bin\";:  44%|████▎     | 4.37G/10.0G [00:09<00:12, 460MB/s]#033[A\u001b[0m\n",
      "\u001b[34mDownloading (…)00001-of-00003.bin\";:  44%|████▍     | 4.42G/10.0G [00:09<00:12, 462MB/s]#033[A\u001b[0m\n",
      "\u001b[34mDownloading (…)00001-of-00003.bin\";:  45%|████▍     | 4.48G/10.0G [00:09<00:12, 430MB/s]#033[A\u001b[0m\n",
      "\u001b[34mDownloading (…)00001-of-00003.bin\";:  45%|████▌     | 4.53G/10.0G [00:09<00:12, 439MB/s]#033[A\u001b[0m\n",
      "\u001b[34mDownloading (…)00001-of-00003.bin\";:  46%|████▌     | 4.59G/10.0G [00:09<00:11, 479MB/s]#033[A\u001b[0m\n",
      "\u001b[34mDownloading (…)00001-of-00003.bin\";:  46%|████▋     | 4.66G/10.0G [00:10<00:10, 495MB/s]#033[A\u001b[0m\n",
      "\u001b[34mDownloading (…)00001-of-00003.bin\";:  47%|████▋     | 4.71G/10.0G [00:10<00:12, 443MB/s]#033[A\u001b[0m\n",
      "\u001b[34mDownloading (…)00001-of-00003.bin\";:  48%|████▊     | 4.77G/10.0G [00:10<00:11, 472MB/s]#033[A\u001b[0m\n",
      "\u001b[34mDownloading (…)00001-of-00003.bin\";:  48%|████▊     | 4.83G/10.0G [00:10<00:10, 496MB/s]#033[A\u001b[0m\n",
      "\u001b[34mDownloading (…)00001-of-00003.bin\";:  49%|████▉     | 4.90G/10.0G [00:10<00:09, 523MB/s]#033[A\u001b[0m\n",
      "\u001b[34mDownloading (…)00001-of-00003.bin\";:  49%|████▉     | 4.96G/10.0G [00:10<00:14, 345MB/s]#033[A\u001b[0m\n",
      "\u001b[34mDownloading (…)00001-of-00003.bin\";:  50%|█████     | 5.02G/10.0G [00:10<00:12, 395MB/s]#033[A\u001b[0m\n",
      "\u001b[34mDownloading (…)00001-of-00003.bin\";:  51%|█████     | 5.08G/10.0G [00:11<00:11, 415MB/s]#033[A\u001b[0m\n",
      "\u001b[34mDownloading (…)00001-of-00003.bin\";:  51%|█████     | 5.13G/10.0G [00:11<00:11, 424MB/s]#033[A\u001b[0m\n",
      "\u001b[34mDownloading (…)00001-of-00003.bin\";:  52%|█████▏    | 5.18G/10.0G [00:11<00:11, 437MB/s]#033[A\u001b[0m\n",
      "\u001b[34mDownloading (…)00001-of-00003.bin\";:  52%|█████▏    | 5.23G/10.0G [00:11<00:10, 440MB/s]#033[A\u001b[0m\n",
      "\u001b[34mDownloading (…)00001-of-00003.bin\";:  53%|█████▎    | 5.28G/10.0G [00:11<00:10, 450MB/s]#033[A\u001b[0m\n",
      "\u001b[34mDownloading (…)00001-of-00003.bin\";:  53%|█████▎    | 5.34G/10.0G [00:11<00:10, 448MB/s]#033[A\u001b[0m\n",
      "\u001b[34mDownloading (…)00001-of-00003.bin\";:  54%|█████▍    | 5.39G/10.0G [00:11<00:10, 442MB/s]#033[A\u001b[0m\n",
      "\u001b[34mDownloading (…)00001-of-00003.bin\";:  54%|█████▍    | 5.44G/10.0G [00:11<00:11, 402MB/s]#033[A\u001b[0m\n",
      "\u001b[34mDownloading (…)00001-of-00003.bin\";:  55%|█████▍    | 5.48G/10.0G [00:12<00:13, 332MB/s]#033[A\u001b[0m\n",
      "\u001b[34mDownloading (…)00001-of-00003.bin\";:  55%|█████▌    | 5.53G/10.0G [00:12<00:15, 300MB/s]#033[A\u001b[0m\n",
      "\u001b[34mDownloading (…)00001-of-00003.bin\";:  56%|█████▌    | 5.57G/10.0G [00:12<00:16, 276MB/s]#033[A\u001b[0m\n",
      "\u001b[34mDownloading (…)00001-of-00003.bin\";:  56%|█████▌    | 5.60G/10.0G [00:12<00:17, 260MB/s]#033[A\u001b[0m\n",
      "\u001b[34mDownloading (…)00001-of-00003.bin\";:  56%|█████▌    | 5.63G/10.0G [00:12<00:17, 252MB/s]#033[A\u001b[0m\n",
      "\u001b[34mDownloading (…)00001-of-00003.bin\";:  56%|█████▋    | 5.66G/10.0G [00:12<00:17, 248MB/s]#033[A\u001b[0m\n",
      "\u001b[34mDownloading (…)00001-of-00003.bin\";:  57%|█████▋    | 5.69G/10.0G [00:13<00:17, 246MB/s]#033[A\u001b[0m\n",
      "\u001b[34mDownloading (…)00001-of-00003.bin\";:  57%|█████▋    | 5.73G/10.0G [00:13<00:17, 242MB/s]#033[A\u001b[0m\n",
      "\u001b[34mDownloading (…)00001-of-00003.bin\";:  57%|█████▋    | 5.76G/10.0G [00:13<00:17, 239MB/s]#033[A\u001b[0m\n",
      "\u001b[34mDownloading (…)00001-of-00003.bin\";:  58%|█████▊    | 5.79G/10.0G [00:13<00:18, 233MB/s]#033[A\u001b[0m\n",
      "\u001b[34mDownloading (…)00001-of-00003.bin\";:  58%|█████▊    | 5.82G/10.0G [00:13<00:17, 236MB/s]#033[A\u001b[0m\n",
      "\u001b[34mDownloading (…)00001-of-00003.bin\";:  58%|█████▊    | 5.85G/10.0G [00:13<00:18, 227MB/s]#033[A\u001b[0m\n",
      "\u001b[34mDownloading (…)00001-of-00003.bin\";:  59%|█████▊    | 5.88G/10.0G [00:13<00:18, 228MB/s]#033[A\u001b[0m\n",
      "\u001b[34mDownloading (…)00001-of-00003.bin\";:  59%|█████▉    | 5.91G/10.0G [00:14<00:17, 229MB/s]#033[A\u001b[0m\n",
      "\u001b[34mDownloading (…)00001-of-00003.bin\";:  59%|█████▉    | 5.95G/10.0G [00:14<00:17, 233MB/s]#033[A\u001b[0m\n",
      "\u001b[34mDownloading (…)00001-of-00003.bin\";:  60%|█████▉    | 5.98G/10.0G [00:14<00:19, 206MB/s]#033[A\u001b[0m\n",
      "\u001b[34mDownloading (…)00001-of-00003.bin\";:  60%|█████▉    | 6.01G/10.0G [00:14<00:18, 219MB/s]#033[A\u001b[0m\n",
      "\u001b[34mDownloading (…)00001-of-00003.bin\";:  60%|██████    | 6.04G/10.0G [00:14<00:18, 215MB/s]#033[A\u001b[0m\n",
      "\u001b[34mDownloading (…)00001-of-00003.bin\";:  61%|██████    | 6.07G/10.0G [00:14<00:20, 192MB/s]#033[A\u001b[0m\n",
      "\u001b[34mDownloading (…)00001-of-00003.bin\";:  61%|██████    | 6.09G/10.0G [00:14<00:21, 187MB/s]#033[A\u001b[0m\n",
      "\u001b[34mDownloading (…)00001-of-00003.bin\";:  61%|██████    | 6.11G/10.0G [00:15<00:21, 186MB/s]#033[A\u001b[0m\n",
      "\u001b[34mDownloading (…)00001-of-00003.bin\";:  61%|██████    | 6.13G/10.0G [00:15<00:21, 182MB/s]#033[A\u001b[0m\n",
      "\u001b[34mDownloading (…)00001-of-00003.bin\";:  61%|██████▏   | 6.16G/10.0G [00:15<00:22, 171MB/s]#033[A\u001b[0m\n",
      "\u001b[34mDownloading (…)00001-of-00003.bin\";:  62%|██████▏   | 6.18G/10.0G [00:15<00:23, 165MB/s]\u001b[0m\n",
      "\u001b[34m#033[A\u001b[0m\n",
      "\u001b[34mDownloading (…)00001-of-00003.bin\";:  62%|██████▏   | 6.20G/10.0G [00:15<00:22, 170MB/s]#033[A\u001b[0m\n",
      "\u001b[34mDownloading (…)00001-of-00003.bin\";:  62%|██████▏   | 6.22G/10.0G [00:15<00:23, 163MB/s]#033[A\u001b[0m\n",
      "\u001b[34mDownloading (…)00001-of-00003.bin\";:  62%|██████▏   | 6.24G/10.0G [00:15<00:24, 157MB/s]#033[A\u001b[0m\n",
      "\u001b[34mDownloading (…)00001-of-00003.bin\";:  62%|██████▏   | 6.26G/10.0G [00:15<00:23, 162MB/s]#033[A\u001b[0m\n",
      "\u001b[34mDownloading (…)00001-of-00003.bin\";:  63%|██████▎   | 6.28G/10.0G [00:16<00:23, 157MB/s]#033[A\u001b[0m\n",
      "\u001b[34mDownloading (…)00001-of-00003.bin\";:  63%|██████▎   | 6.30G/10.0G [00:16<00:24, 153MB/s]#033[A\u001b[0m\n",
      "\u001b[34mDownloading (…)00001-of-00003.bin\";:  63%|██████▎   | 6.32G/10.0G [00:16<00:24, 151MB/s]#033[A\u001b[0m\n",
      "\u001b[34mDownloading (…)00001-of-00003.bin\";:  63%|██████▎   | 6.34G/10.0G [00:16<00:23, 157MB/s]#033[A\u001b[0m\n",
      "\u001b[34mDownloading (…)00001-of-00003.bin\";:  63%|██████▎   | 6.36G/10.0G [00:16<00:23, 154MB/s]#033[A\u001b[0m\n",
      "\u001b[34mDownloading (…)00001-of-00003.bin\";:  64%|██████▎   | 6.39G/10.0G [00:16<00:24, 152MB/s]#033[A\u001b[0m\n",
      "\u001b[34mDownloading (…)00001-of-00003.bin\";:  64%|██████▍   | 6.41G/10.0G [00:16<00:22, 158MB/s]#033[A\u001b[0m\n",
      "\u001b[34mDownloading (…)00001-of-00003.bin\";:  64%|██████▍   | 6.43G/10.0G [00:17<00:23, 154MB/s]#033[A\u001b[0m\n",
      "\u001b[34mDownloading (…)00001-of-00003.bin\";:  64%|██████▍   | 6.45G/10.0G [00:17<00:23, 152MB/s]#033[A\u001b[0m\n",
      "\u001b[34mDownloading (…)00001-of-00003.bin\";:  65%|██████▍   | 6.47G/10.0G [00:17<00:22, 158MB/s]#033[A\u001b[0m\n",
      "\u001b[34mDownloading (…)00001-of-00003.bin\";:  65%|██████▍   | 6.49G/10.0G [00:17<00:23, 154MB/s]#033[A\u001b[0m\n",
      "\u001b[34mDownloading (…)00001-of-00003.bin\";:  65%|██████▍   | 6.51G/10.0G [00:17<00:23, 151MB/s]#033[A\u001b[0m\n",
      "\u001b[34mDownloading (…)00001-of-00003.bin\";:  65%|██████▌   | 6.53G/10.0G [00:17<00:23, 149MB/s]#033[A\u001b[0m\n",
      "\u001b[34mDownloading (…)00001-of-00003.bin\";:  65%|██████▌   | 6.55G/10.0G [00:17<00:22, 156MB/s]#033[A\u001b[0m\n",
      "\u001b[34mDownloading (…)00001-of-00003.bin\";:  66%|██████▌   | 6.57G/10.0G [00:18<00:22, 151MB/s]#033[A\u001b[0m\n",
      "\u001b[34mDownloading (…)00001-of-00003.bin\";:  66%|██████▌   | 6.60G/10.0G [00:18<00:22, 151MB/s]#033[A\u001b[0m\n",
      "\u001b[34mDownloading (…)00001-of-00003.bin\";:  66%|██████▌   | 6.62G/10.0G [00:18<00:21, 158MB/s]#033[A\u001b[0m\n",
      "\u001b[34mDownloading (…)00001-of-00003.bin\";:  66%|██████▌   | 6.64G/10.0G [00:18<00:22, 152MB/s]#033[A\u001b[0m\n",
      "\u001b[34mDownloading (…)00001-of-00003.bin\";:  66%|██████▋   | 6.66G/10.0G [00:18<00:22, 152MB/s]#033[A\u001b[0m\n",
      "\u001b[34mDownloading (…)00001-of-00003.bin\";:  67%|██████▋   | 6.68G/10.0G [00:18<00:21, 158MB/s]\u001b[0m\n",
      "\u001b[34m#033[A\u001b[0m\n",
      "\u001b[34mDownloading (…)00001-of-00003.bin\";:  67%|██████▋   | 6.70G/10.0G [00:18<00:21, 154MB/s]#033[A\u001b[0m\n",
      "\u001b[34mDownloading (…)00001-of-00003.bin\";:  67%|██████▋   | 6.72G/10.0G [00:19<00:21, 151MB/s]#033[A\u001b[0m\n",
      "\u001b[34mDownloading (…)00001-of-00003.bin\";:  67%|██████▋   | 6.74G/10.0G [00:19<00:21, 151MB/s]#033[A\u001b[0m\n",
      "\u001b[34mDownloading (…)00001-of-00003.bin\";:  67%|██████▋   | 6.76G/10.0G [00:19<00:21, 152MB/s]#033[A\u001b[0m\n",
      "\u001b[34mDownloading (…)00001-of-00003.bin\";:  68%|██████▊   | 6.78G/10.0G [00:19<00:20, 158MB/s]#033[A\u001b[0m\n",
      "\u001b[34mDownloading (…)00001-of-00003.bin\";:  68%|██████▊   | 6.81G/10.0G [00:19<00:20, 154MB/s]#033[A\u001b[0m\n",
      "\u001b[34mDownloading (…)00001-of-00003.bin\";:  68%|██████▊   | 6.83G/10.0G [00:19<00:21, 152MB/s]#033[A\u001b[0m\n",
      "\u001b[34mDownloading (…)00001-of-00003.bin\";:  68%|██████▊   | 6.85G/10.0G [00:19<00:20, 158MB/s]#033[A\u001b[0m\n",
      "\u001b[34mDownloading (…)00001-of-00003.bin\";:  69%|██████▊   | 6.87G/10.0G [00:19<00:20, 154MB/s]#033[A\u001b[0m\n",
      "\u001b[34mDownloading (…)00001-of-00003.bin\";:  69%|██████▊   | 6.89G/10.0G [00:20<00:20, 151MB/s]#033[A\u001b[0m\n",
      "\u001b[34mDownloading (…)00001-of-00003.bin\";:  69%|██████▉   | 6.91G/10.0G [00:20<00:19, 158MB/s]#033[A\u001b[0m\n",
      "\u001b[34mDownloading (…)00001-of-00003.bin\";:  69%|██████▉   | 6.93G/10.0G [00:20<00:20, 154MB/s]#033[A\u001b[0m\n",
      "\u001b[34mDownloading (…)00001-of-00003.bin\";:  69%|██████▉   | 6.95G/10.0G [00:20<00:20, 151MB/s]#033[A\u001b[0m\n",
      "\u001b[34mDownloading (…)00001-of-00003.bin\";:  70%|██████▉   | 6.97G/10.0G [00:20<00:19, 157MB/s]#033[A\u001b[0m\n",
      "\u001b[34mDownloading (…)00001-of-00003.bin\";:  70%|██████▉   | 6.99G/10.0G [00:20<00:19, 153MB/s]#033[A\u001b[0m\n",
      "\u001b[34mDownloading (…)00001-of-00003.bin\";:  70%|██████▉   | 7.01G/10.0G [00:20<00:19, 151MB/s]#033[A\u001b[0m\n",
      "\u001b[34mDownloading (…)00001-of-00003.bin\";:  70%|███████   | 7.04G/10.0G [00:21<00:19, 150MB/s]#033[A\u001b[0m\n",
      "\u001b[34mDownloading (…)00001-of-00003.bin\";:  70%|███████   | 7.06G/10.0G [00:21<00:18, 156MB/s]#033[A\u001b[0m\n",
      "\u001b[34mDownloading (…)00001-of-00003.bin\";:  71%|███████   | 7.08G/10.0G [00:21<00:19, 153MB/s]#033[A\u001b[0m\n",
      "\u001b[34mDownloading (…)00001-of-00003.bin\";:  71%|███████   | 7.10G/10.0G [00:21<00:19, 151MB/s]#033[A\u001b[0m\n",
      "\u001b[34mDownloading (…)00001-of-00003.bin\";:  71%|███████   | 7.12G/10.0G [00:21<00:18, 157MB/s]#033[A\u001b[0m\n",
      "\u001b[34mDownloading (…)00001-of-00003.bin\";:  71%|███████   | 7.14G/10.0G [00:21<00:18, 154MB/s]#033[A\u001b[0m\n",
      "\u001b[34mDownloading (…)00001-of-00003.bin\";:  71%|███████▏  | 7.16G/10.0G [00:21<00:18, 152MB/s]#033[A\u001b[0m\n",
      "\u001b[34mDownloading (…)00001-of-00003.bin\";:  72%|███████▏  | 7.18G/10.0G [00:21<00:17, 158MB/s]#033[A\u001b[0m\n",
      "\u001b[34mDownloading (…)00001-of-00003.bin\";:  72%|███████▏  | 7.20G/10.0G [00:22<00:18, 154MB/s]#033[A\u001b[0m\n",
      "\u001b[34mDownloading (…)00001-of-00003.bin\";:  72%|███████▏  | 7.22G/10.0G [00:22<00:18, 152MB/s]#033[A\u001b[0m\n",
      "\u001b[34mDownloading (…)00001-of-00003.bin\";:  72%|███████▏  | 7.25G/10.0G [00:22<00:18, 150MB/s]#033[A\u001b[0m\n",
      "\u001b[34mDownloading (…)00001-of-00003.bin\";:  72%|███████▏  | 7.27G/10.0G [00:22<00:17, 156MB/s]#033[A\u001b[0m\n",
      "\u001b[34mDownloading (…)00001-of-00003.bin\";:  73%|███████▎  | 7.29G/10.0G [00:22<00:17, 153MB/s]#033[A\u001b[0m\n",
      "\u001b[34mDownloading (…)00001-of-00003.bin\";:  73%|███████▎  | 7.31G/10.0G [00:22<00:17, 151MB/s]#033[A\u001b[0m\n",
      "\u001b[34mDownloading (…)00001-of-00003.bin\";:  73%|███████▎  | 7.33G/10.0G [00:22<00:17, 157MB/s]#033[A\u001b[0m\n",
      "\u001b[34mDownloading (…)00001-of-00003.bin\";:  73%|███████▎  | 7.35G/10.0G [00:23<00:17, 154MB/s]#033[A\u001b[0m\n",
      "\u001b[34mDownloading (…)00001-of-00003.bin\";:  74%|███████▎  | 7.37G/10.0G [00:23<00:17, 151MB/s]#033[A\u001b[0m\n",
      "\u001b[34mDownloading (…)00001-of-00003.bin\";:  74%|███████▎  | 7.39G/10.0G [00:23<00:16, 156MB/s]#033[A\u001b[0m\n",
      "\u001b[34mDownloading (…)00001-of-00003.bin\";:  74%|███████▍  | 7.41G/10.0G [00:23<00:16, 154MB/s]#033[A\u001b[0m\n",
      "\u001b[34mDownloading (…)00001-of-00003.bin\";:  74%|███████▍  | 7.43G/10.0G [00:23<00:17, 151MB/s]#033[A\u001b[0m\n",
      "\u001b[34mDownloading (…)00001-of-00003.bin\";:  74%|███████▍  | 7.46G/10.0G [00:23<00:16, 158MB/s]#033[A\u001b[0m\n",
      "\u001b[34mDownloading (…)00001-of-00003.bin\";:  75%|███████▍  | 7.48G/10.0G [00:23<00:16, 154MB/s]#033[A\u001b[0m\n",
      "\u001b[34mDownloading (…)00001-of-00003.bin\";:  75%|███████▍  | 7.50G/10.0G [00:24<00:16, 151MB/s]#033[A\u001b[0m\n",
      "\u001b[34mDownloading (…)00001-of-00003.bin\";:  75%|███████▌  | 7.52G/10.0G [00:24<00:15, 158MB/s]#033[A\u001b[0m\n",
      "\u001b[34mDownloading (…)00001-of-00003.bin\";:  75%|███████▌  | 7.54G/10.0G [00:24<00:16, 154MB/s]#033[A\u001b[0m\n",
      "\u001b[34mDownloading (…)00001-of-00003.bin\";:  75%|███████▌  | 7.56G/10.0G [00:24<00:16, 150MB/s]#033[A\u001b[0m\n",
      "\u001b[34mDownloading (…)00001-of-00003.bin\";:  76%|███████▌  | 7.58G/10.0G [00:24<00:16, 150MB/s]#033[A\u001b[0m\n",
      "\u001b[34mDownloading (…)00001-of-00003.bin\";:  76%|███████▌  | 7.60G/10.0G [00:24<00:15, 156MB/s]#033[A\u001b[0m\n",
      "\u001b[34mDownloading (…)00001-of-00003.bin\";:  76%|███████▌  | 7.62G/10.0G [00:24<00:15, 153MB/s]#033[A\u001b[0m\n",
      "\u001b[34mDownloading (…)00001-of-00003.bin\";:  76%|███████▋  | 7.64G/10.0G [00:25<00:15, 151MB/s]#033[A\u001b[0m\n",
      "\u001b[34mDownloading (…)00001-of-00003.bin\";:  76%|███████▋  | 7.67G/10.0G [00:25<00:15, 157MB/s]#033[A\u001b[0m\n",
      "\u001b[34mDownloading (…)00001-of-00003.bin\";:  77%|███████▋  | 7.69G/10.0G [00:25<00:15, 154MB/s]#033[A\u001b[0m\n",
      "\u001b[34mDownloading (…)00001-of-00003.bin\";:  77%|███████▋  | 7.71G/10.0G [00:25<00:15, 151MB/s]#033[A\u001b[0m\n",
      "\u001b[34mDownloading (…)00001-of-00003.bin\";:  77%|███████▋  | 7.73G/10.0G [00:25<00:14, 157MB/s]#033[A\u001b[0m\n",
      "\u001b[34mDownloading (…)00001-of-00003.bin\";:  77%|███████▋  | 7.75G/10.0G [00:25<00:14, 154MB/s]#033[A\u001b[0m\n",
      "\u001b[34mDownloading (…)00001-of-00003.bin\";:  78%|███████▊  | 7.77G/10.0G [00:25<00:14, 151MB/s]#033[A\u001b[0m\n",
      "\u001b[34mDownloading (…)00001-of-00003.bin\";:  78%|███████▊  | 7.79G/10.0G [00:25<00:14, 157MB/s]#033[A\u001b[0m\n",
      "\u001b[34mDownloading (…)00001-of-00003.bin\";:  78%|███████▊  | 7.81G/10.0G [00:26<00:14, 154MB/s]#033[A\u001b[0m\n",
      "\u001b[34mDownloading (…)00001-of-00003.bin\";:  78%|███████▊  | 7.83G/10.0G [00:26<00:14, 152MB/s]#033[A\u001b[0m\n",
      "\u001b[34mDownloading (…)00001-of-00003.bin\";:  78%|███████▊  | 7.85G/10.0G [00:26<00:14, 150MB/s]#033[A\u001b[0m\n",
      "\u001b[34mDownloading (…)00001-of-00003.bin\";:  79%|███████▊  | 7.87G/10.0G [00:26<00:13, 156MB/s]#033[A\u001b[0m\n",
      "\u001b[34mDownloading (…)00001-of-00003.bin\";:  79%|███████▉  | 7.90G/10.0G [00:26<00:13, 153MB/s]#033[A\u001b[0m\n",
      "\u001b[34mDownloading (…)00001-of-00003.bin\";:  79%|███████▉  | 7.92G/10.0G [00:26<00:13, 151MB/s]#033[A\u001b[0m\n",
      "\u001b[34mDownloading (…)00001-of-00003.bin\";:  79%|███████▉  | 7.94G/10.0G [00:26<00:13, 157MB/s]#033[A\u001b[0m\n",
      "\u001b[34mDownloading (…)00001-of-00003.bin\";:  79%|███████▉  | 7.96G/10.0G [00:27<00:13, 154MB/s]#033[A\u001b[0m\n",
      "\u001b[34mDownloading (…)00001-of-00003.bin\";:  80%|███████▉  | 7.98G/10.0G [00:27<00:13, 151MB/s]#033[A\u001b[0m\n",
      "\u001b[34mDownloading (…)00001-of-00003.bin\";:  80%|███████▉  | 8.00G/10.0G [00:27<00:12, 157MB/s]#033[A\u001b[0m\n",
      "\u001b[34mDownloading (…)00001-of-00003.bin\";:  80%|████████  | 8.02G/10.0G [00:27<00:13, 154MB/s]#033[A\u001b[0m\n",
      "\u001b[34mDownloading (…)00001-of-00003.bin\";:  80%|████████  | 8.04G/10.0G [00:27<00:12, 152MB/s]#033[A\u001b[0m\n",
      "\u001b[34mDownloading (…)00001-of-00003.bin\";:  80%|████████  | 8.06G/10.0G [00:27<00:13, 151MB/s]#033[A\u001b[0m\n",
      "\u001b[34mDownloading (…)00001-of-00003.bin\";:  81%|████████  | 8.08G/10.0G [00:27<00:13, 149MB/s]#033[A\u001b[0m\n",
      "\u001b[34mDownloading (…)00001-of-00003.bin\";:  81%|████████  | 8.11G/10.0G [00:28<00:12, 156MB/s]#033[A\u001b[0m\n",
      "\u001b[34mDownloading (…)00001-of-00003.bin\";:  81%|████████  | 8.13G/10.0G [00:28<00:15, 119MB/s]#033[A\u001b[0m\n",
      "\u001b[34mDownloading (…)00001-of-00003.bin\";:  81%|████████▏ | 8.17G/10.0G [00:28<00:11, 161MB/s]#033[A\u001b[0m\n",
      "\u001b[34mDownloading (…)00001-of-00003.bin\";:  82%|████████▏ | 8.19G/10.0G [00:28<00:12, 147MB/s]#033[A\u001b[0m\n",
      "\u001b[34mDownloading (…)00001-of-00003.bin\";:  82%|████████▏ | 8.21G/10.0G [00:28<00:12, 148MB/s]#033[A\u001b[0m\n",
      "\u001b[34mDownloading (…)00001-of-00003.bin\";:  82%|████████▏ | 8.23G/10.0G [00:28<00:12, 147MB/s]#033[A\u001b[0m\n",
      "\u001b[34mDownloading (…)00001-of-00003.bin\";:  82%|████████▏ | 8.25G/10.0G [00:29<00:12, 146MB/s]#033[A\u001b[0m\n",
      "\u001b[34mDownloading (…)00001-of-00003.bin\";:  83%|████████▎ | 8.27G/10.0G [00:29<00:12, 141MB/s]#033[A\u001b[0m\n",
      "\u001b[34mDownloading (…)00001-of-00003.bin\";:  83%|████████▎ | 8.29G/10.0G [00:29<00:12, 143MB/s]#033[A\u001b[0m\n",
      "\u001b[34mDownloading (…)00001-of-00003.bin\";:  83%|████████▎ | 8.32G/10.0G [00:29<00:11, 145MB/s]#033[A\u001b[0m\n",
      "\u001b[34mDownloading (…)00001-of-00003.bin\";:  83%|████████▎ | 8.34G/10.0G [00:29<00:12, 139MB/s]#033[A\u001b[0m\n",
      "\u001b[34mDownloading (…)00001-of-00003.bin\";:  83%|████████▎ | 8.36G/10.0G [00:29<00:12, 136MB/s]#033[A\u001b[0m\n",
      "\u001b[34mDownloading (…)00001-of-00003.bin\";:  84%|████████▎ | 8.38G/10.0G [00:29<00:11, 145MB/s]#033[A\u001b[0m\n",
      "\u001b[34mDownloading (…)00001-of-00003.bin\";:  84%|████████▍ | 8.40G/10.0G [00:30<00:11, 140MB/s]#033[A\u001b[0m\n",
      "\u001b[34mDownloading (…)00001-of-00003.bin\";:  84%|████████▍ | 8.42G/10.0G [00:30<00:11, 137MB/s]#033[A\u001b[0m\n",
      "\u001b[34mDownloading (…)00001-of-00003.bin\";:  84%|████████▍ | 8.44G/10.0G [00:30<00:11, 141MB/s]#033[A\u001b[0m\n",
      "\u001b[34mDownloading (…)00001-of-00003.bin\";:  84%|████████▍ | 8.46G/10.0G [00:30<00:10, 142MB/s]#033[A\u001b[0m\n",
      "\u001b[34mDownloading (…)00001-of-00003.bin\";:  85%|████████▍ | 8.48G/10.0G [00:30<00:11, 136MB/s]#033[A\u001b[0m\n",
      "\u001b[34mDownloading (…)00001-of-00003.bin\";:  85%|████████▍ | 8.50G/10.0G [00:30<00:11, 133MB/s]#033[A\u001b[0m\n",
      "\u001b[34mDownloading (…)00001-of-00003.bin\";:  85%|████████▌ | 8.52G/10.0G [00:31<00:10, 143MB/s]#033[A\u001b[0m\n",
      "\u001b[34mDownloading (…)00001-of-00003.bin\";:  85%|████████▌ | 8.55G/10.0G [00:31<00:11, 134MB/s]#033[A\u001b[0m\n",
      "\u001b[34mDownloading (…)00001-of-00003.bin\";:  85%|████████▌ | 8.57G/10.0G [00:31<00:11, 131MB/s]#033[A\u001b[0m\n",
      "\u001b[34mDownloading (…)00001-of-00003.bin\";:  86%|████████▌ | 8.59G/10.0G [00:31<00:10, 141MB/s]#033[A\u001b[0m\n",
      "\u001b[34mDownloading (…)00001-of-00003.bin\";:  86%|████████▌ | 8.61G/10.0G [00:31<00:10, 137MB/s]#033[A\u001b[0m\n",
      "\u001b[34mDownloading (…)00001-of-00003.bin\";:  86%|████████▌ | 8.63G/10.0G [00:31<00:10, 131MB/s]#033[A\u001b[0m\n",
      "\u001b[34mDownloading (…)00001-of-00003.bin\";:  86%|████████▋ | 8.65G/10.0G [00:31<00:09, 139MB/s]#033[A\u001b[0m\n",
      "\u001b[34mDownloading (…)00001-of-00003.bin\";:  87%|████████▋ | 8.67G/10.0G [00:32<00:09, 141MB/s]#033[A\u001b[0m\n",
      "\u001b[34mDownloading (…)00001-of-00003.bin\";:  87%|████████▋ | 8.69G/10.0G [00:32<00:10, 133MB/s]#033[A\u001b[0m\n",
      "\u001b[34mDownloading (…)00001-of-00003.bin\";:  87%|████████▋ | 8.71G/10.0G [00:32<00:10, 129MB/s]#033[A\u001b[0m\n",
      "\u001b[34mDownloading (…)00001-of-00003.bin\";:  87%|████████▋ | 8.73G/10.0G [00:32<00:09, 134MB/s]#033[A\u001b[0m\n",
      "\u001b[34mDownloading (…)00001-of-00003.bin\";:  87%|████████▋ | 8.76G/10.0G [00:32<00:09, 140MB/s]#033[A\u001b[0m\n",
      "\u001b[34mDownloading (…)00001-of-00003.bin\";:  88%|████████▊ | 8.78G/10.0G [00:32<00:09, 129MB/s]#033[A\u001b[0m\n",
      "\u001b[34mDownloading (…)00001-of-00003.bin\";:  88%|████████▊ | 8.80G/10.0G [00:33<00:08, 140MB/s]#033[A\u001b[0m\n",
      "\u001b[34mDownloading (…)00001-of-00003.bin\";:  88%|████████▊ | 8.82G/10.0G [00:33<00:08, 142MB/s]#033[A\u001b[0m\n",
      "\u001b[34mDownloading (…)00001-of-00003.bin\";:  88%|████████▊ | 8.84G/10.0G [00:33<00:09, 132MB/s]#033[A\u001b[0m\n",
      "\u001b[34mDownloading (…)00001-of-00003.bin\";:  88%|████████▊ | 8.86G/10.0G [00:33<00:08, 132MB/s]#033[A\u001b[0m\n",
      "\u001b[34mDownloading (…)00001-of-00003.bin\";:  89%|████████▊ | 8.88G/10.0G [00:33<00:08, 136MB/s]#033[A\u001b[0m\n",
      "\u001b[34mDownloading (…)00001-of-00003.bin\";:  89%|████████▉ | 8.90G/10.0G [00:33<00:08, 136MB/s]#033[A\u001b[0m\n",
      "\u001b[34mDownloading (…)00001-of-00003.bin\";:  89%|████████▉ | 8.92G/10.0G [00:33<00:08, 132MB/s]#033[A\u001b[0m\n",
      "\u001b[34mDownloading (…)00001-of-00003.bin\";:  89%|████████▉ | 8.94G/10.0G [00:34<00:07, 136MB/s]#033[A\u001b[0m\n",
      "\u001b[34mDownloading (…)00001-of-00003.bin\";:  89%|████████▉ | 8.97G/10.0G [00:34<00:07, 141MB/s]\u001b[0m\n",
      "\u001b[34m#033[A\u001b[0m\n",
      "\u001b[34mDownloading (…)00001-of-00003.bin\";:  90%|████████▉ | 8.99G/10.0G [00:34<00:08, 130MB/s]#033[A\u001b[0m\n",
      "\u001b[34mDownloading (…)00001-of-00003.bin\";:  90%|████████▉ | 9.01G/10.0G [00:34<00:07, 137MB/s]#033[A\u001b[0m\n",
      "\u001b[34mDownloading (…)00001-of-00003.bin\";:  90%|█████████ | 9.03G/10.0G [00:34<00:07, 140MB/s]#033[A\u001b[0m\n",
      "\u001b[34mDownloading (…)00001-of-00003.bin\";:  90%|█████████ | 9.05G/10.0G [00:34<00:07, 131MB/s]#033[A\u001b[0m\n",
      "\u001b[34mDownloading (…)00001-of-00003.bin\";:  90%|█████████ | 9.07G/10.0G [00:35<00:07, 134MB/s]#033[A\u001b[0m\n",
      "\u001b[34mDownloading (…)00001-of-00003.bin\";:  91%|█████████ | 9.09G/10.0G [00:35<00:06, 137MB/s]#033[A\u001b[0m\n",
      "\u001b[34mDownloading (…)00001-of-00003.bin\";:  91%|█████████ | 9.11G/10.0G [00:35<00:06, 138MB/s]#033[A\u001b[0m\n",
      "\u001b[34mDownloading (…)00001-of-00003.bin\";:  91%|█████████ | 9.13G/10.0G [00:35<00:06, 129MB/s]#033[A\u001b[0m\n",
      "\u001b[34mDownloading (…)00001-of-00003.bin\";:  91%|█████████▏| 9.15G/10.0G [00:35<00:06, 135MB/s]#033[A\u001b[0m\n",
      "\u001b[34mDownloading (…)00001-of-00003.bin\";:  92%|█████████▏| 9.18G/10.0G [00:35<00:06, 138MB/s]#033[A\u001b[0m\n",
      "\u001b[34mDownloading (…)00001-of-00003.bin\";:  92%|█████████▏| 9.20G/10.0G [00:36<00:06, 129MB/s]\u001b[0m\n",
      "\u001b[34m#033[A\u001b[0m\n",
      "\u001b[34mDownloading (…)00001-of-00003.bin\";:  92%|█████████▏| 9.22G/10.0G [00:36<00:06, 134MB/s]#033[A\u001b[0m\n",
      "\u001b[34mDownloading (…)00001-of-00003.bin\";:  92%|█████████▏| 9.24G/10.0G [00:36<00:05, 138MB/s]#033[A\u001b[0m\n",
      "\u001b[34mDownloading (…)00001-of-00003.bin\";:  92%|█████████▏| 9.26G/10.0G [00:36<00:05, 132MB/s]#033[A\u001b[0m\n",
      "\u001b[34mDownloading (…)00001-of-00003.bin\";:  93%|█████████▎| 9.28G/10.0G [00:36<00:05, 132MB/s]#033[A\u001b[0m\n",
      "\u001b[34mDownloading (…)00001-of-00003.bin\";:  93%|█████████▎| 9.30G/10.0G [00:36<00:05, 136MB/s]#033[A\u001b[0m\n",
      "\u001b[34mDownloading (…)00001-of-00003.bin\";:  93%|█████████▎| 9.32G/10.0G [00:36<00:05, 137MB/s]#033[A\u001b[0m\n",
      "\u001b[34mDownloading (…)00001-of-00003.bin\";:  93%|█████████▎| 9.34G/10.0G [00:37<00:05, 131MB/s]#033[A\u001b[0m\n",
      "\u001b[34mDownloading (…)00001-of-00003.bin\";:  93%|█████████▎| 9.36G/10.0G [00:37<00:05, 130MB/s]#033[A\u001b[0m\n",
      "\u001b[34mDownloading (…)00001-of-00003.bin\";:  94%|█████████▎| 9.38G/10.0G [00:37<00:04, 141MB/s]#033[A\u001b[0m\n",
      "\u001b[34mDownloading (…)00001-of-00003.bin\";:  94%|█████████▍| 9.41G/10.0G [00:37<00:04, 133MB/s]#033[A\u001b[0m\n",
      "\u001b[34mDownloading (…)00001-of-00003.bin\";:  94%|█████████▍| 9.43G/10.0G [00:37<00:04, 130MB/s]#033[A\u001b[0m\n",
      "\u001b[34mDownloading (…)00001-of-00003.bin\";:  94%|█████████▍| 9.45G/10.0G [00:37<00:04, 133MB/s]#033[A\u001b[0m\n",
      "\u001b[34mDownloading (…)00001-of-00003.bin\";:  94%|█████████▍| 9.47G/10.0G [00:38<00:04, 133MB/s]#033[A\u001b[0m\n",
      "\u001b[34mDownloading (…)00001-of-00003.bin\";:  95%|█████████▍| 9.49G/10.0G [00:38<00:04, 128MB/s]#033[A\u001b[0m\n",
      "\u001b[34mDownloading (…)00001-of-00003.bin\";:  95%|█████████▍| 9.51G/10.0G [00:38<00:04, 106MB/s]#033[A\u001b[0m\n",
      "\u001b[34mDownloading (…)00001-of-00003.bin\";:  95%|█████████▌| 9.55G/10.0G [00:38<00:03, 142MB/s]#033[A\u001b[0m\n",
      "\u001b[34mDownloading (…)00001-of-00003.bin\";:  96%|█████████▌| 9.57G/10.0G [00:38<00:03, 139MB/s]#033[A\u001b[0m\n",
      "\u001b[34mDownloading (…)00001-of-00003.bin\";:  96%|█████████▌| 9.59G/10.0G [00:38<00:03, 143MB/s]#033[A\u001b[0m\n",
      "\u001b[34mDownloading (…)00001-of-00003.bin\";:  96%|█████████▌| 9.62G/10.0G [00:39<00:02, 140MB/s]#033[A\u001b[0m\n",
      "\u001b[34mDownloading (…)00001-of-00003.bin\";:  96%|█████████▌| 9.64G/10.0G [00:39<00:02, 134MB/s]#033[A\u001b[0m\n",
      "\u001b[34mDownloading (…)00001-of-00003.bin\";:  96%|█████████▋| 9.66G/10.0G [00:39<00:02, 137MB/s]#033[A\u001b[0m\n",
      "\u001b[34mDownloading (…)00001-of-00003.bin\";:  97%|█████████▋| 9.68G/10.0G [00:39<00:02, 141MB/s]#033[A\u001b[0m\n",
      "\u001b[34mDownloading (…)00001-of-00003.bin\";:  97%|█████████▋| 9.70G/10.0G [00:39<00:02, 130MB/s]#033[A\u001b[0m\n",
      "\u001b[34mDownloading (…)00001-of-00003.bin\";:  97%|█████████▋| 9.72G/10.0G [00:39<00:02, 143MB/s]#033[A\u001b[0m\n",
      "\u001b[34mDownloading (…)00001-of-00003.bin\";:  97%|█████████▋| 9.74G/10.0G [00:39<00:01, 157MB/s]#033[A\u001b[0m\n",
      "\u001b[34mDownloading (…)00001-of-00003.bin\";:  97%|█████████▋| 9.76G/10.0G [00:40<00:01, 152MB/s]#033[A\u001b[0m\n",
      "\u001b[34mDownloading (…)00001-of-00003.bin\";:  98%|█████████▊| 9.78G/10.0G [00:40<00:01, 137MB/s]#033[A\u001b[0m\n",
      "\u001b[34mDownloading (…)00001-of-00003.bin\";:  98%|█████████▊| 9.81G/10.0G [00:40<00:01, 158MB/s]#033[A\u001b[0m\n",
      "\u001b[34mDownloading (…)00001-of-00003.bin\";:  98%|█████████▊| 9.84G/10.0G [00:40<00:01, 145MB/s]#033[A\u001b[0m\n",
      "\u001b[34mDownloading (…)00001-of-00003.bin\";:  98%|█████████▊| 9.86G/10.0G [00:40<00:01, 137MB/s]#033[A\u001b[0m\n",
      "\u001b[34mDownloading (…)00001-of-00003.bin\";:  99%|█████████▊| 9.89G/10.0G [00:41<00:00, 147MB/s]#033[A\u001b[0m\n",
      "\u001b[34mDownloading (…)00001-of-00003.bin\";:  99%|█████████▉| 9.91G/10.0G [00:41<00:00, 140MB/s]#033[A\u001b[0m\n",
      "\u001b[34mDownloading (…)00001-of-00003.bin\";:  99%|█████████▉| 9.93G/10.0G [00:41<00:00, 137MB/s]#033[A\u001b[0m\n",
      "\u001b[34mDownloading (…)00001-of-00003.bin\";:  99%|█████████▉| 9.95G/10.0G [00:41<00:00, 147MB/s]#033[A\u001b[0m\n",
      "\u001b[34mDownloading (…)00001-of-00003.bin\";:  99%|█████████▉| 9.97G/10.0G [00:41<00:00, 138MB/s]#033[A\u001b[0m\n",
      "\u001b[34mDownloading (…)00001-of-00003.bin\";: 100%|█████████▉| 9.99G/10.0G [00:41<00:00, 132MB/s]#033[A\u001b[0m\n",
      "\u001b[34mDownloading (…)00001-of-00003.bin\";: 100%|█████████▉| 10.0G/10.0G [00:41<00:00, 144MB/s]#033[A\u001b[0m\n",
      "\u001b[34mDownloading (…)00001-of-00003.bin\";: 100%|██████████| 10.0G/10.0G [00:42<00:00, 238MB/s]\u001b[0m\n",
      "\u001b[34mDownloading shards:  33%|███▎      | 1/3 [00:42<01:24, 42.20s/it]\u001b[0m\n",
      "\u001b[34mDownloading (…)00002-of-00003.bin\";:   0%|          | 0.00/9.93G [00:00<?, ?B/s]#033[A\u001b[0m\n",
      "\u001b[34mDownloading (…)00002-of-00003.bin\";:   0%|          | 41.9M/9.93G [00:00<00:24, 404MB/s]#033[A\u001b[0m\n",
      "\u001b[34mDownloading (…)00002-of-00003.bin\";:   1%|          | 83.9M/9.93G [00:00<00:51, 190MB/s]#033[A\u001b[0m\n",
      "\u001b[34mDownloading (…)00002-of-00003.bin\";:   1%|          | 115M/9.93G [00:00<01:00, 162MB/s] #033[A\u001b[0m\n",
      "\u001b[34mDownloading (…)00002-of-00003.bin\";:   1%|▏         | 136M/9.93G [00:00<01:02, 157MB/s]#033[A\u001b[0m\n",
      "\u001b[34mDownloading (…)00002-of-00003.bin\";:   2%|▏         | 157M/9.93G [00:00<01:07, 144MB/s]#033[A\u001b[0m\n",
      "\u001b[34mDownloading (…)00002-of-00003.bin\";:   2%|▏         | 178M/9.93G [00:01<01:09, 141MB/s]#033[A\u001b[0m\n",
      "\u001b[34mDownloading (…)00002-of-00003.bin\";:   2%|▏         | 199M/9.93G [00:01<01:07, 144MB/s]#033[A\u001b[0m\n",
      "\u001b[34mDownloading (…)00002-of-00003.bin\";:   2%|▏         | 220M/9.93G [00:01<01:11, 135MB/s]#033[A\u001b[0m\n",
      "\u001b[34mDownloading (…)00002-of-00003.bin\";:   2%|▏         | 241M/9.93G [00:01<01:13, 131MB/s]#033[A\u001b[0m\n",
      "\u001b[34mDownloading (…)00002-of-00003.bin\";:   3%|▎         | 262M/9.93G [00:01<01:06, 145MB/s]#033[A\u001b[0m\n",
      "\u001b[34mDownloading (…)00002-of-00003.bin\";:   3%|▎         | 283M/9.93G [00:01<01:12, 132MB/s]#033[A\u001b[0m\n",
      "\u001b[34mDownloading (…)00002-of-00003.bin\";:   3%|▎         | 304M/9.93G [00:02<01:15, 128MB/s]#033[A\u001b[0m\n",
      "\u001b[34mDownloading (…)00002-of-00003.bin\";:   3%|▎         | 336M/9.93G [00:02<01:08, 140MB/s]#033[A\u001b[0m\n",
      "\u001b[34mDownloading (…)00002-of-00003.bin\";:   4%|▎         | 357M/9.93G [00:02<01:12, 132MB/s]#033[A\u001b[0m\n",
      "\u001b[34mDownloading (…)00002-of-00003.bin\";:   4%|▍         | 377M/9.93G [00:02<01:13, 131MB/s]#033[A\u001b[0m\n",
      "\u001b[34mDownloading (…)00002-of-00003.bin\";:   4%|▍         | 398M/9.93G [00:02<01:07, 142MB/s]#033[A\u001b[0m\n",
      "\u001b[34mDownloading (…)00002-of-00003.bin\";:   4%|▍         | 419M/9.93G [00:02<01:12, 131MB/s]#033[A\u001b[0m\n",
      "\u001b[34mDownloading (…)00002-of-00003.bin\";:   4%|▍         | 440M/9.93G [00:03<01:13, 129MB/s]#033[A\u001b[0m\n",
      "\u001b[34mDownloading (…)00002-of-00003.bin\";:   5%|▍         | 461M/9.93G [00:03<01:06, 143MB/s]#033[A\u001b[0m\n",
      "\u001b[34mDownloading (…)00002-of-00003.bin\";:   5%|▍         | 482M/9.93G [00:03<01:09, 135MB/s]#033[A\u001b[0m\n",
      "\u001b[34mDownloading (…)00002-of-00003.bin\";:   5%|▌         | 503M/9.93G [00:03<01:14, 126MB/s]#033[A\u001b[0m\n",
      "\u001b[34mDownloading (…)00002-of-00003.bin\";:   5%|▌         | 535M/9.93G [00:03<01:06, 141MB/s]#033[A\u001b[0m\n",
      "\u001b[34mDownloading (…)00002-of-00003.bin\";:   6%|▌         | 556M/9.93G [00:03<01:10, 134MB/s]#033[A\u001b[0m\n",
      "\u001b[34mDownloading (…)00002-of-00003.bin\";:   6%|▌         | 577M/9.93G [00:04<01:11, 130MB/s]#033[A\u001b[0m\n",
      "\u001b[34mDownloading (…)00002-of-00003.bin\";:   6%|▌         | 598M/9.93G [00:04<01:05, 143MB/s]#033[A\u001b[0m\n",
      "\u001b[34mDownloading (…)00002-of-00003.bin\";:   6%|▌         | 619M/9.93G [00:04<01:09, 133MB/s]#033[A\u001b[0m\n",
      "\u001b[34mDownloading (…)00002-of-00003.bin\";:   6%|▋         | 640M/9.93G [00:04<01:14, 125MB/s]#033[A\u001b[0m\n",
      "\u001b[34mDownloading (…)00002-of-00003.bin\";:   7%|▋         | 661M/9.93G [00:04<01:05, 141MB/s]#033[A\u001b[0m\n",
      "\u001b[34mDownloading (…)00002-of-00003.bin\";:   7%|▋         | 682M/9.93G [00:04<01:09, 134MB/s]#033[A\u001b[0m\n",
      "\u001b[34mDownloading (…)00002-of-00003.bin\";:   7%|▋         | 703M/9.93G [00:05<01:11, 129MB/s]#033[A\u001b[0m\n",
      "\u001b[34mDownloading (…)00002-of-00003.bin\";:   7%|▋         | 724M/9.93G [00:05<01:04, 142MB/s]#033[A\u001b[0m\n",
      "\u001b[34mDownloading (…)00002-of-00003.bin\";:   8%|▊         | 744M/9.93G [00:05<01:08, 135MB/s]#033[A\u001b[0m\n",
      "\u001b[34mDownloading (…)00002-of-00003.bin\";:   8%|▊         | 765M/9.93G [00:05<01:11, 128MB/s]#033[A\u001b[0m\n",
      "\u001b[34mDownloading (…)00002-of-00003.bin\";:   8%|▊         | 786M/9.93G [00:05<01:06, 137MB/s]#033[A\u001b[0m\n",
      "\u001b[34mDownloading (…)00002-of-00003.bin\";:   8%|▊         | 807M/9.93G [00:05<01:08, 134MB/s]#033[A\u001b[0m\n",
      "\u001b[34mDownloading (…)00002-of-00003.bin\";:   8%|▊         | 828M/9.93G [00:05<01:10, 130MB/s]#033[A\u001b[0m\n",
      "\u001b[34mDownloading (…)00002-of-00003.bin\";:   9%|▊         | 849M/9.93G [00:06<01:06, 136MB/s]#033[A\u001b[0m\n",
      "\u001b[34mDownloading (…)00002-of-00003.bin\";:   9%|▉         | 870M/9.93G [00:06<01:07, 134MB/s]#033[A\u001b[0m\n",
      "\u001b[34mDownloading (…)00002-of-00003.bin\";:   9%|▉         | 891M/9.93G [00:06<01:11, 127MB/s]#033[A\u001b[0m\n",
      "\u001b[34mDownloading (…)00002-of-00003.bin\";:   9%|▉         | 912M/9.93G [00:06<01:08, 132MB/s]#033[A\u001b[0m\n",
      "\u001b[34mDownloading (…)00002-of-00003.bin\";:   9%|▉         | 933M/9.93G [00:06<01:03, 141MB/s]#033[A\u001b[0m\n",
      "\u001b[34mDownloading (…)00002-of-00003.bin\";:  10%|▉         | 954M/9.93G [00:06<01:07, 133MB/s]#033[A\u001b[0m\n",
      "\u001b[34mDownloading (…)00002-of-00003.bin\";:  10%|▉         | 975M/9.93G [00:07<01:09, 129MB/s]#033[A\u001b[0m\n",
      "\u001b[34mDownloading (…)00002-of-00003.bin\";:  10%|█         | 996M/9.93G [00:07<01:03, 142MB/s]#033[A\u001b[0m\n",
      "\u001b[34mDownloading (…)00002-of-00003.bin\";:  10%|█         | 1.02G/9.93G [00:07<01:05, 135MB/s]#033[A\u001b[0m\n",
      "\u001b[34mDownloading (…)00002-of-00003.bin\";:  10%|█         | 1.04G/9.93G [00:07<01:10, 126MB/s]#033[A\u001b[0m\n",
      "\u001b[34mDownloading (…)00002-of-00003.bin\";:  11%|█         | 1.07G/9.93G [00:07<01:01, 145MB/s]#033[A\u001b[0m\n",
      "\u001b[34mDownloading (…)00002-of-00003.bin\";:  11%|█         | 1.09G/9.93G [00:07<01:06, 133MB/s]#033[A\u001b[0m\n",
      "\u001b[34mDownloading (…)00002-of-00003.bin\";:  11%|█         | 1.11G/9.93G [00:08<01:08, 130MB/s]#033[A\u001b[0m\n",
      "\u001b[34mDownloading (…)00002-of-00003.bin\";:  11%|█▏        | 1.13G/9.93G [00:08<01:03, 139MB/s]#033[A\u001b[0m\n",
      "\u001b[34mDownloading (…)00002-of-00003.bin\";:  12%|█▏        | 1.15G/9.93G [00:08<01:04, 135MB/s]#033[A\u001b[0m\n",
      "\u001b[34mDownloading (…)00002-of-00003.bin\";:  12%|█▏        | 1.17G/9.93G [00:08<01:09, 127MB/s]#033[A\u001b[0m\n",
      "\u001b[34mDownloading (…)00002-of-00003.bin\";:  12%|█▏        | 1.21G/9.93G [00:08<01:02, 140MB/s]#033[A\u001b[0m\n",
      "\u001b[34mDownloading (…)00002-of-00003.bin\";:  12%|█▏        | 1.23G/9.93G [00:08<01:05, 133MB/s]#033[A\u001b[0m\n",
      "\u001b[34mDownloading (…)00002-of-00003.bin\";:  13%|█▎        | 1.25G/9.93G [00:09<01:06, 130MB/s]#033[A\u001b[0m\n",
      "\u001b[34mDownloading (…)00002-of-00003.bin\";:  13%|█▎        | 1.27G/9.93G [00:09<01:01, 141MB/s]#033[A\u001b[0m\n",
      "\u001b[34mDownloading (…)00002-of-00003.bin\";:  13%|█▎        | 1.29G/9.93G [00:09<01:04, 134MB/s]#033[A\u001b[0m\n",
      "\u001b[34mDownloading (…)00002-of-00003.bin\";:  13%|█▎        | 1.31G/9.93G [00:09<01:06, 130MB/s]#033[A\u001b[0m\n",
      "\u001b[34mDownloading (…)00002-of-00003.bin\";:  13%|█▎        | 1.33G/9.93G [00:09<01:01, 140MB/s]#033[A\u001b[0m\n",
      "\u001b[34mDownloading (…)00002-of-00003.bin\";:  14%|█▎        | 1.35G/9.93G [00:09<01:03, 135MB/s]#033[A\u001b[0m\n",
      "\u001b[34mDownloading (…)00002-of-00003.bin\";:  14%|█▍        | 1.37G/9.93G [00:10<01:27, 97.4MB/s]#033[A\u001b[0m\n",
      "\u001b[34mDownloading (…)00002-of-00003.bin\";:  14%|█▍        | 1.42G/9.93G [00:10<00:56, 149MB/s] #033[A\u001b[0m\n",
      "\u001b[34mDownloading (…)00002-of-00003.bin\";:  14%|█▍        | 1.44G/9.93G [00:10<01:00, 140MB/s]#033[A\u001b[0m\n",
      "\u001b[34mDownloading (…)00002-of-00003.bin\";:  15%|█▍        | 1.46G/9.93G [00:10<00:58, 144MB/s]#033[A\u001b[0m\n",
      "\u001b[34mDownloading (…)00002-of-00003.bin\";:  15%|█▍        | 1.48G/9.93G [00:10<00:59, 141MB/s]#033[A\u001b[0m\n",
      "\u001b[34mDownloading (…)00002-of-00003.bin\";:  15%|█▌        | 1.50G/9.93G [00:11<01:04, 131MB/s]#033[A\u001b[0m\n",
      "\u001b[34mDownloading (…)00002-of-00003.bin\";:  15%|█▌        | 1.52G/9.93G [00:11<01:02, 135MB/s]#033[A\u001b[0m\n",
      "\u001b[34mDownloading (…)00002-of-00003.bin\";:  16%|█▌        | 1.54G/9.93G [00:11<00:59, 140MB/s]#033[A\u001b[0m\n",
      "\u001b[34mDownloading (…)00002-of-00003.bin\";:  16%|█▌        | 1.56G/9.93G [00:11<01:02, 133MB/s]#033[A\u001b[0m\n",
      "\u001b[34mDownloading (…)00002-of-00003.bin\";:  16%|█▌        | 1.58G/9.93G [00:11<01:04, 130MB/s]#033[A\u001b[0m\n",
      "\u001b[34mDownloading (…)00002-of-00003.bin\";:  16%|█▌        | 1.60G/9.93G [00:11<00:59, 139MB/s]#033[A\u001b[0m\n",
      "\u001b[34mDownloading (…)00002-of-00003.bin\";:  16%|█▋        | 1.63G/9.93G [00:11<01:02, 134MB/s]#033[A\u001b[0m\n",
      "\u001b[34mDownloading (…)00002-of-00003.bin\";:  17%|█▋        | 1.65G/9.93G [00:12<01:03, 130MB/s]#033[A\u001b[0m\n",
      "\u001b[34mDownloading (…)00002-of-00003.bin\";:  17%|█▋        | 1.67G/9.93G [00:12<00:57, 143MB/s]#033[A\u001b[0m\n",
      "\u001b[34mDownloading (…)00002-of-00003.bin\";:  17%|█▋        | 1.69G/9.93G [00:12<01:00, 135MB/s]#033[A\u001b[0m\n",
      "\u001b[34mDownloading (…)00002-of-00003.bin\";:  17%|█▋        | 1.71G/9.93G [00:12<01:03, 130MB/s]#033[A\u001b[0m\n",
      "\u001b[34mDownloading (…)00002-of-00003.bin\";:  17%|█▋        | 1.73G/9.93G [00:12<00:56, 145MB/s]#033[A\u001b[0m\n",
      "\u001b[34mDownloading (…)00002-of-00003.bin\";:  18%|█▊        | 1.75G/9.93G [00:12<01:00, 135MB/s]#033[A\u001b[0m\n",
      "\u001b[34mDownloading (…)00002-of-00003.bin\";:  18%|█▊        | 1.77G/9.93G [00:13<01:04, 126MB/s]#033[A\u001b[0m\n",
      "\u001b[34mDownloading (…)00002-of-00003.bin\";:  18%|█▊        | 1.79G/9.93G [00:13<00:59, 138MB/s]#033[A\u001b[0m\n",
      "\u001b[34mDownloading (…)00002-of-00003.bin\";:  18%|█▊        | 1.81G/9.93G [00:13<01:00, 135MB/s]#033[A\u001b[0m\n",
      "\u001b[34mDownloading (…)00002-of-00003.bin\";:  18%|█▊        | 1.84G/9.93G [00:13<01:01, 131MB/s]#033[A\u001b[0m\n",
      "\u001b[34mDownloading (…)00002-of-00003.bin\";:  19%|█▊        | 1.86G/9.93G [00:13<01:00, 134MB/s]#033[A\u001b[0m\n",
      "\u001b[34mDownloading (…)00002-of-00003.bin\";:  19%|█▉        | 1.88G/9.93G [00:13<00:57, 139MB/s]#033[A\u001b[0m\n",
      "\u001b[34mDownloading (…)00002-of-00003.bin\";:  19%|█▉        | 1.90G/9.93G [00:13<01:00, 132MB/s]#033[A\u001b[0m\n",
      "\u001b[34mDownloading (…)00002-of-00003.bin\";:  19%|█▉        | 1.92G/9.93G [00:14<00:59, 134MB/s]#033[A\u001b[0m\n",
      "\u001b[34mDownloading (…)00002-of-00003.bin\";:  20%|█▉        | 1.94G/9.93G [00:14<00:57, 139MB/s]#033[A\u001b[0m\n",
      "\u001b[34mDownloading (…)00002-of-00003.bin\";:  20%|█▉        | 1.96G/9.93G [00:14<01:00, 132MB/s]#033[A\u001b[0m\n",
      "\u001b[34mDownloading (…)00002-of-00003.bin\";:  20%|█▉        | 1.98G/9.93G [00:14<01:02, 128MB/s]#033[A\u001b[0m\n",
      "\u001b[34mDownloading (…)00002-of-00003.bin\";:  20%|██        | 2.00G/9.93G [00:14<00:56, 140MB/s]#033[A\u001b[0m\n",
      "\u001b[34mDownloading (…)00002-of-00003.bin\";:  20%|██        | 2.02G/9.93G [00:14<01:00, 131MB/s]#033[A\u001b[0m\n",
      "\u001b[34mDownloading (…)00002-of-00003.bin\";:  21%|██        | 2.04G/9.93G [00:15<01:02, 127MB/s]#033[A\u001b[0m\n",
      "\u001b[34mDownloading (…)00002-of-00003.bin\";:  21%|██        | 2.08G/9.93G [00:15<00:56, 140MB/s]#033[A\u001b[0m\n",
      "\u001b[34mDownloading (…)00002-of-00003.bin\";:  21%|██        | 2.10G/9.93G [00:15<00:57, 136MB/s]#033[A\u001b[0m\n",
      "\u001b[34mDownloading (…)00002-of-00003.bin\";:  21%|██▏       | 2.12G/9.93G [00:15<00:59, 131MB/s]#033[A\u001b[0m\n",
      "\u001b[34mDownloading (…)00002-of-00003.bin\";:  22%|██▏       | 2.15G/9.93G [00:15<00:54, 144MB/s]#033[A\u001b[0m\n",
      "\u001b[34mDownloading (…)00002-of-00003.bin\";:  22%|██▏       | 2.17G/9.93G [00:15<00:57, 135MB/s]#033[A\u001b[0m\n",
      "\u001b[34mDownloading (…)00002-of-00003.bin\";:  22%|██▏       | 2.19G/9.93G [00:16<00:57, 135MB/s]#033[A\u001b[0m\n",
      "\u001b[34mDownloading (…)00002-of-00003.bin\";:  22%|██▏       | 2.21G/9.93G [00:16<00:53, 145MB/s]#033[A\u001b[0m\n",
      "\u001b[34mDownloading (…)00002-of-00003.bin\";:  23%|██▎       | 2.23G/9.93G [00:16<00:57, 133MB/s]#033[A\u001b[0m\n",
      "\u001b[34mDownloading (…)00002-of-00003.bin\";:  23%|██▎       | 2.25G/9.93G [00:16<00:59, 129MB/s]#033[A\u001b[0m\n",
      "\u001b[34mDownloading (…)00002-of-00003.bin\";:  23%|██▎       | 2.28G/9.93G [00:16<00:52, 146MB/s]#033[A\u001b[0m\n",
      "\u001b[34mDownloading (…)00002-of-00003.bin\";:  23%|██▎       | 2.30G/9.93G [00:16<00:56, 136MB/s]#033[A\u001b[0m\n",
      "\u001b[34mDownloading (…)00002-of-00003.bin\";:  23%|██▎       | 2.32G/9.93G [00:17<00:59, 127MB/s]#033[A\u001b[0m\n",
      "\u001b[34mDownloading (…)00002-of-00003.bin\";:  24%|██▎       | 2.35G/9.93G [00:17<00:53, 141MB/s]#033[A\u001b[0m\n",
      "\u001b[34mDownloading (…)00002-of-00003.bin\";:  24%|██▍       | 2.37G/9.93G [00:17<00:56, 135MB/s]#033[A\u001b[0m\n",
      "\u001b[34mDownloading (…)00002-of-00003.bin\";:  24%|██▍       | 2.39G/9.93G [00:17<00:57, 131MB/s]#033[A\u001b[0m\n",
      "\u001b[34mDownloading (…)00002-of-00003.bin\";:  24%|██▍       | 2.41G/9.93G [00:17<00:53, 141MB/s]#033[A\u001b[0m\n",
      "\u001b[34mDownloading (…)00002-of-00003.bin\";:  25%|██▍       | 2.43G/9.93G [00:17<00:56, 134MB/s]#033[A\u001b[0m\n",
      "\u001b[34mDownloading (…)00002-of-00003.bin\";:  25%|██▍       | 2.45G/9.93G [00:18<00:58, 127MB/s]#033[A\u001b[0m\n",
      "\u001b[34mDownloading (…)00002-of-00003.bin\";:  25%|██▍       | 2.47G/9.93G [00:18<00:53, 139MB/s]#033[A\u001b[0m\n",
      "\u001b[34mDownloading (…)00002-of-00003.bin\";:  25%|██▌       | 2.50G/9.93G [00:18<00:56, 131MB/s]#033[A\u001b[0m\n",
      "\u001b[34mDownloading (…)00002-of-00003.bin\";:  25%|██▌       | 2.52G/9.93G [00:18<00:58, 127MB/s]#033[A\u001b[0m\n",
      "\u001b[34mDownloading (…)00002-of-00003.bin\";:  26%|██▌       | 2.54G/9.93G [00:18<00:52, 140MB/s]#033[A\u001b[0m\n",
      "\u001b[34mDownloading (…)00002-of-00003.bin\";:  26%|██▌       | 2.56G/9.93G [00:18<00:55, 134MB/s]#033[A\u001b[0m\n",
      "\u001b[34mDownloading (…)00002-of-00003.bin\";:  26%|██▌       | 2.58G/9.93G [00:19<00:58, 126MB/s]#033[A\u001b[0m\n",
      "\u001b[34mDownloading (…)00002-of-00003.bin\";:  26%|██▌       | 2.60G/9.93G [00:19<00:52, 139MB/s]#033[A\u001b[0m\n",
      "\u001b[34mDownloading (…)00002-of-00003.bin\";:  26%|██▋       | 2.62G/9.93G [00:19<00:53, 137MB/s]#033[A\u001b[0m\n",
      "\u001b[34mDownloading (…)00002-of-00003.bin\";:  27%|██▋       | 2.64G/9.93G [00:19<00:55, 130MB/s]#033[A\u001b[0m\n",
      "\u001b[34mDownloading (…)00002-of-00003.bin\";:  27%|██▋       | 2.66G/9.93G [00:19<00:53, 135MB/s]#033[A\u001b[0m\n",
      "\u001b[34mDownloading (…)00002-of-00003.bin\";:  27%|██▋       | 2.68G/9.93G [00:19<00:52, 139MB/s]#033[A\u001b[0m\n",
      "\u001b[34mDownloading (…)00002-of-00003.bin\";:  27%|██▋       | 2.71G/9.93G [00:19<00:54, 133MB/s]#033[A\u001b[0m\n",
      "\u001b[34mDownloading (…)00002-of-00003.bin\";:  27%|██▋       | 2.73G/9.93G [00:20<00:57, 125MB/s]\u001b[0m\n",
      "\u001b[34m#033[A\u001b[0m\n",
      "\u001b[34mDownloading (…)00002-of-00003.bin\";:  28%|██▊       | 2.75G/9.93G [00:20<01:15, 95.7MB/s]#033[A\u001b[0m\n",
      "\u001b[34mDownloading (…)00002-of-00003.bin\";:  28%|██▊       | 2.78G/9.93G [00:20<00:57, 123MB/s] #033[A\u001b[0m\n",
      "\u001b[34mDownloading (…)00002-of-00003.bin\";:  28%|██▊       | 2.80G/9.93G [00:20<00:58, 121MB/s]\u001b[0m\n",
      "\u001b[34m#033[A\u001b[0m\n",
      "\u001b[34mDownloading (…)00002-of-00003.bin\";:  28%|██▊       | 2.82G/9.93G [00:20<00:59, 119MB/s]#033[A\u001b[0m\n",
      "\u001b[34mDownloading (…)00002-of-00003.bin\";:  29%|██▊       | 2.84G/9.93G [00:21<01:00, 118MB/s]#033[A\u001b[0m\n",
      "\u001b[34mDownloading (…)00002-of-00003.bin\";:  29%|██▉       | 2.86G/9.93G [00:21<00:59, 118MB/s]#033[A\u001b[0m\n",
      "\u001b[34mDownloading (…)00002-of-00003.bin\";:  29%|██▉       | 2.88G/9.93G [00:21<01:01, 115MB/s]#033[A\u001b[0m\n",
      "\u001b[34mDownloading (…)00002-of-00003.bin\";:  29%|██▉       | 2.90G/9.93G [00:21<00:59, 118MB/s]#033[A\u001b[0m\n",
      "\u001b[34mDownloading (…)00002-of-00003.bin\";:  29%|██▉       | 2.93G/9.93G [00:21<01:00, 116MB/s]#033[A\u001b[0m\n",
      "\u001b[34mDownloading (…)00002-of-00003.bin\";:  30%|██▉       | 2.95G/9.93G [00:22<00:59, 117MB/s]#033[A\u001b[0m\n",
      "\u001b[34mDownloading (…)00002-of-00003.bin\";:  30%|██▉       | 2.97G/9.93G [00:22<00:59, 117MB/s]#033[A\u001b[0m\n",
      "\u001b[34mDownloading (…)00002-of-00003.bin\";:  30%|███       | 2.99G/9.93G [00:22<01:00, 114MB/s]#033[A\u001b[0m\n",
      "\u001b[34mDownloading (…)00002-of-00003.bin\";:  30%|███       | 3.01G/9.93G [00:22<01:00, 115MB/s]#033[A\u001b[0m\n",
      "\u001b[34mDownloading (…)00002-of-00003.bin\";:  31%|███       | 3.03G/9.93G [00:22<00:58, 117MB/s]#033[A\u001b[0m\n",
      "\u001b[34mDownloading (…)00002-of-00003.bin\";:  31%|███       | 3.05G/9.93G [00:22<00:59, 116MB/s]#033[A\u001b[0m\n",
      "\u001b[34mDownloading (…)00002-of-00003.bin\";:  31%|███       | 3.07G/9.93G [00:23<00:55, 123MB/s]#033[A\u001b[0m\n",
      "\u001b[34mDownloading (…)00002-of-00003.bin\";:  31%|███       | 3.09G/9.93G [00:23<00:53, 128MB/s]#033[A\u001b[0m\n",
      "\u001b[34mDownloading (…)00002-of-00003.bin\";:  31%|███▏      | 3.11G/9.93G [00:23<00:54, 125MB/s]#033[A\u001b[0m\n",
      "\u001b[34mDownloading (…)00002-of-00003.bin\";:  32%|███▏      | 3.14G/9.93G [00:23<00:53, 126MB/s]#033[A\u001b[0m\n",
      "\u001b[34mDownloading (…)00002-of-00003.bin\";:  32%|███▏      | 3.16G/9.93G [00:23<00:50, 135MB/s]#033[A\u001b[0m\n",
      "\u001b[34mDownloading (…)00002-of-00003.bin\";:  32%|███▏      | 3.18G/9.93G [00:23<00:51, 130MB/s]#033[A\u001b[0m\n",
      "\u001b[34mDownloading (…)00002-of-00003.bin\";:  32%|███▏      | 3.20G/9.93G [00:24<00:53, 127MB/s]#033[A\u001b[0m\n",
      "\u001b[34mDownloading (…)00002-of-00003.bin\";:  33%|███▎      | 3.23G/9.93G [00:24<00:46, 144MB/s]#033[A\u001b[0m\n",
      "\u001b[34mDownloading (…)00002-of-00003.bin\";:  33%|███▎      | 3.25G/9.93G [00:24<00:49, 136MB/s]#033[A\u001b[0m\n",
      "\u001b[34mDownloading (…)00002-of-00003.bin\";:  33%|███▎      | 3.27G/9.93G [00:24<00:49, 136MB/s]#033[A\u001b[0m\n",
      "\u001b[34mDownloading (…)00002-of-00003.bin\";:  33%|███▎      | 3.29G/9.93G [00:24<00:44, 151MB/s]#033[A\u001b[0m\n",
      "\u001b[34mDownloading (…)00002-of-00003.bin\";:  33%|███▎      | 3.31G/9.93G [00:24<00:46, 144MB/s]#033[A\u001b[0m\n",
      "\u001b[34mDownloading (…)00002-of-00003.bin\";:  34%|███▎      | 3.33G/9.93G [00:25<00:48, 136MB/s]#033[A\u001b[0m\n",
      "\u001b[34mDownloading (…)00002-of-00003.bin\";:  34%|███▍      | 3.36G/9.93G [00:25<00:45, 145MB/s]#033[A\u001b[0m\n",
      "\u001b[34mDownloading (…)00002-of-00003.bin\";:  34%|███▍      | 3.38G/9.93G [00:25<00:44, 147MB/s]#033[A\u001b[0m\n",
      "\u001b[34mDownloading (…)00002-of-00003.bin\";:  34%|███▍      | 3.40G/9.93G [00:25<00:47, 137MB/s]#033[A\u001b[0m\n",
      "\u001b[34mDownloading (…)00002-of-00003.bin\";:  34%|███▍      | 3.42G/9.93G [00:25<00:47, 138MB/s]#033[A\u001b[0m\n",
      "\u001b[34mDownloading (…)00002-of-00003.bin\";:  35%|███▍      | 3.45G/9.93G [00:25<00:43, 150MB/s]#033[A\u001b[0m\n",
      "\u001b[34mDownloading (…)00002-of-00003.bin\";:  35%|███▍      | 3.47G/9.93G [00:25<00:46, 140MB/s]#033[A\u001b[0m\n",
      "\u001b[34mDownloading (…)00002-of-00003.bin\";:  35%|███▌      | 3.49G/9.93G [00:26<00:44, 143MB/s]#033[A\u001b[0m\n",
      "\u001b[34mDownloading (…)00002-of-00003.bin\";:  35%|███▌      | 3.51G/9.93G [00:26<00:41, 156MB/s]#033[A\u001b[0m\n",
      "\u001b[34mDownloading (…)00002-of-00003.bin\";:  36%|███▌      | 3.53G/9.93G [00:26<00:44, 143MB/s]#033[A\u001b[0m\n",
      "\u001b[34mDownloading (…)00002-of-00003.bin\";:  36%|███▌      | 3.55G/9.93G [00:26<00:47, 135MB/s]#033[A\u001b[0m\n",
      "\u001b[34mDownloading (…)00002-of-00003.bin\";:  36%|███▌      | 3.59G/9.93G [00:26<00:40, 155MB/s]#033[A\u001b[0m\n",
      "\u001b[34mDownloading (…)00002-of-00003.bin\";:  36%|███▋      | 3.61G/9.93G [00:26<00:44, 140MB/s]#033[A\u001b[0m\n",
      "\u001b[34mDownloading (…)00002-of-00003.bin\";:  37%|███▋      | 3.63G/9.93G [00:27<00:45, 137MB/s]#033[A\u001b[0m\n",
      "\u001b[34mDownloading (…)00002-of-00003.bin\";:  37%|███▋      | 3.65G/9.93G [00:27<00:41, 151MB/s]#033[A\u001b[0m\n",
      "\u001b[34mDownloading (…)00002-of-00003.bin\";:  37%|███▋      | 3.67G/9.93G [00:27<00:43, 143MB/s]#033[A\u001b[0m\n",
      "\u001b[34mDownloading (…)00002-of-00003.bin\";:  37%|███▋      | 3.69G/9.93G [00:27<00:46, 135MB/s]#033[A\u001b[0m\n",
      "\u001b[34mDownloading (…)00002-of-00003.bin\";:  37%|███▋      | 3.71G/9.93G [00:27<00:43, 144MB/s]#033[A\u001b[0m\n",
      "\u001b[34mDownloading (…)00002-of-00003.bin\";:  38%|███▊      | 3.73G/9.93G [00:27<00:41, 149MB/s]#033[A\u001b[0m\n",
      "\u001b[34mDownloading (…)00002-of-00003.bin\";:  38%|███▊      | 3.75G/9.93G [00:27<00:45, 135MB/s]#033[A\u001b[0m\n",
      "\u001b[34mDownloading (…)00002-of-00003.bin\";:  38%|███▊      | 3.77G/9.93G [00:28<00:45, 137MB/s]#033[A\u001b[0m\n",
      "\u001b[34mDownloading (…)00002-of-00003.bin\";:  38%|███▊      | 3.80G/9.93G [00:28<00:41, 148MB/s]#033[A\u001b[0m\n",
      "\u001b[34mDownloading (…)00002-of-00003.bin\";:  38%|███▊      | 3.82G/9.93G [00:28<00:44, 137MB/s]#033[A\u001b[0m\n",
      "\u001b[34mDownloading (…)00002-of-00003.bin\";:  39%|███▊      | 3.84G/9.93G [00:28<00:46, 131MB/s]#033[A\u001b[0m\n",
      "\u001b[34mDownloading (…)00002-of-00003.bin\";:  39%|███▉      | 3.87G/9.93G [00:28<00:39, 153MB/s]#033[A\u001b[0m\n",
      "\u001b[34mDownloading (…)00002-of-00003.bin\";:  39%|███▉      | 3.89G/9.93G [00:28<00:43, 140MB/s]#033[A\u001b[0m\n",
      "\u001b[34mDownloading (…)00002-of-00003.bin\";:  39%|███▉      | 3.91G/9.93G [00:29<00:44, 134MB/s]#033[A\u001b[0m\n",
      "\u001b[34mDownloading (…)00002-of-00003.bin\";:  40%|███▉      | 3.94G/9.93G [00:29<00:39, 151MB/s]#033[A\u001b[0m\n",
      "\u001b[34mDownloading (…)00002-of-00003.bin\";:  40%|███▉      | 3.96G/9.93G [00:29<00:43, 137MB/s]#033[A\u001b[0m\n",
      "\u001b[34mDownloading (…)00002-of-00003.bin\";:  40%|████      | 3.98G/9.93G [00:29<00:43, 136MB/s]#033[A\u001b[0m\n",
      "\u001b[34mDownloading (…)00002-of-00003.bin\";:  40%|████      | 4.02G/9.93G [00:29<00:39, 149MB/s]#033[A\u001b[0m\n",
      "\u001b[34mDownloading (…)00002-of-00003.bin\";:  41%|████      | 4.04G/9.93G [00:29<00:42, 139MB/s]#033[A\u001b[0m\n",
      "\u001b[34mDownloading (…)00002-of-00003.bin\";:  41%|████      | 4.06G/9.93G [00:30<00:41, 142MB/s]#033[A\u001b[0m\n",
      "\u001b[34mDownloading (…)00002-of-00003.bin\";:  41%|████      | 4.08G/9.93G [00:30<00:39, 150MB/s]#033[A\u001b[0m\n",
      "\u001b[34mDownloading (…)00002-of-00003.bin\";:  41%|████▏     | 4.10G/9.93G [00:30<00:43, 133MB/s]\u001b[0m\n",
      "\u001b[34m#033[A\u001b[0m\n",
      "\u001b[34mDownloading (…)00002-of-00003.bin\";:  42%|████▏     | 4.12G/9.93G [00:30<00:55, 104MB/s]#033[A\u001b[0m\n",
      "\u001b[34mDownloading (…)00002-of-00003.bin\";:  42%|████▏     | 4.16G/9.93G [00:30<00:36, 157MB/s]#033[A\u001b[0m\n",
      "\u001b[34mDownloading (…)00002-of-00003.bin\";:  42%|████▏     | 4.18G/9.93G [00:31<00:39, 146MB/s]#033[A\u001b[0m\n",
      "\u001b[34mDownloading (…)00002-of-00003.bin\";:  42%|████▏     | 4.20G/9.93G [00:31<00:38, 148MB/s]#033[A\u001b[0m\n",
      "\u001b[34mDownloading (…)00002-of-00003.bin\";:  43%|████▎     | 4.23G/9.93G [00:31<00:38, 147MB/s]#033[A\u001b[0m\n",
      "\u001b[34mDownloading (…)00002-of-00003.bin\";:  43%|████▎     | 4.25G/9.93G [00:31<00:42, 134MB/s]#033[A\u001b[0m\n",
      "\u001b[34mDownloading (…)00002-of-00003.bin\";:  43%|████▎     | 4.27G/9.93G [00:31<00:40, 138MB/s]#033[A\u001b[0m\n",
      "\u001b[34mDownloading (…)00002-of-00003.bin\";:  43%|████▎     | 4.29G/9.93G [00:31<00:39, 143MB/s]#033[A\u001b[0m\n",
      "\u001b[34mDownloading (…)00002-of-00003.bin\";:  43%|████▎     | 4.31G/9.93G [00:31<00:41, 135MB/s]#033[A\u001b[0m\n",
      "\u001b[34mDownloading (…)00002-of-00003.bin\";:  44%|████▎     | 4.33G/9.93G [00:32<00:38, 144MB/s]#033[A\u001b[0m\n",
      "\u001b[34mDownloading (…)00002-of-00003.bin\";:  44%|████▍     | 4.35G/9.93G [00:32<00:38, 147MB/s]#033[A\u001b[0m\n",
      "\u001b[34mDownloading (…)00002-of-00003.bin\";:  44%|████▍     | 4.37G/9.93G [00:32<00:40, 137MB/s]#033[A\u001b[0m\n",
      "\u001b[34mDownloading (…)00002-of-00003.bin\";:  44%|████▍     | 4.39G/9.93G [00:32<00:42, 130MB/s]#033[A\u001b[0m\n",
      "\u001b[34mDownloading (…)00002-of-00003.bin\";:  44%|████▍     | 4.41G/9.93G [00:32<00:38, 142MB/s]#033[A\u001b[0m\n",
      "\u001b[34mDownloading (…)00002-of-00003.bin\";:  45%|████▍     | 4.44G/9.93G [00:32<00:41, 132MB/s]#033[A\u001b[0m\n",
      "\u001b[34mDownloading (…)00002-of-00003.bin\";:  45%|████▍     | 4.46G/9.93G [00:33<00:42, 128MB/s]#033[A\u001b[0m\n",
      "\u001b[34mDownloading (…)00002-of-00003.bin\";:  45%|████▌     | 4.48G/9.93G [00:33<00:39, 139MB/s]#033[A\u001b[0m\n",
      "\u001b[34mDownloading (…)00002-of-00003.bin\";:  45%|████▌     | 4.50G/9.93G [00:33<00:39, 137MB/s]#033[A\u001b[0m\n",
      "\u001b[34mDownloading (…)00002-of-00003.bin\";:  46%|████▌     | 4.52G/9.93G [00:33<00:41, 130MB/s]#033[A\u001b[0m\n",
      "\u001b[34mDownloading (…)00002-of-00003.bin\";:  46%|████▌     | 4.54G/9.93G [00:33<00:39, 137MB/s]#033[A\u001b[0m\n",
      "\u001b[34mDownloading (…)00002-of-00003.bin\";:  46%|████▌     | 4.56G/9.93G [00:33<00:39, 136MB/s]#033[A\u001b[0m\n",
      "\u001b[34mDownloading (…)00002-of-00003.bin\";:  46%|████▌     | 4.58G/9.93G [00:33<00:40, 131MB/s]#033[A\u001b[0m\n",
      "\u001b[34mDownloading (…)00002-of-00003.bin\";:  46%|████▋     | 4.60G/9.93G [00:34<00:40, 132MB/s]#033[A\u001b[0m\n",
      "\u001b[34mDownloading (…)00002-of-00003.bin\";:  47%|████▋     | 4.62G/9.93G [00:34<00:38, 136MB/s]#033[A\u001b[0m\n",
      "\u001b[34mDownloading (…)00002-of-00003.bin\";:  47%|████▋     | 4.65G/9.93G [00:34<00:41, 127MB/s]#033[A\u001b[0m\n",
      "\u001b[34mDownloading (…)00002-of-00003.bin\";:  47%|████▋     | 4.67G/9.93G [00:34<00:40, 129MB/s]#033[A\u001b[0m\n",
      "\u001b[34mDownloading (…)00002-of-00003.bin\";:  47%|████▋     | 4.69G/9.93G [00:34<00:36, 144MB/s]#033[A\u001b[0m\n",
      "\u001b[34mDownloading (…)00002-of-00003.bin\";:  47%|████▋     | 4.71G/9.93G [00:34<00:39, 132MB/s]#033[A\u001b[0m\n",
      "\u001b[34mDownloading (…)00002-of-00003.bin\";:  48%|████▊     | 4.73G/9.93G [00:35<00:41, 126MB/s]#033[A\u001b[0m\n",
      "\u001b[34mDownloading (…)00002-of-00003.bin\";:  48%|████▊     | 4.76G/9.93G [00:35<00:36, 142MB/s]#033[A\u001b[0m\n",
      "\u001b[34mDownloading (…)00002-of-00003.bin\";:  48%|████▊     | 4.78G/9.93G [00:35<00:38, 135MB/s]#033[A\u001b[0m\n",
      "\u001b[34mDownloading (…)00002-of-00003.bin\";:  48%|████▊     | 4.80G/9.93G [00:35<00:38, 134MB/s]#033[A\u001b[0m\n",
      "\u001b[34mDownloading (…)00002-of-00003.bin\";:  49%|████▊     | 4.82G/9.93G [00:35<00:35, 143MB/s]#033[A\u001b[0m\n",
      "\u001b[34mDownloading (…)00002-of-00003.bin\";:  49%|████▉     | 4.84G/9.93G [00:35<00:37, 135MB/s]#033[A\u001b[0m\n",
      "\u001b[34mDownloading (…)00002-of-00003.bin\";:  49%|████▉     | 4.87G/9.93G [00:36<00:40, 126MB/s]#033[A\u001b[0m\n",
      "\u001b[34mDownloading (…)00002-of-00003.bin\";:  49%|████▉     | 4.90G/9.93G [00:36<00:35, 142MB/s]#033[A\u001b[0m\n",
      "\u001b[34mDownloading (…)00002-of-00003.bin\";:  50%|████▉     | 4.92G/9.93G [00:36<00:37, 135MB/s]#033[A\u001b[0m\n",
      "\u001b[34mDownloading (…)00002-of-00003.bin\";:  50%|████▉     | 4.94G/9.93G [00:36<00:37, 132MB/s]#033[A\u001b[0m\n",
      "\u001b[34mDownloading (…)00002-of-00003.bin\";:  50%|████▉     | 4.96G/9.93G [00:36<00:35, 141MB/s]#033[A\u001b[0m\n",
      "\u001b[34mDownloading (…)00002-of-00003.bin\";:  50%|█████     | 4.98G/9.93G [00:36<00:37, 133MB/s]#033[A\u001b[0m\n",
      "\u001b[34mDownloading (…)00002-of-00003.bin\";:  50%|█████     | 5.00G/9.93G [00:37<00:38, 128MB/s]#033[A\u001b[0m\n",
      "\u001b[34mDownloading (…)00002-of-00003.bin\";:  51%|█████     | 5.03G/9.93G [00:37<00:34, 142MB/s]#033[A\u001b[0m\n",
      "\u001b[34mDownloading (…)00002-of-00003.bin\";:  51%|█████     | 5.05G/9.93G [00:37<00:36, 134MB/s]#033[A\u001b[0m\n",
      "\u001b[34mDownloading (…)00002-of-00003.bin\";:  51%|█████     | 5.08G/9.93G [00:37<00:36, 134MB/s]#033[A\u001b[0m\n",
      "\u001b[34mDownloading (…)00002-of-00003.bin\";:  51%|█████▏    | 5.10G/9.93G [00:37<00:34, 141MB/s]#033[A\u001b[0m\n",
      "\u001b[34mDownloading (…)00002-of-00003.bin\";:  52%|█████▏    | 5.12G/9.93G [00:37<00:36, 130MB/s]#033[A\u001b[0m\n",
      "\u001b[34mDownloading (…)00002-of-00003.bin\";:  52%|█████▏    | 5.14G/9.93G [00:38<00:37, 129MB/s]#033[A\u001b[0m\n",
      "\u001b[34mDownloading (…)00002-of-00003.bin\";:  52%|█████▏    | 5.17G/9.93G [00:38<00:33, 142MB/s]#033[A\u001b[0m\n",
      "\u001b[34mDownloading (…)00002-of-00003.bin\";:  52%|█████▏    | 5.19G/9.93G [00:38<00:36, 131MB/s]#033[A\u001b[0m\n",
      "\u001b[34mDownloading (…)00002-of-00003.bin\";:  53%|█████▎    | 5.21G/9.93G [00:38<00:34, 136MB/s]#033[A\u001b[0m\n",
      "\u001b[34mDownloading (…)00002-of-00003.bin\";:  53%|█████▎    | 5.23G/9.93G [00:38<00:33, 142MB/s]#033[A\u001b[0m\n",
      "\u001b[34mDownloading (…)00002-of-00003.bin\";:  53%|█████▎    | 5.25G/9.93G [00:38<00:34, 134MB/s]#033[A\u001b[0m\n",
      "\u001b[34mDownloading (…)00002-of-00003.bin\";:  53%|█████▎    | 5.27G/9.93G [00:39<00:35, 131MB/s]#033[A\u001b[0m\n",
      "\u001b[34mDownloading (…)00002-of-00003.bin\";:  53%|█████▎    | 5.30G/9.93G [00:39<00:32, 143MB/s]#033[A\u001b[0m\n",
      "\u001b[34mDownloading (…)00002-of-00003.bin\";:  54%|█████▎    | 5.32G/9.93G [00:39<00:35, 131MB/s]#033[A\u001b[0m\n",
      "\u001b[34mDownloading (…)00002-of-00003.bin\";:  54%|█████▍    | 5.34G/9.93G [00:39<00:37, 123MB/s]#033[A\u001b[0m\n",
      "\u001b[34mDownloading (…)00002-of-00003.bin\";:  54%|█████▍    | 5.37G/9.93G [00:39<00:32, 140MB/s]#033[A\u001b[0m\n",
      "\u001b[34mDownloading (…)00002-of-00003.bin\";:  54%|█████▍    | 5.39G/9.93G [00:39<00:33, 134MB/s]#033[A\u001b[0m\n",
      "\u001b[34mDownloading (…)00002-of-00003.bin\";:  55%|█████▍    | 5.41G/9.93G [00:40<00:34, 130MB/s]#033[A\u001b[0m\n",
      "\u001b[34mDownloading (…)00002-of-00003.bin\";:  55%|█████▍    | 5.43G/9.93G [00:40<00:32, 140MB/s]#033[A\u001b[0m\n",
      "\u001b[34mDownloading (…)00002-of-00003.bin\";:  55%|█████▍    | 5.45G/9.93G [00:40<00:33, 134MB/s]#033[A\u001b[0m\n",
      "\u001b[34mDownloading (…)00002-of-00003.bin\";:  55%|█████▌    | 5.47G/9.93G [00:40<00:34, 130MB/s]#033[A\u001b[0m\n",
      "\u001b[34mDownloading (…)00002-of-00003.bin\";:  55%|█████▌    | 5.49G/9.93G [00:40<00:31, 143MB/s]#033[A\u001b[0m\n",
      "\u001b[34mDownloading (…)00002-of-00003.bin\";:  56%|█████▌    | 5.52G/9.93G [00:40<00:39, 112MB/s]#033[A\u001b[0m\n",
      "\u001b[34mDownloading (…)00002-of-00003.bin\";:  56%|█████▌    | 5.55G/9.93G [00:41<00:31, 141MB/s]#033[A\u001b[0m\n",
      "\u001b[34mDownloading (…)00002-of-00003.bin\";:  56%|█████▌    | 5.57G/9.93G [00:41<00:30, 143MB/s]#033[A\u001b[0m\n",
      "\u001b[34mDownloading (…)00002-of-00003.bin\";:  56%|█████▋    | 5.59G/9.93G [00:41<00:31, 136MB/s]#033[A\u001b[0m\n",
      "\u001b[34mDownloading (…)00002-of-00003.bin\";:  57%|█████▋    | 5.61G/9.93G [00:41<00:32, 132MB/s]#033[A\u001b[0m\n",
      "\u001b[34mDownloading (…)00002-of-00003.bin\";:  57%|█████▋    | 5.63G/9.93G [00:41<00:29, 143MB/s]#033[A\u001b[0m\n",
      "\u001b[34mDownloading (…)00002-of-00003.bin\";:  57%|█████▋    | 5.65G/9.93G [00:41<00:32, 132MB/s]#033[A\u001b[0m\n",
      "\u001b[34mDownloading (…)00002-of-00003.bin\";:  57%|█████▋    | 5.67G/9.93G [00:42<00:33, 128MB/s]#033[A\u001b[0m\n",
      "\u001b[34mDownloading (…)00002-of-00003.bin\";:  57%|█████▋    | 5.70G/9.93G [00:42<00:30, 141MB/s]#033[A\u001b[0m\n",
      "\u001b[34mDownloading (…)00002-of-00003.bin\";:  58%|█████▊    | 5.73G/9.93G [00:42<00:32, 131MB/s]#033[A\u001b[0m\n",
      "\u001b[34mDownloading (…)00002-of-00003.bin\";:  58%|█████▊    | 5.75G/9.93G [00:42<00:30, 135MB/s]#033[A\u001b[0m\n",
      "\u001b[34mDownloading (…)00002-of-00003.bin\";:  58%|█████▊    | 5.77G/9.93G [00:42<00:29, 142MB/s]#033[A\u001b[0m\n",
      "\u001b[34mDownloading (…)00002-of-00003.bin\";:  58%|█████▊    | 5.79G/9.93G [00:42<00:31, 133MB/s]#033[A\u001b[0m\n",
      "\u001b[34mDownloading (…)00002-of-00003.bin\";:  59%|█████▊    | 5.81G/9.93G [00:43<00:31, 130MB/s]#033[A\u001b[0m\n",
      "\u001b[34mDownloading (…)00002-of-00003.bin\";:  59%|█████▊    | 5.83G/9.93G [00:43<00:28, 145MB/s]#033[A\u001b[0m\n",
      "\u001b[34mDownloading (…)00002-of-00003.bin\";:  59%|█████▉    | 5.85G/9.93G [00:43<00:30, 134MB/s]#033[A\u001b[0m\n",
      "\u001b[34mDownloading (…)00002-of-00003.bin\";:  59%|█████▉    | 5.87G/9.93G [00:43<00:31, 130MB/s]#033[A\u001b[0m\n",
      "\u001b[34mDownloading (…)00002-of-00003.bin\";:  59%|█████▉    | 5.89G/9.93G [00:43<00:28, 141MB/s]#033[A\u001b[0m\n",
      "\u001b[34mDownloading (…)00002-of-00003.bin\";:  60%|█████▉    | 5.91G/9.93G [00:43<00:29, 134MB/s]#033[A\u001b[0m\n",
      "\u001b[34mDownloading (…)00002-of-00003.bin\";:  60%|█████▉    | 5.93G/9.93G [00:44<00:31, 126MB/s]#033[A\u001b[0m\n",
      "\u001b[34mDownloading (…)00002-of-00003.bin\";:  60%|██████    | 5.96G/9.93G [00:44<00:28, 139MB/s]#033[A\u001b[0m\n",
      "\u001b[34mDownloading (…)00002-of-00003.bin\";:  60%|██████    | 5.98G/9.93G [00:44<00:29, 136MB/s]#033[A\u001b[0m\n",
      "\u001b[34mDownloading (…)00002-of-00003.bin\";:  60%|██████    | 6.00G/9.93G [00:44<00:30, 130MB/s]#033[A\u001b[0m\n",
      "\u001b[34mDownloading (…)00002-of-00003.bin\";:  61%|██████    | 6.02G/9.93G [00:44<00:28, 136MB/s]#033[A\u001b[0m\n",
      "\u001b[34mDownloading (…)00002-of-00003.bin\";:  61%|██████    | 6.04G/9.93G [00:44<00:28, 138MB/s]#033[A\u001b[0m\n",
      "\u001b[34mDownloading (…)00002-of-00003.bin\";:  61%|██████    | 6.06G/9.93G [00:44<00:29, 132MB/s]#033[A\u001b[0m\n",
      "\u001b[34mDownloading (…)00002-of-00003.bin\";:  61%|██████▏   | 6.08G/9.93G [00:45<00:28, 136MB/s]#033[A\u001b[0m\n",
      "\u001b[34mDownloading (…)00002-of-00003.bin\";:  61%|██████▏   | 6.10G/9.93G [00:45<00:26, 142MB/s]#033[A\u001b[0m\n",
      "\u001b[34mDownloading (…)00002-of-00003.bin\";:  62%|██████▏   | 6.12G/9.93G [00:45<00:28, 132MB/s]#033[A\u001b[0m\n",
      "\u001b[34mDownloading (…)00002-of-00003.bin\";:  62%|██████▏   | 6.14G/9.93G [00:45<00:29, 128MB/s]#033[A\u001b[0m\n",
      "\u001b[34mDownloading (…)00002-of-00003.bin\";:  62%|██████▏   | 6.17G/9.93G [00:45<00:26, 140MB/s]#033[A\u001b[0m\n",
      "\u001b[34mDownloading (…)00002-of-00003.bin\";:  62%|██████▏   | 6.19G/9.93G [00:45<00:28, 132MB/s]#033[A\u001b[0m\n",
      "\u001b[34mDownloading (…)00002-of-00003.bin\";:  63%|██████▎   | 6.21G/9.93G [00:46<00:29, 126MB/s]#033[A\u001b[0m\n",
      "\u001b[34mDownloading (…)00002-of-00003.bin\";:  63%|██████▎   | 6.24G/9.93G [00:46<00:25, 146MB/s]#033[A\u001b[0m\n",
      "\u001b[34mDownloading (…)00002-of-00003.bin\";:  63%|██████▎   | 6.26G/9.93G [00:46<00:27, 134MB/s]#033[A\u001b[0m\n",
      "\u001b[34mDownloading (…)00002-of-00003.bin\";:  63%|██████▎   | 6.28G/9.93G [00:46<00:28, 130MB/s]#033[A\u001b[0m\n",
      "\u001b[34mDownloading (…)00002-of-00003.bin\";:  63%|██████▎   | 6.30G/9.93G [00:46<00:25, 141MB/s]#033[A\u001b[0m\n",
      "\u001b[34mDownloading (…)00002-of-00003.bin\";:  64%|██████▎   | 6.32G/9.93G [00:46<00:26, 134MB/s]#033[A\u001b[0m\n",
      "\u001b[34mDownloading (…)00002-of-00003.bin\";:  64%|██████▍   | 6.34G/9.93G [00:47<00:28, 126MB/s]#033[A\u001b[0m\n",
      "\u001b[34mDownloading (…)00002-of-00003.bin\";:  64%|██████▍   | 6.36G/9.93G [00:47<00:25, 142MB/s]#033[A\u001b[0m\n",
      "\u001b[34mDownloading (…)00002-of-00003.bin\";:  64%|██████▍   | 6.39G/9.93G [00:47<00:26, 133MB/s]#033[A\u001b[0m\n",
      "\u001b[34mDownloading (…)00002-of-00003.bin\";:  65%|██████▍   | 6.41G/9.93G [00:47<00:27, 127MB/s]#033[A\u001b[0m\n",
      "\u001b[34mDownloading (…)00002-of-00003.bin\";:  65%|██████▍   | 6.43G/9.93G [00:47<00:24, 140MB/s]#033[A\u001b[0m\n",
      "\u001b[34mDownloading (…)00002-of-00003.bin\";:  65%|██████▍   | 6.45G/9.93G [00:47<00:25, 136MB/s]#033[A\u001b[0m\n",
      "\u001b[34mDownloading (…)00002-of-00003.bin\";:  65%|██████▌   | 6.47G/9.93G [00:47<00:26, 130MB/s]#033[A\u001b[0m\n",
      "\u001b[34mDownloading (…)00002-of-00003.bin\";:  65%|██████▌   | 6.49G/9.93G [00:48<00:24, 138MB/s]#033[A\u001b[0m\n",
      "\u001b[34mDownloading (…)00002-of-00003.bin\";:  66%|██████▌   | 6.51G/9.93G [00:48<00:24, 139MB/s]#033[A\u001b[0m\n",
      "\u001b[34mDownloading (…)00002-of-00003.bin\";:  66%|██████▌   | 6.53G/9.93G [00:48<00:26, 130MB/s]#033[A\u001b[0m\n",
      "\u001b[34mDownloading (…)00002-of-00003.bin\";:  66%|██████▌   | 6.55G/9.93G [00:48<00:25, 133MB/s]#033[A\u001b[0m\n",
      "\u001b[34mDownloading (…)00002-of-00003.bin\";:  66%|██████▌   | 6.57G/9.93G [00:48<00:24, 139MB/s]#033[A\u001b[0m\n",
      "\u001b[34mDownloading (…)00002-of-00003.bin\";:  66%|██████▋   | 6.60G/9.93G [00:48<00:25, 131MB/s]#033[A\u001b[0m\n",
      "\u001b[34mDownloading (…)00002-of-00003.bin\";:  67%|██████▋   | 6.62G/9.93G [00:49<00:25, 129MB/s]#033[A\u001b[0m\n",
      "\u001b[34mDownloading (…)00002-of-00003.bin\";:  67%|██████▋   | 6.64G/9.93G [00:49<00:22, 145MB/s]#033[A\u001b[0m\n",
      "\u001b[34mDownloading (…)00002-of-00003.bin\";:  67%|██████▋   | 6.66G/9.93G [00:49<00:24, 132MB/s]#033[A\u001b[0m\n",
      "\u001b[34mDownloading (…)00002-of-00003.bin\";:  67%|██████▋   | 6.68G/9.93G [00:49<00:25, 128MB/s]#033[A\u001b[0m\n",
      "\u001b[34mDownloading (…)00002-of-00003.bin\";:  68%|██████▊   | 6.70G/9.93G [00:49<00:22, 140MB/s]#033[A\u001b[0m\n",
      "\u001b[34mDownloading (…)00002-of-00003.bin\";:  68%|██████▊   | 6.72G/9.93G [00:49<00:24, 133MB/s]#033[A\u001b[0m\n",
      "\u001b[34mDownloading (…)00002-of-00003.bin\";:  68%|██████▊   | 6.74G/9.93G [00:50<00:24, 129MB/s]#033[A\u001b[0m\n",
      "\u001b[34mDownloading (…)00002-of-00003.bin\";:  68%|██████▊   | 6.76G/9.93G [00:50<00:22, 139MB/s]#033[A\u001b[0m\n",
      "\u001b[34mDownloading (…)00002-of-00003.bin\";:  68%|██████▊   | 6.78G/9.93G [00:50<00:23, 133MB/s]#033[A\u001b[0m\n",
      "\u001b[34mDownloading (…)00002-of-00003.bin\";:  69%|██████▊   | 6.81G/9.93G [00:50<00:24, 129MB/s]#033[A\u001b[0m\n",
      "\u001b[34mDownloading (…)00002-of-00003.bin\";:  69%|██████▉   | 6.83G/9.93G [00:50<00:22, 135MB/s]#033[A\u001b[0m\n",
      "\u001b[34mDownloading (…)00002-of-00003.bin\";:  69%|██████▉   | 6.85G/9.93G [00:50<00:22, 139MB/s]#033[A\u001b[0m\n",
      "\u001b[34mDownloading (…)00002-of-00003.bin\";:  69%|██████▉   | 6.87G/9.93G [00:51<00:32, 94.7MB/s]#033[A\u001b[0m\n",
      "\u001b[34mDownloading (…)00002-of-00003.bin\";:  70%|██████▉   | 6.91G/9.93G [00:51<00:20, 147MB/s] #033[A\u001b[0m\n",
      "\u001b[34mDownloading (…)00002-of-00003.bin\";:  70%|██████▉   | 6.93G/9.93G [00:51<00:19, 156MB/s]#033[A\u001b[0m\n",
      "\u001b[34mDownloading (…)00002-of-00003.bin\";:  70%|███████   | 6.95G/9.93G [00:51<00:20, 145MB/s]#033[A\u001b[0m\n",
      "\u001b[34mDownloading (…)00002-of-00003.bin\";:  70%|███████   | 6.97G/9.93G [00:51<00:19, 148MB/s]#033[A\u001b[0m\n",
      "\u001b[34mDownloading (…)00002-of-00003.bin\";:  70%|███████   | 6.99G/9.93G [00:51<00:21, 139MB/s]#033[A\u001b[0m\n",
      "\u001b[34mDownloading (…)00002-of-00003.bin\";:  71%|███████   | 7.01G/9.93G [00:52<00:22, 130MB/s]#033[A\u001b[0m\n",
      "\u001b[34mDownloading (…)00002-of-00003.bin\";:  71%|███████   | 7.04G/9.93G [00:52<00:20, 140MB/s]#033[A\u001b[0m\n",
      "\u001b[34mDownloading (…)00002-of-00003.bin\";:  71%|███████   | 7.06G/9.93G [00:52<00:21, 133MB/s]#033[A\u001b[0m\n",
      "\u001b[34mDownloading (…)00002-of-00003.bin\";:  71%|███████▏  | 7.08G/9.93G [00:52<00:22, 129MB/s]#033[A\u001b[0m\n",
      "\u001b[34mDownloading (…)00002-of-00003.bin\";:  72%|███████▏  | 7.10G/9.93G [00:52<00:20, 138MB/s]#033[A\u001b[0m\n",
      "\u001b[34mDownloading (…)00002-of-00003.bin\";:  72%|███████▏  | 7.12G/9.93G [00:52<00:21, 132MB/s]#033[A\u001b[0m\n",
      "\u001b[34mDownloading (…)00002-of-00003.bin\";:  72%|███████▏  | 7.14G/9.93G [00:52<00:21, 127MB/s]#033[A\u001b[0m\n",
      "\u001b[34mDownloading (…)00002-of-00003.bin\";:  72%|███████▏  | 7.16G/9.93G [00:53<00:20, 137MB/s]#033[A\u001b[0m\n",
      "\u001b[34mDownloading (…)00002-of-00003.bin\";:  72%|███████▏  | 7.18G/9.93G [00:53<00:19, 139MB/s]#033[A\u001b[0m\n",
      "\u001b[34mDownloading (…)00002-of-00003.bin\";:  73%|███████▎  | 7.20G/9.93G [00:53<00:21, 128MB/s]#033[A\u001b[0m\n",
      "\u001b[34mDownloading (…)00002-of-00003.bin\";:  73%|███████▎  | 7.22G/9.93G [00:53<00:20, 135MB/s]#033[A\u001b[0m\n",
      "\u001b[34mDownloading (…)00002-of-00003.bin\";:  73%|███████▎  | 7.25G/9.93G [00:53<00:19, 140MB/s]#033[A\u001b[0m\n",
      "\u001b[34mDownloading (…)00002-of-00003.bin\";:  73%|███████▎  | 7.27G/9.93G [00:53<00:20, 131MB/s]#033[A\u001b[0m\n",
      "\u001b[34mDownloading (…)00002-of-00003.bin\";:  73%|███████▎  | 7.29G/9.93G [00:54<00:20, 130MB/s]#033[A\u001b[0m\n",
      "\u001b[34mDownloading (…)00002-of-00003.bin\";:  74%|███████▎  | 7.31G/9.93G [00:54<00:18, 143MB/s]#033[A\u001b[0m\n",
      "\u001b[34mDownloading (…)00002-of-00003.bin\";:  74%|███████▍  | 7.33G/9.93G [00:54<00:19, 135MB/s]#033[A\u001b[0m\n",
      "\u001b[34mDownloading (…)00002-of-00003.bin\";:  74%|███████▍  | 7.35G/9.93G [00:54<00:20, 125MB/s]#033[A\u001b[0m\n",
      "\u001b[34mDownloading (…)00002-of-00003.bin\";:  74%|███████▍  | 7.38G/9.93G [00:54<00:18, 141MB/s]#033[A\u001b[0m\n",
      "\u001b[34mDownloading (…)00002-of-00003.bin\";:  75%|███████▍  | 7.40G/9.93G [00:54<00:18, 134MB/s]#033[A\u001b[0m\n",
      "\u001b[34mDownloading (…)00002-of-00003.bin\";:  75%|███████▍  | 7.42G/9.93G [00:55<00:19, 131MB/s]#033[A\u001b[0m\n",
      "\u001b[34mDownloading (…)00002-of-00003.bin\";:  75%|███████▌  | 7.44G/9.93G [00:55<00:17, 140MB/s]#033[A\u001b[0m\n",
      "\u001b[34mDownloading (…)00002-of-00003.bin\";:  75%|███████▌  | 7.47G/9.93G [00:55<00:18, 134MB/s]#033[A\u001b[0m\n",
      "\u001b[34mDownloading (…)00002-of-00003.bin\";:  75%|███████▌  | 7.49G/9.93G [00:55<00:18, 129MB/s]#033[A\u001b[0m\n",
      "\u001b[34mDownloading (…)00002-of-00003.bin\";:  76%|███████▌  | 7.51G/9.93G [00:55<00:17, 140MB/s]#033[A\u001b[0m\n",
      "\u001b[34mDownloading (…)00002-of-00003.bin\";:  76%|███████▌  | 7.53G/9.93G [00:55<00:17, 135MB/s]#033[A\u001b[0m\n",
      "\u001b[34mDownloading (…)00002-of-00003.bin\";:  76%|███████▌  | 7.55G/9.93G [00:56<00:18, 126MB/s]#033[A\u001b[0m\n",
      "\u001b[34mDownloading (…)00002-of-00003.bin\";:  76%|███████▋  | 7.58G/9.93G [00:56<00:16, 143MB/s]#033[A\u001b[0m\n",
      "\u001b[34mDownloading (…)00002-of-00003.bin\";:  77%|███████▋  | 7.60G/9.93G [00:56<00:17, 132MB/s]#033[A\u001b[0m\n",
      "\u001b[34mDownloading (…)00002-of-00003.bin\";:  77%|███████▋  | 7.62G/9.93G [00:56<00:17, 129MB/s]#033[A\u001b[0m\n",
      "\u001b[34mDownloading (…)00002-of-00003.bin\";:  77%|███████▋  | 7.64G/9.93G [00:56<00:16, 142MB/s]#033[A\u001b[0m\n",
      "\u001b[34mDownloading (…)00002-of-00003.bin\";:  77%|███████▋  | 7.67G/9.93G [00:56<00:16, 135MB/s]#033[A\u001b[0m\n",
      "\u001b[34mDownloading (…)00002-of-00003.bin\";:  77%|███████▋  | 7.69G/9.93G [00:57<00:17, 129MB/s]#033[A\u001b[0m\n",
      "\u001b[34mDownloading (…)00002-of-00003.bin\";:  78%|███████▊  | 7.71G/9.93G [00:57<00:15, 140MB/s]#033[A\u001b[0m\n",
      "\u001b[34mDownloading (…)00002-of-00003.bin\";:  78%|███████▊  | 7.73G/9.93G [00:57<00:16, 137MB/s]#033[A\u001b[0m\n",
      "\u001b[34mDownloading (…)00002-of-00003.bin\";:  78%|███████▊  | 7.75G/9.93G [00:57<00:14, 146MB/s]#033[A\u001b[0m\n",
      "\u001b[34mDownloading (…)00002-of-00003.bin\";:  78%|███████▊  | 7.77G/9.93G [00:57<00:14, 145MB/s]#033[A\u001b[0m\n",
      "\u001b[34mDownloading (…)00002-of-00003.bin\";:  78%|███████▊  | 7.79G/9.93G [00:57<00:15, 138MB/s]#033[A\u001b[0m\n",
      "\u001b[34mDownloading (…)00002-of-00003.bin\";:  79%|███████▊  | 7.81G/9.93G [00:57<00:16, 127MB/s]#033[A\u001b[0m\n",
      "\u001b[34mDownloading (…)00002-of-00003.bin\";:  79%|███████▉  | 7.83G/9.93G [00:58<00:15, 137MB/s]#033[A\u001b[0m\n",
      "\u001b[34mDownloading (…)00002-of-00003.bin\";:  79%|███████▉  | 7.85G/9.93G [00:58<00:15, 137MB/s]#033[A\u001b[0m\n",
      "\u001b[34mDownloading (…)00002-of-00003.bin\";:  79%|███████▉  | 7.87G/9.93G [00:58<00:15, 131MB/s]#033[A\u001b[0m\n",
      "\u001b[34mDownloading (…)00002-of-00003.bin\";:  80%|███████▉  | 7.90G/9.93G [00:58<00:15, 130MB/s]#033[A\u001b[0m\n",
      "\u001b[34mDownloading (…)00002-of-00003.bin\";:  80%|███████▉  | 7.92G/9.93G [00:58<00:14, 141MB/s]#033[A\u001b[0m\n",
      "\u001b[34mDownloading (…)00002-of-00003.bin\";:  80%|███████▉  | 7.94G/9.93G [00:58<00:14, 133MB/s]#033[A\u001b[0m\n",
      "\u001b[34mDownloading (…)00002-of-00003.bin\";:  80%|████████  | 7.96G/9.93G [00:59<00:15, 127MB/s]#033[A\u001b[0m\n",
      "\u001b[34mDownloading (…)00002-of-00003.bin\";:  80%|████████  | 7.98G/9.93G [00:59<00:13, 140MB/s]#033[A\u001b[0m\n",
      "\u001b[34mDownloading (…)00002-of-00003.bin\";:  81%|████████  | 8.00G/9.93G [00:59<00:14, 133MB/s]#033[A\u001b[0m\n",
      "\u001b[34mDownloading (…)00002-of-00003.bin\";:  81%|████████  | 8.02G/9.93G [00:59<00:15, 125MB/s]#033[A\u001b[0m\n",
      "\u001b[34mDownloading (…)00002-of-00003.bin\";:  81%|████████  | 8.05G/9.93G [00:59<00:13, 141MB/s]#033[A\u001b[0m\n",
      "\u001b[34mDownloading (…)00002-of-00003.bin\";:  81%|████████▏ | 8.07G/9.93G [00:59<00:14, 132MB/s]#033[A\u001b[0m\n",
      "\u001b[34mDownloading (…)00002-of-00003.bin\";:  82%|████████▏ | 8.10G/9.93G [01:00<00:13, 131MB/s]#033[A\u001b[0m\n",
      "\u001b[34mDownloading (…)00002-of-00003.bin\";:  82%|████████▏ | 8.12G/9.93G [01:00<00:12, 141MB/s]#033[A\u001b[0m\n",
      "\u001b[34mDownloading (…)00002-of-00003.bin\";:  82%|████████▏ | 8.14G/9.93G [01:00<00:13, 135MB/s]#033[A\u001b[0m\n",
      "\u001b[34mDownloading (…)00002-of-00003.bin\";:  82%|████████▏ | 8.16G/9.93G [01:00<00:13, 127MB/s]#033[A\u001b[0m\n",
      "\u001b[34mDownloading (…)00002-of-00003.bin\";:  83%|████████▎ | 8.19G/9.93G [01:00<00:12, 139MB/s]#033[A\u001b[0m\n",
      "\u001b[34mDownloading (…)00002-of-00003.bin\";:  83%|████████▎ | 8.21G/9.93G [01:00<00:12, 132MB/s]#033[A\u001b[0m\n",
      "\u001b[34mDownloading (…)00002-of-00003.bin\";:  83%|████████▎ | 8.23G/9.93G [01:01<00:13, 130MB/s]#033[A\u001b[0m\n",
      "\u001b[34mDownloading (…)00002-of-00003.bin\";:  83%|████████▎ | 8.25G/9.93G [01:01<00:16, 103MB/s]#033[A\u001b[0m\n",
      "\u001b[34mDownloading (…)00002-of-00003.bin\";:  84%|████████▎ | 8.29G/9.93G [01:01<00:11, 142MB/s]#033[A\u001b[0m\n",
      "\u001b[34mDownloading (…)00002-of-00003.bin\";:  84%|████████▍ | 8.32G/9.93G [01:01<00:10, 149MB/s]#033[A\u001b[0m\n",
      "\u001b[34mDownloading (…)00002-of-00003.bin\";:  84%|████████▍ | 8.34G/9.93G [01:01<00:11, 140MB/s]#033[A\u001b[0m\n",
      "\u001b[34mDownloading (…)00002-of-00003.bin\";:  84%|████████▍ | 8.36G/9.93G [01:02<00:11, 132MB/s]#033[A\u001b[0m\n",
      "\u001b[34mDownloading (…)00002-of-00003.bin\";:  85%|████████▍ | 8.39G/9.93G [01:02<00:10, 146MB/s]#033[A\u001b[0m\n",
      "\u001b[34mDownloading (…)00002-of-00003.bin\";:  85%|████████▍ | 8.41G/9.93G [01:02<00:11, 134MB/s]#033[A\u001b[0m\n",
      "\u001b[34mDownloading (…)00002-of-00003.bin\";:  85%|████████▍ | 8.43G/9.93G [01:02<00:11, 131MB/s]#033[A\u001b[0m\n",
      "\u001b[34mDownloading (…)00002-of-00003.bin\";:  85%|████████▌ | 8.45G/9.93G [01:02<00:10, 143MB/s]#033[A\u001b[0m\n",
      "\u001b[34mDownloading (…)00002-of-00003.bin\";:  85%|████████▌ | 8.47G/9.93G [01:02<00:10, 135MB/s]#033[A\u001b[0m\n",
      "\u001b[34mDownloading (…)00002-of-00003.bin\";:  86%|████████▌ | 8.49G/9.93G [01:03<00:11, 127MB/s]#033[A\u001b[0m\n",
      "\u001b[34mDownloading (…)00002-of-00003.bin\";:  86%|████████▌ | 8.51G/9.93G [01:03<00:10, 141MB/s]#033[A\u001b[0m\n",
      "\u001b[34mDownloading (…)00002-of-00003.bin\";:  86%|████████▌ | 8.54G/9.93G [01:03<00:10, 133MB/s]#033[A\u001b[0m\n",
      "\u001b[34mDownloading (…)00002-of-00003.bin\";:  86%|████████▌ | 8.56G/9.93G [01:03<00:10, 125MB/s]#033[A\u001b[0m\n",
      "\u001b[34mDownloading (…)00002-of-00003.bin\";:  87%|████████▋ | 8.59G/9.93G [01:03<00:09, 139MB/s]#033[A\u001b[0m\n",
      "\u001b[34mDownloading (…)00002-of-00003.bin\";:  87%|████████▋ | 8.61G/9.93G [01:03<00:09, 133MB/s]#033[A\u001b[0m\n",
      "\u001b[34mDownloading (…)00002-of-00003.bin\";:  87%|████████▋ | 8.63G/9.93G [01:04<00:09, 130MB/s]#033[A\u001b[0m\n",
      "\u001b[34mDownloading (…)00002-of-00003.bin\";:  87%|████████▋ | 8.66G/9.93G [01:04<00:08, 142MB/s]#033[A\u001b[0m\n",
      "\u001b[34mDownloading (…)00002-of-00003.bin\";:  87%|████████▋ | 8.68G/9.93G [01:04<00:09, 132MB/s]#033[A\u001b[0m\n",
      "\u001b[34mDownloading (…)00002-of-00003.bin\";:  88%|████████▊ | 8.70G/9.93G [01:04<00:09, 135MB/s]#033[A\u001b[0m\n",
      "\u001b[34mDownloading (…)00002-of-00003.bin\";:  88%|████████▊ | 8.72G/9.93G [01:04<00:08, 141MB/s]#033[A\u001b[0m\n",
      "\u001b[34mDownloading (…)00002-of-00003.bin\";:  88%|████████▊ | 8.75G/9.93G [01:04<00:08, 132MB/s]#033[A\u001b[0m\n",
      "\u001b[34mDownloading (…)00002-of-00003.bin\";:  88%|████████▊ | 8.77G/9.93G [01:05<00:08, 132MB/s]#033[A\u001b[0m\n",
      "\u001b[34mDownloading (…)00002-of-00003.bin\";:  89%|████████▊ | 8.79G/9.93G [01:05<00:08, 139MB/s]#033[A\u001b[0m\n",
      "\u001b[34mDownloading (…)00002-of-00003.bin\";:  89%|████████▊ | 8.81G/9.93G [01:05<00:08, 131MB/s]#033[A\u001b[0m\n",
      "\u001b[34mDownloading (…)00002-of-00003.bin\";:  89%|████████▉ | 8.83G/9.93G [01:05<00:08, 127MB/s]#033[A\u001b[0m\n",
      "\u001b[34mDownloading (…)00002-of-00003.bin\";:  89%|████████▉ | 8.85G/9.93G [01:05<00:07, 142MB/s]#033[A\u001b[0m\n",
      "\u001b[34mDownloading (…)00002-of-00003.bin\";:  89%|████████▉ | 8.87G/9.93G [01:05<00:07, 134MB/s]#033[A\u001b[0m\n",
      "\u001b[34mDownloading (…)00002-of-00003.bin\";:  90%|████████▉ | 8.89G/9.93G [01:06<00:08, 127MB/s]#033[A\u001b[0m\n",
      "\u001b[34mDownloading (…)00002-of-00003.bin\";:  90%|████████▉ | 8.91G/9.93G [01:06<00:07, 138MB/s]#033[A\u001b[0m\n",
      "\u001b[34mDownloading (…)00002-of-00003.bin\";:  90%|█████████ | 8.93G/9.93G [01:06<00:07, 131MB/s]#033[A\u001b[0m\n",
      "\u001b[34mDownloading (…)00002-of-00003.bin\";:  90%|█████████ | 8.95G/9.93G [01:06<00:07, 126MB/s]#033[A\u001b[0m\n",
      "\u001b[34mDownloading (…)00002-of-00003.bin\";:  90%|█████████ | 8.98G/9.93G [01:06<00:06, 139MB/s]#033[A\u001b[0m\n",
      "\u001b[34mDownloading (…)00002-of-00003.bin\";:  91%|█████████ | 9.00G/9.93G [01:06<00:06, 137MB/s]#033[A\u001b[0m\n",
      "\u001b[34mDownloading (…)00002-of-00003.bin\";:  91%|█████████ | 9.02G/9.93G [01:06<00:07, 128MB/s]#033[A\u001b[0m\n",
      "\u001b[34mDownloading (…)00002-of-00003.bin\";:  91%|█████████ | 9.04G/9.93G [01:07<00:06, 136MB/s]#033[A\u001b[0m\n",
      "\u001b[34mDownloading (…)00002-of-00003.bin\";:  91%|█████████▏| 9.06G/9.93G [01:07<00:06, 136MB/s]#033[A\u001b[0m\n",
      "\u001b[34mDownloading (…)00002-of-00003.bin\";:  91%|█████████▏| 9.08G/9.93G [01:07<00:06, 132MB/s]#033[A\u001b[0m\n",
      "\u001b[34mDownloading (…)00002-of-00003.bin\";:  92%|█████████▏| 9.10G/9.93G [01:07<00:06, 132MB/s]#033[A\u001b[0m\n",
      "\u001b[34mDownloading (…)00002-of-00003.bin\";:  92%|█████████▏| 9.12G/9.93G [01:07<00:05, 141MB/s]#033[A\u001b[0m\n",
      "\u001b[34mDownloading (…)00002-of-00003.bin\";:  92%|█████████▏| 9.14G/9.93G [01:07<00:05, 133MB/s]#033[A\u001b[0m\n",
      "\u001b[34mDownloading (…)00002-of-00003.bin\";:  92%|█████████▏| 9.16G/9.93G [01:08<00:05, 132MB/s]#033[A\u001b[0m\n",
      "\u001b[34mDownloading (…)00002-of-00003.bin\";:  93%|█████████▎| 9.20G/9.93G [01:08<00:05, 143MB/s]#033[A\u001b[0m\n",
      "\u001b[34mDownloading (…)00002-of-00003.bin\";:  93%|█████████▎| 9.22G/9.93G [01:08<00:05, 135MB/s]#033[A\u001b[0m\n",
      "\u001b[34mDownloading (…)00002-of-00003.bin\";:  93%|█████████▎| 9.24G/9.93G [01:08<00:05, 133MB/s]#033[A\u001b[0m\n",
      "\u001b[34mDownloading (…)00002-of-00003.bin\";:  93%|█████████▎| 9.26G/9.93G [01:08<00:04, 139MB/s]#033[A\u001b[0m\n",
      "\u001b[34mDownloading (…)00002-of-00003.bin\";:  93%|█████████▎| 9.28G/9.93G [01:08<00:04, 131MB/s]#033[A\u001b[0m\n",
      "\u001b[34mDownloading (…)00002-of-00003.bin\";:  94%|█████████▎| 9.30G/9.93G [01:09<00:04, 130MB/s]#033[A\u001b[0m\n",
      "\u001b[34mDownloading (…)00002-of-00003.bin\";:  94%|█████████▍| 9.32G/9.93G [01:09<00:04, 141MB/s]#033[A\u001b[0m\n",
      "\u001b[34mDownloading (…)00002-of-00003.bin\";:  94%|█████████▍| 9.34G/9.93G [01:09<00:04, 135MB/s]#033[A\u001b[0m\n",
      "\u001b[34mDownloading (…)00002-of-00003.bin\";:  94%|█████████▍| 9.36G/9.93G [01:09<00:04, 126MB/s]#033[A\u001b[0m\n",
      "\u001b[34mDownloading (…)00002-of-00003.bin\";:  95%|█████████▍| 9.40G/9.93G [01:09<00:03, 138MB/s]#033[A\u001b[0m\n",
      "\u001b[34mDownloading (…)00002-of-00003.bin\";:  95%|█████████▍| 9.42G/9.93G [01:09<00:03, 134MB/s]#033[A\u001b[0m\n",
      "\u001b[34mDownloading (…)00002-of-00003.bin\";:  95%|█████████▌| 9.44G/9.93G [01:10<00:03, 131MB/s]#033[A\u001b[0m\n",
      "\u001b[34mDownloading (…)00002-of-00003.bin\";:  95%|█████████▌| 9.46G/9.93G [01:10<00:03, 141MB/s]#033[A\u001b[0m\n",
      "\u001b[34mDownloading (…)00002-of-00003.bin\";:  95%|█████████▌| 9.48G/9.93G [01:10<00:03, 129MB/s]#033[A\u001b[0m\n",
      "\u001b[34mDownloading (…)00002-of-00003.bin\";:  96%|█████████▌| 9.50G/9.93G [01:10<00:03, 127MB/s]#033[A\u001b[0m\n",
      "\u001b[34mDownloading (…)00002-of-00003.bin\";:  96%|█████████▌| 9.53G/9.93G [01:10<00:02, 139MB/s]#033[A\u001b[0m\n",
      "\u001b[34mDownloading (…)00002-of-00003.bin\";:  96%|█████████▌| 9.55G/9.93G [01:10<00:02, 135MB/s]#033[A\u001b[0m\n",
      "\u001b[34mDownloading (…)00002-of-00003.bin\";:  96%|█████████▋| 9.57G/9.93G [01:11<00:02, 135MB/s]#033[A\u001b[0m\n",
      "\u001b[34mDownloading (…)00002-of-00003.bin\";:  97%|█████████▋| 9.59G/9.93G [01:11<00:02, 141MB/s]#033[A\u001b[0m\n",
      "\u001b[34mDownloading (…)00002-of-00003.bin\";:  97%|█████████▋| 9.62G/9.93G [01:11<00:03, 95.5MB/s]#033[A\u001b[0m\n",
      "\u001b[34mDownloading (…)00002-of-00003.bin\";:  97%|█████████▋| 9.65G/9.93G [01:11<00:02, 127MB/s] #033[A\u001b[0m\n",
      "\u001b[34mDownloading (…)00002-of-00003.bin\";:  98%|█████████▊| 9.68G/9.93G [01:11<00:01, 161MB/s]#033[A\u001b[0m\n",
      "\u001b[34mDownloading (…)00002-of-00003.bin\";:  98%|█████████▊| 9.70G/9.93G [01:11<00:01, 156MB/s]#033[A\u001b[0m\n",
      "\u001b[34mDownloading (…)00002-of-00003.bin\";:  98%|█████████▊| 9.72G/9.93G [01:12<00:01, 159MB/s]#033[A\u001b[0m\n",
      "\u001b[34mDownloading (…)00002-of-00003.bin\";:  98%|█████████▊| 9.74G/9.93G [01:12<00:01, 143MB/s]#033[A\u001b[0m\n",
      "\u001b[34mDownloading (…)00002-of-00003.bin\";:  98%|█████████▊| 9.76G/9.93G [01:12<00:01, 133MB/s]#033[A\u001b[0m\n",
      "\u001b[34mDownloading (…)00002-of-00003.bin\";:  99%|█████████▊| 9.78G/9.93G [01:12<00:01, 139MB/s]#033[A\u001b[0m\n",
      "\u001b[34mDownloading (…)00002-of-00003.bin\";:  99%|█████████▉| 9.80G/9.93G [01:12<00:00, 139MB/s]#033[A\u001b[0m\n",
      "\u001b[34mDownloading (…)00002-of-00003.bin\";:  99%|█████████▉| 9.83G/9.93G [01:12<00:00, 132MB/s]#033[A\u001b[0m\n",
      "\u001b[34mDownloading (…)00002-of-00003.bin\";:  99%|█████████▉| 9.85G/9.93G [01:13<00:00, 134MB/s]#033[A\u001b[0m\n",
      "\u001b[34mDownloading (…)00002-of-00003.bin\";:  99%|█████████▉| 9.87G/9.93G [01:13<00:00, 135MB/s]#033[A\u001b[0m\n",
      "\u001b[34mDownloading (…)00002-of-00003.bin\";: 100%|█████████▉| 9.89G/9.93G [01:13<00:00, 131MB/s]#033[A\u001b[0m\n",
      "\u001b[34mDownloading (…)00002-of-00003.bin\";: 100%|█████████▉| 9.91G/9.93G [01:13<00:00, 130MB/s]#033[A\u001b[0m\n",
      "\u001b[34mDownloading (…)00002-of-00003.bin\";: 100%|██████████| 9.93G/9.93G [01:13<00:00, 133MB/s]#033[A\u001b[0m\n",
      "\u001b[34mDownloading (…)00002-of-00003.bin\";: 100%|██████████| 9.93G/9.93G [01:13<00:00, 135MB/s]\u001b[0m\n",
      "\u001b[34mDownloading shards:  67%|██████▋   | 2/3 [01:56<01:00, 60.83s/it]\u001b[0m\n",
      "\u001b[34mDownloading (…)00003-of-00003.bin\";:   0%|          | 0.00/6.01G [00:00<?, ?B/s]#033[A\u001b[0m\n",
      "\u001b[34mDownloading (…)00003-of-00003.bin\";:   1%|          | 41.9M/6.01G [00:00<00:16, 370MB/s]#033[A\u001b[0m\n",
      "\u001b[34mDownloading (…)00003-of-00003.bin\";:   2%|▏         | 94.4M/6.01G [00:00<00:15, 382MB/s]#033[A\u001b[0m\n",
      "\u001b[34mDownloading (…)00003-of-00003.bin\";:   2%|▏         | 136M/6.01G [00:00<00:30, 195MB/s] #033[A\u001b[0m\n",
      "\u001b[34mDownloading (…)00003-of-00003.bin\";:   3%|▎         | 168M/6.01G [00:00<00:36, 159MB/s]#033[A\u001b[0m\n",
      "\u001b[34mDownloading (…)00003-of-00003.bin\";:   3%|▎         | 189M/6.01G [00:01<00:38, 151MB/s]#033[A\u001b[0m\n",
      "\u001b[34mDownloading (…)00003-of-00003.bin\";:   3%|▎         | 210M/6.01G [00:01<00:39, 147MB/s]#033[A\u001b[0m\n",
      "\u001b[34mDownloading (…)00003-of-00003.bin\";:   4%|▍         | 231M/6.01G [00:01<00:42, 135MB/s]#033[A\u001b[0m\n",
      "\u001b[34mDownloading (…)00003-of-00003.bin\";:   4%|▍         | 252M/6.01G [00:01<00:42, 135MB/s]#033[A\u001b[0m\n",
      "\u001b[34mDownloading (…)00003-of-00003.bin\";:   5%|▍         | 273M/6.01G [00:01<00:40, 142MB/s]#033[A\u001b[0m\n",
      "\u001b[34mDownloading (…)00003-of-00003.bin\";:   5%|▍         | 294M/6.01G [00:01<00:43, 131MB/s]#033[A\u001b[0m\n",
      "\u001b[34mDownloading (…)00003-of-00003.bin\";:   5%|▌         | 315M/6.01G [00:02<00:44, 128MB/s]#033[A\u001b[0m\n",
      "\u001b[34mDownloading (…)00003-of-00003.bin\";:   6%|▌         | 336M/6.01G [00:02<00:41, 138MB/s]#033[A\u001b[0m\n",
      "\u001b[34mDownloading (…)00003-of-00003.bin\";:   6%|▌         | 357M/6.01G [00:02<00:43, 131MB/s]#033[A\u001b[0m\n",
      "\u001b[34mDownloading (…)00003-of-00003.bin\";:   6%|▋         | 377M/6.01G [00:02<00:44, 126MB/s]#033[A\u001b[0m\n",
      "\u001b[34mDownloading (…)00003-of-00003.bin\";:   7%|▋         | 398M/6.01G [00:02<00:39, 141MB/s]#033[A\u001b[0m\n",
      "\u001b[34mDownloading (…)00003-of-00003.bin\";:   7%|▋         | 419M/6.01G [00:02<00:42, 131MB/s]#033[A\u001b[0m\n",
      "\u001b[34mDownloading (…)00003-of-00003.bin\";:   7%|▋         | 440M/6.01G [00:03<00:44, 126MB/s]#033[A\u001b[0m\n",
      "\u001b[34mDownloading (…)00003-of-00003.bin\";:   8%|▊         | 461M/6.01G [00:03<00:40, 138MB/s]#033[A\u001b[0m\n",
      "\u001b[34mDownloading (…)00003-of-00003.bin\";:   8%|▊         | 482M/6.01G [00:03<00:41, 132MB/s]#033[A\u001b[0m\n",
      "\u001b[34mDownloading (…)00003-of-00003.bin\";:   8%|▊         | 503M/6.01G [00:03<00:44, 125MB/s]#033[A\u001b[0m\n",
      "\u001b[34mDownloading (…)00003-of-00003.bin\";:   9%|▊         | 524M/6.01G [00:03<00:39, 140MB/s]#033[A\u001b[0m\n",
      "\u001b[34mDownloading (…)00003-of-00003.bin\";:   9%|▉         | 545M/6.01G [00:03<00:39, 137MB/s]#033[A\u001b[0m\n",
      "\u001b[34mDownloading (…)00003-of-00003.bin\";:   9%|▉         | 566M/6.01G [00:03<00:42, 127MB/s]#033[A\u001b[0m\n",
      "\u001b[34mDownloading (…)00003-of-00003.bin\";:  10%|▉         | 587M/6.01G [00:04<00:40, 135MB/s]#033[A\u001b[0m\n",
      "\u001b[34mDownloading (…)00003-of-00003.bin\";:  10%|█         | 608M/6.01G [00:04<00:39, 138MB/s]#033[A\u001b[0m\n",
      "\u001b[34mDownloading (…)00003-of-00003.bin\";:  10%|█         | 629M/6.01G [00:04<00:40, 131MB/s]#033[A\u001b[0m\n",
      "\u001b[34mDownloading (…)00003-of-00003.bin\";:  11%|█         | 650M/6.01G [00:04<00:41, 131MB/s]#033[A\u001b[0m\n",
      "\u001b[34mDownloading (…)00003-of-00003.bin\";:  11%|█         | 671M/6.01G [00:04<00:37, 141MB/s]#033[A\u001b[0m\n",
      "\u001b[34mDownloading (…)00003-of-00003.bin\";:  12%|█▏        | 692M/6.01G [00:04<00:39, 134MB/s]#033[A\u001b[0m\n",
      "\u001b[34mDownloading (…)00003-of-00003.bin\";:  12%|█▏        | 713M/6.01G [00:05<00:41, 129MB/s]#033[A\u001b[0m\n",
      "\u001b[34mDownloading (…)00003-of-00003.bin\";:  12%|█▏        | 734M/6.01G [00:05<00:36, 144MB/s]#033[A\u001b[0m\n",
      "\u001b[34mDownloading (…)00003-of-00003.bin\";:  13%|█▎        | 755M/6.01G [00:05<00:39, 132MB/s]#033[A\u001b[0m\n",
      "\u001b[34mDownloading (…)00003-of-00003.bin\";:  13%|█▎        | 776M/6.01G [00:05<00:41, 127MB/s]#033[A\u001b[0m\n",
      "\u001b[34mDownloading (…)00003-of-00003.bin\";:  13%|█▎        | 797M/6.01G [00:05<00:41, 124MB/s]#033[A\u001b[0m\n",
      "\u001b[34mDownloading (…)00003-of-00003.bin\";:  14%|█▎        | 818M/6.01G [00:05<00:42, 123MB/s]#033[A\u001b[0m\n",
      "\u001b[34mDownloading (…)00003-of-00003.bin\";:  14%|█▍        | 839M/6.01G [00:06<00:43, 120MB/s]#033[A\u001b[0m\n",
      "\u001b[34mDownloading (…)00003-of-00003.bin\";:  14%|█▍        | 860M/6.01G [00:06<00:43, 118MB/s]#033[A\u001b[0m\n",
      "\u001b[34mDownloading (…)00003-of-00003.bin\";:  15%|█▍        | 881M/6.01G [00:06<00:43, 117MB/s]#033[A\u001b[0m\n",
      "\u001b[34mDownloading (…)00003-of-00003.bin\";:  15%|█▌        | 902M/6.01G [00:06<00:43, 117MB/s]#033[A\u001b[0m\n",
      "\u001b[34mDownloading (…)00003-of-00003.bin\";:  15%|█▌        | 923M/6.01G [00:06<00:44, 115MB/s]#033[A\u001b[0m\n",
      "\u001b[34mDownloading (…)00003-of-00003.bin\";:  16%|█▌        | 944M/6.01G [00:06<00:43, 117MB/s]#033[A\u001b[0m\n",
      "\u001b[34mDownloading (…)00003-of-00003.bin\";:  16%|█▌        | 965M/6.01G [00:07<00:43, 115MB/s]#033[A\u001b[0m\n",
      "\u001b[34mDownloading (…)00003-of-00003.bin\";:  16%|█▋        | 986M/6.01G [00:07<00:43, 116MB/s]#033[A\u001b[0m\n",
      "\u001b[34mDownloading (…)00003-of-00003.bin\";:  17%|█▋        | 1.01G/6.01G [00:07<00:43, 116MB/s]\u001b[0m\n",
      "\u001b[34m#033[A\u001b[0m\n",
      "\u001b[34mDownloading (…)00003-of-00003.bin\";:  17%|█▋        | 1.03G/6.01G [00:07<00:42, 116MB/s]#033[A\u001b[0m\n",
      "\u001b[34mDownloading (…)00003-of-00003.bin\";:  17%|█▋        | 1.05G/6.01G [00:07<00:43, 114MB/s]#033[A\u001b[0m\n",
      "\u001b[34mDownloading (…)00003-of-00003.bin\";:  18%|█▊        | 1.07G/6.01G [00:08<00:43, 115MB/s]#033[A\u001b[0m\n",
      "\u001b[34mDownloading (…)00003-of-00003.bin\";:  18%|█▊        | 1.09G/6.01G [00:08<00:42, 116MB/s]#033[A\u001b[0m\n",
      "\u001b[34mDownloading (…)00003-of-00003.bin\";:  19%|█▊        | 1.11G/6.01G [00:08<00:41, 117MB/s]#033[A\u001b[0m\n",
      "\u001b[34mDownloading (…)00003-of-00003.bin\";:  19%|█▉        | 1.13G/6.01G [00:08<00:42, 114MB/s]#033[A\u001b[0m\n",
      "\u001b[34mDownloading (…)00003-of-00003.bin\";:  19%|█▉        | 1.15G/6.01G [00:08<00:42, 115MB/s]#033[A\u001b[0m\n",
      "\u001b[34mDownloading (…)00003-of-00003.bin\";:  20%|█▉        | 1.17G/6.01G [00:08<00:41, 116MB/s]#033[A\u001b[0m\n",
      "\u001b[34mDownloading (…)00003-of-00003.bin\";:  20%|█▉        | 1.20G/6.01G [00:09<00:41, 116MB/s]#033[A\u001b[0m\n",
      "\u001b[34mDownloading (…)00003-of-00003.bin\";:  20%|██        | 1.22G/6.01G [00:09<00:41, 114MB/s]#033[A\u001b[0m\n",
      "\u001b[34mDownloading (…)00003-of-00003.bin\";:  21%|██        | 1.24G/6.01G [00:09<00:41, 116MB/s]#033[A\u001b[0m\n",
      "\u001b[34mDownloading (…)00003-of-00003.bin\";:  21%|██        | 1.26G/6.01G [00:09<00:41, 114MB/s]#033[A\u001b[0m\n",
      "\u001b[34mDownloading (…)00003-of-00003.bin\";:  21%|██▏       | 1.28G/6.01G [00:09<00:41, 115MB/s]#033[A\u001b[0m\n",
      "\u001b[34mDownloading (…)00003-of-00003.bin\";:  22%|██▏       | 1.30G/6.01G [00:10<00:45, 104MB/s]#033[A\u001b[0m\n",
      "\u001b[34mDownloading (…)00003-of-00003.bin\";:  22%|██▏       | 1.34G/6.01G [00:10<00:31, 146MB/s]#033[A\u001b[0m\n",
      "\u001b[34mDownloading (…)00003-of-00003.bin\";:  23%|██▎       | 1.36G/6.01G [00:10<00:33, 138MB/s]#033[A\u001b[0m\n",
      "\u001b[34mDownloading (…)00003-of-00003.bin\";:  23%|██▎       | 1.38G/6.01G [00:10<00:34, 134MB/s]#033[A\u001b[0m\n",
      "\u001b[34mDownloading (…)00003-of-00003.bin\";:  23%|██▎       | 1.41G/6.01G [00:10<00:32, 144MB/s]#033[A\u001b[0m\n",
      "\u001b[34mDownloading (…)00003-of-00003.bin\";:  24%|██▎       | 1.43G/6.01G [00:10<00:33, 135MB/s]#033[A\u001b[0m\n",
      "\u001b[34mDownloading (…)00003-of-00003.bin\";:  24%|██▍       | 1.45G/6.01G [00:11<00:31, 144MB/s]#033[A\u001b[0m\n",
      "\u001b[34mDownloading (…)00003-of-00003.bin\";:  24%|██▍       | 1.47G/6.01G [00:11<00:29, 155MB/s]#033[A\u001b[0m\n",
      "\u001b[34mDownloading (…)00003-of-00003.bin\";:  25%|██▍       | 1.49G/6.01G [00:11<00:30, 147MB/s]#033[A\u001b[0m\n",
      "\u001b[34mDownloading (…)00003-of-00003.bin\";:  25%|██▌       | 1.51G/6.01G [00:11<00:33, 133MB/s]#033[A\u001b[0m\n",
      "\u001b[34mDownloading (…)00003-of-00003.bin\";:  25%|██▌       | 1.53G/6.01G [00:11<00:32, 137MB/s]#033[A\u001b[0m\n",
      "\u001b[34mDownloading (…)00003-of-00003.bin\";:  26%|██▌       | 1.56G/6.01G [00:11<00:29, 148MB/s]#033[A\u001b[0m\n",
      "\u001b[34mDownloading (…)00003-of-00003.bin\";:  26%|██▋       | 1.58G/6.01G [00:12<00:31, 139MB/s]#033[A\u001b[0m\n",
      "\u001b[34mDownloading (…)00003-of-00003.bin\";:  27%|██▋       | 1.60G/6.01G [00:12<00:30, 144MB/s]#033[A\u001b[0m\n",
      "\u001b[34mDownloading (…)00003-of-00003.bin\";:  27%|██▋       | 1.64G/6.01G [00:12<00:28, 153MB/s]#033[A\u001b[0m\n",
      "\u001b[34mDownloading (…)00003-of-00003.bin\";:  28%|██▊       | 1.66G/6.01G [00:12<00:31, 140MB/s]#033[A\u001b[0m\n",
      "\u001b[34mDownloading (…)00003-of-00003.bin\";:  28%|██▊       | 1.68G/6.01G [00:12<00:29, 144MB/s]#033[A\u001b[0m\n",
      "\u001b[34mDownloading (…)00003-of-00003.bin\";:  28%|██▊       | 1.71G/6.01G [00:12<00:27, 154MB/s]#033[A\u001b[0m\n",
      "\u001b[34mDownloading (…)00003-of-00003.bin\";:  29%|██▉       | 1.73G/6.01G [00:12<00:29, 143MB/s]#033[A\u001b[0m\n",
      "\u001b[34mDownloading (…)00003-of-00003.bin\";:  29%|██▉       | 1.75G/6.01G [00:13<00:29, 146MB/s]#033[A\u001b[0m\n",
      "\u001b[34mDownloading (…)00003-of-00003.bin\";:  30%|██▉       | 1.77G/6.01G [00:13<00:27, 157MB/s]#033[A\u001b[0m\n",
      "\u001b[34mDownloading (…)00003-of-00003.bin\";:  30%|██▉       | 1.79G/6.01G [00:13<00:29, 144MB/s]#033[A\u001b[0m\n",
      "\u001b[34mDownloading (…)00003-of-00003.bin\";:  30%|███       | 1.81G/6.01G [00:13<00:30, 136MB/s]#033[A\u001b[0m\n",
      "\u001b[34mDownloading (…)00003-of-00003.bin\";:  31%|███       | 1.85G/6.01G [00:13<00:27, 151MB/s]#033[A\u001b[0m\n",
      "\u001b[34mDownloading (…)00003-of-00003.bin\";:  31%|███       | 1.87G/6.01G [00:13<00:29, 141MB/s]#033[A\u001b[0m\n",
      "\u001b[34mDownloading (…)00003-of-00003.bin\";:  31%|███▏      | 1.89G/6.01G [00:14<00:30, 137MB/s]#033[A\u001b[0m\n",
      "\u001b[34mDownloading (…)00003-of-00003.bin\";:  32%|███▏      | 1.92G/6.01G [00:14<00:26, 153MB/s]#033[A\u001b[0m\n",
      "\u001b[34mDownloading (…)00003-of-00003.bin\";:  32%|███▏      | 1.94G/6.01G [00:14<00:29, 139MB/s]#033[A\u001b[0m\n",
      "\u001b[34mDownloading (…)00003-of-00003.bin\";:  33%|███▎      | 1.96G/6.01G [00:14<00:29, 138MB/s]#033[A\u001b[0m\n",
      "\u001b[34mDownloading (…)00003-of-00003.bin\";:  33%|███▎      | 1.99G/6.01G [00:14<00:26, 150MB/s]#033[A\u001b[0m\n",
      "\u001b[34mDownloading (…)00003-of-00003.bin\";:  34%|███▎      | 2.01G/6.01G [00:14<00:28, 140MB/s]#033[A\u001b[0m\n",
      "\u001b[34mDownloading (…)00003-of-00003.bin\";:  34%|███▍      | 2.03G/6.01G [00:15<00:28, 140MB/s]#033[A\u001b[0m\n",
      "\u001b[34mDownloading (…)00003-of-00003.bin\";:  34%|███▍      | 2.06G/6.01G [00:15<00:25, 154MB/s]#033[A\u001b[0m\n",
      "\u001b[34mDownloading (…)00003-of-00003.bin\";:  35%|███▍      | 2.08G/6.01G [00:15<00:27, 142MB/s]#033[A\u001b[0m\n",
      "\u001b[34mDownloading (…)00003-of-00003.bin\";:  35%|███▍      | 2.10G/6.01G [00:15<00:29, 131MB/s]#033[A\u001b[0m\n",
      "\u001b[34mDownloading (…)00003-of-00003.bin\";:  35%|███▌      | 2.13G/6.01G [00:15<00:25, 151MB/s]#033[A\u001b[0m\n",
      "\u001b[34mDownloading (…)00003-of-00003.bin\";:  36%|███▌      | 2.15G/6.01G [00:15<00:27, 139MB/s]#033[A\u001b[0m\n",
      "\u001b[34mDownloading (…)00003-of-00003.bin\";:  36%|███▌      | 2.17G/6.01G [00:16<00:28, 133MB/s]#033[A\u001b[0m\n",
      "\u001b[34mDownloading (…)00003-of-00003.bin\";:  37%|███▋      | 2.20G/6.01G [00:16<00:25, 148MB/s]#033[A\u001b[0m\n",
      "\u001b[34mDownloading (…)00003-of-00003.bin\";:  37%|███▋      | 2.22G/6.01G [00:16<00:26, 140MB/s]#033[A\u001b[0m\n",
      "\u001b[34mDownloading (…)00003-of-00003.bin\";:  37%|███▋      | 2.24G/6.01G [00:16<00:27, 138MB/s]#033[A\u001b[0m\n",
      "\u001b[34mDownloading (…)00003-of-00003.bin\";:  38%|███▊      | 2.26G/6.01G [00:16<00:25, 148MB/s]#033[A\u001b[0m\n",
      "\u001b[34mDownloading (…)00003-of-00003.bin\";:  38%|███▊      | 2.29G/6.01G [00:16<00:27, 137MB/s]#033[A\u001b[0m\n",
      "\u001b[34mDownloading (…)00003-of-00003.bin\";:  38%|███▊      | 2.31G/6.01G [00:17<00:27, 134MB/s]#033[A\u001b[0m\n",
      "\u001b[34mDownloading (…)00003-of-00003.bin\";:  39%|███▉      | 2.33G/6.01G [00:17<00:24, 149MB/s]#033[A\u001b[0m\n",
      "\u001b[34mDownloading (…)00003-of-00003.bin\";:  39%|███▉      | 2.35G/6.01G [00:17<00:25, 142MB/s]#033[A\u001b[0m\n",
      "\u001b[34mDownloading (…)00003-of-00003.bin\";:  39%|███▉      | 2.37G/6.01G [00:17<00:27, 130MB/s]#033[A\u001b[0m\n",
      "\u001b[34mDownloading (…)00003-of-00003.bin\";:  40%|███▉      | 2.39G/6.01G [00:17<00:25, 143MB/s]#033[A\u001b[0m\n",
      "\u001b[34mDownloading (…)00003-of-00003.bin\";:  40%|████      | 2.41G/6.01G [00:17<00:24, 147MB/s]#033[A\u001b[0m\n",
      "\u001b[34mDownloading (…)00003-of-00003.bin\";:  41%|████      | 2.43G/6.01G [00:17<00:26, 134MB/s]#033[A\u001b[0m\n",
      "\u001b[34mDownloading (…)00003-of-00003.bin\";:  41%|████      | 2.45G/6.01G [00:18<00:26, 135MB/s]#033[A\u001b[0m\n",
      "\u001b[34mDownloading (…)00003-of-00003.bin\";:  41%|████      | 2.47G/6.01G [00:18<00:23, 151MB/s]#033[A\u001b[0m\n",
      "\u001b[34mDownloading (…)00003-of-00003.bin\";:  42%|████▏     | 2.50G/6.01G [00:18<00:25, 140MB/s]#033[A\u001b[0m\n",
      "\u001b[34mDownloading (…)00003-of-00003.bin\";:  42%|████▏     | 2.52G/6.01G [00:18<00:27, 129MB/s]#033[A\u001b[0m\n",
      "\u001b[34mDownloading (…)00003-of-00003.bin\";:  42%|████▏     | 2.55G/6.01G [00:18<00:22, 152MB/s]#033[A\u001b[0m\n",
      "\u001b[34mDownloading (…)00003-of-00003.bin\";:  43%|████▎     | 2.57G/6.01G [00:18<00:25, 137MB/s]#033[A\u001b[0m\n",
      "\u001b[34mDownloading (…)00003-of-00003.bin\";:  43%|████▎     | 2.59G/6.01G [00:19<00:25, 133MB/s]#033[A\u001b[0m\n",
      "\u001b[34mDownloading (…)00003-of-00003.bin\";:  44%|████▎     | 2.62G/6.01G [00:19<00:24, 141MB/s]#033[A\u001b[0m\n",
      "\u001b[34mDownloading (…)00003-of-00003.bin\";:  44%|████▍     | 2.64G/6.01G [00:19<00:25, 134MB/s]#033[A\u001b[0m\n",
      "\u001b[34mDownloading (…)00003-of-00003.bin\";:  44%|████▍     | 2.66G/6.01G [00:19<00:24, 137MB/s]#033[A\u001b[0m\n",
      "\u001b[34mDownloading (…)00003-of-00003.bin\";:  45%|████▍     | 2.68G/6.01G [00:19<00:22, 145MB/s]#033[A\u001b[0m\n",
      "\u001b[34mDownloading (…)00003-of-00003.bin\";:  45%|████▌     | 2.71G/6.01G [00:19<00:24, 133MB/s]#033[A\u001b[0m\n",
      "\u001b[34mDownloading (…)00003-of-00003.bin\";:  45%|████▌     | 2.73G/6.01G [00:20<00:34, 95.7MB/s]#033[A\u001b[0m\n",
      "\u001b[34mDownloading (…)00003-of-00003.bin\";:  46%|████▋     | 2.78G/6.01G [00:20<00:21, 147MB/s] #033[A\u001b[0m\n",
      "\u001b[34mDownloading (…)00003-of-00003.bin\";:  47%|████▋     | 2.80G/6.01G [00:20<00:21, 148MB/s]#033[A\u001b[0m\n",
      "\u001b[34mDownloading (…)00003-of-00003.bin\";:  47%|████▋     | 2.82G/6.01G [00:20<00:20, 158MB/s]#033[A\u001b[0m\n",
      "\u001b[34mDownloading (…)00003-of-00003.bin\";:  47%|████▋     | 2.84G/6.01G [00:20<00:22, 142MB/s]#033[A\u001b[0m\n",
      "\u001b[34mDownloading (…)00003-of-00003.bin\";:  48%|████▊     | 2.86G/6.01G [00:21<00:22, 137MB/s]#033[A\u001b[0m\n",
      "\u001b[34mDownloading (…)00003-of-00003.bin\";:  48%|████▊     | 2.88G/6.01G [00:21<00:20, 150MB/s]#033[A\u001b[0m\n",
      "\u001b[34mDownloading (…)00003-of-00003.bin\";:  48%|████▊     | 2.90G/6.01G [00:21<00:22, 140MB/s]#033[A\u001b[0m\n",
      "\u001b[34mDownloading (…)00003-of-00003.bin\";:  49%|████▊     | 2.93G/6.01G [00:21<00:23, 130MB/s]#033[A\u001b[0m\n",
      "\u001b[34mDownloading (…)00003-of-00003.bin\";:  49%|████▉     | 2.95G/6.01G [00:21<00:21, 145MB/s]#033[A\u001b[0m\n",
      "\u001b[34mDownloading (…)00003-of-00003.bin\";:  49%|████▉     | 2.97G/6.01G [00:21<00:21, 139MB/s]#033[A\u001b[0m\n",
      "\u001b[34mDownloading (…)00003-of-00003.bin\";:  50%|████▉     | 2.99G/6.01G [00:22<00:23, 129MB/s]\u001b[0m\n",
      "\u001b[34m#033[A\u001b[0m\n",
      "\u001b[34mDownloading (…)00003-of-00003.bin\";:  50%|█████     | 3.01G/6.01G [00:22<00:21, 137MB/s]#033[A\u001b[0m\n",
      "\u001b[34mDownloading (…)00003-of-00003.bin\";:  50%|█████     | 3.03G/6.01G [00:22<00:21, 142MB/s]#033[A\u001b[0m\n",
      "\u001b[34mDownloading (…)00003-of-00003.bin\";:  51%|█████     | 3.05G/6.01G [00:22<00:22, 133MB/s]#033[A\u001b[0m\n",
      "\u001b[34mDownloading (…)00003-of-00003.bin\";:  51%|█████     | 3.07G/6.01G [00:22<00:22, 132MB/s]#033[A\u001b[0m\n",
      "\u001b[34mDownloading (…)00003-of-00003.bin\";:  52%|█████▏    | 3.09G/6.01G [00:22<00:20, 139MB/s]#033[A\u001b[0m\n",
      "\u001b[34mDownloading (…)00003-of-00003.bin\";:  52%|█████▏    | 3.11G/6.01G [00:22<00:21, 132MB/s]#033[A\u001b[0m\n",
      "\u001b[34mDownloading (…)00003-of-00003.bin\";:  52%|█████▏    | 3.14G/6.01G [00:23<00:22, 129MB/s]#033[A\u001b[0m\n",
      "\u001b[34mDownloading (…)00003-of-00003.bin\";:  53%|█████▎    | 3.16G/6.01G [00:23<00:20, 142MB/s]#033[A\u001b[0m\n",
      "\u001b[34mDownloading (…)00003-of-00003.bin\";:  53%|█████▎    | 3.18G/6.01G [00:23<00:21, 134MB/s]#033[A\u001b[0m\n",
      "\u001b[34mDownloading (…)00003-of-00003.bin\";:  53%|█████▎    | 3.20G/6.01G [00:23<00:22, 125MB/s]#033[A\u001b[0m\n",
      "\u001b[34mDownloading (…)00003-of-00003.bin\";:  54%|█████▍    | 3.23G/6.01G [00:23<00:18, 147MB/s]#033[A\u001b[0m\n",
      "\u001b[34mDownloading (…)00003-of-00003.bin\";:  54%|█████▍    | 3.25G/6.01G [00:23<00:19, 138MB/s]#033[A\u001b[0m\n",
      "\u001b[34mDownloading (…)00003-of-00003.bin\";:  54%|█████▍    | 3.27G/6.01G [00:24<00:20, 133MB/s]\u001b[0m\n",
      "\u001b[34m#033[A\u001b[0m\n",
      "\u001b[34mDownloading (…)00003-of-00003.bin\";:  55%|█████▍    | 3.29G/6.01G [00:24<00:18, 144MB/s]#033[A\u001b[0m\n",
      "\u001b[34mDownloading (…)00003-of-00003.bin\";:  55%|█████▌    | 3.31G/6.01G [00:24<00:20, 132MB/s]#033[A\u001b[0m\n",
      "\u001b[34mDownloading (…)00003-of-00003.bin\";:  56%|█████▌    | 3.33G/6.01G [00:24<00:20, 128MB/s]#033[A\u001b[0m\n",
      "\u001b[34mDownloading (…)00003-of-00003.bin\";:  56%|█████▌    | 3.37G/6.01G [00:24<00:18, 140MB/s]#033[A\u001b[0m\n",
      "\u001b[34mDownloading (…)00003-of-00003.bin\";:  56%|█████▋    | 3.39G/6.01G [00:24<00:19, 134MB/s]#033[A\u001b[0m\n",
      "\u001b[34mDownloading (…)00003-of-00003.bin\";:  57%|█████▋    | 3.41G/6.01G [00:25<00:19, 134MB/s]#033[A\u001b[0m\n",
      "\u001b[34mDownloading (…)00003-of-00003.bin\";:  57%|█████▋    | 3.43G/6.01G [00:25<00:17, 144MB/s]#033[A\u001b[0m\n",
      "\u001b[34mDownloading (…)00003-of-00003.bin\";:  57%|█████▋    | 3.45G/6.01G [00:25<00:19, 132MB/s]#033[A\u001b[0m\n",
      "\u001b[34mDownloading (…)00003-of-00003.bin\";:  58%|█████▊    | 3.47G/6.01G [00:25<00:19, 128MB/s]#033[A\u001b[0m\n",
      "\u001b[34mDownloading (…)00003-of-00003.bin\";:  58%|█████▊    | 3.49G/6.01G [00:25<00:17, 141MB/s]#033[A\u001b[0m\n",
      "\u001b[34mDownloading (…)00003-of-00003.bin\";:  58%|█████▊    | 3.51G/6.01G [00:25<00:18, 134MB/s]#033[A\u001b[0m\n",
      "\u001b[34mDownloading (…)00003-of-00003.bin\";:  59%|█████▉    | 3.53G/6.01G [00:26<00:19, 126MB/s]#033[A\u001b[0m\n",
      "\u001b[34mDownloading (…)00003-of-00003.bin\";:  59%|█████▉    | 3.55G/6.01G [00:26<00:17, 142MB/s]#033[A\u001b[0m\n",
      "\u001b[34mDownloading (…)00003-of-00003.bin\";:  60%|█████▉    | 3.58G/6.01G [00:26<00:18, 133MB/s]#033[A\u001b[0m\n",
      "\u001b[34mDownloading (…)00003-of-00003.bin\";:  60%|█████▉    | 3.60G/6.01G [00:26<00:18, 128MB/s]#033[A\u001b[0m\n",
      "\u001b[34mDownloading (…)00003-of-00003.bin\";:  60%|██████    | 3.62G/6.01G [00:26<00:17, 136MB/s]#033[A\u001b[0m\n",
      "\u001b[34mDownloading (…)00003-of-00003.bin\";:  61%|██████    | 3.64G/6.01G [00:26<00:17, 136MB/s]#033[A\u001b[0m\n",
      "\u001b[34mDownloading (…)00003-of-00003.bin\";:  61%|██████    | 3.66G/6.01G [00:26<00:18, 129MB/s]#033[A\u001b[0m\n",
      "\u001b[34mDownloading (…)00003-of-00003.bin\";:  61%|██████▏   | 3.68G/6.01G [00:27<00:17, 135MB/s]#033[A\u001b[0m\n",
      "\u001b[34mDownloading (…)00003-of-00003.bin\";:  62%|██████▏   | 3.70G/6.01G [00:27<00:16, 138MB/s]#033[A\u001b[0m\n",
      "\u001b[34mDownloading (…)00003-of-00003.bin\";:  62%|██████▏   | 3.72G/6.01G [00:27<00:17, 131MB/s]#033[A\u001b[0m\n",
      "\u001b[34mDownloading (…)00003-of-00003.bin\";:  62%|██████▏   | 3.74G/6.01G [00:27<00:17, 133MB/s]#033[A\u001b[0m\n",
      "\u001b[34mDownloading (…)00003-of-00003.bin\";:  63%|██████▎   | 3.76G/6.01G [00:27<00:15, 140MB/s]#033[A\u001b[0m\n",
      "\u001b[34mDownloading (…)00003-of-00003.bin\";:  63%|██████▎   | 3.79G/6.01G [00:27<00:16, 133MB/s]#033[A\u001b[0m\n",
      "\u001b[34mDownloading (…)00003-of-00003.bin\";:  63%|██████▎   | 3.81G/6.01G [00:28<00:17, 129MB/s]#033[A\u001b[0m\n",
      "\u001b[34mDownloading (…)00003-of-00003.bin\";:  64%|██████▎   | 3.83G/6.01G [00:28<00:15, 142MB/s]#033[A\u001b[0m\n",
      "\u001b[34mDownloading (…)00003-of-00003.bin\";:  64%|██████▍   | 3.85G/6.01G [00:28<00:16, 133MB/s]#033[A\u001b[0m\n",
      "\u001b[34mDownloading (…)00003-of-00003.bin\";:  64%|██████▍   | 3.87G/6.01G [00:28<00:16, 129MB/s]#033[A\u001b[0m\n",
      "\u001b[34mDownloading (…)00003-of-00003.bin\";:  65%|██████▍   | 3.89G/6.01G [00:28<00:14, 145MB/s]#033[A\u001b[0m\n",
      "\u001b[34mDownloading (…)00003-of-00003.bin\";:  65%|██████▌   | 3.91G/6.01G [00:28<00:14, 140MB/s]#033[A\u001b[0m\n",
      "\u001b[34mDownloading (…)00003-of-00003.bin\";:  65%|██████▌   | 3.93G/6.01G [00:28<00:15, 133MB/s]#033[A\u001b[0m\n",
      "\u001b[34mDownloading (…)00003-of-00003.bin\";:  66%|██████▌   | 3.95G/6.01G [00:29<00:14, 138MB/s]#033[A\u001b[0m\n",
      "\u001b[34mDownloading (…)00003-of-00003.bin\";:  66%|██████▌   | 3.97G/6.01G [00:29<00:15, 135MB/s]#033[A\u001b[0m\n",
      "\u001b[34mDownloading (…)00003-of-00003.bin\";:  67%|██████▋   | 4.00G/6.01G [00:29<00:15, 132MB/s]#033[A\u001b[0m\n",
      "\u001b[34mDownloading (…)00003-of-00003.bin\";:  67%|██████▋   | 4.02G/6.01G [00:29<00:14, 137MB/s]#033[A\u001b[0m\n",
      "\u001b[34mDownloading (…)00003-of-00003.bin\";:  67%|██████▋   | 4.04G/6.01G [00:29<00:13, 142MB/s]#033[A\u001b[0m\n",
      "\u001b[34mDownloading (…)00003-of-00003.bin\";:  68%|██████▊   | 4.06G/6.01G [00:29<00:14, 130MB/s]#033[A\u001b[0m\n",
      "\u001b[34mDownloading (…)00003-of-00003.bin\";:  68%|██████▊   | 4.08G/6.01G [00:30<00:14, 131MB/s]#033[A\u001b[0m\n",
      "\u001b[34mDownloading (…)00003-of-00003.bin\";:  68%|██████▊   | 4.10G/6.01G [00:30<00:13, 144MB/s]#033[A\u001b[0m\n",
      "\u001b[34mDownloading (…)00003-of-00003.bin\";:  69%|██████▊   | 4.12G/6.01G [00:30<00:18, 103MB/s]#033[A\u001b[0m\n",
      "\u001b[34mDownloading (…)00003-of-00003.bin\";:  69%|██████▉   | 4.17G/6.01G [00:30<00:11, 156MB/s]#033[A\u001b[0m\n",
      "\u001b[34mDownloading (…)00003-of-00003.bin\";:  70%|██████▉   | 4.19G/6.01G [00:30<00:12, 148MB/s]#033[A\u001b[0m\n",
      "\u001b[34mDownloading (…)00003-of-00003.bin\";:  70%|███████   | 4.22G/6.01G [00:31<00:13, 136MB/s]#033[A\u001b[0m\n",
      "\u001b[34mDownloading (…)00003-of-00003.bin\";:  71%|███████   | 4.24G/6.01G [00:31<00:11, 148MB/s]#033[A\u001b[0m\n",
      "\u001b[34mDownloading (…)00003-of-00003.bin\";:  71%|███████   | 4.26G/6.01G [00:31<00:13, 134MB/s]#033[A\u001b[0m\n",
      "\u001b[34mDownloading (…)00003-of-00003.bin\";:  71%|███████   | 4.28G/6.01G [00:31<00:13, 132MB/s]#033[A\u001b[0m\n",
      "\u001b[34mDownloading (…)00003-of-00003.bin\";:  72%|███████▏  | 4.30G/6.01G [00:31<00:12, 136MB/s]#033[A\u001b[0m\n",
      "\u001b[34mDownloading (…)00003-of-00003.bin\";:  72%|███████▏  | 4.32G/6.01G [00:31<00:12, 132MB/s]#033[A\u001b[0m\n",
      "\u001b[34mDownloading (…)00003-of-00003.bin\";:  72%|███████▏  | 4.34G/6.01G [00:32<00:13, 127MB/s]#033[A\u001b[0m\n",
      "\u001b[34mDownloading (…)00003-of-00003.bin\";:  73%|███████▎  | 4.36G/6.01G [00:32<00:11, 141MB/s]#033[A\u001b[0m\n",
      "\u001b[34mDownloading (…)00003-of-00003.bin\";:  73%|███████▎  | 4.38G/6.01G [00:32<00:12, 132MB/s]#033[A\u001b[0m\n",
      "\u001b[34mDownloading (…)00003-of-00003.bin\";:  73%|███████▎  | 4.40G/6.01G [00:32<00:12, 127MB/s]#033[A\u001b[0m\n",
      "\u001b[34mDownloading (…)00003-of-00003.bin\";:  74%|███████▎  | 4.42G/6.01G [00:32<00:11, 133MB/s]#033[A\u001b[0m\n",
      "\u001b[34mDownloading (…)00003-of-00003.bin\";:  74%|███████▍  | 4.45G/6.01G [00:32<00:11, 139MB/s]#033[A\u001b[0m\n",
      "\u001b[34mDownloading (…)00003-of-00003.bin\";:  74%|███████▍  | 4.47G/6.01G [00:32<00:11, 132MB/s]#033[A\u001b[0m\n",
      "\u001b[34mDownloading (…)00003-of-00003.bin\";:  75%|███████▍  | 4.49G/6.01G [00:33<00:11, 135MB/s]#033[A\u001b[0m\n",
      "\u001b[34mDownloading (…)00003-of-00003.bin\";:  75%|███████▌  | 4.51G/6.01G [00:33<00:10, 137MB/s]#033[A\u001b[0m\n",
      "\u001b[34mDownloading (…)00003-of-00003.bin\";:  75%|███████▌  | 4.53G/6.01G [00:33<00:11, 131MB/s]#033[A\u001b[0m\n",
      "\u001b[34mDownloading (…)00003-of-00003.bin\";:  76%|███████▌  | 4.55G/6.01G [00:33<00:11, 132MB/s]#033[A\u001b[0m\n",
      "\u001b[34mDownloading (…)00003-of-00003.bin\";:  76%|███████▌  | 4.57G/6.01G [00:33<00:10, 139MB/s]#033[A\u001b[0m\n",
      "\u001b[34mDownloading (…)00003-of-00003.bin\";:  76%|███████▋  | 4.59G/6.01G [00:33<00:10, 132MB/s]#033[A\u001b[0m\n",
      "\u001b[34mDownloading (…)00003-of-00003.bin\";:  77%|███████▋  | 4.61G/6.01G [00:34<00:11, 126MB/s]#033[A\u001b[0m\n",
      "\u001b[34mDownloading (…)00003-of-00003.bin\";:  77%|███████▋  | 4.65G/6.01G [00:34<00:09, 141MB/s]#033[A\u001b[0m\n",
      "\u001b[34mDownloading (…)00003-of-00003.bin\";:  78%|███████▊  | 4.67G/6.01G [00:34<00:09, 134MB/s]#033[A\u001b[0m\n",
      "\u001b[34mDownloading (…)00003-of-00003.bin\";:  78%|███████▊  | 4.69G/6.01G [00:34<00:09, 133MB/s]#033[A\u001b[0m\n",
      "\u001b[34mDownloading (…)00003-of-00003.bin\";:  78%|███████▊  | 4.71G/6.01G [00:34<00:09, 137MB/s]#033[A\u001b[0m\n",
      "\u001b[34mDownloading (…)00003-of-00003.bin\";:  79%|███████▉  | 4.73G/6.01G [00:34<00:09, 131MB/s]#033[A\u001b[0m\n",
      "\u001b[34mDownloading (…)00003-of-00003.bin\";:  79%|███████▉  | 4.75G/6.01G [00:35<00:09, 138MB/s]#033[A\u001b[0m\n",
      "\u001b[34mDownloading (…)00003-of-00003.bin\";:  79%|███████▉  | 4.77G/6.01G [00:35<00:08, 151MB/s]#033[A\u001b[0m\n",
      "\u001b[34mDownloading (…)00003-of-00003.bin\";:  80%|███████▉  | 4.79G/6.01G [00:35<00:09, 134MB/s]\u001b[0m\n",
      "\u001b[34m#033[A\u001b[0m\n",
      "\u001b[34mDownloading (…)00003-of-00003.bin\";:  80%|████████  | 4.81G/6.01G [00:35<00:09, 128MB/s]#033[A\u001b[0m\n",
      "\u001b[34mDownloading (…)00003-of-00003.bin\";:  80%|████████  | 4.83G/6.01G [00:35<00:08, 145MB/s]#033[A\u001b[0m\n",
      "\u001b[34mDownloading (…)00003-of-00003.bin\";:  81%|████████  | 4.85G/6.01G [00:35<00:08, 136MB/s]#033[A\u001b[0m\n",
      "\u001b[34mDownloading (…)00003-of-00003.bin\";:  81%|████████  | 4.88G/6.01G [00:35<00:08, 130MB/s]#033[A\u001b[0m\n",
      "\u001b[34mDownloading (…)00003-of-00003.bin\";:  82%|████████▏ | 4.90G/6.01G [00:36<00:08, 136MB/s]#033[A\u001b[0m\n",
      "\u001b[34mDownloading (…)00003-of-00003.bin\";:  82%|████████▏ | 4.92G/6.01G [00:36<00:08, 131MB/s]#033[A\u001b[0m\n",
      "\u001b[34mDownloading (…)00003-of-00003.bin\";:  82%|████████▏ | 4.94G/6.01G [00:36<00:08, 127MB/s]#033[A\u001b[0m\n",
      "\u001b[34mDownloading (…)00003-of-00003.bin\";:  83%|████████▎ | 4.96G/6.01G [00:36<00:07, 133MB/s]#033[A\u001b[0m\n",
      "\u001b[34mDownloading (…)00003-of-00003.bin\";:  83%|████████▎ | 4.98G/6.01G [00:36<00:07, 137MB/s]#033[A\u001b[0m\n",
      "\u001b[34mDownloading (…)00003-of-00003.bin\";:  83%|████████▎ | 5.00G/6.01G [00:36<00:07, 127MB/s]#033[A\u001b[0m\n",
      "\u001b[34mDownloading (…)00003-of-00003.bin\";:  84%|████████▎ | 5.02G/6.01G [00:37<00:07, 130MB/s]#033[A\u001b[0m\n",
      "\u001b[34mDownloading (…)00003-of-00003.bin\";:  84%|████████▍ | 5.04G/6.01G [00:37<00:06, 140MB/s]#033[A\u001b[0m\n",
      "\u001b[34mDownloading (…)00003-of-00003.bin\";:  84%|████████▍ | 5.06G/6.01G [00:37<00:07, 130MB/s]#033[A\u001b[0m\n",
      "\u001b[34mDownloading (…)00003-of-00003.bin\";:  85%|████████▍ | 5.09G/6.01G [00:37<00:07, 127MB/s]#033[A\u001b[0m\n",
      "\u001b[34mDownloading (…)00003-of-00003.bin\";:  85%|████████▌ | 5.11G/6.01G [00:37<00:06, 143MB/s]#033[A\u001b[0m\n",
      "\u001b[34mDownloading (…)00003-of-00003.bin\";:  85%|████████▌ | 5.13G/6.01G [00:37<00:06, 131MB/s]#033[A\u001b[0m\n",
      "\u001b[34mDownloading (…)00003-of-00003.bin\";:  86%|████████▌ | 5.15G/6.01G [00:38<00:06, 127MB/s]#033[A\u001b[0m\n",
      "\u001b[34mDownloading (…)00003-of-00003.bin\";:  86%|████████▌ | 5.17G/6.01G [00:38<00:05, 144MB/s]#033[A\u001b[0m\n",
      "\u001b[34mDownloading (…)00003-of-00003.bin\";:  86%|████████▋ | 5.19G/6.01G [00:38<00:06, 136MB/s]#033[A\u001b[0m\n",
      "\u001b[34mDownloading (…)00003-of-00003.bin\";:  87%|████████▋ | 5.21G/6.01G [00:38<00:06, 127MB/s]#033[A\u001b[0m\n",
      "\u001b[34mDownloading (…)00003-of-00003.bin\";:  87%|████████▋ | 5.23G/6.01G [00:38<00:05, 142MB/s]#033[A\u001b[0m\n",
      "\u001b[34mDownloading (…)00003-of-00003.bin\";:  87%|████████▋ | 5.25G/6.01G [00:38<00:05, 138MB/s]#033[A\u001b[0m\n",
      "\u001b[34mDownloading (…)00003-of-00003.bin\";:  88%|████████▊ | 5.27G/6.01G [00:38<00:05, 132MB/s]#033[A\u001b[0m\n",
      "\u001b[34mDownloading (…)00003-of-00003.bin\";:  88%|████████▊ | 5.30G/6.01G [00:39<00:05, 133MB/s]#033[A\u001b[0m\n",
      "\u001b[34mDownloading (…)00003-of-00003.bin\";:  89%|████████▊ | 5.32G/6.01G [00:39<00:05, 135MB/s]#033[A\u001b[0m\n",
      "\u001b[34mDownloading (…)00003-of-00003.bin\";:  89%|████████▉ | 5.34G/6.01G [00:39<00:05, 130MB/s]#033[A\u001b[0m\n",
      "\u001b[34mDownloading (…)00003-of-00003.bin\";:  89%|████████▉ | 5.36G/6.01G [00:39<00:04, 133MB/s]#033[A\u001b[0m\n",
      "\u001b[34mDownloading (…)00003-of-00003.bin\";:  90%|████████▉ | 5.38G/6.01G [00:39<00:04, 139MB/s]#033[A\u001b[0m\n",
      "\u001b[34mDownloading (…)00003-of-00003.bin\";:  90%|████████▉ | 5.40G/6.01G [00:39<00:04, 132MB/s]#033[A\u001b[0m\n",
      "\u001b[34mDownloading (…)00003-of-00003.bin\";:  90%|█████████ | 5.42G/6.01G [00:40<00:04, 129MB/s]#033[A\u001b[0m\n",
      "\u001b[34mDownloading (…)00003-of-00003.bin\";:  91%|█████████ | 5.44G/6.01G [00:40<00:03, 142MB/s]#033[A\u001b[0m\n",
      "\u001b[34mDownloading (…)00003-of-00003.bin\";:  91%|█████████ | 5.46G/6.01G [00:40<00:04, 132MB/s]#033[A\u001b[0m\n",
      "\u001b[34mDownloading (…)00003-of-00003.bin\";:  91%|█████████▏| 5.48G/6.01G [00:40<00:05, 93.4MB/s]#033[A\u001b[0m\n",
      "\u001b[34mDownloading (…)00003-of-00003.bin\";:  92%|█████████▏| 5.54G/6.01G [00:40<00:03, 148MB/s] #033[A\u001b[0m\n",
      "\u001b[34mDownloading (…)00003-of-00003.bin\";:  93%|█████████▎| 5.56G/6.01G [00:41<00:03, 144MB/s]#033[A\u001b[0m\n",
      "\u001b[34mDownloading (…)00003-of-00003.bin\";:  93%|█████████▎| 5.58G/6.01G [00:41<00:02, 149MB/s]#033[A\u001b[0m\n",
      "\u001b[34mDownloading (…)00003-of-00003.bin\";:  93%|█████████▎| 5.60G/6.01G [00:41<00:02, 138MB/s]#033[A\u001b[0m\n",
      "\u001b[34mDownloading (…)00003-of-00003.bin\";:  94%|█████████▎| 5.62G/6.01G [00:41<00:02, 132MB/s]#033[A\u001b[0m\n",
      "\u001b[34mDownloading (…)00003-of-00003.bin\";:  94%|█████████▍| 5.64G/6.01G [00:41<00:02, 145MB/s]#033[A\u001b[0m\n",
      "\u001b[34mDownloading (…)00003-of-00003.bin\";:  94%|█████████▍| 5.66G/6.01G [00:41<00:02, 136MB/s]#033[A\u001b[0m\n",
      "\u001b[34mDownloading (…)00003-of-00003.bin\";:  95%|█████████▍| 5.68G/6.01G [00:42<00:02, 131MB/s]#033[A\u001b[0m\n",
      "\u001b[34mDownloading (…)00003-of-00003.bin\";:  95%|█████████▍| 5.70G/6.01G [00:42<00:02, 143MB/s]#033[A\u001b[0m\n",
      "\u001b[34mDownloading (…)00003-of-00003.bin\";:  95%|█████████▌| 5.73G/6.01G [00:42<00:02, 133MB/s]#033[A\u001b[0m\n",
      "\u001b[34mDownloading (…)00003-of-00003.bin\";:  96%|█████████▌| 5.75G/6.01G [00:42<00:02, 127MB/s]#033[A\u001b[0m\n",
      "\u001b[34mDownloading (…)00003-of-00003.bin\";:  96%|█████████▌| 5.77G/6.01G [00:42<00:01, 139MB/s]#033[A\u001b[0m\n",
      "\u001b[34mDownloading (…)00003-of-00003.bin\";:  96%|█████████▋| 5.79G/6.01G [00:42<00:01, 135MB/s]#033[A\u001b[0m\n",
      "\u001b[34mDownloading (…)00003-of-00003.bin\";:  97%|█████████▋| 5.81G/6.01G [00:42<00:01, 127MB/s]#033[A\u001b[0m\n",
      "\u001b[34mDownloading (…)00003-of-00003.bin\";:  97%|█████████▋| 5.83G/6.01G [00:43<00:01, 137MB/s]#033[A\u001b[0m\n",
      "\u001b[34mDownloading (…)00003-of-00003.bin\";:  97%|█████████▋| 5.85G/6.01G [00:43<00:01, 140MB/s]#033[A\u001b[0m\n",
      "\u001b[34mDownloading (…)00003-of-00003.bin\";:  98%|█████████▊| 5.87G/6.01G [00:43<00:01, 132MB/s]#033[A\u001b[0m\n",
      "\u001b[34mDownloading (…)00003-of-00003.bin\";:  98%|█████████▊| 5.89G/6.01G [00:43<00:00, 130MB/s]#033[A\u001b[0m\n",
      "\u001b[34mDownloading (…)00003-of-00003.bin\";:  98%|█████████▊| 5.91G/6.01G [00:43<00:00, 138MB/s]#033[A\u001b[0m\n",
      "\u001b[34mDownloading (…)00003-of-00003.bin\";:  99%|█████████▉| 5.93G/6.01G [00:43<00:00, 131MB/s]\u001b[0m\n",
      "\u001b[34m#033[A\u001b[0m\n",
      "\u001b[34mDownloading (…)00003-of-00003.bin\";:  99%|█████████▉| 5.96G/6.01G [00:44<00:00, 128MB/s]#033[A\u001b[0m\n",
      "\u001b[34mDownloading (…)00003-of-00003.bin\";: 100%|█████████▉| 5.98G/6.01G [00:44<00:00, 141MB/s]#033[A\u001b[0m\n",
      "\u001b[34mDownloading (…)00003-of-00003.bin\";: 100%|█████████▉| 6.00G/6.01G [00:44<00:00, 134MB/s]#033[A\u001b[0m\n",
      "\u001b[34mDownloading (…)00003-of-00003.bin\";: 100%|██████████| 6.01G/6.01G [00:44<00:00, 135MB/s]\u001b[0m\n",
      "\u001b[34mDownloading shards: 100%|██████████| 3/3 [02:40<00:00, 53.51s/it]\u001b[0m\n",
      "\u001b[34mDownloading shards: 100%|██████████| 3/3 [02:40<00:00, 53.62s/it]\u001b[0m\n",
      "\u001b[34mLoading checkpoint shards:   0%|          | 0/3 [00:00<?, ?it/s]\u001b[0m\n",
      "\u001b[34mLoading checkpoint shards:  33%|███▎      | 1/3 [01:50<03:41, 110.89s/it]\u001b[0m\n",
      "\u001b[34mLoading checkpoint shards:  67%|██████▋   | 2/3 [03:06<01:30, 90.25s/it]\u001b[0m\n",
      "\u001b[34mLoading checkpoint shards: 100%|██████████| 3/3 [03:51<00:00, 69.39s/it]\u001b[0m\n",
      "\u001b[34mLoading checkpoint shards: 100%|██████████| 3/3 [03:51<00:00, 77.09s/it]\u001b[0m\n",
      "\u001b[34mDownloading (…)neration_config.json:   0%|          | 0.00/111 [00:00<?, ?B/s]\u001b[0m\n",
      "\u001b[34mDownloading (…)neration_config.json: 100%|██████████| 111/111 [00:00<00:00, 78.4kB/s]\u001b[0m\n",
      "\u001b[34mtrainable params: 6553600 || all params: 12900157440 || trainable%: 0.05080248074863806\u001b[0m\n",
      "\u001b[34m0%|          | 0/2 [00:00<?, ?it/s]\u001b[0m\n",
      "\u001b[34m[2023-08-04 00:39:56.962: W smdistributed/modelparallel/torch/nn/predefined_hooks.py:78] Found unsupported HuggingFace version 4.27.1 for automated tensor parallelism. HuggingFace modules will not be automatically distributed. You can use smp.tp_register_with_module API to register desired modules for tensor parallelism, or directly instantiate an smp.nn.DistributedModule. Supported HuggingFace transformers versions for automated tensor parallelism: ['4.17.0', '4.20.1', '4.21.0']\u001b[0m\n",
      "\u001b[34mINFO:root:Using NamedTuple = typing._NamedTuple instead.\u001b[0m\n",
      "\u001b[34m[2023-08-04 00:39:57.008 algo-1:58 INFO utils.py:28] RULE_JOB_STOP_SIGNAL_FILENAME: None\u001b[0m\n",
      "\u001b[34m[2023-08-04 00:39:57.049 algo-1:58 INFO profiler_config_parser.py:111] User has disabled profiler.\u001b[0m\n",
      "\u001b[34m[2023-08-04 00:39:57.049 algo-1:58 INFO json_config.py:92] Creating hook from json_config at /opt/ml/input/config/debughookconfig.json.\u001b[0m\n",
      "\u001b[34m[2023-08-04 00:39:57.050 algo-1:58 INFO hook.py:206] tensorboard_dir has not been set for the hook. SMDebug will not be exporting tensorboard summaries.\u001b[0m\n",
      "\u001b[34m[2023-08-04 00:39:57.050 algo-1:58 INFO hook.py:259] Saving to /opt/ml/output/tensors\u001b[0m\n",
      "\u001b[34m[2023-08-04 00:39:57.050 algo-1:58 INFO state_store.py:77] The checkpoint config file /opt/ml/input/config/checkpointconfig.json does not exist.\u001b[0m\n",
      "\u001b[34m/opt/conda/lib/python3.9/site-packages/bitsandbytes/autograd/_functions.py:298: UserWarning: MatMul8bitLt: inputs will be cast from torch.float32 to float16 during quantization\n",
      "  warnings.warn(f\"MatMul8bitLt: inputs will be cast from {A.dtype} to float16 during quantization\")\u001b[0m\n",
      "\u001b[34m/opt/conda/lib/python3.9/site-packages/bitsandbytes/autograd/_functions.py:298: UserWarning: MatMul8bitLt: inputs will be cast from torch.bfloat16 to float16 during quantization\n",
      "  warnings.warn(f\"MatMul8bitLt: inputs will be cast from {A.dtype} to float16 during quantization\")\u001b[0m\n",
      "\u001b[34m50%|█████     | 1/2 [00:13<00:13, 13.86s/it]\u001b[0m\n",
      "\u001b[34m100%|██████████| 2/2 [00:24<00:00, 12.01s/it]\u001b[0m\n",
      "\u001b[34m{'train_runtime': 24.5712, 'train_samples_per_second': 0.163, 'train_steps_per_second': 0.081, 'train_loss': 2.1349313259124756, 'epoch': 1.0}\u001b[0m\n",
      "\u001b[34m100%|██████████| 2/2 [00:24<00:00, 12.01s/it]\u001b[0m\n",
      "\u001b[34m100%|██████████| 2/2 [00:24<00:00, 12.28s/it]\u001b[0m\n",
      "\u001b[34mLoading checkpoint shards:   0%|          | 0/3 [00:00<?, ?it/s]\u001b[0m\n",
      "\u001b[34mLoading checkpoint shards:  33%|███▎      | 1/3 [01:13<02:26, 73.07s/it]\u001b[0m\n",
      "\u001b[34mLoading checkpoint shards:  67%|██████▋   | 2/3 [02:26<01:13, 73.21s/it]\u001b[0m\n",
      "\u001b[34mLoading checkpoint shards: 100%|██████████| 3/3 [03:11<00:00, 60.19s/it]\u001b[0m\n",
      "\u001b[34mLoading checkpoint shards: 100%|██████████| 3/3 [03:11<00:00, 63.69s/it]\u001b[0m\n",
      "\u001b[34mDownloading (…)okenizer_config.json:   0%|          | 0.00/210 [00:00<?, ?B/s]\u001b[0m\n",
      "\u001b[34mDownloading (…)okenizer_config.json: 100%|██████████| 210/210 [00:00<00:00, 131kB/s]\u001b[0m\n",
      "\u001b[34mDownloading (…)/main/tokenizer.json:   0%|          | 0.00/1.65M [00:00<?, ?B/s]\u001b[0m\n",
      "\u001b[34mDownloading (…)/main/tokenizer.json: 100%|██████████| 1.65M/1.65M [00:00<00:00, 42.3MB/s]\u001b[0m\n",
      "\u001b[34mDownloading (…)cial_tokens_map.json:   0%|          | 0.00/185 [00:00<?, ?B/s]\u001b[0m\n",
      "\u001b[34mDownloading (…)cial_tokens_map.json: 100%|██████████| 185/185 [00:00<00:00, 115kB/s]\u001b[0m\n",
      "\u001b[34m2023-08-04 00:47:25,234 sagemaker-training-toolkit INFO     Waiting for the process to finish and give a return code.\u001b[0m\n",
      "\u001b[34m2023-08-04 00:47:25,234 sagemaker-training-toolkit INFO     Done waiting for a return code. Received 0 from exiting process.\u001b[0m\n",
      "\u001b[34m2023-08-04 00:47:25,234 sagemaker-training-toolkit INFO     Reporting training SUCCESS\u001b[0m\n",
      "\n",
      "2023-08-04 00:47:31 Uploading - Uploading generated training model\n",
      "2023-08-04 01:11:34 Completed - Training job completed\n",
      "Training seconds: 2577\n",
      "Billable seconds: 2577\n"
     ]
    }
   ],
   "source": [
    "huggingface_estimator.logs()"
   ]
  },
  {
   "cell_type": "markdown",
   "metadata": {
    "tags": []
   },
   "source": [
    "# 6. SageMaker Endpoint 배포\n",
    "\n"
   ]
  },
  {
   "cell_type": "markdown",
   "metadata": {
    "tags": []
   },
   "source": [
    "기존의 Estimator 를 통해서 model_data (모델 가중치가 저장된 S3 위치) 구할 수 있지만, 추후에 사용을 위해서 훈련 잡 이름을 가지고 다시 Estimaotr 를 생성하여 배포를 하였습니다."
   ]
  },
  {
   "cell_type": "markdown",
   "metadata": {},
   "source": [
    "## 훈련 잡 이름으로 Estimator 다시 생성"
   ]
  },
  {
   "cell_type": "code",
   "execution_count": 27,
   "metadata": {
    "tags": []
   },
   "outputs": [],
   "source": [
    "training_job_name = 'kullm-polyglot-12-ko-alpaca-data-2023-0-2023-07-11-12-33-03-618'"
   ]
  },
  {
   "cell_type": "code",
   "execution_count": 28,
   "metadata": {
    "tags": []
   },
   "outputs": [
    {
     "name": "stdout",
     "output_type": "stream",
     "text": [
      "\n",
      "2023-07-11 13:17:14 Starting - Preparing the instances for training\n",
      "2023-07-11 13:17:14 Downloading - Downloading input data\n",
      "2023-07-11 13:17:14 Training - Training image download completed. Training in progress.\n",
      "2023-07-11 13:17:14 Uploading - Uploading generated training model\n",
      "2023-07-11 13:17:14 Completed - Training job completed\n"
     ]
    }
   ],
   "source": [
    "\n",
    "\n",
    "from sagemaker.estimator import Estimator\n",
    "attached_estimator = Estimator.attach(training_job_name)\n"
   ]
  },
  {
   "cell_type": "markdown",
   "metadata": {},
   "source": [
    "## SageMaker Model 을 생성하여 모델 배포"
   ]
  },
  {
   "cell_type": "code",
   "execution_count": 29,
   "metadata": {
    "tags": []
   },
   "outputs": [],
   "source": [
    "from sagemaker.huggingface import HuggingFaceModel\n",
    "\n",
    "# create Hugging Face Model Class\n",
    "huggingface_model = HuggingFaceModel(\n",
    "   model_data=attached_estimator.model_data,\n",
    "   #model_data=\"s3://hf-sagemaker-inference/model.tar.gz\",  # Change to your model path\n",
    "   role=role, \n",
    "   transformers_version=\"4.26\", \n",
    "   pytorch_version=\"1.13\", \n",
    "   py_version=\"py39\",\n",
    "   model_server_workers=1\n",
    ")"
   ]
  },
  {
   "cell_type": "markdown",
   "metadata": {},
   "source": [
    "We can now deploy our model using the `deploy()` on our HuggingFace estimator object, passing in our desired number of instances and instance type."
   ]
  },
  {
   "cell_type": "code",
   "execution_count": 30,
   "metadata": {
    "tags": []
   },
   "outputs": [],
   "source": [
    "from datetime import datetime\n",
    "\n",
    "time_stamp = datetime.now().strftime(\"%Y-%m-%d-%H-%M-%S\")\n",
    "endpoint_name = f\"{model_name}-\" + time_stamp"
   ]
  },
  {
   "cell_type": "code",
   "execution_count": null,
   "metadata": {
    "tags": []
   },
   "outputs": [
    {
     "name": "stderr",
     "output_type": "stream",
     "text": [
      "INFO:sagemaker:Creating model with name: huggingface-pytorch-inference-2023-08-04-01-12-05-836\n",
      "INFO:sagemaker:Creating endpoint-config with name kullm-polyglot-12-2023-08-04-01-12-05\n",
      "INFO:sagemaker:Creating endpoint with name kullm-polyglot-12-2023-08-04-01-12-05\n"
     ]
    },
    {
     "name": "stdout",
     "output_type": "stream",
     "text": [
      "--"
     ]
    }
   ],
   "source": [
    "%%time\n",
    "\n",
    "# deploy model to SageMaker Inference\n",
    "predictor = huggingface_model.deploy(\n",
    "   endpoint_name= endpoint_name,    \n",
    "   initial_instance_count=1,\n",
    "   instance_type= \"ml.g5.4xlarge\"\n",
    ")"
   ]
  },
  {
   "cell_type": "code",
   "execution_count": null,
   "metadata": {
    "tags": []
   },
   "outputs": [],
   "source": [
    "endpoint_name"
   ]
  },
  {
   "cell_type": "markdown",
   "metadata": {},
   "source": [
    "# 7. 모델 추론"
   ]
  },
  {
   "cell_type": "markdown",
   "metadata": {
    "tags": []
   },
   "source": [
    "endpoint_name 은 아해 하드 코딩이 된 것은 무시하시고, 위에서 생성한 것을 사용하세요."
   ]
  },
  {
   "cell_type": "code",
   "execution_count": null,
   "metadata": {
    "tags": []
   },
   "outputs": [],
   "source": [
    "endpoint_name = 'kullm-polyglot-12-2023-07-15-02-49-17'"
   ]
  },
  {
   "cell_type": "code",
   "execution_count": null,
   "metadata": {
    "tags": []
   },
   "outputs": [],
   "source": [
    "def create_prompt(prompt):\n",
    "\n",
    "    fomatted_sample = {\n",
    "      # \"inputs\": prompter.generate_prompt(q, c),\n",
    "      \"inputs\": prompt,  \n",
    "      \"parameters\": {\n",
    "        \"do_sample\":False, \n",
    "        \"max_new_tokens\":256,\n",
    "        \"temperature\":0.5,\n",
    "        \"top_k\":3,\n",
    "        \"top_p\":0.9,\n",
    "        \"repetition_penalty\":1.1,\n",
    "        \"presence_penalty\":None,\n",
    "        \"eos_token_id\":2,              \n",
    "      }\n",
    "    }\n",
    "    print(\"fomatted_sample: \\n\", fomatted_sample)\n",
    "    \n",
    "    return fomatted_sample\n",
    "\n",
    "def generate_llm(prompt):\n",
    "    # predict\n",
    "    res = predictor.predict(prompt)\n",
    "\n",
    "    print(res[0][\"generated_text\"].split(\"Summary:\")[-1])\n",
    "\n",
    "\n",
    "    "
   ]
  },
  {
   "cell_type": "markdown",
   "metadata": {},
   "source": [
    "## 맥락이 있는 것 을 질문"
   ]
  },
  {
   "cell_type": "code",
   "execution_count": 160,
   "metadata": {
    "tags": []
   },
   "outputs": [],
   "source": [
    "from inference_lib import invoke_inference_DJ,  parse_response, Prompter\n",
    "\n",
    "prompter = Prompter(\"kullm\")"
   ]
  },
  {
   "cell_type": "code",
   "execution_count": 167,
   "metadata": {
    "tags": []
   },
   "outputs": [
    {
     "data": {
      "text/plain": [
       "'아래는 작업을 설명하는 명령어와 추가 컨텍스트를 제공하는 입력이 짝을 이루는 예제입니다.\\n 요청을 적절히 완료하는 답변을 작성하세요.\\n ### 명령어:\\n홈플러스 중계점은 몇시까지 장사해?\\n\\n### 입력:\\n홈플러스 영업시간은 오전 10시 부터 오후 12시까지 입니다.\\n\\n### 답변:\\n'"
      ]
     },
     "execution_count": 167,
     "metadata": {},
     "output_type": "execute_result"
    }
   ],
   "source": [
    "q = \"홈플러스 중계점은 몇시까지 장사해?\"\n",
    "c = \"홈플러스 영업시간은 오전 10시 부터 오후 12시까지 입니다.\"\n",
    "\n",
    "\n",
    "# prompt_w_c = f\"아래는 작업을 설명하는 명령어와 추가 컨텍스트를 제공하는 입력이 짝을 이루는 예제입니다.\\n 요청을 적절히 완료하는 답변을 작성하세요.\\n### 명령어: {q}\\n\\n### 입력: {c}\\n\\n### 답변:\" if c else f\"### 명령어: {q}\\n\\n### 답변:\" \n",
    "prompt_w_c = prompter.generate_prompt(q, c)\n",
    "\n",
    "prompt_w_c"
   ]
  },
  {
   "cell_type": "code",
   "execution_count": 168,
   "metadata": {
    "tags": []
   },
   "outputs": [
    {
     "name": "stdout",
     "output_type": "stream",
     "text": [
      "fomatted_sample: \n",
      " {'inputs': '아래는 작업을 설명하는 명령어와 추가 컨텍스트를 제공하는 입력이 짝을 이루는 예제입니다.\\n 요청을 적절히 완료하는 답변을 작성하세요.\\n ### 명령어:\\n홈플러스 중계점은 몇시까지 장사해?\\n\\n### 입력:\\n홈플러스 영업시간은 오전 10시 부터 오후 12시까지 입니다.\\n\\n### 답변:\\n', 'parameters': {'do_sample': False, 'max_new_tokens': 256, 'temperature': 0.5, 'top_k': 3, 'top_p': 0.9, 'repetition_penalty': 1.1, 'presence_penalty': None, 'eos_token_id': 2}}\n"
     ]
    }
   ],
   "source": [
    "fomatted_prompt = create_prompt(prompt_w_c)"
   ]
  },
  {
   "cell_type": "code",
   "execution_count": 169,
   "metadata": {
    "tags": []
   },
   "outputs": [
    {
     "data": {
      "text/plain": [
       "'아래는 작업을 설명하는 명령어와 추가 컨텍스트를 제공하는 입력이 짝을 이루는 예제입니다.\\n 요청을 적절히 완료하는 답변을 작성하세요.\\n ### 명령어:\\n홈플러스 중계점은 몇시까지 장사해?\\n\\n### 입력:\\n홈플러스 영업시간은 오전 10시 부터 오후 12시까지 입니다.\\n\\n### 답변:\\n홈플러스 중계점의 영업 시간은 오전 10시부터 오후 12시까지입니다.'"
      ]
     },
     "execution_count": 169,
     "metadata": {},
     "output_type": "execute_result"
    }
   ],
   "source": [
    "res = invoke_inference_DJ(endpoint_name, fomatted_prompt)\n",
    "parse_response(res)"
   ]
  },
  {
   "cell_type": "markdown",
   "metadata": {},
   "source": [
    "## 맥락이 없는 것을 질문"
   ]
  },
  {
   "cell_type": "code",
   "execution_count": 179,
   "metadata": {
    "tags": []
   },
   "outputs": [
    {
     "data": {
      "text/plain": [
       "'아래는 작업을 설명하는 명령어와 추가 컨텍스트를 제공하는 입력이 짝을 이루는 예제입니다.\\n 요청을 적절히 완료하는 답변을 작성하세요.\\n맥락에서 답변을 얻지 못하면 정보가 없다고 하세요.\\n### 명령어: 홈플러스 중계점은 몇시까지 장사해?\\n\\n### 입력: 홈플러스 중계점은 노원구에 있습니다.\\n\\n### 답변:'"
      ]
     },
     "execution_count": 179,
     "metadata": {},
     "output_type": "execute_result"
    }
   ],
   "source": [
    "q = \"홈플러스 중계점은 몇시까지 장사해?\"\n",
    "c = \"홈플러스 중계점은 노원구에 있습니다.\"\n",
    "\n",
    "\n",
    "prompt_w_c = f\"아래는 작업을 설명하는 명령어와 추가 컨텍스트를 제공하는 입력이 짝을 이루는 예제입니다.\\n 요청을 적절히 완료하는 답변을 작성하세요.\\n\\\n",
    "맥락에서 답변을 얻지 못하면 정보가 없다고 하세요.\\n\\\n",
    "### 명령어: {q}\\n\\n### 입력: {c}\\n\\n### 답변:\" if c else f\"### 명령어: {q}\\n\\n### 답변:\" \n",
    "# prompt_w_c = prompter.generate_prompt(q, c)\n",
    "\n",
    "prompt_w_c"
   ]
  },
  {
   "cell_type": "code",
   "execution_count": 178,
   "metadata": {
    "tags": []
   },
   "outputs": [
    {
     "name": "stdout",
     "output_type": "stream",
     "text": [
      "fomatted_sample: \n",
      " {'inputs': '아래는 작업을 설명하는 명령어와 추가 컨텍스트를 제공하는 입력이 짝을 이루는 예제입니다.\\n 요청을 적절히 완료하는 답변을 작성하세요.\\n맥락에서 답변을 얻지 못하면 정보가 없다고 하세요.\\n### 명령어: 홈플러스 중계점은 몇시까지 장사해?\\n\\n### 입력: 홈플러스 중계점은 노원구에 있습니다.\\n\\n### 답변:', 'parameters': {'do_sample': False, 'max_new_tokens': 256, 'temperature': 0.5, 'top_k': 3, 'top_p': 0.9, 'repetition_penalty': 1.1, 'presence_penalty': None, 'eos_token_id': 2}}\n"
     ]
    },
    {
     "data": {
      "text/plain": [
       "'아래는 작업을 설명하는 명령어와 추가 컨텍스트를 제공하는 입력이 짝을 이루는 예제입니다.\\n 요청을 적절히 완료하는 답변을 작성하세요.\\n맥락에서 답변을 얻지 못하면 정보가 없다고 하세요.\\n### 명령어: 홈플러스 중계점은 몇시까지 장사해?\\n\\n### 입력: 홈플러스 중계점은 노원구에 있습니다.\\n\\n### 답변:\\n죄송합니다만, 저는 AI 언어 모델이기 때문에 실시간 위치 데이터나 날씨 업데이트에 액세스할 수 없습니다. 제 답변은 인터넷의 정보를 기반으로 한 것이며, 지역 및 시간에 따라 달라질 수 있으므로 정확한 답변을 드릴 수 없습니다.'"
      ]
     },
     "execution_count": 178,
     "metadata": {},
     "output_type": "execute_result"
    }
   ],
   "source": [
    "fomatted_prompt = create_prompt(prompt_w_c)\n",
    "res = invoke_inference_DJ(endpoint_name, fomatted_prompt)\n",
    "parse_response(res)"
   ]
  },
  {
   "cell_type": "markdown",
   "metadata": {
    "tags": []
   },
   "source": [
    "## 테스트 데이터 셋으로 추론"
   ]
  },
  {
   "cell_type": "code",
   "execution_count": 166,
   "metadata": {
    "tags": []
   },
   "outputs": [
    {
     "data": {
      "text/plain": [
       "[{'instruction': '주어진 단어의 순위를 매기고 가장 강한 단어부터 가장 약한 단어까지 순서대로 나열합니다.',\n",
       "  'input': '들어올리기, 당기기, 밀기',\n",
       "  'output': '들어올리기, 밀기, 당기기 순으로 단어의 순위를 매긴다면 들어올리기가 가장 강한 단어이며, 밀기가 가장 약한 단어가 됩니다.'},\n",
       " {'instruction': '주어진 입력에 따라 사람을 설명하는 형용사 두 개를 생성하세요.',\n",
       "  'input': '기발한',\n",
       "  'output': '기발한 사람은 창의적이면서도 흥미로운 특성을 지니고 있습니다.'},\n",
       " {'instruction': '주어진 지침에 따라 범죄 유형을 분류하세요.',\n",
       "  'input': '피고가 구내에 불법적으로 침입했습니다.',\n",
       "  'output': '해당 사건은 침입죄에 해당됩니다.'},\n",
       " {'instruction': '다양한 데이터 저장 방법을 설명하세요.',\n",
       "  'input': '',\n",
       "  'output': '다양한 데이터 저장 방법에는 하드 디스크, USB 드라이브, 클라우드 서버, 데이터베이스 등이 있습니다.'},\n",
       " {'instruction': '해질녘 도시의 한 장면을 묘사하십시오.',\n",
       "  'input': '',\n",
       "  'output': '도시는 적막하고, 일부 건물에서는 주말 불이 켜져있습니다. 몇몇 차들이 도로를 지나가며 시내 소음을 내고 있습니다.'}]"
      ]
     },
     "execution_count": 166,
     "metadata": {},
     "output_type": "execute_result"
    }
   ],
   "source": [
    "test_dataset = KoAlpacaDataset.test_dataset\n",
    "len(test_dataset)\n",
    "test_dataset[0:5]\n"
   ]
  },
  {
   "cell_type": "code",
   "execution_count": 170,
   "metadata": {
    "tags": []
   },
   "outputs": [
    {
     "name": "stdout",
     "output_type": "stream",
     "text": [
      "fomatted_sample: \n",
      " {'inputs': '아래는 작업을 설명하는 명령어와 추가 컨텍스트를 제공하는 입력이 짝을 이루는 예제입니다.\\n 요청을 적절히 완료하는 답변을 작성하세요.\\n ### 명령어:\\n주어진 지침에 따라 범죄 유형을 분류하세요\\n\\n### 입력:\\n피고가 구내에 불법적으로 침입했습니다.\\n\\n### 답변:\\n', 'parameters': {'do_sample': False, 'max_new_tokens': 256, 'temperature': 0.5, 'top_k': 3, 'top_p': 0.9, 'repetition_penalty': 1.1, 'presence_penalty': None, 'eos_token_id': 2}}\n"
     ]
    },
    {
     "data": {
      "text/plain": [
       "'[{\"generated_text\":\"아래는 작업을 설명하는 명령어와 추가 컨텍스트를 제공하는 입력이 짝을 이루는 예제입니다.\\\\n 요청을 적절히 완료하는 답변을 작성하세요.\\\\n ### 명령어:\\\\n주어진 지침에 따라 범죄 유형을 분류하세요\\\\n\\\\n### 입력:\\\\n피고가 구내에 불법적으로 침입했습니다.\\\\n\\\\n### 답변:\\\\n불법 침입은 형법의 범죄 유형 중 하나입니다.\"}]'"
      ]
     },
     "execution_count": 170,
     "metadata": {},
     "output_type": "execute_result"
    }
   ],
   "source": [
    "\n",
    "q = \"주어진 지침에 따라 범죄 유형을 분류하세요\"    \n",
    "c = \"피고가 구내에 불법적으로 침입했습니다.\"\n",
    "prompt_w_c = prompter.generate_prompt(q, c)\n",
    "fomatted_prompt = create_prompt(prompt_w_c)\n",
    "\n",
    "invoke_inference_DJ(endpoint_name, fomatted_prompt)"
   ]
  },
  {
   "cell_type": "markdown",
   "metadata": {},
   "source": [
    "# 8. 엔드포인트 삭제"
   ]
  },
  {
   "cell_type": "code",
   "execution_count": 97,
   "metadata": {},
   "outputs": [
    {
     "name": "stderr",
     "output_type": "stream",
     "text": [
      "INFO:sagemaker:Deleting model with name: huggingface-pytorch-inference-2023-07-11-13-59-10-188\n",
      "INFO:sagemaker:Deleting endpoint configuration with name: kullm-polyglot-12-2023-07-11-13-58-58\n",
      "INFO:sagemaker:Deleting endpoint with name: kullm-polyglot-12-2023-07-11-13-58-58\n"
     ]
    }
   ],
   "source": [
    "# predictor.delete_model()\n",
    "# predictor.delete_endpoint()"
   ]
  },
  {
   "cell_type": "markdown",
   "metadata": {},
   "source": [
    "# A. Reference\n",
    "- LLM 모델에 필요한 template 파일을 정의하는 코드\n",
    "    - https://dacon.io/en/codeshare/8449\n",
    "```\n",
    "# GPT, LLama, Alpaca 등 LLM 모델에 필요한 template 파일을 정의하는 코드입니다.\n",
    "# 아래 코드는 Alpaca-Lora가 인식하는 template의 형식입니다. 아래처럼 진행해서, 마찬가지로 json 파일로 저장해주시면 됩니다.\n",
    "\n",
    "prompt_template = {\n",
    "    \"description\" : \"Alpaca-Lora Custom Template\",\n",
    "    \"prompt_input\" : (\n",
    "        \"Below is an instruction that describes a task, Paired with an input that provides further context.\\n\"\n",
    "        \"Writhe a response that appropriately completes the request.\\n\"\n",
    "        \"### Instruction : \\n{instruction}\\n\\n### Input : \\n{input}\\n\\n### Response:\\n\"\n",
    "    ),\n",
    "    \"prompt_no_input\" : (\n",
    "        \"Below is an instruction that describes a task.\\n\"\n",
    "        \"Writhe a response that appropriately completes the request.\\n\"\n",
    "        \"### Instruction : \\n{instruction}\\n\\n### Input : \\n{input}\\n\\n### Response:\\n\"\n",
    "    ),\n",
    "    \"response_split\" : \"### Response:\"\n",
    "}\n",
    "```"
   ]
  },
  {
   "cell_type": "code",
   "execution_count": null,
   "metadata": {},
   "outputs": [],
   "source": []
  }
 ],
 "metadata": {
  "availableInstances": [
   {
    "_defaultOrder": 0,
    "_isFastLaunch": true,
    "category": "General purpose",
    "gpuNum": 0,
    "hideHardwareSpecs": false,
    "memoryGiB": 4,
    "name": "ml.t3.medium",
    "vcpuNum": 2
   },
   {
    "_defaultOrder": 1,
    "_isFastLaunch": false,
    "category": "General purpose",
    "gpuNum": 0,
    "hideHardwareSpecs": false,
    "memoryGiB": 8,
    "name": "ml.t3.large",
    "vcpuNum": 2
   },
   {
    "_defaultOrder": 2,
    "_isFastLaunch": false,
    "category": "General purpose",
    "gpuNum": 0,
    "hideHardwareSpecs": false,
    "memoryGiB": 16,
    "name": "ml.t3.xlarge",
    "vcpuNum": 4
   },
   {
    "_defaultOrder": 3,
    "_isFastLaunch": false,
    "category": "General purpose",
    "gpuNum": 0,
    "hideHardwareSpecs": false,
    "memoryGiB": 32,
    "name": "ml.t3.2xlarge",
    "vcpuNum": 8
   },
   {
    "_defaultOrder": 4,
    "_isFastLaunch": true,
    "category": "General purpose",
    "gpuNum": 0,
    "hideHardwareSpecs": false,
    "memoryGiB": 8,
    "name": "ml.m5.large",
    "vcpuNum": 2
   },
   {
    "_defaultOrder": 5,
    "_isFastLaunch": false,
    "category": "General purpose",
    "gpuNum": 0,
    "hideHardwareSpecs": false,
    "memoryGiB": 16,
    "name": "ml.m5.xlarge",
    "vcpuNum": 4
   },
   {
    "_defaultOrder": 6,
    "_isFastLaunch": false,
    "category": "General purpose",
    "gpuNum": 0,
    "hideHardwareSpecs": false,
    "memoryGiB": 32,
    "name": "ml.m5.2xlarge",
    "vcpuNum": 8
   },
   {
    "_defaultOrder": 7,
    "_isFastLaunch": false,
    "category": "General purpose",
    "gpuNum": 0,
    "hideHardwareSpecs": false,
    "memoryGiB": 64,
    "name": "ml.m5.4xlarge",
    "vcpuNum": 16
   },
   {
    "_defaultOrder": 8,
    "_isFastLaunch": false,
    "category": "General purpose",
    "gpuNum": 0,
    "hideHardwareSpecs": false,
    "memoryGiB": 128,
    "name": "ml.m5.8xlarge",
    "vcpuNum": 32
   },
   {
    "_defaultOrder": 9,
    "_isFastLaunch": false,
    "category": "General purpose",
    "gpuNum": 0,
    "hideHardwareSpecs": false,
    "memoryGiB": 192,
    "name": "ml.m5.12xlarge",
    "vcpuNum": 48
   },
   {
    "_defaultOrder": 10,
    "_isFastLaunch": false,
    "category": "General purpose",
    "gpuNum": 0,
    "hideHardwareSpecs": false,
    "memoryGiB": 256,
    "name": "ml.m5.16xlarge",
    "vcpuNum": 64
   },
   {
    "_defaultOrder": 11,
    "_isFastLaunch": false,
    "category": "General purpose",
    "gpuNum": 0,
    "hideHardwareSpecs": false,
    "memoryGiB": 384,
    "name": "ml.m5.24xlarge",
    "vcpuNum": 96
   },
   {
    "_defaultOrder": 12,
    "_isFastLaunch": false,
    "category": "General purpose",
    "gpuNum": 0,
    "hideHardwareSpecs": false,
    "memoryGiB": 8,
    "name": "ml.m5d.large",
    "vcpuNum": 2
   },
   {
    "_defaultOrder": 13,
    "_isFastLaunch": false,
    "category": "General purpose",
    "gpuNum": 0,
    "hideHardwareSpecs": false,
    "memoryGiB": 16,
    "name": "ml.m5d.xlarge",
    "vcpuNum": 4
   },
   {
    "_defaultOrder": 14,
    "_isFastLaunch": false,
    "category": "General purpose",
    "gpuNum": 0,
    "hideHardwareSpecs": false,
    "memoryGiB": 32,
    "name": "ml.m5d.2xlarge",
    "vcpuNum": 8
   },
   {
    "_defaultOrder": 15,
    "_isFastLaunch": false,
    "category": "General purpose",
    "gpuNum": 0,
    "hideHardwareSpecs": false,
    "memoryGiB": 64,
    "name": "ml.m5d.4xlarge",
    "vcpuNum": 16
   },
   {
    "_defaultOrder": 16,
    "_isFastLaunch": false,
    "category": "General purpose",
    "gpuNum": 0,
    "hideHardwareSpecs": false,
    "memoryGiB": 128,
    "name": "ml.m5d.8xlarge",
    "vcpuNum": 32
   },
   {
    "_defaultOrder": 17,
    "_isFastLaunch": false,
    "category": "General purpose",
    "gpuNum": 0,
    "hideHardwareSpecs": false,
    "memoryGiB": 192,
    "name": "ml.m5d.12xlarge",
    "vcpuNum": 48
   },
   {
    "_defaultOrder": 18,
    "_isFastLaunch": false,
    "category": "General purpose",
    "gpuNum": 0,
    "hideHardwareSpecs": false,
    "memoryGiB": 256,
    "name": "ml.m5d.16xlarge",
    "vcpuNum": 64
   },
   {
    "_defaultOrder": 19,
    "_isFastLaunch": false,
    "category": "General purpose",
    "gpuNum": 0,
    "hideHardwareSpecs": false,
    "memoryGiB": 384,
    "name": "ml.m5d.24xlarge",
    "vcpuNum": 96
   },
   {
    "_defaultOrder": 20,
    "_isFastLaunch": false,
    "category": "General purpose",
    "gpuNum": 0,
    "hideHardwareSpecs": true,
    "memoryGiB": 0,
    "name": "ml.geospatial.interactive",
    "supportedImageNames": [
     "sagemaker-geospatial-v1-0"
    ],
    "vcpuNum": 0
   },
   {
    "_defaultOrder": 21,
    "_isFastLaunch": true,
    "category": "Compute optimized",
    "gpuNum": 0,
    "hideHardwareSpecs": false,
    "memoryGiB": 4,
    "name": "ml.c5.large",
    "vcpuNum": 2
   },
   {
    "_defaultOrder": 22,
    "_isFastLaunch": false,
    "category": "Compute optimized",
    "gpuNum": 0,
    "hideHardwareSpecs": false,
    "memoryGiB": 8,
    "name": "ml.c5.xlarge",
    "vcpuNum": 4
   },
   {
    "_defaultOrder": 23,
    "_isFastLaunch": false,
    "category": "Compute optimized",
    "gpuNum": 0,
    "hideHardwareSpecs": false,
    "memoryGiB": 16,
    "name": "ml.c5.2xlarge",
    "vcpuNum": 8
   },
   {
    "_defaultOrder": 24,
    "_isFastLaunch": false,
    "category": "Compute optimized",
    "gpuNum": 0,
    "hideHardwareSpecs": false,
    "memoryGiB": 32,
    "name": "ml.c5.4xlarge",
    "vcpuNum": 16
   },
   {
    "_defaultOrder": 25,
    "_isFastLaunch": false,
    "category": "Compute optimized",
    "gpuNum": 0,
    "hideHardwareSpecs": false,
    "memoryGiB": 72,
    "name": "ml.c5.9xlarge",
    "vcpuNum": 36
   },
   {
    "_defaultOrder": 26,
    "_isFastLaunch": false,
    "category": "Compute optimized",
    "gpuNum": 0,
    "hideHardwareSpecs": false,
    "memoryGiB": 96,
    "name": "ml.c5.12xlarge",
    "vcpuNum": 48
   },
   {
    "_defaultOrder": 27,
    "_isFastLaunch": false,
    "category": "Compute optimized",
    "gpuNum": 0,
    "hideHardwareSpecs": false,
    "memoryGiB": 144,
    "name": "ml.c5.18xlarge",
    "vcpuNum": 72
   },
   {
    "_defaultOrder": 28,
    "_isFastLaunch": false,
    "category": "Compute optimized",
    "gpuNum": 0,
    "hideHardwareSpecs": false,
    "memoryGiB": 192,
    "name": "ml.c5.24xlarge",
    "vcpuNum": 96
   },
   {
    "_defaultOrder": 29,
    "_isFastLaunch": true,
    "category": "Accelerated computing",
    "gpuNum": 1,
    "hideHardwareSpecs": false,
    "memoryGiB": 16,
    "name": "ml.g4dn.xlarge",
    "vcpuNum": 4
   },
   {
    "_defaultOrder": 30,
    "_isFastLaunch": false,
    "category": "Accelerated computing",
    "gpuNum": 1,
    "hideHardwareSpecs": false,
    "memoryGiB": 32,
    "name": "ml.g4dn.2xlarge",
    "vcpuNum": 8
   },
   {
    "_defaultOrder": 31,
    "_isFastLaunch": false,
    "category": "Accelerated computing",
    "gpuNum": 1,
    "hideHardwareSpecs": false,
    "memoryGiB": 64,
    "name": "ml.g4dn.4xlarge",
    "vcpuNum": 16
   },
   {
    "_defaultOrder": 32,
    "_isFastLaunch": false,
    "category": "Accelerated computing",
    "gpuNum": 1,
    "hideHardwareSpecs": false,
    "memoryGiB": 128,
    "name": "ml.g4dn.8xlarge",
    "vcpuNum": 32
   },
   {
    "_defaultOrder": 33,
    "_isFastLaunch": false,
    "category": "Accelerated computing",
    "gpuNum": 4,
    "hideHardwareSpecs": false,
    "memoryGiB": 192,
    "name": "ml.g4dn.12xlarge",
    "vcpuNum": 48
   },
   {
    "_defaultOrder": 34,
    "_isFastLaunch": false,
    "category": "Accelerated computing",
    "gpuNum": 1,
    "hideHardwareSpecs": false,
    "memoryGiB": 256,
    "name": "ml.g4dn.16xlarge",
    "vcpuNum": 64
   },
   {
    "_defaultOrder": 35,
    "_isFastLaunch": false,
    "category": "Accelerated computing",
    "gpuNum": 1,
    "hideHardwareSpecs": false,
    "memoryGiB": 61,
    "name": "ml.p3.2xlarge",
    "vcpuNum": 8
   },
   {
    "_defaultOrder": 36,
    "_isFastLaunch": false,
    "category": "Accelerated computing",
    "gpuNum": 4,
    "hideHardwareSpecs": false,
    "memoryGiB": 244,
    "name": "ml.p3.8xlarge",
    "vcpuNum": 32
   },
   {
    "_defaultOrder": 37,
    "_isFastLaunch": false,
    "category": "Accelerated computing",
    "gpuNum": 8,
    "hideHardwareSpecs": false,
    "memoryGiB": 488,
    "name": "ml.p3.16xlarge",
    "vcpuNum": 64
   },
   {
    "_defaultOrder": 38,
    "_isFastLaunch": false,
    "category": "Accelerated computing",
    "gpuNum": 8,
    "hideHardwareSpecs": false,
    "memoryGiB": 768,
    "name": "ml.p3dn.24xlarge",
    "vcpuNum": 96
   },
   {
    "_defaultOrder": 39,
    "_isFastLaunch": false,
    "category": "Memory Optimized",
    "gpuNum": 0,
    "hideHardwareSpecs": false,
    "memoryGiB": 16,
    "name": "ml.r5.large",
    "vcpuNum": 2
   },
   {
    "_defaultOrder": 40,
    "_isFastLaunch": false,
    "category": "Memory Optimized",
    "gpuNum": 0,
    "hideHardwareSpecs": false,
    "memoryGiB": 32,
    "name": "ml.r5.xlarge",
    "vcpuNum": 4
   },
   {
    "_defaultOrder": 41,
    "_isFastLaunch": false,
    "category": "Memory Optimized",
    "gpuNum": 0,
    "hideHardwareSpecs": false,
    "memoryGiB": 64,
    "name": "ml.r5.2xlarge",
    "vcpuNum": 8
   },
   {
    "_defaultOrder": 42,
    "_isFastLaunch": false,
    "category": "Memory Optimized",
    "gpuNum": 0,
    "hideHardwareSpecs": false,
    "memoryGiB": 128,
    "name": "ml.r5.4xlarge",
    "vcpuNum": 16
   },
   {
    "_defaultOrder": 43,
    "_isFastLaunch": false,
    "category": "Memory Optimized",
    "gpuNum": 0,
    "hideHardwareSpecs": false,
    "memoryGiB": 256,
    "name": "ml.r5.8xlarge",
    "vcpuNum": 32
   },
   {
    "_defaultOrder": 44,
    "_isFastLaunch": false,
    "category": "Memory Optimized",
    "gpuNum": 0,
    "hideHardwareSpecs": false,
    "memoryGiB": 384,
    "name": "ml.r5.12xlarge",
    "vcpuNum": 48
   },
   {
    "_defaultOrder": 45,
    "_isFastLaunch": false,
    "category": "Memory Optimized",
    "gpuNum": 0,
    "hideHardwareSpecs": false,
    "memoryGiB": 512,
    "name": "ml.r5.16xlarge",
    "vcpuNum": 64
   },
   {
    "_defaultOrder": 46,
    "_isFastLaunch": false,
    "category": "Memory Optimized",
    "gpuNum": 0,
    "hideHardwareSpecs": false,
    "memoryGiB": 768,
    "name": "ml.r5.24xlarge",
    "vcpuNum": 96
   },
   {
    "_defaultOrder": 47,
    "_isFastLaunch": false,
    "category": "Accelerated computing",
    "gpuNum": 1,
    "hideHardwareSpecs": false,
    "memoryGiB": 16,
    "name": "ml.g5.xlarge",
    "vcpuNum": 4
   },
   {
    "_defaultOrder": 48,
    "_isFastLaunch": false,
    "category": "Accelerated computing",
    "gpuNum": 1,
    "hideHardwareSpecs": false,
    "memoryGiB": 32,
    "name": "ml.g5.2xlarge",
    "vcpuNum": 8
   },
   {
    "_defaultOrder": 49,
    "_isFastLaunch": false,
    "category": "Accelerated computing",
    "gpuNum": 1,
    "hideHardwareSpecs": false,
    "memoryGiB": 64,
    "name": "ml.g5.4xlarge",
    "vcpuNum": 16
   },
   {
    "_defaultOrder": 50,
    "_isFastLaunch": false,
    "category": "Accelerated computing",
    "gpuNum": 1,
    "hideHardwareSpecs": false,
    "memoryGiB": 128,
    "name": "ml.g5.8xlarge",
    "vcpuNum": 32
   },
   {
    "_defaultOrder": 51,
    "_isFastLaunch": false,
    "category": "Accelerated computing",
    "gpuNum": 1,
    "hideHardwareSpecs": false,
    "memoryGiB": 256,
    "name": "ml.g5.16xlarge",
    "vcpuNum": 64
   },
   {
    "_defaultOrder": 52,
    "_isFastLaunch": false,
    "category": "Accelerated computing",
    "gpuNum": 4,
    "hideHardwareSpecs": false,
    "memoryGiB": 192,
    "name": "ml.g5.12xlarge",
    "vcpuNum": 48
   },
   {
    "_defaultOrder": 53,
    "_isFastLaunch": false,
    "category": "Accelerated computing",
    "gpuNum": 4,
    "hideHardwareSpecs": false,
    "memoryGiB": 384,
    "name": "ml.g5.24xlarge",
    "vcpuNum": 96
   },
   {
    "_defaultOrder": 54,
    "_isFastLaunch": false,
    "category": "Accelerated computing",
    "gpuNum": 8,
    "hideHardwareSpecs": false,
    "memoryGiB": 768,
    "name": "ml.g5.48xlarge",
    "vcpuNum": 192
   },
   {
    "_defaultOrder": 55,
    "_isFastLaunch": false,
    "category": "Accelerated computing",
    "gpuNum": 8,
    "hideHardwareSpecs": false,
    "memoryGiB": 1152,
    "name": "ml.p4d.24xlarge",
    "vcpuNum": 96
   },
   {
    "_defaultOrder": 56,
    "_isFastLaunch": false,
    "category": "Accelerated computing",
    "gpuNum": 8,
    "hideHardwareSpecs": false,
    "memoryGiB": 1152,
    "name": "ml.p4de.24xlarge",
    "vcpuNum": 96
   }
  ],
  "instance_type": "ml.t3.medium",
  "kernelspec": {
   "display_name": "Python 3 (PyTorch 1.13 Python 3.9 CPU Optimized)",
   "language": "python",
   "name": "python3__SAGEMAKER_INTERNAL__arn:aws:sagemaker:us-east-1:081325390199:image/pytorch-1.13-cpu-py39"
  },
  "language_info": {
   "codemirror_mode": {
    "name": "ipython",
    "version": 3
   },
   "file_extension": ".py",
   "mimetype": "text/x-python",
   "name": "python",
   "nbconvert_exporter": "python",
   "pygments_lexer": "ipython3",
   "version": "3.9.16"
  },
  "vscode": {
   "interpreter": {
    "hash": "2d58e898dde0263bc564c6968b04150abacfd33eed9b19aaa8e45c040360e146"
   }
  }
 },
 "nbformat": 4,
 "nbformat_minor": 4
}
