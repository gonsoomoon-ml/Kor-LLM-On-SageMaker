{
 "cells": [
  {
   "cell_type": "markdown",
   "metadata": {
    "tags": []
   },
   "source": [
    "# SageMaker 에서 한국어 모델 LoRA 파인튜닝\n",
    "\n",
    "---\n",
    "\n",
    "## 이 노트북은 SageMaker Studio Notebook PyTorch 1.13 Python 3.9 docker image 와 ml.t3.medium 에서 테스트 되었습니다. :\n",
    "### 참조 자료:\n",
    "- 파인튜닝 fine-tuning 😎 내 데이터로 학습해보자 - 스탠포드 알파카 Stanford Alpaca 코드분석 (feat, LLaMa + GPT3.5 vs ChatGPT)\n",
    "    - https://www.youtube.com/watch?v=u2tQYgrLouo\n",
    "- stanford_alpaca\n",
    "    - https://github.com/tatsu-lab/stanford...\n",
    "- alpaca-lora\n",
    "    - https://github.com/tloen/alpaca-lora"
   ]
  },
  {
   "cell_type": "markdown",
   "metadata": {
    "tags": []
   },
   "source": [
    "- Quick intro: PEFT or Parameter Efficient Fine-tuning\n",
    "    - [PEFT](https://github.com/huggingface/peft), or Parameter Efficient Fine-tuning, is a new open-source library from Hugging Face to enable efficient adaptation of pre-trained language models (PLMs) to various downstream applications without fine-tuning all the model's parameters. PEFT currently includes techniques for:\n",
    "- LoRA: [LORA: LOW-RANK ADAPTATION OF LARGE LANGUAGE MODELS](https://arxiv.org/pdf/2106.09685.pdf)\n",
    "- Prefix Tuning: [P-Tuning v2: Prompt Tuning Can Be Comparable to Fine-tuning Universally Across Scales and Tasks](https://arxiv.org/pdf/2110.07602.pdf)\n",
    "- P-Tuning: [GPT Understands, Too](https://arxiv.org/pdf/2103.10385.pdf)\n",
    "- Prompt Tuning: [The Power of Scale for Parameter-Efficient Prompt Tuning](https://arxiv.org/pdf/2104.08691.pdf)\n"
   ]
  },
  {
   "cell_type": "markdown",
   "metadata": {},
   "source": [
    "# 1. 기본 환경 설정"
   ]
  },
  {
   "cell_type": "code",
   "execution_count": 135,
   "metadata": {
    "tags": []
   },
   "outputs": [],
   "source": [
    "# is_first_time = True\n",
    "is_first_time = False\n",
    "if is_first_time:\n",
    "    !pip install \"transformers==4.26.0\" \"datasets[s3]==2.9.0\" sagemaker py7zr --upgrade --quiet"
   ]
  },
  {
   "cell_type": "code",
   "execution_count": 136,
   "metadata": {
    "tags": []
   },
   "outputs": [
    {
     "name": "stdout",
     "output_type": "stream",
     "text": [
      "The autoreload extension is already loaded. To reload it, use:\n",
      "  %reload_ext autoreload\n"
     ]
    }
   ],
   "source": [
    "%load_ext autoreload\n",
    "%autoreload 2\n",
    "\n",
    "# src 폴더 경로 설정\n",
    "import sys\n",
    "sys.path.append('../../common_code')"
   ]
  },
  {
   "cell_type": "markdown",
   "metadata": {},
   "source": [
    "If you are going to use Sagemaker in a local environment. You need access to an IAM Role with the required permissions for Sagemaker. You can find [here](https://docs.aws.amazon.com/sagemaker/latest/dg/sagemaker-roles.html) more about it.\n",
    "\n"
   ]
  },
  {
   "cell_type": "code",
   "execution_count": 137,
   "metadata": {
    "tags": []
   },
   "outputs": [
    {
     "name": "stdout",
     "output_type": "stream",
     "text": [
      "sagemaker role arn: arn:aws:iam::057716757052:role/gen_ai_gsmoon\n",
      "sagemaker bucket: sagemaker-us-east-1-057716757052\n",
      "sagemaker session region: us-east-1\n",
      "bucket: sagemaker-us-east-1-057716757052\n"
     ]
    }
   ],
   "source": [
    "import sagemaker\n",
    "import boto3\n",
    "sess = sagemaker.Session()\n",
    "# sagemaker session bucket -> used for uploading data, models and logs\n",
    "# sagemaker will automatically create this bucket if it not exists\n",
    "sagemaker_session_bucket=None\n",
    "if sagemaker_session_bucket is None and sess is not None:\n",
    "    # set to default bucket if a bucket name is not given\n",
    "    sagemaker_session_bucket = sess.default_bucket()\n",
    "\n",
    "try:\n",
    "    role = sagemaker.get_execution_role()\n",
    "except ValueError:\n",
    "    iam = boto3.client('iam')\n",
    "    role = iam.get_role(RoleName='sagemaker_execution_role')['Role']['Arn']\n",
    "\n",
    "sess = sagemaker.Session(default_bucket=sagemaker_session_bucket)\n",
    "\n",
    "\n",
    "print(f\"sagemaker role arn: {role}\")\n",
    "print(f\"sagemaker bucket: {sess.default_bucket()}\")\n",
    "print(f\"sagemaker session region: {sess.boto_region_name}\")\n",
    "print(f\"bucket: {sagemaker_session_bucket}\")\n"
   ]
  },
  {
   "cell_type": "markdown",
   "metadata": {},
   "source": [
    "# 2. LLM 모델 지정"
   ]
  },
  {
   "cell_type": "code",
   "execution_count": 138,
   "metadata": {
    "tags": []
   },
   "outputs": [
    {
     "name": "stdout",
     "output_type": "stream",
     "text": [
      "model_name:  kullm-polyglot-12\n"
     ]
    }
   ],
   "source": [
    "model_id = \"nlpai-lab/kullm-polyglot-12.8b-v2\"\n",
    "model_name = model_id.split('/')[1]\n",
    "model_name = model_name.split('.')[0]\n",
    "print(\"model_name: \", model_name)"
   ]
  },
  {
   "cell_type": "markdown",
   "metadata": {
    "tags": []
   },
   "source": [
    "# 3. 데이터 세트 로딩\n"
   ]
  },
  {
   "cell_type": "code",
   "execution_count": 139,
   "metadata": {
    "tags": []
   },
   "outputs": [
    {
     "name": "stdout",
     "output_type": "stream",
     "text": [
      "Existing data is used\n",
      "data_file_path:  ../../Data/ko_alpaca_data.json\n",
      "train_end:  49123\n"
     ]
    }
   ],
   "source": [
    "from scripts.KoAlpacaData import KoAlpacaData\n",
    "\n",
    "dataset_name = 'ko-alpaca-data'\n",
    "download_folder = \"../../Data\"\n",
    "\n",
    "# KoAlpacaDataset = KoAlpacaData(download_folder)\n",
    "KoAlpacaDataset = KoAlpacaData(download_folder, split_rate = 0.99, is_download=False)"
   ]
  },
  {
   "cell_type": "code",
   "execution_count": 140,
   "metadata": {
    "tags": []
   },
   "outputs": [],
   "source": [
    "def sample_dataset(dataset, sample_size, sample_json_file):\n",
    "    sample_json_file = f\"{download_folder}/ko_alpaca_data_train_sample.json\"\n",
    "    dataset = KoAlpacaDataset.sample_dataset(dataset, sample_size, train_sample_json_file)\n",
    "    return dataset\n"
   ]
  },
  {
   "cell_type": "code",
   "execution_count": 141,
   "metadata": {
    "tags": []
   },
   "outputs": [
    {
     "name": "stderr",
     "output_type": "stream",
     "text": [
      "Using custom data configuration default-88d179e608517a45\n"
     ]
    },
    {
     "name": "stdout",
     "output_type": "stream",
     "text": [
      "Size of sample dataset:  49685\n",
      "Downloading and preparing dataset json/default to /root/.cache/huggingface/datasets/json/default-88d179e608517a45/0.0.0/0f7e3662623656454fcd2b650f34e886a7db4b9104504885bd462096cc7a9f51...\n"
     ]
    },
    {
     "data": {
      "application/vnd.jupyter.widget-view+json": {
       "model_id": "ccc46ed5b7c04f37b2c383ecb8a404f5",
       "version_major": 2,
       "version_minor": 0
      },
      "text/plain": [
       "A Jupyter Widget"
      ]
     },
     "metadata": {},
     "output_type": "display_data"
    },
    {
     "data": {
      "application/vnd.jupyter.widget-view+json": {
       "model_id": "4917858daf4c41b4bbfde6d289e3ea50",
       "version_major": 2,
       "version_minor": 0
      },
      "text/plain": [
       "A Jupyter Widget"
      ]
     },
     "metadata": {},
     "output_type": "display_data"
    },
    {
     "data": {
      "application/vnd.jupyter.widget-view+json": {
       "model_id": "",
       "version_major": 2,
       "version_minor": 0
      },
      "text/plain": [
       "A Jupyter Widget"
      ]
     },
     "metadata": {},
     "output_type": "display_data"
    },
    {
     "name": "stdout",
     "output_type": "stream",
     "text": [
      "Dataset json downloaded and prepared to /root/.cache/huggingface/datasets/json/default-88d179e608517a45/0.0.0/0f7e3662623656454fcd2b650f34e886a7db4b9104504885bd462096cc7a9f51. Subsequent calls will reuse this data.\n"
     ]
    }
   ],
   "source": [
    "\n",
    "train_dataset = KoAlpacaDataset.train_dataset\n",
    "len(train_dataset)\n",
    "\n",
    "sample_size = 100    \n",
    "train_sample_json_file = f\"{download_folder}/ko_alpaca_data_train_sample.json\"\n",
    "sample_train_dataset = sample_dataset(train_dataset, sample_size, train_sample_json_file)"
   ]
  },
  {
   "cell_type": "markdown",
   "metadata": {
    "tags": []
   },
   "source": [
    "# 4. 훈련 데이터 셋 준비"
   ]
  },
  {
   "cell_type": "code",
   "execution_count": 179,
   "metadata": {
    "tags": []
   },
   "outputs": [],
   "source": [
    "from transformers import AutoTokenizer\n",
    "\n",
    "\n",
    "tokenizer = AutoTokenizer.from_pretrained(model_id)\n",
    "tokenizer.model_max_length = 2048 # overwrite wrong value"
   ]
  },
  {
   "cell_type": "markdown",
   "metadata": {},
   "source": [
    "### 데이터 세트 템플릿 정의"
   ]
  },
  {
   "cell_type": "code",
   "execution_count": 48,
   "metadata": {
    "tags": []
   },
   "outputs": [
    {
     "data": {
      "text/plain": [
       "0"
      ]
     },
     "execution_count": 48,
     "metadata": {},
     "output_type": "execute_result"
    }
   ],
   "source": [
    "import os\n",
    "os.system(\"mkdir -p templates\")"
   ]
  },
  {
   "cell_type": "code",
   "execution_count": 51,
   "metadata": {
    "tags": []
   },
   "outputs": [
    {
     "data": {
      "text/plain": [
       "'다읨의 질문에 답변을 하세요:\\n{question}\\n---\\n답변:\\n{answer}{eos_token}'"
      ]
     },
     "execution_count": 51,
     "metadata": {},
     "output_type": "execute_result"
    }
   ],
   "source": [
    "import json\n",
    "\n",
    "prompt_template = f\"다읨의 질문에 답변을 하세요:\\n{{question}}\\n---\\n답변:\\n{{answer}}{{eos_token}}\"\n",
    "prompt_template"
   ]
  },
  {
   "cell_type": "markdown",
   "metadata": {
    "tags": []
   },
   "source": [
    "### 데이터 세트를 템플릿 형태로 생성"
   ]
  },
  {
   "cell_type": "code",
   "execution_count": 38,
   "metadata": {
    "tags": []
   },
   "outputs": [
    {
     "name": "stderr",
     "output_type": "stream",
     "text": [
      "Loading cached processed dataset at /root/.cache/huggingface/datasets/json/default-5274ecb0507c1af9/0.0.0/0f7e3662623656454fcd2b650f34e886a7db4b9104504885bd462096cc7a9f51/cache-fd2aeb5b3422959b.arrow\n"
     ]
    }
   ],
   "source": [
    "from random import randint\n",
    "from itertools import chain\n",
    "from functools import partial\n",
    "\n",
    "# custom instruct prompt start\n",
    "# prompt_template = f\"Summarize the chat dialogue:\\n{{dialogue}}\\n---\\nSummary:\\n{{summary}}{{eos_token}}\"\n",
    "\n",
    "# template dataset to add prompt to each sample\n",
    "def template_dataset(sample):\n",
    "    sample[\"text\"] = prompt_template.format(question=sample[\"instruction\"],\n",
    "                                            answer=sample[\"output\"],\n",
    "                                            eos_token=tokenizer.eos_token)\n",
    "    return sample\n",
    "\n",
    "prompt_dataset = dataset.map(template_dataset, remove_columns=list(dataset.features))\n",
    "# prompt_dataset = prompt_dataset['train']"
   ]
  },
  {
   "cell_type": "code",
   "execution_count": 39,
   "metadata": {
    "tags": []
   },
   "outputs": [
    {
     "name": "stdout",
     "output_type": "stream",
     "text": [
      "다읨의 질문에 답변을 하세요:\n",
      "다음 문장을 수동태로 변환하세요.\n",
      "---\n",
      "답변:\n",
      "책이 산다.<|endoftext|>\n"
     ]
    }
   ],
   "source": [
    "print(prompt_dataset[randint(0, len(prompt_dataset))][\"text\"])"
   ]
  },
  {
   "cell_type": "markdown",
   "metadata": {},
   "source": [
    "### 데이터 세트를 Transformer 입력 형태로 인코딩"
   ]
  },
  {
   "cell_type": "code",
   "execution_count": 40,
   "metadata": {
    "tags": []
   },
   "outputs": [],
   "source": [
    "# apply prompt template per sample\n",
    "\n",
    "# empty list to save remainder from batches to use in next batch\n",
    "remainder = {\"input_ids\": [], \"attention_mask\": []}\n",
    "\n",
    "\n",
    "def chunk(sample, chunk_length=2048):\n",
    "    # define global remainder variable to save remainder from batches to use in next batch\n",
    "    global remainder\n",
    "    # Concatenate all texts and add remainder from previous batch\n",
    "    concatenated_examples = {k: list(chain(*sample[k])) for k in sample.keys()}\n",
    "    concatenated_examples = {k: remainder[k] + concatenated_examples[k] for k in concatenated_examples.keys()}\n",
    "    \n",
    "    # get total number of tokens for batch\n",
    "    batch_total_length = len(concatenated_examples[list(sample.keys())[0]])\n",
    "\n",
    "    # get max number of chunks for batch\n",
    "    if batch_total_length >= chunk_length:\n",
    "        batch_chunk_length = (batch_total_length // chunk_length) * chunk_length\n",
    "\n",
    "    # Split by chunks of max_len.\n",
    "    result = {\n",
    "        k: [t[i : i + chunk_length] for i in range(0, batch_chunk_length, chunk_length)]\n",
    "        for k, t in concatenated_examples.items()\n",
    "    }\n",
    "    # add remainder to global variable for next batch\n",
    "    remainder = {k: concatenated_examples[k][batch_chunk_length:] for k in concatenated_examples.keys()}\n",
    "    # prepare labels\n",
    "    result[\"labels\"] = result[\"input_ids\"].copy()\n",
    "    return result\n"
   ]
  },
  {
   "cell_type": "code",
   "execution_count": 41,
   "metadata": {
    "tags": []
   },
   "outputs": [
    {
     "name": "stderr",
     "output_type": "stream",
     "text": [
      "100%|██████████| 1/1 [00:00<00:00, 21.34ba/s]\n",
      "100%|██████████| 1/1 [00:00<00:00, 36.88ba/s]\n"
     ]
    },
    {
     "data": {
      "text/plain": [
       "Dataset({\n",
       "    features: ['input_ids', 'attention_mask', 'labels'],\n",
       "    num_rows: 4\n",
       "})"
      ]
     },
     "execution_count": 41,
     "metadata": {},
     "output_type": "execute_result"
    }
   ],
   "source": [
    "# tokenize and chunk dataset\n",
    "lm_dataset = prompt_dataset.map(\n",
    "    lambda sample: tokenizer(sample[\"text\"], return_token_type_ids=False), batched=True, remove_columns=list(prompt_dataset.features)\n",
    ").map(\n",
    "    partial(chunk, chunk_length=1536),\n",
    "    batched=True,\n",
    ")\n",
    "lm_dataset"
   ]
  },
  {
   "cell_type": "markdown",
   "metadata": {},
   "source": [
    "### 인코딩 데이터 세트를 S3 에 업로딩"
   ]
  },
  {
   "cell_type": "code",
   "execution_count": 46,
   "metadata": {
    "tags": []
   },
   "outputs": [
    {
     "name": "stdout",
     "output_type": "stream",
     "text": [
      "training dataset to: \n",
      " s3://sagemaker-us-east-1-057716757052/LLM/instructon_data/KoAlpaca/train\n"
     ]
    }
   ],
   "source": [
    "bucket_prefix = f'LLM/instructon_data/KoAlpaca/train'\n",
    "training_input_path = f's3://{sagemaker_session_bucket}/{bucket_prefix}'\n",
    "print(f\"training dataset to: \\n {training_input_path}\")"
   ]
  },
  {
   "cell_type": "code",
   "execution_count": 48,
   "metadata": {
    "tags": []
   },
   "outputs": [
    {
     "name": "stderr",
     "output_type": "stream",
     "text": [
      "                                                                                     "
     ]
    },
    {
     "name": "stdout",
     "output_type": "stream",
     "text": [
      "uploaded data to: s3://sagemaker-us-east-1-057716757052/LLM/instructon_data/KoAlpaca/train\n"
     ]
    },
    {
     "name": "stderr",
     "output_type": "stream",
     "text": [
      "\r"
     ]
    }
   ],
   "source": [
    "# save train_dataset to s3\n",
    "\n",
    "lm_dataset.save_to_disk(training_input_path)\n",
    "\n",
    "print(f\"uploaded data to: {training_input_path}\")\n"
   ]
  },
  {
   "cell_type": "markdown",
   "metadata": {
    "jp-MarkdownHeadingCollapsed": true,
    "tags": []
   },
   "source": [
    "# 5. LoRA and bnb int-8 파인 튜닝\n",
    "\n"
   ]
  },
  {
   "cell_type": "code",
   "execution_count": 59,
   "metadata": {
    "jupyter": {
     "source_hidden": true
    },
    "tags": []
   },
   "outputs": [
    {
     "name": "stdout",
     "output_type": "stream",
     "text": [
      "training job_name:  kullm-polyglot-12-ko-alpaca-data-2023-07-11-12-32-59\n"
     ]
    }
   ],
   "source": [
    "import time\n",
    "# define Training Job Name \n",
    "job_name = f'{model_name}-{dataset_name}-{time.strftime(\"%Y-%m-%d-%H-%M-%S\", time.localtime())}'\n",
    "print(\"training job_name: \", job_name)\n",
    "\n",
    "from sagemaker.huggingface import HuggingFace\n",
    "\n",
    "# hyperparameters, which are passed into the training job\n",
    "hyperparameters ={\n",
    "  'model_id': model_id,                                # pre-trained model\n",
    "  'dataset_path': '/opt/ml/input/data/training', # path where sagemaker will save training dataset\n",
    "  'epochs': 1,                                         # number of training epochs\n",
    "  'per_device_train_batch_size': 1,                    # batch size for training\n",
    "  'lr': 2e-4,                                          # learning rate used during training\n",
    "}\n",
    "\n",
    "# create the Estimator\n",
    "huggingface_estimator = HuggingFace(\n",
    "    entry_point          = 'run_clm.py',      # train script\n",
    "    source_dir           = 'scripts',         # directory which includes all the files needed for training\n",
    "    instance_type        = 'ml.g5.2xlarge', # instances type used for the training job\n",
    "#    instance_type        = 'ml.p4d.24xlarge', # instances type used for the training job    \n",
    "    instance_count       = 1,                 # the number of instances used for training\n",
    "    base_job_name        = job_name,          # the name of the training job\n",
    "    role                 = role,              # Iam role used in training job to access AWS ressources, e.g. S3\n",
    "    volume_size          = 300,               # the size of the EBS volume in GB\n",
    "    transformers_version = '4.26',            # the transformers version used in the training job\n",
    "    pytorch_version      = '1.13',            # the pytorch_version version used in the training job\n",
    "    py_version           = 'py39',            # the python version used in the training job\n",
    "    hyperparameters      =  hyperparameters\n",
    ")"
   ]
  },
  {
   "cell_type": "code",
   "execution_count": 60,
   "metadata": {
    "scrolled": true,
    "tags": []
   },
   "outputs": [
    {
     "name": "stderr",
     "output_type": "stream",
     "text": [
      "INFO:sagemaker.image_uris:image_uri is not presented, retrieving image_uri based on instance_type, framework etc.\n"
     ]
    },
    {
     "name": "stdout",
     "output_type": "stream",
     "text": [
      "Using provided s3_resource\n"
     ]
    },
    {
     "name": "stderr",
     "output_type": "stream",
     "text": [
      "INFO:sagemaker:Creating training-job with name: kullm-polyglot-12-ko-alpaca-data-2023-0-2023-07-11-12-33-03-618\n"
     ]
    }
   ],
   "source": [
    "# define a data input dictonary with our uploaded s3 uris\n",
    "data = {'training': training_input_path}\n",
    "\n",
    "# starting the train job with our uploaded datasets as input\n",
    "huggingface_estimator.fit(data, wait=False)"
   ]
  },
  {
   "cell_type": "code",
   "execution_count": 72,
   "metadata": {
    "tags": []
   },
   "outputs": [
    {
     "name": "stdout",
     "output_type": "stream",
     "text": [
      "training_job_name: \n",
      " kullm-polyglot-12-ko-alpaca-data-2023-0-2023-07-11-12-33-03-618\n"
     ]
    }
   ],
   "source": [
    "training_job_name = huggingface_estimator.latest_training_job.job_name\n",
    "print(\"training_job_name: \\n\", training_job_name)"
   ]
  },
  {
   "cell_type": "code",
   "execution_count": 62,
   "metadata": {
    "collapsed": true,
    "jupyter": {
     "outputs_hidden": true
    },
    "scrolled": true,
    "tags": []
   },
   "outputs": [
    {
     "name": "stdout",
     "output_type": "stream",
     "text": [
      "2023-07-11 13:17:14 Starting - Preparing the instances for training\n",
      "2023-07-11 13:17:14 Downloading - Downloading input data\n",
      "2023-07-11 13:17:14 Training - Training image download completed. Training in progress.\n",
      "2023-07-11 13:17:14 Uploading - Uploading generated training model\n",
      "2023-07-11 13:17:14 Completed - Training job completed\u001b[34mbash: cannot set terminal process group (-1): Inappropriate ioctl for device\u001b[0m\n",
      "\u001b[34mbash: no job control in this shell\u001b[0m\n",
      "\u001b[34m2023-07-11 12:37:56,278 sagemaker-training-toolkit INFO     Imported framework sagemaker_pytorch_container.training\u001b[0m\n",
      "\u001b[34m2023-07-11 12:37:56,292 sagemaker-training-toolkit INFO     No Neurons detected (normal if no neurons installed)\u001b[0m\n",
      "\u001b[34m2023-07-11 12:37:56,301 sagemaker_pytorch_container.training INFO     Block until all host DNS lookups succeed.\u001b[0m\n",
      "\u001b[34m2023-07-11 12:37:56,303 sagemaker_pytorch_container.training INFO     Invoking user training script.\u001b[0m\n",
      "\u001b[34m2023-07-11 12:37:56,521 sagemaker-training-toolkit INFO     Installing dependencies from requirements.txt:\u001b[0m\n",
      "\u001b[34m/opt/conda/bin/python3.9 -m pip install -r requirements.txt\u001b[0m\n",
      "\u001b[34mCollecting peft==0.3.0\u001b[0m\n",
      "\u001b[34mDownloading peft-0.3.0-py3-none-any.whl (56 kB)\u001b[0m\n",
      "\u001b[34m━━━━━━━━━━━━━━━━━━━━━━━━━━━━━━━━━━━━━━━━ 56.8/56.8 kB 5.2 MB/s eta 0:00:00\u001b[0m\n",
      "\u001b[34mCollecting transformers==4.27.1\u001b[0m\n",
      "\u001b[34mDownloading transformers-4.27.1-py3-none-any.whl (6.7 MB)\u001b[0m\n",
      "\u001b[34m━━━━━━━━━━━━━━━━━━━━━━━━━━━━━━━━━━━━━━━━ 6.7/6.7 MB 95.2 MB/s eta 0:00:00\u001b[0m\n",
      "\u001b[34mCollecting accelerate==0.17.1\u001b[0m\n",
      "\u001b[34mDownloading accelerate-0.17.1-py3-none-any.whl (212 kB)\u001b[0m\n",
      "\u001b[34m━━━━━━━━━━━━━━━━━━━━━━━━━━━━━━━━━━━━━━ 212.8/212.8 kB 47.8 MB/s eta 0:00:00\u001b[0m\n",
      "\u001b[34mCollecting bitsandbytes==0.37.1\u001b[0m\n",
      "\u001b[34mDownloading bitsandbytes-0.37.1-py3-none-any.whl (76.3 MB)\u001b[0m\n",
      "\u001b[34m━━━━━━━━━━━━━━━━━━━━━━━━━━━━━━━━━━━━━━━━ 76.3/76.3 MB 31.0 MB/s eta 0:00:00\u001b[0m\n",
      "\u001b[34mRequirement already satisfied: numpy>=1.17 in /opt/conda/lib/python3.9/site-packages (from peft==0.3.0->-r requirements.txt (line 1)) (1.23.5)\u001b[0m\n",
      "\u001b[34mRequirement already satisfied: pyyaml in /opt/conda/lib/python3.9/site-packages (from peft==0.3.0->-r requirements.txt (line 1)) (5.4.1)\u001b[0m\n",
      "\u001b[34mRequirement already satisfied: packaging>=20.0 in /opt/conda/lib/python3.9/site-packages (from peft==0.3.0->-r requirements.txt (line 1)) (23.0)\u001b[0m\n",
      "\u001b[34mRequirement already satisfied: torch>=1.13.0 in /opt/conda/lib/python3.9/site-packages (from peft==0.3.0->-r requirements.txt (line 1)) (1.13.1+cu117)\u001b[0m\n",
      "\u001b[34mRequirement already satisfied: psutil in /opt/conda/lib/python3.9/site-packages (from peft==0.3.0->-r requirements.txt (line 1)) (5.9.4)\u001b[0m\n",
      "\u001b[34mRequirement already satisfied: tokenizers!=0.11.3,<0.14,>=0.11.1 in /opt/conda/lib/python3.9/site-packages (from transformers==4.27.1->-r requirements.txt (line 2)) (0.13.2)\u001b[0m\n",
      "\u001b[34mRequirement already satisfied: huggingface-hub<1.0,>=0.11.0 in /opt/conda/lib/python3.9/site-packages (from transformers==4.27.1->-r requirements.txt (line 2)) (0.12.0)\u001b[0m\n",
      "\u001b[34mRequirement already satisfied: filelock in /opt/conda/lib/python3.9/site-packages (from transformers==4.27.1->-r requirements.txt (line 2)) (3.9.0)\u001b[0m\n",
      "\u001b[34mRequirement already satisfied: requests in /opt/conda/lib/python3.9/site-packages (from transformers==4.27.1->-r requirements.txt (line 2)) (2.28.2)\u001b[0m\n",
      "\u001b[34mRequirement already satisfied: regex!=2019.12.17 in /opt/conda/lib/python3.9/site-packages (from transformers==4.27.1->-r requirements.txt (line 2)) (2022.10.31)\u001b[0m\n",
      "\u001b[34mRequirement already satisfied: tqdm>=4.27 in /opt/conda/lib/python3.9/site-packages (from transformers==4.27.1->-r requirements.txt (line 2)) (4.64.1)\u001b[0m\n",
      "\u001b[34mRequirement already satisfied: typing-extensions>=3.7.4.3 in /opt/conda/lib/python3.9/site-packages (from huggingface-hub<1.0,>=0.11.0->transformers==4.27.1->-r requirements.txt (line 2)) (4.4.0)\u001b[0m\n",
      "\u001b[34mRequirement already satisfied: urllib3<1.27,>=1.21.1 in /opt/conda/lib/python3.9/site-packages (from requests->transformers==4.27.1->-r requirements.txt (line 2)) (1.26.14)\u001b[0m\n",
      "\u001b[34mRequirement already satisfied: charset-normalizer<4,>=2 in /opt/conda/lib/python3.9/site-packages (from requests->transformers==4.27.1->-r requirements.txt (line 2)) (2.1.1)\u001b[0m\n",
      "\u001b[34mRequirement already satisfied: idna<4,>=2.5 in /opt/conda/lib/python3.9/site-packages (from requests->transformers==4.27.1->-r requirements.txt (line 2)) (3.4)\u001b[0m\n",
      "\u001b[34mRequirement already satisfied: certifi>=2017.4.17 in /opt/conda/lib/python3.9/site-packages (from requests->transformers==4.27.1->-r requirements.txt (line 2)) (2022.12.7)\u001b[0m\n",
      "\u001b[34mInstalling collected packages: bitsandbytes, accelerate, transformers, peft\u001b[0m\n",
      "\u001b[34mAttempting uninstall: accelerate\u001b[0m\n",
      "\u001b[34mFound existing installation: accelerate 0.16.0\u001b[0m\n",
      "\u001b[34mUninstalling accelerate-0.16.0:\u001b[0m\n",
      "\u001b[34mSuccessfully uninstalled accelerate-0.16.0\u001b[0m\n",
      "\u001b[34mAttempting uninstall: transformers\u001b[0m\n",
      "\u001b[34mFound existing installation: transformers 4.26.0\u001b[0m\n",
      "\u001b[34mUninstalling transformers-4.26.0:\u001b[0m\n",
      "\u001b[34mSuccessfully uninstalled transformers-4.26.0\u001b[0m\n",
      "\u001b[34mSuccessfully installed accelerate-0.17.1 bitsandbytes-0.37.1 peft-0.3.0 transformers-4.27.1\u001b[0m\n",
      "\u001b[34mWARNING: Running pip as the 'root' user can result in broken permissions and conflicting behaviour with the system package manager. It is recommended to use a virtual environment instead: https://pip.pypa.io/warnings/venv\u001b[0m\n",
      "\u001b[34m[notice] A new release of pip is available: 23.0 -> 23.1.2\u001b[0m\n",
      "\u001b[34m[notice] To update, run: pip install --upgrade pip\u001b[0m\n",
      "\u001b[34m2023-07-11 12:38:06,195 sagemaker-training-toolkit INFO     Waiting for the process to finish and give a return code.\u001b[0m\n",
      "\u001b[34m2023-07-11 12:38:06,195 sagemaker-training-toolkit INFO     Done waiting for a return code. Received 0 from exiting process.\u001b[0m\n",
      "\u001b[34m2023-07-11 12:38:06,212 sagemaker-training-toolkit INFO     No Neurons detected (normal if no neurons installed)\u001b[0m\n",
      "\u001b[34m2023-07-11 12:38:06,238 sagemaker-training-toolkit INFO     No Neurons detected (normal if no neurons installed)\u001b[0m\n",
      "\u001b[34m2023-07-11 12:38:06,264 sagemaker-training-toolkit INFO     No Neurons detected (normal if no neurons installed)\u001b[0m\n",
      "\u001b[34m2023-07-11 12:38:06,274 sagemaker-training-toolkit INFO     Invoking user script\u001b[0m\n",
      "\u001b[34mTraining Env:\u001b[0m\n",
      "\u001b[34m{\n",
      "    \"additional_framework_parameters\": {},\n",
      "    \"channel_input_dirs\": {\n",
      "        \"training\": \"/opt/ml/input/data/training\"\n",
      "    },\n",
      "    \"current_host\": \"algo-1\",\n",
      "    \"current_instance_group\": \"homogeneousCluster\",\n",
      "    \"current_instance_group_hosts\": [\n",
      "        \"algo-1\"\n",
      "    ],\n",
      "    \"current_instance_type\": \"ml.g5.2xlarge\",\n",
      "    \"distribution_hosts\": [],\n",
      "    \"distribution_instance_groups\": [],\n",
      "    \"framework_module\": \"sagemaker_pytorch_container.training:main\",\n",
      "    \"hosts\": [\n",
      "        \"algo-1\"\n",
      "    ],\n",
      "    \"hyperparameters\": {\n",
      "        \"dataset_path\": \"/opt/ml/input/data/training\",\n",
      "        \"epochs\": 1,\n",
      "        \"lr\": 0.0002,\n",
      "        \"model_id\": \"nlpai-lab/kullm-polyglot-12.8b-v2\",\n",
      "        \"per_device_train_batch_size\": 1\n",
      "    },\n",
      "    \"input_config_dir\": \"/opt/ml/input/config\",\n",
      "    \"input_data_config\": {\n",
      "        \"training\": {\n",
      "            \"TrainingInputMode\": \"File\",\n",
      "            \"S3DistributionType\": \"FullyReplicated\",\n",
      "            \"RecordWrapperType\": \"None\"\n",
      "        }\n",
      "    },\n",
      "    \"input_dir\": \"/opt/ml/input\",\n",
      "    \"instance_groups\": [\n",
      "        \"homogeneousCluster\"\n",
      "    ],\n",
      "    \"instance_groups_dict\": {\n",
      "        \"homogeneousCluster\": {\n",
      "            \"instance_group_name\": \"homogeneousCluster\",\n",
      "            \"instance_type\": \"ml.g5.2xlarge\",\n",
      "            \"hosts\": [\n",
      "                \"algo-1\"\n",
      "            ]\n",
      "        }\n",
      "    },\n",
      "    \"is_hetero\": false,\n",
      "    \"is_master\": true,\n",
      "    \"is_modelparallel_enabled\": null,\n",
      "    \"is_smddpmprun_installed\": true,\n",
      "    \"job_name\": \"kullm-polyglot-12-ko-alpaca-data-2023-0-2023-07-11-12-33-03-618\",\n",
      "    \"log_level\": 20,\n",
      "    \"master_hostname\": \"algo-1\",\n",
      "    \"model_dir\": \"/opt/ml/model\",\n",
      "    \"module_dir\": \"s3://sagemaker-us-east-1-057716757052/kullm-polyglot-12-ko-alpaca-data-2023-0-2023-07-11-12-33-03-618/source/sourcedir.tar.gz\",\n",
      "    \"module_name\": \"run_clm\",\n",
      "    \"network_interface_name\": \"eth0\",\n",
      "    \"num_cpus\": 8,\n",
      "    \"num_gpus\": 1,\n",
      "    \"num_neurons\": 0,\n",
      "    \"output_data_dir\": \"/opt/ml/output/data\",\n",
      "    \"output_dir\": \"/opt/ml/output\",\n",
      "    \"output_intermediate_dir\": \"/opt/ml/output/intermediate\",\n",
      "    \"resource_config\": {\n",
      "        \"current_host\": \"algo-1\",\n",
      "        \"current_instance_type\": \"ml.g5.2xlarge\",\n",
      "        \"current_group_name\": \"homogeneousCluster\",\n",
      "        \"hosts\": [\n",
      "            \"algo-1\"\n",
      "        ],\n",
      "        \"instance_groups\": [\n",
      "            {\n",
      "                \"instance_group_name\": \"homogeneousCluster\",\n",
      "                \"instance_type\": \"ml.g5.2xlarge\",\n",
      "                \"hosts\": [\n",
      "                    \"algo-1\"\n",
      "                ]\n",
      "            }\n",
      "        ],\n",
      "        \"network_interface_name\": \"eth0\"\n",
      "    },\n",
      "    \"user_entry_point\": \"run_clm.py\"\u001b[0m\n",
      "\u001b[34m}\u001b[0m\n",
      "\u001b[34mEnvironment variables:\u001b[0m\n",
      "\u001b[34mSM_HOSTS=[\"algo-1\"]\u001b[0m\n",
      "\u001b[34mSM_NETWORK_INTERFACE_NAME=eth0\u001b[0m\n",
      "\u001b[34mSM_HPS={\"dataset_path\":\"/opt/ml/input/data/training\",\"epochs\":1,\"lr\":0.0002,\"model_id\":\"nlpai-lab/kullm-polyglot-12.8b-v2\",\"per_device_train_batch_size\":1}\u001b[0m\n",
      "\u001b[34mSM_USER_ENTRY_POINT=run_clm.py\u001b[0m\n",
      "\u001b[34mSM_FRAMEWORK_PARAMS={}\u001b[0m\n",
      "\u001b[34mSM_RESOURCE_CONFIG={\"current_group_name\":\"homogeneousCluster\",\"current_host\":\"algo-1\",\"current_instance_type\":\"ml.g5.2xlarge\",\"hosts\":[\"algo-1\"],\"instance_groups\":[{\"hosts\":[\"algo-1\"],\"instance_group_name\":\"homogeneousCluster\",\"instance_type\":\"ml.g5.2xlarge\"}],\"network_interface_name\":\"eth0\"}\u001b[0m\n",
      "\u001b[34mSM_INPUT_DATA_CONFIG={\"training\":{\"RecordWrapperType\":\"None\",\"S3DistributionType\":\"FullyReplicated\",\"TrainingInputMode\":\"File\"}}\u001b[0m\n",
      "\u001b[34mSM_OUTPUT_DATA_DIR=/opt/ml/output/data\u001b[0m\n",
      "\u001b[34mSM_CHANNELS=[\"training\"]\u001b[0m\n",
      "\u001b[34mSM_CURRENT_HOST=algo-1\u001b[0m\n",
      "\u001b[34mSM_CURRENT_INSTANCE_TYPE=ml.g5.2xlarge\u001b[0m\n",
      "\u001b[34mSM_CURRENT_INSTANCE_GROUP=homogeneousCluster\u001b[0m\n",
      "\u001b[34mSM_CURRENT_INSTANCE_GROUP_HOSTS=[\"algo-1\"]\u001b[0m\n",
      "\u001b[34mSM_INSTANCE_GROUPS=[\"homogeneousCluster\"]\u001b[0m\n",
      "\u001b[34mSM_INSTANCE_GROUPS_DICT={\"homogeneousCluster\":{\"hosts\":[\"algo-1\"],\"instance_group_name\":\"homogeneousCluster\",\"instance_type\":\"ml.g5.2xlarge\"}}\u001b[0m\n",
      "\u001b[34mSM_DISTRIBUTION_INSTANCE_GROUPS=[]\u001b[0m\n",
      "\u001b[34mSM_IS_HETERO=false\u001b[0m\n",
      "\u001b[34mSM_MODULE_NAME=run_clm\u001b[0m\n",
      "\u001b[34mSM_LOG_LEVEL=20\u001b[0m\n",
      "\u001b[34mSM_FRAMEWORK_MODULE=sagemaker_pytorch_container.training:main\u001b[0m\n",
      "\u001b[34mSM_INPUT_DIR=/opt/ml/input\u001b[0m\n",
      "\u001b[34mSM_INPUT_CONFIG_DIR=/opt/ml/input/config\u001b[0m\n",
      "\u001b[34mSM_OUTPUT_DIR=/opt/ml/output\u001b[0m\n",
      "\u001b[34mSM_NUM_CPUS=8\u001b[0m\n",
      "\u001b[34mSM_NUM_GPUS=1\u001b[0m\n",
      "\u001b[34mSM_NUM_NEURONS=0\u001b[0m\n",
      "\u001b[34mSM_MODEL_DIR=/opt/ml/model\u001b[0m\n",
      "\u001b[34mSM_MODULE_DIR=s3://sagemaker-us-east-1-057716757052/kullm-polyglot-12-ko-alpaca-data-2023-0-2023-07-11-12-33-03-618/source/sourcedir.tar.gz\u001b[0m\n",
      "\u001b[34mSM_TRAINING_ENV={\"additional_framework_parameters\":{},\"channel_input_dirs\":{\"training\":\"/opt/ml/input/data/training\"},\"current_host\":\"algo-1\",\"current_instance_group\":\"homogeneousCluster\",\"current_instance_group_hosts\":[\"algo-1\"],\"current_instance_type\":\"ml.g5.2xlarge\",\"distribution_hosts\":[],\"distribution_instance_groups\":[],\"framework_module\":\"sagemaker_pytorch_container.training:main\",\"hosts\":[\"algo-1\"],\"hyperparameters\":{\"dataset_path\":\"/opt/ml/input/data/training\",\"epochs\":1,\"lr\":0.0002,\"model_id\":\"nlpai-lab/kullm-polyglot-12.8b-v2\",\"per_device_train_batch_size\":1},\"input_config_dir\":\"/opt/ml/input/config\",\"input_data_config\":{\"training\":{\"RecordWrapperType\":\"None\",\"S3DistributionType\":\"FullyReplicated\",\"TrainingInputMode\":\"File\"}},\"input_dir\":\"/opt/ml/input\",\"instance_groups\":[\"homogeneousCluster\"],\"instance_groups_dict\":{\"homogeneousCluster\":{\"hosts\":[\"algo-1\"],\"instance_group_name\":\"homogeneousCluster\",\"instance_type\":\"ml.g5.2xlarge\"}},\"is_hetero\":false,\"is_master\":true,\"is_modelparallel_enabled\":null,\"is_smddpmprun_installed\":true,\"job_name\":\"kullm-polyglot-12-ko-alpaca-data-2023-0-2023-07-11-12-33-03-618\",\"log_level\":20,\"master_hostname\":\"algo-1\",\"model_dir\":\"/opt/ml/model\",\"module_dir\":\"s3://sagemaker-us-east-1-057716757052/kullm-polyglot-12-ko-alpaca-data-2023-0-2023-07-11-12-33-03-618/source/sourcedir.tar.gz\",\"module_name\":\"run_clm\",\"network_interface_name\":\"eth0\",\"num_cpus\":8,\"num_gpus\":1,\"num_neurons\":0,\"output_data_dir\":\"/opt/ml/output/data\",\"output_dir\":\"/opt/ml/output\",\"output_intermediate_dir\":\"/opt/ml/output/intermediate\",\"resource_config\":{\"current_group_name\":\"homogeneousCluster\",\"current_host\":\"algo-1\",\"current_instance_type\":\"ml.g5.2xlarge\",\"hosts\":[\"algo-1\"],\"instance_groups\":[{\"hosts\":[\"algo-1\"],\"instance_group_name\":\"homogeneousCluster\",\"instance_type\":\"ml.g5.2xlarge\"}],\"network_interface_name\":\"eth0\"},\"user_entry_point\":\"run_clm.py\"}\u001b[0m\n",
      "\u001b[34mSM_USER_ARGS=[\"--dataset_path\",\"/opt/ml/input/data/training\",\"--epochs\",\"1\",\"--lr\",\"0.0002\",\"--model_id\",\"nlpai-lab/kullm-polyglot-12.8b-v2\",\"--per_device_train_batch_size\",\"1\"]\u001b[0m\n",
      "\u001b[34mSM_OUTPUT_INTERMEDIATE_DIR=/opt/ml/output/intermediate\u001b[0m\n",
      "\u001b[34mSM_CHANNEL_TRAINING=/opt/ml/input/data/training\u001b[0m\n",
      "\u001b[34mSM_HP_DATASET_PATH=/opt/ml/input/data/training\u001b[0m\n",
      "\u001b[34mSM_HP_EPOCHS=1\u001b[0m\n",
      "\u001b[34mSM_HP_LR=0.0002\u001b[0m\n",
      "\u001b[34mSM_HP_MODEL_ID=nlpai-lab/kullm-polyglot-12.8b-v2\u001b[0m\n",
      "\u001b[34mSM_HP_PER_DEVICE_TRAIN_BATCH_SIZE=1\u001b[0m\n",
      "\u001b[34mPYTHONPATH=/opt/ml/code:/opt/conda/bin:/opt/conda/lib/python39.zip:/opt/conda/lib/python3.9:/opt/conda/lib/python3.9/lib-dynload:/opt/conda/lib/python3.9/site-packages\u001b[0m\n",
      "\u001b[34mInvoking script with the following command:\u001b[0m\n",
      "\u001b[34m/opt/conda/bin/python3.9 run_clm.py --dataset_path /opt/ml/input/data/training --epochs 1 --lr 0.0002 --model_id nlpai-lab/kullm-polyglot-12.8b-v2 --per_device_train_batch_size 1\u001b[0m\n",
      "\u001b[34m[2023-07-11 12:38:07.844: W smdistributed/modelparallel/torch/nn/predefined_hooks.py:78] Found unsupported HuggingFace version 4.27.1 for automated tensor parallelism. HuggingFace modules will not be automatically distributed. You can use smp.tp_register_with_module API to register desired modules for tensor parallelism, or directly instantiate an smp.nn.DistributedModule. Supported HuggingFace transformers versions for automated tensor parallelism: ['4.17.0', '4.20.1', '4.21.0']\u001b[0m\n",
      "\u001b[34m2023-07-11 12:38:07,848 root         INFO     Using NamedTuple = typing._NamedTuple instead.\u001b[0m\n",
      "\u001b[34m2023-07-11 12:38:07,870 sagemaker-training-toolkit INFO     Exceptions not imported for SageMaker TF as Tensorflow is not installed.\u001b[0m\n",
      "\u001b[34m===================================BUG REPORT===================================\u001b[0m\n",
      "\u001b[34mWelcome to bitsandbytes. For bug reports, please submit your error trace to: https://github.com/TimDettmers/bitsandbytes/issues\u001b[0m\n",
      "\u001b[34m================================================================================\u001b[0m\n",
      "\u001b[34m/opt/conda/lib/python3.9/site-packages/bitsandbytes/cuda_setup/main.py:136: UserWarning: WARNING: The following directories listed in your path were found to be non-existent: {PosixPath('/usr/local/nvidia/lib'), PosixPath('/usr/local/nvidia/lib64')}\n",
      "  warn(msg)\u001b[0m\n",
      "\u001b[34m/opt/conda/lib/python3.9/site-packages/bitsandbytes/cuda_setup/main.py:136: UserWarning: /opt/conda/lib/python3.9/site-packages/smdistributed/dataparallel/lib:/opt/amazon/openmpi/lib/:/opt/amazon/efa/lib/:/opt/conda/lib:/usr/local/lib:/usr/local/nvidia/lib:/usr/local/nvidia/lib64:/usr/local/lib did not contain libcudart.so as expected! Searching further paths...\n",
      "  warn(msg)\u001b[0m\n",
      "\u001b[34m/opt/conda/lib/python3.9/site-packages/bitsandbytes/cuda_setup/main.py:136: UserWarning: WARNING: The following directories listed in your path were found to be non-existent: {PosixPath('us-east-1'), PosixPath('arn'), PosixPath('aws'), PosixPath('057716757052'), PosixPath('training-job/kullm-polyglot-12-ko-alpaca-data-2023-0-2023-07-11-12-33-03-618'), PosixPath('sagemaker')}\n",
      "  warn(msg)\u001b[0m\n",
      "\u001b[34m/opt/conda/lib/python3.9/site-packages/bitsandbytes/cuda_setup/main.py:136: UserWarning: WARNING: The following directories listed in your path were found to be non-existent: {PosixPath('/v2/credentials/proxy-7208d20ff4c169046d22d7b73f44bd1d57b22c24d31dbf1ee4cc83bf78692780-customer')}\n",
      "  warn(msg)\u001b[0m\n",
      "\u001b[34m/opt/conda/lib/python3.9/site-packages/bitsandbytes/cuda_setup/main.py:136: UserWarning: WARNING: The following directories listed in your path were found to be non-existent: {PosixPath('s3'), PosixPath('//sagemaker-us-east-1-057716757052/kullm-polyglot-12-ko-alpaca-data-2023-0-2023-07-11-12-33-03-618/source/sourcedir.tar.gz')}\n",
      "  warn(msg)\u001b[0m\n",
      "\u001b[34m/opt/conda/lib/python3.9/site-packages/bitsandbytes/cuda_setup/main.py:136: UserWarning: WARNING: The following directories listed in your path were found to be non-existent: {PosixPath('nlpai-lab/kullm-polyglot-12.8b-v2')}\n",
      "  warn(msg)\u001b[0m\n",
      "\u001b[34m/opt/conda/lib/python3.9/site-packages/bitsandbytes/cuda_setup/main.py:136: UserWarning: WARNING: The following directories listed in your path were found to be non-existent: {PosixPath('\"FullyReplicated\",\"TrainingInputMode\"'), PosixPath('\"/opt/ml/model\",\"module_dir\"'), PosixPath('\"None\",\"S3DistributionType\"'), PosixPath('{\"additional_framework_parameters\"'), PosixPath('\"algo-1\",\"current_instance_type\"'), PosixPath('\"sagemaker_pytorch_container.training'), PosixPath('1,\"lr\"'), PosixPath('\"ml.g5.2xlarge\",\"hosts\"'), PosixPath('true,\"is_modelparallel_enabled\"'), PosixPath('{\"RecordWrapperType\"'), PosixPath('1,\"num_neurons\"'), PosixPath('{\"current_group_name\"'), PosixPath('{\"dataset_path\"'), PosixPath('false,\"is_master\"'), PosixPath('{\"training\"'), PosixPath('\"/opt/ml/input\",\"instance_groups\"'), PosixPath('\"eth0\",\"num_cpus\"'), PosixPath('1},\"input_config_dir\"'), PosixPath('\"homogeneousCluster\",\"instance_type\"'), PosixPath('//sagemaker-us-east-1-057716757052/kullm-polyglot-12-ko-alpaca-data-2023-0-2023-07-11-12-33-03-618/source/sourcedir.tar.gz\",\"module_name\"'), PosixPath('\"File\"}},\"input_dir\"'), PosixPath('\"algo-1\",\"current_instance_group\"'), PosixPath('[],\"distribution_instance_groups\"'), PosixPath('[],\"framework_module\"'), PosixPath('main\",\"hosts\"'), PosixPath('[\"algo-1\"],\"hyperparameters\"'), PosixPath('{\"homogeneousCluster\"'), PosixPath('\"ml.g5.2xlarge\",\"distribution_hosts\"'), PosixPath('\"/opt/ml/output\",\"output_intermediate_dir\"'), PosixPath('\"run_clm.py\"}'), PosixPath('\"/opt/ml/input/config\",\"input_data_config\"'), PosixPath('0.0002,\"model_id\"'), PosixPath('\"eth0\"},\"user_entry_point\"'), PosixPath('\"/opt/ml/output/intermediate\",\"resource_config\"'), PosixPath('[{\"hosts\"'), PosixPath('\"/opt/ml/input/data/training\"},\"current_host\"'), PosixPath('true,\"job_name\"'), PosixPath('[\"algo-1\"],\"current_instance_type\"'), PosixPath('[\"algo-1\"],\"instance_groups\"'), PosixPath('[\"homogeneousCluster\"],\"instance_groups_dict\"'), PosixPath('\"ml.g5.2xlarge\"}},\"is_hetero\"'), PosixPath('20,\"master_hostname\"'), PosixPath('\"s3'), PosixPath('\"/opt/ml/input/data/training\",\"epochs\"'), PosixPath('\"ml.g5.2xlarge\"}],\"network_interface_name\"'), PosixPath('\"homogeneousCluster\",\"current_instance_group_hosts\"'), PosixPath('\"run_clm\",\"network_interface_name\"'), PosixPath('\"kullm-polyglot-12-ko-alpaca-data-2023-0-2023-07-11-12-33-03-618\",\"log_level\"'), PosixPath('\"/opt/ml/output/data\",\"output_dir\"'), PosixPath('{\"hosts\"'), PosixPath('8,\"num_gpus\"'), PosixPath('{},\"channel_input_dirs\"'), PosixPath('[\"algo-1\"],\"instance_group_name\"'), PosixPath('null,\"is_smddpmprun_installed\"'), PosixPath('0,\"output_data_dir\"'), PosixPath('\"homogeneousCluster\",\"current_host\"'), PosixPath('\"algo-1\",\"model_dir\"'), PosixPath('\"nlpai-lab/kullm-polyglot-12.8b-v2\",\"per_device_train_batch_size\"')}\n",
      "  warn(msg)\u001b[0m\n",
      "\u001b[34m/opt/conda/lib/python3.9/site-packages/bitsandbytes/cuda_setup/main.py:136: UserWarning: WARNING: The following directories listed in your path were found to be non-existent: {PosixPath('\"/opt/ml/input/data/training\",\"epochs\"'), PosixPath('{\"dataset_path\"'), PosixPath('0.0002,\"model_id\"'), PosixPath('1}'), PosixPath('\"nlpai-lab/kullm-polyglot-12.8b-v2\",\"per_device_train_batch_size\"'), PosixPath('1,\"lr\"')}\n",
      "  warn(msg)\u001b[0m\n",
      "\u001b[34m/opt/conda/lib/python3.9/site-packages/bitsandbytes/cuda_setup/main.py:136: UserWarning: WARNING: The following directories listed in your path were found to be non-existent: {PosixPath('/opt/ml/output/intermediate')}\n",
      "  warn(msg)\u001b[0m\n",
      "\u001b[34m/opt/conda/lib/python3.9/site-packages/bitsandbytes/cuda_setup/main.py:136: UserWarning: WARNING: The following directories listed in your path were found to be non-existent: {PosixPath('/opt/conda/lib/python39.zip')}\n",
      "  warn(msg)\u001b[0m\n",
      "\u001b[34m/opt/conda/lib/python3.9/site-packages/bitsandbytes/cuda_setup/main.py:136: UserWarning: WARNING: The following directories listed in your path were found to be non-existent: {PosixPath('[\"--dataset_path\",\"/opt/ml/input/data/training\",\"--epochs\",\"1\",\"--lr\",\"0.0002\",\"--model_id\",\"nlpai-lab/kullm-polyglot-12.8b-v2\",\"--per_device_train_batch_size\",\"1\"]')}\n",
      "  warn(msg)\u001b[0m\n",
      "\u001b[34m/opt/conda/lib/python3.9/site-packages/bitsandbytes/cuda_setup/main.py:136: UserWarning: WARNING: The following directories listed in your path were found to be non-existent: {PosixPath('$(dirname $(which conda))/..')}\n",
      "  warn(msg)\u001b[0m\n",
      "\u001b[34mCUDA_SETUP: WARNING! libcudart.so not found in any environmental path. Searching /usr/local/cuda/lib64...\u001b[0m\n",
      "\u001b[34mCUDA SETUP: CUDA runtime path found: /usr/local/cuda/lib64/libcudart.so\u001b[0m\n",
      "\u001b[34mCUDA SETUP: Highest compute capability among GPUs detected: 8.6\u001b[0m\n",
      "\u001b[34mCUDA SETUP: Detected CUDA version 117\u001b[0m\n",
      "\u001b[34mCUDA SETUP: Loading binary /opt/conda/lib/python3.9/site-packages/bitsandbytes/libbitsandbytes_cuda117.so...\u001b[0m\n",
      "\u001b[34mDownloading (…)lve/main/config.json:   0%|          | 0.00/714 [00:00<?, ?B/s]\u001b[0m\n",
      "\u001b[34mDownloading (…)lve/main/config.json: 100%|██████████| 714/714 [00:00<00:00, 208kB/s]\u001b[0m\n",
      "\u001b[34mOverriding torch_dtype=None with `torch_dtype=torch.float16` due to requirements of `bitsandbytes` to enable model loading in mixed int8. Either pass torch_dtype=torch.float16 or don't pass this argument at all to remove this warning.\u001b[0m\n",
      "\u001b[34mOverriding torch_dtype=None with `torch_dtype=torch.float16` due to requirements of `bitsandbytes` to enable model loading in mixed int8. Either pass torch_dtype=torch.float16 or don't pass this argument at all to remove this warning.\u001b[0m\n",
      "\u001b[34mDownloading (…)model.bin.index.json:   0%|          | 0.00/52.5k [00:00<?, ?B/s]\u001b[0m\n",
      "\u001b[34mDownloading (…)model.bin.index.json: 100%|██████████| 52.5k/52.5k [00:00<00:00, 16.5MB/s]\u001b[0m\n",
      "\u001b[34mDownloading shards:   0%|          | 0/3 [00:00<?, ?it/s]\u001b[0m\n",
      "\u001b[34mDownloading (…)00001-of-00003.bin\";:   0%|          | 0.00/10.0G [00:00<?, ?B/s]#033[A\u001b[0m\n",
      "\u001b[34mDownloading (…)00001-of-00003.bin\";:   0%|          | 41.9M/10.0G [00:00<00:24, 404MB/s]#033[A\u001b[0m\n",
      "\u001b[34mDownloading (…)00001-of-00003.bin\";:   1%|          | 94.4M/10.0G [00:00<00:23, 420MB/s]#033[A\u001b[0m\n",
      "\u001b[34mDownloading (…)00001-of-00003.bin\";:   1%|▏         | 147M/10.0G [00:00<00:29, 340MB/s] #033[A\u001b[0m\n",
      "\u001b[34mDownloading (…)00001-of-00003.bin\";:   2%|▏         | 199M/10.0G [00:00<00:25, 384MB/s]#033[A\u001b[0m\n",
      "\u001b[34mDownloading (…)00001-of-00003.bin\";:   3%|▎         | 252M/10.0G [00:00<00:24, 393MB/s]#033[A\u001b[0m\n",
      "\u001b[34mDownloading (…)00001-of-00003.bin\";:   3%|▎         | 294M/10.0G [00:00<00:26, 374MB/s]#033[A\u001b[0m\n",
      "\u001b[34mDownloading (…)00001-of-00003.bin\";:   3%|▎         | 346M/10.0G [00:00<00:24, 400MB/s]#033[A\u001b[0m\n",
      "\u001b[34mDownloading (…)00001-of-00003.bin\";:   4%|▍         | 398M/10.0G [00:01<00:23, 415MB/s]#033[A\u001b[0m\n",
      "\u001b[34mDownloading (…)00001-of-00003.bin\";:   4%|▍         | 451M/10.0G [00:01<00:22, 434MB/s]#033[A\u001b[0m\n",
      "\u001b[34mDownloading (…)00001-of-00003.bin\";:   5%|▌         | 503M/10.0G [00:01<00:21, 447MB/s]#033[A\u001b[0m\n",
      "\u001b[34mDownloading (…)00001-of-00003.bin\";:   6%|▌         | 556M/10.0G [00:01<00:23, 407MB/s]#033[A\u001b[0m\n",
      "\u001b[34mDownloading (…)00001-of-00003.bin\";:   6%|▌         | 608M/10.0G [00:01<00:22, 413MB/s]#033[A\u001b[0m\n",
      "\u001b[34mDownloading (…)00001-of-00003.bin\";:   7%|▋         | 661M/10.0G [00:01<00:22, 424MB/s]#033[A\u001b[0m\n",
      "\u001b[34mDownloading (…)00001-of-00003.bin\";:   7%|▋         | 713M/10.0G [00:01<00:22, 416MB/s]#033[A\u001b[0m\n",
      "\u001b[34mDownloading (…)00001-of-00003.bin\";:   8%|▊         | 765M/10.0G [00:01<00:20, 442MB/s]#033[A\u001b[0m\n",
      "\u001b[34mDownloading (…)00001-of-00003.bin\";:   8%|▊         | 818M/10.0G [00:01<00:20, 457MB/s]#033[A\u001b[0m\n",
      "\u001b[34mDownloading (…)00001-of-00003.bin\";:   9%|▊         | 870M/10.0G [00:02<00:19, 461MB/s]#033[A\u001b[0m\n",
      "\u001b[34mDownloading (…)00001-of-00003.bin\";:   9%|▉         | 923M/10.0G [00:02<00:19, 460MB/s]#033[A\u001b[0m\n",
      "\u001b[34mDownloading (…)00001-of-00003.bin\";:  10%|▉         | 975M/10.0G [00:02<00:21, 414MB/s]#033[A\u001b[0m\n",
      "\u001b[34mDownloading (…)00001-of-00003.bin\";:  10%|█         | 1.03G/10.0G [00:02<00:22, 393MB/s]#033[A\u001b[0m\n",
      "\u001b[34mDownloading (…)00001-of-00003.bin\";:  11%|█         | 1.07G/10.0G [00:02<00:24, 360MB/s]#033[A\u001b[0m\n",
      "\u001b[34mDownloading (…)00001-of-00003.bin\";:  11%|█         | 1.11G/10.0G [00:02<00:27, 328MB/s]#033[A\u001b[0m\n",
      "\u001b[34mDownloading (…)00001-of-00003.bin\";:  12%|█▏        | 1.15G/10.0G [00:02<00:26, 336MB/s]#033[A\u001b[0m\n",
      "\u001b[34mDownloading (…)00001-of-00003.bin\";:  12%|█▏        | 1.20G/10.0G [00:03<00:27, 324MB/s]#033[A\u001b[0m\n",
      "\u001b[34mDownloading (…)00001-of-00003.bin\";:  12%|█▏        | 1.25G/10.0G [00:03<00:25, 351MB/s]#033[A\u001b[0m\n",
      "\u001b[34mDownloading (…)00001-of-00003.bin\";:  13%|█▎        | 1.29G/10.0G [00:03<00:27, 323MB/s]#033[A\u001b[0m\n",
      "\u001b[34mDownloading (…)00001-of-00003.bin\";:  13%|█▎        | 1.33G/10.0G [00:03<00:26, 326MB/s]#033[A\u001b[0m\n",
      "\u001b[34mDownloading (…)00001-of-00003.bin\";:  14%|█▎        | 1.37G/10.0G [00:03<00:25, 336MB/s]#033[A\u001b[0m\n",
      "\u001b[34mDownloading (…)00001-of-00003.bin\";:  14%|█▍        | 1.42G/10.0G [00:03<00:24, 354MB/s]#033[A\u001b[0m\n",
      "\u001b[34mDownloading (…)00001-of-00003.bin\";:  15%|█▍        | 1.46G/10.0G [00:03<00:24, 357MB/s]#033[A\u001b[0m\n",
      "\u001b[34mDownloading (…)00001-of-00003.bin\";:  15%|█▍        | 1.50G/10.0G [00:03<00:23, 359MB/s]#033[A\u001b[0m\n",
      "\u001b[34mDownloading (…)00001-of-00003.bin\";:  15%|█▌        | 1.54G/10.0G [00:04<00:24, 342MB/s]#033[A\u001b[0m\n",
      "\u001b[34mDownloading (…)00001-of-00003.bin\";:  16%|█▌        | 1.58G/10.0G [00:04<00:25, 334MB/s]#033[A\u001b[0m\n",
      "\u001b[34mDownloading (…)00001-of-00003.bin\";:  16%|█▋        | 1.64G/10.0G [00:04<00:23, 363MB/s]#033[A\u001b[0m\n",
      "\u001b[34mDownloading (…)00001-of-00003.bin\";:  17%|█▋        | 1.69G/10.0G [00:04<00:21, 393MB/s]#033[A\u001b[0m\n",
      "\u001b[34mDownloading (…)00001-of-00003.bin\";:  17%|█▋        | 1.73G/10.0G [00:04<00:21, 384MB/s]#033[A\u001b[0m\n",
      "\u001b[34mDownloading (…)00001-of-00003.bin\";:  18%|█▊        | 1.78G/10.0G [00:04<00:19, 419MB/s]#033[A\u001b[0m\n",
      "\u001b[34mDownloading (…)00001-of-00003.bin\";:  18%|█▊        | 1.84G/10.0G [00:04<00:18, 440MB/s]#033[A\u001b[0m\n",
      "\u001b[34mDownloading (…)00001-of-00003.bin\";:  19%|█▉        | 1.90G/10.0G [00:04<00:16, 483MB/s]#033[A\u001b[0m\n",
      "\u001b[34mDownloading (…)00001-of-00003.bin\";:  19%|█▉        | 1.95G/10.0G [00:04<00:17, 469MB/s]#033[A\u001b[0m\n",
      "\u001b[34mDownloading (…)00001-of-00003.bin\";:  20%|█▉        | 2.00G/10.0G [00:05<00:17, 468MB/s]#033[A\u001b[0m\n",
      "\u001b[34mDownloading (…)00001-of-00003.bin\";:  21%|██        | 2.06G/10.0G [00:05<00:16, 482MB/s]#033[A\u001b[0m\n",
      "\u001b[34mDownloading (…)00001-of-00003.bin\";:  21%|██        | 2.11G/10.0G [00:05<00:16, 475MB/s]#033[A\u001b[0m\n",
      "\u001b[34mDownloading (…)00001-of-00003.bin\";:  22%|██▏       | 2.16G/10.0G [00:05<00:19, 409MB/s]#033[A\u001b[0m\n",
      "\u001b[34mDownloading (…)00001-of-00003.bin\";:  22%|██▏       | 2.21G/10.0G [00:05<00:18, 428MB/s]#033[A\u001b[0m\n",
      "\u001b[34mDownloading (…)00001-of-00003.bin\";:  23%|██▎       | 2.26G/10.0G [00:05<00:17, 446MB/s]#033[A\u001b[0m\n",
      "\u001b[34mDownloading (…)00001-of-00003.bin\";:  23%|██▎       | 2.32G/10.0G [00:05<00:18, 425MB/s]#033[A\u001b[0m\n",
      "\u001b[34mDownloading (…)00001-of-00003.bin\";:  24%|██▎       | 2.37G/10.0G [00:05<00:17, 429MB/s]#033[A\u001b[0m\n",
      "\u001b[34mDownloading (…)00001-of-00003.bin\";:  24%|██▍       | 2.42G/10.0G [00:06<00:17, 435MB/s]#033[A\u001b[0m\n",
      "\u001b[34mDownloading (…)00001-of-00003.bin\";:  25%|██▍       | 2.47G/10.0G [00:06<00:16, 455MB/s]#033[A\u001b[0m\n",
      "\u001b[34mDownloading (…)00001-of-00003.bin\";:  25%|██▌       | 2.53G/10.0G [00:06<00:16, 445MB/s]#033[A\u001b[0m\n",
      "\u001b[34mDownloading (…)00001-of-00003.bin\";:  26%|██▌       | 2.58G/10.0G [00:06<00:16, 447MB/s]#033[A\u001b[0m\n",
      "\u001b[34mDownloading (…)00001-of-00003.bin\";:  26%|██▋       | 2.63G/10.0G [00:06<00:17, 425MB/s]#033[A\u001b[0m\n",
      "\u001b[34mDownloading (…)00001-of-00003.bin\";:  27%|██▋       | 2.68G/10.0G [00:06<00:17, 410MB/s]#033[A\u001b[0m\n",
      "\u001b[34mDownloading (…)00001-of-00003.bin\";:  27%|██▋       | 2.74G/10.0G [00:06<00:17, 418MB/s]#033[A\u001b[0m\n",
      "\u001b[34mDownloading (…)00001-of-00003.bin\";:  28%|██▊       | 2.79G/10.0G [00:06<00:16, 428MB/s]#033[A\u001b[0m\n",
      "\u001b[34mDownloading (…)00001-of-00003.bin\";:  28%|██▊       | 2.84G/10.0G [00:06<00:15, 453MB/s]#033[A\u001b[0m\n",
      "\u001b[34mDownloading (…)00001-of-00003.bin\";:  29%|██▉       | 2.89G/10.0G [00:07<00:15, 446MB/s]#033[A\u001b[0m\n",
      "\u001b[34mDownloading (…)00001-of-00003.bin\";:  29%|██▉       | 2.95G/10.0G [00:07<00:16, 423MB/s]#033[A\u001b[0m\n",
      "\u001b[34mDownloading (…)00001-of-00003.bin\";:  30%|██▉       | 3.00G/10.0G [00:07<00:16, 427MB/s]#033[A\u001b[0m\n",
      "\u001b[34mDownloading (…)00001-of-00003.bin\";:  30%|███       | 3.05G/10.0G [00:07<00:17, 405MB/s]#033[A\u001b[0m\n",
      "\u001b[34mDownloading (…)00001-of-00003.bin\";:  31%|███       | 3.10G/10.0G [00:07<00:16, 414MB/s]#033[A\u001b[0m\n",
      "\u001b[34mDownloading (…)00001-of-00003.bin\";:  31%|███▏      | 3.16G/10.0G [00:07<00:16, 422MB/s]#033[A\u001b[0m\n",
      "\u001b[34mDownloading (…)00001-of-00003.bin\";:  32%|███▏      | 3.21G/10.0G [00:07<00:17, 380MB/s]#033[A\u001b[0m\n",
      "\u001b[34mDownloading (…)00001-of-00003.bin\";:  32%|███▏      | 3.25G/10.0G [00:08<00:17, 384MB/s]#033[A\u001b[0m\n",
      "\u001b[34mDownloading (…)00001-of-00003.bin\";:  33%|███▎      | 3.29G/10.0G [00:08<00:17, 375MB/s]#033[A\u001b[0m\n",
      "\u001b[34mDownloading (…)00001-of-00003.bin\";:  33%|███▎      | 3.34G/10.0G [00:08<00:17, 387MB/s]#033[A\u001b[0m\n",
      "\u001b[34mDownloading (…)00001-of-00003.bin\";:  34%|███▍      | 3.40G/10.0G [00:08<00:16, 410MB/s]#033[A\u001b[0m\n",
      "\u001b[34mDownloading (…)00001-of-00003.bin\";:  34%|███▍      | 3.45G/10.0G [00:08<00:15, 425MB/s]#033[A\u001b[0m\n",
      "\u001b[34mDownloading (…)00001-of-00003.bin\";:  35%|███▍      | 3.50G/10.0G [00:08<00:15, 431MB/s]#033[A\u001b[0m\n",
      "\u001b[34mDownloading (…)00001-of-00003.bin\";:  35%|███▌      | 3.55G/10.0G [00:08<00:16, 399MB/s]#033[A\u001b[0m\n",
      "\u001b[34mDownloading (…)00001-of-00003.bin\";:  36%|███▌      | 3.61G/10.0G [00:08<00:15, 412MB/s]#033[A\u001b[0m\n",
      "\u001b[34mDownloading (…)00001-of-00003.bin\";:  37%|███▋      | 3.66G/10.0G [00:09<00:14, 435MB/s]#033[A\u001b[0m\n",
      "\u001b[34mDownloading (…)00001-of-00003.bin\";:  37%|███▋      | 3.71G/10.0G [00:09<00:14, 435MB/s]#033[A\u001b[0m\n",
      "\u001b[34mDownloading (…)00001-of-00003.bin\";:  38%|███▊      | 3.76G/10.0G [00:09<00:14, 432MB/s]#033[A\u001b[0m\n",
      "\u001b[34mDownloading (…)00001-of-00003.bin\";:  38%|███▊      | 3.82G/10.0G [00:09<00:15, 394MB/s]#033[A\u001b[0m\n",
      "\u001b[34mDownloading (…)00001-of-00003.bin\";:  39%|███▊      | 3.87G/10.0G [00:09<00:15, 401MB/s]#033[A\u001b[0m\n",
      "\u001b[34mDownloading (…)00001-of-00003.bin\";:  39%|███▉      | 3.91G/10.0G [00:09<00:15, 402MB/s]#033[A\u001b[0m\n",
      "\u001b[34mDownloading (…)00001-of-00003.bin\";:  39%|███▉      | 3.95G/10.0G [00:09<00:15, 401MB/s]#033[A\u001b[0m\n",
      "\u001b[34mDownloading (…)00001-of-00003.bin\";:  40%|███▉      | 4.01G/10.0G [00:09<00:14, 415MB/s]#033[A\u001b[0m\n",
      "\u001b[34mDownloading (…)00001-of-00003.bin\";:  40%|████      | 4.06G/10.0G [00:09<00:14, 417MB/s]#033[A\u001b[0m\n",
      "\u001b[34mDownloading (…)00001-of-00003.bin\";:  41%|████      | 4.10G/10.0G [00:10<00:19, 302MB/s]#033[A\u001b[0m\n",
      "\u001b[34mDownloading (…)00001-of-00003.bin\";:  41%|████▏     | 4.14G/10.0G [00:10<00:18, 321MB/s]#033[A\u001b[0m\n",
      "\u001b[34mDownloading (…)00001-of-00003.bin\";:  42%|████▏     | 4.18G/10.0G [00:10<00:17, 342MB/s]#033[A\u001b[0m\n",
      "\u001b[34mDownloading (…)00001-of-00003.bin\";:  42%|████▏     | 4.23G/10.0G [00:10<00:17, 339MB/s]#033[A\u001b[0m\n",
      "\u001b[34mDownloading (…)00001-of-00003.bin\";:  43%|████▎     | 4.27G/10.0G [00:10<00:17, 332MB/s]#033[A\u001b[0m\n",
      "\u001b[34mDownloading (…)00001-of-00003.bin\";:  43%|████▎     | 4.32G/10.0G [00:10<00:15, 361MB/s]#033[A\u001b[0m\n",
      "\u001b[34mDownloading (…)00001-of-00003.bin\";:  44%|████▎     | 4.36G/10.0G [00:10<00:15, 370MB/s]#033[A\u001b[0m\n",
      "\u001b[34mDownloading (…)00001-of-00003.bin\";:  44%|████▍     | 4.40G/10.0G [00:11<00:15, 370MB/s]#033[A\u001b[0m\n",
      "\u001b[34mDownloading (…)00001-of-00003.bin\";:  44%|████▍     | 4.45G/10.0G [00:11<00:15, 362MB/s]#033[A\u001b[0m\n",
      "\u001b[34mDownloading (…)00001-of-00003.bin\";:  45%|████▍     | 4.49G/10.0G [00:11<00:15, 362MB/s]#033[A\u001b[0m\n",
      "\u001b[34mDownloading (…)00001-of-00003.bin\";:  45%|████▌     | 4.53G/10.0G [00:11<00:16, 329MB/s]#033[A\u001b[0m\n",
      "\u001b[34mDownloading (…)00001-of-00003.bin\";:  46%|████▌     | 4.57G/10.0G [00:11<00:16, 334MB/s]#033[A\u001b[0m\n",
      "\u001b[34mDownloading (…)00001-of-00003.bin\";:  46%|████▌     | 4.61G/10.0G [00:11<00:15, 349MB/s]#033[A\u001b[0m\n",
      "\u001b[34mDownloading (…)00001-of-00003.bin\";:  46%|████▋     | 4.66G/10.0G [00:11<00:15, 357MB/s]#033[A\u001b[0m\n",
      "\u001b[34mDownloading (…)00001-of-00003.bin\";:  47%|████▋     | 4.70G/10.0G [00:11<00:15, 353MB/s]#033[A\u001b[0m\n",
      "\u001b[34mDownloading (…)00001-of-00003.bin\";:  47%|████▋     | 4.74G/10.0G [00:12<00:15, 347MB/s]#033[A\u001b[0m\n",
      "\u001b[34mDownloading (…)00001-of-00003.bin\";:  48%|████▊     | 4.79G/10.0G [00:12<00:14, 360MB/s]#033[A\u001b[0m\n",
      "\u001b[34mDownloading (…)00001-of-00003.bin\";:  48%|████▊     | 4.84G/10.0G [00:12<00:13, 382MB/s]#033[A\u001b[0m\n",
      "\u001b[34mDownloading (…)00001-of-00003.bin\";:  49%|████▉     | 4.90G/10.0G [00:12<00:12, 412MB/s]#033[A\u001b[0m\n",
      "\u001b[34mDownloading (…)00001-of-00003.bin\";:  49%|████▉     | 4.95G/10.0G [00:12<00:11, 431MB/s]#033[A\u001b[0m\n",
      "\u001b[34mDownloading (…)00001-of-00003.bin\";:  50%|█████     | 5.01G/10.0G [00:12<00:10, 456MB/s]#033[A\u001b[0m\n",
      "\u001b[34mDownloading (…)00001-of-00003.bin\";:  51%|█████     | 5.06G/10.0G [00:12<00:11, 449MB/s]#033[A\u001b[0m\n",
      "\u001b[34mDownloading (…)00001-of-00003.bin\";:  51%|█████     | 5.12G/10.0G [00:12<00:10, 463MB/s]#033[A\u001b[0m\n",
      "\u001b[34mDownloading (…)00001-of-00003.bin\";:  52%|█████▏    | 5.17G/10.0G [00:12<00:10, 443MB/s]#033[A\u001b[0m\n",
      "\u001b[34mDownloading (…)00001-of-00003.bin\";:  52%|█████▏    | 5.22G/10.0G [00:13<00:10, 442MB/s]#033[A\u001b[0m\n",
      "\u001b[34mDownloading (…)00001-of-00003.bin\";:  53%|█████▎    | 5.27G/10.0G [00:13<00:14, 338MB/s]#033[A\u001b[0m\n",
      "\u001b[34mDownloading (…)00001-of-00003.bin\";:  53%|█████▎    | 5.32G/10.0G [00:13<00:15, 312MB/s]#033[A\u001b[0m\n",
      "\u001b[34mDownloading (…)00001-of-00003.bin\";:  53%|█████▎    | 5.36G/10.0G [00:13<00:16, 280MB/s]#033[A\u001b[0m\n",
      "\u001b[34mDownloading (…)00001-of-00003.bin\";:  54%|█████▍    | 5.39G/10.0G [00:13<00:17, 265MB/s]\u001b[0m\n",
      "\u001b[34m#033[A\u001b[0m\n",
      "\u001b[34mDownloading (…)00001-of-00003.bin\";:  54%|█████▍    | 5.42G/10.0G [00:13<00:18, 251MB/s]#033[A\u001b[0m\n",
      "\u001b[34mDownloading (…)00001-of-00003.bin\";:  54%|█████▍    | 5.45G/10.0G [00:14<00:18, 243MB/s]#033[A\u001b[0m\n",
      "\u001b[34mDownloading (…)00001-of-00003.bin\";:  55%|█████▍    | 5.48G/10.0G [00:14<00:21, 214MB/s]#033[A\u001b[0m\n",
      "\u001b[34mDownloading (…)00001-of-00003.bin\";:  55%|█████▌    | 5.52G/10.0G [00:14<00:21, 209MB/s]#033[A\u001b[0m\n",
      "\u001b[34mDownloading (…)00001-of-00003.bin\";:  55%|█████▌    | 5.56G/10.0G [00:14<00:18, 239MB/s]#033[A\u001b[0m\n",
      "\u001b[34mDownloading (…)00001-of-00003.bin\";:  56%|█████▌    | 5.59G/10.0G [00:14<00:18, 241MB/s]#033[A\u001b[0m\n",
      "\u001b[34mDownloading (…)00001-of-00003.bin\";:  56%|█████▌    | 5.62G/10.0G [00:14<00:18, 234MB/s]#033[A\u001b[0m\n",
      "\u001b[34mDownloading (…)00001-of-00003.bin\";:  56%|█████▋    | 5.65G/10.0G [00:15<00:19, 230MB/s]#033[A\u001b[0m\n",
      "\u001b[34mDownloading (…)00001-of-00003.bin\";:  57%|█████▋    | 5.68G/10.0G [00:15<00:19, 228MB/s]#033[A\u001b[0m\n",
      "\u001b[34mDownloading (…)00001-of-00003.bin\";:  57%|█████▋    | 5.71G/10.0G [00:15<00:19, 224MB/s]#033[A\u001b[0m\n",
      "\u001b[34mDownloading (…)00001-of-00003.bin\";:  57%|█████▋    | 5.75G/10.0G [00:15<00:26, 163MB/s]#033[A\u001b[0m\n",
      "\u001b[34mDownloading (…)00001-of-00003.bin\";:  58%|█████▊    | 5.78G/10.0G [00:15<00:23, 181MB/s]#033[A\u001b[0m\n",
      "\u001b[34mDownloading (…)00001-of-00003.bin\";:  58%|█████▊    | 5.82G/10.0G [00:15<00:19, 220MB/s]#033[A\u001b[0m\n",
      "\u001b[34mDownloading (…)00001-of-00003.bin\";:  58%|█████▊    | 5.86G/10.0G [00:15<00:16, 246MB/s]#033[A\u001b[0m\n",
      "\u001b[34mDownloading (…)00001-of-00003.bin\";:  59%|█████▉    | 5.90G/10.0G [00:16<00:15, 258MB/s]#033[A\u001b[0m\n",
      "\u001b[34mDownloading (…)00001-of-00003.bin\";:  59%|█████▉    | 5.93G/10.0G [00:16<00:17, 232MB/s]#033[A\u001b[0m\n",
      "\u001b[34mDownloading (…)00001-of-00003.bin\";:  60%|█████▉    | 5.97G/10.0G [00:16<00:19, 211MB/s]#033[A\u001b[0m\n",
      "\u001b[34mDownloading (…)00001-of-00003.bin\";:  60%|█████▉    | 6.00G/10.0G [00:16<00:18, 220MB/s]#033[A\u001b[0m\n",
      "\u001b[34mDownloading (…)00001-of-00003.bin\";:  60%|██████    | 6.03G/10.0G [00:16<00:19, 204MB/s]#033[A\u001b[0m\n",
      "\u001b[34mDownloading (…)00001-of-00003.bin\";:  60%|██████    | 6.06G/10.0G [00:17<00:20, 190MB/s]#033[A\u001b[0m\n",
      "\u001b[34mDownloading (…)00001-of-00003.bin\";:  61%|██████    | 6.08G/10.0G [00:17<00:20, 193MB/s]#033[A\u001b[0m\n",
      "\u001b[34mDownloading (…)00001-of-00003.bin\";:  61%|██████    | 6.11G/10.0G [00:17<00:20, 194MB/s]#033[A\u001b[0m\n",
      "\u001b[34mDownloading (…)00001-of-00003.bin\";:  61%|██████    | 6.13G/10.0G [00:17<00:21, 180MB/s]#033[A\u001b[0m\n",
      "\u001b[34mDownloading (…)00001-of-00003.bin\";:  61%|██████▏   | 6.16G/10.0G [00:17<00:21, 178MB/s]#033[A\u001b[0m\n",
      "\u001b[34mDownloading (…)00001-of-00003.bin\";:  62%|██████▏   | 6.19G/10.0G [00:17<00:20, 191MB/s]#033[A\u001b[0m\n",
      "\u001b[34mDownloading (…)00001-of-00003.bin\";:  62%|██████▏   | 6.21G/10.0G [00:17<00:20, 187MB/s]#033[A\u001b[0m\n",
      "\u001b[34mDownloading (…)00001-of-00003.bin\";:  62%|██████▏   | 6.23G/10.0G [00:17<00:21, 176MB/s]#033[A\u001b[0m\n",
      "\u001b[34mDownloading (…)00001-of-00003.bin\";:  62%|██████▏   | 6.25G/10.0G [00:18<00:22, 170MB/s]#033[A\u001b[0m\n",
      "\u001b[34mDownloading (…)00001-of-00003.bin\";:  63%|██████▎   | 6.28G/10.0G [00:18<00:20, 183MB/s]#033[A\u001b[0m\n",
      "\u001b[34mDownloading (…)00001-of-00003.bin\";:  63%|██████▎   | 6.30G/10.0G [00:18<00:21, 171MB/s]#033[A\u001b[0m\n",
      "\u001b[34mDownloading (…)00001-of-00003.bin\";:  63%|██████▎   | 6.32G/10.0G [00:18<00:22, 164MB/s]#033[A\u001b[0m\n",
      "\u001b[34mDownloading (…)00001-of-00003.bin\";:  63%|██████▎   | 6.34G/10.0G [00:18<00:21, 174MB/s]#033[A\u001b[0m\n",
      "\u001b[34mDownloading (…)00001-of-00003.bin\";:  63%|██████▎   | 6.36G/10.0G [00:18<00:20, 178MB/s]#033[A\u001b[0m\n",
      "\u001b[34mDownloading (…)00001-of-00003.bin\";:  64%|██████▎   | 6.39G/10.0G [00:18<00:21, 167MB/s]#033[A\u001b[0m\n",
      "\u001b[34mDownloading (…)00001-of-00003.bin\";:  64%|██████▍   | 6.41G/10.0G [00:19<00:22, 160MB/s]#033[A\u001b[0m\n",
      "\u001b[34mDownloading (…)00001-of-00003.bin\";:  64%|██████▍   | 6.43G/10.0G [00:19<00:21, 164MB/s]#033[A\u001b[0m\n",
      "\u001b[34mDownloading (…)00001-of-00003.bin\";:  64%|██████▍   | 6.46G/10.0G [00:19<00:20, 177MB/s]#033[A\u001b[0m\n",
      "\u001b[34mDownloading (…)00001-of-00003.bin\";:  65%|██████▍   | 6.48G/10.0G [00:19<00:21, 167MB/s]#033[A\u001b[0m\n",
      "\u001b[34mDownloading (…)00001-of-00003.bin\";:  65%|██████▍   | 6.50G/10.0G [00:19<00:21, 161MB/s]#033[A\u001b[0m\n",
      "\u001b[34mDownloading (…)00001-of-00003.bin\";:  65%|██████▌   | 6.52G/10.0G [00:19<00:20, 170MB/s]#033[A\u001b[0m\n",
      "\u001b[34mDownloading (…)00001-of-00003.bin\";:  65%|██████▌   | 6.54G/10.0G [00:19<00:20, 174MB/s]#033[A\u001b[0m\n",
      "\u001b[34mDownloading (…)00001-of-00003.bin\";:  65%|██████▌   | 6.56G/10.0G [00:19<00:20, 166MB/s]#033[A\u001b[0m\n",
      "\u001b[34mDownloading (…)00001-of-00003.bin\";:  66%|██████▌   | 6.59G/10.0G [00:20<00:21, 159MB/s]#033[A\u001b[0m\n",
      "\u001b[34mDownloading (…)00001-of-00003.bin\";:  66%|██████▌   | 6.61G/10.0G [00:20<00:22, 151MB/s]#033[A\u001b[0m\n",
      "\u001b[34mDownloading (…)00001-of-00003.bin\";:  66%|██████▌   | 6.64G/10.0G [00:20<00:19, 170MB/s]#033[A\u001b[0m\n",
      "\u001b[34mDownloading (…)00001-of-00003.bin\";:  66%|██████▋   | 6.66G/10.0G [00:20<00:20, 165MB/s]#033[A\u001b[0m\n",
      "\u001b[34mDownloading (…)00001-of-00003.bin\";:  67%|██████▋   | 6.68G/10.0G [00:20<00:21, 158MB/s]#033[A\u001b[0m\n",
      "\u001b[34mDownloading (…)00001-of-00003.bin\";:  67%|██████▋   | 6.70G/10.0G [00:20<00:19, 168MB/s]#033[A\u001b[0m\n",
      "\u001b[34mDownloading (…)00001-of-00003.bin\";:  67%|██████▋   | 6.72G/10.0G [00:20<00:20, 161MB/s]\u001b[0m\n",
      "\u001b[34m#033[A\u001b[0m\n",
      "\u001b[34mDownloading (…)00001-of-00003.bin\";:  67%|██████▋   | 6.74G/10.0G [00:21<00:20, 157MB/s]\u001b[0m\n",
      "\u001b[34m#033[A\u001b[0m\n",
      "\u001b[34mDownloading (…)00001-of-00003.bin\";:  67%|██████▋   | 6.76G/10.0G [00:21<00:21, 151MB/s]#033[A\u001b[0m\n",
      "\u001b[34mDownloading (…)00001-of-00003.bin\";:  68%|██████▊   | 6.78G/10.0G [00:21<00:20, 160MB/s]#033[A\u001b[0m\n",
      "\u001b[34mDownloading (…)00001-of-00003.bin\";:  68%|██████▊   | 6.81G/10.0G [00:21<00:19, 164MB/s]#033[A\u001b[0m\n",
      "\u001b[34mDownloading (…)00001-of-00003.bin\";:  68%|██████▊   | 6.83G/10.0G [00:21<00:20, 158MB/s]#033[A\u001b[0m\n",
      "\u001b[34mDownloading (…)00001-of-00003.bin\";:  68%|██████▊   | 6.85G/10.0G [00:21<00:20, 152MB/s]#033[A\u001b[0m\n",
      "\u001b[34mDownloading (…)00001-of-00003.bin\";:  69%|██████▊   | 6.87G/10.0G [00:21<00:20, 158MB/s]#033[A\u001b[0m\n",
      "\u001b[34mDownloading (…)00001-of-00003.bin\";:  69%|██████▊   | 6.89G/10.0G [00:22<00:20, 154MB/s]#033[A\u001b[0m\n",
      "\u001b[34mDownloading (…)00001-of-00003.bin\";:  69%|██████▉   | 6.91G/10.0G [00:22<00:20, 151MB/s]#033[A\u001b[0m\n",
      "\u001b[34mDownloading (…)00001-of-00003.bin\";:  69%|██████▉   | 6.93G/10.0G [00:22<00:20, 152MB/s]#033[A\u001b[0m\n",
      "\u001b[34mDownloading (…)00001-of-00003.bin\";:  69%|██████▉   | 6.95G/10.0G [00:22<00:20, 153MB/s]#033[A\u001b[0m\n",
      "\u001b[34mDownloading (…)00001-of-00003.bin\";:  70%|██████▉   | 6.97G/10.0G [00:22<00:20, 151MB/s]#033[A\u001b[0m\n",
      "\u001b[34mDownloading (…)00001-of-00003.bin\";:  70%|██████▉   | 6.99G/10.0G [00:22<00:19, 157MB/s]#033[A\u001b[0m\n",
      "\u001b[34mDownloading (…)00001-of-00003.bin\";:  70%|██████▉   | 7.01G/10.0G [00:22<00:19, 156MB/s]#033[A\u001b[0m\n",
      "\u001b[34mDownloading (…)00001-of-00003.bin\";:  70%|███████   | 7.04G/10.0G [00:22<00:19, 153MB/s]#033[A\u001b[0m\n",
      "\u001b[34mDownloading (…)00001-of-00003.bin\";:  70%|███████   | 7.06G/10.0G [00:23<00:19, 150MB/s]#033[A\u001b[0m\n",
      "\u001b[34mDownloading (…)00001-of-00003.bin\";:  71%|███████   | 7.08G/10.0G [00:23<00:19, 152MB/s]#033[A\u001b[0m\n",
      "\u001b[34mDownloading (…)00001-of-00003.bin\";:  71%|███████   | 7.10G/10.0G [00:23<00:19, 151MB/s]#033[A\u001b[0m\n",
      "\u001b[34mDownloading (…)00001-of-00003.bin\";:  71%|███████   | 7.12G/10.0G [00:23<00:19, 150MB/s]#033[A\u001b[0m\n",
      "\u001b[34mDownloading (…)00001-of-00003.bin\";:  71%|███████   | 7.14G/10.0G [00:23<00:19, 145MB/s]#033[A\u001b[0m\n",
      "\u001b[34mDownloading (…)00001-of-00003.bin\";:  71%|███████▏  | 7.16G/10.0G [00:23<00:18, 151MB/s]#033[A\u001b[0m\n",
      "\u001b[34mDownloading (…)00001-of-00003.bin\";:  72%|███████▏  | 7.18G/10.0G [00:23<00:18, 151MB/s]#033[A\u001b[0m\n",
      "\u001b[34mDownloading (…)00001-of-00003.bin\";:  72%|███████▏  | 7.20G/10.0G [00:24<00:18, 149MB/s]#033[A\u001b[0m\n",
      "\u001b[34mDownloading (…)00001-of-00003.bin\";:  72%|███████▏  | 7.22G/10.0G [00:24<00:19, 147MB/s]#033[A\u001b[0m\n",
      "\u001b[34mDownloading (…)00001-of-00003.bin\";:  72%|███████▏  | 7.25G/10.0G [00:24<00:18, 150MB/s]#033[A\u001b[0m\n",
      "\u001b[34mDownloading (…)00001-of-00003.bin\";:  72%|███████▏  | 7.27G/10.0G [00:24<00:18, 149MB/s]#033[A\u001b[0m\n",
      "\u001b[34mDownloading (…)00001-of-00003.bin\";:  73%|███████▎  | 7.29G/10.0G [00:24<00:17, 155MB/s]#033[A\u001b[0m\n",
      "\u001b[34mDownloading (…)00001-of-00003.bin\";:  73%|███████▎  | 7.31G/10.0G [00:24<00:17, 152MB/s]#033[A\u001b[0m\n",
      "\u001b[34mDownloading (…)00001-of-00003.bin\";:  73%|███████▎  | 7.33G/10.0G [00:24<00:17, 150MB/s]#033[A\u001b[0m\n",
      "\u001b[34mDownloading (…)00001-of-00003.bin\";:  73%|███████▎  | 7.35G/10.0G [00:25<00:17, 149MB/s]#033[A\u001b[0m\n",
      "\u001b[34mDownloading (…)00001-of-00003.bin\";:  74%|███████▎  | 7.37G/10.0G [00:25<00:17, 148MB/s]#033[A\u001b[0m\n",
      "\u001b[34mDownloading (…)00001-of-00003.bin\";:  74%|███████▎  | 7.39G/10.0G [00:25<00:17, 147MB/s]#033[A\u001b[0m\n",
      "\u001b[34mDownloading (…)00001-of-00003.bin\";:  74%|███████▍  | 7.41G/10.0G [00:25<00:17, 147MB/s]#033[A\u001b[0m\n",
      "\u001b[34mDownloading (…)00001-of-00003.bin\";:  74%|███████▍  | 7.43G/10.0G [00:25<00:23, 108MB/s]#033[A\u001b[0m\n",
      "\u001b[34mDownloading (…)00001-of-00003.bin\";:  75%|███████▍  | 7.49G/10.0G [00:25<00:15, 167MB/s]#033[A\u001b[0m\n",
      "\u001b[34mDownloading (…)00001-of-00003.bin\";:  75%|███████▍  | 7.51G/10.0G [00:26<00:15, 162MB/s]#033[A\u001b[0m\n",
      "\u001b[34mDownloading (…)00001-of-00003.bin\";:  75%|███████▌  | 7.53G/10.0G [00:26<00:15, 157MB/s]#033[A\u001b[0m\n",
      "\u001b[34mDownloading (…)00001-of-00003.bin\";:  75%|███████▌  | 7.55G/10.0G [00:26<00:16, 154MB/s]#033[A\u001b[0m\n",
      "\u001b[34mDownloading (…)00001-of-00003.bin\";:  76%|███████▌  | 7.57G/10.0G [00:26<00:16, 152MB/s]#033[A\u001b[0m\n",
      "\u001b[34mDownloading (…)00001-of-00003.bin\";:  76%|███████▌  | 7.59G/10.0G [00:26<00:16, 150MB/s]#033[A\u001b[0m\n",
      "\u001b[34mDownloading (…)00001-of-00003.bin\";:  76%|███████▌  | 7.61G/10.0G [00:26<00:15, 155MB/s]#033[A\u001b[0m\n",
      "\u001b[34mDownloading (…)00001-of-00003.bin\";:  76%|███████▌  | 7.63G/10.0G [00:26<00:15, 153MB/s]#033[A\u001b[0m\n",
      "\u001b[34mDownloading (…)00001-of-00003.bin\";:  76%|███████▋  | 7.65G/10.0G [00:27<00:15, 151MB/s]#033[A\u001b[0m\n",
      "\u001b[34mDownloading (…)00001-of-00003.bin\";:  77%|███████▋  | 7.68G/10.0G [00:27<00:15, 151MB/s]#033[A\u001b[0m\n",
      "\u001b[34mDownloading (…)00001-of-00003.bin\";:  77%|███████▋  | 7.70G/10.0G [00:27<00:15, 149MB/s]#033[A\u001b[0m\n",
      "\u001b[34mDownloading (…)00001-of-00003.bin\";:  77%|███████▋  | 7.72G/10.0G [00:27<00:15, 148MB/s]#033[A\u001b[0m\n",
      "\u001b[34mDownloading (…)00001-of-00003.bin\";:  77%|███████▋  | 7.74G/10.0G [00:27<00:14, 155MB/s]#033[A\u001b[0m\n",
      "\u001b[34mDownloading (…)00001-of-00003.bin\";:  77%|███████▋  | 7.76G/10.0G [00:27<00:14, 152MB/s]#033[A\u001b[0m\n",
      "\u001b[34mDownloading (…)00001-of-00003.bin\";:  78%|███████▊  | 7.78G/10.0G [00:27<00:14, 151MB/s]#033[A\u001b[0m\n",
      "\u001b[34mDownloading (…)00001-of-00003.bin\";:  78%|███████▊  | 7.80G/10.0G [00:28<00:15, 147MB/s]#033[A\u001b[0m\n",
      "\u001b[34mDownloading (…)00001-of-00003.bin\";:  78%|███████▊  | 7.82G/10.0G [00:28<00:14, 149MB/s]#033[A\u001b[0m\n",
      "\u001b[34mDownloading (…)00001-of-00003.bin\";:  78%|███████▊  | 7.84G/10.0G [00:28<00:14, 149MB/s]#033[A\u001b[0m\n",
      "\u001b[34mDownloading (…)00001-of-00003.bin\";:  78%|███████▊  | 7.86G/10.0G [00:28<00:14, 148MB/s]#033[A\u001b[0m\n",
      "\u001b[34mDownloading (…)00001-of-00003.bin\";:  79%|███████▊  | 7.89G/10.0G [00:28<00:13, 155MB/s]#033[A\u001b[0m\n",
      "\u001b[34mDownloading (…)00001-of-00003.bin\";:  79%|███████▉  | 7.91G/10.0G [00:28<00:13, 152MB/s]#033[A\u001b[0m\n",
      "\u001b[34mDownloading (…)00001-of-00003.bin\";:  79%|███████▉  | 7.93G/10.0G [00:28<00:13, 151MB/s]#033[A\u001b[0m\n",
      "\u001b[34mDownloading (…)00001-of-00003.bin\";:  79%|███████▉  | 7.95G/10.0G [00:29<00:13, 149MB/s]#033[A\u001b[0m\n",
      "\u001b[34mDownloading (…)00001-of-00003.bin\";:  79%|███████▉  | 7.97G/10.0G [00:29<00:13, 148MB/s]#033[A\u001b[0m\n",
      "\u001b[34mDownloading (…)00001-of-00003.bin\";:  80%|███████▉  | 7.99G/10.0G [00:29<00:13, 148MB/s]#033[A\u001b[0m\n",
      "\u001b[34mDownloading (…)00001-of-00003.bin\";:  80%|███████▉  | 8.01G/10.0G [00:29<00:13, 155MB/s]#033[A\u001b[0m\n",
      "\u001b[34mDownloading (…)00001-of-00003.bin\";:  80%|████████  | 8.03G/10.0G [00:29<00:13, 152MB/s]#033[A\u001b[0m\n",
      "\u001b[34mDownloading (…)00001-of-00003.bin\";:  80%|████████  | 8.05G/10.0G [00:29<00:13, 150MB/s]#033[A\u001b[0m\n",
      "\u001b[34mDownloading (…)00001-of-00003.bin\";:  81%|████████  | 8.07G/10.0G [00:29<00:13, 149MB/s]#033[A\u001b[0m\n",
      "\u001b[34mDownloading (…)00001-of-00003.bin\";:  81%|████████  | 8.10G/10.0G [00:30<00:13, 148MB/s]#033[A\u001b[0m\n",
      "\u001b[34mDownloading (…)00001-of-00003.bin\";:  81%|████████  | 8.12G/10.0G [00:30<00:12, 153MB/s]#033[A\u001b[0m\n",
      "\u001b[34mDownloading (…)00001-of-00003.bin\";:  81%|████████  | 8.14G/10.0G [00:30<00:12, 151MB/s]#033[A\u001b[0m\n",
      "\u001b[34mDownloading (…)00001-of-00003.bin\";:  81%|████████▏ | 8.16G/10.0G [00:30<00:12, 149MB/s]#033[A\u001b[0m\n",
      "\u001b[34mDownloading (…)00001-of-00003.bin\";:  82%|████████▏ | 8.18G/10.0G [00:30<00:12, 149MB/s]#033[A\u001b[0m\n",
      "\u001b[34mDownloading (…)00001-of-00003.bin\";:  82%|████████▏ | 8.20G/10.0G [00:30<00:12, 147MB/s]#033[A\u001b[0m\n",
      "\u001b[34mDownloading (…)00001-of-00003.bin\";:  82%|████████▏ | 8.22G/10.0G [00:30<00:12, 148MB/s]#033[A\u001b[0m\n",
      "\u001b[34mDownloading (…)00001-of-00003.bin\";:  82%|████████▏ | 8.24G/10.0G [00:30<00:11, 155MB/s]#033[A\u001b[0m\n",
      "\u001b[34mDownloading (…)00001-of-00003.bin\";:  82%|████████▏ | 8.26G/10.0G [00:31<00:11, 152MB/s]#033[A\u001b[0m\n",
      "\u001b[34mDownloading (…)00001-of-00003.bin\";:  83%|████████▎ | 8.28G/10.0G [00:31<00:11, 148MB/s]#033[A\u001b[0m\n",
      "\u001b[34mDownloading (…)00001-of-00003.bin\";:  83%|████████▎ | 8.30G/10.0G [00:31<00:11, 149MB/s]#033[A\u001b[0m\n",
      "\u001b[34mDownloading (…)00001-of-00003.bin\";:  83%|████████▎ | 8.33G/10.0G [00:31<00:11, 148MB/s]#033[A\u001b[0m\n",
      "\u001b[34mDownloading (…)00001-of-00003.bin\";:  83%|████████▎ | 8.35G/10.0G [00:31<00:10, 155MB/s]#033[A\u001b[0m\n",
      "\u001b[34mDownloading (…)00001-of-00003.bin\";:  83%|████████▎ | 8.37G/10.0G [00:31<00:10, 152MB/s]#033[A\u001b[0m\n",
      "\u001b[34mDownloading (…)00001-of-00003.bin\";:  84%|████████▎ | 8.39G/10.0G [00:31<00:10, 150MB/s]#033[A\u001b[0m\n",
      "\u001b[34mDownloading (…)00001-of-00003.bin\";:  84%|████████▍ | 8.41G/10.0G [00:32<00:10, 148MB/s]#033[A\u001b[0m\n",
      "\u001b[34mDownloading (…)00001-of-00003.bin\";:  84%|████████▍ | 8.43G/10.0G [00:32<00:10, 149MB/s]#033[A\u001b[0m\n",
      "\u001b[34mDownloading (…)00001-of-00003.bin\";:  84%|████████▍ | 8.45G/10.0G [00:32<00:10, 148MB/s]#033[A\u001b[0m\n",
      "\u001b[34mDownloading (…)00001-of-00003.bin\";:  85%|████████▍ | 8.47G/10.0G [00:32<00:10, 155MB/s]#033[A\u001b[0m\n",
      "\u001b[34mDownloading (…)00001-of-00003.bin\";:  85%|████████▍ | 8.49G/10.0G [00:32<00:10, 152MB/s]#033[A\u001b[0m\n",
      "\u001b[34mDownloading (…)00001-of-00003.bin\";:  85%|████████▍ | 8.51G/10.0G [00:32<00:10, 148MB/s]#033[A\u001b[0m\n",
      "\u001b[34mDownloading (…)00001-of-00003.bin\";:  85%|████████▌ | 8.54G/10.0G [00:32<00:10, 146MB/s]#033[A\u001b[0m\n",
      "\u001b[34mDownloading (…)00001-of-00003.bin\";:  85%|████████▌ | 8.56G/10.0G [00:33<00:09, 152MB/s]#033[A\u001b[0m\n",
      "\u001b[34mDownloading (…)00001-of-00003.bin\";:  86%|████████▌ | 8.58G/10.0G [00:33<00:09, 151MB/s]#033[A\u001b[0m\n",
      "\u001b[34mDownloading (…)00001-of-00003.bin\";:  86%|████████▌ | 8.60G/10.0G [00:33<00:09, 150MB/s]#033[A\u001b[0m\n",
      "\u001b[34mDownloading (…)00001-of-00003.bin\";:  86%|████████▌ | 8.63G/10.0G [00:33<00:08, 161MB/s]#033[A\u001b[0m\n",
      "\u001b[34mDownloading (…)00001-of-00003.bin\";:  86%|████████▋ | 8.66G/10.0G [00:33<00:07, 186MB/s]\u001b[0m\n",
      "\u001b[34m#033[A\u001b[0m\n",
      "\u001b[34mDownloading (…)00001-of-00003.bin\";:  87%|████████▋ | 8.69G/10.0G [00:33<00:06, 198MB/s]#033[A\u001b[0m\n",
      "\u001b[34mDownloading (…)00001-of-00003.bin\";:  87%|████████▋ | 8.72G/10.0G [00:33<00:06, 209MB/s]#033[A\u001b[0m\n",
      "\u001b[34mDownloading (…)00001-of-00003.bin\";:  87%|████████▋ | 8.76G/10.0G [00:34<00:06, 200MB/s]#033[A\u001b[0m\n",
      "\u001b[34mDownloading (…)00001-of-00003.bin\";:  88%|████████▊ | 8.79G/10.0G [00:34<00:05, 222MB/s]#033[A\u001b[0m\n",
      "\u001b[34mDownloading (…)00001-of-00003.bin\";:  88%|████████▊ | 8.82G/10.0G [00:34<00:05, 223MB/s]#033[A\u001b[0m\n",
      "\u001b[34mDownloading (…)00001-of-00003.bin\";:  88%|████████▊ | 8.85G/10.0G [00:34<00:05, 222MB/s]#033[A\u001b[0m\n",
      "\u001b[34mDownloading (…)00001-of-00003.bin\";:  89%|████████▊ | 8.88G/10.0G [00:34<00:05, 226MB/s]#033[A\u001b[0m\n",
      "\u001b[34mDownloading (…)00001-of-00003.bin\";:  89%|████████▉ | 8.91G/10.0G [00:34<00:05, 222MB/s]#033[A\u001b[0m\n",
      "\u001b[34mDownloading (…)00001-of-00003.bin\";:  89%|████████▉ | 8.94G/10.0G [00:34<00:05, 207MB/s]#033[A\u001b[0m\n",
      "\u001b[34mDownloading (…)00001-of-00003.bin\";:  90%|████████▉ | 8.98G/10.0G [00:35<00:04, 213MB/s]#033[A\u001b[0m\n",
      "\u001b[34mDownloading (…)00001-of-00003.bin\";:  90%|████████▉ | 9.01G/10.0G [00:35<00:05, 198MB/s]#033[A\u001b[0m\n",
      "\u001b[34mDownloading (…)00001-of-00003.bin\";:  90%|█████████ | 9.03G/10.0G [00:35<00:05, 175MB/s]#033[A\u001b[0m\n",
      "\u001b[34mDownloading (…)00001-of-00003.bin\";:  90%|█████████ | 9.06G/10.0G [00:35<00:05, 187MB/s]#033[A\u001b[0m\n",
      "\u001b[34mDownloading (…)00001-of-00003.bin\";:  91%|█████████ | 9.08G/10.0G [00:35<00:05, 170MB/s]#033[A\u001b[0m\n",
      "\u001b[34mDownloading (…)00001-of-00003.bin\";:  91%|█████████ | 9.10G/10.0G [00:35<00:06, 153MB/s]#033[A\u001b[0m\n",
      "\u001b[34mDownloading (…)00001-of-00003.bin\";:  91%|█████████ | 9.13G/10.0G [00:36<00:05, 168MB/s]#033[A\u001b[0m\n",
      "\u001b[34mDownloading (…)00001-of-00003.bin\";:  91%|█████████▏| 9.15G/10.0G [00:36<00:05, 152MB/s]#033[A\u001b[0m\n",
      "\u001b[34mDownloading (…)00001-of-00003.bin\";:  92%|█████████▏| 9.18G/10.0G [00:36<00:05, 143MB/s]#033[A\u001b[0m\n",
      "\u001b[34mDownloading (…)00001-of-00003.bin\";:  92%|█████████▏| 9.21G/10.0G [00:36<00:05, 152MB/s]#033[A\u001b[0m\n",
      "\u001b[34mDownloading (…)00001-of-00003.bin\";:  92%|█████████▏| 9.23G/10.0G [00:36<00:05, 138MB/s]#033[A\u001b[0m\n",
      "\u001b[34mDownloading (…)00001-of-00003.bin\";:  92%|█████████▏| 9.25G/10.0G [00:36<00:05, 139MB/s]#033[A\u001b[0m\n",
      "\u001b[34mDownloading (…)00001-of-00003.bin\";:  92%|█████████▏| 9.27G/10.0G [00:37<00:04, 153MB/s]#033[A\u001b[0m\n",
      "\u001b[34mDownloading (…)00001-of-00003.bin\";:  93%|█████████▎| 9.29G/10.0G [00:37<00:05, 138MB/s]#033[A\u001b[0m\n",
      "\u001b[34mDownloading (…)00001-of-00003.bin\";:  93%|█████████▎| 9.31G/10.0G [00:37<00:05, 132MB/s]#033[A\u001b[0m\n",
      "\u001b[34mDownloading (…)00001-of-00003.bin\";:  93%|█████████▎| 9.33G/10.0G [00:37<00:04, 147MB/s]#033[A\u001b[0m\n",
      "\u001b[34mDownloading (…)00001-of-00003.bin\";:  93%|█████████▎| 9.35G/10.0G [00:37<00:04, 138MB/s]#033[A\u001b[0m\n",
      "\u001b[34mDownloading (…)00001-of-00003.bin\";:  94%|█████████▎| 9.37G/10.0G [00:37<00:05, 128MB/s]#033[A\u001b[0m\n",
      "\u001b[34mDownloading (…)00001-of-00003.bin\";:  94%|█████████▎| 9.40G/10.0G [00:38<00:04, 144MB/s]#033[A\u001b[0m\n",
      "\u001b[34mDownloading (…)00001-of-00003.bin\";:  94%|█████████▍| 9.42G/10.0G [00:38<00:04, 141MB/s]#033[A\u001b[0m\n",
      "\u001b[34mDownloading (…)00001-of-00003.bin\";:  94%|█████████▍| 9.44G/10.0G [00:38<00:04, 129MB/s]#033[A\u001b[0m\n",
      "\u001b[34mDownloading (…)00001-of-00003.bin\";:  94%|█████████▍| 9.46G/10.0G [00:38<00:04, 138MB/s]#033[A\u001b[0m\n",
      "\u001b[34mDownloading (…)00001-of-00003.bin\";:  95%|█████████▍| 9.48G/10.0G [00:38<00:03, 138MB/s]#033[A\u001b[0m\n",
      "\u001b[34mDownloading (…)00001-of-00003.bin\";:  95%|█████████▍| 9.50G/10.0G [00:38<00:04, 130MB/s]#033[A\u001b[0m\n",
      "\u001b[34mDownloading (…)00001-of-00003.bin\";:  95%|█████████▍| 9.52G/10.0G [00:38<00:03, 130MB/s]#033[A\u001b[0m\n",
      "\u001b[34mDownloading (…)00001-of-00003.bin\";:  95%|█████████▌| 9.54G/10.0G [00:39<00:03, 139MB/s]#033[A\u001b[0m\n",
      "\u001b[34mDownloading (…)00001-of-00003.bin\";:  95%|█████████▌| 9.56G/10.0G [00:39<00:03, 133MB/s]#033[A\u001b[0m\n",
      "\u001b[34mDownloading (…)00001-of-00003.bin\";:  96%|█████████▌| 9.58G/10.0G [00:39<00:03, 129MB/s]#033[A\u001b[0m\n",
      "\u001b[34mDownloading (…)00001-of-00003.bin\";:  96%|█████████▌| 9.60G/10.0G [00:39<00:02, 141MB/s]#033[A\u001b[0m\n",
      "\u001b[34mDownloading (…)00001-of-00003.bin\";:  96%|█████████▌| 9.63G/10.0G [00:39<00:03, 132MB/s]#033[A\u001b[0m\n",
      "\u001b[34mDownloading (…)00001-of-00003.bin\";:  96%|█████████▌| 9.65G/10.0G [00:39<00:02, 128MB/s]#033[A\u001b[0m\n",
      "\u001b[34mDownloading (…)00001-of-00003.bin\";:  97%|█████████▋| 9.68G/10.0G [00:40<00:02, 142MB/s]#033[A\u001b[0m\n",
      "\u001b[34mDownloading (…)00001-of-00003.bin\";:  97%|█████████▋| 9.70G/10.0G [00:40<00:02, 132MB/s]#033[A\u001b[0m\n",
      "\u001b[34mDownloading (…)00001-of-00003.bin\";:  97%|█████████▋| 9.72G/10.0G [00:40<00:02, 133MB/s]#033[A\u001b[0m\n",
      "\u001b[34mDownloading (…)00001-of-00003.bin\";:  97%|█████████▋| 9.74G/10.0G [00:40<00:01, 144MB/s]#033[A\u001b[0m\n",
      "\u001b[34mDownloading (…)00001-of-00003.bin\";:  97%|█████████▋| 9.76G/10.0G [00:40<00:01, 136MB/s]#033[A\u001b[0m\n",
      "\u001b[34mDownloading (…)00001-of-00003.bin\";:  98%|█████████▊| 9.78G/10.0G [00:40<00:01, 128MB/s]#033[A\u001b[0m\n",
      "\u001b[34mDownloading (…)00001-of-00003.bin\";:  98%|█████████▊| 9.80G/10.0G [00:41<00:01, 144MB/s]#033[A\u001b[0m\n",
      "\u001b[34mDownloading (…)00001-of-00003.bin\";:  98%|█████████▊| 9.83G/10.0G [00:41<00:01, 135MB/s]#033[A\u001b[0m\n",
      "\u001b[34mDownloading (…)00001-of-00003.bin\";:  98%|█████████▊| 9.85G/10.0G [00:41<00:01, 125MB/s]#033[A\u001b[0m\n",
      "\u001b[34mDownloading (…)00001-of-00003.bin\";:  99%|█████████▊| 9.88G/10.0G [00:41<00:01, 146MB/s]#033[A\u001b[0m\n",
      "\u001b[34mDownloading (…)00001-of-00003.bin\";:  99%|█████████▊| 9.90G/10.0G [00:41<00:00, 134MB/s]#033[A\u001b[0m\n",
      "\u001b[34mDownloading (…)00001-of-00003.bin\";:  99%|█████████▉| 9.92G/10.0G [00:41<00:00, 130MB/s]#033[A\u001b[0m\n",
      "\u001b[34mDownloading (…)00001-of-00003.bin\";:  99%|█████████▉| 9.94G/10.0G [00:42<00:00, 144MB/s]#033[A\u001b[0m\n",
      "\u001b[34mDownloading (…)00001-of-00003.bin\";:  99%|█████████▉| 9.96G/10.0G [00:42<00:00, 131MB/s]#033[A\u001b[0m\n",
      "\u001b[34mDownloading (…)00001-of-00003.bin\";: 100%|█████████▉| 9.98G/10.0G [00:42<00:00, 126MB/s]#033[A\u001b[0m\n",
      "\u001b[34mDownloading (…)00001-of-00003.bin\";: 100%|█████████▉| 10.0G/10.0G [00:42<00:00, 140MB/s]#033[A\u001b[0m\n",
      "\u001b[34mDownloading (…)00001-of-00003.bin\";: 100%|██████████| 10.0G/10.0G [00:42<00:00, 234MB/s]\u001b[0m\n",
      "\u001b[34mDownloading shards:  33%|███▎      | 1/3 [00:42<01:25, 42.87s/it]\u001b[0m\n",
      "\u001b[34mDownloading (…)00002-of-00003.bin\";:   0%|          | 0.00/9.93G [00:00<?, ?B/s]#033[A\u001b[0m\n",
      "\u001b[34mDownloading (…)00002-of-00003.bin\";:   0%|          | 41.9M/9.93G [00:00<00:28, 342MB/s]#033[A\u001b[0m\n",
      "\u001b[34mDownloading (…)00002-of-00003.bin\";:   1%|          | 83.9M/9.93G [00:00<00:52, 188MB/s]#033[A\u001b[0m\n",
      "\u001b[34mDownloading (…)00002-of-00003.bin\";:   1%|          | 115M/9.93G [00:00<00:58, 167MB/s] #033[A\u001b[0m\n",
      "\u001b[34mDownloading (…)00002-of-00003.bin\";:   1%|▏         | 136M/9.93G [00:00<01:05, 150MB/s]#033[A\u001b[0m\n",
      "\u001b[34mDownloading (…)00002-of-00003.bin\";:   2%|▏         | 157M/9.93G [00:01<01:11, 136MB/s]#033[A\u001b[0m\n",
      "\u001b[34mDownloading (…)00002-of-00003.bin\";:   2%|▏         | 178M/9.93G [00:01<01:07, 144MB/s]#033[A\u001b[0m\n",
      "\u001b[34mDownloading (…)00002-of-00003.bin\";:   2%|▏         | 199M/9.93G [00:01<01:11, 137MB/s]#033[A\u001b[0m\n",
      "\u001b[34mDownloading (…)00002-of-00003.bin\";:   2%|▏         | 220M/9.93G [00:01<01:16, 126MB/s]#033[A\u001b[0m\n",
      "\u001b[34mDownloading (…)00002-of-00003.bin\";:   2%|▏         | 241M/9.93G [00:01<01:10, 138MB/s]#033[A\u001b[0m\n",
      "\u001b[34mDownloading (…)00002-of-00003.bin\";:   3%|▎         | 262M/9.93G [00:01<01:10, 137MB/s]#033[A\u001b[0m\n",
      "\u001b[34mDownloading (…)00002-of-00003.bin\";:   3%|▎         | 283M/9.93G [00:01<01:15, 127MB/s]#033[A\u001b[0m\n",
      "\u001b[34mDownloading (…)00002-of-00003.bin\";:   3%|▎         | 304M/9.93G [00:02<01:11, 134MB/s]#033[A\u001b[0m\n",
      "\u001b[34mDownloading (…)00002-of-00003.bin\";:   3%|▎         | 325M/9.93G [00:02<01:09, 139MB/s]#033[A\u001b[0m\n",
      "\u001b[34mDownloading (…)00002-of-00003.bin\";:   3%|▎         | 346M/9.93G [00:02<01:14, 128MB/s]#033[A\u001b[0m\n",
      "\u001b[34mDownloading (…)00002-of-00003.bin\";:   4%|▎         | 367M/9.93G [00:02<01:16, 125MB/s]#033[A\u001b[0m\n",
      "\u001b[34mDownloading (…)00002-of-00003.bin\";:   4%|▍         | 388M/9.93G [00:02<01:09, 138MB/s]#033[A\u001b[0m\n",
      "\u001b[34mDownloading (…)00002-of-00003.bin\";:   4%|▍         | 409M/9.93G [00:02<01:14, 128MB/s]#033[A\u001b[0m\n",
      "\u001b[34mDownloading (…)00002-of-00003.bin\";:   4%|▍         | 430M/9.93G [00:03<01:14, 127MB/s]#033[A\u001b[0m\n",
      "\u001b[34mDownloading (…)00002-of-00003.bin\";:   5%|▍         | 451M/9.93G [00:03<01:06, 142MB/s]#033[A\u001b[0m\n",
      "\u001b[34mDownloading (…)00002-of-00003.bin\";:   5%|▍         | 472M/9.93G [00:03<01:10, 135MB/s]\u001b[0m\n",
      "\u001b[34m#033[A\u001b[0m\n",
      "\u001b[34mDownloading (…)00002-of-00003.bin\";:   5%|▍         | 493M/9.93G [00:03<01:14, 126MB/s]#033[A\u001b[0m\n",
      "\u001b[34mDownloading (…)00002-of-00003.bin\";:   5%|▌         | 524M/9.93G [00:03<01:06, 141MB/s]#033[A\u001b[0m\n",
      "\u001b[34mDownloading (…)00002-of-00003.bin\";:   5%|▌         | 545M/9.93G [00:03<01:09, 134MB/s]#033[A\u001b[0m\n",
      "\u001b[34mDownloading (…)00002-of-00003.bin\";:   6%|▌         | 566M/9.93G [00:04<01:10, 133MB/s]#033[A\u001b[0m\n",
      "\u001b[34mDownloading (…)00002-of-00003.bin\";:   6%|▌         | 587M/9.93G [00:04<01:04, 145MB/s]#033[A\u001b[0m\n",
      "\u001b[34mDownloading (…)00002-of-00003.bin\";:   6%|▌         | 608M/9.93G [00:04<01:10, 133MB/s]#033[A\u001b[0m\n",
      "\u001b[34mDownloading (…)00002-of-00003.bin\";:   6%|▋         | 629M/9.93G [00:04<01:12, 128MB/s]#033[A\u001b[0m\n",
      "\u001b[34mDownloading (…)00002-of-00003.bin\";:   7%|▋         | 661M/9.93G [00:04<01:06, 140MB/s]#033[A\u001b[0m\n",
      "\u001b[34mDownloading (…)00002-of-00003.bin\";:   7%|▋         | 682M/9.93G [00:04<01:11, 130MB/s]#033[A\u001b[0m\n",
      "\u001b[34mDownloading (…)00002-of-00003.bin\";:   7%|▋         | 703M/9.93G [00:05<01:07, 136MB/s]#033[A\u001b[0m\n",
      "\u001b[34mDownloading (…)00002-of-00003.bin\";:   7%|▋         | 724M/9.93G [00:05<01:04, 142MB/s]#033[A\u001b[0m\n",
      "\u001b[34mDownloading (…)00002-of-00003.bin\";:   8%|▊         | 744M/9.93G [00:05<01:08, 135MB/s]#033[A\u001b[0m\n",
      "\u001b[34mDownloading (…)00002-of-00003.bin\";:   8%|▊         | 765M/9.93G [00:05<01:11, 128MB/s]#033[A\u001b[0m\n",
      "\u001b[34mDownloading (…)00002-of-00003.bin\";:   8%|▊         | 786M/9.93G [00:05<01:04, 141MB/s]#033[A\u001b[0m\n",
      "\u001b[34mDownloading (…)00002-of-00003.bin\";:   8%|▊         | 807M/9.93G [00:05<01:08, 133MB/s]#033[A\u001b[0m\n",
      "\u001b[34mDownloading (…)00002-of-00003.bin\";:   8%|▊         | 828M/9.93G [00:06<01:13, 124MB/s]#033[A\u001b[0m\n",
      "\u001b[34mDownloading (…)00002-of-00003.bin\";:   9%|▊         | 860M/9.93G [00:06<01:04, 141MB/s]#033[A\u001b[0m\n",
      "\u001b[34mDownloading (…)00002-of-00003.bin\";:   9%|▉         | 881M/9.93G [00:06<01:07, 134MB/s]#033[A\u001b[0m\n",
      "\u001b[34mDownloading (…)00002-of-00003.bin\";:   9%|▉         | 902M/9.93G [00:06<01:09, 130MB/s]#033[A\u001b[0m\n",
      "\u001b[34mDownloading (…)00002-of-00003.bin\";:   9%|▉         | 923M/9.93G [00:06<01:04, 139MB/s]#033[A\u001b[0m\n",
      "\u001b[34mDownloading (…)00002-of-00003.bin\";:  10%|▉         | 944M/9.93G [00:06<01:07, 133MB/s]#033[A\u001b[0m\n",
      "\u001b[34mDownloading (…)00002-of-00003.bin\";:  10%|▉         | 965M/9.93G [00:07<01:09, 128MB/s]#033[A\u001b[0m\n",
      "\u001b[34mDownloading (…)00002-of-00003.bin\";:  10%|▉         | 986M/9.93G [00:07<01:02, 143MB/s]#033[A\u001b[0m\n",
      "\u001b[34mDownloading (…)00002-of-00003.bin\";:  10%|█         | 1.01G/9.93G [00:07<01:07, 132MB/s]#033[A\u001b[0m\n",
      "\u001b[34mDownloading (…)00002-of-00003.bin\";:  10%|█         | 1.03G/9.93G [00:07<01:10, 126MB/s]#033[A\u001b[0m\n",
      "\u001b[34mDownloading (…)00002-of-00003.bin\";:  11%|█         | 1.06G/9.93G [00:07<01:03, 140MB/s]#033[A\u001b[0m\n",
      "\u001b[34mDownloading (…)00002-of-00003.bin\";:  11%|█         | 1.08G/9.93G [00:07<01:06, 134MB/s]#033[A\u001b[0m\n",
      "\u001b[34mDownloading (…)00002-of-00003.bin\";:  11%|█         | 1.10G/9.93G [00:08<01:10, 125MB/s]#033[A\u001b[0m\n",
      "\u001b[34mDownloading (…)00002-of-00003.bin\";:  11%|█▏        | 1.12G/9.93G [00:08<01:15, 117MB/s]#033[A\u001b[0m\n",
      "\u001b[34mDownloading (…)00002-of-00003.bin\";:  12%|█▏        | 1.14G/9.93G [00:08<01:25, 103MB/s]#033[A\u001b[0m\n",
      "\u001b[34mDownloading (…)00002-of-00003.bin\";:  12%|█▏        | 1.16G/9.93G [00:08<01:23, 104MB/s]#033[A\u001b[0m\n",
      "\u001b[34mDownloading (…)00002-of-00003.bin\";:  12%|█▏        | 1.18G/9.93G [00:08<01:23, 104MB/s]#033[A\u001b[0m\n",
      "\u001b[34mDownloading (…)00002-of-00003.bin\";:  12%|█▏        | 1.21G/9.93G [00:09<01:26, 101MB/s]#033[A\u001b[0m\n",
      "\u001b[34mDownloading (…)00002-of-00003.bin\";:  12%|█▏        | 1.23G/9.93G [00:09<01:22, 106MB/s]#033[A\u001b[0m\n",
      "\u001b[34mDownloading (…)00002-of-00003.bin\";:  13%|█▎        | 1.25G/9.93G [00:09<01:21, 107MB/s]#033[A\u001b[0m\n",
      "\u001b[34mDownloading (…)00002-of-00003.bin\";:  13%|█▎        | 1.27G/9.93G [00:09<01:20, 107MB/s]#033[A\u001b[0m\n",
      "\u001b[34mDownloading (…)00002-of-00003.bin\";:  13%|█▎        | 1.29G/9.93G [00:09<01:18, 110MB/s]#033[A\u001b[0m\n",
      "\u001b[34mDownloading (…)00002-of-00003.bin\";:  13%|█▎        | 1.31G/9.93G [00:10<01:39, 86.7MB/s]#033[A\u001b[0m\n",
      "\u001b[34mDownloading (…)00002-of-00003.bin\";:  14%|█▎        | 1.34G/9.93G [00:10<01:12, 119MB/s] #033[A\u001b[0m\n",
      "\u001b[34mDownloading (…)00002-of-00003.bin\";:  14%|█▎        | 1.36G/9.93G [00:10<01:13, 117MB/s]#033[A\u001b[0m\n",
      "\u001b[34mDownloading (…)00002-of-00003.bin\";:  14%|█▍        | 1.38G/9.93G [00:10<01:12, 117MB/s]#033[A\u001b[0m\n",
      "\u001b[34mDownloading (…)00002-of-00003.bin\";:  14%|█▍        | 1.41G/9.93G [00:10<01:14, 115MB/s]#033[A\u001b[0m\n",
      "\u001b[34mDownloading (…)00002-of-00003.bin\";:  14%|█▍        | 1.43G/9.93G [00:11<01:15, 113MB/s]#033[A\u001b[0m\n",
      "\u001b[34mDownloading (…)00002-of-00003.bin\";:  15%|█▍        | 1.45G/9.93G [00:11<01:13, 115MB/s]#033[A\u001b[0m\n",
      "\u001b[34mDownloading (…)00002-of-00003.bin\";:  15%|█▍        | 1.47G/9.93G [00:11<01:14, 113MB/s]#033[A\u001b[0m\n",
      "\u001b[34mDownloading (…)00002-of-00003.bin\";:  15%|█▌        | 1.49G/9.93G [00:11<01:15, 112MB/s]#033[A\u001b[0m\n",
      "\u001b[34mDownloading (…)00002-of-00003.bin\";:  15%|█▌        | 1.51G/9.93G [00:11<01:13, 114MB/s]#033[A\u001b[0m\n",
      "\u001b[34mDownloading (…)00002-of-00003.bin\";:  15%|█▌        | 1.53G/9.93G [00:12<01:14, 113MB/s]#033[A\u001b[0m\n",
      "\u001b[34mDownloading (…)00002-of-00003.bin\";:  16%|█▌        | 1.55G/9.93G [00:12<01:15, 112MB/s]#033[A\u001b[0m\n",
      "\u001b[34mDownloading (…)00002-of-00003.bin\";:  16%|█▌        | 1.57G/9.93G [00:12<01:15, 111MB/s]#033[A\u001b[0m\n",
      "\u001b[34mDownloading (…)00002-of-00003.bin\";:  16%|█▌        | 1.59G/9.93G [00:12<01:13, 113MB/s]#033[A\u001b[0m\n",
      "\u001b[34mDownloading (…)00002-of-00003.bin\";:  16%|█▋        | 1.61G/9.93G [00:12<01:14, 112MB/s]#033[A\u001b[0m\n",
      "\u001b[34mDownloading (…)00002-of-00003.bin\";:  16%|█▋        | 1.64G/9.93G [00:13<01:14, 111MB/s]#033[A\u001b[0m\n",
      "\u001b[34mDownloading (…)00002-of-00003.bin\";:  17%|█▋        | 1.66G/9.93G [00:13<01:12, 113MB/s]#033[A\u001b[0m\n",
      "\u001b[34mDownloading (…)00002-of-00003.bin\";:  17%|█▋        | 1.68G/9.93G [00:13<01:13, 112MB/s]#033[A\u001b[0m\n",
      "\u001b[34mDownloading (…)00002-of-00003.bin\";:  17%|█▋        | 1.70G/9.93G [00:13<01:11, 114MB/s]#033[A\u001b[0m\n",
      "\u001b[34mDownloading (…)00002-of-00003.bin\";:  17%|█▋        | 1.72G/9.93G [00:13<01:04, 126MB/s]#033[A\u001b[0m\n",
      "\u001b[34mDownloading (…)00002-of-00003.bin\";:  18%|█▊        | 1.74G/9.93G [00:13<01:07, 120MB/s]#033[A\u001b[0m\n",
      "\u001b[34mDownloading (…)00002-of-00003.bin\";:  18%|█▊        | 1.76G/9.93G [00:14<01:08, 120MB/s]#033[A\u001b[0m\n",
      "\u001b[34mDownloading (…)00002-of-00003.bin\";:  18%|█▊        | 1.79G/9.93G [00:14<00:55, 146MB/s]#033[A\u001b[0m\n",
      "\u001b[34mDownloading (…)00002-of-00003.bin\";:  18%|█▊        | 1.81G/9.93G [00:14<01:00, 135MB/s]#033[A\u001b[0m\n",
      "\u001b[34mDownloading (…)00002-of-00003.bin\";:  18%|█▊        | 1.84G/9.93G [00:14<01:01, 131MB/s]#033[A\u001b[0m\n",
      "\u001b[34mDownloading (…)00002-of-00003.bin\";:  19%|█▉        | 1.87G/9.93G [00:14<00:52, 153MB/s]#033[A\u001b[0m\n",
      "\u001b[34mDownloading (…)00002-of-00003.bin\";:  19%|█▉        | 1.89G/9.93G [00:14<00:55, 146MB/s]#033[A\u001b[0m\n",
      "\u001b[34mDownloading (…)00002-of-00003.bin\";:  19%|█▉        | 1.91G/9.93G [00:15<00:59, 135MB/s]#033[A\u001b[0m\n",
      "\u001b[34mDownloading (…)00002-of-00003.bin\";:  20%|█▉        | 1.94G/9.93G [00:15<00:50, 158MB/s]#033[A\u001b[0m\n",
      "\u001b[34mDownloading (…)00002-of-00003.bin\";:  20%|█▉        | 1.96G/9.93G [00:15<00:51, 154MB/s]#033[A\u001b[0m\n",
      "\u001b[34mDownloading (…)00002-of-00003.bin\";:  20%|█▉        | 1.98G/9.93G [00:15<00:57, 139MB/s]#033[A\u001b[0m\n",
      "\u001b[34mDownloading (…)00002-of-00003.bin\";:  20%|██        | 2.00G/9.93G [00:15<00:52, 152MB/s]#033[A\u001b[0m\n",
      "\u001b[34mDownloading (…)00002-of-00003.bin\";:  20%|██        | 2.03G/9.93G [00:15<00:47, 166MB/s]#033[A\u001b[0m\n",
      "\u001b[34mDownloading (…)00002-of-00003.bin\";:  21%|██        | 2.06G/9.93G [00:15<00:53, 147MB/s]#033[A\u001b[0m\n",
      "\u001b[34mDownloading (…)00002-of-00003.bin\";:  21%|██        | 2.08G/9.93G [00:16<00:51, 153MB/s]#033[A\u001b[0m\n",
      "\u001b[34mDownloading (…)00002-of-00003.bin\";:  21%|██        | 2.11G/9.93G [00:16<00:45, 172MB/s]#033[A\u001b[0m\n",
      "\u001b[34mDownloading (…)00002-of-00003.bin\";:  21%|██▏       | 2.13G/9.93G [00:16<00:50, 154MB/s]#033[A\u001b[0m\n",
      "\u001b[34mDownloading (…)00002-of-00003.bin\";:  22%|██▏       | 2.15G/9.93G [00:16<00:47, 165MB/s]#033[A\u001b[0m\n",
      "\u001b[34mDownloading (…)00002-of-00003.bin\";:  22%|██▏       | 2.18G/9.93G [00:16<00:42, 184MB/s]#033[A\u001b[0m\n",
      "\u001b[34mDownloading (…)00002-of-00003.bin\";:  22%|██▏       | 2.20G/9.93G [00:16<00:47, 161MB/s]#033[A\u001b[0m\n",
      "\u001b[34mDownloading (…)00002-of-00003.bin\";:  22%|██▏       | 2.22G/9.93G [00:17<00:52, 147MB/s]#033[A\u001b[0m\n",
      "\u001b[34mDownloading (…)00002-of-00003.bin\";:  23%|██▎       | 2.25G/9.93G [00:17<00:46, 165MB/s]#033[A\u001b[0m\n",
      "\u001b[34mDownloading (…)00002-of-00003.bin\";:  23%|██▎       | 2.28G/9.93G [00:17<00:49, 156MB/s]#033[A\u001b[0m\n",
      "\u001b[34mDownloading (…)00002-of-00003.bin\";:  23%|██▎       | 2.30G/9.93G [00:17<00:53, 144MB/s]#033[A\u001b[0m\n",
      "\u001b[34mDownloading (…)00002-of-00003.bin\";:  23%|██▎       | 2.32G/9.93G [00:17<00:50, 151MB/s]#033[A\u001b[0m\n",
      "\u001b[34mDownloading (…)00002-of-00003.bin\";:  24%|██▎       | 2.34G/9.93G [00:17<00:46, 163MB/s]#033[A\u001b[0m\n",
      "\u001b[34mDownloading (…)00002-of-00003.bin\";:  24%|██▍       | 2.36G/9.93G [00:17<00:51, 147MB/s]#033[A\u001b[0m\n",
      "\u001b[34mDownloading (…)00002-of-00003.bin\";:  24%|██▍       | 2.38G/9.93G [00:18<00:53, 140MB/s]#033[A\u001b[0m\n",
      "\u001b[34mDownloading (…)00002-of-00003.bin\";:  24%|██▍       | 2.41G/9.93G [00:18<00:48, 155MB/s]#033[A\u001b[0m\n",
      "\u001b[34mDownloading (…)00002-of-00003.bin\";:  25%|██▍       | 2.43G/9.93G [00:18<00:52, 143MB/s]#033[A\u001b[0m\n",
      "\u001b[34mDownloading (…)00002-of-00003.bin\";:  25%|██▍       | 2.45G/9.93G [00:18<00:53, 139MB/s]#033[A\u001b[0m\n",
      "\u001b[34mDownloading (…)00002-of-00003.bin\";:  25%|██▌       | 2.49G/9.93G [00:18<00:46, 161MB/s]#033[A\u001b[0m\n",
      "\u001b[34mDownloading (…)00002-of-00003.bin\";:  25%|██▌       | 2.51G/9.93G [00:18<00:51, 144MB/s]#033[A\u001b[0m\n",
      "\u001b[34mDownloading (…)00002-of-00003.bin\";:  25%|██▌       | 2.53G/9.93G [00:19<00:52, 141MB/s]#033[A\u001b[0m\n",
      "\u001b[34mDownloading (…)00002-of-00003.bin\";:  26%|██▌       | 2.56G/9.93G [00:19<00:45, 160MB/s]#033[A\u001b[0m\n",
      "\u001b[34mDownloading (…)00002-of-00003.bin\";:  26%|██▌       | 2.58G/9.93G [00:19<00:51, 143MB/s]#033[A\u001b[0m\n",
      "\u001b[34mDownloading (…)00002-of-00003.bin\";:  26%|██▌       | 2.60G/9.93G [00:19<00:52, 140MB/s]#033[A\u001b[0m\n",
      "\u001b[34mDownloading (…)00002-of-00003.bin\";:  27%|██▋       | 2.63G/9.93G [00:19<00:46, 157MB/s]#033[A\u001b[0m\n",
      "\u001b[34mDownloading (…)00002-of-00003.bin\";:  27%|██▋       | 2.65G/9.93G [00:19<00:51, 141MB/s]#033[A\u001b[0m\n",
      "\u001b[34mDownloading (…)00002-of-00003.bin\";:  27%|██▋       | 2.67G/9.93G [00:20<00:52, 138MB/s]#033[A\u001b[0m\n",
      "\u001b[34mDownloading (…)00002-of-00003.bin\";:  27%|██▋       | 2.71G/9.93G [00:20<00:46, 154MB/s]#033[A\u001b[0m\n",
      "\u001b[34mDownloading (…)00002-of-00003.bin\";:  27%|██▋       | 2.73G/9.93G [00:20<01:00, 119MB/s]#033[A\u001b[0m\n",
      "\u001b[34mDownloading (…)00002-of-00003.bin\";:  28%|██▊       | 2.77G/9.93G [00:20<00:41, 171MB/s]#033[A\u001b[0m\n",
      "\u001b[34mDownloading (…)00002-of-00003.bin\";:  28%|██▊       | 2.80G/9.93G [00:20<00:46, 153MB/s]#033[A\u001b[0m\n",
      "\u001b[34mDownloading (…)00002-of-00003.bin\";:  28%|██▊       | 2.82G/9.93G [00:21<00:49, 144MB/s]#033[A\u001b[0m\n",
      "\u001b[34mDownloading (…)00002-of-00003.bin\";:  29%|██▊       | 2.85G/9.93G [00:21<00:46, 154MB/s]#033[A\u001b[0m\n",
      "\u001b[34mDownloading (…)00002-of-00003.bin\";:  29%|██▉       | 2.87G/9.93G [00:21<00:50, 140MB/s]#033[A\u001b[0m\n",
      "\u001b[34mDownloading (…)00002-of-00003.bin\";:  29%|██▉       | 2.89G/9.93G [00:21<00:49, 142MB/s]#033[A\u001b[0m\n",
      "\u001b[34mDownloading (…)00002-of-00003.bin\";:  29%|██▉       | 2.92G/9.93G [00:21<00:45, 155MB/s]#033[A\u001b[0m\n",
      "\u001b[34mDownloading (…)00002-of-00003.bin\";:  30%|██▉       | 2.94G/9.93G [00:21<00:48, 144MB/s]#033[A\u001b[0m\n",
      "\u001b[34mDownloading (…)00002-of-00003.bin\";:  30%|██▉       | 2.96G/9.93G [00:22<00:52, 132MB/s]#033[A\u001b[0m\n",
      "\u001b[34mDownloading (…)00002-of-00003.bin\";:  30%|███       | 2.99G/9.93G [00:22<00:44, 154MB/s]#033[A\u001b[0m\n",
      "\u001b[34mDownloading (…)00002-of-00003.bin\";:  30%|███       | 3.01G/9.93G [00:22<00:49, 140MB/s]#033[A\u001b[0m\n",
      "\u001b[34mDownloading (…)00002-of-00003.bin\";:  31%|███       | 3.03G/9.93G [00:22<00:51, 134MB/s]#033[A\u001b[0m\n",
      "\u001b[34mDownloading (…)00002-of-00003.bin\";:  31%|███       | 3.06G/9.93G [00:22<00:46, 147MB/s]#033[A\u001b[0m\n",
      "\u001b[34mDownloading (…)00002-of-00003.bin\";:  31%|███       | 3.08G/9.93G [00:22<00:50, 135MB/s]#033[A\u001b[0m\n",
      "\u001b[34mDownloading (…)00002-of-00003.bin\";:  31%|███▏      | 3.10G/9.93G [00:23<00:50, 134MB/s]#033[A\u001b[0m\n",
      "\u001b[34mDownloading (…)00002-of-00003.bin\";:  31%|███▏      | 3.12G/9.93G [00:23<00:46, 147MB/s]#033[A\u001b[0m\n",
      "\u001b[34mDownloading (…)00002-of-00003.bin\";:  32%|███▏      | 3.15G/9.93G [00:23<00:49, 138MB/s]#033[A\u001b[0m\n",
      "\u001b[34mDownloading (…)00002-of-00003.bin\";:  32%|███▏      | 3.17G/9.93G [00:23<00:51, 132MB/s]#033[A\u001b[0m\n",
      "\u001b[34mDownloading (…)00002-of-00003.bin\";:  32%|███▏      | 3.19G/9.93G [00:23<00:46, 146MB/s]#033[A\u001b[0m\n",
      "\u001b[34mDownloading (…)00002-of-00003.bin\";:  32%|███▏      | 3.21G/9.93G [00:23<00:47, 142MB/s]#033[A\u001b[0m\n",
      "\u001b[34mDownloading (…)00002-of-00003.bin\";:  33%|███▎      | 3.23G/9.93G [00:23<00:51, 130MB/s]#033[A\u001b[0m\n",
      "\u001b[34mDownloading (…)00002-of-00003.bin\";:  33%|███▎      | 3.25G/9.93G [00:24<00:46, 144MB/s]#033[A\u001b[0m\n",
      "\u001b[34mDownloading (…)00002-of-00003.bin\";:  33%|███▎      | 3.27G/9.93G [00:24<00:46, 144MB/s]#033[A\u001b[0m\n",
      "\u001b[34mDownloading (…)00002-of-00003.bin\";:  33%|███▎      | 3.29G/9.93G [00:24<00:50, 132MB/s]#033[A\u001b[0m\n",
      "\u001b[34mDownloading (…)00002-of-00003.bin\";:  33%|███▎      | 3.31G/9.93G [00:24<00:48, 137MB/s]#033[A\u001b[0m\n",
      "\u001b[34mDownloading (…)00002-of-00003.bin\";:  34%|███▎      | 3.33G/9.93G [00:24<00:44, 149MB/s]#033[A\u001b[0m\n",
      "\u001b[34mDownloading (…)00002-of-00003.bin\";:  34%|███▍      | 3.36G/9.93G [00:24<00:48, 135MB/s]#033[A\u001b[0m\n",
      "\u001b[34mDownloading (…)00002-of-00003.bin\";:  34%|███▍      | 3.38G/9.93G [00:25<00:50, 131MB/s]#033[A\u001b[0m\n",
      "\u001b[34mDownloading (…)00002-of-00003.bin\";:  34%|███▍      | 3.41G/9.93G [00:25<00:45, 142MB/s]#033[A\u001b[0m\n",
      "\u001b[34mDownloading (…)00002-of-00003.bin\";:  35%|███▍      | 3.43G/9.93G [00:25<00:49, 131MB/s]#033[A\u001b[0m\n",
      "\u001b[34mDownloading (…)00002-of-00003.bin\";:  35%|███▍      | 3.45G/9.93G [00:25<00:47, 136MB/s]#033[A\u001b[0m\n",
      "\u001b[34mDownloading (…)00002-of-00003.bin\";:  35%|███▍      | 3.47G/9.93G [00:25<00:43, 148MB/s]#033[A\u001b[0m\n",
      "\u001b[34mDownloading (…)00002-of-00003.bin\";:  35%|███▌      | 3.49G/9.93G [00:25<00:47, 135MB/s]#033[A\u001b[0m\n",
      "\u001b[34mDownloading (…)00002-of-00003.bin\";:  35%|███▌      | 3.51G/9.93G [00:26<00:49, 131MB/s]#033[A\u001b[0m\n",
      "\u001b[34mDownloading (…)00002-of-00003.bin\";:  36%|███▌      | 3.53G/9.93G [00:26<00:44, 144MB/s]#033[A\u001b[0m\n",
      "\u001b[34mDownloading (…)00002-of-00003.bin\";:  36%|███▌      | 3.55G/9.93G [00:26<00:47, 135MB/s]#033[A\u001b[0m\n",
      "\u001b[34mDownloading (…)00002-of-00003.bin\";:  36%|███▌      | 3.58G/9.93G [00:26<00:49, 127MB/s]#033[A\u001b[0m\n",
      "\u001b[34mDownloading (…)00002-of-00003.bin\";:  36%|███▋      | 3.61G/9.93G [00:26<00:43, 145MB/s]#033[A\u001b[0m\n",
      "\u001b[34mDownloading (…)00002-of-00003.bin\";:  37%|███▋      | 3.63G/9.93G [00:26<00:47, 133MB/s]#033[A\u001b[0m\n",
      "\u001b[34mDownloading (…)00002-of-00003.bin\";:  37%|███▋      | 3.65G/9.93G [00:27<00:48, 130MB/s]#033[A\u001b[0m\n",
      "\u001b[34mDownloading (…)00002-of-00003.bin\";:  37%|███▋      | 3.67G/9.93G [00:27<00:43, 145MB/s]#033[A\u001b[0m\n",
      "\u001b[34mDownloading (…)00002-of-00003.bin\";:  37%|███▋      | 3.69G/9.93G [00:27<00:45, 137MB/s]#033[A\u001b[0m\n",
      "\u001b[34mDownloading (…)00002-of-00003.bin\";:  37%|███▋      | 3.71G/9.93G [00:27<00:48, 128MB/s]#033[A\u001b[0m\n",
      "\u001b[34mDownloading (…)00002-of-00003.bin\";:  38%|███▊      | 3.74G/9.93G [00:27<00:42, 144MB/s]#033[A\u001b[0m\n",
      "\u001b[34mDownloading (…)00002-of-00003.bin\";:  38%|███▊      | 3.76G/9.93G [00:27<00:46, 133MB/s]#033[A\u001b[0m\n",
      "\u001b[34mDownloading (…)00002-of-00003.bin\";:  38%|███▊      | 3.79G/9.93G [00:28<00:46, 132MB/s]#033[A\u001b[0m\n",
      "\u001b[34mDownloading (…)00002-of-00003.bin\";:  38%|███▊      | 3.81G/9.93G [00:28<00:41, 146MB/s]#033[A\u001b[0m\n",
      "\u001b[34mDownloading (…)00002-of-00003.bin\";:  39%|███▊      | 3.83G/9.93G [00:28<00:45, 134MB/s]#033[A\u001b[0m\n",
      "\u001b[34mDownloading (…)00002-of-00003.bin\";:  39%|███▉      | 3.85G/9.93G [00:28<00:47, 129MB/s]#033[A\u001b[0m\n",
      "\u001b[34mDownloading (…)00002-of-00003.bin\";:  39%|███▉      | 3.87G/9.93G [00:28<00:41, 145MB/s]#033[A\u001b[0m\n",
      "\u001b[34mDownloading (…)00002-of-00003.bin\";:  39%|███▉      | 3.89G/9.93G [00:28<00:44, 136MB/s]#033[A\u001b[0m\n",
      "\u001b[34mDownloading (…)00002-of-00003.bin\";:  39%|███▉      | 3.91G/9.93G [00:28<00:47, 127MB/s]#033[A\u001b[0m\n",
      "\u001b[34mDownloading (…)00002-of-00003.bin\";:  40%|███▉      | 3.93G/9.93G [00:29<00:43, 138MB/s]#033[A\u001b[0m\n",
      "\u001b[34mDownloading (…)00002-of-00003.bin\";:  40%|███▉      | 3.95G/9.93G [00:29<00:44, 135MB/s]#033[A\u001b[0m\n",
      "\u001b[34mDownloading (…)00002-of-00003.bin\";:  40%|████      | 3.97G/9.93G [00:29<00:47, 127MB/s]#033[A\u001b[0m\n",
      "\u001b[34mDownloading (…)00002-of-00003.bin\";:  40%|████      | 4.00G/9.93G [00:29<00:43, 138MB/s]#033[A\u001b[0m\n",
      "\u001b[34mDownloading (…)00002-of-00003.bin\";:  40%|████      | 4.02G/9.93G [00:29<00:40, 147MB/s]#033[A\u001b[0m\n",
      "\u001b[34mDownloading (…)00002-of-00003.bin\";:  41%|████      | 4.04G/9.93G [00:29<00:44, 133MB/s]#033[A\u001b[0m\n",
      "\u001b[34mDownloading (…)00002-of-00003.bin\";:  41%|████      | 4.06G/9.93G [00:30<00:43, 134MB/s]#033[A\u001b[0m\n",
      "\u001b[34mDownloading (…)00002-of-00003.bin\";:  41%|████      | 4.08G/9.93G [00:30<00:39, 148MB/s]#033[A\u001b[0m\n",
      "\u001b[34mDownloading (…)00002-of-00003.bin\";:  41%|████▏     | 4.10G/9.93G [00:30<00:43, 134MB/s]#033[A\u001b[0m\n",
      "\u001b[34mDownloading (…)00002-of-00003.bin\";:  42%|████▏     | 4.12G/9.93G [00:30<01:01, 94.6MB/s]#033[A\u001b[0m\n",
      "\u001b[34mDownloading (…)00002-of-00003.bin\";:  42%|████▏     | 4.17G/9.93G [00:30<00:40, 143MB/s] #033[A\u001b[0m\n",
      "\u001b[34mDownloading (…)00002-of-00003.bin\";:  42%|████▏     | 4.19G/9.93G [00:31<00:40, 142MB/s]#033[A\u001b[0m\n",
      "\u001b[34mDownloading (…)00002-of-00003.bin\";:  42%|████▏     | 4.22G/9.93G [00:31<00:37, 151MB/s]#033[A\u001b[0m\n",
      "\u001b[34mDownloading (…)00002-of-00003.bin\";:  43%|████▎     | 4.24G/9.93G [00:31<00:41, 137MB/s]#033[A\u001b[0m\n",
      "\u001b[34mDownloading (…)00002-of-00003.bin\";:  43%|████▎     | 4.26G/9.93G [00:31<00:42, 133MB/s]#033[A\u001b[0m\n",
      "\u001b[34mDownloading (…)00002-of-00003.bin\";:  43%|████▎     | 4.28G/9.93G [00:31<00:38, 146MB/s]#033[A\u001b[0m\n",
      "\u001b[34mDownloading (…)00002-of-00003.bin\";:  43%|████▎     | 4.30G/9.93G [00:31<00:41, 134MB/s]#033[A\u001b[0m\n",
      "\u001b[34mDownloading (…)00002-of-00003.bin\";:  44%|████▎     | 4.32G/9.93G [00:32<00:43, 129MB/s]#033[A\u001b[0m\n",
      "\u001b[34mDownloading (…)00002-of-00003.bin\";:  44%|████▎     | 4.34G/9.93G [00:32<00:39, 143MB/s]#033[A\u001b[0m\n",
      "\u001b[34mDownloading (…)00002-of-00003.bin\";:  44%|████▍     | 4.36G/9.93G [00:32<00:39, 140MB/s]#033[A\u001b[0m\n",
      "\u001b[34mDownloading (…)00002-of-00003.bin\";:  44%|████▍     | 4.38G/9.93G [00:32<00:43, 128MB/s]#033[A\u001b[0m\n",
      "\u001b[34mDownloading (…)00002-of-00003.bin\";:  44%|████▍     | 4.40G/9.93G [00:32<00:39, 138MB/s]#033[A\u001b[0m\n",
      "\u001b[34mDownloading (…)00002-of-00003.bin\";:  45%|████▍     | 4.42G/9.93G [00:32<00:40, 136MB/s]#033[A\u001b[0m\n",
      "\u001b[34mDownloading (…)00002-of-00003.bin\";:  45%|████▍     | 4.45G/9.93G [00:32<00:43, 126MB/s]#033[A\u001b[0m\n",
      "\u001b[34mDownloading (…)00002-of-00003.bin\";:  45%|████▌     | 4.47G/9.93G [00:33<00:40, 136MB/s]#033[A\u001b[0m\n",
      "\u001b[34mDownloading (…)00002-of-00003.bin\";:  45%|████▌     | 4.49G/9.93G [00:33<00:37, 143MB/s]#033[A\u001b[0m\n",
      "\u001b[34mDownloading (…)00002-of-00003.bin\";:  45%|████▌     | 4.51G/9.93G [00:33<00:41, 131MB/s]#033[A\u001b[0m\n",
      "\u001b[34mDownloading (…)00002-of-00003.bin\";:  46%|████▌     | 4.53G/9.93G [00:33<00:40, 132MB/s]#033[A\u001b[0m\n",
      "\u001b[34mDownloading (…)00002-of-00003.bin\";:  46%|████▌     | 4.55G/9.93G [00:33<00:36, 148MB/s]#033[A\u001b[0m\n",
      "\u001b[34mDownloading (…)00002-of-00003.bin\";:  46%|████▌     | 4.57G/9.93G [00:33<00:39, 134MB/s]#033[A\u001b[0m\n",
      "\u001b[34mDownloading (…)00002-of-00003.bin\";:  46%|████▋     | 4.59G/9.93G [00:34<00:41, 129MB/s]#033[A\u001b[0m\n",
      "\u001b[34mDownloading (…)00002-of-00003.bin\";:  46%|████▋     | 4.61G/9.93G [00:34<00:36, 144MB/s]#033[A\u001b[0m\n",
      "\u001b[34mDownloading (…)00002-of-00003.bin\";:  47%|████▋     | 4.63G/9.93G [00:34<00:40, 132MB/s]#033[A\u001b[0m\n",
      "\u001b[34mDownloading (…)00002-of-00003.bin\";:  47%|████▋     | 4.66G/9.93G [00:34<00:41, 128MB/s]#033[A\u001b[0m\n",
      "\u001b[34mDownloading (…)00002-of-00003.bin\";:  47%|████▋     | 4.68G/9.93G [00:34<00:36, 142MB/s]#033[A\u001b[0m\n",
      "\u001b[34mDownloading (…)00002-of-00003.bin\";:  47%|████▋     | 4.70G/9.93G [00:34<00:38, 135MB/s]#033[A\u001b[0m\n",
      "\u001b[34mDownloading (…)00002-of-00003.bin\";:  48%|████▊     | 4.72G/9.93G [00:34<00:40, 130MB/s]#033[A\u001b[0m\n",
      "\u001b[34mDownloading (…)00002-of-00003.bin\";:  48%|████▊     | 4.74G/9.93G [00:35<00:37, 138MB/s]#033[A\u001b[0m\n",
      "\u001b[34mDownloading (…)00002-of-00003.bin\";:  48%|████▊     | 4.76G/9.93G [00:35<00:37, 139MB/s]#033[A\u001b[0m\n",
      "\u001b[34mDownloading (…)00002-of-00003.bin\";:  48%|████▊     | 4.78G/9.93G [00:35<00:40, 128MB/s]#033[A\u001b[0m\n",
      "\u001b[34mDownloading (…)00002-of-00003.bin\";:  48%|████▊     | 4.80G/9.93G [00:35<00:37, 136MB/s]#033[A\u001b[0m\n",
      "\u001b[34mDownloading (…)00002-of-00003.bin\";:  49%|████▊     | 4.82G/9.93G [00:35<00:36, 141MB/s]#033[A\u001b[0m\n",
      "\u001b[34mDownloading (…)00002-of-00003.bin\";:  49%|████▉     | 4.84G/9.93G [00:35<00:39, 130MB/s]#033[A\u001b[0m\n",
      "\u001b[34mDownloading (…)00002-of-00003.bin\";:  49%|████▉     | 4.87G/9.93G [00:36<00:38, 131MB/s]#033[A\u001b[0m\n",
      "\u001b[34mDownloading (…)00002-of-00003.bin\";:  49%|████▉     | 4.89G/9.93G [00:36<00:35, 142MB/s]#033[A\u001b[0m\n",
      "\u001b[34mDownloading (…)00002-of-00003.bin\";:  49%|████▉     | 4.91G/9.93G [00:36<00:38, 129MB/s]#033[A\u001b[0m\n",
      "\u001b[34mDownloading (…)00002-of-00003.bin\";:  50%|████▉     | 4.93G/9.93G [00:36<00:38, 129MB/s]#033[A\u001b[0m\n",
      "\u001b[34mDownloading (…)00002-of-00003.bin\";:  50%|████▉     | 4.95G/9.93G [00:36<00:34, 144MB/s]#033[A\u001b[0m\n",
      "\u001b[34mDownloading (…)00002-of-00003.bin\";:  50%|█████     | 4.97G/9.93G [00:36<00:36, 136MB/s]#033[A\u001b[0m\n",
      "\u001b[34mDownloading (…)00002-of-00003.bin\";:  50%|█████     | 4.99G/9.93G [00:37<00:38, 127MB/s]#033[A\u001b[0m\n",
      "\u001b[34mDownloading (…)00002-of-00003.bin\";:  50%|█████     | 5.01G/9.93G [00:37<00:34, 141MB/s]#033[A\u001b[0m\n",
      "\u001b[34mDownloading (…)00002-of-00003.bin\";:  51%|█████     | 5.03G/9.93G [00:37<00:36, 133MB/s]#033[A\u001b[0m\n",
      "\u001b[34mDownloading (…)00002-of-00003.bin\";:  51%|█████     | 5.05G/9.93G [00:37<00:39, 124MB/s]#033[A\u001b[0m\n",
      "\u001b[34mDownloading (…)00002-of-00003.bin\";:  51%|█████     | 5.08G/9.93G [00:37<00:35, 137MB/s]\u001b[0m\n",
      "\u001b[34m#033[A\u001b[0m\n",
      "\u001b[34mDownloading (…)00002-of-00003.bin\";:  51%|█████▏    | 5.10G/9.93G [00:37<00:34, 138MB/s]#033[A\u001b[0m\n",
      "\u001b[34mDownloading (…)00002-of-00003.bin\";:  52%|█████▏    | 5.12G/9.93G [00:37<00:37, 128MB/s]#033[A\u001b[0m\n",
      "\u001b[34mDownloading (…)00002-of-00003.bin\";:  52%|█████▏    | 5.14G/9.93G [00:38<00:35, 134MB/s]#033[A\u001b[0m\n",
      "\u001b[34mDownloading (…)00002-of-00003.bin\";:  52%|█████▏    | 5.16G/9.93G [00:38<00:33, 144MB/s]#033[A\u001b[0m\n",
      "\u001b[34mDownloading (…)00002-of-00003.bin\";:  52%|█████▏    | 5.18G/9.93G [00:38<00:36, 131MB/s]#033[A\u001b[0m\n",
      "\u001b[34mDownloading (…)00002-of-00003.bin\";:  52%|█████▏    | 5.20G/9.93G [00:38<00:35, 132MB/s]#033[A\u001b[0m\n",
      "\u001b[34mDownloading (…)00002-of-00003.bin\";:  53%|█████▎    | 5.22G/9.93G [00:38<00:33, 142MB/s]#033[A\u001b[0m\n",
      "\u001b[34mDownloading (…)00002-of-00003.bin\";:  53%|█████▎    | 5.24G/9.93G [00:38<00:36, 130MB/s]#033[A\u001b[0m\n",
      "\u001b[34mDownloading (…)00002-of-00003.bin\";:  53%|█████▎    | 5.26G/9.93G [00:39<00:36, 127MB/s]#033[A\u001b[0m\n",
      "\u001b[34mDownloading (…)00002-of-00003.bin\";:  53%|█████▎    | 5.30G/9.93G [00:39<00:33, 139MB/s]#033[A\u001b[0m\n",
      "\u001b[34mDownloading (…)00002-of-00003.bin\";:  54%|█████▎    | 5.32G/9.93G [00:39<00:35, 129MB/s]#033[A\u001b[0m\n",
      "\u001b[34mDownloading (…)00002-of-00003.bin\";:  54%|█████▍    | 5.34G/9.93G [00:39<00:33, 136MB/s]#033[A\u001b[0m\n",
      "\u001b[34mDownloading (…)00002-of-00003.bin\";:  54%|█████▍    | 5.36G/9.93G [00:39<00:31, 143MB/s]#033[A\u001b[0m\n",
      "\u001b[34mDownloading (…)00002-of-00003.bin\";:  54%|█████▍    | 5.38G/9.93G [00:39<00:34, 132MB/s]#033[A\u001b[0m\n",
      "\u001b[34mDownloading (…)00002-of-00003.bin\";:  54%|█████▍    | 5.40G/9.93G [00:40<00:34, 132MB/s]#033[A\u001b[0m\n",
      "\u001b[34mDownloading (…)00002-of-00003.bin\";:  55%|█████▍    | 5.42G/9.93G [00:40<00:31, 145MB/s]#033[A\u001b[0m\n",
      "\u001b[34mDownloading (…)00002-of-00003.bin\";:  55%|█████▍    | 5.44G/9.93G [00:40<00:34, 131MB/s]#033[A\u001b[0m\n",
      "\u001b[34mDownloading (…)00002-of-00003.bin\";:  55%|█████▌    | 5.46G/9.93G [00:40<00:35, 127MB/s]#033[A\u001b[0m\n",
      "\u001b[34mDownloading (…)00002-of-00003.bin\";:  55%|█████▌    | 5.49G/9.93G [00:40<00:30, 143MB/s]#033[A\u001b[0m\n",
      "\u001b[34mDownloading (…)00002-of-00003.bin\";:  56%|█████▌    | 5.52G/9.93G [00:40<00:38, 113MB/s]#033[A\u001b[0m\n",
      "\u001b[34mDownloading (…)00002-of-00003.bin\";:  56%|█████▌    | 5.56G/9.93G [00:41<00:28, 151MB/s]#033[A\u001b[0m\n",
      "\u001b[34mDownloading (…)00002-of-00003.bin\";:  56%|█████▌    | 5.58G/9.93G [00:41<00:31, 138MB/s]#033[A\u001b[0m\n",
      "\u001b[34mDownloading (…)00002-of-00003.bin\";:  56%|█████▋    | 5.60G/9.93G [00:41<00:32, 133MB/s]#033[A\u001b[0m\n",
      "\u001b[34mDownloading (…)00002-of-00003.bin\";:  57%|█████▋    | 5.62G/9.93G [00:41<00:29, 145MB/s]#033[A\u001b[0m\n",
      "\u001b[34mDownloading (…)00002-of-00003.bin\";:  57%|█████▋    | 5.64G/9.93G [00:41<00:31, 134MB/s]#033[A\u001b[0m\n",
      "\u001b[34mDownloading (…)00002-of-00003.bin\";:  57%|█████▋    | 5.66G/9.93G [00:41<00:33, 126MB/s]#033[A\u001b[0m\n",
      "\u001b[34mDownloading (…)00002-of-00003.bin\";:  57%|█████▋    | 5.68G/9.93G [00:42<00:30, 140MB/s]#033[A\u001b[0m\n",
      "\u001b[34mDownloading (…)00002-of-00003.bin\";:  57%|█████▋    | 5.70G/9.93G [00:42<00:30, 136MB/s]\u001b[0m\n",
      "\u001b[34m#033[A\u001b[0m\n",
      "\u001b[34mDownloading (…)00002-of-00003.bin\";:  58%|█████▊    | 5.73G/9.93G [00:42<00:33, 126MB/s]#033[A\u001b[0m\n",
      "\u001b[34mDownloading (…)00002-of-00003.bin\";:  58%|█████▊    | 5.75G/9.93G [00:42<00:30, 136MB/s]#033[A\u001b[0m\n",
      "\u001b[34mDownloading (…)00002-of-00003.bin\";:  58%|█████▊    | 5.77G/9.93G [00:42<00:30, 138MB/s]#033[A\u001b[0m\n",
      "\u001b[34mDownloading (…)00002-of-00003.bin\";:  58%|█████▊    | 5.79G/9.93G [00:42<00:32, 128MB/s]#033[A\u001b[0m\n",
      "\u001b[34mDownloading (…)00002-of-00003.bin\";:  59%|█████▊    | 5.81G/9.93G [00:43<00:30, 133MB/s]#033[A\u001b[0m\n",
      "\u001b[34mDownloading (…)00002-of-00003.bin\";:  59%|█████▊    | 5.83G/9.93G [00:43<00:29, 138MB/s]#033[A\u001b[0m\n",
      "\u001b[34mDownloading (…)00002-of-00003.bin\";:  59%|█████▉    | 5.85G/9.93G [00:43<00:31, 128MB/s]#033[A\u001b[0m\n",
      "\u001b[34mDownloading (…)00002-of-00003.bin\";:  59%|█████▉    | 5.87G/9.93G [00:43<00:31, 130MB/s]#033[A\u001b[0m\n",
      "\u001b[34mDownloading (…)00002-of-00003.bin\";:  59%|█████▉    | 5.89G/9.93G [00:43<00:28, 141MB/s]#033[A\u001b[0m\n",
      "\u001b[34mDownloading (…)00002-of-00003.bin\";:  60%|█████▉    | 5.91G/9.93G [00:43<00:31, 129MB/s]#033[A\u001b[0m\n",
      "\u001b[34mDownloading (…)00002-of-00003.bin\";:  60%|█████▉    | 5.93G/9.93G [00:44<00:31, 127MB/s]#033[A\u001b[0m\n",
      "\u001b[34mDownloading (…)00002-of-00003.bin\";:  60%|██████    | 5.96G/9.93G [00:44<00:27, 143MB/s]#033[A\u001b[0m\n",
      "\u001b[34mDownloading (…)00002-of-00003.bin\";:  60%|██████    | 5.98G/9.93G [00:44<00:29, 135MB/s]#033[A\u001b[0m\n",
      "\u001b[34mDownloading (…)00002-of-00003.bin\";:  60%|██████    | 6.00G/9.93G [00:44<00:31, 126MB/s]#033[A\u001b[0m\n",
      "\u001b[34mDownloading (…)00002-of-00003.bin\";:  61%|██████    | 6.02G/9.93G [00:44<00:27, 143MB/s]#033[A\u001b[0m\n",
      "\u001b[34mDownloading (…)00002-of-00003.bin\";:  61%|██████    | 6.04G/9.93G [00:44<00:28, 138MB/s]#033[A\u001b[0m\n",
      "\u001b[34mDownloading (…)00002-of-00003.bin\";:  61%|██████    | 6.06G/9.93G [00:44<00:30, 128MB/s]#033[A\u001b[0m\n",
      "\u001b[34mDownloading (…)00002-of-00003.bin\";:  61%|██████▏   | 6.08G/9.93G [00:45<00:27, 139MB/s]#033[A\u001b[0m\n",
      "\u001b[34mDownloading (…)00002-of-00003.bin\";:  61%|██████▏   | 6.10G/9.93G [00:45<00:27, 137MB/s]#033[A\u001b[0m\n",
      "\u001b[34mDownloading (…)00002-of-00003.bin\";:  62%|██████▏   | 6.12G/9.93G [00:45<00:29, 127MB/s]#033[A\u001b[0m\n",
      "\u001b[34mDownloading (…)00002-of-00003.bin\";:  62%|██████▏   | 6.14G/9.93G [00:45<00:27, 137MB/s]#033[A\u001b[0m\n",
      "\u001b[34mDownloading (…)00002-of-00003.bin\";:  62%|██████▏   | 6.17G/9.93G [00:45<00:27, 138MB/s]#033[A\u001b[0m\n",
      "\u001b[34mDownloading (…)00002-of-00003.bin\";:  62%|██████▏   | 6.19G/9.93G [00:45<00:28, 132MB/s]#033[A\u001b[0m\n",
      "\u001b[34mDownloading (…)00002-of-00003.bin\";:  63%|██████▎   | 6.21G/9.93G [00:46<00:28, 132MB/s]#033[A\u001b[0m\n",
      "\u001b[34mDownloading (…)00002-of-00003.bin\";:  63%|██████▎   | 6.23G/9.93G [00:46<00:25, 145MB/s]#033[A\u001b[0m\n",
      "\u001b[34mDownloading (…)00002-of-00003.bin\";:  63%|██████▎   | 6.25G/9.93G [00:46<00:27, 132MB/s]#033[A\u001b[0m\n",
      "\u001b[34mDownloading (…)00002-of-00003.bin\";:  63%|██████▎   | 6.27G/9.93G [00:46<00:28, 128MB/s]#033[A\u001b[0m\n",
      "\u001b[34mDownloading (…)00002-of-00003.bin\";:  63%|██████▎   | 6.29G/9.93G [00:46<00:25, 143MB/s]#033[A\u001b[0m\n",
      "\u001b[34mDownloading (…)00002-of-00003.bin\";:  64%|██████▎   | 6.31G/9.93G [00:46<00:27, 132MB/s]#033[A\u001b[0m\n",
      "\u001b[34mDownloading (…)00002-of-00003.bin\";:  64%|██████▍   | 6.33G/9.93G [00:47<00:28, 124MB/s]#033[A\u001b[0m\n",
      "\u001b[34mDownloading (…)00002-of-00003.bin\";:  64%|██████▍   | 6.35G/9.93G [00:47<00:25, 140MB/s]#033[A\u001b[0m\n",
      "\u001b[34mDownloading (…)00002-of-00003.bin\";:  64%|██████▍   | 6.38G/9.93G [00:47<00:26, 136MB/s]#033[A\u001b[0m\n",
      "\u001b[34mDownloading (…)00002-of-00003.bin\";:  64%|██████▍   | 6.40G/9.93G [00:47<00:27, 126MB/s]#033[A\u001b[0m\n",
      "\u001b[34mDownloading (…)00002-of-00003.bin\";:  65%|██████▍   | 6.42G/9.93G [00:47<00:25, 139MB/s]#033[A\u001b[0m\n",
      "\u001b[34mDownloading (…)00002-of-00003.bin\";:  65%|██████▍   | 6.44G/9.93G [00:47<00:25, 137MB/s]#033[A\u001b[0m\n",
      "\u001b[34mDownloading (…)00002-of-00003.bin\";:  65%|██████▌   | 6.46G/9.93G [00:47<00:26, 131MB/s]#033[A\u001b[0m\n",
      "\u001b[34mDownloading (…)00002-of-00003.bin\";:  65%|██████▌   | 6.48G/9.93G [00:48<00:25, 136MB/s]#033[A\u001b[0m\n",
      "\u001b[34mDownloading (…)00002-of-00003.bin\";:  65%|██████▌   | 6.50G/9.93G [00:48<00:24, 138MB/s]#033[A\u001b[0m\n",
      "\u001b[34mDownloading (…)00002-of-00003.bin\";:  66%|██████▌   | 6.52G/9.93G [00:48<00:25, 132MB/s]#033[A\u001b[0m\n",
      "\u001b[34mDownloading (…)00002-of-00003.bin\";:  66%|██████▌   | 6.54G/9.93G [00:48<00:25, 132MB/s]#033[A\u001b[0m\n",
      "\u001b[34mDownloading (…)00002-of-00003.bin\";:  66%|██████▌   | 6.56G/9.93G [00:48<00:23, 142MB/s]#033[A\u001b[0m\n",
      "\u001b[34mDownloading (…)00002-of-00003.bin\";:  66%|██████▋   | 6.59G/9.93G [00:48<00:24, 134MB/s]#033[A\u001b[0m\n",
      "\u001b[34mDownloading (…)00002-of-00003.bin\";:  67%|██████▋   | 6.61G/9.93G [00:49<00:26, 127MB/s]#033[A\u001b[0m\n",
      "\u001b[34mDownloading (…)00002-of-00003.bin\";:  67%|██████▋   | 6.63G/9.93G [00:49<00:23, 141MB/s]#033[A\u001b[0m\n",
      "\u001b[34mDownloading (…)00002-of-00003.bin\";:  67%|██████▋   | 6.65G/9.93G [00:49<00:24, 135MB/s]#033[A\u001b[0m\n",
      "\u001b[34mDownloading (…)00002-of-00003.bin\";:  67%|██████▋   | 6.67G/9.93G [00:49<00:25, 126MB/s]#033[A\u001b[0m\n",
      "\u001b[34mDownloading (…)00002-of-00003.bin\";:  67%|██████▋   | 6.69G/9.93G [00:49<00:22, 142MB/s]#033[A\u001b[0m\n",
      "\u001b[34mDownloading (…)00002-of-00003.bin\";:  68%|██████▊   | 6.71G/9.93G [00:49<00:23, 135MB/s]#033[A\u001b[0m\n",
      "\u001b[34mDownloading (…)00002-of-00003.bin\";:  68%|██████▊   | 6.73G/9.93G [00:49<00:24, 128MB/s]#033[A\u001b[0m\n",
      "\u001b[34mDownloading (…)00002-of-00003.bin\";:  68%|██████▊   | 6.75G/9.93G [00:50<00:22, 140MB/s]#033[A\u001b[0m\n",
      "\u001b[34mDownloading (…)00002-of-00003.bin\";:  68%|██████▊   | 6.77G/9.93G [00:50<00:22, 139MB/s]#033[A\u001b[0m\n",
      "\u001b[34mDownloading (…)00002-of-00003.bin\";:  68%|██████▊   | 6.79G/9.93G [00:50<00:24, 128MB/s]#033[A\u001b[0m\n",
      "\u001b[34mDownloading (…)00002-of-00003.bin\";:  69%|██████▊   | 6.82G/9.93G [00:50<00:23, 133MB/s]#033[A\u001b[0m\n",
      "\u001b[34mDownloading (…)00002-of-00003.bin\";:  69%|██████▉   | 6.84G/9.93G [00:50<00:22, 138MB/s]#033[A\u001b[0m\n",
      "\u001b[34mDownloading (…)00002-of-00003.bin\";:  69%|██████▉   | 6.86G/9.93G [00:50<00:23, 131MB/s]#033[A\u001b[0m\n",
      "\u001b[34mDownloading (…)00002-of-00003.bin\";:  69%|██████▉   | 6.88G/9.93G [00:51<00:30, 100MB/s]#033[A\u001b[0m\n",
      "\u001b[34mDownloading (…)00002-of-00003.bin\";:  70%|██████▉   | 6.92G/9.93G [00:51<00:20, 149MB/s]#033[A\u001b[0m\n",
      "\u001b[34mDownloading (…)00002-of-00003.bin\";:  70%|██████▉   | 6.94G/9.93G [00:51<00:21, 137MB/s]#033[A\u001b[0m\n",
      "\u001b[34mDownloading (…)00002-of-00003.bin\";:  70%|███████   | 6.97G/9.93G [00:51<00:20, 146MB/s]#033[A\u001b[0m\n",
      "\u001b[34mDownloading (…)00002-of-00003.bin\";:  70%|███████   | 6.99G/9.93G [00:51<00:21, 135MB/s]#033[A\u001b[0m\n",
      "\u001b[34mDownloading (…)00002-of-00003.bin\";:  71%|███████   | 7.01G/9.93G [00:52<00:20, 140MB/s]#033[A\u001b[0m\n",
      "\u001b[34mDownloading (…)00002-of-00003.bin\";:  71%|███████   | 7.04G/9.93G [00:52<00:19, 148MB/s]#033[A\u001b[0m\n",
      "\u001b[34mDownloading (…)00002-of-00003.bin\";:  71%|███████   | 7.06G/9.93G [00:52<00:21, 134MB/s]#033[A\u001b[0m\n",
      "\u001b[34mDownloading (…)00002-of-00003.bin\";:  71%|███████▏  | 7.08G/9.93G [00:52<00:21, 131MB/s]#033[A\u001b[0m\n",
      "\u001b[34mDownloading (…)00002-of-00003.bin\";:  72%|███████▏  | 7.10G/9.93G [00:52<00:19, 143MB/s]#033[A\u001b[0m\n",
      "\u001b[34mDownloading (…)00002-of-00003.bin\";:  72%|███████▏  | 7.12G/9.93G [00:52<00:21, 131MB/s]#033[A\u001b[0m\n",
      "\u001b[34mDownloading (…)00002-of-00003.bin\";:  72%|███████▏  | 7.14G/9.93G [00:53<00:22, 124MB/s]#033[A\u001b[0m\n",
      "\u001b[34mDownloading (…)00002-of-00003.bin\";:  72%|███████▏  | 7.17G/9.93G [00:53<00:19, 139MB/s]#033[A\u001b[0m\n",
      "\u001b[34mDownloading (…)00002-of-00003.bin\";:  72%|███████▏  | 7.19G/9.93G [00:53<00:20, 133MB/s]#033[A\u001b[0m\n",
      "\u001b[34mDownloading (…)00002-of-00003.bin\";:  73%|███████▎  | 7.21G/9.93G [00:53<00:20, 132MB/s]#033[A\u001b[0m\n",
      "\u001b[34mDownloading (…)00002-of-00003.bin\";:  73%|███████▎  | 7.24G/9.93G [00:53<00:18, 145MB/s]#033[A\u001b[0m\n",
      "\u001b[34mDownloading (…)00002-of-00003.bin\";:  73%|███████▎  | 7.26G/9.93G [00:53<00:19, 136MB/s]#033[A\u001b[0m\n",
      "\u001b[34mDownloading (…)00002-of-00003.bin\";:  73%|███████▎  | 7.28G/9.93G [00:54<00:20, 127MB/s]#033[A\u001b[0m\n",
      "\u001b[34mDownloading (…)00002-of-00003.bin\";:  74%|███████▎  | 7.30G/9.93G [00:54<00:18, 141MB/s]#033[A\u001b[0m\n",
      "\u001b[34mDownloading (…)00002-of-00003.bin\";:  74%|███████▎  | 7.32G/9.93G [00:54<00:19, 134MB/s]#033[A\u001b[0m\n",
      "\u001b[34mDownloading (…)00002-of-00003.bin\";:  74%|███████▍  | 7.34G/9.93G [00:54<00:20, 125MB/s]#033[A\u001b[0m\n",
      "\u001b[34mDownloading (…)00002-of-00003.bin\";:  74%|███████▍  | 7.36G/9.93G [00:54<00:18, 142MB/s]#033[A\u001b[0m\n",
      "\u001b[34mDownloading (…)00002-of-00003.bin\";:  74%|███████▍  | 7.38G/9.93G [00:54<00:18, 135MB/s]#033[A\u001b[0m\n",
      "\u001b[34mDownloading (…)00002-of-00003.bin\";:  75%|███████▍  | 7.40G/9.93G [00:54<00:20, 126MB/s]#033[A\u001b[0m\n",
      "\u001b[34mDownloading (…)00002-of-00003.bin\";:  75%|███████▍  | 7.42G/9.93G [00:55<00:17, 140MB/s]#033[A\u001b[0m\n",
      "\u001b[34mDownloading (…)00002-of-00003.bin\";:  75%|███████▌  | 7.44G/9.93G [00:55<00:17, 139MB/s]#033[A\u001b[0m\n",
      "\u001b[34mDownloading (…)00002-of-00003.bin\";:  75%|███████▌  | 7.47G/9.93G [00:55<00:19, 129MB/s]#033[A\u001b[0m\n",
      "\u001b[34mDownloading (…)00002-of-00003.bin\";:  75%|███████▌  | 7.49G/9.93G [00:55<00:18, 133MB/s]#033[A\u001b[0m\n",
      "\u001b[34mDownloading (…)00002-of-00003.bin\";:  76%|███████▌  | 7.51G/9.93G [00:55<00:17, 137MB/s]\u001b[0m\n",
      "\u001b[34m#033[A\u001b[0m\n",
      "\u001b[34mDownloading (…)00002-of-00003.bin\";:  76%|███████▌  | 7.53G/9.93G [00:55<00:18, 131MB/s]#033[A\u001b[0m\n",
      "\u001b[34mDownloading (…)00002-of-00003.bin\";:  76%|███████▌  | 7.55G/9.93G [00:56<00:18, 130MB/s]#033[A\u001b[0m\n",
      "\u001b[34mDownloading (…)00002-of-00003.bin\";:  76%|███████▋  | 7.57G/9.93G [00:56<00:16, 144MB/s]#033[A\u001b[0m\n",
      "\u001b[34mDownloading (…)00002-of-00003.bin\";:  76%|███████▋  | 7.59G/9.93G [00:56<00:17, 132MB/s]#033[A\u001b[0m\n",
      "\u001b[34mDownloading (…)00002-of-00003.bin\";:  77%|███████▋  | 7.61G/9.93G [00:56<00:17, 129MB/s]#033[A\u001b[0m\n",
      "\u001b[34mDownloading (…)00002-of-00003.bin\";:  77%|███████▋  | 7.63G/9.93G [00:56<00:16, 143MB/s]#033[A\u001b[0m\n",
      "\u001b[34mDownloading (…)00002-of-00003.bin\";:  77%|███████▋  | 7.65G/9.93G [00:56<00:17, 131MB/s]#033[A\u001b[0m\n",
      "\u001b[34mDownloading (…)00002-of-00003.bin\";:  77%|███████▋  | 7.68G/9.93G [00:56<00:16, 133MB/s]#033[A\u001b[0m\n",
      "\u001b[34mDownloading (…)00002-of-00003.bin\";:  78%|███████▊  | 7.71G/9.93G [00:57<00:15, 148MB/s]#033[A\u001b[0m\n",
      "\u001b[34mDownloading (…)00002-of-00003.bin\";:  78%|███████▊  | 7.73G/9.93G [00:57<00:15, 139MB/s]#033[A\u001b[0m\n",
      "\u001b[34mDownloading (…)00002-of-00003.bin\";:  78%|███████▊  | 7.75G/9.93G [00:57<00:16, 129MB/s]#033[A\u001b[0m\n",
      "\u001b[34mDownloading (…)00002-of-00003.bin\";:  78%|███████▊  | 7.77G/9.93G [00:57<00:15, 141MB/s]#033[A\u001b[0m\n",
      "\u001b[34mDownloading (…)00002-of-00003.bin\";:  78%|███████▊  | 7.79G/9.93G [00:57<00:16, 131MB/s]#033[A\u001b[0m\n",
      "\u001b[34mDownloading (…)00002-of-00003.bin\";:  79%|███████▊  | 7.81G/9.93G [00:58<00:16, 127MB/s]#033[A\u001b[0m\n",
      "\u001b[34mDownloading (…)00002-of-00003.bin\";:  79%|███████▉  | 7.84G/9.93G [00:58<00:14, 143MB/s]#033[A\u001b[0m\n",
      "\u001b[34mDownloading (…)00002-of-00003.bin\";:  79%|███████▉  | 7.86G/9.93G [00:58<00:15, 135MB/s]#033[A\u001b[0m\n",
      "\u001b[34mDownloading (…)00002-of-00003.bin\";:  79%|███████▉  | 7.89G/9.93G [00:58<00:15, 131MB/s]#033[A\u001b[0m\n",
      "\u001b[34mDownloading (…)00002-of-00003.bin\";:  80%|███████▉  | 7.91G/9.93G [00:58<00:14, 139MB/s]#033[A\u001b[0m\n",
      "\u001b[34mDownloading (…)00002-of-00003.bin\";:  80%|███████▉  | 7.93G/9.93G [00:58<00:15, 133MB/s]#033[A\u001b[0m\n",
      "\u001b[34mDownloading (…)00002-of-00003.bin\";:  80%|████████  | 7.95G/9.93G [00:59<00:15, 125MB/s]#033[A\u001b[0m\n",
      "\u001b[34mDownloading (…)00002-of-00003.bin\";:  80%|████████  | 7.98G/9.93G [00:59<00:14, 138MB/s]#033[A\u001b[0m\n",
      "\u001b[34mDownloading (…)00002-of-00003.bin\";:  81%|████████  | 8.00G/9.93G [00:59<00:14, 129MB/s]#033[A\u001b[0m\n",
      "\u001b[34mDownloading (…)00002-of-00003.bin\";:  81%|████████  | 8.02G/9.93G [00:59<00:14, 133MB/s]#033[A\u001b[0m\n",
      "\u001b[34mDownloading (…)00002-of-00003.bin\";:  81%|████████  | 8.04G/9.93G [00:59<00:12, 146MB/s]#033[A\u001b[0m\n",
      "\u001b[34mDownloading (…)00002-of-00003.bin\";:  81%|████████  | 8.06G/9.93G [00:59<00:13, 133MB/s]#033[A\u001b[0m\n",
      "\u001b[34mDownloading (…)00002-of-00003.bin\";:  81%|████████▏ | 8.08G/9.93G [01:00<00:14, 130MB/s]#033[A\u001b[0m\n",
      "\u001b[34mDownloading (…)00002-of-00003.bin\";:  82%|████████▏ | 8.11G/9.93G [01:00<00:12, 143MB/s]#033[A\u001b[0m\n",
      "\u001b[34mDownloading (…)00002-of-00003.bin\";:  82%|████████▏ | 8.13G/9.93G [01:00<00:13, 132MB/s]#033[A\u001b[0m\n",
      "\u001b[34mDownloading (…)00002-of-00003.bin\";:  82%|████████▏ | 8.15G/9.93G [01:00<00:14, 127MB/s]#033[A\u001b[0m\n",
      "\u001b[34mDownloading (…)00002-of-00003.bin\";:  82%|████████▏ | 8.18G/9.93G [01:00<00:12, 141MB/s]#033[A\u001b[0m\n",
      "\u001b[34mDownloading (…)00002-of-00003.bin\";:  83%|████████▎ | 8.20G/9.93G [01:00<00:12, 133MB/s]#033[A\u001b[0m\n",
      "\u001b[34mDownloading (…)00002-of-00003.bin\";:  83%|████████▎ | 8.22G/9.93G [01:01<00:13, 131MB/s]#033[A\u001b[0m\n",
      "\u001b[34mDownloading (…)00002-of-00003.bin\";:  83%|████████▎ | 8.24G/9.93G [01:01<00:11, 144MB/s]#033[A\u001b[0m\n",
      "\u001b[34mDownloading (…)00002-of-00003.bin\";:  83%|████████▎ | 8.26G/9.93G [01:01<00:14, 112MB/s]#033[A\u001b[0m\n",
      "\u001b[34mDownloading (…)00002-of-00003.bin\";:  84%|████████▎ | 8.29G/9.93G [01:01<00:11, 140MB/s]#033[A\u001b[0m\n",
      "\u001b[34mDownloading (…)00002-of-00003.bin\";:  84%|████████▍ | 8.32G/9.93G [01:01<00:11, 142MB/s]#033[A\u001b[0m\n",
      "\u001b[34mDownloading (…)00002-of-00003.bin\";:  84%|████████▍ | 8.34G/9.93G [01:01<00:12, 131MB/s]#033[A\u001b[0m\n",
      "\u001b[34mDownloading (…)00002-of-00003.bin\";:  84%|████████▍ | 8.36G/9.93G [01:02<00:11, 136MB/s]#033[A\u001b[0m\n",
      "\u001b[34mDownloading (…)00002-of-00003.bin\";:  84%|████████▍ | 8.38G/9.93G [01:02<00:10, 145MB/s]#033[A\u001b[0m\n",
      "\u001b[34mDownloading (…)00002-of-00003.bin\";:  85%|████████▍ | 8.40G/9.93G [01:02<00:11, 132MB/s]#033[A\u001b[0m\n",
      "\u001b[34mDownloading (…)00002-of-00003.bin\";:  85%|████████▍ | 8.42G/9.93G [01:02<00:11, 129MB/s]#033[A\u001b[0m\n",
      "\u001b[34mDownloading (…)00002-of-00003.bin\";:  85%|████████▌ | 8.44G/9.93G [01:02<00:10, 143MB/s]#033[A\u001b[0m\n",
      "\u001b[34mDownloading (…)00002-of-00003.bin\";:  85%|████████▌ | 8.46G/9.93G [01:02<00:11, 132MB/s]#033[A\u001b[0m\n",
      "\u001b[34mDownloading (…)00002-of-00003.bin\";:  85%|████████▌ | 8.48G/9.93G [01:03<00:11, 127MB/s]#033[A\u001b[0m\n",
      "\u001b[34mDownloading (…)00002-of-00003.bin\";:  86%|████████▌ | 8.51G/9.93G [01:03<00:10, 141MB/s]#033[A\u001b[0m\n",
      "\u001b[34mDownloading (…)00002-of-00003.bin\";:  86%|████████▌ | 8.54G/9.93G [01:03<00:10, 134MB/s]#033[A\u001b[0m\n",
      "\u001b[34mDownloading (…)00002-of-00003.bin\";:  86%|████████▌ | 8.56G/9.93G [01:03<00:10, 129MB/s]#033[A\u001b[0m\n",
      "\u001b[34mDownloading (…)00002-of-00003.bin\";:  86%|████████▋ | 8.58G/9.93G [01:03<00:09, 142MB/s]#033[A\u001b[0m\n",
      "\u001b[34mDownloading (…)00002-of-00003.bin\";:  87%|████████▋ | 8.60G/9.93G [01:03<00:10, 131MB/s]#033[A\u001b[0m\n",
      "\u001b[34mDownloading (…)00002-of-00003.bin\";:  87%|████████▋ | 8.62G/9.93G [01:04<00:10, 128MB/s]#033[A\u001b[0m\n",
      "\u001b[34mDownloading (…)00002-of-00003.bin\";:  87%|████████▋ | 8.64G/9.93G [01:04<00:08, 144MB/s]#033[A\u001b[0m\n",
      "\u001b[34mDownloading (…)00002-of-00003.bin\";:  87%|████████▋ | 8.66G/9.93G [01:04<00:09, 132MB/s]#033[A\u001b[0m\n",
      "\u001b[34mDownloading (…)00002-of-00003.bin\";:  87%|████████▋ | 8.68G/9.93G [01:04<00:09, 128MB/s]#033[A\u001b[0m\n",
      "\u001b[34mDownloading (…)00002-of-00003.bin\";:  88%|████████▊ | 8.70G/9.93G [01:04<00:08, 140MB/s]#033[A\u001b[0m\n",
      "\u001b[34mDownloading (…)00002-of-00003.bin\";:  88%|████████▊ | 8.72G/9.93G [01:04<00:08, 134MB/s]#033[A\u001b[0m\n",
      "\u001b[34mDownloading (…)00002-of-00003.bin\";:  88%|████████▊ | 8.75G/9.93G [01:04<00:09, 129MB/s]#033[A\u001b[0m\n",
      "\u001b[34mDownloading (…)00002-of-00003.bin\";:  88%|████████▊ | 8.77G/9.93G [01:05<00:08, 136MB/s]#033[A\u001b[0m\n",
      "\u001b[34mDownloading (…)00002-of-00003.bin\";:  89%|████████▊ | 8.79G/9.93G [01:05<00:08, 139MB/s]#033[A\u001b[0m\n",
      "\u001b[34mDownloading (…)00002-of-00003.bin\";:  89%|████████▊ | 8.81G/9.93G [01:05<00:08, 129MB/s]#033[A\u001b[0m\n",
      "\u001b[34mDownloading (…)00002-of-00003.bin\";:  89%|████████▉ | 8.83G/9.93G [01:05<00:08, 135MB/s]#033[A\u001b[0m\n",
      "\u001b[34mDownloading (…)00002-of-00003.bin\";:  89%|████████▉ | 8.85G/9.93G [01:05<00:07, 140MB/s]#033[A\u001b[0m\n",
      "\u001b[34mDownloading (…)00002-of-00003.bin\";:  89%|████████▉ | 8.87G/9.93G [01:05<00:08, 129MB/s]#033[A\u001b[0m\n",
      "\u001b[34mDownloading (…)00002-of-00003.bin\";:  90%|████████▉ | 8.89G/9.93G [01:06<00:07, 131MB/s]#033[A\u001b[0m\n",
      "\u001b[34mDownloading (…)00002-of-00003.bin\";:  90%|████████▉ | 8.91G/9.93G [01:06<00:06, 145MB/s]#033[A\u001b[0m\n",
      "\u001b[34mDownloading (…)00002-of-00003.bin\";:  90%|█████████ | 8.93G/9.93G [01:06<00:07, 132MB/s]#033[A\u001b[0m\n",
      "\u001b[34mDownloading (…)00002-of-00003.bin\";:  90%|█████████ | 8.95G/9.93G [01:06<00:07, 128MB/s]#033[A\u001b[0m\n",
      "\u001b[34mDownloading (…)00002-of-00003.bin\";:  90%|█████████ | 8.98G/9.93G [01:06<00:06, 144MB/s]#033[A\u001b[0m\n",
      "\u001b[34mDownloading (…)00002-of-00003.bin\";:  91%|█████████ | 9.00G/9.93G [01:06<00:06, 133MB/s]#033[A\u001b[0m\n",
      "\u001b[34mDownloading (…)00002-of-00003.bin\";:  91%|█████████ | 9.02G/9.93G [01:06<00:07, 128MB/s]#033[A\u001b[0m\n",
      "\u001b[34mDownloading (…)00002-of-00003.bin\";:  91%|█████████ | 9.04G/9.93G [01:07<00:06, 141MB/s]#033[A\u001b[0m\n",
      "\u001b[34mDownloading (…)00002-of-00003.bin\";:  91%|█████████▏| 9.06G/9.93G [01:07<00:06, 133MB/s]#033[A\u001b[0m\n",
      "\u001b[34mDownloading (…)00002-of-00003.bin\";:  91%|█████████▏| 9.08G/9.93G [01:07<00:06, 128MB/s]#033[A\u001b[0m\n",
      "\u001b[34mDownloading (…)00002-of-00003.bin\";:  92%|█████████▏| 9.10G/9.93G [01:07<00:06, 136MB/s]#033[A\u001b[0m\n",
      "\u001b[34mDownloading (…)00002-of-00003.bin\";:  92%|█████████▏| 9.12G/9.93G [01:07<00:05, 138MB/s]#033[A\u001b[0m\n",
      "\u001b[34mDownloading (…)00002-of-00003.bin\";:  92%|█████████▏| 9.14G/9.93G [01:07<00:06, 128MB/s]#033[A\u001b[0m\n",
      "\u001b[34mDownloading (…)00002-of-00003.bin\";:  92%|█████████▏| 9.16G/9.93G [01:08<00:05, 132MB/s]#033[A\u001b[0m\n",
      "\u001b[34mDownloading (…)00002-of-00003.bin\";:  93%|█████████▎| 9.19G/9.93G [01:08<00:05, 131MB/s]#033[A\u001b[0m\n",
      "\u001b[34mDownloading (…)00002-of-00003.bin\";:  93%|█████████▎| 9.21G/9.93G [01:08<00:05, 124MB/s]#033[A\u001b[0m\n",
      "\u001b[34mDownloading (…)00002-of-00003.bin\";:  93%|█████████▎| 9.23G/9.93G [01:08<00:05, 118MB/s]#033[A\u001b[0m\n",
      "\u001b[34mDownloading (…)00002-of-00003.bin\";:  93%|█████████▎| 9.25G/9.93G [01:08<00:05, 119MB/s]#033[A\u001b[0m\n",
      "\u001b[34mDownloading (…)00002-of-00003.bin\";:  93%|█████████▎| 9.27G/9.93G [01:08<00:05, 116MB/s]#033[A\u001b[0m\n",
      "\u001b[34mDownloading (…)00002-of-00003.bin\";:  94%|█████████▎| 9.29G/9.93G [01:09<00:05, 117MB/s]#033[A\u001b[0m\n",
      "\u001b[34mDownloading (…)00002-of-00003.bin\";:  94%|█████████▍| 9.31G/9.93G [01:09<00:05, 114MB/s]#033[A\u001b[0m\n",
      "\u001b[34mDownloading (…)00002-of-00003.bin\";:  94%|█████████▍| 9.33G/9.93G [01:09<00:05, 113MB/s]#033[A\u001b[0m\n",
      "\u001b[34mDownloading (…)00002-of-00003.bin\";:  94%|█████████▍| 9.35G/9.93G [01:09<00:05, 112MB/s]#033[A\u001b[0m\n",
      "\u001b[34mDownloading (…)00002-of-00003.bin\";:  94%|█████████▍| 9.37G/9.93G [01:09<00:04, 114MB/s]#033[A\u001b[0m\n",
      "\u001b[34mDownloading (…)00002-of-00003.bin\";:  95%|█████████▍| 9.40G/9.93G [01:10<00:04, 113MB/s]#033[A\u001b[0m\n",
      "\u001b[34mDownloading (…)00002-of-00003.bin\";:  95%|█████████▍| 9.42G/9.93G [01:10<00:04, 112MB/s]#033[A\u001b[0m\n",
      "\u001b[34mDownloading (…)00002-of-00003.bin\";:  95%|█████████▌| 9.44G/9.93G [01:10<00:04, 114MB/s]#033[A\u001b[0m\n",
      "\u001b[34mDownloading (…)00002-of-00003.bin\";:  95%|█████████▌| 9.46G/9.93G [01:10<00:04, 112MB/s]#033[A\u001b[0m\n",
      "\u001b[34mDownloading (…)00002-of-00003.bin\";:  95%|█████████▌| 9.48G/9.93G [01:10<00:04, 111MB/s]#033[A\u001b[0m\n",
      "\u001b[34mDownloading (…)00002-of-00003.bin\";:  96%|█████████▌| 9.50G/9.93G [01:11<00:03, 114MB/s]#033[A\u001b[0m\n",
      "\u001b[34mDownloading (…)00002-of-00003.bin\";:  96%|█████████▌| 9.52G/9.93G [01:11<00:03, 127MB/s]#033[A\u001b[0m\n",
      "\u001b[34mDownloading (…)00002-of-00003.bin\";:  96%|█████████▌| 9.54G/9.93G [01:11<00:03, 124MB/s]#033[A\u001b[0m\n",
      "\u001b[34mDownloading (…)00002-of-00003.bin\";:  96%|█████████▋| 9.56G/9.93G [01:11<00:03, 97.8MB/s]#033[A\u001b[0m\n",
      "\u001b[34mDownloading (…)00002-of-00003.bin\";:  97%|█████████▋| 9.62G/9.93G [01:11<00:02, 149MB/s] #033[A\u001b[0m\n",
      "\u001b[34mDownloading (…)00002-of-00003.bin\";:  97%|█████████▋| 9.64G/9.93G [01:12<00:02, 141MB/s]#033[A\u001b[0m\n",
      "\u001b[34mDownloading (…)00002-of-00003.bin\";:  97%|█████████▋| 9.66G/9.93G [01:12<00:01, 152MB/s]#033[A\u001b[0m\n",
      "\u001b[34mDownloading (…)00002-of-00003.bin\";:  98%|█████████▊| 9.68G/9.93G [01:12<00:01, 146MB/s]#033[A\u001b[0m\n",
      "\u001b[34mDownloading (…)00002-of-00003.bin\";:  98%|█████████▊| 9.70G/9.93G [01:12<00:01, 134MB/s]#033[A\u001b[0m\n",
      "\u001b[34mDownloading (…)00002-of-00003.bin\";:  98%|█████████▊| 9.72G/9.93G [01:12<00:01, 144MB/s]#033[A\u001b[0m\n",
      "\u001b[34mDownloading (…)00002-of-00003.bin\";:  98%|█████████▊| 9.74G/9.93G [01:12<00:01, 154MB/s]#033[A\u001b[0m\n",
      "\u001b[34mDownloading (…)00002-of-00003.bin\";:  98%|█████████▊| 9.76G/9.93G [01:12<00:01, 138MB/s]#033[A\u001b[0m\n",
      "\u001b[34mDownloading (…)00002-of-00003.bin\";:  99%|█████████▊| 9.78G/9.93G [01:13<00:01, 136MB/s]#033[A\u001b[0m\n",
      "\u001b[34mDownloading (…)00002-of-00003.bin\";:  99%|█████████▉| 9.81G/9.93G [01:13<00:00, 153MB/s]#033[A\u001b[0m\n",
      "\u001b[34mDownloading (…)00002-of-00003.bin\";:  99%|█████████▉| 9.84G/9.93G [01:13<00:00, 138MB/s]#033[A\u001b[0m\n",
      "\u001b[34mDownloading (…)00002-of-00003.bin\";:  99%|█████████▉| 9.86G/9.93G [01:13<00:00, 141MB/s]#033[A\u001b[0m\n",
      "\u001b[34mDownloading (…)00002-of-00003.bin\";: 100%|█████████▉| 9.89G/9.93G [01:13<00:00, 154MB/s]#033[A\u001b[0m\n",
      "\u001b[34mDownloading (…)00002-of-00003.bin\";: 100%|█████████▉| 9.91G/9.93G [01:13<00:00, 140MB/s]#033[A\u001b[0m\n",
      "\u001b[34mDownloading (…)00002-of-00003.bin\";: 100%|██████████| 9.93G/9.93G [01:14<00:00, 135MB/s]#033[A\u001b[0m\n",
      "\u001b[34mDownloading (…)00002-of-00003.bin\";: 100%|██████████| 9.93G/9.93G [01:14<00:00, 134MB/s]\u001b[0m\n",
      "\u001b[34mDownloading shards:  67%|██████▋   | 2/3 [01:57<01:01, 61.26s/it]\u001b[0m\n",
      "\u001b[34mDownloading (…)00003-of-00003.bin\";:   0%|          | 0.00/6.01G [00:00<?, ?B/s]#033[A\u001b[0m\n",
      "\u001b[34mDownloading (…)00003-of-00003.bin\";:   1%|          | 41.9M/6.01G [00:00<00:18, 315MB/s]#033[A\u001b[0m\n",
      "\u001b[34mDownloading (…)00003-of-00003.bin\";:   1%|▏         | 83.9M/6.01G [00:00<00:28, 209MB/s]#033[A\u001b[0m\n",
      "\u001b[34mDownloading (…)00003-of-00003.bin\";:   2%|▏         | 115M/6.01G [00:00<00:35, 167MB/s] #033[A\u001b[0m\n",
      "\u001b[34mDownloading (…)00003-of-00003.bin\";:   2%|▏         | 136M/6.01G [00:00<00:38, 151MB/s]#033[A\u001b[0m\n",
      "\u001b[34mDownloading (…)00003-of-00003.bin\";:   3%|▎         | 168M/6.01G [00:00<00:35, 165MB/s]#033[A\u001b[0m\n",
      "\u001b[34mDownloading (…)00003-of-00003.bin\";:   3%|▎         | 189M/6.01G [00:01<00:38, 150MB/s]#033[A\u001b[0m\n",
      "\u001b[34mDownloading (…)00003-of-00003.bin\";:   3%|▎         | 210M/6.01G [00:01<00:42, 137MB/s]#033[A\u001b[0m\n",
      "\u001b[34mDownloading (…)00003-of-00003.bin\";:   4%|▍         | 241M/6.01G [00:01<00:37, 153MB/s]#033[A\u001b[0m\n",
      "\u001b[34mDownloading (…)00003-of-00003.bin\";:   4%|▍         | 262M/6.01G [00:01<00:40, 142MB/s]#033[A\u001b[0m\n",
      "\u001b[34mDownloading (…)00003-of-00003.bin\";:   5%|▍         | 283M/6.01G [00:01<00:41, 138MB/s]#033[A\u001b[0m\n",
      "\u001b[34mDownloading (…)00003-of-00003.bin\";:   5%|▌         | 304M/6.01G [00:01<00:37, 152MB/s]#033[A\u001b[0m\n",
      "\u001b[34mDownloading (…)00003-of-00003.bin\";:   5%|▌         | 325M/6.01G [00:02<00:40, 141MB/s]\u001b[0m\n",
      "\u001b[34m#033[A\u001b[0m\n",
      "\u001b[34mDownloading (…)00003-of-00003.bin\";:   6%|▌         | 346M/6.01G [00:02<00:43, 130MB/s]#033[A\u001b[0m\n",
      "\u001b[34mDownloading (…)00003-of-00003.bin\";:   6%|▌         | 367M/6.01G [00:02<00:38, 146MB/s]#033[A\u001b[0m\n",
      "\u001b[34mDownloading (…)00003-of-00003.bin\";:   6%|▋         | 388M/6.01G [00:02<00:39, 142MB/s]#033[A\u001b[0m\n",
      "\u001b[34mDownloading (…)00003-of-00003.bin\";:   7%|▋         | 409M/6.01G [00:02<00:41, 134MB/s]#033[A\u001b[0m\n",
      "\u001b[34mDownloading (…)00003-of-00003.bin\";:   7%|▋         | 430M/6.01G [00:02<00:39, 140MB/s]#033[A\u001b[0m\n",
      "\u001b[34mDownloading (…)00003-of-00003.bin\";:   8%|▊         | 451M/6.01G [00:03<00:38, 143MB/s]#033[A\u001b[0m\n",
      "\u001b[34mDownloading (…)00003-of-00003.bin\";:   8%|▊         | 472M/6.01G [00:03<00:42, 131MB/s]#033[A\u001b[0m\n",
      "\u001b[34mDownloading (…)00003-of-00003.bin\";:   8%|▊         | 493M/6.01G [00:03<00:40, 136MB/s]#033[A\u001b[0m\n",
      "\u001b[34mDownloading (…)00003-of-00003.bin\";:   9%|▊         | 514M/6.01G [00:03<00:36, 149MB/s]#033[A\u001b[0m\n",
      "\u001b[34mDownloading (…)00003-of-00003.bin\";:   9%|▉         | 535M/6.01G [00:03<00:40, 135MB/s]#033[A\u001b[0m\n",
      "\u001b[34mDownloading (…)00003-of-00003.bin\";:   9%|▉         | 556M/6.01G [00:03<00:41, 130MB/s]#033[A\u001b[0m\n",
      "\u001b[34mDownloading (…)00003-of-00003.bin\";:  10%|▉         | 577M/6.01G [00:03<00:37, 146MB/s]#033[A\u001b[0m\n",
      "\u001b[34mDownloading (…)00003-of-00003.bin\";:  10%|▉         | 598M/6.01G [00:04<00:38, 142MB/s]#033[A\u001b[0m\n",
      "\u001b[34mDownloading (…)00003-of-00003.bin\";:  10%|█         | 619M/6.01G [00:04<00:41, 129MB/s]#033[A\u001b[0m\n",
      "\u001b[34mDownloading (…)00003-of-00003.bin\";:  11%|█         | 640M/6.01G [00:04<00:36, 145MB/s]#033[A\u001b[0m\n",
      "\u001b[34mDownloading (…)00003-of-00003.bin\";:  11%|█         | 661M/6.01G [00:04<00:35, 149MB/s]#033[A\u001b[0m\n",
      "\u001b[34mDownloading (…)00003-of-00003.bin\";:  11%|█▏        | 682M/6.01G [00:04<00:39, 135MB/s]#033[A\u001b[0m\n",
      "\u001b[34mDownloading (…)00003-of-00003.bin\";:  12%|█▏        | 703M/6.01G [00:04<00:40, 132MB/s]#033[A\u001b[0m\n",
      "\u001b[34mDownloading (…)00003-of-00003.bin\";:  12%|█▏        | 724M/6.01G [00:04<00:35, 148MB/s]#033[A\u001b[0m\n",
      "\u001b[34mDownloading (…)00003-of-00003.bin\";:  12%|█▏        | 744M/6.01G [00:05<00:38, 138MB/s]#033[A\u001b[0m\n",
      "\u001b[34mDownloading (…)00003-of-00003.bin\";:  13%|█▎        | 765M/6.01G [00:05<00:39, 133MB/s]#033[A\u001b[0m\n",
      "\u001b[34mDownloading (…)00003-of-00003.bin\";:  13%|█▎        | 786M/6.01G [00:05<00:35, 147MB/s]#033[A\u001b[0m\n",
      "\u001b[34mDownloading (…)00003-of-00003.bin\";:  13%|█▎        | 807M/6.01G [00:05<00:37, 137MB/s]#033[A\u001b[0m\n",
      "\u001b[34mDownloading (…)00003-of-00003.bin\";:  14%|█▍        | 828M/6.01G [00:05<00:40, 127MB/s]#033[A\u001b[0m\n",
      "\u001b[34mDownloading (…)00003-of-00003.bin\";:  14%|█▍        | 860M/6.01G [00:05<00:35, 143MB/s]#033[A\u001b[0m\n",
      "\u001b[34mDownloading (…)00003-of-00003.bin\";:  15%|█▍        | 881M/6.01G [00:06<00:38, 132MB/s]#033[A\u001b[0m\n",
      "\u001b[34mDownloading (…)00003-of-00003.bin\";:  15%|█▌        | 902M/6.01G [00:06<00:38, 132MB/s]#033[A\u001b[0m\n",
      "\u001b[34mDownloading (…)00003-of-00003.bin\";:  15%|█▌        | 923M/6.01G [00:06<00:35, 143MB/s]#033[A\u001b[0m\n",
      "\u001b[34mDownloading (…)00003-of-00003.bin\";:  16%|█▌        | 944M/6.01G [00:06<00:33, 152MB/s]#033[A\u001b[0m\n",
      "\u001b[34mDownloading (…)00003-of-00003.bin\";:  16%|█▌        | 965M/6.01G [00:06<00:36, 137MB/s]#033[A\u001b[0m\n",
      "\u001b[34mDownloading (…)00003-of-00003.bin\";:  16%|█▋        | 986M/6.01G [00:06<00:39, 128MB/s]#033[A\u001b[0m\n",
      "\u001b[34mDownloading (…)00003-of-00003.bin\";:  17%|█▋        | 1.01G/6.01G [00:07<00:34, 144MB/s]#033[A\u001b[0m\n",
      "\u001b[34mDownloading (…)00003-of-00003.bin\";:  17%|█▋        | 1.03G/6.01G [00:07<00:36, 135MB/s]#033[A\u001b[0m\n",
      "\u001b[34mDownloading (…)00003-of-00003.bin\";:  17%|█▋        | 1.05G/6.01G [00:07<00:39, 126MB/s]#033[A\u001b[0m\n",
      "\u001b[34mDownloading (…)00003-of-00003.bin\";:  18%|█▊        | 1.07G/6.01G [00:07<00:36, 137MB/s]\u001b[0m\n",
      "\u001b[34m#033[A\u001b[0m\n",
      "\u001b[34mDownloading (…)00003-of-00003.bin\";:  18%|█▊        | 1.09G/6.01G [00:07<00:36, 136MB/s]#033[A\u001b[0m\n",
      "\u001b[34mDownloading (…)00003-of-00003.bin\";:  19%|█▊        | 1.11G/6.01G [00:07<00:37, 130MB/s]#033[A\u001b[0m\n",
      "\u001b[34mDownloading (…)00003-of-00003.bin\";:  19%|█▉        | 1.13G/6.01G [00:08<00:36, 135MB/s]#033[A\u001b[0m\n",
      "\u001b[34mDownloading (…)00003-of-00003.bin\";:  19%|█▉        | 1.15G/6.01G [00:08<00:34, 140MB/s]\u001b[0m\n",
      "\u001b[34m#033[A\u001b[0m\n",
      "\u001b[34mDownloading (…)00003-of-00003.bin\";:  20%|█▉        | 1.17G/6.01G [00:08<00:37, 129MB/s]#033[A\u001b[0m\n",
      "\u001b[34mDownloading (…)00003-of-00003.bin\";:  20%|█▉        | 1.20G/6.01G [00:08<00:36, 131MB/s]#033[A\u001b[0m\n",
      "\u001b[34mDownloading (…)00003-of-00003.bin\";:  20%|██        | 1.22G/6.01G [00:08<00:33, 141MB/s]#033[A\u001b[0m\n",
      "\u001b[34mDownloading (…)00003-of-00003.bin\";:  21%|██        | 1.24G/6.01G [00:08<00:35, 132MB/s]#033[A\u001b[0m\n",
      "\u001b[34mDownloading (…)00003-of-00003.bin\";:  21%|██        | 1.26G/6.01G [00:08<00:37, 126MB/s]#033[A\u001b[0m\n",
      "\u001b[34mDownloading (…)00003-of-00003.bin\";:  21%|██▏       | 1.29G/6.01G [00:09<00:33, 142MB/s]#033[A\u001b[0m\n",
      "\u001b[34mDownloading (…)00003-of-00003.bin\";:  22%|██▏       | 1.31G/6.01G [00:09<00:35, 131MB/s]#033[A\u001b[0m\n",
      "\u001b[34mDownloading (…)00003-of-00003.bin\";:  22%|██▏       | 1.33G/6.01G [00:09<00:34, 135MB/s]#033[A\u001b[0m\n",
      "\u001b[34mDownloading (…)00003-of-00003.bin\";:  23%|██▎       | 1.35G/6.01G [00:09<00:31, 146MB/s]#033[A\u001b[0m\n",
      "\u001b[34mDownloading (…)00003-of-00003.bin\";:  23%|██▎       | 1.37G/6.01G [00:09<00:33, 137MB/s]\u001b[0m\n",
      "\u001b[34m#033[A\u001b[0m\n",
      "\u001b[34mDownloading (…)00003-of-00003.bin\";:  23%|██▎       | 1.39G/6.01G [00:09<00:35, 128MB/s]#033[A\u001b[0m\n",
      "\u001b[34mDownloading (…)00003-of-00003.bin\";:  24%|██▎       | 1.43G/6.01G [00:10<00:32, 141MB/s]#033[A\u001b[0m\n",
      "\u001b[34mDownloading (…)00003-of-00003.bin\";:  24%|██▍       | 1.45G/6.01G [00:10<00:34, 131MB/s]#033[A\u001b[0m\n",
      "\u001b[34mDownloading (…)00003-of-00003.bin\";:  24%|██▍       | 1.47G/6.01G [00:10<00:33, 136MB/s]#033[A\u001b[0m\n",
      "\u001b[34mDownloading (…)00003-of-00003.bin\";:  25%|██▍       | 1.49G/6.01G [00:10<00:31, 144MB/s]#033[A\u001b[0m\n",
      "\u001b[34mDownloading (…)00003-of-00003.bin\";:  25%|██▌       | 1.51G/6.01G [00:10<00:34, 132MB/s]#033[A\u001b[0m\n",
      "\u001b[34mDownloading (…)00003-of-00003.bin\";:  25%|██▌       | 1.53G/6.01G [00:10<00:34, 128MB/s]#033[A\u001b[0m\n",
      "\u001b[34mDownloading (…)00003-of-00003.bin\";:  26%|██▌       | 1.55G/6.01G [00:11<00:31, 139MB/s]#033[A\u001b[0m\n",
      "\u001b[34mDownloading (…)00003-of-00003.bin\";:  26%|██▌       | 1.57G/6.01G [00:11<00:33, 132MB/s]#033[A\u001b[0m\n",
      "\u001b[34mDownloading (…)00003-of-00003.bin\";:  27%|██▋       | 1.59G/6.01G [00:11<00:35, 125MB/s]#033[A\u001b[0m\n",
      "\u001b[34mDownloading (…)00003-of-00003.bin\";:  27%|██▋       | 1.63G/6.01G [00:11<00:31, 138MB/s]#033[A\u001b[0m\n",
      "\u001b[34mDownloading (…)00003-of-00003.bin\";:  27%|██▋       | 1.65G/6.01G [00:11<00:32, 132MB/s]#033[A\u001b[0m\n",
      "\u001b[34mDownloading (…)00003-of-00003.bin\";:  28%|██▊       | 1.67G/6.01G [00:11<00:33, 131MB/s]#033[A\u001b[0m\n",
      "\u001b[34mDownloading (…)00003-of-00003.bin\";:  28%|██▊       | 1.69G/6.01G [00:12<00:30, 143MB/s]#033[A\u001b[0m\n",
      "\u001b[34mDownloading (…)00003-of-00003.bin\";:  28%|██▊       | 1.71G/6.01G [00:12<00:32, 131MB/s]#033[A\u001b[0m\n",
      "\u001b[34mDownloading (…)00003-of-00003.bin\";:  29%|██▉       | 1.73G/6.01G [00:12<00:33, 128MB/s]#033[A\u001b[0m\n",
      "\u001b[34mDownloading (…)00003-of-00003.bin\";:  29%|██▉       | 1.75G/6.01G [00:12<00:29, 144MB/s]#033[A\u001b[0m\n",
      "\u001b[34mDownloading (…)00003-of-00003.bin\";:  30%|██▉       | 1.77G/6.01G [00:12<00:32, 132MB/s]#033[A\u001b[0m\n",
      "\u001b[34mDownloading (…)00003-of-00003.bin\";:  30%|██▉       | 1.79G/6.01G [00:12<00:32, 128MB/s]#033[A\u001b[0m\n",
      "\u001b[34mDownloading (…)00003-of-00003.bin\";:  30%|███       | 1.81G/6.01G [00:13<00:28, 145MB/s]#033[A\u001b[0m\n",
      "\u001b[34mDownloading (…)00003-of-00003.bin\";:  31%|███       | 1.84G/6.01G [00:13<00:29, 140MB/s]#033[A\u001b[0m\n",
      "\u001b[34mDownloading (…)00003-of-00003.bin\";:  31%|███       | 1.86G/6.01G [00:13<00:32, 129MB/s]#033[A\u001b[0m\n",
      "\u001b[34mDownloading (…)00003-of-00003.bin\";:  31%|███▏      | 1.88G/6.01G [00:13<00:29, 139MB/s]#033[A\u001b[0m\n",
      "\u001b[34mDownloading (…)00003-of-00003.bin\";:  32%|███▏      | 1.90G/6.01G [00:13<00:28, 143MB/s]#033[A\u001b[0m\n",
      "\u001b[34mDownloading (…)00003-of-00003.bin\";:  32%|███▏      | 1.92G/6.01G [00:13<00:31, 131MB/s]#033[A\u001b[0m\n",
      "\u001b[34mDownloading (…)00003-of-00003.bin\";:  32%|███▏      | 1.94G/6.01G [00:13<00:29, 137MB/s]#033[A\u001b[0m\n",
      "\u001b[34mDownloading (…)00003-of-00003.bin\";:  33%|███▎      | 1.96G/6.01G [00:14<00:28, 143MB/s]#033[A\u001b[0m\n",
      "\u001b[34mDownloading (…)00003-of-00003.bin\";:  33%|███▎      | 1.98G/6.01G [00:14<00:30, 131MB/s]#033[A\u001b[0m\n",
      "\u001b[34mDownloading (…)00003-of-00003.bin\";:  33%|███▎      | 2.00G/6.01G [00:14<00:31, 128MB/s]#033[A\u001b[0m\n",
      "\u001b[34mDownloading (…)00003-of-00003.bin\";:  34%|███▎      | 2.02G/6.01G [00:14<00:28, 140MB/s]#033[A\u001b[0m\n",
      "\u001b[34mDownloading (…)00003-of-00003.bin\";:  34%|███▍      | 2.04G/6.01G [00:14<00:29, 133MB/s]#033[A\u001b[0m\n",
      "\u001b[34mDownloading (…)00003-of-00003.bin\";:  34%|███▍      | 2.07G/6.01G [00:15<00:38, 101MB/s]#033[A\u001b[0m\n",
      "\u001b[34mDownloading (…)00003-of-00003.bin\";:  35%|███▌      | 2.11G/6.01G [00:15<00:25, 153MB/s]#033[A\u001b[0m\n",
      "\u001b[34mDownloading (…)00003-of-00003.bin\";:  35%|███▌      | 2.13G/6.01G [00:15<00:27, 142MB/s]#033[A\u001b[0m\n",
      "\u001b[34mDownloading (…)00003-of-00003.bin\";:  36%|███▌      | 2.15G/6.01G [00:15<00:26, 147MB/s]#033[A\u001b[0m\n",
      "\u001b[34mDownloading (…)00003-of-00003.bin\";:  36%|███▌      | 2.17G/6.01G [00:15<00:27, 138MB/s]#033[A\u001b[0m\n",
      "\u001b[34mDownloading (…)00003-of-00003.bin\";:  36%|███▋      | 2.19G/6.01G [00:15<00:29, 129MB/s]#033[A\u001b[0m\n",
      "\u001b[34mDownloading (…)00003-of-00003.bin\";:  37%|███▋      | 2.21G/6.01G [00:16<00:27, 136MB/s]#033[A\u001b[0m\n",
      "\u001b[34mDownloading (…)00003-of-00003.bin\";:  37%|███▋      | 2.23G/6.01G [00:16<00:27, 139MB/s]#033[A\u001b[0m\n",
      "\u001b[34mDownloading (…)00003-of-00003.bin\";:  38%|███▊      | 2.25G/6.01G [00:16<00:29, 129MB/s]#033[A\u001b[0m\n",
      "\u001b[34mDownloading (…)00003-of-00003.bin\";:  38%|███▊      | 2.28G/6.01G [00:16<00:27, 135MB/s]#033[A\u001b[0m\n",
      "\u001b[34mDownloading (…)00003-of-00003.bin\";:  38%|███▊      | 2.30G/6.01G [00:16<00:26, 139MB/s]#033[A\u001b[0m\n",
      "\u001b[34mDownloading (…)00003-of-00003.bin\";:  39%|███▊      | 2.32G/6.01G [00:16<00:27, 133MB/s]#033[A\u001b[0m\n",
      "\u001b[34mDownloading (…)00003-of-00003.bin\";:  39%|███▉      | 2.34G/6.01G [00:16<00:28, 130MB/s]#033[A\u001b[0m\n",
      "\u001b[34mDownloading (…)00003-of-00003.bin\";:  39%|███▉      | 2.36G/6.01G [00:17<00:25, 144MB/s]#033[A\u001b[0m\n",
      "\u001b[34mDownloading (…)00003-of-00003.bin\";:  40%|███▉      | 2.38G/6.01G [00:17<00:27, 131MB/s]#033[A\u001b[0m\n",
      "\u001b[34mDownloading (…)00003-of-00003.bin\";:  40%|███▉      | 2.40G/6.01G [00:17<00:29, 124MB/s]#033[A\u001b[0m\n",
      "\u001b[34mDownloading (…)00003-of-00003.bin\";:  41%|████      | 2.43G/6.01G [00:17<00:25, 139MB/s]#033[A\u001b[0m\n",
      "\u001b[34mDownloading (…)00003-of-00003.bin\";:  41%|████      | 2.45G/6.01G [00:17<00:26, 133MB/s]#033[A\u001b[0m\n",
      "\u001b[34mDownloading (…)00003-of-00003.bin\";:  41%|████      | 2.47G/6.01G [00:17<00:26, 132MB/s]#033[A\u001b[0m\n",
      "\u001b[34mDownloading (…)00003-of-00003.bin\";:  42%|████▏     | 2.50G/6.01G [00:18<00:24, 141MB/s]#033[A\u001b[0m\n",
      "\u001b[34mDownloading (…)00003-of-00003.bin\";:  42%|████▏     | 2.52G/6.01G [00:18<00:26, 134MB/s]#033[A\u001b[0m\n",
      "\u001b[34mDownloading (…)00003-of-00003.bin\";:  42%|████▏     | 2.54G/6.01G [00:18<00:24, 139MB/s]#033[A\u001b[0m\n",
      "\u001b[34mDownloading (…)00003-of-00003.bin\";:  43%|████▎     | 2.57G/6.01G [00:18<00:23, 147MB/s]#033[A\u001b[0m\n",
      "\u001b[34mDownloading (…)00003-of-00003.bin\";:  43%|████▎     | 2.59G/6.01G [00:18<00:25, 135MB/s]#033[A\u001b[0m\n",
      "\u001b[34mDownloading (…)00003-of-00003.bin\";:  43%|████▎     | 2.61G/6.01G [00:18<00:25, 132MB/s]#033[A\u001b[0m\n",
      "\u001b[34mDownloading (…)00003-of-00003.bin\";:  44%|████▍     | 2.63G/6.01G [00:19<00:24, 139MB/s]#033[A\u001b[0m\n",
      "\u001b[34mDownloading (…)00003-of-00003.bin\";:  44%|████▍     | 2.65G/6.01G [00:19<00:25, 129MB/s]#033[A\u001b[0m\n",
      "\u001b[34mDownloading (…)00003-of-00003.bin\";:  45%|████▍     | 2.67G/6.01G [00:19<00:26, 126MB/s]#033[A\u001b[0m\n",
      "\u001b[34mDownloading (…)00003-of-00003.bin\";:  45%|████▍     | 2.69G/6.01G [00:19<00:23, 142MB/s]#033[A\u001b[0m\n",
      "\u001b[34mDownloading (…)00003-of-00003.bin\";:  45%|████▌     | 2.72G/6.01G [00:19<00:25, 131MB/s]#033[A\u001b[0m\n",
      "\u001b[34mDownloading (…)00003-of-00003.bin\";:  46%|████▌     | 2.74G/6.01G [00:19<00:26, 124MB/s]#033[A\u001b[0m\n",
      "\u001b[34mDownloading (…)00003-of-00003.bin\";:  46%|████▌     | 2.77G/6.01G [00:20<00:23, 140MB/s]#033[A\u001b[0m\n",
      "\u001b[34mDownloading (…)00003-of-00003.bin\";:  46%|████▋     | 2.79G/6.01G [00:20<00:24, 133MB/s]#033[A\u001b[0m\n",
      "\u001b[34mDownloading (…)00003-of-00003.bin\";:  47%|████▋     | 2.81G/6.01G [00:20<00:24, 130MB/s]\u001b[0m\n",
      "\u001b[34m#033[A\u001b[0m\n",
      "\u001b[34mDownloading (…)00003-of-00003.bin\";:  47%|████▋     | 2.83G/6.01G [00:20<00:22, 139MB/s]#033[A\u001b[0m\n",
      "\u001b[34mDownloading (…)00003-of-00003.bin\";:  47%|████▋     | 2.85G/6.01G [00:20<00:24, 128MB/s]#033[A\u001b[0m\n",
      "\u001b[34mDownloading (…)00003-of-00003.bin\";:  48%|████▊     | 2.87G/6.01G [00:20<00:24, 127MB/s]#033[A\u001b[0m\n",
      "\u001b[34mDownloading (…)00003-of-00003.bin\";:  48%|████▊     | 2.89G/6.01G [00:21<00:21, 143MB/s]#033[A\u001b[0m\n",
      "\u001b[34mDownloading (…)00003-of-00003.bin\";:  49%|████▊     | 2.92G/6.01G [00:21<00:23, 131MB/s]#033[A\u001b[0m\n",
      "\u001b[34mDownloading (…)00003-of-00003.bin\";:  49%|████▉     | 2.94G/6.01G [00:21<00:24, 127MB/s]#033[A\u001b[0m\n",
      "\u001b[34mDownloading (…)00003-of-00003.bin\";:  49%|████▉     | 2.96G/6.01G [00:21<00:21, 143MB/s]#033[A\u001b[0m\n",
      "\u001b[34mDownloading (…)00003-of-00003.bin\";:  50%|████▉     | 2.98G/6.01G [00:21<00:22, 135MB/s]#033[A\u001b[0m\n",
      "\u001b[34mDownloading (…)00003-of-00003.bin\";:  50%|████▉     | 3.00G/6.01G [00:21<00:23, 129MB/s]#033[A\u001b[0m\n",
      "\u001b[34mDownloading (…)00003-of-00003.bin\";:  50%|█████     | 3.02G/6.01G [00:22<00:21, 137MB/s]#033[A\u001b[0m\n",
      "\u001b[34mDownloading (…)00003-of-00003.bin\";:  51%|█████     | 3.04G/6.01G [00:22<00:21, 140MB/s]#033[A\u001b[0m\n",
      "\u001b[34mDownloading (…)00003-of-00003.bin\";:  51%|█████     | 3.06G/6.01G [00:22<00:22, 129MB/s]#033[A\u001b[0m\n",
      "\u001b[34mDownloading (…)00003-of-00003.bin\";:  51%|█████▏    | 3.08G/6.01G [00:22<00:21, 135MB/s]\u001b[0m\n",
      "\u001b[34m#033[A\u001b[0m\n",
      "\u001b[34mDownloading (…)00003-of-00003.bin\";:  52%|█████▏    | 3.10G/6.01G [00:22<00:20, 139MB/s]#033[A\u001b[0m\n",
      "\u001b[34mDownloading (…)00003-of-00003.bin\";:  52%|█████▏    | 3.12G/6.01G [00:22<00:21, 132MB/s]#033[A\u001b[0m\n",
      "\u001b[34mDownloading (…)00003-of-00003.bin\";:  52%|█████▏    | 3.15G/6.01G [00:22<00:21, 131MB/s]#033[A\u001b[0m\n",
      "\u001b[34mDownloading (…)00003-of-00003.bin\";:  53%|█████▎    | 3.17G/6.01G [00:23<00:19, 144MB/s]#033[A\u001b[0m\n",
      "\u001b[34mDownloading (…)00003-of-00003.bin\";:  53%|█████▎    | 3.19G/6.01G [00:23<00:21, 130MB/s]#033[A\u001b[0m\n",
      "\u001b[34mDownloading (…)00003-of-00003.bin\";:  53%|█████▎    | 3.21G/6.01G [00:23<00:21, 128MB/s]#033[A\u001b[0m\n",
      "\u001b[34mDownloading (…)00003-of-00003.bin\";:  54%|█████▍    | 3.23G/6.01G [00:23<00:19, 144MB/s]#033[A\u001b[0m\n",
      "\u001b[34mDownloading (…)00003-of-00003.bin\";:  54%|█████▍    | 3.25G/6.01G [00:23<00:20, 132MB/s]#033[A\u001b[0m\n",
      "\u001b[34mDownloading (…)00003-of-00003.bin\";:  54%|█████▍    | 3.27G/6.01G [00:23<00:22, 124MB/s]#033[A\u001b[0m\n",
      "\u001b[34mDownloading (…)00003-of-00003.bin\";:  55%|█████▌    | 3.30G/6.01G [00:24<00:19, 139MB/s]#033[A\u001b[0m\n",
      "\u001b[34mDownloading (…)00003-of-00003.bin\";:  55%|█████▌    | 3.32G/6.01G [00:24<00:20, 130MB/s]#033[A\u001b[0m\n",
      "\u001b[34mDownloading (…)00003-of-00003.bin\";:  56%|█████▌    | 3.34G/6.01G [00:24<00:20, 132MB/s]#033[A\u001b[0m\n",
      "\u001b[34mDownloading (…)00003-of-00003.bin\";:  56%|█████▌    | 3.37G/6.01G [00:24<00:18, 145MB/s]#033[A\u001b[0m\n",
      "\u001b[34mDownloading (…)00003-of-00003.bin\";:  56%|█████▋    | 3.39G/6.01G [00:24<00:19, 132MB/s]#033[A\u001b[0m\n",
      "\u001b[34mDownloading (…)00003-of-00003.bin\";:  57%|█████▋    | 3.41G/6.01G [00:24<00:20, 128MB/s]#033[A\u001b[0m\n",
      "\u001b[34mDownloading (…)00003-of-00003.bin\";:  57%|█████▋    | 3.43G/6.01G [00:25<00:17, 144MB/s]#033[A\u001b[0m\n",
      "\u001b[34mDownloading (…)00003-of-00003.bin\";:  57%|█████▋    | 3.45G/6.01G [00:25<00:22, 112MB/s]#033[A\u001b[0m\n",
      "\u001b[34mDownloading (…)00003-of-00003.bin\";:  58%|█████▊    | 3.48G/6.01G [00:25<00:18, 139MB/s]#033[A\u001b[0m\n",
      "\u001b[34mDownloading (…)00003-of-00003.bin\";:  58%|█████▊    | 3.50G/6.01G [00:25<00:17, 144MB/s]#033[A\u001b[0m\n",
      "\u001b[34mDownloading (…)00003-of-00003.bin\";:  59%|█████▊    | 3.52G/6.01G [00:25<00:18, 132MB/s]#033[A\u001b[0m\n",
      "\u001b[34mDownloading (…)00003-of-00003.bin\";:  59%|█████▉    | 3.54G/6.01G [00:25<00:18, 133MB/s]#033[A\u001b[0m\n",
      "\u001b[34mDownloading (…)00003-of-00003.bin\";:  59%|█████▉    | 3.57G/6.01G [00:26<00:16, 147MB/s]#033[A\u001b[0m\n",
      "\u001b[34mDownloading (…)00003-of-00003.bin\";:  60%|█████▉    | 3.59G/6.01G [00:26<00:18, 134MB/s]#033[A\u001b[0m\n",
      "\u001b[34mDownloading (…)00003-of-00003.bin\";:  60%|██████    | 3.61G/6.01G [00:26<00:19, 126MB/s]#033[A\u001b[0m\n",
      "\u001b[34mDownloading (…)00003-of-00003.bin\";:  61%|██████    | 3.64G/6.01G [00:26<00:16, 146MB/s]#033[A\u001b[0m\n",
      "\u001b[34mDownloading (…)00003-of-00003.bin\";:  61%|██████    | 3.66G/6.01G [00:26<00:17, 134MB/s]#033[A\u001b[0m\n",
      "\u001b[34mDownloading (…)00003-of-00003.bin\";:  61%|██████▏   | 3.68G/6.01G [00:26<00:17, 130MB/s]#033[A\u001b[0m\n",
      "\u001b[34mDownloading (…)00003-of-00003.bin\";:  62%|██████▏   | 3.70G/6.01G [00:27<00:16, 141MB/s]#033[A\u001b[0m\n",
      "\u001b[34mDownloading (…)00003-of-00003.bin\";:  62%|██████▏   | 3.72G/6.01G [00:27<00:17, 130MB/s]#033[A\u001b[0m\n",
      "\u001b[34mDownloading (…)00003-of-00003.bin\";:  62%|██████▏   | 3.74G/6.01G [00:27<00:17, 127MB/s]#033[A\u001b[0m\n",
      "\u001b[34mDownloading (…)00003-of-00003.bin\";:  63%|██████▎   | 3.76G/6.01G [00:27<00:15, 140MB/s]\u001b[0m\n",
      "\u001b[34m#033[A\u001b[0m\n",
      "\u001b[34mDownloading (…)00003-of-00003.bin\";:  63%|██████▎   | 3.79G/6.01G [00:27<00:16, 133MB/s]#033[A\u001b[0m\n",
      "\u001b[34mDownloading (…)00003-of-00003.bin\";:  63%|██████▎   | 3.81G/6.01G [00:27<00:17, 125MB/s]#033[A\u001b[0m\n",
      "\u001b[34mDownloading (…)00003-of-00003.bin\";:  64%|██████▍   | 3.84G/6.01G [00:28<00:14, 145MB/s]#033[A\u001b[0m\n",
      "\u001b[34mDownloading (…)00003-of-00003.bin\";:  64%|██████▍   | 3.86G/6.01G [00:28<00:16, 133MB/s]#033[A\u001b[0m\n",
      "\u001b[34mDownloading (…)00003-of-00003.bin\";:  65%|██████▍   | 3.88G/6.01G [00:28<00:16, 129MB/s]#033[A\u001b[0m\n",
      "\u001b[34mDownloading (…)00003-of-00003.bin\";:  65%|██████▍   | 3.90G/6.01G [00:28<00:14, 144MB/s]#033[A\u001b[0m\n",
      "\u001b[34mDownloading (…)00003-of-00003.bin\";:  65%|██████▌   | 3.92G/6.01G [00:28<00:15, 132MB/s]#033[A\u001b[0m\n",
      "\u001b[34mDownloading (…)00003-of-00003.bin\";:  66%|██████▌   | 3.94G/6.01G [00:28<00:16, 128MB/s]#033[A\u001b[0m\n",
      "\u001b[34mDownloading (…)00003-of-00003.bin\";:  66%|██████▌   | 3.97G/6.01G [00:29<00:14, 142MB/s]#033[A\u001b[0m\n",
      "\u001b[34mDownloading (…)00003-of-00003.bin\";:  67%|██████▋   | 4.00G/6.01G [00:29<00:15, 132MB/s]#033[A\u001b[0m\n",
      "\u001b[34mDownloading (…)00003-of-00003.bin\";:  67%|██████▋   | 4.02G/6.01G [00:29<00:15, 130MB/s]#033[A\u001b[0m\n",
      "\u001b[34mDownloading (…)00003-of-00003.bin\";:  67%|██████▋   | 4.04G/6.01G [00:29<00:13, 141MB/s]#033[A\u001b[0m\n",
      "\u001b[34mDownloading (…)00003-of-00003.bin\";:  68%|██████▊   | 4.06G/6.01G [00:29<00:14, 130MB/s]#033[A\u001b[0m\n",
      "\u001b[34mDownloading (…)00003-of-00003.bin\";:  68%|██████▊   | 4.08G/6.01G [00:29<00:15, 127MB/s]#033[A\u001b[0m\n",
      "\u001b[34mDownloading (…)00003-of-00003.bin\";:  68%|██████▊   | 4.11G/6.01G [00:30<00:13, 141MB/s]#033[A\u001b[0m\n",
      "\u001b[34mDownloading (…)00003-of-00003.bin\";:  69%|██████▉   | 4.13G/6.01G [00:30<00:14, 131MB/s]#033[A\u001b[0m\n",
      "\u001b[34mDownloading (…)00003-of-00003.bin\";:  69%|██████▉   | 4.15G/6.01G [00:30<00:13, 134MB/s]#033[A\u001b[0m\n",
      "\u001b[34mDownloading (…)00003-of-00003.bin\";:  69%|██████▉   | 4.17G/6.01G [00:30<00:12, 146MB/s]#033[A\u001b[0m\n",
      "\u001b[34mDownloading (…)00003-of-00003.bin\";:  70%|██████▉   | 4.19G/6.01G [00:30<00:13, 134MB/s]#033[A\u001b[0m\n",
      "\u001b[34mDownloading (…)00003-of-00003.bin\";:  70%|███████   | 4.22G/6.01G [00:30<00:13, 130MB/s]#033[A\u001b[0m\n",
      "\u001b[34mDownloading (…)00003-of-00003.bin\";:  71%|███████   | 4.24G/6.01G [00:31<00:12, 142MB/s]#033[A\u001b[0m\n",
      "\u001b[34mDownloading (…)00003-of-00003.bin\";:  71%|███████   | 4.26G/6.01G [00:31<00:12, 135MB/s]#033[A\u001b[0m\n",
      "\u001b[34mDownloading (…)00003-of-00003.bin\";:  71%|███████   | 4.28G/6.01G [00:31<00:13, 126MB/s]#033[A\u001b[0m\n",
      "\u001b[34mDownloading (…)00003-of-00003.bin\";:  72%|███████▏  | 4.31G/6.01G [00:31<00:11, 141MB/s]#033[A\u001b[0m\n",
      "\u001b[34mDownloading (…)00003-of-00003.bin\";:  72%|███████▏  | 4.33G/6.01G [00:31<00:12, 131MB/s]#033[A\u001b[0m\n",
      "\u001b[34mDownloading (…)00003-of-00003.bin\";:  72%|███████▏  | 4.35G/6.01G [00:31<00:12, 132MB/s]#033[A\u001b[0m\n",
      "\u001b[34mDownloading (…)00003-of-00003.bin\";:  73%|███████▎  | 4.37G/6.01G [00:32<00:11, 140MB/s]#033[A\u001b[0m\n",
      "\u001b[34mDownloading (…)00003-of-00003.bin\";:  73%|███████▎  | 4.39G/6.01G [00:32<00:12, 133MB/s]#033[A\u001b[0m\n",
      "\u001b[34mDownloading (…)00003-of-00003.bin\";:  74%|███████▎  | 4.41G/6.01G [00:32<00:12, 129MB/s]#033[A\u001b[0m\n",
      "\u001b[34mDownloading (…)00003-of-00003.bin\";:  74%|███████▍  | 4.44G/6.01G [00:32<00:11, 142MB/s]#033[A\u001b[0m\n",
      "\u001b[34mDownloading (…)00003-of-00003.bin\";:  74%|███████▍  | 4.46G/6.01G [00:32<00:11, 135MB/s]#033[A\u001b[0m\n",
      "\u001b[34mDownloading (…)00003-of-00003.bin\";:  75%|███████▍  | 4.48G/6.01G [00:32<00:12, 126MB/s]#033[A\u001b[0m\n",
      "\u001b[34mDownloading (…)00003-of-00003.bin\";:  75%|███████▌  | 4.51G/6.01G [00:33<00:10, 147MB/s]#033[A\u001b[0m\n",
      "\u001b[34mDownloading (…)00003-of-00003.bin\";:  75%|███████▌  | 4.53G/6.01G [00:33<00:10, 134MB/s]#033[A\u001b[0m\n",
      "\u001b[34mDownloading (…)00003-of-00003.bin\";:  76%|███████▌  | 4.55G/6.01G [00:33<00:11, 130MB/s]#033[A\u001b[0m\n",
      "\u001b[34mDownloading (…)00003-of-00003.bin\";:  76%|███████▌  | 4.57G/6.01G [00:33<00:10, 142MB/s]#033[A\u001b[0m\n",
      "\u001b[34mDownloading (…)00003-of-00003.bin\";:  76%|███████▋  | 4.59G/6.01G [00:33<00:10, 133MB/s]#033[A\u001b[0m\n",
      "\u001b[34mDownloading (…)00003-of-00003.bin\";:  77%|███████▋  | 4.61G/6.01G [00:33<00:11, 126MB/s]#033[A\u001b[0m\n",
      "\u001b[34mDownloading (…)00003-of-00003.bin\";:  77%|███████▋  | 4.65G/6.01G [00:34<00:09, 144MB/s]#033[A\u001b[0m\n",
      "\u001b[34mDownloading (…)00003-of-00003.bin\";:  78%|███████▊  | 4.67G/6.01G [00:34<00:10, 133MB/s]#033[A\u001b[0m\n",
      "\u001b[34mDownloading (…)00003-of-00003.bin\";:  78%|███████▊  | 4.69G/6.01G [00:34<00:10, 130MB/s]#033[A\u001b[0m\n",
      "\u001b[34mDownloading (…)00003-of-00003.bin\";:  78%|███████▊  | 4.71G/6.01G [00:34<00:09, 142MB/s]#033[A\u001b[0m\n",
      "\u001b[34mDownloading (…)00003-of-00003.bin\";:  79%|███████▉  | 4.73G/6.01G [00:34<00:09, 135MB/s]#033[A\u001b[0m\n",
      "\u001b[34mDownloading (…)00003-of-00003.bin\";:  79%|███████▉  | 4.75G/6.01G [00:34<00:09, 126MB/s]#033[A\u001b[0m\n",
      "\u001b[34mDownloading (…)00003-of-00003.bin\";:  80%|███████▉  | 4.78G/6.01G [00:35<00:08, 139MB/s]#033[A\u001b[0m\n",
      "\u001b[34mDownloading (…)00003-of-00003.bin\";:  80%|███████▉  | 4.80G/6.01G [00:35<00:12, 97.1MB/s]#033[A\u001b[0m\n",
      "\u001b[34mDownloading (…)00003-of-00003.bin\";:  81%|████████  | 4.85G/6.01G [00:35<00:07, 158MB/s] #033[A\u001b[0m\n",
      "\u001b[34mDownloading (…)00003-of-00003.bin\";:  81%|████████▏ | 4.89G/6.01G [00:35<00:07, 142MB/s]#033[A\u001b[0m\n",
      "\u001b[34mDownloading (…)00003-of-00003.bin\";:  82%|████████▏ | 4.91G/6.01G [00:36<00:07, 148MB/s]#033[A\u001b[0m\n",
      "\u001b[34mDownloading (…)00003-of-00003.bin\";:  82%|████████▏ | 4.93G/6.01G [00:36<00:07, 137MB/s]#033[A\u001b[0m\n",
      "\u001b[34mDownloading (…)00003-of-00003.bin\";:  82%|████████▏ | 4.95G/6.01G [00:36<00:08, 132MB/s]#033[A\u001b[0m\n",
      "\u001b[34mDownloading (…)00003-of-00003.bin\";:  83%|████████▎ | 4.97G/6.01G [00:36<00:07, 139MB/s]\u001b[0m\n",
      "\u001b[34m#033[A\u001b[0m\n",
      "\u001b[34mDownloading (…)00003-of-00003.bin\";:  83%|████████▎ | 4.99G/6.01G [00:36<00:07, 133MB/s]#033[A\u001b[0m\n",
      "\u001b[34mDownloading (…)00003-of-00003.bin\";:  83%|████████▎ | 5.01G/6.01G [00:36<00:07, 125MB/s]#033[A\u001b[0m\n",
      "\u001b[34mDownloading (…)00003-of-00003.bin\";:  84%|████████▍ | 5.03G/6.01G [00:37<00:07, 138MB/s]#033[A\u001b[0m\n",
      "\u001b[34mDownloading (…)00003-of-00003.bin\";:  84%|████████▍ | 5.05G/6.01G [00:37<00:07, 135MB/s]#033[A\u001b[0m\n",
      "\u001b[34mDownloading (…)00003-of-00003.bin\";:  85%|████████▍ | 5.08G/6.01G [00:37<00:07, 126MB/s]#033[A\u001b[0m\n",
      "\u001b[34mDownloading (…)00003-of-00003.bin\";:  85%|████████▍ | 5.10G/6.01G [00:37<00:06, 135MB/s]#033[A\u001b[0m\n",
      "\u001b[34mDownloading (…)00003-of-00003.bin\";:  85%|████████▌ | 5.12G/6.01G [00:37<00:06, 140MB/s]#033[A\u001b[0m\n",
      "\u001b[34mDownloading (…)00003-of-00003.bin\";:  86%|████████▌ | 5.14G/6.01G [00:37<00:06, 129MB/s]#033[A\u001b[0m\n",
      "\u001b[34mDownloading (…)00003-of-00003.bin\";:  86%|████████▌ | 5.16G/6.01G [00:37<00:06, 132MB/s]#033[A\u001b[0m\n",
      "\u001b[34mDownloading (…)00003-of-00003.bin\";:  86%|████████▋ | 5.18G/6.01G [00:38<00:05, 141MB/s]#033[A\u001b[0m\n",
      "\u001b[34mDownloading (…)00003-of-00003.bin\";:  87%|████████▋ | 5.20G/6.01G [00:38<00:06, 134MB/s]#033[A\u001b[0m\n",
      "\u001b[34mDownloading (…)00003-of-00003.bin\";:  87%|████████▋ | 5.22G/6.01G [00:38<00:06, 130MB/s]#033[A\u001b[0m\n",
      "\u001b[34mDownloading (…)00003-of-00003.bin\";:  87%|████████▋ | 5.24G/6.01G [00:38<00:05, 144MB/s]#033[A\u001b[0m\n",
      "\u001b[34mDownloading (…)00003-of-00003.bin\";:  88%|████████▊ | 5.26G/6.01G [00:38<00:05, 135MB/s]#033[A\u001b[0m\n",
      "\u001b[34mDownloading (…)00003-of-00003.bin\";:  88%|████████▊ | 5.28G/6.01G [00:38<00:05, 127MB/s]#033[A\u001b[0m\n",
      "\u001b[34mDownloading (…)00003-of-00003.bin\";:  88%|████████▊ | 5.31G/6.01G [00:39<00:04, 143MB/s]#033[A\u001b[0m\n",
      "\u001b[34mDownloading (…)00003-of-00003.bin\";:  89%|████████▊ | 5.33G/6.01G [00:39<00:05, 136MB/s]#033[A\u001b[0m\n",
      "\u001b[34mDownloading (…)00003-of-00003.bin\";:  89%|████████▉ | 5.35G/6.01G [00:39<00:05, 127MB/s]#033[A\u001b[0m\n",
      "\u001b[34mDownloading (…)00003-of-00003.bin\";:  89%|████████▉ | 5.37G/6.01G [00:39<00:04, 139MB/s]#033[A\u001b[0m\n",
      "\u001b[34mDownloading (…)00003-of-00003.bin\";:  90%|████████▉ | 5.39G/6.01G [00:39<00:04, 136MB/s]#033[A\u001b[0m\n",
      "\u001b[34mDownloading (…)00003-of-00003.bin\";:  90%|█████████ | 5.41G/6.01G [00:39<00:04, 127MB/s]#033[A\u001b[0m\n",
      "\u001b[34mDownloading (…)00003-of-00003.bin\";:  90%|█████████ | 5.43G/6.01G [00:40<00:04, 134MB/s]#033[A\u001b[0m\n",
      "\u001b[34mDownloading (…)00003-of-00003.bin\";:  91%|█████████ | 5.45G/6.01G [00:40<00:04, 135MB/s]#033[A\u001b[0m\n",
      "\u001b[34mDownloading (…)00003-of-00003.bin\";:  91%|█████████ | 5.47G/6.01G [00:40<00:04, 130MB/s]#033[A\u001b[0m\n",
      "\u001b[34mDownloading (…)00003-of-00003.bin\";:  91%|█████████▏| 5.49G/6.01G [00:40<00:03, 132MB/s]#033[A\u001b[0m\n",
      "\u001b[34mDownloading (…)00003-of-00003.bin\";:  92%|█████████▏| 5.52G/6.01G [00:40<00:03, 143MB/s]#033[A\u001b[0m\n",
      "\u001b[34mDownloading (…)00003-of-00003.bin\";:  92%|█████████▏| 5.54G/6.01G [00:40<00:03, 131MB/s]#033[A\u001b[0m\n",
      "\u001b[34mDownloading (…)00003-of-00003.bin\";:  93%|█████████▎| 5.56G/6.01G [00:40<00:03, 131MB/s]#033[A\u001b[0m\n",
      "\u001b[34mDownloading (…)00003-of-00003.bin\";:  93%|█████████▎| 5.58G/6.01G [00:41<00:02, 144MB/s]#033[A\u001b[0m\n",
      "\u001b[34mDownloading (…)00003-of-00003.bin\";:  93%|█████████▎| 5.60G/6.01G [00:41<00:03, 132MB/s]#033[A\u001b[0m\n",
      "\u001b[34mDownloading (…)00003-of-00003.bin\";:  94%|█████████▎| 5.62G/6.01G [00:41<00:03, 124MB/s]#033[A\u001b[0m\n",
      "\u001b[34mDownloading (…)00003-of-00003.bin\";:  94%|█████████▍| 5.65G/6.01G [00:41<00:02, 140MB/s]#033[A\u001b[0m\n",
      "\u001b[34mDownloading (…)00003-of-00003.bin\";:  94%|█████████▍| 5.67G/6.01G [00:41<00:02, 130MB/s]#033[A\u001b[0m\n",
      "\u001b[34mDownloading (…)00003-of-00003.bin\";:  95%|█████████▍| 5.69G/6.01G [00:41<00:02, 131MB/s]#033[A\u001b[0m\n",
      "\u001b[34mDownloading (…)00003-of-00003.bin\";:  95%|█████████▌| 5.71G/6.01G [00:42<00:02, 140MB/s]#033[A\u001b[0m\n",
      "\u001b[34mDownloading (…)00003-of-00003.bin\";:  96%|█████████▌| 5.74G/6.01G [00:42<00:02, 133MB/s]#033[A\u001b[0m\n",
      "\u001b[34mDownloading (…)00003-of-00003.bin\";:  96%|█████████▌| 5.76G/6.01G [00:42<00:01, 130MB/s]#033[A\u001b[0m\n",
      "\u001b[34mDownloading (…)00003-of-00003.bin\";:  96%|█████████▌| 5.78G/6.01G [00:42<00:01, 145MB/s]#033[A\u001b[0m\n",
      "\u001b[34mDownloading (…)00003-of-00003.bin\";:  97%|█████████▋| 5.80G/6.01G [00:42<00:01, 133MB/s]#033[A\u001b[0m\n",
      "\u001b[34mDownloading (…)00003-of-00003.bin\";:  97%|█████████▋| 5.82G/6.01G [00:42<00:01, 125MB/s]#033[A\u001b[0m\n",
      "\u001b[34mDownloading (…)00003-of-00003.bin\";:  97%|█████████▋| 5.85G/6.01G [00:43<00:01, 145MB/s]#033[A\u001b[0m\n",
      "\u001b[34mDownloading (…)00003-of-00003.bin\";:  98%|█████████▊| 5.87G/6.01G [00:43<00:01, 132MB/s]#033[A\u001b[0m\n",
      "\u001b[34mDownloading (…)00003-of-00003.bin\";:  98%|█████████▊| 5.89G/6.01G [00:43<00:00, 130MB/s]#033[A\u001b[0m\n",
      "\u001b[34mDownloading (…)00003-of-00003.bin\";:  98%|█████████▊| 5.91G/6.01G [00:43<00:00, 144MB/s]#033[A\u001b[0m\n",
      "\u001b[34mDownloading (…)00003-of-00003.bin\";:  99%|█████████▉| 5.93G/6.01G [00:43<00:00, 136MB/s]#033[A\u001b[0m\n",
      "\u001b[34mDownloading (…)00003-of-00003.bin\";:  99%|█████████▉| 5.96G/6.01G [00:43<00:00, 127MB/s]#033[A\u001b[0m\n",
      "\u001b[34mDownloading (…)00003-of-00003.bin\";: 100%|█████████▉| 5.99G/6.01G [00:44<00:00, 139MB/s]#033[A\u001b[0m\n",
      "\u001b[34mDownloading (…)00003-of-00003.bin\";: 100%|██████████| 6.01G/6.01G [00:44<00:00, 129MB/s]#033[A\u001b[0m\n",
      "\u001b[34mDownloading (…)00003-of-00003.bin\";: 100%|██████████| 6.01G/6.01G [00:44<00:00, 135MB/s]\u001b[0m\n",
      "\u001b[34mDownloading shards: 100%|██████████| 3/3 [02:41<00:00, 53.61s/it]\u001b[0m\n",
      "\u001b[34mDownloading shards: 100%|██████████| 3/3 [02:41<00:00, 53.84s/it]\u001b[0m\n",
      "\u001b[34mLoading checkpoint shards:   0%|          | 0/3 [00:00<?, ?it/s]\u001b[0m\n",
      "\u001b[34mLoading checkpoint shards:  33%|███▎      | 1/3 [01:51<03:42, 111.00s/it]\u001b[0m\n",
      "\u001b[34mLoading checkpoint shards:  67%|██████▋   | 2/3 [03:05<01:29, 89.75s/it]\u001b[0m\n",
      "\u001b[34mLoading checkpoint shards: 100%|██████████| 3/3 [03:50<00:00, 69.05s/it]\u001b[0m\n",
      "\u001b[34mLoading checkpoint shards: 100%|██████████| 3/3 [03:50<00:00, 76.76s/it]\u001b[0m\n",
      "\u001b[34mDownloading (…)neration_config.json:   0%|          | 0.00/111 [00:00<?, ?B/s]\u001b[0m\n",
      "\u001b[34mDownloading (…)neration_config.json: 100%|██████████| 111/111 [00:00<00:00, 77.6kB/s]\u001b[0m\n",
      "\u001b[34mtrainable params: 6553600 || all params: 12900157440 || trainable%: 0.05080248074863806\u001b[0m\n",
      "\u001b[34m0%|          | 0/2 [00:00<?, ?it/s]\u001b[0m\n",
      "\u001b[34m[2023-07-11 12:45:08.660: W smdistributed/modelparallel/torch/nn/predefined_hooks.py:78] Found unsupported HuggingFace version 4.27.1 for automated tensor parallelism. HuggingFace modules will not be automatically distributed. You can use smp.tp_register_with_module API to register desired modules for tensor parallelism, or directly instantiate an smp.nn.DistributedModule. Supported HuggingFace transformers versions for automated tensor parallelism: ['4.17.0', '4.20.1', '4.21.0']\u001b[0m\n",
      "\u001b[34mINFO:root:Using NamedTuple = typing._NamedTuple instead.\u001b[0m\n",
      "\u001b[34m[2023-07-11 12:45:08.701 algo-1:58 INFO utils.py:28] RULE_JOB_STOP_SIGNAL_FILENAME: None\u001b[0m\n",
      "\u001b[34m[2023-07-11 12:45:08.741 algo-1:58 INFO profiler_config_parser.py:111] User has disabled profiler.\u001b[0m\n",
      "\u001b[34m[2023-07-11 12:45:08.742 algo-1:58 INFO json_config.py:92] Creating hook from json_config at /opt/ml/input/config/debughookconfig.json.\u001b[0m\n",
      "\u001b[34m[2023-07-11 12:45:08.742 algo-1:58 INFO hook.py:206] tensorboard_dir has not been set for the hook. SMDebug will not be exporting tensorboard summaries.\u001b[0m\n",
      "\u001b[34m[2023-07-11 12:45:08.742 algo-1:58 INFO hook.py:259] Saving to /opt/ml/output/tensors\u001b[0m\n",
      "\u001b[34m[2023-07-11 12:45:08.742 algo-1:58 INFO state_store.py:77] The checkpoint config file /opt/ml/input/config/checkpointconfig.json does not exist.\u001b[0m\n",
      "\u001b[34m/opt/conda/lib/python3.9/site-packages/bitsandbytes/autograd/_functions.py:298: UserWarning: MatMul8bitLt: inputs will be cast from torch.float32 to float16 during quantization\n",
      "  warnings.warn(f\"MatMul8bitLt: inputs will be cast from {A.dtype} to float16 during quantization\")\u001b[0m\n",
      "\u001b[34m/opt/conda/lib/python3.9/site-packages/bitsandbytes/autograd/_functions.py:298: UserWarning: MatMul8bitLt: inputs will be cast from torch.bfloat16 to float16 during quantization\n",
      "  warnings.warn(f\"MatMul8bitLt: inputs will be cast from {A.dtype} to float16 during quantization\")\u001b[0m\n",
      "\u001b[34m50%|█████     | 1/2 [00:13<00:13, 13.64s/it]\u001b[0m\n",
      "\u001b[34m100%|██████████| 2/2 [00:24<00:00, 11.89s/it]\u001b[0m\n",
      "\u001b[34m{'train_runtime': 24.3071, 'train_samples_per_second': 0.165, 'train_steps_per_second': 0.082, 'train_loss': 2.1349313259124756, 'epoch': 1.0}\u001b[0m\n",
      "\u001b[34m100%|██████████| 2/2 [00:24<00:00, 11.89s/it]\u001b[0m\n",
      "\u001b[34m100%|██████████| 2/2 [00:24<00:00, 12.15s/it]\u001b[0m\n",
      "\u001b[34mLoading checkpoint shards:   0%|          | 0/3 [00:00<?, ?it/s]\u001b[0m\n",
      "\u001b[34mLoading checkpoint shards:  33%|███▎      | 1/3 [01:13<02:26, 73.10s/it]\u001b[0m\n",
      "\u001b[34mLoading checkpoint shards:  67%|██████▋   | 2/3 [02:26<01:13, 73.14s/it]\u001b[0m\n",
      "\u001b[34mLoading checkpoint shards: 100%|██████████| 3/3 [03:10<00:00, 60.15s/it]\u001b[0m\n",
      "\u001b[34mLoading checkpoint shards: 100%|██████████| 3/3 [03:10<00:00, 63.66s/it]\u001b[0m\n",
      "\u001b[34mDownloading (…)okenizer_config.json:   0%|          | 0.00/210 [00:00<?, ?B/s]\u001b[0m\n",
      "\u001b[34mDownloading (…)okenizer_config.json: 100%|██████████| 210/210 [00:00<00:00, 124kB/s]\u001b[0m\n",
      "\u001b[34mDownloading (…)/main/tokenizer.json:   0%|          | 0.00/1.65M [00:00<?, ?B/s]\u001b[0m\n",
      "\u001b[34mDownloading (…)/main/tokenizer.json: 100%|██████████| 1.65M/1.65M [00:00<00:00, 54.0MB/s]\u001b[0m\n",
      "\u001b[34mDownloading (…)cial_tokens_map.json:   0%|          | 0.00/185 [00:00<?, ?B/s]\u001b[0m\n",
      "\u001b[34mDownloading (…)cial_tokens_map.json: 100%|██████████| 185/185 [00:00<00:00, 115kB/s]\u001b[0m\n",
      "\u001b[34m2023-07-11 12:52:37,313 sagemaker-training-toolkit INFO     Waiting for the process to finish and give a return code.\u001b[0m\n",
      "\u001b[34m2023-07-11 12:52:37,313 sagemaker-training-toolkit INFO     Done waiting for a return code. Received 0 from exiting process.\u001b[0m\n",
      "\u001b[34m2023-07-11 12:52:37,314 sagemaker-training-toolkit INFO     Reporting training SUCCESS\u001b[0m\n",
      "Training seconds: 2553\n",
      "Billable seconds: 2553\n"
     ]
    }
   ],
   "source": [
    "huggingface_estimator.logs()"
   ]
  },
  {
   "cell_type": "markdown",
   "metadata": {
    "jp-MarkdownHeadingCollapsed": true,
    "tags": []
   },
   "source": [
    "# 6. SageMaker Endpoint 배포\n",
    "\n"
   ]
  },
  {
   "cell_type": "markdown",
   "metadata": {
    "tags": []
   },
   "source": [
    "기존의 Estimator 를 통해서 model_data (모델 가중치가 저장된 S3 위치) 구할 수 있지만, 추후에 사용을 위해서 훈련 잡 이름을 가지고 다시 Estimaotr 를 생성하여 배포를 하였습니다."
   ]
  },
  {
   "cell_type": "markdown",
   "metadata": {},
   "source": [
    "## 훈련 잡 이름으로 Estimator 다시 생성"
   ]
  },
  {
   "cell_type": "code",
   "execution_count": 272,
   "metadata": {
    "tags": []
   },
   "outputs": [],
   "source": [
    "training_job_name = 'kullm-polyglot-12-ko-alpaca-data-2023-0-2023-07-11-12-33-03-618'"
   ]
  },
  {
   "cell_type": "code",
   "execution_count": 273,
   "metadata": {
    "tags": []
   },
   "outputs": [
    {
     "name": "stdout",
     "output_type": "stream",
     "text": [
      "\n",
      "2023-07-11 13:17:14 Starting - Preparing the instances for training\n",
      "2023-07-11 13:17:14 Downloading - Downloading input data\n",
      "2023-07-11 13:17:14 Training - Training image download completed. Training in progress.\n",
      "2023-07-11 13:17:14 Uploading - Uploading generated training model\n",
      "2023-07-11 13:17:14 Completed - Training job completed\n"
     ]
    }
   ],
   "source": [
    "\n",
    "\n",
    "from sagemaker.estimator import Estimator\n",
    "attached_estimator = Estimator.attach(training_job_name)\n"
   ]
  },
  {
   "cell_type": "markdown",
   "metadata": {},
   "source": [
    "## SageMaker Model 을 생성하여 모델 배포"
   ]
  },
  {
   "cell_type": "code",
   "execution_count": 274,
   "metadata": {
    "tags": []
   },
   "outputs": [],
   "source": [
    "from sagemaker.huggingface import HuggingFaceModel\n",
    "\n",
    "# create Hugging Face Model Class\n",
    "huggingface_model = HuggingFaceModel(\n",
    "   model_data=attached_estimator.model_data,\n",
    "   #model_data=\"s3://hf-sagemaker-inference/model.tar.gz\",  # Change to your model path\n",
    "   role=role, \n",
    "   transformers_version=\"4.26\", \n",
    "   pytorch_version=\"1.13\", \n",
    "   py_version=\"py39\",\n",
    "   model_server_workers=1\n",
    ")"
   ]
  },
  {
   "cell_type": "markdown",
   "metadata": {},
   "source": [
    "We can now deploy our model using the `deploy()` on our HuggingFace estimator object, passing in our desired number of instances and instance type."
   ]
  },
  {
   "cell_type": "code",
   "execution_count": 275,
   "metadata": {
    "tags": []
   },
   "outputs": [],
   "source": [
    "from datetime import datetime\n",
    "\n",
    "time_stamp = datetime.now().strftime(\"%Y-%m-%d-%H-%M-%S\")\n",
    "endpoint_name = f\"{model_name}-\" + time_stamp"
   ]
  },
  {
   "cell_type": "code",
   "execution_count": 276,
   "metadata": {
    "tags": []
   },
   "outputs": [
    {
     "name": "stdout",
     "output_type": "stream",
     "text": [
      "----------!CPU times: user 252 ms, sys: 26.6 ms, total: 279 ms\n",
      "Wall time: 5min 33s\n"
     ]
    }
   ],
   "source": [
    "%%time\n",
    "\n",
    "# deploy model to SageMaker Inference\n",
    "predictor = huggingface_model.deploy(\n",
    "   endpoint_name= endpoint_name,    \n",
    "   initial_instance_count=1,\n",
    "   instance_type= \"ml.g5.4xlarge\"\n",
    ")"
   ]
  },
  {
   "cell_type": "code",
   "execution_count": 277,
   "metadata": {
    "tags": []
   },
   "outputs": [
    {
     "data": {
      "text/plain": [
       "'kullm-polyglot-12-2023-07-15-02-49-17'"
      ]
     },
     "execution_count": 277,
     "metadata": {},
     "output_type": "execute_result"
    }
   ],
   "source": [
    "endpoint_name"
   ]
  },
  {
   "cell_type": "markdown",
   "metadata": {},
   "source": [
    "# 7. 모델 추론"
   ]
  },
  {
   "cell_type": "markdown",
   "metadata": {
    "tags": []
   },
   "source": [
    "endpoint_name 은 아해 하드 코딩이 된 것은 무시하시고, 위에서 생성한 것을 사용하세요."
   ]
  },
  {
   "cell_type": "code",
   "execution_count": 180,
   "metadata": {
    "tags": []
   },
   "outputs": [],
   "source": [
    "endpoint_name = 'kullm-polyglot-12-2023-07-15-02-49-17'"
   ]
  },
  {
   "cell_type": "code",
   "execution_count": 159,
   "metadata": {
    "tags": []
   },
   "outputs": [],
   "source": [
    "def create_prompt(prompt):\n",
    "\n",
    "    fomatted_sample = {\n",
    "      # \"inputs\": prompter.generate_prompt(q, c),\n",
    "      \"inputs\": prompt,  \n",
    "      \"parameters\": {\n",
    "        \"do_sample\":False, \n",
    "        \"max_new_tokens\":256,\n",
    "        \"temperature\":0.5,\n",
    "        \"top_k\":3,\n",
    "        \"top_p\":0.9,\n",
    "        \"repetition_penalty\":1.1,\n",
    "        \"presence_penalty\":None,\n",
    "        \"eos_token_id\":2,              \n",
    "      }\n",
    "    }\n",
    "    print(\"fomatted_sample: \\n\", fomatted_sample)\n",
    "    \n",
    "    return fomatted_sample\n",
    "\n",
    "def generate_llm(prompt):\n",
    "    # predict\n",
    "    res = predictor.predict(prompt)\n",
    "\n",
    "    print(res[0][\"generated_text\"].split(\"Summary:\")[-1])\n",
    "\n",
    "\n",
    "    "
   ]
  },
  {
   "cell_type": "markdown",
   "metadata": {},
   "source": [
    "## 맥락이 있는 것 을 질문"
   ]
  },
  {
   "cell_type": "code",
   "execution_count": 160,
   "metadata": {
    "tags": []
   },
   "outputs": [],
   "source": [
    "from inference_lib import invoke_inference_DJ,  parse_response, Prompter\n",
    "\n",
    "prompter = Prompter(\"kullm\")"
   ]
  },
  {
   "cell_type": "code",
   "execution_count": 167,
   "metadata": {
    "tags": []
   },
   "outputs": [
    {
     "data": {
      "text/plain": [
       "'아래는 작업을 설명하는 명령어와 추가 컨텍스트를 제공하는 입력이 짝을 이루는 예제입니다.\\n 요청을 적절히 완료하는 답변을 작성하세요.\\n ### 명령어:\\n홈플러스 중계점은 몇시까지 장사해?\\n\\n### 입력:\\n홈플러스 영업시간은 오전 10시 부터 오후 12시까지 입니다.\\n\\n### 답변:\\n'"
      ]
     },
     "execution_count": 167,
     "metadata": {},
     "output_type": "execute_result"
    }
   ],
   "source": [
    "q = \"홈플러스 중계점은 몇시까지 장사해?\"\n",
    "c = \"홈플러스 영업시간은 오전 10시 부터 오후 12시까지 입니다.\"\n",
    "\n",
    "\n",
    "# prompt_w_c = f\"아래는 작업을 설명하는 명령어와 추가 컨텍스트를 제공하는 입력이 짝을 이루는 예제입니다.\\n 요청을 적절히 완료하는 답변을 작성하세요.\\n### 명령어: {q}\\n\\n### 입력: {c}\\n\\n### 답변:\" if c else f\"### 명령어: {q}\\n\\n### 답변:\" \n",
    "prompt_w_c = prompter.generate_prompt(q, c)\n",
    "\n",
    "prompt_w_c"
   ]
  },
  {
   "cell_type": "code",
   "execution_count": 168,
   "metadata": {
    "tags": []
   },
   "outputs": [
    {
     "name": "stdout",
     "output_type": "stream",
     "text": [
      "fomatted_sample: \n",
      " {'inputs': '아래는 작업을 설명하는 명령어와 추가 컨텍스트를 제공하는 입력이 짝을 이루는 예제입니다.\\n 요청을 적절히 완료하는 답변을 작성하세요.\\n ### 명령어:\\n홈플러스 중계점은 몇시까지 장사해?\\n\\n### 입력:\\n홈플러스 영업시간은 오전 10시 부터 오후 12시까지 입니다.\\n\\n### 답변:\\n', 'parameters': {'do_sample': False, 'max_new_tokens': 256, 'temperature': 0.5, 'top_k': 3, 'top_p': 0.9, 'repetition_penalty': 1.1, 'presence_penalty': None, 'eos_token_id': 2}}\n"
     ]
    }
   ],
   "source": [
    "fomatted_prompt = create_prompt(prompt_w_c)"
   ]
  },
  {
   "cell_type": "code",
   "execution_count": 169,
   "metadata": {
    "tags": []
   },
   "outputs": [
    {
     "data": {
      "text/plain": [
       "'아래는 작업을 설명하는 명령어와 추가 컨텍스트를 제공하는 입력이 짝을 이루는 예제입니다.\\n 요청을 적절히 완료하는 답변을 작성하세요.\\n ### 명령어:\\n홈플러스 중계점은 몇시까지 장사해?\\n\\n### 입력:\\n홈플러스 영업시간은 오전 10시 부터 오후 12시까지 입니다.\\n\\n### 답변:\\n홈플러스 중계점의 영업 시간은 오전 10시부터 오후 12시까지입니다.'"
      ]
     },
     "execution_count": 169,
     "metadata": {},
     "output_type": "execute_result"
    }
   ],
   "source": [
    "res = invoke_inference_DJ(endpoint_name, fomatted_prompt)\n",
    "parse_response(res)"
   ]
  },
  {
   "cell_type": "markdown",
   "metadata": {},
   "source": [
    "## 맥락이 없는 것을 질문"
   ]
  },
  {
   "cell_type": "code",
   "execution_count": 179,
   "metadata": {
    "tags": []
   },
   "outputs": [
    {
     "data": {
      "text/plain": [
       "'아래는 작업을 설명하는 명령어와 추가 컨텍스트를 제공하는 입력이 짝을 이루는 예제입니다.\\n 요청을 적절히 완료하는 답변을 작성하세요.\\n맥락에서 답변을 얻지 못하면 정보가 없다고 하세요.\\n### 명령어: 홈플러스 중계점은 몇시까지 장사해?\\n\\n### 입력: 홈플러스 중계점은 노원구에 있습니다.\\n\\n### 답변:'"
      ]
     },
     "execution_count": 179,
     "metadata": {},
     "output_type": "execute_result"
    }
   ],
   "source": [
    "q = \"홈플러스 중계점은 몇시까지 장사해?\"\n",
    "c = \"홈플러스 중계점은 노원구에 있습니다.\"\n",
    "\n",
    "\n",
    "prompt_w_c = f\"아래는 작업을 설명하는 명령어와 추가 컨텍스트를 제공하는 입력이 짝을 이루는 예제입니다.\\n 요청을 적절히 완료하는 답변을 작성하세요.\\n\\\n",
    "맥락에서 답변을 얻지 못하면 정보가 없다고 하세요.\\n\\\n",
    "### 명령어: {q}\\n\\n### 입력: {c}\\n\\n### 답변:\" if c else f\"### 명령어: {q}\\n\\n### 답변:\" \n",
    "# prompt_w_c = prompter.generate_prompt(q, c)\n",
    "\n",
    "prompt_w_c"
   ]
  },
  {
   "cell_type": "code",
   "execution_count": 178,
   "metadata": {
    "tags": []
   },
   "outputs": [
    {
     "name": "stdout",
     "output_type": "stream",
     "text": [
      "fomatted_sample: \n",
      " {'inputs': '아래는 작업을 설명하는 명령어와 추가 컨텍스트를 제공하는 입력이 짝을 이루는 예제입니다.\\n 요청을 적절히 완료하는 답변을 작성하세요.\\n맥락에서 답변을 얻지 못하면 정보가 없다고 하세요.\\n### 명령어: 홈플러스 중계점은 몇시까지 장사해?\\n\\n### 입력: 홈플러스 중계점은 노원구에 있습니다.\\n\\n### 답변:', 'parameters': {'do_sample': False, 'max_new_tokens': 256, 'temperature': 0.5, 'top_k': 3, 'top_p': 0.9, 'repetition_penalty': 1.1, 'presence_penalty': None, 'eos_token_id': 2}}\n"
     ]
    },
    {
     "data": {
      "text/plain": [
       "'아래는 작업을 설명하는 명령어와 추가 컨텍스트를 제공하는 입력이 짝을 이루는 예제입니다.\\n 요청을 적절히 완료하는 답변을 작성하세요.\\n맥락에서 답변을 얻지 못하면 정보가 없다고 하세요.\\n### 명령어: 홈플러스 중계점은 몇시까지 장사해?\\n\\n### 입력: 홈플러스 중계점은 노원구에 있습니다.\\n\\n### 답변:\\n죄송합니다만, 저는 AI 언어 모델이기 때문에 실시간 위치 데이터나 날씨 업데이트에 액세스할 수 없습니다. 제 답변은 인터넷의 정보를 기반으로 한 것이며, 지역 및 시간에 따라 달라질 수 있으므로 정확한 답변을 드릴 수 없습니다.'"
      ]
     },
     "execution_count": 178,
     "metadata": {},
     "output_type": "execute_result"
    }
   ],
   "source": [
    "fomatted_prompt = create_prompt(prompt_w_c)\n",
    "res = invoke_inference_DJ(endpoint_name, fomatted_prompt)\n",
    "parse_response(res)"
   ]
  },
  {
   "cell_type": "markdown",
   "metadata": {
    "tags": []
   },
   "source": [
    "## 테스트 데이터 셋으로 추론"
   ]
  },
  {
   "cell_type": "code",
   "execution_count": 166,
   "metadata": {
    "tags": []
   },
   "outputs": [
    {
     "data": {
      "text/plain": [
       "[{'instruction': '주어진 단어의 순위를 매기고 가장 강한 단어부터 가장 약한 단어까지 순서대로 나열합니다.',\n",
       "  'input': '들어올리기, 당기기, 밀기',\n",
       "  'output': '들어올리기, 밀기, 당기기 순으로 단어의 순위를 매긴다면 들어올리기가 가장 강한 단어이며, 밀기가 가장 약한 단어가 됩니다.'},\n",
       " {'instruction': '주어진 입력에 따라 사람을 설명하는 형용사 두 개를 생성하세요.',\n",
       "  'input': '기발한',\n",
       "  'output': '기발한 사람은 창의적이면서도 흥미로운 특성을 지니고 있습니다.'},\n",
       " {'instruction': '주어진 지침에 따라 범죄 유형을 분류하세요.',\n",
       "  'input': '피고가 구내에 불법적으로 침입했습니다.',\n",
       "  'output': '해당 사건은 침입죄에 해당됩니다.'},\n",
       " {'instruction': '다양한 데이터 저장 방법을 설명하세요.',\n",
       "  'input': '',\n",
       "  'output': '다양한 데이터 저장 방법에는 하드 디스크, USB 드라이브, 클라우드 서버, 데이터베이스 등이 있습니다.'},\n",
       " {'instruction': '해질녘 도시의 한 장면을 묘사하십시오.',\n",
       "  'input': '',\n",
       "  'output': '도시는 적막하고, 일부 건물에서는 주말 불이 켜져있습니다. 몇몇 차들이 도로를 지나가며 시내 소음을 내고 있습니다.'}]"
      ]
     },
     "execution_count": 166,
     "metadata": {},
     "output_type": "execute_result"
    }
   ],
   "source": [
    "test_dataset = KoAlpacaDataset.test_dataset\n",
    "len(test_dataset)\n",
    "test_dataset[0:5]\n"
   ]
  },
  {
   "cell_type": "code",
   "execution_count": 170,
   "metadata": {
    "tags": []
   },
   "outputs": [
    {
     "name": "stdout",
     "output_type": "stream",
     "text": [
      "fomatted_sample: \n",
      " {'inputs': '아래는 작업을 설명하는 명령어와 추가 컨텍스트를 제공하는 입력이 짝을 이루는 예제입니다.\\n 요청을 적절히 완료하는 답변을 작성하세요.\\n ### 명령어:\\n주어진 지침에 따라 범죄 유형을 분류하세요\\n\\n### 입력:\\n피고가 구내에 불법적으로 침입했습니다.\\n\\n### 답변:\\n', 'parameters': {'do_sample': False, 'max_new_tokens': 256, 'temperature': 0.5, 'top_k': 3, 'top_p': 0.9, 'repetition_penalty': 1.1, 'presence_penalty': None, 'eos_token_id': 2}}\n"
     ]
    },
    {
     "data": {
      "text/plain": [
       "'[{\"generated_text\":\"아래는 작업을 설명하는 명령어와 추가 컨텍스트를 제공하는 입력이 짝을 이루는 예제입니다.\\\\n 요청을 적절히 완료하는 답변을 작성하세요.\\\\n ### 명령어:\\\\n주어진 지침에 따라 범죄 유형을 분류하세요\\\\n\\\\n### 입력:\\\\n피고가 구내에 불법적으로 침입했습니다.\\\\n\\\\n### 답변:\\\\n불법 침입은 형법의 범죄 유형 중 하나입니다.\"}]'"
      ]
     },
     "execution_count": 170,
     "metadata": {},
     "output_type": "execute_result"
    }
   ],
   "source": [
    "\n",
    "q = \"주어진 지침에 따라 범죄 유형을 분류하세요\"    \n",
    "c = \"피고가 구내에 불법적으로 침입했습니다.\"\n",
    "prompt_w_c = prompter.generate_prompt(q, c)\n",
    "fomatted_prompt = create_prompt(prompt_w_c)\n",
    "\n",
    "invoke_inference_DJ(endpoint_name, fomatted_prompt)"
   ]
  },
  {
   "cell_type": "markdown",
   "metadata": {},
   "source": [
    "# 8. 엔드포인트 삭제"
   ]
  },
  {
   "cell_type": "code",
   "execution_count": 97,
   "metadata": {},
   "outputs": [
    {
     "name": "stderr",
     "output_type": "stream",
     "text": [
      "INFO:sagemaker:Deleting model with name: huggingface-pytorch-inference-2023-07-11-13-59-10-188\n",
      "INFO:sagemaker:Deleting endpoint configuration with name: kullm-polyglot-12-2023-07-11-13-58-58\n",
      "INFO:sagemaker:Deleting endpoint with name: kullm-polyglot-12-2023-07-11-13-58-58\n"
     ]
    }
   ],
   "source": [
    "# predictor.delete_model()\n",
    "# predictor.delete_endpoint()"
   ]
  },
  {
   "cell_type": "markdown",
   "metadata": {},
   "source": [
    "# A. Reference\n",
    "- LLM 모델에 필요한 template 파일을 정의하는 코드\n",
    "    - https://dacon.io/en/codeshare/8449\n",
    "```\n",
    "# GPT, LLama, Alpaca 등 LLM 모델에 필요한 template 파일을 정의하는 코드입니다.\n",
    "# 아래 코드는 Alpaca-Lora가 인식하는 template의 형식입니다. 아래처럼 진행해서, 마찬가지로 json 파일로 저장해주시면 됩니다.\n",
    "\n",
    "prompt_template = {\n",
    "    \"description\" : \"Alpaca-Lora Custom Template\",\n",
    "    \"prompt_input\" : (\n",
    "        \"Below is an instruction that describes a task, Paired with an input that provides further context.\\n\"\n",
    "        \"Writhe a response that appropriately completes the request.\\n\"\n",
    "        \"### Instruction : \\n{instruction}\\n\\n### Input : \\n{input}\\n\\n### Response:\\n\"\n",
    "    ),\n",
    "    \"prompt_no_input\" : (\n",
    "        \"Below is an instruction that describes a task.\\n\"\n",
    "        \"Writhe a response that appropriately completes the request.\\n\"\n",
    "        \"### Instruction : \\n{instruction}\\n\\n### Input : \\n{input}\\n\\n### Response:\\n\"\n",
    "    ),\n",
    "    \"response_split\" : \"### Response:\"\n",
    "}\n",
    "```"
   ]
  },
  {
   "cell_type": "code",
   "execution_count": null,
   "metadata": {},
   "outputs": [],
   "source": []
  }
 ],
 "metadata": {
  "availableInstances": [
   {
    "_defaultOrder": 0,
    "_isFastLaunch": true,
    "category": "General purpose",
    "gpuNum": 0,
    "hideHardwareSpecs": false,
    "memoryGiB": 4,
    "name": "ml.t3.medium",
    "vcpuNum": 2
   },
   {
    "_defaultOrder": 1,
    "_isFastLaunch": false,
    "category": "General purpose",
    "gpuNum": 0,
    "hideHardwareSpecs": false,
    "memoryGiB": 8,
    "name": "ml.t3.large",
    "vcpuNum": 2
   },
   {
    "_defaultOrder": 2,
    "_isFastLaunch": false,
    "category": "General purpose",
    "gpuNum": 0,
    "hideHardwareSpecs": false,
    "memoryGiB": 16,
    "name": "ml.t3.xlarge",
    "vcpuNum": 4
   },
   {
    "_defaultOrder": 3,
    "_isFastLaunch": false,
    "category": "General purpose",
    "gpuNum": 0,
    "hideHardwareSpecs": false,
    "memoryGiB": 32,
    "name": "ml.t3.2xlarge",
    "vcpuNum": 8
   },
   {
    "_defaultOrder": 4,
    "_isFastLaunch": true,
    "category": "General purpose",
    "gpuNum": 0,
    "hideHardwareSpecs": false,
    "memoryGiB": 8,
    "name": "ml.m5.large",
    "vcpuNum": 2
   },
   {
    "_defaultOrder": 5,
    "_isFastLaunch": false,
    "category": "General purpose",
    "gpuNum": 0,
    "hideHardwareSpecs": false,
    "memoryGiB": 16,
    "name": "ml.m5.xlarge",
    "vcpuNum": 4
   },
   {
    "_defaultOrder": 6,
    "_isFastLaunch": false,
    "category": "General purpose",
    "gpuNum": 0,
    "hideHardwareSpecs": false,
    "memoryGiB": 32,
    "name": "ml.m5.2xlarge",
    "vcpuNum": 8
   },
   {
    "_defaultOrder": 7,
    "_isFastLaunch": false,
    "category": "General purpose",
    "gpuNum": 0,
    "hideHardwareSpecs": false,
    "memoryGiB": 64,
    "name": "ml.m5.4xlarge",
    "vcpuNum": 16
   },
   {
    "_defaultOrder": 8,
    "_isFastLaunch": false,
    "category": "General purpose",
    "gpuNum": 0,
    "hideHardwareSpecs": false,
    "memoryGiB": 128,
    "name": "ml.m5.8xlarge",
    "vcpuNum": 32
   },
   {
    "_defaultOrder": 9,
    "_isFastLaunch": false,
    "category": "General purpose",
    "gpuNum": 0,
    "hideHardwareSpecs": false,
    "memoryGiB": 192,
    "name": "ml.m5.12xlarge",
    "vcpuNum": 48
   },
   {
    "_defaultOrder": 10,
    "_isFastLaunch": false,
    "category": "General purpose",
    "gpuNum": 0,
    "hideHardwareSpecs": false,
    "memoryGiB": 256,
    "name": "ml.m5.16xlarge",
    "vcpuNum": 64
   },
   {
    "_defaultOrder": 11,
    "_isFastLaunch": false,
    "category": "General purpose",
    "gpuNum": 0,
    "hideHardwareSpecs": false,
    "memoryGiB": 384,
    "name": "ml.m5.24xlarge",
    "vcpuNum": 96
   },
   {
    "_defaultOrder": 12,
    "_isFastLaunch": false,
    "category": "General purpose",
    "gpuNum": 0,
    "hideHardwareSpecs": false,
    "memoryGiB": 8,
    "name": "ml.m5d.large",
    "vcpuNum": 2
   },
   {
    "_defaultOrder": 13,
    "_isFastLaunch": false,
    "category": "General purpose",
    "gpuNum": 0,
    "hideHardwareSpecs": false,
    "memoryGiB": 16,
    "name": "ml.m5d.xlarge",
    "vcpuNum": 4
   },
   {
    "_defaultOrder": 14,
    "_isFastLaunch": false,
    "category": "General purpose",
    "gpuNum": 0,
    "hideHardwareSpecs": false,
    "memoryGiB": 32,
    "name": "ml.m5d.2xlarge",
    "vcpuNum": 8
   },
   {
    "_defaultOrder": 15,
    "_isFastLaunch": false,
    "category": "General purpose",
    "gpuNum": 0,
    "hideHardwareSpecs": false,
    "memoryGiB": 64,
    "name": "ml.m5d.4xlarge",
    "vcpuNum": 16
   },
   {
    "_defaultOrder": 16,
    "_isFastLaunch": false,
    "category": "General purpose",
    "gpuNum": 0,
    "hideHardwareSpecs": false,
    "memoryGiB": 128,
    "name": "ml.m5d.8xlarge",
    "vcpuNum": 32
   },
   {
    "_defaultOrder": 17,
    "_isFastLaunch": false,
    "category": "General purpose",
    "gpuNum": 0,
    "hideHardwareSpecs": false,
    "memoryGiB": 192,
    "name": "ml.m5d.12xlarge",
    "vcpuNum": 48
   },
   {
    "_defaultOrder": 18,
    "_isFastLaunch": false,
    "category": "General purpose",
    "gpuNum": 0,
    "hideHardwareSpecs": false,
    "memoryGiB": 256,
    "name": "ml.m5d.16xlarge",
    "vcpuNum": 64
   },
   {
    "_defaultOrder": 19,
    "_isFastLaunch": false,
    "category": "General purpose",
    "gpuNum": 0,
    "hideHardwareSpecs": false,
    "memoryGiB": 384,
    "name": "ml.m5d.24xlarge",
    "vcpuNum": 96
   },
   {
    "_defaultOrder": 20,
    "_isFastLaunch": false,
    "category": "General purpose",
    "gpuNum": 0,
    "hideHardwareSpecs": true,
    "memoryGiB": 0,
    "name": "ml.geospatial.interactive",
    "supportedImageNames": [
     "sagemaker-geospatial-v1-0"
    ],
    "vcpuNum": 0
   },
   {
    "_defaultOrder": 21,
    "_isFastLaunch": true,
    "category": "Compute optimized",
    "gpuNum": 0,
    "hideHardwareSpecs": false,
    "memoryGiB": 4,
    "name": "ml.c5.large",
    "vcpuNum": 2
   },
   {
    "_defaultOrder": 22,
    "_isFastLaunch": false,
    "category": "Compute optimized",
    "gpuNum": 0,
    "hideHardwareSpecs": false,
    "memoryGiB": 8,
    "name": "ml.c5.xlarge",
    "vcpuNum": 4
   },
   {
    "_defaultOrder": 23,
    "_isFastLaunch": false,
    "category": "Compute optimized",
    "gpuNum": 0,
    "hideHardwareSpecs": false,
    "memoryGiB": 16,
    "name": "ml.c5.2xlarge",
    "vcpuNum": 8
   },
   {
    "_defaultOrder": 24,
    "_isFastLaunch": false,
    "category": "Compute optimized",
    "gpuNum": 0,
    "hideHardwareSpecs": false,
    "memoryGiB": 32,
    "name": "ml.c5.4xlarge",
    "vcpuNum": 16
   },
   {
    "_defaultOrder": 25,
    "_isFastLaunch": false,
    "category": "Compute optimized",
    "gpuNum": 0,
    "hideHardwareSpecs": false,
    "memoryGiB": 72,
    "name": "ml.c5.9xlarge",
    "vcpuNum": 36
   },
   {
    "_defaultOrder": 26,
    "_isFastLaunch": false,
    "category": "Compute optimized",
    "gpuNum": 0,
    "hideHardwareSpecs": false,
    "memoryGiB": 96,
    "name": "ml.c5.12xlarge",
    "vcpuNum": 48
   },
   {
    "_defaultOrder": 27,
    "_isFastLaunch": false,
    "category": "Compute optimized",
    "gpuNum": 0,
    "hideHardwareSpecs": false,
    "memoryGiB": 144,
    "name": "ml.c5.18xlarge",
    "vcpuNum": 72
   },
   {
    "_defaultOrder": 28,
    "_isFastLaunch": false,
    "category": "Compute optimized",
    "gpuNum": 0,
    "hideHardwareSpecs": false,
    "memoryGiB": 192,
    "name": "ml.c5.24xlarge",
    "vcpuNum": 96
   },
   {
    "_defaultOrder": 29,
    "_isFastLaunch": true,
    "category": "Accelerated computing",
    "gpuNum": 1,
    "hideHardwareSpecs": false,
    "memoryGiB": 16,
    "name": "ml.g4dn.xlarge",
    "vcpuNum": 4
   },
   {
    "_defaultOrder": 30,
    "_isFastLaunch": false,
    "category": "Accelerated computing",
    "gpuNum": 1,
    "hideHardwareSpecs": false,
    "memoryGiB": 32,
    "name": "ml.g4dn.2xlarge",
    "vcpuNum": 8
   },
   {
    "_defaultOrder": 31,
    "_isFastLaunch": false,
    "category": "Accelerated computing",
    "gpuNum": 1,
    "hideHardwareSpecs": false,
    "memoryGiB": 64,
    "name": "ml.g4dn.4xlarge",
    "vcpuNum": 16
   },
   {
    "_defaultOrder": 32,
    "_isFastLaunch": false,
    "category": "Accelerated computing",
    "gpuNum": 1,
    "hideHardwareSpecs": false,
    "memoryGiB": 128,
    "name": "ml.g4dn.8xlarge",
    "vcpuNum": 32
   },
   {
    "_defaultOrder": 33,
    "_isFastLaunch": false,
    "category": "Accelerated computing",
    "gpuNum": 4,
    "hideHardwareSpecs": false,
    "memoryGiB": 192,
    "name": "ml.g4dn.12xlarge",
    "vcpuNum": 48
   },
   {
    "_defaultOrder": 34,
    "_isFastLaunch": false,
    "category": "Accelerated computing",
    "gpuNum": 1,
    "hideHardwareSpecs": false,
    "memoryGiB": 256,
    "name": "ml.g4dn.16xlarge",
    "vcpuNum": 64
   },
   {
    "_defaultOrder": 35,
    "_isFastLaunch": false,
    "category": "Accelerated computing",
    "gpuNum": 1,
    "hideHardwareSpecs": false,
    "memoryGiB": 61,
    "name": "ml.p3.2xlarge",
    "vcpuNum": 8
   },
   {
    "_defaultOrder": 36,
    "_isFastLaunch": false,
    "category": "Accelerated computing",
    "gpuNum": 4,
    "hideHardwareSpecs": false,
    "memoryGiB": 244,
    "name": "ml.p3.8xlarge",
    "vcpuNum": 32
   },
   {
    "_defaultOrder": 37,
    "_isFastLaunch": false,
    "category": "Accelerated computing",
    "gpuNum": 8,
    "hideHardwareSpecs": false,
    "memoryGiB": 488,
    "name": "ml.p3.16xlarge",
    "vcpuNum": 64
   },
   {
    "_defaultOrder": 38,
    "_isFastLaunch": false,
    "category": "Accelerated computing",
    "gpuNum": 8,
    "hideHardwareSpecs": false,
    "memoryGiB": 768,
    "name": "ml.p3dn.24xlarge",
    "vcpuNum": 96
   },
   {
    "_defaultOrder": 39,
    "_isFastLaunch": false,
    "category": "Memory Optimized",
    "gpuNum": 0,
    "hideHardwareSpecs": false,
    "memoryGiB": 16,
    "name": "ml.r5.large",
    "vcpuNum": 2
   },
   {
    "_defaultOrder": 40,
    "_isFastLaunch": false,
    "category": "Memory Optimized",
    "gpuNum": 0,
    "hideHardwareSpecs": false,
    "memoryGiB": 32,
    "name": "ml.r5.xlarge",
    "vcpuNum": 4
   },
   {
    "_defaultOrder": 41,
    "_isFastLaunch": false,
    "category": "Memory Optimized",
    "gpuNum": 0,
    "hideHardwareSpecs": false,
    "memoryGiB": 64,
    "name": "ml.r5.2xlarge",
    "vcpuNum": 8
   },
   {
    "_defaultOrder": 42,
    "_isFastLaunch": false,
    "category": "Memory Optimized",
    "gpuNum": 0,
    "hideHardwareSpecs": false,
    "memoryGiB": 128,
    "name": "ml.r5.4xlarge",
    "vcpuNum": 16
   },
   {
    "_defaultOrder": 43,
    "_isFastLaunch": false,
    "category": "Memory Optimized",
    "gpuNum": 0,
    "hideHardwareSpecs": false,
    "memoryGiB": 256,
    "name": "ml.r5.8xlarge",
    "vcpuNum": 32
   },
   {
    "_defaultOrder": 44,
    "_isFastLaunch": false,
    "category": "Memory Optimized",
    "gpuNum": 0,
    "hideHardwareSpecs": false,
    "memoryGiB": 384,
    "name": "ml.r5.12xlarge",
    "vcpuNum": 48
   },
   {
    "_defaultOrder": 45,
    "_isFastLaunch": false,
    "category": "Memory Optimized",
    "gpuNum": 0,
    "hideHardwareSpecs": false,
    "memoryGiB": 512,
    "name": "ml.r5.16xlarge",
    "vcpuNum": 64
   },
   {
    "_defaultOrder": 46,
    "_isFastLaunch": false,
    "category": "Memory Optimized",
    "gpuNum": 0,
    "hideHardwareSpecs": false,
    "memoryGiB": 768,
    "name": "ml.r5.24xlarge",
    "vcpuNum": 96
   },
   {
    "_defaultOrder": 47,
    "_isFastLaunch": false,
    "category": "Accelerated computing",
    "gpuNum": 1,
    "hideHardwareSpecs": false,
    "memoryGiB": 16,
    "name": "ml.g5.xlarge",
    "vcpuNum": 4
   },
   {
    "_defaultOrder": 48,
    "_isFastLaunch": false,
    "category": "Accelerated computing",
    "gpuNum": 1,
    "hideHardwareSpecs": false,
    "memoryGiB": 32,
    "name": "ml.g5.2xlarge",
    "vcpuNum": 8
   },
   {
    "_defaultOrder": 49,
    "_isFastLaunch": false,
    "category": "Accelerated computing",
    "gpuNum": 1,
    "hideHardwareSpecs": false,
    "memoryGiB": 64,
    "name": "ml.g5.4xlarge",
    "vcpuNum": 16
   },
   {
    "_defaultOrder": 50,
    "_isFastLaunch": false,
    "category": "Accelerated computing",
    "gpuNum": 1,
    "hideHardwareSpecs": false,
    "memoryGiB": 128,
    "name": "ml.g5.8xlarge",
    "vcpuNum": 32
   },
   {
    "_defaultOrder": 51,
    "_isFastLaunch": false,
    "category": "Accelerated computing",
    "gpuNum": 1,
    "hideHardwareSpecs": false,
    "memoryGiB": 256,
    "name": "ml.g5.16xlarge",
    "vcpuNum": 64
   },
   {
    "_defaultOrder": 52,
    "_isFastLaunch": false,
    "category": "Accelerated computing",
    "gpuNum": 4,
    "hideHardwareSpecs": false,
    "memoryGiB": 192,
    "name": "ml.g5.12xlarge",
    "vcpuNum": 48
   },
   {
    "_defaultOrder": 53,
    "_isFastLaunch": false,
    "category": "Accelerated computing",
    "gpuNum": 4,
    "hideHardwareSpecs": false,
    "memoryGiB": 384,
    "name": "ml.g5.24xlarge",
    "vcpuNum": 96
   },
   {
    "_defaultOrder": 54,
    "_isFastLaunch": false,
    "category": "Accelerated computing",
    "gpuNum": 8,
    "hideHardwareSpecs": false,
    "memoryGiB": 768,
    "name": "ml.g5.48xlarge",
    "vcpuNum": 192
   }
  ],
  "instance_type": "ml.m5.2xlarge",
  "kernelspec": {
   "display_name": "Python 3 (PyTorch 1.13 Python 3.9 CPU Optimized)",
   "language": "python",
   "name": "python3__SAGEMAKER_INTERNAL__arn:aws:sagemaker:us-east-1:081325390199:image/pytorch-1.13-cpu-py39"
  },
  "language_info": {
   "codemirror_mode": {
    "name": "ipython",
    "version": 3
   },
   "file_extension": ".py",
   "mimetype": "text/x-python",
   "name": "python",
   "nbconvert_exporter": "python",
   "pygments_lexer": "ipython3",
   "version": "3.9.16"
  },
  "vscode": {
   "interpreter": {
    "hash": "2d58e898dde0263bc564c6968b04150abacfd33eed9b19aaa8e45c040360e146"
   }
  }
 },
 "nbformat": 4,
 "nbformat_minor": 4
}
